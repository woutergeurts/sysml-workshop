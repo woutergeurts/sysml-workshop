{
 "cells": [
  {
   "cell_type": "markdown",
   "id": "d4bdacc0",
   "metadata": {},
   "source": [
    "## Packages, Blocks en Part Properties: part def  & part\n",
    "Ieder modelelement dient in een package te zitten. Een 'vrij' modelelement kan niet. De package is de container voor een verzameling modelelementen.\n",
    "\n",
    "Gegeven het volgende SysML 1.x block definition diagram. Dit block definition diagram is eigendom ('owned by') de package *Verzameling Modelelementen*. Dit geldt ook voor de modelelementen getoond op de diagram. \n",
    "\n",
    "![bdd](blockdefinitiondgm.png \"SysML 1.x\")\n",
    "\n",
    "Vertaald naar SysML v2:\n"
   ]
  },
  {
   "cell_type": "code",
   "execution_count": 7,
   "id": "16054ca9",
   "metadata": {},
   "outputs": [
    {
     "data": {
      "text/plain": [
       "Package Verzameling_Modelelementen (f02d576e-2ced-443d-b569-ffd845d8ba5a)\n"
      ]
     },
     "execution_count": 7,
     "metadata": {},
     "output_type": "execute_result"
    }
   ],
   "source": [
    "package Verzameling_Modelelementen {\n",
    "    \n",
    "    // in de 'talige' SysML hebben definities en declaraties geen stricte volgorde\n",
    "    \n",
    "    part def ElementType1 { \n",
    "    }\n",
    "\n",
    "    part def ElementType2 {\n",
    "    }\n",
    "    \n",
    "    // hier wordt de associatie uit SysML 1.x gedefinieerd\n",
    "    // connection definition\n",
    "    connection def raakvlak {\n",
    "        end: ElementType1[0..1];\n",
    "        end: ElementType2[1..*];\n",
    "        \n",
    "        item conn_type;\n",
    "    }\n",
    "    \n",
    "    \n",
    "    part def ElementType0 { \n",
    "        // dit is de assembly van instance1 + instance2\n",
    "        part instance1: ElementType1;\n",
    "        part instance2: ElementType2;\n",
    "        \n",
    "        // Dit is de instantiatie van de de associatie: de connection\n",
    "        // Deze relatie kun je alleen in een ibd gebruiken om part properties aan elkaar\n",
    "        // te knopen. Nu tonen we het in hetzelfde diagram.\n",
    "        connection: raakvlak connect instance1 to instance2;\n",
    "    }\n",
    "}"
   ]
  },
  {
   "cell_type": "code",
   "execution_count": 8,
   "id": "f0f4bd92",
   "metadata": {},
   "outputs": [
    {
     "data": {
      "image/svg+xml": [
       "<?xml version=\"1.0\" encoding=\"UTF-8\" standalone=\"no\"?><svg xmlns=\"http://www.w3.org/2000/svg\" xmlns:xlink=\"http://www.w3.org/1999/xlink\" contentScriptType=\"application/ecmascript\" contentStyleType=\"text/css\" height=\"433px\" preserveAspectRatio=\"none\" style=\"width:513px;height:433px;\" version=\"1.1\" viewBox=\"0 0 513 433\" width=\"513px\" zoomAndPan=\"magnify\"><defs/><g><!--MD5=[fbc87193dbaf4d95561dea2c320d4a47]\n",
       "cluster E1--><a href=\"psysml:f02d576e-2ced-443d-b569-ffd845d8ba5a\" target=\"_top\" title=\"psysml:f02d576e-2ced-443d-b569-ffd845d8ba5a\" xlink:actuate=\"onRequest\" xlink:href=\"psysml:f02d576e-2ced-443d-b569-ffd845d8ba5a\" xlink:show=\"new\" xlink:title=\"psysml:f02d576e-2ced-443d-b569-ffd845d8ba5a\" xlink:type=\"simple\"><polygon fill=\"#FFFFFF\" points=\"16,6,258,6,265,28.2969,491,28.2969,491,421,16,421,16,6\" style=\"stroke: #000000; stroke-width: 1.5;\"/><line style=\"stroke: #000000; stroke-width: 1.5;\" x1=\"16\" x2=\"265\" y1=\"28.2969\" y2=\"28.2969\"/><text fill=\"#000000\" font-family=\"sans-serif\" font-size=\"14\" font-weight=\"bold\" lengthAdjust=\"spacingAndGlyphs\" textLength=\"236\" x=\"20\" y=\"20.9951\">Verzameling_Modelelementen</text></a><!--MD5=[b4997ac47864f28c2f74865a473b2911]\n",
       "class E2--><a href=\"psysml:4a994121-5adf-461d-8d91-8a3d5efc6ba8\" target=\"_top\" title=\"psysml:4a994121-5adf-461d-8d91-8a3d5efc6ba8\" xlink:actuate=\"onRequest\" xlink:href=\"psysml:4a994121-5adf-461d-8d91-8a3d5efc6ba8\" xlink:show=\"new\" xlink:title=\"psysml:4a994121-5adf-461d-8d91-8a3d5efc6ba8\" xlink:type=\"simple\"><rect fill=\"#FFFFFF\" height=\"45.9375\" id=\"E2\" style=\"stroke: #383838; stroke-width: 1.5;\" width=\"94\" x=\"235\" y=\"253\"/><text fill=\"#000000\" font-family=\"sans-serif\" font-size=\"12\" font-style=\"italic\" lengthAdjust=\"spacingAndGlyphs\" textLength=\"68\" x=\"248\" y=\"269.1387\">«part  def»</text><text fill=\"#000000\" font-family=\"sans-serif\" font-size=\"12\" lengthAdjust=\"spacingAndGlyphs\" textLength=\"88\" x=\"238\" y=\"283.1074\">ElementType1</text><line style=\"stroke: #383838; stroke-width: 1.5;\" x1=\"236\" x2=\"328\" y1=\"290.9375\" y2=\"290.9375\"/></a><!--MD5=[09b614a08d8cba4a07c9adeb5e0fee81]\n",
       "class E3--><a href=\"psysml:392ef103-c594-4ae7-8a81-85d916e47dd8\" target=\"_top\" title=\"psysml:392ef103-c594-4ae7-8a81-85d916e47dd8\" xlink:actuate=\"onRequest\" xlink:href=\"psysml:392ef103-c594-4ae7-8a81-85d916e47dd8\" xlink:show=\"new\" xlink:title=\"psysml:392ef103-c594-4ae7-8a81-85d916e47dd8\" xlink:type=\"simple\"><rect fill=\"#FFFFFF\" height=\"45.9375\" id=\"E3\" style=\"stroke: #383838; stroke-width: 1.5;\" width=\"94\" x=\"193\" y=\"359\"/><text fill=\"#000000\" font-family=\"sans-serif\" font-size=\"12\" font-style=\"italic\" lengthAdjust=\"spacingAndGlyphs\" textLength=\"68\" x=\"206\" y=\"375.1387\">«part  def»</text><text fill=\"#000000\" font-family=\"sans-serif\" font-size=\"12\" lengthAdjust=\"spacingAndGlyphs\" textLength=\"88\" x=\"196\" y=\"389.1074\">ElementType2</text><line style=\"stroke: #383838; stroke-width: 1.5;\" x1=\"194\" x2=\"286\" y1=\"396.9375\" y2=\"396.9375\"/></a><!--MD5=[ebbe1d658d1005bcc118a6aa81145e00]\n",
       "class E4--><a href=\"psysml:198b02d2-c2fa-4ce9-8d70-4f36535d972d\" target=\"_top\" title=\"psysml:198b02d2-c2fa-4ce9-8d70-4f36535d972d\" xlink:actuate=\"onRequest\" xlink:href=\"psysml:198b02d2-c2fa-4ce9-8d70-4f36535d972d\" xlink:show=\"new\" xlink:title=\"psysml:198b02d2-c2fa-4ce9-8d70-4f36535d972d\" xlink:type=\"simple\"><rect fill=\"#FFFFFF\" height=\"45.9375\" id=\"E4\" style=\"stroke: #383838; stroke-width: 1.5;\" width=\"114\" x=\"331\" y=\"147\"/><text fill=\"#000000\" font-family=\"sans-serif\" font-size=\"12\" font-style=\"italic\" lengthAdjust=\"spacingAndGlyphs\" textLength=\"112\" x=\"332\" y=\"163.1387\">«connection  def»</text><text fill=\"#000000\" font-family=\"sans-serif\" font-size=\"12\" lengthAdjust=\"spacingAndGlyphs\" textLength=\"52\" x=\"362\" y=\"177.1074\">raakvlak</text><line style=\"stroke: #383838; stroke-width: 1.5;\" x1=\"332\" x2=\"444\" y1=\"184.9375\" y2=\"184.9375\"/></a><!--MD5=[270fce915f116d4de14055a7c1d9a0f3]\n",
       "class E5--><a href=\"psysml:9a8664bb-2f3e-47e7-8412-43bd30e67e6a\" target=\"_top\" title=\"psysml:9a8664bb-2f3e-47e7-8412-43bd30e67e6a\" xlink:actuate=\"onRequest\" xlink:href=\"psysml:9a8664bb-2f3e-47e7-8412-43bd30e67e6a\" xlink:show=\"new\" xlink:title=\"psysml:9a8664bb-2f3e-47e7-8412-43bd30e67e6a\" xlink:type=\"simple\"><rect fill=\"#FFFFFF\" height=\"45.9375\" id=\"E5\" rx=\"10\" ry=\"10\" style=\"stroke: #383838; stroke-width: 1.5;\" width=\"74\" x=\"401\" y=\"253\"/><text fill=\"#000000\" font-family=\"sans-serif\" font-size=\"12\" font-style=\"italic\" lengthAdjust=\"spacingAndGlyphs\" textLength=\"41\" x=\"417.5\" y=\"269.1387\">«item»</text><text fill=\"#000000\" font-family=\"sans-serif\" font-size=\"12\" lengthAdjust=\"spacingAndGlyphs\" textLength=\"64\" x=\"404\" y=\"283.1074\">conn_type</text><line style=\"stroke: #383838; stroke-width: 1.5;\" x1=\"402\" x2=\"474\" y1=\"290.9375\" y2=\"290.9375\"/></a><!--MD5=[60a26617385b1d2d0262a64233df1f8d]\n",
       "class E6--><a href=\"psysml:20a05d9b-3504-4510-bc04-db0f0fd61727\" target=\"_top\" title=\"psysml:20a05d9b-3504-4510-bc04-db0f0fd61727\" xlink:actuate=\"onRequest\" xlink:href=\"psysml:20a05d9b-3504-4510-bc04-db0f0fd61727\" xlink:show=\"new\" xlink:title=\"psysml:20a05d9b-3504-4510-bc04-db0f0fd61727\" xlink:type=\"simple\"><rect fill=\"#FFFFFF\" height=\"45.9375\" id=\"E6\" style=\"stroke: #383838; stroke-width: 1.5;\" width=\"94\" x=\"87\" y=\"41\"/><text fill=\"#000000\" font-family=\"sans-serif\" font-size=\"12\" font-style=\"italic\" lengthAdjust=\"spacingAndGlyphs\" textLength=\"68\" x=\"100\" y=\"57.1387\">«part  def»</text><text fill=\"#000000\" font-family=\"sans-serif\" font-size=\"12\" lengthAdjust=\"spacingAndGlyphs\" textLength=\"88\" x=\"90\" y=\"71.1074\">ElementType0</text><line style=\"stroke: #383838; stroke-width: 1.5;\" x1=\"88\" x2=\"180\" y1=\"78.9375\" y2=\"78.9375\"/></a><!--MD5=[2156ba9850f5573cc1fc38a6a4b2f02b]\n",
       "class E7--><a href=\"psysml:55b838c9-9a28-4ef4-99c9-16467ea6dd44\" target=\"_top\" title=\"psysml:55b838c9-9a28-4ef4-99c9-16467ea6dd44\" xlink:actuate=\"onRequest\" xlink:href=\"psysml:55b838c9-9a28-4ef4-99c9-16467ea6dd44\" xlink:show=\"new\" xlink:title=\"psysml:55b838c9-9a28-4ef4-99c9-16467ea6dd44\" xlink:type=\"simple\"><rect fill=\"#FFFFFF\" height=\"45.9375\" id=\"E7\" rx=\"10\" ry=\"10\" style=\"stroke: #383838; stroke-width: 1.5;\" width=\"168\" x=\"128\" y=\"147\"/><text fill=\"#000000\" font-family=\"sans-serif\" font-size=\"12\" font-style=\"italic\" lengthAdjust=\"spacingAndGlyphs\" textLength=\"40\" x=\"192\" y=\"163.1387\">«part»</text><text fill=\"#000000\" font-family=\"sans-serif\" font-size=\"12\" lengthAdjust=\"spacingAndGlyphs\" textLength=\"158\" x=\"131\" y=\"177.1074\">instance1: ElementType1</text><line style=\"stroke: #383838; stroke-width: 1.5;\" x1=\"129\" x2=\"295\" y1=\"184.9375\" y2=\"184.9375\"/></a><!--MD5=[b9389687b975829384b498ac4b7476b2]\n",
       "class E8--><a href=\"psysml:18c9e8a5-a10a-4f89-b143-2fa19de50a40\" target=\"_top\" title=\"psysml:18c9e8a5-a10a-4f89-b143-2fa19de50a40\" xlink:actuate=\"onRequest\" xlink:href=\"psysml:18c9e8a5-a10a-4f89-b143-2fa19de50a40\" xlink:show=\"new\" xlink:title=\"psysml:18c9e8a5-a10a-4f89-b143-2fa19de50a40\" xlink:type=\"simple\"><rect fill=\"#FFFFFF\" height=\"45.9375\" id=\"E8\" rx=\"10\" ry=\"10\" style=\"stroke: #383838; stroke-width: 1.5;\" width=\"168\" x=\"32\" y=\"253\"/><text fill=\"#000000\" font-family=\"sans-serif\" font-size=\"12\" font-style=\"italic\" lengthAdjust=\"spacingAndGlyphs\" textLength=\"40\" x=\"96\" y=\"269.1387\">«part»</text><text fill=\"#000000\" font-family=\"sans-serif\" font-size=\"12\" lengthAdjust=\"spacingAndGlyphs\" textLength=\"158\" x=\"35\" y=\"283.1074\">instance2: ElementType2</text><line style=\"stroke: #383838; stroke-width: 1.5;\" x1=\"33\" x2=\"199\" y1=\"290.9375\" y2=\"290.9375\"/></a><!--MD5=[ddeed8deb2209213b62e6cfabaa108b2]\n",
       "reverse link E4 to E2--><a href=\"psysml:e9652821-1540-47cc-a70c-4d9dd8a7149b\" target=\"_top\" title=\"psysml:e9652821-1540-47cc-a70c-4d9dd8a7149b\" xlink:actuate=\"onRequest\" xlink:href=\"psysml:e9652821-1540-47cc-a70c-4d9dd8a7149b\" xlink:show=\"new\" xlink:title=\"psysml:e9652821-1540-47cc-a70c-4d9dd8a7149b\" xlink:type=\"simple\"><path d=\"M356.15,202.24 C339.49,218.6 319.48,238.23 304.45,252.98 \" fill=\"none\" id=\"E4&lt;-E2\" style=\"stroke: #383838; stroke-width: 1.0;\"/><polygon fill=\"#FFFFFF\" points=\"365.52,193.06,358.4361,194.4083,356.956,201.4659,364.04,200.1176,365.52,193.06\" style=\"stroke: #383838; stroke-width: 1.0;\"/><text fill=\"#000000\" font-family=\"sans-serif\" font-size=\"13\" lengthAdjust=\"spacingAndGlyphs\" textLength=\"24\" x=\"283.2584\" y=\"241.8709\">0..1</text></a><!--MD5=[4735aefadfa2e5978451eb08fa1f3993]\n",
       "reverse link E4 to E3--><a href=\"psysml:afebad35-f860-4c11-8aca-0bd3082a1f12\" target=\"_top\" title=\"psysml:afebad35-f860-4c11-8aca-0bd3082a1f12\" xlink:actuate=\"onRequest\" xlink:href=\"psysml:afebad35-f860-4c11-8aca-0bd3082a1f12\" xlink:show=\"new\" xlink:title=\"psysml:afebad35-f860-4c11-8aca-0bd3082a1f12\" xlink:type=\"simple\"><path d=\"M382.69,206 C377.23,233.28 366.65,271.09 347,299 C329.55,323.78 302.38,344.47 279.78,358.87 \" fill=\"none\" id=\"E4&lt;-E3\" style=\"stroke: #383838; stroke-width: 1.0;\"/><polygon fill=\"#FFFFFF\" points=\"385.04,193.17,380.0241,198.3508,382.8771,204.9735,387.8931,199.7927,385.04,193.17\" style=\"stroke: #383838; stroke-width: 1.0;\"/><text fill=\"#000000\" font-family=\"sans-serif\" font-size=\"13\" lengthAdjust=\"spacingAndGlyphs\" textLength=\"23\" x=\"264.0268\" y=\"348.113\">1..*</text></a><!--MD5=[62aa6af11e70f752912c1cb0466f24f7]\n",
       "reverse link E4 to E5--><a href=\"psysml:d9ecad1e-f080-4267-b5a0-c0561b946497\" target=\"_top\" title=\"psysml:d9ecad1e-f080-4267-b5a0-c0561b946497\" xlink:actuate=\"onRequest\" xlink:href=\"psysml:d9ecad1e-f080-4267-b5a0-c0561b946497\" xlink:show=\"new\" xlink:title=\"psysml:d9ecad1e-f080-4267-b5a0-c0561b946497\" xlink:type=\"simple\"><path d=\"M404.36,205.03 C411.94,220.78 420.72,239.06 427.41,252.98 \" fill=\"none\" id=\"E4&lt;-E5\" style=\"stroke: #383838; stroke-width: 1.0;\"/><polygon fill=\"#FFFFFF\" points=\"398.6,193.06,397.5931,200.2005,403.7971,203.8762,404.8039,196.7358,398.6,193.06\" style=\"stroke: #383838; stroke-width: 1.0;\"/><text fill=\"#000000\" font-family=\"sans-serif\" font-size=\"13\" lengthAdjust=\"spacingAndGlyphs\" textLength=\"8\" x=\"415.4889\" y=\"241.8709\">1</text></a><!--MD5=[3f50a3473f1dfb74d3f76443e03635af]\n",
       "reverse link E6 to E7--><a href=\"psysml:243ba452-3f31-432e-94f1-3e8f04e3bffa\" target=\"_top\" title=\"psysml:243ba452-3f31-432e-94f1-3e8f04e3bffa\" xlink:actuate=\"onRequest\" xlink:href=\"psysml:243ba452-3f31-432e-94f1-3e8f04e3bffa\" xlink:show=\"new\" xlink:title=\"psysml:243ba452-3f31-432e-94f1-3e8f04e3bffa\" xlink:type=\"simple\"><path d=\"M158.47,97.63 C170.52,113.7 184.73,132.64 195.48,146.98 \" fill=\"none\" id=\"E6&lt;-E7\" style=\"stroke: #383838; stroke-width: 1.0;\"/><polygon fill=\"#FFFFFF\" points=\"150.54,87.06,150.94,94.26,157.74,96.66,157.34,89.46,150.54,87.06\" style=\"stroke: #383838; stroke-width: 1.0;\"/><text fill=\"#000000\" font-family=\"sans-serif\" font-size=\"13\" lengthAdjust=\"spacingAndGlyphs\" textLength=\"8\" x=\"181.9653\" y=\"135.8709\">1</text></a><!--MD5=[583832df87f4419a098336a29a52fa00]\n",
       "link E7 to E2--><a href=\"psysml:b2f5aca9-58b7-4171-99ad-c870ed5b258d\" target=\"_top\" title=\"psysml:b2f5aca9-58b7-4171-99ad-c870ed5b258d\" xlink:actuate=\"onRequest\" xlink:href=\"psysml:b2f5aca9-58b7-4171-99ad-c870ed5b258d\" xlink:show=\"new\" xlink:title=\"psysml:b2f5aca9-58b7-4171-99ad-c870ed5b258d\" xlink:type=\"simple\"><path d=\"M226.85,193.06 C235.29,205.6 246.11,221.68 255.93,236.26 \" fill=\"none\" id=\"E7-&gt;E2\" style=\"stroke: #383838; stroke-width: 1.0;\"/><polygon fill=\"#FFFFFF\" points=\"267.18,252.98,250.7716,241.1156,262.391,233.306,267.18,252.98\" style=\"stroke: #383838; stroke-width: 1.0;\"/><ellipse cx=\"249.2519\" cy=\"235.2692\" fill=\"#383838\" rx=\"2\" ry=\"2\" style=\"stroke: #383838; stroke-width: 1.0;\"/><ellipse cx=\"257.5514\" cy=\"229.6909\" fill=\"#383838\" rx=\"2\" ry=\"2\" style=\"stroke: #383838; stroke-width: 1.0;\"/></a><!--MD5=[f4cf0736d43fd73c4ef68817c49d37d5]\n",
       "reverse link E6 to E8--><a href=\"psysml:fe1d85b3-9ee1-4bac-b285-3afa79011941\" target=\"_top\" title=\"psysml:fe1d85b3-9ee1-4bac-b285-3afa79011941\" xlink:actuate=\"onRequest\" xlink:href=\"psysml:fe1d85b3-9ee1-4bac-b285-3afa79011941\" xlink:show=\"new\" xlink:title=\"psysml:fe1d85b3-9ee1-4bac-b285-3afa79011941\" xlink:type=\"simple\"><path d=\"M122,99.69 C117.61,114.13 113.18,131.19 111,147 C105.94,183.79 109.61,227.05 112.77,252.69 \" fill=\"none\" id=\"E6&lt;-E8\" style=\"stroke: #383838; stroke-width: 1.0;\"/><polygon fill=\"#FFFFFF\" points=\"125.97,87.27,120.3337,91.768,122.318,98.7008,127.9542,94.2027,125.97,87.27\" style=\"stroke: #383838; stroke-width: 1.0;\"/><text fill=\"#000000\" font-family=\"sans-serif\" font-size=\"13\" lengthAdjust=\"spacingAndGlyphs\" textLength=\"8\" x=\"102.9173\" y=\"241.8869\">1</text></a><!--MD5=[95fa686b5a16158bcdbcaeead89f639b]\n",
       "link E8 to E3--><a href=\"psysml:868cb9fc-cae8-4edc-8535-912e932f79a3\" target=\"_top\" title=\"psysml:868cb9fc-cae8-4edc-8535-912e932f79a3\" xlink:actuate=\"onRequest\" xlink:href=\"psysml:868cb9fc-cae8-4edc-8535-912e932f79a3\" xlink:show=\"new\" xlink:title=\"psysml:868cb9fc-cae8-4edc-8535-912e932f79a3\" xlink:type=\"simple\"><path d=\"M142.3,299.06 C158.57,312.71 179.83,330.53 198.36,346.07 \" fill=\"none\" id=\"E8-&gt;E3\" style=\"stroke: #383838; stroke-width: 1.0;\"/><polygon fill=\"#FFFFFF\" points=\"213.74,358.98,194.6843,352.133,203.6813,341.4067,213.74,358.98\" style=\"stroke: #383838; stroke-width: 1.0;\"/><ellipse cx=\"191.6024\" cy=\"346.9377\" fill=\"#383838\" rx=\"2\" ry=\"2\" style=\"stroke: #383838; stroke-width: 1.0;\"/><ellipse cx=\"198.0288\" cy=\"339.276\" fill=\"#383838\" rx=\"2\" ry=\"2\" style=\"stroke: #383838; stroke-width: 1.0;\"/></a><!--MD5=[79bc8f324ef4d02c541433f2e6e513c3]\n",
       "link E7 to E8--><a href=\"psysml:df4a1c37-eca1-4dcf-9226-48a3cb28b2f3\" target=\"_top\" title=\"psysml:df4a1c37-eca1-4dcf-9226-48a3cb28b2f3\" xlink:actuate=\"onRequest\" xlink:href=\"psysml:df4a1c37-eca1-4dcf-9226-48a3cb28b2f3\" xlink:show=\"new\" xlink:title=\"psysml:df4a1c37-eca1-4dcf-9226-48a3cb28b2f3\" xlink:type=\"simple\"><path d=\"M191.64,193.06 C175.35,210.7 152.61,235.34 136.33,252.98 \" fill=\"none\" id=\"E7-E8\" style=\"stroke: #383838; stroke-width: 3.0;\"/></a><!--MD5=[54b12ab1fddaf6f28de1b0f2a367e8c1]\n",
       "@startuml\r\n",
       "skinparam monochrome true\r\n",
       "skinparam classbackgroundcolor white\r\n",
       "skinparam shadowing false\r\n",
       "skinparam wrapWidth 300\r\n",
       "hide circle\r\n",
       "\r\n",
       "package \"Verzameling_Modelelementen\" as E1  [[psysml:f02d576e-2ced-443d-b569-ffd845d8ba5a ]]  {\r\n",
       "comp def \"ElementType1\" as E2  <<(T,blue) part  def>> [[psysml:4a994121-5adf-461d-8d91-8a3d5efc6ba8 ]] {\r\n",
       "}\r\n",
       "comp def \"ElementType2\" as E3  <<(T,blue) part  def>> [[psysml:392ef103-c594-4ae7-8a81-85d916e47dd8 ]] {\r\n",
       "}\r\n",
       "comp def \"raakvlak\" as E4  <<(T,blue) connection  def>> [[psysml:198b02d2-c2fa-4ce9-8d70-4f36535d972d ]] {\r\n",
       "}\r\n",
       "comp usage \"conn_type \" as E5  <<(T,blue) item>> [[psysml:9a8664bb-2f3e-47e7-8412-43bd30e67e6a ]] {\r\n",
       "}\r\n",
       "comp def \"ElementType0\" as E6  <<(T,blue) part  def>> [[psysml:20a05d9b-3504-4510-bc04-db0f0fd61727 ]] {\r\n",
       "}\r\n",
       "comp usage \"instance1: ElementType1 \" as E7  <<(T,blue) part>> [[psysml:55b838c9-9a28-4ef4-99c9-16467ea6dd44 ]] {\r\n",
       "}\r\n",
       "comp usage \"instance2: ElementType2 \" as E8  <<(T,blue) part>> [[psysml:18c9e8a5-a10a-4f89-b143-2fa19de50a40 ]] {\r\n",
       "}\r\n",
       "}\r\n",
       "E4 o- - \"0..1\"E2 [[psysml:e9652821-1540-47cc-a70c-4d9dd8a7149b ]] \r\n",
       "E4 o- - \"1..*\"E3 [[psysml:afebad35-f860-4c11-8aca-0bd3082a1f12 ]] \r\n",
       "E4 o- - \"1\"E5 [[psysml:d9ecad1e-f080-4267-b5a0-c0561b946497 ]] \r\n",
       "E6 o- - \"1\"E7 [[psysml:243ba452-3f31-432e-94f1-3e8f04e3bffa ]] \r\n",
       "E7 - -:|> E2 [[psysml:b2f5aca9-58b7-4171-99ad-c870ed5b258d ]] \r\n",
       "E6 o- - \"1\"E8 [[psysml:fe1d85b3-9ee1-4bac-b285-3afa79011941 ]] \r\n",
       "E8 - -:|> E3 [[psysml:868cb9fc-cae8-4edc-8535-912e932f79a3 ]] \r\n",
       "E7 -[thickness=3]- E8 [[psysml:df4a1c37-eca1-4dcf-9226-48a3cb28b2f3 ]] \r\n",
       "@enduml\r\n",
       "\n",
       "PlantUML version 1.2020.13(Sat Jun 13 05:26:38 PDT 2020)\n",
       "(EPL source distribution)\n",
       "Java Runtime: OpenJDK Runtime Environment\n",
       "JVM: OpenJDK 64-Bit Server VM\n",
       "Default Encoding: UTF-8\n",
       "Language: en\n",
       "Country: US\n",
       "--></g></svg>"
      ]
     },
     "execution_count": 8,
     "metadata": {},
     "output_type": "execute_result"
    }
   ],
   "source": [
    "%viz \"Verzameling_Modelelementen\""
   ]
  },
  {
   "cell_type": "markdown",
   "id": "196d8aca",
   "metadata": {},
   "source": [
    "## Items en Enumerations\n",
    "\n",
    "Items zijn dingen die bestaan in ruimte en tijd, maar geen onderdeel (letterlijk)  zijn van het systeem. Een systeem wordt er niet mee gemaakt, maar het systeem kan er wel CRUD acties op uitveoren.\n",
    "\n",
    "Bij een auto is de brandstof bijv. een item. De brandstof is geen structureel onderdeel van de auto. Zonder brandstof is een auto nog steeds een auto. Brandstof is daarom een *item*."
   ]
  },
  {
   "cell_type": "code",
   "execution_count": 15,
   "id": "c5874d43",
   "metadata": {},
   "outputs": [
    {
     "data": {
      "text/plain": [
       "Package Dingen (4bb37bdf-f3ee-4983-b674-a0a5196a9bd3)\n"
      ]
     },
     "execution_count": 15,
     "metadata": {},
     "output_type": "execute_result"
    }
   ],
   "source": [
    "package Dingen {\n",
    "    item def thing1;\n",
    "    item def thing2;\n",
    "    \n",
    "    item thing3;\n",
    "    item thing4: thing1;\n",
    "\n",
    "    enum def driekleur {\n",
    "        enum rood;\n",
    "        enum wit;\n",
    "        enum blauw;\n",
    "    }\n",
    "\n",
    "    enum def <'ENUM000'> verkeerlicht {\n",
    "        rood;\n",
    "        oranje;\n",
    "        groen;\n",
    "    }\n",
    "}"
   ]
  },
  {
   "cell_type": "code",
   "execution_count": 16,
   "id": "364fc417",
   "metadata": {},
   "outputs": [
    {
     "data": {
      "image/svg+xml": [
       "<?xml version=\"1.0\" encoding=\"UTF-8\" standalone=\"no\"?><svg xmlns=\"http://www.w3.org/2000/svg\" xmlns:xlink=\"http://www.w3.org/1999/xlink\" contentScriptType=\"application/ecmascript\" contentStyleType=\"text/css\" height=\"276px\" preserveAspectRatio=\"none\" style=\"width:588px;height:276px;\" version=\"1.1\" viewBox=\"0 0 588 276\" width=\"588px\" zoomAndPan=\"magnify\"><defs/><g><!--MD5=[fbc87193dbaf4d95561dea2c320d4a47]\n",
       "cluster E1--><a href=\"psysml:4bb37bdf-f3ee-4983-b674-a0a5196a9bd3\" target=\"_top\" title=\"psysml:4bb37bdf-f3ee-4983-b674-a0a5196a9bd3\" xlink:actuate=\"onRequest\" xlink:href=\"psysml:4bb37bdf-f3ee-4983-b674-a0a5196a9bd3\" xlink:show=\"new\" xlink:title=\"psysml:4bb37bdf-f3ee-4983-b674-a0a5196a9bd3\" xlink:type=\"simple\"><polygon fill=\"#FFFFFF\" points=\"16,6,77,6,84,28.2969,566,28.2969,566,264,16,264,16,6\" style=\"stroke: #000000; stroke-width: 1.5;\"/><line style=\"stroke: #000000; stroke-width: 1.5;\" x1=\"16\" x2=\"84\" y1=\"28.2969\" y2=\"28.2969\"/><text fill=\"#000000\" font-family=\"sans-serif\" font-size=\"14\" font-weight=\"bold\" lengthAdjust=\"spacingAndGlyphs\" textLength=\"55\" x=\"20\" y=\"20.9951\">Dingen</text></a><!--MD5=[b4997ac47864f28c2f74865a473b2911]\n",
       "class E2--><a href=\"psysml:e59f088a-572d-4f5c-b907-ba5d5336edd8\" target=\"_top\" title=\"psysml:e59f088a-572d-4f5c-b907-ba5d5336edd8\" xlink:actuate=\"onRequest\" xlink:href=\"psysml:e59f088a-572d-4f5c-b907-ba5d5336edd8\" xlink:show=\"new\" xlink:title=\"psysml:e59f088a-572d-4f5c-b907-ba5d5336edd8\" xlink:type=\"simple\"><rect fill=\"#FFFFFF\" height=\"45.9375\" id=\"E2\" style=\"stroke: #383838; stroke-width: 1.5;\" width=\"71\" x=\"273.5\" y=\"202\"/><text fill=\"#000000\" font-family=\"sans-serif\" font-size=\"12\" font-style=\"italic\" lengthAdjust=\"spacingAndGlyphs\" textLength=\"69\" x=\"274.5\" y=\"218.1387\">«item  def»</text><text fill=\"#000000\" font-family=\"sans-serif\" font-size=\"12\" lengthAdjust=\"spacingAndGlyphs\" textLength=\"40\" x=\"289\" y=\"232.1074\">thing1</text><line style=\"stroke: #383838; stroke-width: 1.5;\" x1=\"274.5\" x2=\"343.5\" y1=\"239.9375\" y2=\"239.9375\"/></a><!--MD5=[09b614a08d8cba4a07c9adeb5e0fee81]\n",
       "class E3--><a href=\"psysml:b2f27584-7a22-4def-b2de-5e934359f9f1\" target=\"_top\" title=\"psysml:b2f27584-7a22-4def-b2de-5e934359f9f1\" xlink:actuate=\"onRequest\" xlink:href=\"psysml:b2f27584-7a22-4def-b2de-5e934359f9f1\" xlink:show=\"new\" xlink:title=\"psysml:b2f27584-7a22-4def-b2de-5e934359f9f1\" xlink:type=\"simple\"><rect fill=\"#FFFFFF\" height=\"45.9375\" id=\"E3\" style=\"stroke: #383838; stroke-width: 1.5;\" width=\"71\" x=\"478.5\" y=\"68.5\"/><text fill=\"#000000\" font-family=\"sans-serif\" font-size=\"12\" font-style=\"italic\" lengthAdjust=\"spacingAndGlyphs\" textLength=\"69\" x=\"479.5\" y=\"84.6387\">«item  def»</text><text fill=\"#000000\" font-family=\"sans-serif\" font-size=\"12\" lengthAdjust=\"spacingAndGlyphs\" textLength=\"40\" x=\"494\" y=\"98.6074\">thing2</text><line style=\"stroke: #383838; stroke-width: 1.5;\" x1=\"479.5\" x2=\"548.5\" y1=\"106.4375\" y2=\"106.4375\"/></a><!--MD5=[ebbe1d658d1005bcc118a6aa81145e00]\n",
       "class E4--><a href=\"psysml:c38e0dc6-a2a0-43da-9d7c-ab4f36cb3f32\" target=\"_top\" title=\"psysml:c38e0dc6-a2a0-43da-9d7c-ab4f36cb3f32\" xlink:actuate=\"onRequest\" xlink:href=\"psysml:c38e0dc6-a2a0-43da-9d7c-ab4f36cb3f32\" xlink:show=\"new\" xlink:title=\"psysml:c38e0dc6-a2a0-43da-9d7c-ab4f36cb3f32\" xlink:type=\"simple\"><rect fill=\"#FFFFFF\" height=\"45.9375\" id=\"E4\" rx=\"10\" ry=\"10\" style=\"stroke: #383838; stroke-width: 1.5;\" width=\"50\" x=\"393\" y=\"68.5\"/><text fill=\"#000000\" font-family=\"sans-serif\" font-size=\"12\" font-style=\"italic\" lengthAdjust=\"spacingAndGlyphs\" textLength=\"41\" x=\"397.5\" y=\"84.6387\">«item»</text><text fill=\"#000000\" font-family=\"sans-serif\" font-size=\"12\" lengthAdjust=\"spacingAndGlyphs\" textLength=\"40\" x=\"396\" y=\"98.6074\">thing3</text><line style=\"stroke: #383838; stroke-width: 1.5;\" x1=\"394\" x2=\"442\" y1=\"106.4375\" y2=\"106.4375\"/></a><!--MD5=[270fce915f116d4de14055a7c1d9a0f3]\n",
       "class E5--><a href=\"psysml:6f6c25c5-3757-4354-bf42-559088259273\" target=\"_top\" title=\"psysml:6f6c25c5-3757-4354-bf42-559088259273\" xlink:actuate=\"onRequest\" xlink:href=\"psysml:6f6c25c5-3757-4354-bf42-559088259273\" xlink:show=\"new\" xlink:title=\"psysml:6f6c25c5-3757-4354-bf42-559088259273\" xlink:type=\"simple\"><rect fill=\"#FFFFFF\" height=\"45.9375\" id=\"E5\" rx=\"10\" ry=\"10\" style=\"stroke: #383838; stroke-width: 1.5;\" width=\"98\" x=\"260\" y=\"68.5\"/><text fill=\"#000000\" font-family=\"sans-serif\" font-size=\"12\" font-style=\"italic\" lengthAdjust=\"spacingAndGlyphs\" textLength=\"41\" x=\"288.5\" y=\"84.6387\">«item»</text><text fill=\"#000000\" font-family=\"sans-serif\" font-size=\"12\" lengthAdjust=\"spacingAndGlyphs\" textLength=\"88\" x=\"263\" y=\"98.6074\">thing4: thing1</text><line style=\"stroke: #383838; stroke-width: 1.5;\" x1=\"261\" x2=\"357\" y1=\"106.4375\" y2=\"106.4375\"/></a><!--MD5=[60a26617385b1d2d0262a64233df1f8d]\n",
       "class E6--><a href=\"psysml:9314de39-91fe-4ae6-b47f-d1a760e16b27\" target=\"_top\" title=\"psysml:9314de39-91fe-4ae6-b47f-d1a760e16b27\" xlink:actuate=\"onRequest\" xlink:href=\"psysml:9314de39-91fe-4ae6-b47f-d1a760e16b27\" xlink:show=\"new\" xlink:title=\"psysml:9314de39-91fe-4ae6-b47f-d1a760e16b27\" xlink:type=\"simple\"><rect fill=\"#FFFFFF\" height=\"101.1563\" id=\"E6\" style=\"stroke: #383838; stroke-width: 1.5;\" width=\"79\" x=\"145.5\" y=\"41\"/><text fill=\"#000000\" font-family=\"sans-serif\" font-size=\"12\" font-style=\"italic\" lengthAdjust=\"spacingAndGlyphs\" textLength=\"77\" x=\"146.5\" y=\"57.1387\">«enum  def»</text><text fill=\"#000000\" font-family=\"sans-serif\" font-size=\"12\" font-style=\"italic\" lengthAdjust=\"spacingAndGlyphs\" textLength=\"55\" x=\"157.5\" y=\"71.1074\">driekleur</text><line style=\"stroke: #383838; stroke-width: 1.5;\" x1=\"146.5\" x2=\"223.5\" y1=\"78.9375\" y2=\"78.9375\"/><text fill=\"#000000\" font-family=\"sans-serif\" font-size=\"11\" lengthAdjust=\"spacingAndGlyphs\" textLength=\"26\" x=\"151.5\" y=\"109.9526\">rood</text><text fill=\"#000000\" font-family=\"sans-serif\" font-size=\"11\" lengthAdjust=\"spacingAndGlyphs\" textLength=\"16\" x=\"151.5\" y=\"122.7573\">wit</text><text fill=\"#000000\" font-family=\"sans-serif\" font-size=\"11\" lengthAdjust=\"spacingAndGlyphs\" textLength=\"33\" x=\"151.5\" y=\"135.562\">blauw</text><line style=\"stroke: #383838; stroke-width: 1.0;\" x1=\"146.5\" x2=\"165.5\" y1=\"93.3398\" y2=\"93.3398\"/><text fill=\"#000000\" font-family=\"sans-serif\" font-size=\"11\" lengthAdjust=\"spacingAndGlyphs\" textLength=\"39\" x=\"165.5\" y=\"96.6479\">enums</text><line style=\"stroke: #383838; stroke-width: 1.0;\" x1=\"204.5\" x2=\"223.5\" y1=\"93.3398\" y2=\"93.3398\"/></a><!--MD5=[2156ba9850f5573cc1fc38a6a4b2f02b]\n",
       "class E7--><a href=\"psysml:e82d4470-8dab-46a1-b2c8-99fa469adb8a\" target=\"_top\" title=\"psysml:e82d4470-8dab-46a1-b2c8-99fa469adb8a\" xlink:actuate=\"onRequest\" xlink:href=\"psysml:e82d4470-8dab-46a1-b2c8-99fa469adb8a\" xlink:show=\"new\" xlink:title=\"psysml:e82d4470-8dab-46a1-b2c8-99fa469adb8a\" xlink:type=\"simple\"><rect fill=\"#FFFFFF\" height=\"101.1563\" id=\"E7\" style=\"stroke: #383838; stroke-width: 1.5;\" width=\"79\" x=\"31.5\" y=\"41\"/><text fill=\"#000000\" font-family=\"sans-serif\" font-size=\"12\" font-style=\"italic\" lengthAdjust=\"spacingAndGlyphs\" textLength=\"77\" x=\"32.5\" y=\"57.1387\">«enum  def»</text><text fill=\"#000000\" font-family=\"sans-serif\" font-size=\"12\" font-style=\"italic\" lengthAdjust=\"spacingAndGlyphs\" textLength=\"73\" x=\"34.5\" y=\"71.1074\">verkeerlicht</text><line style=\"stroke: #383838; stroke-width: 1.5;\" x1=\"32.5\" x2=\"109.5\" y1=\"78.9375\" y2=\"78.9375\"/><text fill=\"#000000\" font-family=\"sans-serif\" font-size=\"11\" lengthAdjust=\"spacingAndGlyphs\" textLength=\"26\" x=\"37.5\" y=\"109.9526\">rood</text><text fill=\"#000000\" font-family=\"sans-serif\" font-size=\"11\" lengthAdjust=\"spacingAndGlyphs\" textLength=\"36\" x=\"37.5\" y=\"122.7573\">oranje</text><text fill=\"#000000\" font-family=\"sans-serif\" font-size=\"11\" lengthAdjust=\"spacingAndGlyphs\" textLength=\"33\" x=\"37.5\" y=\"135.562\">groen</text><line style=\"stroke: #383838; stroke-width: 1.0;\" x1=\"32.5\" x2=\"51.5\" y1=\"93.3398\" y2=\"93.3398\"/><text fill=\"#000000\" font-family=\"sans-serif\" font-size=\"11\" lengthAdjust=\"spacingAndGlyphs\" textLength=\"39\" x=\"51.5\" y=\"96.6479\">enums</text><line style=\"stroke: #383838; stroke-width: 1.0;\" x1=\"90.5\" x2=\"109.5\" y1=\"93.3398\" y2=\"93.3398\"/></a><!--MD5=[15ebcb19ae302d9b601edb458606d402]\n",
       "link E5 to E2--><a href=\"psysml:f20a3ea4-d84b-4445-b835-372d97f9c657\" target=\"_top\" title=\"psysml:f20a3ea4-d84b-4445-b835-372d97f9c657\" xlink:actuate=\"onRequest\" xlink:href=\"psysml:f20a3ea4-d84b-4445-b835-372d97f9c657\" xlink:show=\"new\" xlink:title=\"psysml:f20a3ea4-d84b-4445-b835-372d97f9c657\" xlink:type=\"simple\"><path d=\"M309,114.51 C309,132.81 309,159.38 309,181.77 \" fill=\"none\" id=\"E5-&gt;E2\" style=\"stroke: #383838; stroke-width: 1.0;\"/><polygon fill=\"#FFFFFF\" points=\"309,201.92,302,182.92,316,182.92,309,201.92\" style=\"stroke: #383838; stroke-width: 1.0;\"/><ellipse cx=\"304\" cy=\"177.22\" fill=\"#383838\" rx=\"2\" ry=\"2\" style=\"stroke: #383838; stroke-width: 1.0;\"/><ellipse cx=\"314\" cy=\"177.22\" fill=\"#383838\" rx=\"2\" ry=\"2\" style=\"stroke: #383838; stroke-width: 1.0;\"/></a><!--MD5=[c0aea9b5e934972373cdf18ce0089878]\n",
       "@startuml\r\n",
       "skinparam monochrome true\r\n",
       "skinparam classbackgroundcolor white\r\n",
       "skinparam shadowing false\r\n",
       "skinparam wrapWidth 300\r\n",
       "hide circle\r\n",
       "\r\n",
       "package \"Dingen\" as E1  [[psysml:4bb37bdf-f3ee-4983-b674-a0a5196a9bd3 ]]  {\r\n",
       "comp def \"thing1\" as E2  <<(T,blue) item  def>> [[psysml:e59f088a-572d-4f5c-b907-ba5d5336edd8 ]] {\r\n",
       "}\r\n",
       "comp def \"thing2\" as E3  <<(T,blue) item  def>> [[psysml:b2f27584-7a22-4def-b2de-5e934359f9f1 ]] {\r\n",
       "}\r\n",
       "comp usage \"thing3 \" as E4  <<(T,blue) item>> [[psysml:c38e0dc6-a2a0-43da-9d7c-ab4f36cb3f32 ]] {\r\n",
       "}\r\n",
       "comp usage \"thing4: thing1 \" as E5  <<(T,blue) item>> [[psysml:6f6c25c5-3757-4354-bf42-559088259273 ]] {\r\n",
       "}\r\n",
       "comp def \"<i>driekleur</i>\" as E6  <<(T,blue) enum  def>> [[psysml:9314de39-91fe-4ae6-b47f-d1a760e16b27 ]] {\r\n",
       "- - enums - -\r\n",
       "rood\r\n",
       "wit\r\n",
       "blauw\r\n",
       "}\r\n",
       "comp def \"<i>verkeerlicht</i>\" as E7  <<(T,blue) enum  def>> [[psysml:e82d4470-8dab-46a1-b2c8-99fa469adb8a ]] {\r\n",
       "- - enums - -\r\n",
       "rood\r\n",
       "oranje\r\n",
       "groen\r\n",
       "}\r\n",
       "}\r\n",
       "E5 - -:|> E2 [[psysml:f20a3ea4-d84b-4445-b835-372d97f9c657 ]] \r\n",
       "@enduml\r\n",
       "\n",
       "PlantUML version 1.2020.13(Sat Jun 13 05:26:38 PDT 2020)\n",
       "(EPL source distribution)\n",
       "Java Runtime: OpenJDK Runtime Environment\n",
       "JVM: OpenJDK 64-Bit Server VM\n",
       "Default Encoding: UTF-8\n",
       "Language: en\n",
       "Country: US\n",
       "--></g></svg>"
      ]
     },
     "execution_count": 16,
     "metadata": {},
     "output_type": "execute_result"
    }
   ],
   "source": [
    "%viz Dingen"
   ]
  },
  {
   "cell_type": "markdown",
   "id": "0ddfdcc3",
   "metadata": {},
   "source": [
    "## Eisen\n",
    "\n",
    "Eisen zijn uitspraken waaraan een systeem moet voldoen, verwoordt als een effect dat moet worden bereikt, of een eigenschap die een systeem of proces moet bezitten.\n",
    "\n",
    "Een handig mechanisme om parametriseerbare eisen te maken kan met `:>>`,  wat staat voor `redefines`"
   ]
  },
  {
   "cell_type": "code",
   "execution_count": 60,
   "id": "631e14ac",
   "metadata": {},
   "outputs": [
    {
     "data": {
      "text/plain": [
       "Package Eisen (50b9ef41-cfb5-4497-964e-9be094c19821)\n"
      ]
     },
     "execution_count": 60,
     "metadata": {},
     "output_type": "execute_result"
    }
   ],
   "source": [
    "package Eisen {\n",
    "    requirement <'EIS_0001'> 'Een eerste requirement' {\n",
    "        /* Het systeem dient blah te doen */\n",
    "    }\n",
    "    \n",
    "    requirement def 'Parameteriseerbare eis' {\n",
    "        /* Het systeem dient iets X keer te doen */\n",
    "        \n",
    "        import ScalarValues::Number;\n",
    "        attribute X:Number;\n",
    "        \n",
    "        require constraint { X >  0 }\n",
    "        require constraint { X <= 5 }\n",
    "    }\n",
    "    \n",
    "    requirement <'EIS_0002'> 'Een tweede requirement' : 'Parameteriseerbare eis' {\n",
    "        attribute :>> X = 5;\n",
    "    }\n",
    " }"
   ]
  },
  {
   "cell_type": "code",
   "execution_count": 61,
   "id": "975fe63a",
   "metadata": {},
   "outputs": [
    {
     "data": {
      "image/svg+xml": [
       "<?xml version=\"1.0\" encoding=\"UTF-8\" standalone=\"no\"?><svg xmlns=\"http://www.w3.org/2000/svg\" xmlns:xlink=\"http://www.w3.org/1999/xlink\" contentScriptType=\"application/ecmascript\" contentStyleType=\"text/css\" height=\"335px\" preserveAspectRatio=\"none\" style=\"width:1060px;height:335px;\" version=\"1.1\" viewBox=\"0 0 1060 335\" width=\"1060px\" zoomAndPan=\"magnify\"><defs/><g><!--MD5=[fbc87193dbaf4d95561dea2c320d4a47]\n",
       "cluster E1--><a href=\"psysml:50b9ef41-cfb5-4497-964e-9be094c19821\" target=\"_top\" title=\"psysml:50b9ef41-cfb5-4497-964e-9be094c19821\" xlink:actuate=\"onRequest\" xlink:href=\"psysml:50b9ef41-cfb5-4497-964e-9be094c19821\" xlink:show=\"new\" xlink:title=\"psysml:50b9ef41-cfb5-4497-964e-9be094c19821\" xlink:type=\"simple\"><polygon fill=\"#FFFFFF\" points=\"16,6,64,6,71,28.2969,1038,28.2969,1038,323,16,323,16,6\" style=\"stroke: #000000; stroke-width: 1.5;\"/><line style=\"stroke: #000000; stroke-width: 1.5;\" x1=\"16\" x2=\"71\" y1=\"28.2969\" y2=\"28.2969\"/><text fill=\"#000000\" font-family=\"sans-serif\" font-size=\"14\" font-weight=\"bold\" lengthAdjust=\"spacingAndGlyphs\" textLength=\"42\" x=\"20\" y=\"20.9951\">Eisen</text></a><!--MD5=[b4997ac47864f28c2f74865a473b2911]\n",
       "class E2--><a href=\"psysml:dccbaffb-214a-4426-a3bd-1cd486faa637\" target=\"_top\" title=\"psysml:dccbaffb-214a-4426-a3bd-1cd486faa637\" xlink:actuate=\"onRequest\" xlink:href=\"psysml:dccbaffb-214a-4426-a3bd-1cd486faa637\" xlink:show=\"new\" xlink:title=\"psysml:dccbaffb-214a-4426-a3bd-1cd486faa637\" xlink:type=\"simple\"><rect fill=\"#FFFFFF\" height=\"45.9375\" id=\"E2\" rx=\"10\" ry=\"10\" style=\"stroke: #383838; stroke-width: 1.5;\" width=\"247\" x=\"774.5\" y=\"225\"/><text fill=\"#000000\" font-family=\"sans-serif\" font-size=\"12\" font-style=\"italic\" lengthAdjust=\"spacingAndGlyphs\" textLength=\"91\" x=\"852.5\" y=\"241.1387\">«requirement»</text><text fill=\"#000000\" font-family=\"sans-serif\" font-size=\"12\" lengthAdjust=\"spacingAndGlyphs\" textLength=\"0\" x=\"781.5\" y=\"255.1074\"/><text fill=\"#000000\" font-family=\"sans-serif\" font-size=\"12\" font-weight=\"bold\" lengthAdjust=\"spacingAndGlyphs\" textLength=\"79\" x=\"781.5\" y=\"255.1074\">&lt;EIS_0001&gt;</text><text fill=\"#000000\" font-family=\"sans-serif\" font-size=\"12\" lengthAdjust=\"spacingAndGlyphs\" textLength=\"150\" x=\"864.5\" y=\"255.1074\">Een eerste requirement</text><line style=\"stroke: #383838; stroke-width: 1.5;\" x1=\"775.5\" x2=\"1020.5\" y1=\"262.9375\" y2=\"262.9375\"/></a><!--MD5=[ebbe1d658d1005bcc118a6aa81145e00]\n",
       "class E4--><a href=\"psysml:2191378b-ca02-41a1-b0d4-dddc41a2a35d\" target=\"_top\" title=\"psysml:2191378b-ca02-41a1-b0d4-dddc41a2a35d\" xlink:actuate=\"onRequest\" xlink:href=\"psysml:2191378b-ca02-41a1-b0d4-dddc41a2a35d\" xlink:show=\"new\" xlink:title=\"psysml:2191378b-ca02-41a1-b0d4-dddc41a2a35d\" xlink:type=\"simple\"><rect fill=\"#FFFFFF\" height=\"117.9609\" id=\"E4\" style=\"stroke: #383838; stroke-width: 1.5;\" width=\"154\" x=\"281\" y=\"189\"/><text fill=\"#000000\" font-family=\"sans-serif\" font-size=\"12\" font-style=\"italic\" lengthAdjust=\"spacingAndGlyphs\" textLength=\"119\" x=\"298.5\" y=\"205.1387\">«requirement  def»</text><text fill=\"#000000\" font-family=\"sans-serif\" font-size=\"12\" lengthAdjust=\"spacingAndGlyphs\" textLength=\"148\" x=\"284\" y=\"219.1074\">Parameteriseerbare eis</text><line style=\"stroke: #383838; stroke-width: 1.5;\" x1=\"282\" x2=\"434\" y1=\"226.9375\" y2=\"226.9375\"/><text fill=\"#000000\" font-family=\"sans-serif\" font-size=\"11\" lengthAdjust=\"spacingAndGlyphs\" textLength=\"60\" x=\"287\" y=\"257.9526\">X: Number</text><line style=\"stroke: #383838; stroke-width: 1.0;\" x1=\"282\" x2=\"330.5\" y1=\"241.3398\" y2=\"241.3398\"/><text fill=\"#000000\" font-family=\"sans-serif\" font-size=\"11\" lengthAdjust=\"spacingAndGlyphs\" textLength=\"55\" x=\"330.5\" y=\"244.6479\">attributes</text><line style=\"stroke: #383838; stroke-width: 1.0;\" x1=\"385.5\" x2=\"434\" y1=\"241.3398\" y2=\"241.3398\"/><text fill=\"#000000\" font-family=\"sans-serif\" font-size=\"11\" font-weight=\"bold\" lengthAdjust=\"spacingAndGlyphs\" textLength=\"46\" x=\"287\" y=\"287.562\">require</text><text fill=\"#000000\" font-family=\"sans-serif\" font-size=\"11\" lengthAdjust=\"spacingAndGlyphs\" textLength=\"57\" x=\"337\" y=\"287.562\">{ X &gt;  0 }</text><text fill=\"#000000\" font-family=\"sans-serif\" font-size=\"11\" font-weight=\"bold\" lengthAdjust=\"spacingAndGlyphs\" textLength=\"46\" x=\"287\" y=\"300.3667\">require</text><text fill=\"#000000\" font-family=\"sans-serif\" font-size=\"11\" lengthAdjust=\"spacingAndGlyphs\" textLength=\"62\" x=\"337\" y=\"300.3667\">{ X &lt;= 5 }</text><line style=\"stroke: #383838; stroke-width: 1.0;\" x1=\"282\" x2=\"326\" y1=\"270.9492\" y2=\"270.9492\"/><text fill=\"#000000\" font-family=\"sans-serif\" font-size=\"11\" lengthAdjust=\"spacingAndGlyphs\" textLength=\"64\" x=\"326\" y=\"274.2573\">constraints</text><line style=\"stroke: #383838; stroke-width: 1.0;\" x1=\"390\" x2=\"434\" y1=\"270.9492\" y2=\"270.9492\"/></a><!--MD5=[60a26617385b1d2d0262a64233df1f8d]\n",
       "class E6--><a href=\"psysml:1d546b74-2fd6-442e-992e-45210542f6dd\" target=\"_top\" title=\"psysml:1d546b74-2fd6-442e-992e-45210542f6dd\" xlink:actuate=\"onRequest\" xlink:href=\"psysml:1d546b74-2fd6-442e-992e-45210542f6dd\" xlink:show=\"new\" xlink:title=\"psysml:1d546b74-2fd6-442e-992e-45210542f6dd\" xlink:type=\"simple\"><rect fill=\"#FFFFFF\" height=\"88.3516\" id=\"E6\" rx=\"10\" ry=\"10\" style=\"stroke: #383838; stroke-width: 1.5;\" width=\"408\" x=\"343\" y=\"41\"/><text fill=\"#000000\" font-family=\"sans-serif\" font-size=\"12\" font-style=\"italic\" lengthAdjust=\"spacingAndGlyphs\" textLength=\"91\" x=\"501.5\" y=\"57.1387\">«requirement»</text><text fill=\"#000000\" font-family=\"sans-serif\" font-size=\"12\" lengthAdjust=\"spacingAndGlyphs\" textLength=\"0\" x=\"350\" y=\"71.1074\"/><text fill=\"#000000\" font-family=\"sans-serif\" font-size=\"12\" font-weight=\"bold\" lengthAdjust=\"spacingAndGlyphs\" textLength=\"79\" x=\"350\" y=\"71.1074\">&lt;EIS_0002&gt;</text><text fill=\"#000000\" font-family=\"sans-serif\" font-size=\"12\" lengthAdjust=\"spacingAndGlyphs\" textLength=\"311\" x=\"433\" y=\"71.1074\">Een tweede requirement: Parameteriseerbare eis</text><line style=\"stroke: #383838; stroke-width: 1.5;\" x1=\"344\" x2=\"750\" y1=\"78.9375\" y2=\"78.9375\"/><text fill=\"#000000\" font-family=\"sans-serif\" font-size=\"11\" lengthAdjust=\"spacingAndGlyphs\" textLength=\"31\" x=\"349\" y=\"109.9526\">X= 5;</text><text fill=\"#000000\" font-family=\"sans-serif\" font-size=\"11\" font-style=\"italic\" lengthAdjust=\"spacingAndGlyphs\" textLength=\"173\" x=\"349\" y=\"122.7573\">:&gt;&gt;Parameteriseerbare eis::X</text><line style=\"stroke: #383838; stroke-width: 1.0;\" x1=\"344\" x2=\"519.5\" y1=\"93.3398\" y2=\"93.3398\"/><text fill=\"#000000\" font-family=\"sans-serif\" font-size=\"11\" lengthAdjust=\"spacingAndGlyphs\" textLength=\"55\" x=\"519.5\" y=\"96.6479\">attributes</text><line style=\"stroke: #383838; stroke-width: 1.0;\" x1=\"574.5\" x2=\"750\" y1=\"93.3398\" y2=\"93.3398\"/></a><path d=\"M786,72.5 L786,97.6328 A0,0 0 0 0 786,97.6328 L899.57,97.6328 L898.83,224.77 L907.57,97.6328 L1022,97.6328 A0,0 0 0 0 1022,97.6328 L1022,82.5 L1012,72.5 L786,72.5 A0,0 0 0 0 786,72.5 \" fill=\"#ECECEC\" style=\"stroke: #383838; stroke-width: 1.0;\"/><path d=\"M1012,72.5 L1012,82.5 L1022,82.5 L1012,72.5 \" fill=\"#ECECEC\" style=\"stroke: #383838; stroke-width: 1.0;\"/><a href=\"psysml:a7e5d7f1-a18f-4e68-ba6f-50b0f6347409\" target=\"_top\" title=\"psysml:a7e5d7f1-a18f-4e68-ba6f-50b0f6347409\" xlink:actuate=\"onRequest\" xlink:href=\"psysml:a7e5d7f1-a18f-4e68-ba6f-50b0f6347409\" xlink:show=\"new\" xlink:title=\"psysml:a7e5d7f1-a18f-4e68-ba6f-50b0f6347409\" xlink:type=\"simple\"><text fill=\"#1C1C1C\" font-family=\"sans-serif\" font-size=\"13\" lengthAdjust=\"spacingAndGlyphs\" text-decoration=\"underline\" textLength=\"13\" x=\"792\" y=\"89.5669\">@</text></a><text fill=\"#000000\" font-family=\"sans-serif\" font-size=\"13\" lengthAdjust=\"spacingAndGlyphs\" textLength=\"202\" x=\"805\" y=\"89.5669\">Het systeem dient blah te doen</text><path d=\"M32,72.5 L32,97.6328 A0,0 0 0 0 32,97.6328 L179.52,97.6328 L290.05,188.81 L187.52,97.6328 L308,97.6328 A0,0 0 0 0 308,97.6328 L308,82.5 L298,72.5 L32,72.5 A0,0 0 0 0 32,72.5 \" fill=\"#ECECEC\" style=\"stroke: #383838; stroke-width: 1.0;\"/><path d=\"M298,72.5 L298,82.5 L308,82.5 L298,72.5 \" fill=\"#ECECEC\" style=\"stroke: #383838; stroke-width: 1.0;\"/><a href=\"psysml:2a6cff90-8c27-42b3-a485-b7b60c3664be\" target=\"_top\" title=\"psysml:2a6cff90-8c27-42b3-a485-b7b60c3664be\" xlink:actuate=\"onRequest\" xlink:href=\"psysml:2a6cff90-8c27-42b3-a485-b7b60c3664be\" xlink:show=\"new\" xlink:title=\"psysml:2a6cff90-8c27-42b3-a485-b7b60c3664be\" xlink:type=\"simple\"><text fill=\"#1C1C1C\" font-family=\"sans-serif\" font-size=\"13\" lengthAdjust=\"spacingAndGlyphs\" text-decoration=\"underline\" textLength=\"13\" x=\"38\" y=\"89.5669\">@</text></a><text fill=\"#000000\" font-family=\"sans-serif\" font-size=\"13\" lengthAdjust=\"spacingAndGlyphs\" textLength=\"242\" x=\"51\" y=\"89.5669\">Het systeem dient iets X keer te doen</text><!--MD5=[f667431f98296947986a1a7595a31603]\n",
       "link E6 to E4--><a href=\"psysml:c5f8f477-27e9-408b-a3aa-41caab33d289\" target=\"_top\" title=\"psysml:c5f8f477-27e9-408b-a3aa-41caab33d289\" xlink:actuate=\"onRequest\" xlink:href=\"psysml:c5f8f477-27e9-408b-a3aa-41caab33d289\" xlink:show=\"new\" xlink:title=\"psysml:c5f8f477-27e9-408b-a3aa-41caab33d289\" xlink:type=\"simple\"><path d=\"M496.35,129.15 C479.52,143.48 460.31,159.85 441.67,175.73 \" fill=\"none\" id=\"E6-&gt;E4\" style=\"stroke: #383838; stroke-width: 1.0;\"/><polygon fill=\"#FFFFFF\" points=\"426.21,188.9,436.1351,171.2508,445.2132,181.9086,426.21,188.9\" style=\"stroke: #383838; stroke-width: 1.0;\"/><ellipse cx=\"441.7712\" cy=\"169.0773\" fill=\"#383838\" rx=\"2\" ry=\"2\" style=\"stroke: #383838; stroke-width: 1.0;\"/><ellipse cx=\"448.2555\" cy=\"176.69\" fill=\"#383838\" rx=\"2\" ry=\"2\" style=\"stroke: #383838; stroke-width: 1.0;\"/></a><!--MD5=[98f1c8d493bd94344e68f42eb9bef6c8]\n",
       "@startuml\r\n",
       "skinparam monochrome true\r\n",
       "skinparam classbackgroundcolor white\r\n",
       "skinparam shadowing false\r\n",
       "skinparam wrapWidth 300\r\n",
       "hide circle\r\n",
       "\r\n",
       "package \"Eisen\" as E1  [[psysml:50b9ef41-cfb5-4497-964e-9be094c19821 ]]  {\r\n",
       "comp usage \" <b>~<EIS_0001></b> Een eerste requirement \" as E2  <<(T,blue) requirement>> [[psysml:dccbaffb-214a-4426-a3bd-1cd486faa637 ]] {\r\n",
       "}\r\n",
       "comp def \"Parameteriseerbare eis\" as E4  <<(T,blue) requirement  def>> [[psysml:2191378b-ca02-41a1-b0d4-dddc41a2a35d ]] {\r\n",
       "- - attributes - -\r\n",
       "X: Number\r\n",
       "- - constraints - -\r\n",
       "<b>require</b> { X >  0 }\r\n",
       "<b>require</b> { X <= 5 }\r\n",
       "}\r\n",
       "comp usage \" <b>~<EIS_0002></b> Een tweede requirement: Parameteriseerbare eis \" as E6  <<(T,blue) requirement>> [[psysml:1d546b74-2fd6-442e-992e-45210542f6dd ]] {\r\n",
       "- - attributes - -\r\n",
       "X= 5; \\n//:>>Parameteriseerbare eis::X// \r\n",
       "}\r\n",
       "note as E3\r\n",
       "[[psysml:a7e5d7f1-a18f-4e68-ba6f-50b0f6347409 @]]Het systeem dient blah te doen\r\n",
       "end note \r\n",
       "note as E5\r\n",
       "[[psysml:2a6cff90-8c27-42b3-a485-b7b60c3664be @]]Het systeem dient iets X keer te doen\r\n",
       "end note \r\n",
       "}\r\n",
       "E3 .. E2 [[psysml:a7e5d7f1-a18f-4e68-ba6f-50b0f6347409 ]] \r\n",
       "E5 .. E4 [[psysml:2a6cff90-8c27-42b3-a485-b7b60c3664be ]] \r\n",
       "E6 - -:|> E4 [[psysml:c5f8f477-27e9-408b-a3aa-41caab33d289 ]] \r\n",
       "@enduml\r\n",
       "\n",
       "PlantUML version 1.2020.13(Sat Jun 13 05:26:38 PDT 2020)\n",
       "(EPL source distribution)\n",
       "Java Runtime: OpenJDK Runtime Environment\n",
       "JVM: OpenJDK 64-Bit Server VM\n",
       "Default Encoding: UTF-8\n",
       "Language: en\n",
       "Country: US\n",
       "--></g></svg>"
      ]
     },
     "execution_count": 61,
     "metadata": {},
     "output_type": "execute_result"
    }
   ],
   "source": [
    "%viz Eisen"
   ]
  },
  {
   "cell_type": "markdown",
   "id": "ce4db541",
   "metadata": {},
   "source": [
    "## Eisenallocatie\n",
    "\n",
    "Als we willen uitdrukken dat eeneen systeemelement voldoet aan een eis:"
   ]
  },
  {
   "cell_type": "code",
   "execution_count": 56,
   "id": "3a837225",
   "metadata": {},
   "outputs": [
    {
     "data": {
      "text/plain": [
       "Package Eisenallocatie (15398613-b855-4aff-b9ef-9a3a9514a37d)\n"
      ]
     },
     "execution_count": 56,
     "metadata": {},
     "output_type": "execute_result"
    }
   ],
   "source": [
    "package Eisenallocatie {\n",
    "    \n",
    "    import Eisen::*;\n",
    "    \n",
    "    \n",
    "    part Eisvervuller {\n",
    "        import ScalarValues::Number;\n",
    "        \n",
    "        attribute aantal:Number;\n",
    "        \n",
    "        // aan de volgende eisen zal deze eisvervuller voldoen\n",
    "        satisfy 'Een eerste requirement' by Eisvervuller;\n",
    "        satisfy 'Een tweede requirement' by aantal;\n",
    "    }\n",
    "    \n",
    "}"
   ]
  },
  {
   "cell_type": "code",
   "execution_count": 57,
   "id": "1369d68a",
   "metadata": {},
   "outputs": [
    {
     "data": {
      "image/svg+xml": [
       "<?xml version=\"1.0\" encoding=\"UTF-8\" standalone=\"no\"?><svg xmlns=\"http://www.w3.org/2000/svg\" xmlns:xlink=\"http://www.w3.org/1999/xlink\" contentScriptType=\"application/ecmascript\" contentStyleType=\"text/css\" height=\"145px\" preserveAspectRatio=\"none\" style=\"width:170px;height:145px;\" version=\"1.1\" viewBox=\"0 0 170 145\" width=\"170px\" zoomAndPan=\"magnify\"><defs/><g><!--MD5=[fbc87193dbaf4d95561dea2c320d4a47]\n",
       "cluster E1--><a href=\"psysml:15398613-b855-4aff-b9ef-9a3a9514a37d\" target=\"_top\" title=\"psysml:15398613-b855-4aff-b9ef-9a3a9514a37d\" xlink:actuate=\"onRequest\" xlink:href=\"psysml:15398613-b855-4aff-b9ef-9a3a9514a37d\" xlink:show=\"new\" xlink:title=\"psysml:15398613-b855-4aff-b9ef-9a3a9514a37d\" xlink:type=\"simple\"><polygon fill=\"#FFFFFF\" points=\"16,6,129,6,136,28.2969,148,28.2969,148,133,16,133,16,6\" style=\"stroke: #000000; stroke-width: 1.5;\"/><line style=\"stroke: #000000; stroke-width: 1.5;\" x1=\"16\" x2=\"136\" y1=\"28.2969\" y2=\"28.2969\"/><text fill=\"#000000\" font-family=\"sans-serif\" font-size=\"14\" font-weight=\"bold\" lengthAdjust=\"spacingAndGlyphs\" textLength=\"107\" x=\"20\" y=\"20.9951\">Eisenallocatie</text></a><!--MD5=[b4997ac47864f28c2f74865a473b2911]\n",
       "class E2--><a href=\"psysml:acdac609-88e9-42da-a5a4-fe9b0c62fe83\" target=\"_top\" title=\"psysml:acdac609-88e9-42da-a5a4-fe9b0c62fe83\" xlink:actuate=\"onRequest\" xlink:href=\"psysml:acdac609-88e9-42da-a5a4-fe9b0c62fe83\" xlink:show=\"new\" xlink:title=\"psysml:acdac609-88e9-42da-a5a4-fe9b0c62fe83\" xlink:type=\"simple\"><rect fill=\"#FFFFFF\" height=\"75.5469\" id=\"E2\" rx=\"10\" ry=\"10\" style=\"stroke: #383838; stroke-width: 1.5;\" width=\"100\" x=\"32\" y=\"41\"/><text fill=\"#000000\" font-family=\"sans-serif\" font-size=\"12\" font-style=\"italic\" lengthAdjust=\"spacingAndGlyphs\" textLength=\"40\" x=\"62\" y=\"57.1387\">«part»</text><text fill=\"#000000\" font-family=\"sans-serif\" font-size=\"12\" lengthAdjust=\"spacingAndGlyphs\" textLength=\"70\" x=\"45\" y=\"71.1074\">Eisvervuller</text><line style=\"stroke: #383838; stroke-width: 1.5;\" x1=\"33\" x2=\"131\" y1=\"78.9375\" y2=\"78.9375\"/><text fill=\"#000000\" font-family=\"sans-serif\" font-size=\"11\" lengthAdjust=\"spacingAndGlyphs\" textLength=\"88\" x=\"38\" y=\"109.9526\">aantal: Number</text><line style=\"stroke: #383838; stroke-width: 1.0;\" x1=\"33\" x2=\"54.5\" y1=\"93.3398\" y2=\"93.3398\"/><text fill=\"#000000\" font-family=\"sans-serif\" font-size=\"11\" lengthAdjust=\"spacingAndGlyphs\" textLength=\"55\" x=\"54.5\" y=\"96.6479\">attributes</text><line style=\"stroke: #383838; stroke-width: 1.0;\" x1=\"109.5\" x2=\"131\" y1=\"93.3398\" y2=\"93.3398\"/></a><!--MD5=[a230241e0a5bc5d96f8dc1c04d33491d]\n",
       "@startuml\r\n",
       "skinparam monochrome true\r\n",
       "skinparam classbackgroundcolor white\r\n",
       "skinparam shadowing false\r\n",
       "skinparam wrapWidth 300\r\n",
       "hide circle\r\n",
       "\r\n",
       "package \"Eisenallocatie\" as E1  [[psysml:15398613-b855-4aff-b9ef-9a3a9514a37d ]]  {\r\n",
       "comp usage \"Eisvervuller \" as E2  <<(T,blue) part>> [[psysml:acdac609-88e9-42da-a5a4-fe9b0c62fe83 ]] {\r\n",
       "- - attributes - -\r\n",
       "aantal: Number\r\n",
       "}\r\n",
       "}\r\n",
       "@enduml\r\n",
       "\n",
       "PlantUML version 1.2020.13(Sat Jun 13 05:26:38 PDT 2020)\n",
       "(EPL source distribution)\n",
       "Java Runtime: OpenJDK Runtime Environment\n",
       "JVM: OpenJDK 64-Bit Server VM\n",
       "Default Encoding: UTF-8\n",
       "Language: en\n",
       "Country: US\n",
       "--></g></svg>"
      ]
     },
     "execution_count": 57,
     "metadata": {},
     "output_type": "execute_result"
    }
   ],
   "source": [
    "%viz Eisenallocatie"
   ]
  },
  {
   "cell_type": "markdown",
   "id": "80dace11",
   "metadata": {},
   "source": [
    "## Functies en functiehierarchy \n",
    "\n",
    "Binnen de GWW sector wordt vaak de aanpak van 'functioneel specificeren' gebruikt. Hiertoe wordt een functiehierarchie of functieboom opgezet. Aan die functies kunnen dan eisen worden gekoppeld.  In SysML v2 kan deze op de volgende manier worden gespecificeerd."
   ]
  },
  {
   "cell_type": "code",
   "execution_count": 82,
   "id": "fbd85f82",
   "metadata": {},
   "outputs": [
    {
     "data": {
      "text/plain": [
       "Package Functieboom (bd7d9b94-7102-4751-9343-220b663dad4a)\n"
      ]
     },
     "execution_count": 82,
     "metadata": {},
     "output_type": "execute_result"
    }
   ],
   "source": [
    "package Functieboom {\n",
    "    \n",
    "    action topfunctie {\n",
    "        import Eisen::*;\n",
    "        \n",
    "        action deelfunctie1 {\n",
    "            satisfy 'Een eerste requirement';\n",
    "        }\n",
    "        \n",
    "        action deelfunctie2 {\n",
    "            satisfy 'Een tweede requirement';\n",
    "        }\n",
    "        \n",
    "        // De volgorde van uitvoering, inclusief beslissingen etc. zou verder \n",
    "        // uitgewerkt kunnen worden. Voor laten deelfunctie2 volgen op deelfunctie1\n",
    "        first deelfunctie1 then deelfunctie2;\n",
    "    }\n",
    "}"
   ]
  },
  {
   "cell_type": "code",
   "execution_count": 81,
   "id": "dc0346aa",
   "metadata": {},
   "outputs": [
    {
     "data": {
      "image/svg+xml": [
       "<?xml version=\"1.0\" encoding=\"UTF-8\" standalone=\"no\"?><svg xmlns=\"http://www.w3.org/2000/svg\" xmlns:xlink=\"http://www.w3.org/1999/xlink\" contentScriptType=\"application/ecmascript\" contentStyleType=\"text/css\" height=\"298px\" preserveAspectRatio=\"none\" style=\"width:206px;height:298px;\" version=\"1.1\" viewBox=\"0 0 206 298\" width=\"206px\" zoomAndPan=\"magnify\"><defs/><g><!--MD5=[fbc87193dbaf4d95561dea2c320d4a47]\n",
       "cluster E1--><a href=\"psysml:3581d0d5-d757-42da-8977-63cb71c423e2\" target=\"_top\" title=\"psysml:3581d0d5-d757-42da-8977-63cb71c423e2\" xlink:actuate=\"onRequest\" xlink:href=\"psysml:3581d0d5-d757-42da-8977-63cb71c423e2\" xlink:show=\"new\" xlink:title=\"psysml:3581d0d5-d757-42da-8977-63cb71c423e2\" xlink:type=\"simple\"><polygon fill=\"#FFFFFF\" points=\"16,6,124,6,131,28.2969,184,28.2969,184,286,16,286,16,6\" style=\"stroke: #000000; stroke-width: 1.5;\"/><line style=\"stroke: #000000; stroke-width: 1.5;\" x1=\"16\" x2=\"131\" y1=\"28.2969\" y2=\"28.2969\"/><text fill=\"#000000\" font-family=\"sans-serif\" font-size=\"14\" font-weight=\"bold\" lengthAdjust=\"spacingAndGlyphs\" textLength=\"102\" x=\"20\" y=\"20.9951\">Functieboom</text></a><!--MD5=[e4f7fae6ed58524ba242bb0b0d3be6b7]\n",
       "cluster E2--><a href=\"psysml:56864bea-fb13-428d-adfd-fd374cfce293\" target=\"_top\" title=\"psysml:56864bea-fb13-428d-adfd-fd374cfce293\" xlink:actuate=\"onRequest\" xlink:href=\"psysml:56864bea-fb13-428d-adfd-fd374cfce293\" xlink:show=\"new\" xlink:title=\"psysml:56864bea-fb13-428d-adfd-fd374cfce293\" xlink:type=\"simple\"><rect fill=\"#FFFFFF\" height=\"213\" id=\"E2\" rx=\"10\" ry=\"10\" style=\"stroke: #383838; stroke-width: 1.5;\" width=\"120\" x=\"40\" y=\"49\"/><rect fill=\"#F8F8F8\" height=\"37.9375\" rx=\"10\" ry=\"10\" style=\"stroke: #F8F8F8; stroke-width: 1.5;\" width=\"120\" x=\"40\" y=\"49\"/><rect fill=\"#F8F8F8\" height=\"10\" style=\"stroke: #F8F8F8; stroke-width: 1.5;\" width=\"120\" x=\"40\" y=\"76.9375\"/><rect fill=\"none\" height=\"213\" id=\"E2\" rx=\"10\" ry=\"10\" style=\"stroke: #383838; stroke-width: 1.5;\" width=\"120\" x=\"40\" y=\"49\"/><text fill=\"#000000\" font-family=\"sans-serif\" font-size=\"12\" font-style=\"italic\" lengthAdjust=\"spacingAndGlyphs\" textLength=\"53\" x=\"73.5\" y=\"65.1387\">«action»</text><text fill=\"#000000\" font-family=\"sans-serif\" font-size=\"12\" lengthAdjust=\"spacingAndGlyphs\" textLength=\"64\" x=\"68\" y=\"79.1074\">topfunctie</text><line style=\"stroke: #383838; stroke-width: 1.0;\" x1=\"40\" x2=\"160\" y1=\"86.9375\" y2=\"86.9375\"/></a><g id=\"E1.E2.E3\"><a href=\"psysml:dde6d68b-3aa3-4b33-8b33-d79cedecaa30\" target=\"_top\" title=\"psysml:dde6d68b-3aa3-4b33-8b33-d79cedecaa30\" xlink:actuate=\"onRequest\" xlink:href=\"psysml:dde6d68b-3aa3-4b33-8b33-d79cedecaa30\" xlink:show=\"new\" xlink:title=\"psysml:dde6d68b-3aa3-4b33-8b33-d79cedecaa30\" xlink:type=\"simple\"><rect fill=\"#FFFFFF\" height=\"42.9375\" id=\"E3\" rx=\"10\" ry=\"10\" style=\"stroke: #383838; stroke-width: 1.5;\" width=\"89\" x=\"55.5\" y=\"100\"/><rect fill=\"#F8F8F8\" height=\"37.9375\" rx=\"10\" ry=\"10\" style=\"stroke: #F8F8F8; stroke-width: 1.5;\" width=\"89\" x=\"55.5\" y=\"100\"/><rect fill=\"#F8F8F8\" height=\"10\" style=\"stroke: #F8F8F8; stroke-width: 1.5;\" width=\"89\" x=\"55.5\" y=\"127.9375\"/><rect fill=\"none\" height=\"42.9375\" id=\"E3\" rx=\"10\" ry=\"10\" style=\"stroke: #383838; stroke-width: 1.5;\" width=\"89\" x=\"55.5\" y=\"100\"/><text fill=\"#000000\" font-family=\"sans-serif\" font-size=\"12\" font-style=\"italic\" lengthAdjust=\"spacingAndGlyphs\" textLength=\"53\" x=\"73.5\" y=\"116.1387\">«action»</text><text fill=\"#000000\" font-family=\"sans-serif\" font-size=\"12\" lengthAdjust=\"spacingAndGlyphs\" textLength=\"78\" x=\"61\" y=\"130.1074\">deelfunctie1</text></a></g><g id=\"E1.E2.E4\"><a href=\"psysml:d8b1ceb4-8b67-49a7-993e-48cc619a8623\" target=\"_top\" title=\"psysml:d8b1ceb4-8b67-49a7-993e-48cc619a8623\" xlink:actuate=\"onRequest\" xlink:href=\"psysml:d8b1ceb4-8b67-49a7-993e-48cc619a8623\" xlink:show=\"new\" xlink:title=\"psysml:d8b1ceb4-8b67-49a7-993e-48cc619a8623\" xlink:type=\"simple\"><rect fill=\"#FFFFFF\" height=\"42.9375\" id=\"E4\" rx=\"10\" ry=\"10\" style=\"stroke: #383838; stroke-width: 1.5;\" width=\"89\" x=\"55.5\" y=\"203\"/><rect fill=\"#F8F8F8\" height=\"37.9375\" rx=\"10\" ry=\"10\" style=\"stroke: #F8F8F8; stroke-width: 1.5;\" width=\"89\" x=\"55.5\" y=\"203\"/><rect fill=\"#F8F8F8\" height=\"10\" style=\"stroke: #F8F8F8; stroke-width: 1.5;\" width=\"89\" x=\"55.5\" y=\"230.9375\"/><rect fill=\"none\" height=\"42.9375\" id=\"E4\" rx=\"10\" ry=\"10\" style=\"stroke: #383838; stroke-width: 1.5;\" width=\"89\" x=\"55.5\" y=\"203\"/><text fill=\"#000000\" font-family=\"sans-serif\" font-size=\"12\" font-style=\"italic\" lengthAdjust=\"spacingAndGlyphs\" textLength=\"53\" x=\"73.5\" y=\"219.1387\">«action»</text><text fill=\"#000000\" font-family=\"sans-serif\" font-size=\"12\" lengthAdjust=\"spacingAndGlyphs\" textLength=\"78\" x=\"61\" y=\"233.1074\">deelfunctie2</text></a></g><!--MD5=[af87c684e3b0d8be13c1a698a818ef1e]\n",
       "link E3 to E4--><a href=\"psysml:016935cd-18c1-4196-bc3d-b203b597bdcb\" target=\"_top\" title=\"psysml:016935cd-18c1-4196-bc3d-b203b597bdcb\" xlink:actuate=\"onRequest\" xlink:href=\"psysml:016935cd-18c1-4196-bc3d-b203b597bdcb\" xlink:show=\"new\" xlink:title=\"psysml:016935cd-18c1-4196-bc3d-b203b597bdcb\" xlink:type=\"simple\"><path d=\"M100,143.43 C100,159.24 100,181.03 100,197.88 \" fill=\"none\" id=\"E3-&gt;E4\" style=\"stroke: #383838; stroke-width: 1.0;\"/><polygon fill=\"#383838\" points=\"100,202.95,104,193.95,100,197.95,96,193.95,100,202.95\" style=\"stroke: #383838; stroke-width: 1.0;\"/><text fill=\"#000000\" font-family=\"sans-serif\" font-size=\"13\" lengthAdjust=\"spacingAndGlyphs\" textLength=\"7\" x=\"92.0156\" y=\"191.874\">*</text></a><!--MD5=[b6eb650ec31832da9826dfbe31e1d3ee]\n",
       "@startuml\r\n",
       "skinparam monochrome true\r\n",
       "skinparam classbackgroundcolor white\r\n",
       "skinparam shadowing false\r\n",
       "skinparam wrapWidth 300\r\n",
       "hide circle\r\n",
       "\r\n",
       "package \"Functieboom\" as E1  [[psysml:3581d0d5-d757-42da-8977-63cb71c423e2 ]]  {\r\n",
       "rec usage \"topfunctie\" as E2  <<(T,blue) action>> [[psysml:56864bea-fb13-428d-adfd-fd374cfce293 ]] {\r\n",
       "rec usage \"deelfunctie1\" as E3  <<(T,blue) action>> [[psysml:dde6d68b-3aa3-4b33-8b33-d79cedecaa30 ]] {\r\n",
       "}\r\n",
       "\r\n",
       "rec usage \"deelfunctie2\" as E4  <<(T,blue) action>> [[psysml:d8b1ceb4-8b67-49a7-993e-48cc619a8623 ]] {\r\n",
       "}\r\n",
       "\r\n",
       "}\r\n",
       "\r\n",
       "}\r\n",
       "E3 - -> \"*\"E4 [[psysml:016935cd-18c1-4196-bc3d-b203b597bdcb ]] \r\n",
       "@enduml\r\n",
       "\n",
       "PlantUML version 1.2020.13(Sat Jun 13 05:26:38 PDT 2020)\n",
       "(EPL source distribution)\n",
       "Java Runtime: OpenJDK Runtime Environment\n",
       "JVM: OpenJDK 64-Bit Server VM\n",
       "Default Encoding: UTF-8\n",
       "Language: en\n",
       "Country: US\n",
       "--></g></svg>"
      ]
     },
     "execution_count": 81,
     "metadata": {},
     "output_type": "execute_result"
    }
   ],
   "source": [
    "%viz Functieboom"
   ]
  },
  {
   "cell_type": "markdown",
   "id": "fbead9ad",
   "metadata": {},
   "source": [
    "`note: de multipliciteit in bovenstaand diagram is mogelijk het gevolg van prototype blues.`"
   ]
  },
  {
   "cell_type": "markdown",
   "id": "6c758cfd",
   "metadata": {},
   "source": [
    "## Functieallocatie\n",
    "    \n",
    "Een functiehierarchie en *objectenhierarchie* worden meestal simultaan opgebouwd. Korte(re) namen hiervoor zijn functieboom en objectenboom."
   ]
  },
  {
   "cell_type": "code",
   "execution_count": 84,
   "id": "c415ced0",
   "metadata": {},
   "outputs": [
    {
     "data": {
      "text/plain": [
       "Package objectenboom (268420c1-616a-40f2-8853-ea2913b246b6)\n"
      ]
     },
     "execution_count": 84,
     "metadata": {},
     "output_type": "execute_result"
    }
   ],
   "source": [
    "package objectenboom {\n",
    "    import Functieboom::*;\n",
    "    \n",
    "    part systeem {\n",
    "        perform topfunctie;\n",
    "            \n",
    "        part subsysteem1{\n",
    "            perform topfunctie.deelfunctie1;\n",
    "        }\n",
    "        part subsysteem2 {\n",
    "            perform topfunctie.deelfunctie2;\n",
    "        }\n",
    "    }\n",
    "    \n",
    "}"
   ]
  },
  {
   "cell_type": "code",
   "execution_count": 85,
   "id": "f777ed04",
   "metadata": {},
   "outputs": [
    {
     "data": {
      "image/svg+xml": [
       "<?xml version=\"1.0\" encoding=\"UTF-8\" standalone=\"no\"?><svg xmlns=\"http://www.w3.org/2000/svg\" xmlns:xlink=\"http://www.w3.org/1999/xlink\" contentScriptType=\"application/ecmascript\" contentStyleType=\"text/css\" height=\"345px\" preserveAspectRatio=\"none\" style=\"width:635px;height:345px;\" version=\"1.1\" viewBox=\"0 0 635 345\" width=\"635px\" zoomAndPan=\"magnify\"><defs/><g><!--MD5=[fbc87193dbaf4d95561dea2c320d4a47]\n",
       "cluster E1--><a href=\"psysml:268420c1-616a-40f2-8853-ea2913b246b6\" target=\"_top\" title=\"psysml:268420c1-616a-40f2-8853-ea2913b246b6\" xlink:actuate=\"onRequest\" xlink:href=\"psysml:268420c1-616a-40f2-8853-ea2913b246b6\" xlink:show=\"new\" xlink:title=\"psysml:268420c1-616a-40f2-8853-ea2913b246b6\" xlink:type=\"simple\"><polygon fill=\"#FFFFFF\" points=\"16,6,135,6,142,28.2969,613,28.2969,613,333.5,16,333.5,16,6\" style=\"stroke: #000000; stroke-width: 1.5;\"/><line style=\"stroke: #000000; stroke-width: 1.5;\" x1=\"16\" x2=\"142\" y1=\"28.2969\" y2=\"28.2969\"/><text fill=\"#000000\" font-family=\"sans-serif\" font-size=\"14\" font-weight=\"bold\" lengthAdjust=\"spacingAndGlyphs\" textLength=\"113\" x=\"20\" y=\"20.9951\">objectenboom</text></a><!--MD5=[d5e69f78d87373223dbae638b30a9c99]\n",
       "cluster E3--><a href=\"psysml:47f9eb61-da94-456e-8661-5d2686917d63\" target=\"_top\" title=\"psysml:47f9eb61-da94-456e-8661-5d2686917d63\" xlink:actuate=\"onRequest\" xlink:href=\"psysml:47f9eb61-da94-456e-8661-5d2686917d63\" xlink:show=\"new\" xlink:title=\"psysml:47f9eb61-da94-456e-8661-5d2686917d63\" xlink:type=\"simple\"><rect fill=\"#FFFFFF\" height=\"126\" id=\"E3\" rx=\"10\" ry=\"10\" style=\"stroke: #383838; stroke-width: 1.5;\" width=\"301\" x=\"280\" y=\"111\"/><rect fill=\"#F8F8F8\" height=\"37.9375\" rx=\"10\" ry=\"10\" style=\"stroke: #F8F8F8; stroke-width: 1.5;\" width=\"301\" x=\"280\" y=\"111\"/><rect fill=\"#F8F8F8\" height=\"10\" style=\"stroke: #F8F8F8; stroke-width: 1.5;\" width=\"301\" x=\"280\" y=\"138.9375\"/><rect fill=\"none\" height=\"126\" id=\"E3\" rx=\"10\" ry=\"10\" style=\"stroke: #383838; stroke-width: 1.5;\" width=\"301\" x=\"280\" y=\"111\"/><text fill=\"#000000\" font-family=\"sans-serif\" font-size=\"12\" font-style=\"italic\" lengthAdjust=\"spacingAndGlyphs\" textLength=\"106\" x=\"377.5\" y=\"127.1387\">«perform action»</text><text fill=\"#000000\" font-family=\"sans-serif\" font-size=\"12\" lengthAdjust=\"spacingAndGlyphs\" textLength=\"64\" x=\"398.5\" y=\"141.1074\">topfunctie</text><line style=\"stroke: #383838; stroke-width: 1.0;\" x1=\"280\" x2=\"581\" y1=\"148.9375\" y2=\"148.9375\"/></a><!--MD5=[b4997ac47864f28c2f74865a473b2911]\n",
       "class E2--><a href=\"psysml:8e35bd57-8551-4efe-815e-23ab50946446\" target=\"_top\" title=\"psysml:8e35bd57-8551-4efe-815e-23ab50946446\" xlink:actuate=\"onRequest\" xlink:href=\"psysml:8e35bd57-8551-4efe-815e-23ab50946446\" xlink:show=\"new\" xlink:title=\"psysml:8e35bd57-8551-4efe-815e-23ab50946446\" xlink:type=\"simple\"><rect fill=\"#FFFFFF\" height=\"45.9375\" id=\"E2\" rx=\"10\" ry=\"10\" style=\"stroke: #383838; stroke-width: 1.5;\" width=\"62\" x=\"175\" y=\"41\"/><text fill=\"#000000\" font-family=\"sans-serif\" font-size=\"12\" font-style=\"italic\" lengthAdjust=\"spacingAndGlyphs\" textLength=\"40\" x=\"186\" y=\"57.1387\">«part»</text><text fill=\"#000000\" font-family=\"sans-serif\" font-size=\"12\" lengthAdjust=\"spacingAndGlyphs\" textLength=\"52\" x=\"178\" y=\"71.1074\">systeem</text><line style=\"stroke: #383838; stroke-width: 1.5;\" x1=\"176\" x2=\"236\" y1=\"78.9375\" y2=\"78.9375\"/></a><!--MD5=[60a26617385b1d2d0262a64233df1f8d]\n",
       "class E6--><a href=\"psysml:2934fb2e-151c-4981-88ad-913c8e66ae86\" target=\"_top\" title=\"psysml:2934fb2e-151c-4981-88ad-913c8e66ae86\" xlink:actuate=\"onRequest\" xlink:href=\"psysml:2934fb2e-151c-4981-88ad-913c8e66ae86\" xlink:show=\"new\" xlink:title=\"psysml:2934fb2e-151c-4981-88ad-913c8e66ae86\" xlink:type=\"simple\"><rect fill=\"#FFFFFF\" height=\"45.9375\" id=\"E6\" rx=\"10\" ry=\"10\" style=\"stroke: #383838; stroke-width: 1.5;\" width=\"93\" x=\"31.5\" y=\"168.5\"/><text fill=\"#000000\" font-family=\"sans-serif\" font-size=\"12\" font-style=\"italic\" lengthAdjust=\"spacingAndGlyphs\" textLength=\"40\" x=\"58\" y=\"184.6387\">«part»</text><text fill=\"#000000\" font-family=\"sans-serif\" font-size=\"12\" lengthAdjust=\"spacingAndGlyphs\" textLength=\"83\" x=\"34.5\" y=\"198.6074\">subsysteem1</text><line style=\"stroke: #383838; stroke-width: 1.5;\" x1=\"32.5\" x2=\"123.5\" y1=\"206.4375\" y2=\"206.4375\"/></a><!--MD5=[b9389687b975829384b498ac4b7476b2]\n",
       "class E8--><a href=\"psysml:d1492e41-3d5f-4204-8ca9-48f4fa5fa0a0\" target=\"_top\" title=\"psysml:d1492e41-3d5f-4204-8ca9-48f4fa5fa0a0\" xlink:actuate=\"onRequest\" xlink:href=\"psysml:d1492e41-3d5f-4204-8ca9-48f4fa5fa0a0\" xlink:show=\"new\" xlink:title=\"psysml:d1492e41-3d5f-4204-8ca9-48f4fa5fa0a0\" xlink:type=\"simple\"><rect fill=\"#FFFFFF\" height=\"45.9375\" id=\"E8\" rx=\"10\" ry=\"10\" style=\"stroke: #383838; stroke-width: 1.5;\" width=\"93\" x=\"159.5\" y=\"168.5\"/><text fill=\"#000000\" font-family=\"sans-serif\" font-size=\"12\" font-style=\"italic\" lengthAdjust=\"spacingAndGlyphs\" textLength=\"40\" x=\"186\" y=\"184.6387\">«part»</text><text fill=\"#000000\" font-family=\"sans-serif\" font-size=\"12\" lengthAdjust=\"spacingAndGlyphs\" textLength=\"83\" x=\"162.5\" y=\"198.6074\">subsysteem2</text><line style=\"stroke: #383838; stroke-width: 1.5;\" x1=\"160.5\" x2=\"251.5\" y1=\"206.4375\" y2=\"206.4375\"/></a><g id=\"E1.E3.E4\"><a href=\"psysml:3dae3d55-2b70-4d35-a860-c612a807d4a9\" target=\"_top\" title=\"psysml:3dae3d55-2b70-4d35-a860-c612a807d4a9\" xlink:actuate=\"onRequest\" xlink:href=\"psysml:3dae3d55-2b70-4d35-a860-c612a807d4a9\" xlink:show=\"new\" xlink:title=\"psysml:3dae3d55-2b70-4d35-a860-c612a807d4a9\" xlink:type=\"simple\"><rect fill=\"#FFFFFF\" height=\"42.9375\" id=\"E4\" rx=\"10\" ry=\"10\" style=\"stroke: #383838; stroke-width: 1.5;\" width=\"99\" x=\"457.5\" y=\"170\"/><rect fill=\"#F8F8F8\" height=\"37.9375\" rx=\"10\" ry=\"10\" style=\"stroke: #F8F8F8; stroke-width: 1.5;\" width=\"99\" x=\"457.5\" y=\"170\"/><rect fill=\"#F8F8F8\" height=\"10\" style=\"stroke: #F8F8F8; stroke-width: 1.5;\" width=\"99\" x=\"457.5\" y=\"197.9375\"/><rect fill=\"none\" height=\"42.9375\" id=\"E4\" rx=\"10\" ry=\"10\" style=\"stroke: #383838; stroke-width: 1.5;\" width=\"99\" x=\"457.5\" y=\"170\"/><text fill=\"#000000\" font-family=\"sans-serif\" font-size=\"12\" font-style=\"italic\" lengthAdjust=\"spacingAndGlyphs\" textLength=\"53\" x=\"480.5\" y=\"186.1387\">«action»</text><text fill=\"#000000\" font-family=\"sans-serif\" font-size=\"12\" lengthAdjust=\"spacingAndGlyphs\" textLength=\"88\" x=\"463\" y=\"200.1074\">^deelfunctie2</text></a></g><g id=\"E1.E3.E5\"><a href=\"psysml:56041095-19bc-4da0-b572-6275fe76b395\" target=\"_top\" title=\"psysml:56041095-19bc-4da0-b572-6275fe76b395\" xlink:actuate=\"onRequest\" xlink:href=\"psysml:56041095-19bc-4da0-b572-6275fe76b395\" xlink:show=\"new\" xlink:title=\"psysml:56041095-19bc-4da0-b572-6275fe76b395\" xlink:type=\"simple\"><rect fill=\"#FFFFFF\" height=\"42.9375\" id=\"E5\" rx=\"10\" ry=\"10\" style=\"stroke: #383838; stroke-width: 1.5;\" width=\"99\" x=\"323.5\" y=\"170\"/><rect fill=\"#F8F8F8\" height=\"37.9375\" rx=\"10\" ry=\"10\" style=\"stroke: #F8F8F8; stroke-width: 1.5;\" width=\"99\" x=\"323.5\" y=\"170\"/><rect fill=\"#F8F8F8\" height=\"10\" style=\"stroke: #F8F8F8; stroke-width: 1.5;\" width=\"99\" x=\"323.5\" y=\"197.9375\"/><rect fill=\"none\" height=\"42.9375\" id=\"E5\" rx=\"10\" ry=\"10\" style=\"stroke: #383838; stroke-width: 1.5;\" width=\"99\" x=\"323.5\" y=\"170\"/><text fill=\"#000000\" font-family=\"sans-serif\" font-size=\"12\" font-style=\"italic\" lengthAdjust=\"spacingAndGlyphs\" textLength=\"53\" x=\"346.5\" y=\"186.1387\">«action»</text><text fill=\"#000000\" font-family=\"sans-serif\" font-size=\"12\" lengthAdjust=\"spacingAndGlyphs\" textLength=\"88\" x=\"329\" y=\"200.1074\">^deelfunctie1</text></a></g><g id=\"E1.E7\"><a href=\"psysml:b33a20fe-26a0-4706-b4ae-c6d741fbef58\" target=\"_top\" title=\"psysml:b33a20fe-26a0-4706-b4ae-c6d741fbef58\" xlink:actuate=\"onRequest\" xlink:href=\"psysml:b33a20fe-26a0-4706-b4ae-c6d741fbef58\" xlink:show=\"new\" xlink:title=\"psysml:b33a20fe-26a0-4706-b4ae-c6d741fbef58\" xlink:type=\"simple\"><rect fill=\"#FFFFFF\" height=\"42.9375\" id=\"E7\" rx=\"10\" ry=\"10\" style=\"stroke: #383838; stroke-width: 1.5;\" width=\"113\" x=\"32.5\" y=\"274.5\"/><rect fill=\"#F8F8F8\" height=\"37.9375\" rx=\"10\" ry=\"10\" style=\"stroke: #F8F8F8; stroke-width: 1.5;\" width=\"113\" x=\"32.5\" y=\"274.5\"/><rect fill=\"#F8F8F8\" height=\"10\" style=\"stroke: #F8F8F8; stroke-width: 1.5;\" width=\"113\" x=\"32.5\" y=\"302.4375\"/><rect fill=\"none\" height=\"42.9375\" id=\"E7\" rx=\"10\" ry=\"10\" style=\"stroke: #383838; stroke-width: 1.5;\" width=\"113\" x=\"32.5\" y=\"274.5\"/><text fill=\"#000000\" font-family=\"sans-serif\" font-size=\"12\" font-style=\"italic\" lengthAdjust=\"spacingAndGlyphs\" textLength=\"106\" x=\"36\" y=\"290.6387\">«perform action»</text><text fill=\"#000000\" font-family=\"sans-serif\" font-size=\"12\" lengthAdjust=\"spacingAndGlyphs\" textLength=\"78\" x=\"50\" y=\"304.6074\">deelfunctie1</text></a></g><g id=\"E1.E9\"><a href=\"psysml:12ddb265-e417-4a5c-a6db-24728afee330\" target=\"_top\" title=\"psysml:12ddb265-e417-4a5c-a6db-24728afee330\" xlink:actuate=\"onRequest\" xlink:href=\"psysml:12ddb265-e417-4a5c-a6db-24728afee330\" xlink:show=\"new\" xlink:title=\"psysml:12ddb265-e417-4a5c-a6db-24728afee330\" xlink:type=\"simple\"><rect fill=\"#FFFFFF\" height=\"42.9375\" id=\"E9\" rx=\"10\" ry=\"10\" style=\"stroke: #383838; stroke-width: 1.5;\" width=\"113\" x=\"180.5\" y=\"274.5\"/><rect fill=\"#F8F8F8\" height=\"37.9375\" rx=\"10\" ry=\"10\" style=\"stroke: #F8F8F8; stroke-width: 1.5;\" width=\"113\" x=\"180.5\" y=\"274.5\"/><rect fill=\"#F8F8F8\" height=\"10\" style=\"stroke: #F8F8F8; stroke-width: 1.5;\" width=\"113\" x=\"180.5\" y=\"302.4375\"/><rect fill=\"none\" height=\"42.9375\" id=\"E9\" rx=\"10\" ry=\"10\" style=\"stroke: #383838; stroke-width: 1.5;\" width=\"113\" x=\"180.5\" y=\"274.5\"/><text fill=\"#000000\" font-family=\"sans-serif\" font-size=\"12\" font-style=\"italic\" lengthAdjust=\"spacingAndGlyphs\" textLength=\"106\" x=\"184\" y=\"290.6387\">«perform action»</text><text fill=\"#000000\" font-family=\"sans-serif\" font-size=\"12\" lengthAdjust=\"spacingAndGlyphs\" textLength=\"78\" x=\"198\" y=\"304.6074\">deelfunctie2</text></a></g><!--MD5=[209b3feb70ccb6233bfe1053d122c12c]\n",
       "reverse link E2 to E3--><a href=\"psysml:0df86a40-75df-4224-bf14-f325dabe6948\" target=\"_top\" title=\"psysml:0df86a40-75df-4224-bf14-f325dabe6948\" xlink:actuate=\"onRequest\" xlink:href=\"psysml:0df86a40-75df-4224-bf14-f325dabe6948\" xlink:show=\"new\" xlink:title=\"psysml:0df86a40-75df-4224-bf14-f325dabe6948\" xlink:type=\"simple\"><path d=\"M250.11,72.35 C263.08,76.75 275.94,83.77 284,95 C287.0488,99.2463 289.4078,103.8934 291.2007,108.7786 C291.4249,109.3893 291.6401,110.0036 291.8468,110.6214 \" fill=\"none\" id=\"E2&lt;-E3\" style=\"stroke: #383838; stroke-width: 1.0;\"/><polygon fill=\"#FFFFFF\" points=\"237.27,68.77,241.9783,74.2319,248.8309,71.9865,244.1226,66.5246,237.27,68.77\" style=\"stroke: #383838; stroke-width: 1.0;\"/><text fill=\"#000000\" font-family=\"sans-serif\" font-size=\"13\" lengthAdjust=\"spacingAndGlyphs\" textLength=\"7\" x=\"281.01\" y=\"187.5269\">*</text></a><!--MD5=[ce036f65110ae2351ccce5a81dc2e928]\n",
       "reverse link E2 to E6--><a href=\"psysml:bb3f6d65-455d-4391-98ef-d44efb8c73f0\" target=\"_top\" title=\"psysml:bb3f6d65-455d-4391-98ef-d44efb8c73f0\" xlink:actuate=\"onRequest\" xlink:href=\"psysml:bb3f6d65-455d-4391-98ef-d44efb8c73f0\" xlink:show=\"new\" xlink:title=\"psysml:bb3f6d65-455d-4391-98ef-d44efb8c73f0\" xlink:type=\"simple\"><path d=\"M162.77,81.3 C155.41,85.16 148.16,89.71 142,95 C118.07,115.54 99.3,147.1 88.44,168.26 \" fill=\"none\" id=\"E2&lt;-E6\" style=\"stroke: #383838; stroke-width: 1.0;\"/><polygon fill=\"#FFFFFF\" points=\"174.69,75.66,167.5556,74.611,163.8433,80.7931,170.9777,81.8421,174.69,75.66\" style=\"stroke: #383838; stroke-width: 1.0;\"/><text fill=\"#000000\" font-family=\"sans-serif\" font-size=\"13\" lengthAdjust=\"spacingAndGlyphs\" textLength=\"8\" x=\"82.0903\" y=\"157.4748\">1</text></a><!--MD5=[3f50a3473f1dfb74d3f76443e03635af]\n",
       "reverse link E6 to E7--><a href=\"psysml:820bc14c-f46c-4111-b25b-329b4df2983a\" target=\"_top\" title=\"psysml:820bc14c-f46c-4111-b25b-329b4df2983a\" xlink:actuate=\"onRequest\" xlink:href=\"psysml:820bc14c-f46c-4111-b25b-329b4df2983a\" xlink:show=\"new\" xlink:title=\"psysml:820bc14c-f46c-4111-b25b-329b4df2983a\" xlink:type=\"simple\"><path d=\"M81.82,228.11 C83.47,243.5 85.35,260.97 86.77,274.2 \" fill=\"none\" id=\"E6&lt;-E7\" style=\"stroke: #383838; stroke-width: 1.0;\"/><polygon fill=\"#FFFFFF\" points=\"80.39,214.74,77.0522,221.1321,81.6689,226.6717,85.0067,220.2795,80.39,214.74\" style=\"stroke: #383838; stroke-width: 1.0;\"/><text fill=\"#000000\" font-family=\"sans-serif\" font-size=\"13\" lengthAdjust=\"spacingAndGlyphs\" textLength=\"7\" x=\"78.2301\" y=\"263.4188\">*</text></a><!--MD5=[65f962d72b3a6bed1ede4f3c867e43a4]\n",
       "reverse link E2 to E8--><a href=\"psysml:0e334bb2-5f0d-4b78-854f-432277d3546f\" target=\"_top\" title=\"psysml:0e334bb2-5f0d-4b78-854f-432277d3546f\" xlink:actuate=\"onRequest\" xlink:href=\"psysml:0e334bb2-5f0d-4b78-854f-432277d3546f\" xlink:show=\"new\" xlink:title=\"psysml:0e334bb2-5f0d-4b78-854f-432277d3546f\" xlink:type=\"simple\"><path d=\"M206,100.2 C206,121.98 206,149.3 206,168.15 \" fill=\"none\" id=\"E2&lt;-E8\" style=\"stroke: #383838; stroke-width: 1.0;\"/><polygon fill=\"#FFFFFF\" points=\"206,87.15,202,93.15,206,99.15,210,93.15,206,87.15\" style=\"stroke: #383838; stroke-width: 1.0;\"/><text fill=\"#000000\" font-family=\"sans-serif\" font-size=\"13\" lengthAdjust=\"spacingAndGlyphs\" textLength=\"8\" x=\"196.975\" y=\"157.3366\">1</text></a><!--MD5=[22f5b4bae7e060dce8a1c8021efdb95b]\n",
       "reverse link E8 to E9--><a href=\"psysml:3e02b39e-11b8-4e2f-bf33-fe6d4b87ad8b\" target=\"_top\" title=\"psysml:3e02b39e-11b8-4e2f-bf33-fe6d4b87ad8b\" xlink:actuate=\"onRequest\" xlink:href=\"psysml:3e02b39e-11b8-4e2f-bf33-fe6d4b87ad8b\" xlink:show=\"new\" xlink:title=\"psysml:3e02b39e-11b8-4e2f-bf33-fe6d4b87ad8b\" xlink:type=\"simple\"><path d=\"M216.63,227.64 C221.32,243.14 226.67,260.84 230.71,274.2 \" fill=\"none\" id=\"E8&lt;-E9\" style=\"stroke: #383838; stroke-width: 1.0;\"/><polygon fill=\"#FFFFFF\" points=\"212.73,214.74,210.6329,221.6394,216.1951,226.2288,218.2922,219.3294,212.73,214.74\" style=\"stroke: #383838; stroke-width: 1.0;\"/><text fill=\"#000000\" font-family=\"sans-serif\" font-size=\"13\" lengthAdjust=\"spacingAndGlyphs\" textLength=\"7\" x=\"221.0789\" y=\"263.4188\">*</text></a><!--MD5=[7f5ce95447826ac1f796a33f233577b1]\n",
       "@startuml\r\n",
       "skinparam monochrome true\r\n",
       "skinparam classbackgroundcolor white\r\n",
       "skinparam shadowing false\r\n",
       "skinparam wrapWidth 300\r\n",
       "hide circle\r\n",
       "\r\n",
       "package \"objectenboom\" as E1  [[psysml:268420c1-616a-40f2-8853-ea2913b246b6 ]]  {\r\n",
       "comp usage \"systeem \" as E2  <<(T,blue) part>> [[psysml:8e35bd57-8551-4efe-815e-23ab50946446 ]] {\r\n",
       "}\r\n",
       "rec usage \"topfunctie\" as E3 << perform action>> [[psysml:47f9eb61-da94-456e-8661-5d2686917d63 ]] {\r\n",
       "rec usage \"^deelfunctie2\" as E4  <<(T,blue) action>> [[psysml:3dae3d55-2b70-4d35-a860-c612a807d4a9 ]] {\r\n",
       "}\r\n",
       "\r\n",
       "rec usage \"^deelfunctie1\" as E5  <<(T,blue) action>> [[psysml:56041095-19bc-4da0-b572-6275fe76b395 ]] {\r\n",
       "}\r\n",
       "\r\n",
       "}\r\n",
       "\r\n",
       "comp usage \"subsysteem1 \" as E6  <<(T,blue) part>> [[psysml:2934fb2e-151c-4981-88ad-913c8e66ae86 ]] {\r\n",
       "}\r\n",
       "rec usage \"deelfunctie1\" as E7 << perform action>> [[psysml:b33a20fe-26a0-4706-b4ae-c6d741fbef58 ]] {\r\n",
       "}\r\n",
       "\r\n",
       "comp usage \"subsysteem2 \" as E8  <<(T,blue) part>> [[psysml:d1492e41-3d5f-4204-8ca9-48f4fa5fa0a0 ]] {\r\n",
       "}\r\n",
       "rec usage \"deelfunctie2\" as E9 << perform action>> [[psysml:12ddb265-e417-4a5c-a6db-24728afee330 ]] {\r\n",
       "}\r\n",
       "\r\n",
       "}\r\n",
       "E2 o- - \"*\"E3 [[psysml:0df86a40-75df-4224-bf14-f325dabe6948 ]] \r\n",
       "E2 o- - \"1\"E6 [[psysml:bb3f6d65-455d-4391-98ef-d44efb8c73f0 ]] \r\n",
       "E6 o- - \"*\"E7 [[psysml:820bc14c-f46c-4111-b25b-329b4df2983a ]] \r\n",
       "E2 o- - \"1\"E8 [[psysml:0e334bb2-5f0d-4b78-854f-432277d3546f ]] \r\n",
       "E8 o- - \"*\"E9 [[psysml:3e02b39e-11b8-4e2f-bf33-fe6d4b87ad8b ]] \r\n",
       "@enduml\r\n",
       "\n",
       "PlantUML version 1.2020.13(Sat Jun 13 05:26:38 PDT 2020)\n",
       "(EPL source distribution)\n",
       "Java Runtime: OpenJDK Runtime Environment\n",
       "JVM: OpenJDK 64-Bit Server VM\n",
       "Default Encoding: UTF-8\n",
       "Language: en\n",
       "Country: US\n",
       "--></g></svg>"
      ]
     },
     "execution_count": 85,
     "metadata": {},
     "output_type": "execute_result"
    }
   ],
   "source": [
    "%viz objectenboom"
   ]
  },
  {
   "cell_type": "code",
   "execution_count": null,
   "id": "27584811",
   "metadata": {},
   "outputs": [],
   "source": []
  }
 ],
 "metadata": {
  "kernelspec": {
   "display_name": "SysML",
   "language": "sysml",
   "name": "sysml"
  },
  "language_info": {
   "codemirror_mode": "sysml",
   "file_extension": ".sysml",
   "mimetype": "text/x-sysml",
   "name": "SysML",
   "pygments_lexer": "java",
   "version": "1.0.0"
  }
 },
 "nbformat": 4,
 "nbformat_minor": 5
}
