{
 "cells": [
  {
   "cell_type": "markdown",
   "id": "1ca4373d",
   "metadata": {},
   "source": [
    "# Beweegbare brug casus\n",
    "## Proces 'Functioneel Specificeren'\n",
    "Functioneel specificeren is een eenvoudig proces om eisen op te stellen voor een te bouwen systeem. Hiertoe worden een objectenboom, een functieboom en eisen opgesteld. Dit proces moet niet worden verward met functionele analyse zoals bedoeld in het proces voor Functionele Analyse. De twee aanpakken zijn fundamenteel verschillend. Bij Functioneel Specificeren zijn functies bedoeld als \"hoog-over\" systeemmogelijkheden, terwijl bij Functionele Analyse functies gedragsbeschrijvingen (transformaties van Energie, Materiaal of Informatie) zijn.\n",
    "\n",
    "`Functieboom` is een hierarchie van functies, waarbij de *onderliggende* functies samen de *bovenliggende* functie vormen.  \n",
    "`Objectenboom` is een hierarchie van systeemelementen, die de dienst doen als functievervullers.  \n",
    "`Eisen`, oftwel de functionele eisen, zijn eisen die behoren bij een functie. De criteria waaraan die eisen moeten voldoen (volledigheid, precisie) hangt sterk af van de organisatie die de eisen opstelt.\n",
    "\n",
    "## Stappenplan\n",
    "In de casus zullen we het volgende stappenplan volgen:\n",
    "\n",
    "1. Identifieer het systeem\n",
    "2. Bepaal wat het systeem moet doen (opgeschreven als `werkwoord` + `lijdend voorwerp`).\n",
    "3. Stel de eisen op voor idere functie die zojuist zijn geidentificeeerd\n",
    "4. Werk het systeem uit in subsystemen (decompositie), zodanig dat deze voldoet aan de eisen.\n",
    "\n",
    "**aandachtspunten**\n",
    "1. Een systeem heeft *gegeven* `externe raakvlakken` / interfaces. Denk daarbij aan de inpassing in de omgeving, contextsystemen, etc. Alle relaties met entiteiten die zelf niet binnen de systeemgrenzen vallen.  Externe raakvlakken **kunnen** eisen opleggen aan het systeem.\n",
    "2. Als een systeem wordt opgeknipt in subsystemen, dan dienen die subsystemen samen weer het systeem te vormen, qua structuur *maar ook qua gedrag*. Dat houdt in dat elke decompositie van een systeem leidt tot een verzameling subsystemen die onderling een interactie moeten aangaan. Die interactie verloopt via `interne raakvlakken`. Eisen voor die interne raakvlakken dienen ook opgesteld te worden.\n",
    "\n",
    "In de casus zullen we min of meer het proces van functioneel specificeren volgen. De opdrachten leiden langs de stappen van functioneel specificeren.\n",
    "\n",
    "\n",
    "## Het probleem\n",
    "Er zijn twee verkeesrstromen (scheepvaart en wegverkeer) die elkaar moeten kruisen.\n",
    "\n",
    "![probleem](Problem-to-be-solved.png)\n",
    "\n",
    "Mogelijke oplossingen:\n",
    "1. Een tunnel onder de rivier\n",
    "2. Een (hoge) vaste brug over de rivier\n",
    "3. Een beweegbare brug over de rivier\n",
    "4. Omrijden, Luchtbrug, 'Star Trek' transporter etc....\n",
    "\n",
    "Er is een besluit genomen om een beweegbare brug te gebruiken om de twee modaliteiten te laten kruisen. Deze beslissing kan overigens al worden gezien al een ontwerpbeperking of eis.\n",
    "\n",
    "![casus](Bridge-as-principal-solution.png)\n"
   ]
  },
  {
   "cell_type": "markdown",
   "id": "62ca93c0",
   "metadata": {},
   "source": [
    "## Klassikale opdracht\n",
    "De eerste stap!\n",
    "\n",
    "We vragen ons in de eerste instantie af:\n",
    "\n",
    "1. Wat is het systeem, *precies*?\n",
    " - Wat zijn de mensgemaakte dingen?\n",
    " - Wat zijn de natuurlijke dingen in de omgeving?\n",
    "2. Wat gaat er in / of uit het systeem (materiaal, energie en/of informatie)?\n",
    "3. Waardoor wordt de totstandkoming en/of werking van het systeem beinvloedt?\n",
    "\n",
    "Alle elementen die we hierboven hebben geidentificeerd moeten in een package komen. Een package is een soort container, of vergelijkbaar met een folder in een directory-structuur. Die structuur hiervoor is volledig naar eigen smaak in te richten, maar voor nu definieren we een simpele package om de verkeersstromen te modelleren.\n",
    "\n",
    "Om een package te definieren, gebruiken we het keyword `package`, gevolgd door de naam van de package. Dus: \n",
    "```\n",
    "package Verkeer {  \n",
    "}\n",
    "```\n",
    "Tussen de accolades die na het keyword + naam komt plaatsen we de items. Een item wordt gespecificeerd met het keyword `item def`, gevolgd door de naam. De `statement` sluiten we altijd af met een `;`.\n",
    "\n",
    "```\n",
    "item def naam_van_de_item;\n",
    "```\n",
    "\n",
    "We defineren nu eerst `voertuig` en `vaartuig`. (Aan andere verkeersstromen zoals voetgangers, treinverkeer, etc.  wordt nu even niet gedacht...)"
   ]
  },
  {
   "cell_type": "code",
   "execution_count": 181,
   "id": "af70a571",
   "metadata": {},
   "outputs": [
    {
     "data": {
      "text/plain": [
       "Package Verkeer definities (9d454b95-41a8-437b-93ed-83f74b478f8b)\n"
      ]
     },
     "execution_count": 181,
     "metadata": {},
     "output_type": "execute_result"
    }
   ],
   "source": [
    "// plaats hier de SysML specificatie\n",
    "\n"
   ]
  },
  {
   "cell_type": "code",
   "execution_count": 182,
   "id": "8f94cb76",
   "metadata": {},
   "outputs": [
    {
     "data": {
      "image/svg+xml": [
       "<?xml version=\"1.0\" encoding=\"UTF-8\" standalone=\"no\"?><svg xmlns=\"http://www.w3.org/2000/svg\" xmlns:xlink=\"http://www.w3.org/1999/xlink\" contentScriptType=\"application/ecmascript\" contentStyleType=\"text/css\" height=\"115px\" preserveAspectRatio=\"none\" style=\"width:248px;height:115px;\" version=\"1.1\" viewBox=\"0 0 248 115\" width=\"248px\" zoomAndPan=\"magnify\"><defs/><g><!--MD5=[fbc87193dbaf4d95561dea2c320d4a47]\n",
       "cluster E1--><a href=\"psysml:9d454b95-41a8-437b-93ed-83f74b478f8b\" target=\"_top\" title=\"psysml:9d454b95-41a8-437b-93ed-83f74b478f8b\" xlink:actuate=\"onRequest\" xlink:href=\"psysml:9d454b95-41a8-437b-93ed-83f74b478f8b\" xlink:show=\"new\" xlink:title=\"psysml:9d454b95-41a8-437b-93ed-83f74b478f8b\" xlink:type=\"simple\"><polygon fill=\"#FFFFFF\" points=\"16,6,164,6,171,28.2969,226,28.2969,226,103,16,103,16,6\" style=\"stroke: #000000; stroke-width: 1.5;\"/><line style=\"stroke: #000000; stroke-width: 1.5;\" x1=\"16\" x2=\"171\" y1=\"28.2969\" y2=\"28.2969\"/><text fill=\"#000000\" font-family=\"sans-serif\" font-size=\"14\" font-weight=\"bold\" lengthAdjust=\"spacingAndGlyphs\" textLength=\"142\" x=\"20\" y=\"20.9951\">Verkeer definities</text></a><!--MD5=[b4997ac47864f28c2f74865a473b2911]\n",
       "class E2--><a href=\"psysml:6e417776-3914-4a96-b95e-f1feacbb1c50\" target=\"_top\" title=\"psysml:6e417776-3914-4a96-b95e-f1feacbb1c50\" xlink:actuate=\"onRequest\" xlink:href=\"psysml:6e417776-3914-4a96-b95e-f1feacbb1c50\" xlink:show=\"new\" xlink:title=\"psysml:6e417776-3914-4a96-b95e-f1feacbb1c50\" xlink:type=\"simple\"><rect fill=\"#FFFFFF\" height=\"45.9375\" id=\"E2\" style=\"stroke: #383838; stroke-width: 1.5;\" width=\"71\" x=\"138.5\" y=\"41\"/><text fill=\"#000000\" font-family=\"sans-serif\" font-size=\"12\" font-style=\"italic\" lengthAdjust=\"spacingAndGlyphs\" textLength=\"69\" x=\"139.5\" y=\"57.1387\">«item  def»</text><text fill=\"#000000\" font-family=\"sans-serif\" font-size=\"12\" lengthAdjust=\"spacingAndGlyphs\" textLength=\"62\" x=\"143\" y=\"71.1074\">t_voertuig</text><line style=\"stroke: #383838; stroke-width: 1.5;\" x1=\"139.5\" x2=\"208.5\" y1=\"78.9375\" y2=\"78.9375\"/></a><!--MD5=[09b614a08d8cba4a07c9adeb5e0fee81]\n",
       "class E3--><a href=\"psysml:fd9d0296-5421-4cb9-917c-232fa7cae1a8\" target=\"_top\" title=\"psysml:fd9d0296-5421-4cb9-917c-232fa7cae1a8\" xlink:actuate=\"onRequest\" xlink:href=\"psysml:fd9d0296-5421-4cb9-917c-232fa7cae1a8\" xlink:show=\"new\" xlink:title=\"psysml:fd9d0296-5421-4cb9-917c-232fa7cae1a8\" xlink:type=\"simple\"><rect fill=\"#FFFFFF\" height=\"45.9375\" id=\"E3\" style=\"stroke: #383838; stroke-width: 1.5;\" width=\"71\" x=\"32.5\" y=\"41\"/><text fill=\"#000000\" font-family=\"sans-serif\" font-size=\"12\" font-style=\"italic\" lengthAdjust=\"spacingAndGlyphs\" textLength=\"69\" x=\"33.5\" y=\"57.1387\">«item  def»</text><text fill=\"#000000\" font-family=\"sans-serif\" font-size=\"12\" lengthAdjust=\"spacingAndGlyphs\" textLength=\"62\" x=\"37\" y=\"71.1074\">t_vaartuig</text><line style=\"stroke: #383838; stroke-width: 1.5;\" x1=\"33.5\" x2=\"102.5\" y1=\"78.9375\" y2=\"78.9375\"/></a><!--MD5=[4ad66eb27b2d552a6c57c0b80b0e9ba8]\n",
       "@startuml\r\n",
       "skinparam monochrome true\r\n",
       "skinparam classbackgroundcolor white\r\n",
       "skinparam shadowing false\r\n",
       "skinparam wrapWidth 300\r\n",
       "hide circle\r\n",
       "\r\n",
       "package \"Verkeer definities\" as E1  [[psysml:9d454b95-41a8-437b-93ed-83f74b478f8b ]]  {\r\n",
       "comp def \"t_voertuig\" as E2  <<(T,blue) item  def>> [[psysml:6e417776-3914-4a96-b95e-f1feacbb1c50 ]] {\r\n",
       "}\r\n",
       "comp def \"t_vaartuig\" as E3  <<(T,blue) item  def>> [[psysml:fd9d0296-5421-4cb9-917c-232fa7cae1a8 ]] {\r\n",
       "}\r\n",
       "}\r\n",
       "@enduml\r\n",
       "\n",
       "PlantUML version 1.2020.13(Sat Jun 13 05:26:38 PDT 2020)\n",
       "(EPL source distribution)\n",
       "Java Runtime: OpenJDK Runtime Environment\n",
       "JVM: OpenJDK 64-Bit Server VM\n",
       "Default Encoding: UTF-8\n",
       "Language: en\n",
       "Country: US\n",
       "--></g></svg>"
      ]
     },
     "execution_count": 182,
     "metadata": {},
     "output_type": "execute_result"
    }
   ],
   "source": [
    "%viz <naam van de package>"
   ]
  },
  {
   "cell_type": "markdown",
   "id": "d3c1e444",
   "metadata": {},
   "source": [
    "Nu hebben we een idee hoe de SysML v2 code wordt geinterpreteerd en gevisualiseerd in Jupyter.\n",
    "\n",
    "\n",
    "# Usage en Definition\n",
    "\n",
    "> Wat betekent het woordje `def`?\n",
    "\n",
    "Een van de meest belangrijke concepten binnen SysML v2 is:\n",
    "\n",
    "- de *definition*, een definitie van *iets* (de `def`)\n",
    "- een *usage*, waarin de een gedefinieerd *iets* wordt gebruikt in een context\n",
    "\n",
    "In SysML v2 ontstaat dan het volgende patroon: "
   ]
  },
  {
   "cell_type": "code",
   "execution_count": 183,
   "id": "1920731e",
   "metadata": {},
   "outputs": [
    {
     "data": {
      "text/plain": [
       "Package SysML pattern (4df06e87-0ca2-47c4-b7b1-adb8f3e50d65)\n"
      ]
     },
     "execution_count": 183,
     "metadata": {},
     "output_type": "execute_result"
    }
   ],
   "source": [
    "package 'SysML pattern' {\n",
    "\n",
    "    part context1 {\n",
    "        /* Dit is de context waarin element_type wordt gebruikt */\n",
    "        part element: element_type {\n",
    "        }\n",
    "    }\n",
    "    \n",
    "    part context2 {\n",
    "        part element: element_type{\n",
    "        /* Dit is een gebruik van element_type */\n",
    "        }\n",
    "    }\n",
    "        \n",
    "    part def element_type {\n",
    "        /* Dit is een definitie. */\n",
    "    }\n",
    "}"
   ]
  },
  {
   "cell_type": "code",
   "execution_count": 184,
   "id": "6acbf41d",
   "metadata": {},
   "outputs": [
    {
     "data": {
      "image/svg+xml": [
       "<?xml version=\"1.0\" encoding=\"UTF-8\" standalone=\"no\"?><svg xmlns=\"http://www.w3.org/2000/svg\" xmlns:xlink=\"http://www.w3.org/1999/xlink\" contentScriptType=\"application/ecmascript\" contentStyleType=\"text/css\" height=\"427px\" preserveAspectRatio=\"none\" style=\"width:599px;height:427px;\" version=\"1.1\" viewBox=\"0 0 599 427\" width=\"599px\" zoomAndPan=\"magnify\"><defs/><g><!--MD5=[fbc87193dbaf4d95561dea2c320d4a47]\n",
       "cluster E1--><a href=\"psysml:4df06e87-0ca2-47c4-b7b1-adb8f3e50d65\" target=\"_top\" title=\"psysml:4df06e87-0ca2-47c4-b7b1-adb8f3e50d65\" xlink:actuate=\"onRequest\" xlink:href=\"psysml:4df06e87-0ca2-47c4-b7b1-adb8f3e50d65\" xlink:show=\"new\" xlink:title=\"psysml:4df06e87-0ca2-47c4-b7b1-adb8f3e50d65\" xlink:type=\"simple\"><polygon fill=\"#FFFFFF\" points=\"16,6,135,6,142,28.2969,577,28.2969,577,415,16,415,16,6\" style=\"stroke: #000000; stroke-width: 1.5;\"/><line style=\"stroke: #000000; stroke-width: 1.5;\" x1=\"16\" x2=\"142\" y1=\"28.2969\" y2=\"28.2969\"/><text fill=\"#000000\" font-family=\"sans-serif\" font-size=\"14\" font-weight=\"bold\" lengthAdjust=\"spacingAndGlyphs\" textLength=\"113\" x=\"20\" y=\"20.9951\">SysML pattern</text></a><!--MD5=[b4997ac47864f28c2f74865a473b2911]\n",
       "class E2--><a href=\"psysml:e29ed404-2f83-4c1e-9beb-8d6e1c09b310\" target=\"_top\" title=\"psysml:e29ed404-2f83-4c1e-9beb-8d6e1c09b310\" xlink:actuate=\"onRequest\" xlink:href=\"psysml:e29ed404-2f83-4c1e-9beb-8d6e1c09b310\" xlink:show=\"new\" xlink:title=\"psysml:e29ed404-2f83-4c1e-9beb-8d6e1c09b310\" xlink:type=\"simple\"><rect fill=\"#FFFFFF\" height=\"45.9375\" id=\"E2\" rx=\"10\" ry=\"10\" style=\"stroke: #383838; stroke-width: 1.5;\" width=\"65\" x=\"95.5\" y=\"141\"/><text fill=\"#000000\" font-family=\"sans-serif\" font-size=\"12\" font-style=\"italic\" lengthAdjust=\"spacingAndGlyphs\" textLength=\"40\" x=\"108\" y=\"157.1387\">«part»</text><text fill=\"#000000\" font-family=\"sans-serif\" font-size=\"12\" lengthAdjust=\"spacingAndGlyphs\" textLength=\"55\" x=\"98.5\" y=\"171.1074\">context1</text><line style=\"stroke: #383838; stroke-width: 1.5;\" x1=\"96.5\" x2=\"159.5\" y1=\"178.9375\" y2=\"178.9375\"/></a><!--MD5=[ebbe1d658d1005bcc118a6aa81145e00]\n",
       "class E4--><a href=\"psysml:56be6a03-51cd-4487-bde1-59788017cd09\" target=\"_top\" title=\"psysml:56be6a03-51cd-4487-bde1-59788017cd09\" xlink:actuate=\"onRequest\" xlink:href=\"psysml:56be6a03-51cd-4487-bde1-59788017cd09\" xlink:show=\"new\" xlink:title=\"psysml:56be6a03-51cd-4487-bde1-59788017cd09\" xlink:type=\"simple\"><rect fill=\"#FFFFFF\" height=\"45.9375\" id=\"E4\" rx=\"10\" ry=\"10\" style=\"stroke: #383838; stroke-width: 1.5;\" width=\"153\" x=\"219.5\" y=\"247\"/><text fill=\"#000000\" font-family=\"sans-serif\" font-size=\"12\" font-style=\"italic\" lengthAdjust=\"spacingAndGlyphs\" textLength=\"40\" x=\"276\" y=\"263.1387\">«part»</text><text fill=\"#000000\" font-family=\"sans-serif\" font-size=\"12\" lengthAdjust=\"spacingAndGlyphs\" textLength=\"143\" x=\"222.5\" y=\"277.1074\">element: element_type</text><line style=\"stroke: #383838; stroke-width: 1.5;\" x1=\"220.5\" x2=\"371.5\" y1=\"284.9375\" y2=\"284.9375\"/></a><!--MD5=[270fce915f116d4de14055a7c1d9a0f3]\n",
       "class E5--><a href=\"psysml:b9401b55-bd11-49b4-8544-3d952c08ad8e\" target=\"_top\" title=\"psysml:b9401b55-bd11-49b4-8544-3d952c08ad8e\" xlink:actuate=\"onRequest\" xlink:href=\"psysml:b9401b55-bd11-49b4-8544-3d952c08ad8e\" xlink:show=\"new\" xlink:title=\"psysml:b9401b55-bd11-49b4-8544-3d952c08ad8e\" xlink:type=\"simple\"><rect fill=\"#FFFFFF\" height=\"45.9375\" id=\"E5\" rx=\"10\" ry=\"10\" style=\"stroke: #383838; stroke-width: 1.5;\" width=\"65\" x=\"495.5\" y=\"141\"/><text fill=\"#000000\" font-family=\"sans-serif\" font-size=\"12\" font-style=\"italic\" lengthAdjust=\"spacingAndGlyphs\" textLength=\"40\" x=\"508\" y=\"157.1387\">«part»</text><text fill=\"#000000\" font-family=\"sans-serif\" font-size=\"12\" lengthAdjust=\"spacingAndGlyphs\" textLength=\"55\" x=\"498.5\" y=\"171.1074\">context2</text><line style=\"stroke: #383838; stroke-width: 1.5;\" x1=\"496.5\" x2=\"559.5\" y1=\"178.9375\" y2=\"178.9375\"/></a><!--MD5=[60a26617385b1d2d0262a64233df1f8d]\n",
       "class E6--><a href=\"psysml:59a8dea7-31dd-4035-b3fa-ee95117fe8be\" target=\"_top\" title=\"psysml:59a8dea7-31dd-4035-b3fa-ee95117fe8be\" xlink:actuate=\"onRequest\" xlink:href=\"psysml:59a8dea7-31dd-4035-b3fa-ee95117fe8be\" xlink:show=\"new\" xlink:title=\"psysml:59a8dea7-31dd-4035-b3fa-ee95117fe8be\" xlink:type=\"simple\"><rect fill=\"#FFFFFF\" height=\"45.9375\" id=\"E6\" rx=\"10\" ry=\"10\" style=\"stroke: #383838; stroke-width: 1.5;\" width=\"153\" x=\"407.5\" y=\"247\"/><text fill=\"#000000\" font-family=\"sans-serif\" font-size=\"12\" font-style=\"italic\" lengthAdjust=\"spacingAndGlyphs\" textLength=\"40\" x=\"464\" y=\"263.1387\">«part»</text><text fill=\"#000000\" font-family=\"sans-serif\" font-size=\"12\" lengthAdjust=\"spacingAndGlyphs\" textLength=\"143\" x=\"410.5\" y=\"277.1074\">element: element_type</text><line style=\"stroke: #383838; stroke-width: 1.5;\" x1=\"408.5\" x2=\"559.5\" y1=\"284.9375\" y2=\"284.9375\"/></a><!--MD5=[b9389687b975829384b498ac4b7476b2]\n",
       "class E8--><a href=\"psysml:02c68f77-60a9-4ff0-9720-2d7f83c29799\" target=\"_top\" title=\"psysml:02c68f77-60a9-4ff0-9720-2d7f83c29799\" xlink:actuate=\"onRequest\" xlink:href=\"psysml:02c68f77-60a9-4ff0-9720-2d7f83c29799\" xlink:show=\"new\" xlink:title=\"psysml:02c68f77-60a9-4ff0-9720-2d7f83c29799\" xlink:type=\"simple\"><rect fill=\"#FFFFFF\" height=\"45.9375\" id=\"E8\" style=\"stroke: #383838; stroke-width: 1.5;\" width=\"90\" x=\"251\" y=\"353\"/><text fill=\"#000000\" font-family=\"sans-serif\" font-size=\"12\" font-style=\"italic\" lengthAdjust=\"spacingAndGlyphs\" textLength=\"68\" x=\"262\" y=\"369.1387\">«part  def»</text><text fill=\"#000000\" font-family=\"sans-serif\" font-size=\"12\" lengthAdjust=\"spacingAndGlyphs\" textLength=\"84\" x=\"254\" y=\"383.1074\">element_type</text><line style=\"stroke: #383838; stroke-width: 1.5;\" x1=\"252\" x2=\"340\" y1=\"390.9375\" y2=\"390.9375\"/></a><path d=\"M32,41 L32,81.2656 A0,0 0 0 0 32,81.2656 L174.85,81.2656 L141.86,140.77 L182.85,81.2656 L350,81.2656 A0,0 0 0 0 350,81.2656 L350,51 L340,41 L32,41 A0,0 0 0 0 32,41 \" fill=\"#ECECEC\" style=\"stroke: #383838; stroke-width: 1.0;\"/><path d=\"M340,41 L340,51 L350,51 L340,41 \" fill=\"#ECECEC\" style=\"stroke: #383838; stroke-width: 1.0;\"/><a href=\"psysml:acc94a77-bfdb-4079-8d6c-f7331ec25c95\" target=\"_top\" title=\"psysml:acc94a77-bfdb-4079-8d6c-f7331ec25c95\" xlink:actuate=\"onRequest\" xlink:href=\"psysml:acc94a77-bfdb-4079-8d6c-f7331ec25c95\" xlink:show=\"new\" xlink:title=\"psysml:acc94a77-bfdb-4079-8d6c-f7331ec25c95\" xlink:type=\"simple\"><text fill=\"#1C1C1C\" font-family=\"sans-serif\" font-size=\"13\" lengthAdjust=\"spacingAndGlyphs\" text-decoration=\"underline\" textLength=\"13\" x=\"38\" y=\"58.0669\">@</text></a><text fill=\"#000000\" font-family=\"sans-serif\" font-size=\"13\" lengthAdjust=\"spacingAndGlyphs\" textLength=\"280\" x=\"51\" y=\"58.0669\">Dit is de context waarin element_type wordt</text><text fill=\"#000000\" font-family=\"sans-serif\" font-size=\"13\" lengthAdjust=\"spacingAndGlyphs\" textLength=\"52\" x=\"38\" y=\"73.1997\">gebruikt</text><path d=\"M196,151.5 L196,176.6328 A0,0 0 0 0 196,176.6328 L341.29,176.6328 L450.82,246.88 L349.29,176.6328 L460,176.6328 A0,0 0 0 0 460,176.6328 L460,161.5 L450,151.5 L196,151.5 A0,0 0 0 0 196,151.5 \" fill=\"#ECECEC\" style=\"stroke: #383838; stroke-width: 1.0;\"/><path d=\"M450,151.5 L450,161.5 L460,161.5 L450,151.5 \" fill=\"#ECECEC\" style=\"stroke: #383838; stroke-width: 1.0;\"/><a href=\"psysml:e2e4d712-5a66-43ae-a035-c6391dc0b444\" target=\"_top\" title=\"psysml:e2e4d712-5a66-43ae-a035-c6391dc0b444\" xlink:actuate=\"onRequest\" xlink:href=\"psysml:e2e4d712-5a66-43ae-a035-c6391dc0b444\" xlink:show=\"new\" xlink:title=\"psysml:e2e4d712-5a66-43ae-a035-c6391dc0b444\" xlink:type=\"simple\"><text fill=\"#1C1C1C\" font-family=\"sans-serif\" font-size=\"13\" lengthAdjust=\"spacingAndGlyphs\" text-decoration=\"underline\" textLength=\"13\" x=\"202\" y=\"168.5669\">@</text></a><text fill=\"#000000\" font-family=\"sans-serif\" font-size=\"13\" lengthAdjust=\"spacingAndGlyphs\" textLength=\"230\" x=\"215\" y=\"168.5669\">Dit is een gebruik van element_type</text><path d=\"M32,257.5 L32,282.6328 A0,0 0 0 0 32,282.6328 L124.84,282.6328 L256.02,352.88 L132.84,282.6328 L184,282.6328 A0,0 0 0 0 184,282.6328 L184,267.5 L174,257.5 L32,257.5 A0,0 0 0 0 32,257.5 \" fill=\"#ECECEC\" style=\"stroke: #383838; stroke-width: 1.0;\"/><path d=\"M174,257.5 L174,267.5 L184,267.5 L174,257.5 \" fill=\"#ECECEC\" style=\"stroke: #383838; stroke-width: 1.0;\"/><a href=\"psysml:8eb5d0e8-cc94-4813-955d-ff44a4307d8a\" target=\"_top\" title=\"psysml:8eb5d0e8-cc94-4813-955d-ff44a4307d8a\" xlink:actuate=\"onRequest\" xlink:href=\"psysml:8eb5d0e8-cc94-4813-955d-ff44a4307d8a\" xlink:show=\"new\" xlink:title=\"psysml:8eb5d0e8-cc94-4813-955d-ff44a4307d8a\" xlink:type=\"simple\"><text fill=\"#1C1C1C\" font-family=\"sans-serif\" font-size=\"13\" lengthAdjust=\"spacingAndGlyphs\" text-decoration=\"underline\" textLength=\"13\" x=\"38\" y=\"274.5669\">@</text></a><text fill=\"#000000\" font-family=\"sans-serif\" font-size=\"13\" lengthAdjust=\"spacingAndGlyphs\" textLength=\"118\" x=\"51\" y=\"274.5669\">Dit is een definitie.</text><!--MD5=[9618e71518536f8baf3342ff6fdab317]\n",
       "reverse link E2 to E4--><a href=\"psysml:d614e9e8-0453-40b2-b92d-447f4732af6a\" target=\"_top\" title=\"psysml:d614e9e8-0453-40b2-b92d-447f4732af6a\" xlink:actuate=\"onRequest\" xlink:href=\"psysml:d614e9e8-0453-40b2-b92d-447f4732af6a\" xlink:show=\"new\" xlink:title=\"psysml:d614e9e8-0453-40b2-b92d-447f4732af6a\" xlink:type=\"simple\"><path d=\"M172.09,192.29 C199.62,209.34 234.62,231 260.39,246.95 \" fill=\"none\" id=\"E2&lt;-E4\" style=\"stroke: #383838; stroke-width: 1.0;\"/><polygon fill=\"#FFFFFF\" points=\"160.79,185.3,163.787,191.8588,170.994,191.6149,167.997,185.0561,160.79,185.3\" style=\"stroke: #383838; stroke-width: 1.0;\"/><text fill=\"#000000\" font-family=\"sans-serif\" font-size=\"13\" lengthAdjust=\"spacingAndGlyphs\" textLength=\"8\" x=\"241.7448\" y=\"235.8328\">1</text></a><!--MD5=[85d356282659285ab4b2cfe2f634dd2b]\n",
       "reverse link E5 to E6--><a href=\"psysml:623bbe36-98fa-4996-9fa3-e02ed21f8fef\" target=\"_top\" title=\"psysml:623bbe36-98fa-4996-9fa3-e02ed21f8fef\" xlink:actuate=\"onRequest\" xlink:href=\"psysml:623bbe36-98fa-4996-9fa3-e02ed21f8fef\" xlink:show=\"new\" xlink:title=\"psysml:623bbe36-98fa-4996-9fa3-e02ed21f8fef\" xlink:type=\"simple\"><path d=\"M513.41,199.49 C506.78,215.15 499.15,233.19 493.32,246.98 \" fill=\"none\" id=\"E5&lt;-E6\" style=\"stroke: #383838; stroke-width: 1.0;\"/><polygon fill=\"#FFFFFF\" points=\"518.67,187.06,512.6505,191.0305,514.0003,198.1142,520.0199,194.1436,518.67,187.06\" style=\"stroke: #383838; stroke-width: 1.0;\"/><text fill=\"#000000\" font-family=\"sans-serif\" font-size=\"13\" lengthAdjust=\"spacingAndGlyphs\" textLength=\"8\" x=\"486.7498\" y=\"235.8709\">1</text></a><!--MD5=[353cdda3e1e05fc02373f055b6f604ae]\n",
       "link E4 to E8--><a href=\"psysml:8216d877-6213-4ccd-a168-783f5b47e087\" target=\"_top\" title=\"psysml:8216d877-6213-4ccd-a168-783f5b47e087\" xlink:actuate=\"onRequest\" xlink:href=\"psysml:8216d877-6213-4ccd-a168-783f5b47e087\" xlink:show=\"new\" xlink:title=\"psysml:8216d877-6213-4ccd-a168-783f5b47e087\" xlink:type=\"simple\"><path d=\"M296,293.06 C296,304.64 296,319.23 296,332.87 \" fill=\"none\" id=\"E4-&gt;E8\" style=\"stroke: #383838; stroke-width: 1.0;\"/><polygon fill=\"#FFFFFF\" points=\"296,352.98,289,333.98,303,333.98,296,352.98\" style=\"stroke: #383838; stroke-width: 1.0;\"/><ellipse cx=\"291\" cy=\"328.28\" fill=\"#383838\" rx=\"2\" ry=\"2\" style=\"stroke: #383838; stroke-width: 1.0;\"/><ellipse cx=\"301\" cy=\"328.28\" fill=\"#383838\" rx=\"2\" ry=\"2\" style=\"stroke: #383838; stroke-width: 1.0;\"/></a><!--MD5=[0a839d0f80c2d72d4b9b307f046d0de8]\n",
       "link E6 to E8--><a href=\"psysml:7f9b6990-cf09-4b89-9623-7e709b658c06\" target=\"_top\" title=\"psysml:7f9b6990-cf09-4b89-9623-7e709b658c06\" xlink:actuate=\"onRequest\" xlink:href=\"psysml:7f9b6990-cf09-4b89-9623-7e709b658c06\" xlink:show=\"new\" xlink:title=\"psysml:7f9b6990-cf09-4b89-9623-7e709b658c06\" xlink:type=\"simple\"><path d=\"M444.13,293.06 C417.83,307.6 382.96,326.89 353.66,343.1 \" fill=\"none\" id=\"E6-&gt;E8\" style=\"stroke: #383838; stroke-width: 1.0;\"/><polygon fill=\"#FFFFFF\" points=\"335.81,352.98,349.044,337.6548,355.8234,349.9038,335.81,352.98\" style=\"stroke: #383838; stroke-width: 1.0;\"/><ellipse cx=\"354.9996\" cy=\"336.6444\" fill=\"#383838\" rx=\"2\" ry=\"2\" style=\"stroke: #383838; stroke-width: 1.0;\"/><ellipse cx=\"359.842\" cy=\"345.3937\" fill=\"#383838\" rx=\"2\" ry=\"2\" style=\"stroke: #383838; stroke-width: 1.0;\"/></a><!--MD5=[2addb53da56833994a826bbfaa7d6455]\n",
       "@startuml\r\n",
       "skinparam monochrome true\r\n",
       "skinparam classbackgroundcolor white\r\n",
       "skinparam shadowing false\r\n",
       "skinparam wrapWidth 300\r\n",
       "hide circle\r\n",
       "\r\n",
       "package \"SysML pattern\" as E1  [[psysml:4df06e87-0ca2-47c4-b7b1-adb8f3e50d65 ]]  {\r\n",
       "comp usage \"context1 \" as E2  <<(T,blue) part>> [[psysml:e29ed404-2f83-4c1e-9beb-8d6e1c09b310 ]] {\r\n",
       "}\r\n",
       "comp usage \"element: element_type \" as E4  <<(T,blue) part>> [[psysml:56be6a03-51cd-4487-bde1-59788017cd09 ]] {\r\n",
       "}\r\n",
       "comp usage \"context2 \" as E5  <<(T,blue) part>> [[psysml:b9401b55-bd11-49b4-8544-3d952c08ad8e ]] {\r\n",
       "}\r\n",
       "comp usage \"element: element_type \" as E6  <<(T,blue) part>> [[psysml:59a8dea7-31dd-4035-b3fa-ee95117fe8be ]] {\r\n",
       "}\r\n",
       "comp def \"element_type\" as E8  <<(T,blue) part  def>> [[psysml:02c68f77-60a9-4ff0-9720-2d7f83c29799 ]] {\r\n",
       "}\r\n",
       "note as E3\r\n",
       "[[psysml:acc94a77-bfdb-4079-8d6c-f7331ec25c95 @]]Dit is de context waarin element_type wordt gebruikt\r\n",
       "end note \r\n",
       "note as E7\r\n",
       "[[psysml:e2e4d712-5a66-43ae-a035-c6391dc0b444 @]]Dit is een gebruik van element_type\r\n",
       "end note \r\n",
       "note as E9\r\n",
       "[[psysml:8eb5d0e8-cc94-4813-955d-ff44a4307d8a @]]Dit is een definitie.\r\n",
       "end note \r\n",
       "}\r\n",
       "E3 .. E2 [[psysml:acc94a77-bfdb-4079-8d6c-f7331ec25c95 ]] \r\n",
       "E2 o- - \"1\"E4 [[psysml:d614e9e8-0453-40b2-b92d-447f4732af6a ]] \r\n",
       "E5 o- - \"1\"E6 [[psysml:623bbe36-98fa-4996-9fa3-e02ed21f8fef ]] \r\n",
       "E7 .. E6 [[psysml:e2e4d712-5a66-43ae-a035-c6391dc0b444 ]] \r\n",
       "E4 - -:|> E8 [[psysml:8216d877-6213-4ccd-a168-783f5b47e087 ]] \r\n",
       "E6 - -:|> E8 [[psysml:7f9b6990-cf09-4b89-9623-7e709b658c06 ]] \r\n",
       "E9 .. E8 [[psysml:8eb5d0e8-cc94-4813-955d-ff44a4307d8a ]] \r\n",
       "@enduml\r\n",
       "\n",
       "PlantUML version 1.2020.13(Sat Jun 13 05:26:38 PDT 2020)\n",
       "(EPL source distribution)\n",
       "Java Runtime: OpenJDK Runtime Environment\n",
       "JVM: OpenJDK 64-Bit Server VM\n",
       "Default Encoding: UTF-8\n",
       "Language: en\n",
       "Country: US\n",
       "--></g></svg>"
      ]
     },
     "execution_count": 184,
     "metadata": {},
     "output_type": "execute_result"
    }
   ],
   "source": [
    "%viz \"SysML pattern\""
   ]
  },
  {
   "cell_type": "markdown",
   "id": "6846749a",
   "metadata": {},
   "source": [
    "Hierboven zijn zojuist `part` en `part def` geintroduceerd. Een `part` (een systeemelement) is een instantie van een `part def`. Dit patroon is consistent doorgevoerd in SysML v2, en geldt dus alle model 'dingen' die gemodelleerd kunnen worden.\n",
    "\n",
    "De volgende 'dingen' kunnen worden gemodelleerd:\n",
    "\n",
    "| Usage       | Definition      | Beschrijving\n",
    "|-------------|-----------------|-----------------------------------------------------------\n",
    "| part        | part def        | Een systeemelement\n",
    "| attribute   | attribute def   | Een eigenschap van een modelelement\n",
    "| port        | port def        | Een interface van een systeemelement\n",
    "| action      | action def      | Een functie of transformatie (gedrag)\n",
    "| state       | state def       | Een toestand (van een systeemelement)\n",
    "| constraint  | constraint def  | Een invariant (logische expressie) die waar moet zijn\n",
    "| requirement | requirement def | Een eis\n",
    "| connection  | connection def  | Een connector die systeemelementen of interfaces verbindt\n",
    "| item        | item def        | Een ding zonder nadere specificatie"
   ]
  },
  {
   "cell_type": "markdown",
   "id": "6ea2be3a",
   "metadata": {},
   "source": [
    "## Opdracht 0. Defineer het system of interest\n",
    "\n",
    "Kies het juiste SysML modelleer-element en maak een package aan met de **definitie** van het *system of interest* (m.a.w. het type van de brug).\n",
    "We hadden in het klassikale voorbeeld de (types van) ingaande en uitgaande 'dingen' van het systeem al bepaald. We kunnen nu specificeren **wat** in en uit het systeem gaat mbv de keywords `in` en `out`. Door `in` of `out` voor de instantiaties van die `item def`'s te zetten geven we aan dat die items in of uit het systeem komen.   \n",
    "Specificeer de in- en uitgaande items.  \n",
    "Ter discussie met je buurman: zie de vraag in het commentaar in onderstaande SysML specificatie."
   ]
  },
  {
   "cell_type": "code",
   "execution_count": 185,
   "id": "4c90c1a4",
   "metadata": {},
   "outputs": [
    {
     "data": {
      "text/plain": [
       "Package Missiesystemen definitie (36d09e6c-e6cc-400f-b472-8f704123b6d0)\n"
      ]
     },
     "execution_count": 185,
     "metadata": {},
     "output_type": "execute_result"
    }
   ],
   "source": [
    "// plaats hier de SysML specificatie\n",
    "\n"
   ]
  },
  {
   "cell_type": "code",
   "execution_count": 186,
   "id": "0f8349ba",
   "metadata": {},
   "outputs": [
    {
     "data": {
      "image/svg+xml": [
       "<?xml version=\"1.0\" encoding=\"UTF-8\" standalone=\"no\"?><svg xmlns=\"http://www.w3.org/2000/svg\" xmlns:xlink=\"http://www.w3.org/1999/xlink\" contentScriptType=\"application/ecmascript\" contentStyleType=\"text/css\" height=\"221px\" preserveAspectRatio=\"none\" style=\"width:779px;height:221px;\" version=\"1.1\" viewBox=\"0 0 779 221\" width=\"779px\" zoomAndPan=\"magnify\"><defs/><g><!--MD5=[fbc87193dbaf4d95561dea2c320d4a47]\n",
       "cluster E1--><a href=\"psysml:36d09e6c-e6cc-400f-b472-8f704123b6d0\" target=\"_top\" title=\"psysml:36d09e6c-e6cc-400f-b472-8f704123b6d0\" xlink:actuate=\"onRequest\" xlink:href=\"psysml:36d09e6c-e6cc-400f-b472-8f704123b6d0\" xlink:show=\"new\" xlink:title=\"psysml:36d09e6c-e6cc-400f-b472-8f704123b6d0\" xlink:type=\"simple\"><polygon fill=\"#FFFFFF\" points=\"16,6,217,6,224,28.2969,757,28.2969,757,209,16,209,16,6\" style=\"stroke: #000000; stroke-width: 1.5;\"/><line style=\"stroke: #000000; stroke-width: 1.5;\" x1=\"16\" x2=\"224\" y1=\"28.2969\" y2=\"28.2969\"/><text fill=\"#000000\" font-family=\"sans-serif\" font-size=\"14\" font-weight=\"bold\" lengthAdjust=\"spacingAndGlyphs\" textLength=\"195\" x=\"20\" y=\"20.9951\">Missiesystemen definitie</text></a><!--MD5=[b4997ac47864f28c2f74865a473b2911]\n",
       "class E2--><a href=\"psysml:36852ed2-79a8-438c-8071-0d73fef9dd3e\" target=\"_top\" title=\"psysml:36852ed2-79a8-438c-8071-0d73fef9dd3e\" xlink:actuate=\"onRequest\" xlink:href=\"psysml:36852ed2-79a8-438c-8071-0d73fef9dd3e\" xlink:show=\"new\" xlink:title=\"psysml:36852ed2-79a8-438c-8071-0d73fef9dd3e\" xlink:type=\"simple\"><rect fill=\"#FFFFFF\" height=\"45.9375\" id=\"E2\" style=\"stroke: #383838; stroke-width: 1.5;\" width=\"70\" x=\"350\" y=\"41\"/><text fill=\"#000000\" font-family=\"sans-serif\" font-size=\"12\" font-style=\"italic\" lengthAdjust=\"spacingAndGlyphs\" textLength=\"68\" x=\"351\" y=\"57.1387\">«part  def»</text><text fill=\"#000000\" font-family=\"sans-serif\" font-size=\"12\" lengthAdjust=\"spacingAndGlyphs\" textLength=\"40\" x=\"365\" y=\"71.1074\">t_Brug</text><line style=\"stroke: #383838; stroke-width: 1.5;\" x1=\"351\" x2=\"419\" y1=\"78.9375\" y2=\"78.9375\"/></a><!--MD5=[09b614a08d8cba4a07c9adeb5e0fee81]\n",
       "class E3--><a href=\"psysml:93f39665-74e4-4828-9aae-b8d7c808b7c7\" target=\"_top\" title=\"psysml:93f39665-74e4-4828-9aae-b8d7c808b7c7\" xlink:actuate=\"onRequest\" xlink:href=\"psysml:93f39665-74e4-4828-9aae-b8d7c808b7c7\" xlink:show=\"new\" xlink:title=\"psysml:93f39665-74e4-4828-9aae-b8d7c808b7c7\" xlink:type=\"simple\"><rect fill=\"#FFFFFF\" height=\"45.9375\" id=\"E3\" rx=\"10\" ry=\"10\" style=\"stroke: #383838; stroke-width: 1.5;\" width=\"148\" x=\"32\" y=\"147\"/><text fill=\"#000000\" font-family=\"sans-serif\" font-size=\"12\" font-style=\"italic\" lengthAdjust=\"spacingAndGlyphs\" textLength=\"41\" x=\"85.5\" y=\"163.1387\">«item»</text><text fill=\"#000000\" font-family=\"sans-serif\" font-size=\"12\" lengthAdjust=\"spacingAndGlyphs\" textLength=\"138\" x=\"35\" y=\"177.1074\">voertuig_in: t_voertuig</text><line style=\"stroke: #383838; stroke-width: 1.5;\" x1=\"33\" x2=\"179\" y1=\"184.9375\" y2=\"184.9375\"/></a><!--MD5=[ebbe1d658d1005bcc118a6aa81145e00]\n",
       "class E4--><a href=\"psysml:2c85b82d-3caa-46e0-bb3d-3444ae3dcf3e\" target=\"_top\" title=\"psysml:2c85b82d-3caa-46e0-bb3d-3444ae3dcf3e\" xlink:actuate=\"onRequest\" xlink:href=\"psysml:2c85b82d-3caa-46e0-bb3d-3444ae3dcf3e\" xlink:show=\"new\" xlink:title=\"psysml:2c85b82d-3caa-46e0-bb3d-3444ae3dcf3e\" xlink:type=\"simple\"><rect fill=\"#FFFFFF\" height=\"45.9375\" id=\"E4\" rx=\"10\" ry=\"10\" style=\"stroke: #383838; stroke-width: 1.5;\" width=\"153\" x=\"215.5\" y=\"147\"/><text fill=\"#000000\" font-family=\"sans-serif\" font-size=\"12\" font-style=\"italic\" lengthAdjust=\"spacingAndGlyphs\" textLength=\"41\" x=\"271.5\" y=\"163.1387\">«item»</text><text fill=\"#000000\" font-family=\"sans-serif\" font-size=\"12\" lengthAdjust=\"spacingAndGlyphs\" textLength=\"143\" x=\"218.5\" y=\"177.1074\">voertuig_uit: t_voertuig</text><line style=\"stroke: #383838; stroke-width: 1.5;\" x1=\"216.5\" x2=\"367.5\" y1=\"184.9375\" y2=\"184.9375\"/></a><!--MD5=[270fce915f116d4de14055a7c1d9a0f3]\n",
       "class E5--><a href=\"psysml:f7c279b9-4942-4294-a31d-69785f8de534\" target=\"_top\" title=\"psysml:f7c279b9-4942-4294-a31d-69785f8de534\" xlink:actuate=\"onRequest\" xlink:href=\"psysml:f7c279b9-4942-4294-a31d-69785f8de534\" xlink:show=\"new\" xlink:title=\"psysml:f7c279b9-4942-4294-a31d-69785f8de534\" xlink:type=\"simple\"><rect fill=\"#FFFFFF\" height=\"45.9375\" id=\"E5\" rx=\"10\" ry=\"10\" style=\"stroke: #383838; stroke-width: 1.5;\" width=\"148\" x=\"404\" y=\"147\"/><text fill=\"#000000\" font-family=\"sans-serif\" font-size=\"12\" font-style=\"italic\" lengthAdjust=\"spacingAndGlyphs\" textLength=\"41\" x=\"457.5\" y=\"163.1387\">«item»</text><text fill=\"#000000\" font-family=\"sans-serif\" font-size=\"12\" lengthAdjust=\"spacingAndGlyphs\" textLength=\"138\" x=\"407\" y=\"177.1074\">vaartuig_in: t_vaartuig</text><line style=\"stroke: #383838; stroke-width: 1.5;\" x1=\"405\" x2=\"551\" y1=\"184.9375\" y2=\"184.9375\"/></a><!--MD5=[60a26617385b1d2d0262a64233df1f8d]\n",
       "class E6--><a href=\"psysml:34d855f6-67c2-4659-95ec-cbebe3c24297\" target=\"_top\" title=\"psysml:34d855f6-67c2-4659-95ec-cbebe3c24297\" xlink:actuate=\"onRequest\" xlink:href=\"psysml:34d855f6-67c2-4659-95ec-cbebe3c24297\" xlink:show=\"new\" xlink:title=\"psysml:34d855f6-67c2-4659-95ec-cbebe3c24297\" xlink:type=\"simple\"><rect fill=\"#FFFFFF\" height=\"45.9375\" id=\"E6\" rx=\"10\" ry=\"10\" style=\"stroke: #383838; stroke-width: 1.5;\" width=\"153\" x=\"587.5\" y=\"147\"/><text fill=\"#000000\" font-family=\"sans-serif\" font-size=\"12\" font-style=\"italic\" lengthAdjust=\"spacingAndGlyphs\" textLength=\"41\" x=\"643.5\" y=\"163.1387\">«item»</text><text fill=\"#000000\" font-family=\"sans-serif\" font-size=\"12\" lengthAdjust=\"spacingAndGlyphs\" textLength=\"143\" x=\"590.5\" y=\"177.1074\">vaartuig_uit: t_vaartuig</text><line style=\"stroke: #383838; stroke-width: 1.5;\" x1=\"588.5\" x2=\"739.5\" y1=\"184.9375\" y2=\"184.9375\"/></a><!--MD5=[209b3feb70ccb6233bfe1053d122c12c]\n",
       "reverse link E2 to E3--><a href=\"psysml:1a7447fa-37f8-4ce6-a19d-f60f470fc6dc\" target=\"_top\" title=\"psysml:1a7447fa-37f8-4ce6-a19d-f60f470fc6dc\" xlink:actuate=\"onRequest\" xlink:href=\"psysml:1a7447fa-37f8-4ce6-a19d-f60f470fc6dc\" xlink:show=\"new\" xlink:title=\"psysml:1a7447fa-37f8-4ce6-a19d-f60f470fc6dc\" xlink:type=\"simple\"><path d=\"M337.55,82.69 C289.99,100.42 216.64,127.76 165.28,146.9 \" fill=\"none\" id=\"E2&lt;-E3\" style=\"stroke: #383838; stroke-width: 1.0;\"/><polygon fill=\"#FFFFFF\" points=\"349.95,78.07,342.9324,76.4107,338.7016,82.2502,345.7192,83.9096,349.95,78.07\" style=\"stroke: #383838; stroke-width: 1.0;\"/><text fill=\"#000000\" font-family=\"sans-serif\" font-size=\"13\" lengthAdjust=\"spacingAndGlyphs\" textLength=\"8\" x=\"172.1365\" y=\"135.7694\">1</text></a><!--MD5=[9618e71518536f8baf3342ff6fdab317]\n",
       "reverse link E2 to E4--><a href=\"psysml:c7835e46-7308-4501-b2a8-2b9d3df33c4b\" target=\"_top\" title=\"psysml:c7835e46-7308-4501-b2a8-2b9d3df33c4b\" xlink:actuate=\"onRequest\" xlink:href=\"psysml:c7835e46-7308-4501-b2a8-2b9d3df33c4b\" xlink:show=\"new\" xlink:title=\"psysml:c7835e46-7308-4501-b2a8-2b9d3df33c4b\" xlink:type=\"simple\"><path d=\"M356.24,97.16 C341.78,113.33 324.63,132.51 311.69,146.98 \" fill=\"none\" id=\"E2&lt;-E4\" style=\"stroke: #383838; stroke-width: 1.0;\"/><polygon fill=\"#FFFFFF\" points=\"365.28,87.06,358.2977,88.8622,357.2758,96.0005,364.258,94.1983,365.28,87.06\" style=\"stroke: #383838; stroke-width: 1.0;\"/><text fill=\"#000000\" font-family=\"sans-serif\" font-size=\"13\" lengthAdjust=\"spacingAndGlyphs\" textLength=\"8\" x=\"307.9067\" y=\"135.8709\">1</text></a><!--MD5=[4e1a83fab71cdb913c109063314ae896]\n",
       "reverse link E2 to E5--><a href=\"psysml:56cf0b77-86dc-4e6e-a821-9fd159c7628e\" target=\"_top\" title=\"psysml:56cf0b77-86dc-4e6e-a821-9fd159c7628e\" xlink:actuate=\"onRequest\" xlink:href=\"psysml:56cf0b77-86dc-4e6e-a821-9fd159c7628e\" xlink:show=\"new\" xlink:title=\"psysml:56cf0b77-86dc-4e6e-a821-9fd159c7628e\" xlink:type=\"simple\"><path d=\"M413.76,97.16 C428.22,113.33 445.37,132.51 458.31,146.98 \" fill=\"none\" id=\"E2&lt;-E5\" style=\"stroke: #383838; stroke-width: 1.0;\"/><polygon fill=\"#FFFFFF\" points=\"404.72,87.06,405.742,94.1983,412.7242,96.0005,411.7023,88.8622,404.72,87.06\" style=\"stroke: #383838; stroke-width: 1.0;\"/><text fill=\"#000000\" font-family=\"sans-serif\" font-size=\"13\" lengthAdjust=\"spacingAndGlyphs\" textLength=\"8\" x=\"443.9433\" y=\"135.8709\">1</text></a><!--MD5=[ce036f65110ae2351ccce5a81dc2e928]\n",
       "reverse link E2 to E6--><a href=\"psysml:e422968c-4e91-43ca-8170-4286e6bc67cf\" target=\"_top\" title=\"psysml:e422968c-4e91-43ca-8170-4286e6bc67cf\" xlink:actuate=\"onRequest\" xlink:href=\"psysml:e422968c-4e91-43ca-8170-4286e6bc67cf\" xlink:show=\"new\" xlink:title=\"psysml:e422968c-4e91-43ca-8170-4286e6bc67cf\" xlink:type=\"simple\"><path d=\"M432.45,82.69 C480.01,100.42 553.36,127.76 604.72,146.9 \" fill=\"none\" id=\"E2&lt;-E6\" style=\"stroke: #383838; stroke-width: 1.0;\"/><polygon fill=\"#FFFFFF\" points=\"420.05,78.07,424.2808,83.9096,431.2984,82.2502,427.0676,76.4107,420.05,78.07\" style=\"stroke: #383838; stroke-width: 1.0;\"/><text fill=\"#000000\" font-family=\"sans-serif\" font-size=\"13\" lengthAdjust=\"spacingAndGlyphs\" textLength=\"8\" x=\"579.7135\" y=\"135.7694\">1</text></a><!--MD5=[b84e869e4f095017f95e17e60181dfa7]\n",
       "@startuml\r\n",
       "skinparam monochrome true\r\n",
       "skinparam classbackgroundcolor white\r\n",
       "skinparam shadowing false\r\n",
       "skinparam wrapWidth 300\r\n",
       "hide circle\r\n",
       "\r\n",
       "package \"Missiesystemen definitie\" as E1  [[psysml:36d09e6c-e6cc-400f-b472-8f704123b6d0 ]]  {\r\n",
       "comp def \"t_Brug\" as E2  <<(T,blue) part  def>> [[psysml:36852ed2-79a8-438c-8071-0d73fef9dd3e ]] {\r\n",
       "}\r\n",
       "comp usage \"voertuig_in: t_voertuig \" as E3  <<(T,blue) item>> [[psysml:93f39665-74e4-4828-9aae-b8d7c808b7c7 ]] {\r\n",
       "}\r\n",
       "comp usage \"voertuig_uit: t_voertuig \" as E4  <<(T,blue) item>> [[psysml:2c85b82d-3caa-46e0-bb3d-3444ae3dcf3e ]] {\r\n",
       "}\r\n",
       "comp usage \"vaartuig_in: t_vaartuig \" as E5  <<(T,blue) item>> [[psysml:f7c279b9-4942-4294-a31d-69785f8de534 ]] {\r\n",
       "}\r\n",
       "comp usage \"vaartuig_uit: t_vaartuig \" as E6  <<(T,blue) item>> [[psysml:34d855f6-67c2-4659-95ec-cbebe3c24297 ]] {\r\n",
       "}\r\n",
       "}\r\n",
       "E2 o- - \"1\"E3 [[psysml:1a7447fa-37f8-4ce6-a19d-f60f470fc6dc ]] \r\n",
       "E2 o- - \"1\"E4 [[psysml:c7835e46-7308-4501-b2a8-2b9d3df33c4b ]] \r\n",
       "E2 o- - \"1\"E5 [[psysml:56cf0b77-86dc-4e6e-a821-9fd159c7628e ]] \r\n",
       "E2 o- - \"1\"E6 [[psysml:e422968c-4e91-43ca-8170-4286e6bc67cf ]] \r\n",
       "@enduml\r\n",
       "\n",
       "PlantUML version 1.2020.13(Sat Jun 13 05:26:38 PDT 2020)\n",
       "(EPL source distribution)\n",
       "Java Runtime: OpenJDK Runtime Environment\n",
       "JVM: OpenJDK 64-Bit Server VM\n",
       "Default Encoding: UTF-8\n",
       "Language: en\n",
       "Country: US\n",
       "--></g></svg>"
      ]
     },
     "execution_count": 186,
     "metadata": {},
     "output_type": "execute_result"
    }
   ],
   "source": [
    "%viz naam van de package"
   ]
  },
  {
   "cell_type": "markdown",
   "id": "34bca429",
   "metadata": {},
   "source": [
    "\n",
    "## Opdracht 1. Defineer de operationele omgeving\n",
    "\n",
    "Maak een packagestructuur die als volgt is georganiseerd:\n",
    "\n",
    "```\n",
    "Operationele Omgeving\n",
    "  Mensgemaakte Systemen\n",
    "  Natuurlijke ongevingselementen\n",
    "  Geinduceerde Omgevingselementen\n",
    "```\n",
    "\n",
    "- Plaats `t_Waterbody` (representatie voor de rivier) en `t_Motorway` (Representatie voor de weg) in de juiste package.\n",
    "- Plaats ook een usage van t_Brug in de specificatie.\n",
    "\n",
    "Speel eens met part en part def: Haal de \"def\" van de \"part def\" van 'Operationele Omgeving' af. \n",
    "Wat gebeurt nu?\n",
    "\n",
    "Een decompositie alleen is niet voldoende om het *system of interest* volledig af te bakenen. Tussen de mensgemaakte- en natuurlijke omgevingselementen zijn ook verbindingen. \n",
    "\n",
    "Om een `connection` tussen 2 systeemelementen te specificeren kan gebruik gemaakt worden van de volgende constructie:\n",
    "\n",
    "```\n",
    "// eerst definieren we een type voor het raakvlak\n",
    "connection def raakvlaktype {\n",
    "    end: t_systeemelement1;\n",
    "    end: t_systeemelement2;\n",
    "}\n",
    "\n",
    "// vervolgens instantieren we het raakvlak\n",
    "connection: raakvlaktype connect X to Y;\n",
    "```\n",
    "X en Y zijn de twee systeemelementen die met elkaar verbonden moeten worden.\n",
    "\n",
    "- definieer de verbindingen tussen de verschillende parts\n",
    "\n",
    "Als laatste dient te worden gespecificeerd welke items over de connecties worden uitgewisseld. "
   ]
  },
  {
   "cell_type": "code",
   "execution_count": 187,
   "id": "8434dd4e",
   "metadata": {},
   "outputs": [
    {
     "data": {
      "text/plain": [
       "Package OperationeleOmgeving (d1f22bc6-e854-4878-a5bb-e6834e4b4e80)\n"
      ]
     },
     "execution_count": 187,
     "metadata": {},
     "output_type": "execute_result"
    }
   ],
   "source": [
    "// plaats hier de SysML specificatie\n",
    "\n"
   ]
  },
  {
   "cell_type": "code",
   "execution_count": 188,
   "id": "38169fe9",
   "metadata": {},
   "outputs": [
    {
     "data": {
      "image/svg+xml": [
       "<?xml version=\"1.0\" encoding=\"UTF-8\" standalone=\"no\"?><svg xmlns=\"http://www.w3.org/2000/svg\" xmlns:xlink=\"http://www.w3.org/1999/xlink\" contentScriptType=\"application/ecmascript\" contentStyleType=\"text/css\" height=\"893px\" preserveAspectRatio=\"none\" style=\"width:2486px;height:893px;\" version=\"1.1\" viewBox=\"0 0 2486 893\" width=\"2486px\" zoomAndPan=\"magnify\"><defs/><g><!--MD5=[fbc87193dbaf4d95561dea2c320d4a47]\n",
       "cluster E1--><a href=\"psysml:d1f22bc6-e854-4878-a5bb-e6834e4b4e80\" target=\"_top\" title=\"psysml:d1f22bc6-e854-4878-a5bb-e6834e4b4e80\" xlink:actuate=\"onRequest\" xlink:href=\"psysml:d1f22bc6-e854-4878-a5bb-e6834e4b4e80\" xlink:show=\"new\" xlink:title=\"psysml:d1f22bc6-e854-4878-a5bb-e6834e4b4e80\" xlink:type=\"simple\"><polygon fill=\"#FFFFFF\" points=\"16,6,203,6,210,28.2969,2464,28.2969,2464,881,16,881,16,6\" style=\"stroke: #000000; stroke-width: 1.5;\"/><line style=\"stroke: #000000; stroke-width: 1.5;\" x1=\"16\" x2=\"210\" y1=\"28.2969\" y2=\"28.2969\"/><text fill=\"#000000\" font-family=\"sans-serif\" font-size=\"14\" font-weight=\"bold\" lengthAdjust=\"spacingAndGlyphs\" textLength=\"181\" x=\"20\" y=\"20.9951\">OperationeleOmgeving</text></a><!--MD5=[e4f7fae6ed58524ba242bb0b0d3be6b7]\n",
       "cluster E2--><a href=\"psysml:0cd5a8f7-50b3-40fd-989f-f53a4b138e55\" target=\"_top\" title=\"psysml:0cd5a8f7-50b3-40fd-989f-f53a4b138e55\" xlink:actuate=\"onRequest\" xlink:href=\"psysml:0cd5a8f7-50b3-40fd-989f-f53a4b138e55\" xlink:show=\"new\" xlink:title=\"psysml:0cd5a8f7-50b3-40fd-989f-f53a4b138e55\" xlink:type=\"simple\"><polygon fill=\"#FFFFFF\" points=\"104,499.5,312,499.5,319,521.7969,577,521.7969,577,748,104,748,104,499.5\" style=\"stroke: #000000; stroke-width: 1.5;\"/><line style=\"stroke: #000000; stroke-width: 1.5;\" x1=\"104\" x2=\"319\" y1=\"521.7969\" y2=\"521.7969\"/><text fill=\"#000000\" font-family=\"sans-serif\" font-size=\"14\" font-weight=\"bold\" lengthAdjust=\"spacingAndGlyphs\" textLength=\"202\" x=\"108\" y=\"514.4951\">Mensgemaakte Systemen</text></a><!--MD5=[168fadf3d0c3fd93dd5d6da1b1d7ab76]\n",
       "cluster E7--><a href=\"psysml:3403aff9-ca81-48fa-8eff-462f8a9d0a8f\" target=\"_top\" title=\"psysml:3403aff9-ca81-48fa-8eff-462f8a9d0a8f\" xlink:actuate=\"onRequest\" xlink:href=\"psysml:3403aff9-ca81-48fa-8eff-462f8a9d0a8f\" xlink:show=\"new\" xlink:title=\"psysml:3403aff9-ca81-48fa-8eff-462f8a9d0a8f\" xlink:type=\"simple\"><polygon fill=\"#FFFFFF\" points=\"1929,487,2196,487,2203,509.2969,2432,509.2969,2432,748,1929,748,1929,487\" style=\"stroke: #000000; stroke-width: 1.5;\"/><line style=\"stroke: #000000; stroke-width: 1.5;\" x1=\"1929\" x2=\"2203\" y1=\"509.2969\" y2=\"509.2969\"/><text fill=\"#000000\" font-family=\"sans-serif\" font-size=\"14\" font-weight=\"bold\" lengthAdjust=\"spacingAndGlyphs\" textLength=\"261\" x=\"1933\" y=\"501.9951\">Natuurlijke Omgevingselementen</text></a><!--MD5=[47bea60c1a0ac6c1143df232041969c0]\n",
       "cluster E12--><a href=\"psysml:dca66e9c-b6da-4315-b0b6-04f94712bdaf\" target=\"_top\" title=\"psysml:dca66e9c-b6da-4315-b0b6-04f94712bdaf\" xlink:actuate=\"onRequest\" xlink:href=\"psysml:dca66e9c-b6da-4315-b0b6-04f94712bdaf\" xlink:show=\"new\" xlink:title=\"psysml:dca66e9c-b6da-4315-b0b6-04f94712bdaf\" xlink:type=\"simple\"><polygon fill=\"#FFFFFF\" points=\"1947,96.5,2242,96.5,2249,118.7969,2309,118.7969,2309,401.36,1947,401.36,1947,96.5\" style=\"stroke: #000000; stroke-width: 1.5;\"/><line style=\"stroke: #000000; stroke-width: 1.5;\" x1=\"1947\" x2=\"2249\" y1=\"118.7969\" y2=\"118.7969\"/><text fill=\"#000000\" font-family=\"sans-serif\" font-size=\"14\" font-weight=\"bold\" lengthAdjust=\"spacingAndGlyphs\" textLength=\"289\" x=\"1951\" y=\"111.4951\">Geinduceerde Omgevingselementen</text></a><!--MD5=[bee11217b2f71d958a27249dc326068c]\n",
       "class E14--><a href=\"psysml:cf97b22c-eb11-4eaa-8eb9-90a777a7f48c\" target=\"_top\" title=\"psysml:cf97b22c-eb11-4eaa-8eb9-90a777a7f48c\" xlink:actuate=\"onRequest\" xlink:href=\"psysml:cf97b22c-eb11-4eaa-8eb9-90a777a7f48c\" xlink:show=\"new\" xlink:title=\"psysml:cf97b22c-eb11-4eaa-8eb9-90a777a7f48c\" xlink:type=\"simple\"><rect fill=\"#FFFFFF\" height=\"267.6172\" id=\"E14\" rx=\"10\" ry=\"10\" style=\"stroke: #383838; stroke-width: 1.5;\" width=\"289\" x=\"942.5\" y=\"41\"/><text fill=\"#000000\" font-family=\"sans-serif\" font-size=\"12\" font-style=\"italic\" lengthAdjust=\"spacingAndGlyphs\" textLength=\"40\" x=\"1067\" y=\"57.1387\">«part»</text><text fill=\"#000000\" font-family=\"sans-serif\" font-size=\"12\" lengthAdjust=\"spacingAndGlyphs\" textLength=\"146\" x=\"1012\" y=\"71.1074\">Operationele Omgeving</text><line style=\"stroke: #383838; stroke-width: 1.5;\" x1=\"943.5\" x2=\"1230.5\" y1=\"78.9375\" y2=\"78.9375\"/><text fill=\"#000000\" font-family=\"sans-serif\" font-size=\"11\" lengthAdjust=\"spacingAndGlyphs\" textLength=\"275\" x=\"948.5\" y=\"109.9526\">of : t_voertuig from  boven.voertuig_uit to  brug.</text><text fill=\"#000000\" font-family=\"sans-serif\" font-size=\"11\" lengthAdjust=\"spacingAndGlyphs\" textLength=\"62\" x=\"948.5\" y=\"122.7573\">voertuig_in</text><text fill=\"#000000\" font-family=\"sans-serif\" font-size=\"11\" lengthAdjust=\"spacingAndGlyphs\" textLength=\"275\" x=\"948.5\" y=\"135.562\">of : t_voertuig from  brug.voertuig_uit to  boven.</text><text fill=\"#000000\" font-family=\"sans-serif\" font-size=\"11\" lengthAdjust=\"spacingAndGlyphs\" textLength=\"62\" x=\"948.5\" y=\"148.3667\">voertuig_in</text><text fill=\"#000000\" font-family=\"sans-serif\" font-size=\"11\" lengthAdjust=\"spacingAndGlyphs\" textLength=\"274\" x=\"948.5\" y=\"161.1714\">of : t_voertuig from  onder.voertuig_uit to  brug.</text><text fill=\"#000000\" font-family=\"sans-serif\" font-size=\"11\" lengthAdjust=\"spacingAndGlyphs\" textLength=\"62\" x=\"948.5\" y=\"173.9761\">voertuig_in</text><text fill=\"#000000\" font-family=\"sans-serif\" font-size=\"11\" lengthAdjust=\"spacingAndGlyphs\" textLength=\"274\" x=\"948.5\" y=\"186.7808\">of : t_voertuig from  brug.voertuig_uit to  onder.</text><text fill=\"#000000\" font-family=\"sans-serif\" font-size=\"11\" lengthAdjust=\"spacingAndGlyphs\" textLength=\"62\" x=\"948.5\" y=\"199.5854\">voertuig_in</text><text fill=\"#000000\" font-family=\"sans-serif\" font-size=\"11\" lengthAdjust=\"spacingAndGlyphs\" textLength=\"277\" x=\"948.5\" y=\"212.3901\">of : t_vaartuig from  rechts.vaartuig_uit to  brug.</text><text fill=\"#000000\" font-family=\"sans-serif\" font-size=\"11\" lengthAdjust=\"spacingAndGlyphs\" textLength=\"62\" x=\"948.5\" y=\"225.1948\">vaartuig_in</text><text fill=\"#000000\" font-family=\"sans-serif\" font-size=\"11\" lengthAdjust=\"spacingAndGlyphs\" textLength=\"273\" x=\"948.5\" y=\"237.9995\">of : t_vaartuig from  rechts.vaartuig_in to  brug.</text><text fill=\"#000000\" font-family=\"sans-serif\" font-size=\"11\" lengthAdjust=\"spacingAndGlyphs\" textLength=\"66\" x=\"948.5\" y=\"250.8042\">vaartuig_uit</text><text fill=\"#000000\" font-family=\"sans-serif\" font-size=\"11\" lengthAdjust=\"spacingAndGlyphs\" textLength=\"267\" x=\"948.5\" y=\"263.6089\">of : t_vaartuig from  links.vaartuig_uit to  brug.</text><text fill=\"#000000\" font-family=\"sans-serif\" font-size=\"11\" lengthAdjust=\"spacingAndGlyphs\" textLength=\"62\" x=\"948.5\" y=\"276.4136\">vaartuig_in</text><text fill=\"#000000\" font-family=\"sans-serif\" font-size=\"11\" lengthAdjust=\"spacingAndGlyphs\" textLength=\"263\" x=\"948.5\" y=\"289.2183\">of : t_vaartuig from  links.vaartuig_in to  brug.</text><text fill=\"#000000\" font-family=\"sans-serif\" font-size=\"11\" lengthAdjust=\"spacingAndGlyphs\" textLength=\"66\" x=\"948.5\" y=\"302.0229\">vaartuig_uit</text><line style=\"stroke: #383838; stroke-width: 1.0;\" x1=\"943.5\" x2=\"1072\" y1=\"93.3398\" y2=\"93.3398\"/><text fill=\"#000000\" font-family=\"sans-serif\" font-size=\"11\" lengthAdjust=\"spacingAndGlyphs\" textLength=\"30\" x=\"1072\" y=\"96.6479\">flows</text><line style=\"stroke: #383838; stroke-width: 1.0;\" x1=\"1102\" x2=\"1230.5\" y1=\"93.3398\" y2=\"93.3398\"/></a><!--MD5=[0c48fb7552dae8cbbef69381101a84c8]\n",
       "class E15--><a href=\"psysml:06ef2f86-3453-4dc2-9d96-fdf8c138170f\" target=\"_top\" title=\"psysml:06ef2f86-3453-4dc2-9d96-fdf8c138170f\" xlink:actuate=\"onRequest\" xlink:href=\"psysml:06ef2f86-3453-4dc2-9d96-fdf8c138170f\" xlink:show=\"new\" xlink:title=\"psysml:06ef2f86-3453-4dc2-9d96-fdf8c138170f\" xlink:type=\"simple\"><rect fill=\"#FFFFFF\" height=\"45.9375\" id=\"E15\" rx=\"10\" ry=\"10\" style=\"stroke: #383838; stroke-width: 1.5;\" width=\"154\" x=\"1162\" y=\"370\"/><text fill=\"#000000\" font-family=\"sans-serif\" font-size=\"12\" font-style=\"italic\" lengthAdjust=\"spacingAndGlyphs\" textLength=\"40\" x=\"1219\" y=\"386.1387\">«part»</text><text fill=\"#000000\" font-family=\"sans-serif\" font-size=\"12\" lengthAdjust=\"spacingAndGlyphs\" textLength=\"144\" x=\"1165\" y=\"400.1074\">rechts: t_Waterlichaam</text><line style=\"stroke: #383838; stroke-width: 1.5;\" x1=\"1163\" x2=\"1315\" y1=\"407.9375\" y2=\"407.9375\"/></a><!--MD5=[35f0587eaee8d5bb9a02e25b63afc23b]\n",
       "class E16--><a href=\"psysml:8ce9432d-8fe4-4488-bcd1-eef0f928f9ed\" target=\"_top\" title=\"psysml:8ce9432d-8fe4-4488-bcd1-eef0f928f9ed\" xlink:actuate=\"onRequest\" xlink:href=\"psysml:8ce9432d-8fe4-4488-bcd1-eef0f928f9ed\" xlink:show=\"new\" xlink:title=\"psysml:8ce9432d-8fe4-4488-bcd1-eef0f928f9ed\" xlink:type=\"simple\"><rect fill=\"#FFFFFF\" height=\"45.9375\" id=\"E16\" rx=\"10\" ry=\"10\" style=\"stroke: #383838; stroke-width: 1.5;\" width=\"163\" x=\"1157.5\" y=\"542.5\"/><text fill=\"#000000\" font-family=\"sans-serif\" font-size=\"12\" font-style=\"italic\" lengthAdjust=\"spacingAndGlyphs\" textLength=\"41\" x=\"1218.5\" y=\"558.6387\">«item»</text><text fill=\"#000000\" font-family=\"sans-serif\" font-size=\"12\" lengthAdjust=\"spacingAndGlyphs\" textLength=\"153\" x=\"1160.5\" y=\"572.6074\">^vaartuig_uit: t_vaartuig</text><line style=\"stroke: #383838; stroke-width: 1.5;\" x1=\"1158.5\" x2=\"1319.5\" y1=\"580.4375\" y2=\"580.4375\"/></a><!--MD5=[60e55a4a9b2f0dc0a36787c5a2095786]\n",
       "class E17--><a href=\"psysml:5b172f03-3f61-41a9-a1b9-6f64911f39c5\" target=\"_top\" title=\"psysml:5b172f03-3f61-41a9-a1b9-6f64911f39c5\" xlink:actuate=\"onRequest\" xlink:href=\"psysml:5b172f03-3f61-41a9-a1b9-6f64911f39c5\" xlink:show=\"new\" xlink:title=\"psysml:5b172f03-3f61-41a9-a1b9-6f64911f39c5\" xlink:type=\"simple\"><rect fill=\"#FFFFFF\" height=\"45.9375\" id=\"E17\" rx=\"10\" ry=\"10\" style=\"stroke: #383838; stroke-width: 1.5;\" width=\"158\" x=\"1554\" y=\"542.5\"/><text fill=\"#000000\" font-family=\"sans-serif\" font-size=\"12\" font-style=\"italic\" lengthAdjust=\"spacingAndGlyphs\" textLength=\"41\" x=\"1612.5\" y=\"558.6387\">«item»</text><text fill=\"#000000\" font-family=\"sans-serif\" font-size=\"12\" lengthAdjust=\"spacingAndGlyphs\" textLength=\"148\" x=\"1557\" y=\"572.6074\">^vaartuig_in: t_vaartuig</text><line style=\"stroke: #383838; stroke-width: 1.5;\" x1=\"1555\" x2=\"1711\" y1=\"580.4375\" y2=\"580.4375\"/></a><!--MD5=[e3af68e2095dcd46cf4beab32f25c64b]\n",
       "class E18--><a href=\"psysml:6aab8133-c16c-4898-aaf0-e7713c36a059\" target=\"_top\" title=\"psysml:6aab8133-c16c-4898-aaf0-e7713c36a059\" xlink:actuate=\"onRequest\" xlink:href=\"psysml:6aab8133-c16c-4898-aaf0-e7713c36a059\" xlink:show=\"new\" xlink:title=\"psysml:6aab8133-c16c-4898-aaf0-e7713c36a059\" xlink:type=\"simple\"><rect fill=\"#FFFFFF\" height=\"45.9375\" id=\"E18\" rx=\"10\" ry=\"10\" style=\"stroke: #383838; stroke-width: 1.5;\" width=\"142\" x=\"1366\" y=\"370\"/><text fill=\"#000000\" font-family=\"sans-serif\" font-size=\"12\" font-style=\"italic\" lengthAdjust=\"spacingAndGlyphs\" textLength=\"40\" x=\"1417\" y=\"386.1387\">«part»</text><text fill=\"#000000\" font-family=\"sans-serif\" font-size=\"12\" lengthAdjust=\"spacingAndGlyphs\" textLength=\"132\" x=\"1369\" y=\"400.1074\">links: t_Waterlichaam</text><line style=\"stroke: #383838; stroke-width: 1.5;\" x1=\"1367\" x2=\"1507\" y1=\"407.9375\" y2=\"407.9375\"/></a><!--MD5=[2afd267d199484aabbd2f23ded056bb0]\n",
       "class E19--><a href=\"psysml:8ce9432d-8fe4-4488-bcd1-eef0f928f9ed\" target=\"_top\" title=\"psysml:8ce9432d-8fe4-4488-bcd1-eef0f928f9ed\" xlink:actuate=\"onRequest\" xlink:href=\"psysml:8ce9432d-8fe4-4488-bcd1-eef0f928f9ed\" xlink:show=\"new\" xlink:title=\"psysml:8ce9432d-8fe4-4488-bcd1-eef0f928f9ed\" xlink:type=\"simple\"><rect fill=\"#FFFFFF\" height=\"45.9375\" id=\"E19\" rx=\"10\" ry=\"10\" style=\"stroke: #383838; stroke-width: 1.5;\" width=\"163\" x=\"1355.5\" y=\"542.5\"/><text fill=\"#000000\" font-family=\"sans-serif\" font-size=\"12\" font-style=\"italic\" lengthAdjust=\"spacingAndGlyphs\" textLength=\"41\" x=\"1416.5\" y=\"558.6387\">«item»</text><text fill=\"#000000\" font-family=\"sans-serif\" font-size=\"12\" lengthAdjust=\"spacingAndGlyphs\" textLength=\"153\" x=\"1358.5\" y=\"572.6074\">^vaartuig_uit: t_vaartuig</text><line style=\"stroke: #383838; stroke-width: 1.5;\" x1=\"1356.5\" x2=\"1517.5\" y1=\"580.4375\" y2=\"580.4375\"/></a><!--MD5=[98c62f1084e4f84a692d89b659ad1ae4]\n",
       "class E20--><a href=\"psysml:5b172f03-3f61-41a9-a1b9-6f64911f39c5\" target=\"_top\" title=\"psysml:5b172f03-3f61-41a9-a1b9-6f64911f39c5\" xlink:actuate=\"onRequest\" xlink:href=\"psysml:5b172f03-3f61-41a9-a1b9-6f64911f39c5\" xlink:show=\"new\" xlink:title=\"psysml:5b172f03-3f61-41a9-a1b9-6f64911f39c5\" xlink:type=\"simple\"><rect fill=\"#FFFFFF\" height=\"45.9375\" id=\"E20\" rx=\"10\" ry=\"10\" style=\"stroke: #383838; stroke-width: 1.5;\" width=\"158\" x=\"1747\" y=\"542.5\"/><text fill=\"#000000\" font-family=\"sans-serif\" font-size=\"12\" font-style=\"italic\" lengthAdjust=\"spacingAndGlyphs\" textLength=\"41\" x=\"1805.5\" y=\"558.6387\">«item»</text><text fill=\"#000000\" font-family=\"sans-serif\" font-size=\"12\" lengthAdjust=\"spacingAndGlyphs\" textLength=\"148\" x=\"1750\" y=\"572.6074\">^vaartuig_in: t_vaartuig</text><line style=\"stroke: #383838; stroke-width: 1.5;\" x1=\"1748\" x2=\"1904\" y1=\"580.4375\" y2=\"580.4375\"/></a><!--MD5=[0a5eafc7463fe4c3b6356fe5913c4902]\n",
       "class E21--><a href=\"psysml:89a411ed-8d3d-40d0-bbd7-9a494fcd3ec4\" target=\"_top\" title=\"psysml:89a411ed-8d3d-40d0-bbd7-9a494fcd3ec4\" xlink:actuate=\"onRequest\" xlink:href=\"psysml:89a411ed-8d3d-40d0-bbd7-9a494fcd3ec4\" xlink:show=\"new\" xlink:title=\"psysml:89a411ed-8d3d-40d0-bbd7-9a494fcd3ec4\" xlink:type=\"simple\"><rect fill=\"#FFFFFF\" height=\"45.9375\" id=\"E21\" rx=\"10\" ry=\"10\" style=\"stroke: #383838; stroke-width: 1.5;\" width=\"119\" x=\"931.5\" y=\"370\"/><text fill=\"#000000\" font-family=\"sans-serif\" font-size=\"12\" font-style=\"italic\" lengthAdjust=\"spacingAndGlyphs\" textLength=\"40\" x=\"971\" y=\"386.1387\">«part»</text><text fill=\"#000000\" font-family=\"sans-serif\" font-size=\"12\" lengthAdjust=\"spacingAndGlyphs\" textLength=\"109\" x=\"934.5\" y=\"400.1074\">boven: t_Snelweg</text><line style=\"stroke: #383838; stroke-width: 1.5;\" x1=\"932.5\" x2=\"1049.5\" y1=\"407.9375\" y2=\"407.9375\"/></a><!--MD5=[6284cf9f06086a212f4fa89d0d29ec03]\n",
       "class E22--><a href=\"psysml:96d11f9b-2222-4591-abc9-aad10869e8d2\" target=\"_top\" title=\"psysml:96d11f9b-2222-4591-abc9-aad10869e8d2\" xlink:actuate=\"onRequest\" xlink:href=\"psysml:96d11f9b-2222-4591-abc9-aad10869e8d2\" xlink:show=\"new\" xlink:title=\"psysml:96d11f9b-2222-4591-abc9-aad10869e8d2\" xlink:type=\"simple\"><rect fill=\"#FFFFFF\" height=\"45.9375\" id=\"E22\" rx=\"10\" ry=\"10\" style=\"stroke: #383838; stroke-width: 1.5;\" width=\"163\" x=\"799.5\" y=\"542.5\"/><text fill=\"#000000\" font-family=\"sans-serif\" font-size=\"12\" font-style=\"italic\" lengthAdjust=\"spacingAndGlyphs\" textLength=\"41\" x=\"860.5\" y=\"558.6387\">«item»</text><text fill=\"#000000\" font-family=\"sans-serif\" font-size=\"12\" lengthAdjust=\"spacingAndGlyphs\" textLength=\"153\" x=\"802.5\" y=\"572.6074\">^voertuig_uit: t_voertuig</text><line style=\"stroke: #383838; stroke-width: 1.5;\" x1=\"800.5\" x2=\"961.5\" y1=\"580.4375\" y2=\"580.4375\"/></a><!--MD5=[a4184b15efaeca9fb90158e34dfc9305]\n",
       "class E23--><a href=\"psysml:0d5d3a4f-1580-4414-8a39-068067adac95\" target=\"_top\" title=\"psysml:0d5d3a4f-1580-4414-8a39-068067adac95\" xlink:actuate=\"onRequest\" xlink:href=\"psysml:0d5d3a4f-1580-4414-8a39-068067adac95\" xlink:show=\"new\" xlink:title=\"psysml:0d5d3a4f-1580-4414-8a39-068067adac95\" xlink:type=\"simple\"><rect fill=\"#FFFFFF\" height=\"45.9375\" id=\"E23\" rx=\"10\" ry=\"10\" style=\"stroke: #383838; stroke-width: 1.5;\" width=\"158\" x=\"861\" y=\"819\"/><text fill=\"#000000\" font-family=\"sans-serif\" font-size=\"12\" font-style=\"italic\" lengthAdjust=\"spacingAndGlyphs\" textLength=\"41\" x=\"919.5\" y=\"835.1387\">«item»</text><text fill=\"#000000\" font-family=\"sans-serif\" font-size=\"12\" lengthAdjust=\"spacingAndGlyphs\" textLength=\"148\" x=\"864\" y=\"849.1074\">^voertuig_in: t_voertuig</text><line style=\"stroke: #383838; stroke-width: 1.5;\" x1=\"862\" x2=\"1018\" y1=\"856.9375\" y2=\"856.9375\"/></a><!--MD5=[d961d9d5dcc77964a221abceaadb3cc6]\n",
       "class E24--><a href=\"psysml:19732d9b-efa1-48ae-8645-9620a708d535\" target=\"_top\" title=\"psysml:19732d9b-efa1-48ae-8645-9620a708d535\" xlink:actuate=\"onRequest\" xlink:href=\"psysml:19732d9b-efa1-48ae-8645-9620a708d535\" xlink:show=\"new\" xlink:title=\"psysml:19732d9b-efa1-48ae-8645-9620a708d535\" xlink:type=\"simple\"><rect fill=\"#FFFFFF\" height=\"45.9375\" id=\"E24\" rx=\"10\" ry=\"10\" style=\"stroke: #383838; stroke-width: 1.5;\" width=\"118\" x=\"624\" y=\"370\"/><text fill=\"#000000\" font-family=\"sans-serif\" font-size=\"12\" font-style=\"italic\" lengthAdjust=\"spacingAndGlyphs\" textLength=\"40\" x=\"663\" y=\"386.1387\">«part»</text><text fill=\"#000000\" font-family=\"sans-serif\" font-size=\"12\" lengthAdjust=\"spacingAndGlyphs\" textLength=\"108\" x=\"627\" y=\"400.1074\">onder: t_Snelweg</text><line style=\"stroke: #383838; stroke-width: 1.5;\" x1=\"625\" x2=\"741\" y1=\"407.9375\" y2=\"407.9375\"/></a><!--MD5=[27602d2299176a43176dae1470eb318a]\n",
       "class E25--><a href=\"psysml:96d11f9b-2222-4591-abc9-aad10869e8d2\" target=\"_top\" title=\"psysml:96d11f9b-2222-4591-abc9-aad10869e8d2\" xlink:actuate=\"onRequest\" xlink:href=\"psysml:96d11f9b-2222-4591-abc9-aad10869e8d2\" xlink:show=\"new\" xlink:title=\"psysml:96d11f9b-2222-4591-abc9-aad10869e8d2\" xlink:type=\"simple\"><rect fill=\"#FFFFFF\" height=\"45.9375\" id=\"E25\" rx=\"10\" ry=\"10\" style=\"stroke: #383838; stroke-width: 1.5;\" width=\"163\" x=\"601.5\" y=\"542.5\"/><text fill=\"#000000\" font-family=\"sans-serif\" font-size=\"12\" font-style=\"italic\" lengthAdjust=\"spacingAndGlyphs\" textLength=\"41\" x=\"662.5\" y=\"558.6387\">«item»</text><text fill=\"#000000\" font-family=\"sans-serif\" font-size=\"12\" lengthAdjust=\"spacingAndGlyphs\" textLength=\"153\" x=\"604.5\" y=\"572.6074\">^voertuig_uit: t_voertuig</text><line style=\"stroke: #383838; stroke-width: 1.5;\" x1=\"602.5\" x2=\"763.5\" y1=\"580.4375\" y2=\"580.4375\"/></a><!--MD5=[cd9920ba5ec815a2e5c5d0d6af8dfd7b]\n",
       "class E26--><a href=\"psysml:0d5d3a4f-1580-4414-8a39-068067adac95\" target=\"_top\" title=\"psysml:0d5d3a4f-1580-4414-8a39-068067adac95\" xlink:actuate=\"onRequest\" xlink:href=\"psysml:0d5d3a4f-1580-4414-8a39-068067adac95\" xlink:show=\"new\" xlink:title=\"psysml:0d5d3a4f-1580-4414-8a39-068067adac95\" xlink:type=\"simple\"><rect fill=\"#FFFFFF\" height=\"45.9375\" id=\"E26\" rx=\"10\" ry=\"10\" style=\"stroke: #383838; stroke-width: 1.5;\" width=\"158\" x=\"360\" y=\"819\"/><text fill=\"#000000\" font-family=\"sans-serif\" font-size=\"12\" font-style=\"italic\" lengthAdjust=\"spacingAndGlyphs\" textLength=\"41\" x=\"418.5\" y=\"835.1387\">«item»</text><text fill=\"#000000\" font-family=\"sans-serif\" font-size=\"12\" lengthAdjust=\"spacingAndGlyphs\" textLength=\"148\" x=\"363\" y=\"849.1074\">^voertuig_in: t_voertuig</text><line style=\"stroke: #383838; stroke-width: 1.5;\" x1=\"361\" x2=\"517\" y1=\"856.9375\" y2=\"856.9375\"/></a><!--MD5=[066bc520e5788adc19ecb36845367d7b]\n",
       "class E27--><a href=\"psysml:105a6c88-28d0-464b-bd09-d019f3dbac59\" target=\"_top\" title=\"psysml:105a6c88-28d0-464b-bd09-d019f3dbac59\" xlink:actuate=\"onRequest\" xlink:href=\"psysml:105a6c88-28d0-464b-bd09-d019f3dbac59\" xlink:show=\"new\" xlink:title=\"psysml:105a6c88-28d0-464b-bd09-d019f3dbac59\" xlink:type=\"simple\"><rect fill=\"#FFFFFF\" height=\"45.9375\" id=\"E27\" rx=\"10\" ry=\"10\" style=\"stroke: #383838; stroke-width: 1.5;\" width=\"87\" x=\"1035.5\" y=\"542.5\"/><text fill=\"#000000\" font-family=\"sans-serif\" font-size=\"12\" font-style=\"italic\" lengthAdjust=\"spacingAndGlyphs\" textLength=\"40\" x=\"1059\" y=\"558.6387\">«part»</text><text fill=\"#000000\" font-family=\"sans-serif\" font-size=\"12\" lengthAdjust=\"spacingAndGlyphs\" textLength=\"77\" x=\"1038.5\" y=\"572.6074\">brug: t_Brug</text><line style=\"stroke: #383838; stroke-width: 1.5;\" x1=\"1036.5\" x2=\"1121.5\" y1=\"580.4375\" y2=\"580.4375\"/></a><!--MD5=[8db47f9d4d7fc0d396d3178361557c44]\n",
       "class E28--><a href=\"psysml:34d855f6-67c2-4659-95ec-cbebe3c24297\" target=\"_top\" title=\"psysml:34d855f6-67c2-4659-95ec-cbebe3c24297\" xlink:actuate=\"onRequest\" xlink:href=\"psysml:34d855f6-67c2-4659-95ec-cbebe3c24297\" xlink:show=\"new\" xlink:title=\"psysml:34d855f6-67c2-4659-95ec-cbebe3c24297\" xlink:type=\"simple\"><rect fill=\"#FFFFFF\" height=\"45.9375\" id=\"E28\" rx=\"10\" ry=\"10\" style=\"stroke: #383838; stroke-width: 1.5;\" width=\"163\" x=\"1551.5\" y=\"678\"/><text fill=\"#000000\" font-family=\"sans-serif\" font-size=\"12\" font-style=\"italic\" lengthAdjust=\"spacingAndGlyphs\" textLength=\"41\" x=\"1612.5\" y=\"694.1387\">«item»</text><text fill=\"#000000\" font-family=\"sans-serif\" font-size=\"12\" lengthAdjust=\"spacingAndGlyphs\" textLength=\"153\" x=\"1554.5\" y=\"708.1074\">^vaartuig_uit: t_vaartuig</text><line style=\"stroke: #383838; stroke-width: 1.5;\" x1=\"1552.5\" x2=\"1713.5\" y1=\"715.9375\" y2=\"715.9375\"/></a><!--MD5=[25464c42cc0d14ebb0038e04d39d9569]\n",
       "class E29--><a href=\"psysml:93f39665-74e4-4828-9aae-b8d7c808b7c7\" target=\"_top\" title=\"psysml:93f39665-74e4-4828-9aae-b8d7c808b7c7\" xlink:actuate=\"onRequest\" xlink:href=\"psysml:93f39665-74e4-4828-9aae-b8d7c808b7c7\" xlink:show=\"new\" xlink:title=\"psysml:93f39665-74e4-4828-9aae-b8d7c808b7c7\" xlink:type=\"simple\"><rect fill=\"#FFFFFF\" height=\"45.9375\" id=\"E29\" rx=\"10\" ry=\"10\" style=\"stroke: #383838; stroke-width: 1.5;\" width=\"158\" x=\"606\" y=\"678\"/><text fill=\"#000000\" font-family=\"sans-serif\" font-size=\"12\" font-style=\"italic\" lengthAdjust=\"spacingAndGlyphs\" textLength=\"41\" x=\"664.5\" y=\"694.1387\">«item»</text><text fill=\"#000000\" font-family=\"sans-serif\" font-size=\"12\" lengthAdjust=\"spacingAndGlyphs\" textLength=\"148\" x=\"609\" y=\"708.1074\">^voertuig_in: t_voertuig</text><line style=\"stroke: #383838; stroke-width: 1.5;\" x1=\"607\" x2=\"763\" y1=\"715.9375\" y2=\"715.9375\"/></a><!--MD5=[6366ee80e77914263c86fca8571e11f5]\n",
       "class E30--><a href=\"psysml:2c85b82d-3caa-46e0-bb3d-3444ae3dcf3e\" target=\"_top\" title=\"psysml:2c85b82d-3caa-46e0-bb3d-3444ae3dcf3e\" xlink:actuate=\"onRequest\" xlink:href=\"psysml:2c85b82d-3caa-46e0-bb3d-3444ae3dcf3e\" xlink:show=\"new\" xlink:title=\"psysml:2c85b82d-3caa-46e0-bb3d-3444ae3dcf3e\" xlink:type=\"simple\"><rect fill=\"#FFFFFF\" height=\"45.9375\" id=\"E30\" rx=\"10\" ry=\"10\" style=\"stroke: #383838; stroke-width: 1.5;\" width=\"163\" x=\"799.5\" y=\"678\"/><text fill=\"#000000\" font-family=\"sans-serif\" font-size=\"12\" font-style=\"italic\" lengthAdjust=\"spacingAndGlyphs\" textLength=\"41\" x=\"860.5\" y=\"694.1387\">«item»</text><text fill=\"#000000\" font-family=\"sans-serif\" font-size=\"12\" lengthAdjust=\"spacingAndGlyphs\" textLength=\"153\" x=\"802.5\" y=\"708.1074\">^voertuig_uit: t_voertuig</text><line style=\"stroke: #383838; stroke-width: 1.5;\" x1=\"800.5\" x2=\"961.5\" y1=\"715.9375\" y2=\"715.9375\"/></a><!--MD5=[25feff12fec73981df06979b9bb6cf9e]\n",
       "class E31--><a href=\"psysml:f7c279b9-4942-4294-a31d-69785f8de534\" target=\"_top\" title=\"psysml:f7c279b9-4942-4294-a31d-69785f8de534\" xlink:actuate=\"onRequest\" xlink:href=\"psysml:f7c279b9-4942-4294-a31d-69785f8de534\" xlink:show=\"new\" xlink:title=\"psysml:f7c279b9-4942-4294-a31d-69785f8de534\" xlink:type=\"simple\"><rect fill=\"#FFFFFF\" height=\"45.9375\" id=\"E31\" rx=\"10\" ry=\"10\" style=\"stroke: #383838; stroke-width: 1.5;\" width=\"158\" x=\"1160\" y=\"678\"/><text fill=\"#000000\" font-family=\"sans-serif\" font-size=\"12\" font-style=\"italic\" lengthAdjust=\"spacingAndGlyphs\" textLength=\"41\" x=\"1218.5\" y=\"694.1387\">«item»</text><text fill=\"#000000\" font-family=\"sans-serif\" font-size=\"12\" lengthAdjust=\"spacingAndGlyphs\" textLength=\"148\" x=\"1163\" y=\"708.1074\">^vaartuig_in: t_vaartuig</text><line style=\"stroke: #383838; stroke-width: 1.5;\" x1=\"1161\" x2=\"1317\" y1=\"715.9375\" y2=\"715.9375\"/></a><!--MD5=[541982d0c4e6f81f5d688cdf05a252dd]\n",
       "class E32--><a href=\"psysml:ded14a1e-160e-4aaf-9008-42c60e9c14fc\" target=\"_top\" title=\"psysml:ded14a1e-160e-4aaf-9008-42c60e9c14fc\" xlink:actuate=\"onRequest\" xlink:href=\"psysml:ded14a1e-160e-4aaf-9008-42c60e9c14fc\" xlink:show=\"new\" xlink:title=\"psysml:ded14a1e-160e-4aaf-9008-42c60e9c14fc\" xlink:type=\"simple\"><rect fill=\"#FFFFFF\" height=\"45.9375\" id=\"E32\" style=\"stroke: #383838; stroke-width: 1.5;\" width=\"114\" x=\"291\" y=\"370\"/><text fill=\"#000000\" font-family=\"sans-serif\" font-size=\"12\" font-style=\"italic\" lengthAdjust=\"spacingAndGlyphs\" textLength=\"112\" x=\"292\" y=\"386.1387\">«connection  def»</text><text fill=\"#000000\" font-family=\"sans-serif\" font-size=\"12\" lengthAdjust=\"spacingAndGlyphs\" textLength=\"105\" x=\"295.5\" y=\"400.1074\">t_wegaansluiting</text><line style=\"stroke: #383838; stroke-width: 1.5;\" x1=\"292\" x2=\"404\" y1=\"407.9375\" y2=\"407.9375\"/></a><!--MD5=[c001dd83e7e635e78b1155d783a31b32]\n",
       "class E33--><a href=\"psysml:110bef14-7b45-4bec-87b0-f29ba20a8141\" target=\"_top\" title=\"psysml:110bef14-7b45-4bec-87b0-f29ba20a8141\" xlink:actuate=\"onRequest\" xlink:href=\"psysml:110bef14-7b45-4bec-87b0-f29ba20a8141\" xlink:show=\"new\" xlink:title=\"psysml:110bef14-7b45-4bec-87b0-f29ba20a8141\" xlink:type=\"simple\"><rect fill=\"#FFFFFF\" height=\"45.9375\" id=\"E33\" style=\"stroke: #383838; stroke-width: 1.5;\" width=\"138\" x=\"1663\" y=\"370\"/><text fill=\"#000000\" font-family=\"sans-serif\" font-size=\"12\" font-style=\"italic\" lengthAdjust=\"spacingAndGlyphs\" textLength=\"112\" x=\"1676\" y=\"386.1387\">«connection  def»</text><text fill=\"#000000\" font-family=\"sans-serif\" font-size=\"12\" lengthAdjust=\"spacingAndGlyphs\" textLength=\"132\" x=\"1666\" y=\"400.1074\">t_vaarwegaansluiting</text><line style=\"stroke: #383838; stroke-width: 1.5;\" x1=\"1664\" x2=\"1800\" y1=\"407.9375\" y2=\"407.9375\"/></a><!--MD5=[ebbe1d658d1005bcc118a6aa81145e00]\n",
       "class E4--><a href=\"psysml:f6c333cd-62fa-406d-806d-11f207476704\" target=\"_top\" title=\"psysml:f6c333cd-62fa-406d-806d-11f207476704\" xlink:actuate=\"onRequest\" xlink:href=\"psysml:f6c333cd-62fa-406d-806d-11f207476704\" xlink:show=\"new\" xlink:title=\"psysml:f6c333cd-62fa-406d-806d-11f207476704\" xlink:type=\"simple\"><rect fill=\"#FFFFFF\" height=\"45.9375\" id=\"E4\" style=\"stroke: #383838; stroke-width: 1.5;\" width=\"70\" x=\"128\" y=\"542.5\"/><text fill=\"#000000\" font-family=\"sans-serif\" font-size=\"12\" font-style=\"italic\" lengthAdjust=\"spacingAndGlyphs\" textLength=\"68\" x=\"129\" y=\"558.6387\">«part  def»</text><text fill=\"#000000\" font-family=\"sans-serif\" font-size=\"12\" lengthAdjust=\"spacingAndGlyphs\" textLength=\"63\" x=\"131.5\" y=\"572.6074\">t_Snelweg</text><line style=\"stroke: #383838; stroke-width: 1.5;\" x1=\"129\" x2=\"197\" y1=\"580.4375\" y2=\"580.4375\"/></a><!--MD5=[270fce915f116d4de14055a7c1d9a0f3]\n",
       "class E5--><a href=\"psysml:0d5d3a4f-1580-4414-8a39-068067adac95\" target=\"_top\" title=\"psysml:0d5d3a4f-1580-4414-8a39-068067adac95\" xlink:actuate=\"onRequest\" xlink:href=\"psysml:0d5d3a4f-1580-4414-8a39-068067adac95\" xlink:show=\"new\" xlink:title=\"psysml:0d5d3a4f-1580-4414-8a39-068067adac95\" xlink:type=\"simple\"><rect fill=\"#FFFFFF\" height=\"45.9375\" id=\"E5\" rx=\"10\" ry=\"10\" style=\"stroke: #383838; stroke-width: 1.5;\" width=\"148\" x=\"128\" y=\"678\"/><text fill=\"#000000\" font-family=\"sans-serif\" font-size=\"12\" font-style=\"italic\" lengthAdjust=\"spacingAndGlyphs\" textLength=\"41\" x=\"181.5\" y=\"694.1387\">«item»</text><text fill=\"#000000\" font-family=\"sans-serif\" font-size=\"12\" lengthAdjust=\"spacingAndGlyphs\" textLength=\"138\" x=\"131\" y=\"708.1074\">voertuig_in: t_voertuig</text><line style=\"stroke: #383838; stroke-width: 1.5;\" x1=\"129\" x2=\"275\" y1=\"715.9375\" y2=\"715.9375\"/></a><!--MD5=[60a26617385b1d2d0262a64233df1f8d]\n",
       "class E6--><a href=\"psysml:96d11f9b-2222-4591-abc9-aad10869e8d2\" target=\"_top\" title=\"psysml:96d11f9b-2222-4591-abc9-aad10869e8d2\" xlink:actuate=\"onRequest\" xlink:href=\"psysml:96d11f9b-2222-4591-abc9-aad10869e8d2\" xlink:show=\"new\" xlink:title=\"psysml:96d11f9b-2222-4591-abc9-aad10869e8d2\" xlink:type=\"simple\"><rect fill=\"#FFFFFF\" height=\"45.9375\" id=\"E6\" rx=\"10\" ry=\"10\" style=\"stroke: #383838; stroke-width: 1.5;\" width=\"153\" x=\"311.5\" y=\"678\"/><text fill=\"#000000\" font-family=\"sans-serif\" font-size=\"12\" font-style=\"italic\" lengthAdjust=\"spacingAndGlyphs\" textLength=\"41\" x=\"367.5\" y=\"694.1387\">«item»</text><text fill=\"#000000\" font-family=\"sans-serif\" font-size=\"12\" lengthAdjust=\"spacingAndGlyphs\" textLength=\"143\" x=\"314.5\" y=\"708.1074\">voertuig_uit: t_voertuig</text><line style=\"stroke: #383838; stroke-width: 1.5;\" x1=\"312.5\" x2=\"463.5\" y1=\"715.9375\" y2=\"715.9375\"/></a><path d=\"M233,545.5 L233,585.7656 L545,585.7656 L545,555.5 L535,545.5 L233,545.5 \" fill=\"#ECECEC\" style=\"stroke: #383838; stroke-width: 1.0;\"/><path d=\"M535,545.5 L535,555.5 L545,555.5 L535,545.5 \" fill=\"#ECECEC\" style=\"stroke: #383838; stroke-width: 1.0;\"/><a href=\"psysml:f50d5377-4b1a-474f-b43f-f58032d3020e\" target=\"_top\" title=\"psysml:f50d5377-4b1a-474f-b43f-f58032d3020e\" xlink:actuate=\"onRequest\" xlink:href=\"psysml:f50d5377-4b1a-474f-b43f-f58032d3020e\" xlink:show=\"new\" xlink:title=\"psysml:f50d5377-4b1a-474f-b43f-f58032d3020e\" xlink:type=\"simple\"><text fill=\"#1C1C1C\" font-family=\"sans-serif\" font-size=\"13\" lengthAdjust=\"spacingAndGlyphs\" text-decoration=\"underline\" textLength=\"13\" x=\"239\" y=\"562.5669\">@</text></a><text fill=\"#000000\" font-family=\"sans-serif\" font-size=\"13\" lengthAdjust=\"spacingAndGlyphs\" textLength=\"278\" x=\"252\" y=\"562.5669\">Door mensen gemaakte systemen, die een</text><text fill=\"#000000\" font-family=\"sans-serif\" font-size=\"13\" lengthAdjust=\"spacingAndGlyphs\" textLength=\"173\" x=\"239\" y=\"577.6997\">relatie hebben met het SOI</text><!--MD5=[fd4143e9d270a159db93a4ea2a975926]\n",
       "class E9--><a href=\"psysml:d7cbde82-bd8d-436b-bdc8-c55009df993c\" target=\"_top\" title=\"psysml:d7cbde82-bd8d-436b-bdc8-c55009df993c\" xlink:actuate=\"onRequest\" xlink:href=\"psysml:d7cbde82-bd8d-436b-bdc8-c55009df993c\" xlink:show=\"new\" xlink:title=\"psysml:d7cbde82-bd8d-436b-bdc8-c55009df993c\" xlink:type=\"simple\"><rect fill=\"#FFFFFF\" height=\"45.9375\" id=\"E9\" style=\"stroke: #383838; stroke-width: 1.5;\" width=\"102\" x=\"1953\" y=\"542.5\"/><text fill=\"#000000\" font-family=\"sans-serif\" font-size=\"12\" font-style=\"italic\" lengthAdjust=\"spacingAndGlyphs\" textLength=\"68\" x=\"1970\" y=\"558.6387\">«part  def»</text><text fill=\"#000000\" font-family=\"sans-serif\" font-size=\"12\" lengthAdjust=\"spacingAndGlyphs\" textLength=\"96\" x=\"1956\" y=\"572.6074\">t_Waterlichaam</text><line style=\"stroke: #383838; stroke-width: 1.5;\" x1=\"1954\" x2=\"2054\" y1=\"580.4375\" y2=\"580.4375\"/></a><!--MD5=[96f4274e9e20536e775497830990834d]\n",
       "class E10--><a href=\"psysml:5b172f03-3f61-41a9-a1b9-6f64911f39c5\" target=\"_top\" title=\"psysml:5b172f03-3f61-41a9-a1b9-6f64911f39c5\" xlink:actuate=\"onRequest\" xlink:href=\"psysml:5b172f03-3f61-41a9-a1b9-6f64911f39c5\" xlink:show=\"new\" xlink:title=\"psysml:5b172f03-3f61-41a9-a1b9-6f64911f39c5\" xlink:type=\"simple\"><rect fill=\"#FFFFFF\" height=\"45.9375\" id=\"E10\" rx=\"10\" ry=\"10\" style=\"stroke: #383838; stroke-width: 1.5;\" width=\"148\" x=\"1953\" y=\"678\"/><text fill=\"#000000\" font-family=\"sans-serif\" font-size=\"12\" font-style=\"italic\" lengthAdjust=\"spacingAndGlyphs\" textLength=\"41\" x=\"2006.5\" y=\"694.1387\">«item»</text><text fill=\"#000000\" font-family=\"sans-serif\" font-size=\"12\" lengthAdjust=\"spacingAndGlyphs\" textLength=\"138\" x=\"1956\" y=\"708.1074\">vaartuig_in: t_vaartuig</text><line style=\"stroke: #383838; stroke-width: 1.5;\" x1=\"1954\" x2=\"2100\" y1=\"715.9375\" y2=\"715.9375\"/></a><!--MD5=[1dd1bfd58a279cf63c5f349dbc8fc6a1]\n",
       "class E11--><a href=\"psysml:8ce9432d-8fe4-4488-bcd1-eef0f928f9ed\" target=\"_top\" title=\"psysml:8ce9432d-8fe4-4488-bcd1-eef0f928f9ed\" xlink:actuate=\"onRequest\" xlink:href=\"psysml:8ce9432d-8fe4-4488-bcd1-eef0f928f9ed\" xlink:show=\"new\" xlink:title=\"psysml:8ce9432d-8fe4-4488-bcd1-eef0f928f9ed\" xlink:type=\"simple\"><rect fill=\"#FFFFFF\" height=\"45.9375\" id=\"E11\" rx=\"10\" ry=\"10\" style=\"stroke: #383838; stroke-width: 1.5;\" width=\"153\" x=\"2136.5\" y=\"678\"/><text fill=\"#000000\" font-family=\"sans-serif\" font-size=\"12\" font-style=\"italic\" lengthAdjust=\"spacingAndGlyphs\" textLength=\"41\" x=\"2192.5\" y=\"694.1387\">«item»</text><text fill=\"#000000\" font-family=\"sans-serif\" font-size=\"12\" lengthAdjust=\"spacingAndGlyphs\" textLength=\"143\" x=\"2139.5\" y=\"708.1074\">vaartuig_uit: t_vaartuig</text><line style=\"stroke: #383838; stroke-width: 1.5;\" x1=\"2137.5\" x2=\"2288.5\" y1=\"715.9375\" y2=\"715.9375\"/></a><path d=\"M2090,530 L2090,600.5313 L2400,600.5313 L2400,540 L2390,530 L2090,530 \" fill=\"#ECECEC\" style=\"stroke: #383838; stroke-width: 1.0;\"/><path d=\"M2390,530 L2390,540 L2400,540 L2390,530 \" fill=\"#ECECEC\" style=\"stroke: #383838; stroke-width: 1.0;\"/><a href=\"psysml:170e7edc-fb32-44df-b159-149e9aef3542\" target=\"_top\" title=\"psysml:170e7edc-fb32-44df-b159-149e9aef3542\" xlink:actuate=\"onRequest\" xlink:href=\"psysml:170e7edc-fb32-44df-b159-149e9aef3542\" xlink:show=\"new\" xlink:title=\"psysml:170e7edc-fb32-44df-b159-149e9aef3542\" xlink:type=\"simple\"><text fill=\"#1C1C1C\" font-family=\"sans-serif\" font-size=\"13\" lengthAdjust=\"spacingAndGlyphs\" text-decoration=\"underline\" textLength=\"13\" x=\"2096\" y=\"547.0669\">@</text></a><text fill=\"#000000\" font-family=\"sans-serif\" font-size=\"13\" lengthAdjust=\"spacingAndGlyphs\" textLength=\"236\" x=\"2109\" y=\"547.0669\">Natuurlijke omgevingselementen - of</text><text fill=\"#000000\" font-family=\"sans-serif\" font-size=\"13\" lengthAdjust=\"spacingAndGlyphs\" textLength=\"53\" x=\"2096\" y=\"562.1997\">factoren</text><text fill=\"#000000\" font-family=\"sans-serif\" font-size=\"13\" lengthAdjust=\"spacingAndGlyphs\" textLength=\"285\" x=\"2096\" y=\"577.3325\">voor het systeem, die niet door de mens zijn</text><text fill=\"#000000\" font-family=\"sans-serif\" font-size=\"13\" lengthAdjust=\"spacingAndGlyphs\" textLength=\"61\" x=\"2096\" y=\"592.4653\">gemaakt.</text><path d=\"M1971,139.5 L1971,210.0313 L2285,210.0313 L2285,149.5 L2275,139.5 L1971,139.5 \" fill=\"#ECECEC\" style=\"stroke: #383838; stroke-width: 1.0;\"/><path d=\"M2275,139.5 L2275,149.5 L2285,149.5 L2275,139.5 \" fill=\"#ECECEC\" style=\"stroke: #383838; stroke-width: 1.0;\"/><a href=\"psysml:a4cab382-4574-48ae-a7e3-8c0558cf52b7\" target=\"_top\" title=\"psysml:a4cab382-4574-48ae-a7e3-8c0558cf52b7\" xlink:actuate=\"onRequest\" xlink:href=\"psysml:a4cab382-4574-48ae-a7e3-8c0558cf52b7\" xlink:show=\"new\" xlink:title=\"psysml:a4cab382-4574-48ae-a7e3-8c0558cf52b7\" xlink:type=\"simple\"><text fill=\"#1C1C1C\" font-family=\"sans-serif\" font-size=\"13\" lengthAdjust=\"spacingAndGlyphs\" text-decoration=\"underline\" textLength=\"13\" x=\"1977\" y=\"156.5669\">@</text></a><text fill=\"#000000\" font-family=\"sans-serif\" font-size=\"13\" lengthAdjust=\"spacingAndGlyphs\" textLength=\"253\" x=\"1990\" y=\"156.5669\">Fenomenen die optreden als natuurlijke</text><text fill=\"#000000\" font-family=\"sans-serif\" font-size=\"13\" lengthAdjust=\"spacingAndGlyphs\" textLength=\"221\" x=\"1977\" y=\"171.6997\">omgevingselementen interacteren</text><text fill=\"#000000\" font-family=\"sans-serif\" font-size=\"13\" lengthAdjust=\"spacingAndGlyphs\" textLength=\"289\" x=\"1977\" y=\"186.8325\">met mensgemaakte systemen (bijv. bliksem,</text><text fill=\"#000000\" font-family=\"sans-serif\" font-size=\"13\" lengthAdjust=\"spacingAndGlyphs\" textLength=\"193\" x=\"1977\" y=\"201.9653\">luchttemperatuur, lichtniveau)</text><!--MD5=[05d275557350bfb9b23a4ef7222b4c39]\n",
       "link E3 to E2--><a href=\"psysml:f50d5377-4b1a-474f-b43f-f58032d3020e\" target=\"_top\" title=\"psysml:f50d5377-4b1a-474f-b43f-f58032d3020e\" xlink:actuate=\"onRequest\" xlink:href=\"psysml:f50d5377-4b1a-474f-b43f-f58032d3020e\" xlink:show=\"new\" xlink:title=\"psysml:f50d5377-4b1a-474f-b43f-f58032d3020e\" xlink:type=\"simple\"><path d=\"M398.43,585.59 C408.62,604.26 426.6,632.12 450,648 C492.29,676.69 523.37,643.43 561,678 C568.18,684.6 568.93,698.16 568.99,699.83 \" fill=\"none\" id=\"E3-E2\" style=\"stroke: #383838; stroke-width: 1.0; stroke-dasharray: 7.0,7.0;\"/></a><!--MD5=[62aa6af11e70f752912c1cb0466f24f7]\n",
       "reverse link E4 to E5--><a href=\"psysml:a5073452-7b32-4a7b-b455-cb206ebe0a71\" target=\"_top\" title=\"psysml:a5073452-7b32-4a7b-b455-cb206ebe0a71\" xlink:actuate=\"onRequest\" xlink:href=\"psysml:a5073452-7b32-4a7b-b455-cb206ebe0a71\" xlink:show=\"new\" xlink:title=\"psysml:a5073452-7b32-4a7b-b455-cb206ebe0a71\" xlink:type=\"simple\"><path d=\"M173.12,601.13 C180.2,625.38 189.45,657.04 195.55,677.92 \" fill=\"none\" id=\"E4&lt;-E5\" style=\"stroke: #383838; stroke-width: 1.0;\"/><polygon fill=\"#FFFFFF\" points=\"169.44,588.54,167.2827,595.4209,172.8046,600.0587,174.9618,593.1778,169.44,588.54\" style=\"stroke: #383838; stroke-width: 1.0;\"/><text fill=\"#000000\" font-family=\"sans-serif\" font-size=\"13\" lengthAdjust=\"spacingAndGlyphs\" textLength=\"8\" x=\"184.7416\" y=\"666.7948\">1</text></a><!--MD5=[6db378b65e1aef66a01cb3103812b399]\n",
       "reverse link E4 to E6--><a href=\"psysml:ba0d88e8-6704-4a56-ad6e-7677601870d8\" target=\"_top\" title=\"psysml:ba0d88e8-6704-4a56-ad6e-7677601870d8\" xlink:actuate=\"onRequest\" xlink:href=\"psysml:ba0d88e8-6704-4a56-ad6e-7677601870d8\" xlink:show=\"new\" xlink:title=\"psysml:ba0d88e8-6704-4a56-ad6e-7677601870d8\" xlink:type=\"simple\"><path d=\"M207.49,595.71 C210.36,597.52 213.21,599.29 216,601 C260.8,628.45 313.26,658.33 348.36,678 \" fill=\"none\" id=\"E4&lt;-E6\" style=\"stroke: #383838; stroke-width: 1.0;\"/><polygon fill=\"#FFFFFF\" points=\"196.47,588.68,199.3728,595.281,206.5825,595.1404,203.6797,588.5394,196.47,588.68\" style=\"stroke: #383838; stroke-width: 1.0;\"/><text fill=\"#000000\" font-family=\"sans-serif\" font-size=\"13\" lengthAdjust=\"spacingAndGlyphs\" textLength=\"8\" x=\"328.6318\" y=\"666.8963\">1</text></a><!--MD5=[bfa3c8b0d15052fdf50ae9310b491027]\n",
       "link E8 to E7--><a href=\"psysml:170e7edc-fb32-44df-b159-149e9aef3542\" target=\"_top\" title=\"psysml:170e7edc-fb32-44df-b159-149e9aef3542\" xlink:actuate=\"onRequest\" xlink:href=\"psysml:170e7edc-fb32-44df-b159-149e9aef3542\" xlink:show=\"new\" xlink:title=\"psysml:170e7edc-fb32-44df-b159-149e9aef3542\" xlink:type=\"simple\"><path d=\"M2319.56,601.17 C2352.94,619.89 2390.44,645.8 2416,678 C2422.06,685.64 2423.79,698.29 2423.98,699.84 \" fill=\"none\" id=\"E8-E7\" style=\"stroke: #383838; stroke-width: 1.0; stroke-dasharray: 7.0,7.0;\"/></a><!--MD5=[23ac544a70576c3e717098101004234c]\n",
       "reverse link E9 to E10--><a href=\"psysml:d27feda4-2e3e-490a-8143-9e59adcea1e9\" target=\"_top\" title=\"psysml:d27feda4-2e3e-490a-8143-9e59adcea1e9\" xlink:actuate=\"onRequest\" xlink:href=\"psysml:d27feda4-2e3e-490a-8143-9e59adcea1e9\" xlink:show=\"new\" xlink:title=\"psysml:d27feda4-2e3e-490a-8143-9e59adcea1e9\" xlink:type=\"simple\"><path d=\"M2010.03,601.47 C2014.19,625.67 2019.62,657.14 2023.2,677.92 \" fill=\"none\" id=\"E9&lt;-E10\" style=\"stroke: #383838; stroke-width: 1.0;\"/><polygon fill=\"#FFFFFF\" points=\"2007.8,588.54,2004.8801,595.1335,2009.8433,600.3648,2012.7632,593.7713,2007.8,588.54\" style=\"stroke: #383838; stroke-width: 1.0;\"/><text fill=\"#000000\" font-family=\"sans-serif\" font-size=\"13\" lengthAdjust=\"spacingAndGlyphs\" textLength=\"8\" x=\"2013.1038\" y=\"666.7948\">1</text></a><!--MD5=[1fc04a95fd77ad5ce46c1a3027516051]\n",
       "reverse link E9 to E11--><a href=\"psysml:14c5db53-58df-4b83-bfa9-e0377bcfb4e3\" target=\"_top\" title=\"psysml:14c5db53-58df-4b83-bfa9-e0377bcfb4e3\" xlink:actuate=\"onRequest\" xlink:href=\"psysml:14c5db53-58df-4b83-bfa9-e0377bcfb4e3\" xlink:show=\"new\" xlink:title=\"psysml:14c5db53-58df-4b83-bfa9-e0377bcfb4e3\" xlink:type=\"simple\"><path d=\"M2043.16,596.64 C2064.52,612.6 2091.71,632.12 2117,648 C2133.7,658.48 2152.67,669.03 2169.32,677.86 \" fill=\"none\" id=\"E9&lt;-E11\" style=\"stroke: #383838; stroke-width: 1.0;\"/><polygon fill=\"#FFFFFF\" points=\"2032.56,588.66,2034.954,595.4621,2042.1537,595.8684,2039.7596,589.0663,2032.56,588.66\" style=\"stroke: #383838; stroke-width: 1.0;\"/><text fill=\"#000000\" font-family=\"sans-serif\" font-size=\"13\" lengthAdjust=\"spacingAndGlyphs\" textLength=\"8\" x=\"2149.102\" y=\"667.1004\">1</text></a><!--MD5=[0a88c00db2cf839d92c3e37687748268]\n",
       "link E13 to E12--><a href=\"psysml:a4cab382-4574-48ae-a7e3-8c0558cf52b7\" target=\"_top\" title=\"psysml:a4cab382-4574-48ae-a7e3-8c0558cf52b7\" xlink:actuate=\"onRequest\" xlink:href=\"psysml:a4cab382-4574-48ae-a7e3-8c0558cf52b7\" xlink:show=\"new\" xlink:title=\"psysml:a4cab382-4574-48ae-a7e3-8c0558cf52b7\" xlink:type=\"simple\"><path d=\"M2128,210.7 C2128,270.81 2128,388.26 2128,391.91 \" fill=\"none\" id=\"E13-E12\" style=\"stroke: #383838; stroke-width: 1.0; stroke-dasharray: 7.0,7.0;\"/></a><!--MD5=[17bf29720e4688890742b92d9a67fdf0]\n",
       "reverse link E14 to E15--><a href=\"psysml:c201b7b5-93ec-4633-ad71-a235853eae9e\" target=\"_top\" title=\"psysml:c201b7b5-93ec-4633-ad71-a235853eae9e\" xlink:actuate=\"onRequest\" xlink:href=\"psysml:c201b7b5-93ec-4633-ad71-a235853eae9e\" xlink:show=\"new\" xlink:title=\"psysml:c201b7b5-93ec-4633-ad71-a235853eae9e\" xlink:type=\"simple\"><path d=\"M1188.17,319.76 C1201.88,339.25 1214.36,356.98 1223.52,370 \" fill=\"none\" id=\"E14&lt;-E15\" style=\"stroke: #383838; stroke-width: 1.0;\"/><polygon fill=\"#FFFFFF\" points=\"1180.67,309.11,1180.8546,316.3187,1187.5798,318.9209,1187.3952,311.7122,1180.67,309.11\" style=\"stroke: #383838; stroke-width: 1.0;\"/><text fill=\"#000000\" font-family=\"sans-serif\" font-size=\"13\" lengthAdjust=\"spacingAndGlyphs\" textLength=\"8\" x=\"1210.2848\" y=\"358.8963\">1</text></a><!--MD5=[75494c4f8279f554a72c35eb8678fa77]\n",
       "link E15 to E9--><a href=\"psysml:f61a9257-8f8a-4948-b9f2-00d85a3d3e35\" target=\"_top\" title=\"psysml:f61a9257-8f8a-4948-b9f2-00d85a3d3e35\" xlink:actuate=\"onRequest\" xlink:href=\"psysml:f61a9257-8f8a-4948-b9f2-00d85a3d3e35\" xlink:show=\"new\" xlink:title=\"psysml:f61a9257-8f8a-4948-b9f2-00d85a3d3e35\" xlink:type=\"simple\"><path d=\"M1293.7,416.16 C1339.89,434.45 1402.6,458.14 1429,463 C1457.42,468.23 1924.03,456.46 1949,471 C1968.67,482.45 1982.03,503.93 1990.65,523.42 \" fill=\"none\" id=\"E15-&gt;E9\" style=\"stroke: #383838; stroke-width: 1.0;\"/><polygon fill=\"#FFFFFF\" points=\"1997.86,542.15,1984.499,526.9355,1997.5635,521.9037,1997.86,542.15\" style=\"stroke: #383838; stroke-width: 1.0;\"/><ellipse cx=\"1984.3167\" cy=\"520.8975\" fill=\"#383838\" rx=\"2\" ry=\"2\" style=\"stroke: #383838; stroke-width: 1.0;\"/><ellipse cx=\"1993.6485\" cy=\"517.3034\" fill=\"#383838\" rx=\"2\" ry=\"2\" style=\"stroke: #383838; stroke-width: 1.0;\"/></a><!--MD5=[58e4cf537c4d67f6b3da95fd5b934e63]\n",
       "reverse link E15 to E16--><a href=\"psysml:14c5db53-58df-4b83-bfa9-e0377bcfb4e3\" target=\"_top\" title=\"psysml:14c5db53-58df-4b83-bfa9-e0377bcfb4e3\" xlink:actuate=\"onRequest\" xlink:href=\"psysml:14c5db53-58df-4b83-bfa9-e0377bcfb4e3\" xlink:show=\"new\" xlink:title=\"psysml:14c5db53-58df-4b83-bfa9-e0377bcfb4e3\" xlink:type=\"simple\"><path d=\"M1239,429.33 C1239,463.37 1239,513.81 1239,542.47 \" fill=\"none\" id=\"E15&lt;-E16\" style=\"stroke: #383838; stroke-width: 1.0;\"/><polygon fill=\"#FFFFFF\" points=\"1239,416.29,1235,422.29,1239,428.29,1243,422.29,1239,416.29\" style=\"stroke: #383838; stroke-width: 1.0;\"/><text fill=\"#000000\" font-family=\"sans-serif\" font-size=\"13\" lengthAdjust=\"spacingAndGlyphs\" textLength=\"11\" x=\"1240\" y=\"459.0669\">^</text><text fill=\"#000000\" font-family=\"sans-serif\" font-size=\"13\" lengthAdjust=\"spacingAndGlyphs\" textLength=\"8\" x=\"1229.925\" y=\"531.3582\">1</text></a><!--MD5=[f3f0688e6445d5cfc38c3e4c8d9039be]\n",
       "reverse link E15 to E17--><a href=\"psysml:d27feda4-2e3e-490a-8143-9e59adcea1e9\" target=\"_top\" title=\"psysml:d27feda4-2e3e-490a-8143-9e59adcea1e9\" xlink:actuate=\"onRequest\" xlink:href=\"psysml:d27feda4-2e3e-490a-8143-9e59adcea1e9\" xlink:show=\"new\" xlink:title=\"psysml:d27feda4-2e3e-490a-8143-9e59adcea1e9\" xlink:type=\"simple\"><path d=\"M1277.33,423.88 C1298.42,438.53 1325.79,454.76 1353,463 C1391.96,474.8 1498.59,454.95 1536,471 C1571.04,486.03 1600.78,519.83 1617.77,542.4 \" fill=\"none\" id=\"E15&lt;-E17\" style=\"stroke: #383838; stroke-width: 1.0;\"/><polygon fill=\"#FFFFFF\" points=\"1266.6,416.19,1269.1488,422.9356,1276.3559,423.1773,1273.8071,416.4317,1266.6,416.19\" style=\"stroke: #383838; stroke-width: 1.0;\"/><text fill=\"#000000\" font-family=\"sans-serif\" font-size=\"13\" lengthAdjust=\"spacingAndGlyphs\" textLength=\"11\" x=\"1354\" y=\"459.0669\">^</text><text fill=\"#000000\" font-family=\"sans-serif\" font-size=\"13\" lengthAdjust=\"spacingAndGlyphs\" textLength=\"8\" x=\"1604.6019\" y=\"531.2694\">1</text></a><!--MD5=[bdcdeb6b7fe1e44ed5716de693b91d38]\n",
       "reverse link E14 to E18--><a href=\"psysml:fdc0659c-a6cc-4de2-8bb2-e89faa7e2133\" target=\"_top\" title=\"psysml:fdc0659c-a6cc-4de2-8bb2-e89faa7e2133\" xlink:actuate=\"onRequest\" xlink:href=\"psysml:fdc0659c-a6cc-4de2-8bb2-e89faa7e2133\" xlink:show=\"new\" xlink:title=\"psysml:fdc0659c-a6cc-4de2-8bb2-e89faa7e2133\" xlink:type=\"simple\"><path d=\"M1242.96,272.25 C1301.79,308.56 1363.52,346.65 1401.14,369.87 \" fill=\"none\" id=\"E14&lt;-E18\" style=\"stroke: #383838; stroke-width: 1.0;\"/><polygon fill=\"#FFFFFF\" points=\"1231.63,265.26,1234.6431,271.8114,1241.8494,271.5499,1238.8364,264.9985,1231.63,265.26\" style=\"stroke: #383838; stroke-width: 1.0;\"/><text fill=\"#000000\" font-family=\"sans-serif\" font-size=\"13\" lengthAdjust=\"spacingAndGlyphs\" textLength=\"8\" x=\"1382.9259\" y=\"359.113\">1</text></a><!--MD5=[3a05e602f681709991920fc98c107cf6]\n",
       "link E18 to E9--><a href=\"psysml:fb626076-cd3d-40af-9fbc-4d69e1e4290e\" target=\"_top\" title=\"psysml:fb626076-cd3d-40af-9fbc-4d69e1e4290e\" xlink:actuate=\"onRequest\" xlink:href=\"psysml:fb626076-cd3d-40af-9fbc-4d69e1e4290e\" xlink:show=\"new\" xlink:title=\"psysml:fb626076-cd3d-40af-9fbc-4d69e1e4290e\" xlink:type=\"simple\"><path d=\"M1508.24,404.31 C1647.87,424.59 1944.45,467.92 1949,471 C1967.65,483.6 1980.87,504.81 1989.67,523.84 \" fill=\"none\" id=\"E18-&gt;E9\" style=\"stroke: #383838; stroke-width: 1.0;\"/><polygon fill=\"#FFFFFF\" points=\"1997.28,542.44,1983.6049,527.5071,1996.5618,522.2043,1997.28,542.44\" style=\"stroke: #383838; stroke-width: 1.0;\"/><ellipse cx=\"1983.2969\" cy=\"521.4743\" fill=\"#383838\" rx=\"2\" ry=\"2\" style=\"stroke: #383838; stroke-width: 1.0;\"/><ellipse cx=\"1992.5518\" cy=\"517.6865\" fill=\"#383838\" rx=\"2\" ry=\"2\" style=\"stroke: #383838; stroke-width: 1.0;\"/></a><!--MD5=[ccf7aa128b682f3a0ccda039adc0b7d4]\n",
       "reverse link E18 to E19--><a href=\"psysml:14c5db53-58df-4b83-bfa9-e0377bcfb4e3\" target=\"_top\" title=\"psysml:14c5db53-58df-4b83-bfa9-e0377bcfb4e3\" xlink:actuate=\"onRequest\" xlink:href=\"psysml:14c5db53-58df-4b83-bfa9-e0377bcfb4e3\" xlink:show=\"new\" xlink:title=\"psysml:14c5db53-58df-4b83-bfa9-e0377bcfb4e3\" xlink:type=\"simple\"><path d=\"M1437,429.33 C1437,463.37 1437,513.81 1437,542.47 \" fill=\"none\" id=\"E18&lt;-E19\" style=\"stroke: #383838; stroke-width: 1.0;\"/><polygon fill=\"#FFFFFF\" points=\"1437,416.29,1433,422.29,1437,428.29,1441,422.29,1437,416.29\" style=\"stroke: #383838; stroke-width: 1.0;\"/><text fill=\"#000000\" font-family=\"sans-serif\" font-size=\"13\" lengthAdjust=\"spacingAndGlyphs\" textLength=\"11\" x=\"1438\" y=\"459.0669\">^</text><text fill=\"#000000\" font-family=\"sans-serif\" font-size=\"13\" lengthAdjust=\"spacingAndGlyphs\" textLength=\"8\" x=\"1427.925\" y=\"531.3582\">1</text></a><!--MD5=[1ced07cf4e2eff0242262d2dcc53cc1b]\n",
       "reverse link E18 to E20--><a href=\"psysml:d27feda4-2e3e-490a-8143-9e59adcea1e9\" target=\"_top\" title=\"psysml:d27feda4-2e3e-490a-8143-9e59adcea1e9\" xlink:actuate=\"onRequest\" xlink:href=\"psysml:d27feda4-2e3e-490a-8143-9e59adcea1e9\" xlink:show=\"new\" xlink:title=\"psysml:d27feda4-2e3e-490a-8143-9e59adcea1e9\" xlink:type=\"simple\"><path d=\"M1521.09,404.37 C1582.13,414.61 1665.06,434.28 1730,471 C1762.2,489.21 1791.44,520.87 1808.97,542.24 \" fill=\"none\" id=\"E18&lt;-E20\" style=\"stroke: #383838; stroke-width: 1.0;\"/><polygon fill=\"#FFFFFF\" points=\"1508.02,402.27,1513.3065,407.1744,1519.8669,404.1808,1514.5804,399.2764,1508.02,402.27\" style=\"stroke: #383838; stroke-width: 1.0;\"/><text fill=\"#000000\" font-family=\"sans-serif\" font-size=\"13\" lengthAdjust=\"spacingAndGlyphs\" textLength=\"11\" x=\"1709\" y=\"459.0669\">^</text><text fill=\"#000000\" font-family=\"sans-serif\" font-size=\"13\" lengthAdjust=\"spacingAndGlyphs\" textLength=\"8\" x=\"1795.5811\" y=\"531.4497\">1</text></a><!--MD5=[98299f33b8522bf6d318b46dc1348690]\n",
       "reverse link E14 to E21--><a href=\"psysml:d8665ccd-cda4-4d00-ae00-4c6d5e29a81a\" target=\"_top\" title=\"psysml:d8665ccd-cda4-4d00-ae00-4c6d5e29a81a\" xlink:actuate=\"onRequest\" xlink:href=\"psysml:d8665ccd-cda4-4d00-ae00-4c6d5e29a81a\" xlink:show=\"new\" xlink:title=\"psysml:d8665ccd-cda4-4d00-ae00-4c6d5e29a81a\" xlink:type=\"simple\"><path d=\"M1022.51,321.11 C1014.08,340.06 1006.43,357.28 1000.78,370 \" fill=\"none\" id=\"E14&lt;-E21\" style=\"stroke: #383838; stroke-width: 1.0;\"/><polygon fill=\"#FFFFFF\" points=\"1027.84,309.11,1021.7509,312.9731,1022.9749,320.0795,1029.064,316.2165,1027.84,309.11\" style=\"stroke: #383838; stroke-width: 1.0;\"/><text fill=\"#000000\" font-family=\"sans-serif\" font-size=\"13\" lengthAdjust=\"spacingAndGlyphs\" textLength=\"8\" x=\"994.3334\" y=\"358.8963\">1</text></a><!--MD5=[ac80b893fd86d8a3ebbe62359fc7c99a]\n",
       "link E21 to E4--><a href=\"psysml:57b55622-74b7-43f3-8669-9210b22e7440\" target=\"_top\" title=\"psysml:57b55622-74b7-43f3-8669-9210b22e7440\" xlink:actuate=\"onRequest\" xlink:href=\"psysml:57b55622-74b7-43f3-8669-9210b22e7440\" xlink:show=\"new\" xlink:title=\"psysml:57b55622-74b7-43f3-8669-9210b22e7440\" xlink:type=\"simple\"><path d=\"M931.18,400.09 C884.54,404.83 818.16,411.55 760,417.36 C759.06,417.45 216.8,470.48 216,471 C197.31,483.16 184.52,504.34 176.2,523.47 \" fill=\"none\" id=\"E21-&gt;E4\" style=\"stroke: #383838; stroke-width: 1.0;\"/><polygon fill=\"#FFFFFF\" points=\"169.08,542.2,169.2935,521.9527,182.3785,526.9308,169.08,542.2\" style=\"stroke: #383838; stroke-width: 1.0;\"/><ellipse cx=\"173.1896\" cy=\"517.3363\" fill=\"#383838\" rx=\"2\" ry=\"2\" style=\"stroke: #383838; stroke-width: 1.0;\"/><ellipse cx=\"182.536\" cy=\"520.8921\" fill=\"#383838\" rx=\"2\" ry=\"2\" style=\"stroke: #383838; stroke-width: 1.0;\"/></a><!--MD5=[abb9b71b5ac2637ea19445d88e394a21]\n",
       "reverse link E21 to E22--><a href=\"psysml:ba0d88e8-6704-4a56-ad6e-7677601870d8\" target=\"_top\" title=\"psysml:ba0d88e8-6704-4a56-ad6e-7677601870d8\" xlink:actuate=\"onRequest\" xlink:href=\"psysml:ba0d88e8-6704-4a56-ad6e-7677601870d8\" xlink:show=\"new\" xlink:title=\"psysml:ba0d88e8-6704-4a56-ad6e-7677601870d8\" xlink:type=\"simple\"><path d=\"M969.37,427.53 C947.41,461.57 914.03,513.3 895.21,542.47 \" fill=\"none\" id=\"E21&lt;-E22\" style=\"stroke: #383838; stroke-width: 1.0;\"/><polygon fill=\"#FFFFFF\" points=\"976.62,416.29,970.0075,419.1666,970.1196,426.3769,976.7321,423.5002,976.62,416.29\" style=\"stroke: #383838; stroke-width: 1.0;\"/><text fill=\"#000000\" font-family=\"sans-serif\" font-size=\"13\" lengthAdjust=\"spacingAndGlyphs\" textLength=\"11\" x=\"956\" y=\"459.0669\">^</text><text fill=\"#000000\" font-family=\"sans-serif\" font-size=\"13\" lengthAdjust=\"spacingAndGlyphs\" textLength=\"8\" x=\"889.9539\" y=\"531.3582\">1</text></a><!--MD5=[f52446ac910324377f48544e9ba9f9f9]\n",
       "reverse link E21 to E23--><a href=\"psysml:a5073452-7b32-4a7b-b455-cb206ebe0a71\" target=\"_top\" title=\"psysml:a5073452-7b32-4a7b-b455-cb206ebe0a71\" xlink:actuate=\"onRequest\" xlink:href=\"psysml:a5073452-7b32-4a7b-b455-cb206ebe0a71\" xlink:show=\"new\" xlink:title=\"psysml:a5073452-7b32-4a7b-b455-cb206ebe0a71\" xlink:type=\"simple\"><path d=\"M994.81,429.28 C1003.36,513.65 1021.27,724.88 994,789 C989.11,800.5 980.29,810.68 971.18,818.93 \" fill=\"none\" id=\"E21&lt;-E23\" style=\"stroke: #383838; stroke-width: 1.0;\"/><polygon fill=\"#FFFFFF\" points=\"993.45,416.18,990.0843,422.5575,994.6767,428.1171,998.0424,421.7397,993.45,416.18\" style=\"stroke: #383838; stroke-width: 1.0;\"/><text fill=\"#000000\" font-family=\"sans-serif\" font-size=\"13\" lengthAdjust=\"spacingAndGlyphs\" textLength=\"11\" x=\"1009\" y=\"644.0669\">^</text><text fill=\"#000000\" font-family=\"sans-serif\" font-size=\"13\" lengthAdjust=\"spacingAndGlyphs\" textLength=\"8\" x=\"970.4846\" y=\"807.8075\">1</text></a><!--MD5=[c6941be5c46a887f65e81df5db9b46ae]\n",
       "reverse link E14 to E24--><a href=\"psysml:ff367697-7ba9-4629-9f1d-b232f31f6202\" target=\"_top\" title=\"psysml:ff367697-7ba9-4629-9f1d-b232f31f6202\" xlink:actuate=\"onRequest\" xlink:href=\"psysml:ff367697-7ba9-4629-9f1d-b232f31f6202\" xlink:show=\"new\" xlink:title=\"psysml:ff367697-7ba9-4629-9f1d-b232f31f6202\" xlink:type=\"simple\"><path d=\"M930.4,259.72 C855.85,299.59 772.59,344.1 724.16,369.99 \" fill=\"none\" id=\"E14&lt;-E24\" style=\"stroke: #383838; stroke-width: 1.0;\"/><polygon fill=\"#FFFFFF\" points=\"942.29,253.37,935.1127,252.6729,931.7087,259.0301,938.886,259.7271,942.29,253.37\" style=\"stroke: #383838; stroke-width: 1.0;\"/><text fill=\"#000000\" font-family=\"sans-serif\" font-size=\"13\" lengthAdjust=\"spacingAndGlyphs\" textLength=\"8\" x=\"726.1468\" y=\"358.8836\">1</text></a><!--MD5=[23762c1d6f747f8a102abaeef60787fa]\n",
       "link E24 to E4--><a href=\"psysml:7b264815-c060-40e2-929d-aa77739cf151\" target=\"_top\" title=\"psysml:7b264815-c060-40e2-929d-aa77739cf151\" xlink:actuate=\"onRequest\" xlink:href=\"psysml:7b264815-c060-40e2-929d-aa77739cf151\" xlink:show=\"new\" xlink:title=\"psysml:7b264815-c060-40e2-929d-aa77739cf151\" xlink:type=\"simple\"><path d=\"M623.59,402.41 C501.56,419.86 232.64,459.39 216,471 C197.92,483.61 185.25,504.49 176.83,523.33 \" fill=\"none\" id=\"E24-&gt;E4\" style=\"stroke: #383838; stroke-width: 1.0;\"/><polygon fill=\"#FFFFFF\" points=\"169.44,542.12,169.8736,521.8762,182.9037,526.9962,169.44,542.12\" style=\"stroke: #383838; stroke-width: 1.0;\"/><ellipse cx=\"173.8196\" cy=\"517.3025\" fill=\"#383838\" rx=\"2\" ry=\"2\" style=\"stroke: #383838; stroke-width: 1.0;\"/><ellipse cx=\"183.1269\" cy=\"520.9597\" fill=\"#383838\" rx=\"2\" ry=\"2\" style=\"stroke: #383838; stroke-width: 1.0;\"/></a><!--MD5=[62221375f35154e753917cb43ec12b45]\n",
       "reverse link E24 to E25--><a href=\"psysml:ba0d88e8-6704-4a56-ad6e-7677601870d8\" target=\"_top\" title=\"psysml:ba0d88e8-6704-4a56-ad6e-7677601870d8\" xlink:actuate=\"onRequest\" xlink:href=\"psysml:ba0d88e8-6704-4a56-ad6e-7677601870d8\" xlink:show=\"new\" xlink:title=\"psysml:ba0d88e8-6704-4a56-ad6e-7677601870d8\" xlink:type=\"simple\"><path d=\"M683,429.33 C683,463.37 683,513.81 683,542.47 \" fill=\"none\" id=\"E24&lt;-E25\" style=\"stroke: #383838; stroke-width: 1.0;\"/><polygon fill=\"#FFFFFF\" points=\"683,416.29,679,422.29,683,428.29,687,422.29,683,416.29\" style=\"stroke: #383838; stroke-width: 1.0;\"/><text fill=\"#000000\" font-family=\"sans-serif\" font-size=\"13\" lengthAdjust=\"spacingAndGlyphs\" textLength=\"11\" x=\"684\" y=\"459.0669\">^</text><text fill=\"#000000\" font-family=\"sans-serif\" font-size=\"13\" lengthAdjust=\"spacingAndGlyphs\" textLength=\"8\" x=\"673.925\" y=\"531.3582\">1</text></a><!--MD5=[ba8baddc0f905aa1f92a3973fb7e06a1]\n",
       "reverse link E24 to E26--><a href=\"psysml:a5073452-7b32-4a7b-b455-cb206ebe0a71\" target=\"_top\" title=\"psysml:a5073452-7b32-4a7b-b455-cb206ebe0a71\" xlink:actuate=\"onRequest\" xlink:href=\"psysml:a5073452-7b32-4a7b-b455-cb206ebe0a71\" xlink:show=\"new\" xlink:title=\"psysml:a5073452-7b32-4a7b-b455-cb206ebe0a71\" xlink:type=\"simple\"><path d=\"M610.94,401.22 C461.12,416.56 128.49,452.53 112,471 C25.28,568.15 25.59,666.58 112,764 C144.32,800.43 273.63,822.1 359.63,832.76 \" fill=\"none\" id=\"E24&lt;-E26\" style=\"stroke: #383838; stroke-width: 1.0;\"/><polygon fill=\"#FFFFFF\" points=\"624,399.88,617.6262,396.5073,612.0615,401.0936,618.4353,404.4663,624,399.88\" style=\"stroke: #383838; stroke-width: 1.0;\"/><text fill=\"#000000\" font-family=\"sans-serif\" font-size=\"13\" lengthAdjust=\"spacingAndGlyphs\" textLength=\"11\" x=\"51\" y=\"644.0669\">^</text><text fill=\"#000000\" font-family=\"sans-serif\" font-size=\"13\" lengthAdjust=\"spacingAndGlyphs\" textLength=\"8\" x=\"343.9443\" y=\"828.2927\">1</text></a><!--MD5=[b39e6d76411edb8dcb5afb39ebc85dbe]\n",
       "reverse link E14 to E27--><a href=\"psysml:7cd2bac7-000f-4185-b631-c18c4bd5c625\" target=\"_top\" title=\"psysml:7cd2bac7-000f-4185-b631-c18c4bd5c625\" xlink:actuate=\"onRequest\" xlink:href=\"psysml:7cd2bac7-000f-4185-b631-c18c4bd5c625\" xlink:show=\"new\" xlink:title=\"psysml:7cd2bac7-000f-4185-b631-c18c4bd5c625\" xlink:type=\"simple\"><path d=\"M1083.99,322.3 C1082.29,404.91 1080.33,499.87 1079.46,542.16 \" fill=\"none\" id=\"E14&lt;-E27\" style=\"stroke: #383838; stroke-width: 1.0;\"/><polygon fill=\"#FFFFFF\" points=\"1084.26,309.16,1080.1356,315.0752,1084.0095,321.1574,1088.1339,315.2422,1084.26,309.16\" style=\"stroke: #383838; stroke-width: 1.0;\"/><text fill=\"#000000\" font-family=\"sans-serif\" font-size=\"13\" lengthAdjust=\"spacingAndGlyphs\" textLength=\"8\" x=\"1070.5529\" y=\"531.3492\">1</text></a><!--MD5=[5ee84548b570286b113fff34d543c550]\n",
       "reverse link E27 to E28--><a href=\"psysml:e422968c-4e91-43ca-8170-4286e6bc67cf\" target=\"_top\" title=\"psysml:e422968c-4e91-43ca-8170-4286e6bc67cf\" xlink:actuate=\"onRequest\" xlink:href=\"psysml:e422968c-4e91-43ca-8170-4286e6bc67cf\" xlink:show=\"new\" xlink:title=\"psysml:e422968c-4e91-43ca-8170-4286e6bc67cf\" xlink:type=\"simple\"><path d=\"M1125.1,594.76 C1130.02,597.11 1135.04,599.25 1140,601 C1216.89,628.15 1242.7,608.23 1321,631 C1339.55,636.4 1342.52,642.38 1361,648 C1423.67,667.07 1496.68,680.57 1551.27,689.03 \" fill=\"none\" id=\"E27&lt;-E28\" style=\"stroke: #383838; stroke-width: 1.0;\"/><polygon fill=\"#FFFFFF\" points=\"1113.16,588.58,1116.6512,594.8896,1123.8182,594.0938,1120.3271,587.7841,1113.16,588.58\" style=\"stroke: #383838; stroke-width: 1.0;\"/><text fill=\"#000000\" font-family=\"sans-serif\" font-size=\"13\" lengthAdjust=\"spacingAndGlyphs\" textLength=\"11\" x=\"1362\" y=\"644.0669\">^</text><text fill=\"#000000\" font-family=\"sans-serif\" font-size=\"13\" lengthAdjust=\"spacingAndGlyphs\" textLength=\"8\" x=\"1535.3668\" y=\"684.311\">1</text></a><!--MD5=[40639ac950129bc62745d22de95fb85f]\n",
       "reverse link E27 to E29--><a href=\"psysml:1a7447fa-37f8-4ce6-a19d-f60f470fc6dc\" target=\"_top\" title=\"psysml:1a7447fa-37f8-4ce6-a19d-f60f470fc6dc\" xlink:actuate=\"onRequest\" xlink:href=\"psysml:1a7447fa-37f8-4ce6-a19d-f60f470fc6dc\" xlink:show=\"new\" xlink:title=\"psysml:1a7447fa-37f8-4ce6-a19d-f60f470fc6dc\" xlink:type=\"simple\"><path d=\"M1022.92,586.97 C961.82,609.26 870.51,642.48 854,648 C823.29,658.28 789.19,668.92 759.71,677.87 \" fill=\"none\" id=\"E27&lt;-E29\" style=\"stroke: #383838; stroke-width: 1.0;\"/><polygon fill=\"#FFFFFF\" points=\"1035.47,582.4,1028.4641,580.6919,1024.1929,586.502,1031.1988,588.21,1035.47,582.4\" style=\"stroke: #383838; stroke-width: 1.0;\"/><text fill=\"#000000\" font-family=\"sans-serif\" font-size=\"13\" lengthAdjust=\"spacingAndGlyphs\" textLength=\"11\" x=\"898\" y=\"644.0669\">^</text><text fill=\"#000000\" font-family=\"sans-serif\" font-size=\"13\" lengthAdjust=\"spacingAndGlyphs\" textLength=\"8\" x=\"769.8294\" y=\"667.113\">1</text></a><!--MD5=[876dd82878659060f49014b6f9157ee9]\n",
       "reverse link E27 to E30--><a href=\"psysml:c7835e46-7308-4501-b2a8-2b9d3df33c4b\" target=\"_top\" title=\"psysml:c7835e46-7308-4501-b2a8-2b9d3df33c4b\" xlink:actuate=\"onRequest\" xlink:href=\"psysml:c7835e46-7308-4501-b2a8-2b9d3df33c4b\" xlink:show=\"new\" xlink:title=\"psysml:c7835e46-7308-4501-b2a8-2b9d3df33c4b\" xlink:type=\"simple\"><path d=\"M1022.99,587.13 C997.29,598.04 967.21,612.94 943,631 C925.31,644.19 908.8,663.02 897.27,677.68 \" fill=\"none\" id=\"E27&lt;-E30\" style=\"stroke: #383838; stroke-width: 1.0;\"/><polygon fill=\"#FFFFFF\" points=\"1035.21,582.1,1028.1379,580.6909,1024.1171,586.677,1031.1892,588.0861,1035.21,582.1\" style=\"stroke: #383838; stroke-width: 1.0;\"/><text fill=\"#000000\" font-family=\"sans-serif\" font-size=\"13\" lengthAdjust=\"spacingAndGlyphs\" textLength=\"11\" x=\"944\" y=\"644.0669\">^</text><text fill=\"#000000\" font-family=\"sans-serif\" font-size=\"13\" lengthAdjust=\"spacingAndGlyphs\" textLength=\"8\" x=\"892.4142\" y=\"666.8743\">1</text></a><!--MD5=[33598c399667a7524b0a33fd46db4353]\n",
       "reverse link E27 to E31--><a href=\"psysml:56cf0b77-86dc-4e6e-a821-9fd159c7628e\" target=\"_top\" title=\"psysml:56cf0b77-86dc-4e6e-a821-9fd159c7628e\" xlink:actuate=\"onRequest\" xlink:href=\"psysml:56cf0b77-86dc-4e6e-a821-9fd159c7628e\" xlink:show=\"new\" xlink:title=\"psysml:56cf0b77-86dc-4e6e-a821-9fd159c7628e\" xlink:type=\"simple\"><path d=\"M1115.75,597.17 C1145.31,621.83 1186.12,655.88 1212.54,677.92 \" fill=\"none\" id=\"E27&lt;-E31\" style=\"stroke: #383838; stroke-width: 1.0;\"/><polygon fill=\"#FFFFFF\" points=\"1105.42,588.54,1107.4657,595.4549,1114.6354,596.2261,1112.5897,589.3112,1105.42,588.54\" style=\"stroke: #383838; stroke-width: 1.0;\"/><text fill=\"#000000\" font-family=\"sans-serif\" font-size=\"13\" lengthAdjust=\"spacingAndGlyphs\" textLength=\"11\" x=\"1174\" y=\"644.0669\">^</text><text fill=\"#000000\" font-family=\"sans-serif\" font-size=\"13\" lengthAdjust=\"spacingAndGlyphs\" textLength=\"8\" x=\"1196.3539\" y=\"666.7948\">1</text></a><!--MD5=[3f588ebe22a01a82bf3490ac95b74632]\n",
       "reverse link E14 to E32--><a href=\"psysml:af093393-497a-47f1-9271-ba20a4b51cec\" target=\"_top\" title=\"psysml:af093393-497a-47f1-9271-ba20a4b51cec\" xlink:actuate=\"onRequest\" xlink:href=\"psysml:af093393-497a-47f1-9271-ba20a4b51cec\" xlink:show=\"new\" xlink:title=\"psysml:af093393-497a-47f1-9271-ba20a4b51cec\" xlink:type=\"simple\"><path d=\"M927.68,222.57 C763.39,270.59 516.04,342.88 405.24,375.27 \" fill=\"none\" id=\"E14&lt;-E32\" style=\"stroke: #383838; stroke-width: 1.0;\"/><ellipse cx=\"934.64\" cy=\"220.53\" fill=\"#FFFFFF\" rx=\"8\" ry=\"8\" style=\"stroke: #383838; stroke-width: 1.0;\"/><line style=\"stroke: #383838; stroke-width: 1.0;\" x1=\"926.96\" x2=\"942.32\" y1=\"222.77\" y2=\"218.29\"/><line style=\"stroke: #383838; stroke-width: 1.0;\" x1=\"932.4\" x2=\"936.88\" y1=\"212.85\" y2=\"228.21\"/></a><!--MD5=[58eeefa9e631d21f96f6f89e728eb676]\n",
       "reverse link E32 to E4--><a href=\"psysml:2bd3943f-8367-4e9b-9ebd-a089304c6132\" target=\"_top\" title=\"psysml:2bd3943f-8367-4e9b-9ebd-a089304c6132\" xlink:actuate=\"onRequest\" xlink:href=\"psysml:2bd3943f-8367-4e9b-9ebd-a089304c6132\" xlink:show=\"new\" xlink:title=\"psysml:2bd3943f-8367-4e9b-9ebd-a089304c6132\" xlink:type=\"simple\"><path d=\"M284.7,422.15 C261.2,434.73 235.54,451.22 216,471 C195.55,491.71 180.34,521.9 171.58,542.33 \" fill=\"none\" id=\"E32&lt;-E4\" style=\"stroke: #383838; stroke-width: 1.0;\"/><polygon fill=\"#FFFFFF\" points=\"296.38,416.12,289.2129,415.3241,285.7218,421.6338,292.8888,422.4296,296.38,416.12\" style=\"stroke: #383838; stroke-width: 1.0;\"/></a><!--MD5=[730e9dfeb16f60c378390085fe1a9c4a]\n",
       "reverse link E14 to E33--><a href=\"psysml:8322a61a-6368-4e5f-b756-de8f7de04f77\" target=\"_top\" title=\"psysml:8322a61a-6368-4e5f-b756-de8f7de04f77\" xlink:actuate=\"onRequest\" xlink:href=\"psysml:8322a61a-6368-4e5f-b756-de8f7de04f77\" xlink:show=\"new\" xlink:title=\"psysml:8322a61a-6368-4e5f-b756-de8f7de04f77\" xlink:type=\"simple\"><path d=\"M1246.29,229.34 C1381.23,274.53 1567.94,337.06 1665.91,369.87 \" fill=\"none\" id=\"E14&lt;-E33\" style=\"stroke: #383838; stroke-width: 1.0;\"/><ellipse cx=\"1239.3372\" cy=\"227.0067\" fill=\"#FFFFFF\" rx=\"8\" ry=\"8\" style=\"stroke: #383838; stroke-width: 1.0;\"/><line style=\"stroke: #383838; stroke-width: 1.0;\" x1=\"1246.9244\" x2=\"1231.75\" y1=\"229.5434\" y2=\"224.47\"/><line style=\"stroke: #383838; stroke-width: 1.0;\" x1=\"1236.8005\" x2=\"1241.8739\" y1=\"234.5939\" y2=\"219.4195\"/></a><!--MD5=[6ac200f097a86d49e32f00b62eaef9a8]\n",
       "reverse link E33 to E9--><a href=\"psysml:794b6fb3-306c-4b6c-90b9-be2cd30dfdd6\" target=\"_top\" title=\"psysml:794b6fb3-306c-4b6c-90b9-be2cd30dfdd6\" xlink:actuate=\"onRequest\" xlink:href=\"psysml:794b6fb3-306c-4b6c-90b9-be2cd30dfdd6\" xlink:show=\"new\" xlink:title=\"psysml:794b6fb3-306c-4b6c-90b9-be2cd30dfdd6\" xlink:type=\"simple\"><path d=\"M1813.89,408.83 C1857.7,420.04 1910.42,439.15 1949,471 C1971.95,489.94 1987.52,521.12 1996.08,542.21 \" fill=\"none\" id=\"E33&lt;-E9\" style=\"stroke: #383838; stroke-width: 1.0;\"/><polygon fill=\"#FFFFFF\" points=\"1801.19,405.73,1806.0748,411.0346,1812.8501,408.5659,1807.9653,403.2612,1801.19,405.73\" style=\"stroke: #383838; stroke-width: 1.0;\"/></a><!--MD5=[66d840defede418d748db2824f149bd2]\n",
       "link E24 to E27--><a href=\"psysml:d47c4023-ada3-4dd1-bb4b-d36cdc330c38\" target=\"_top\" title=\"psysml:d47c4023-ada3-4dd1-bb4b-d36cdc330c38\" xlink:actuate=\"onRequest\" xlink:href=\"psysml:d47c4023-ada3-4dd1-bb4b-d36cdc330c38\" xlink:show=\"new\" xlink:title=\"psysml:d47c4023-ada3-4dd1-bb4b-d36cdc330c38\" xlink:type=\"simple\"><path d=\"M742.18,410.89 C794.31,425.52 872.41,446.81 941,463 C958.22,467.07 964.3,462.84 980,471 C1013.56,488.45 1043.84,520.61 1061.83,542.28 \" fill=\"none\" id=\"E24-E27\" style=\"stroke: #383838; stroke-width: 3.0;\"/></a><!--MD5=[b410f3dd1a32f172471104e0b62d79e5]\n",
       "link E21 to E27--><a href=\"psysml:b4a2fb91-9c44-4407-b2d8-5d825e78cf55\" target=\"_top\" title=\"psysml:b4a2fb91-9c44-4407-b2d8-5d825e78cf55\" xlink:actuate=\"onRequest\" xlink:href=\"psysml:b4a2fb91-9c44-4407-b2d8-5d825e78cf55\" xlink:show=\"new\" xlink:title=\"psysml:b4a2fb91-9c44-4407-b2d8-5d825e78cf55\" xlink:type=\"simple\"><path d=\"M1002.5,416.29 C1019.42,449.06 1050.8,509.86 1067.63,542.47 \" fill=\"none\" id=\"E21-E27\" style=\"stroke: #383838; stroke-width: 3.0;\"/></a><!--MD5=[e24477baa8cb505b7dfc9ae1a43e167e]\n",
       "link E15 to E27--><a href=\"psysml:9b11e8a7-9b09-43e8-bb9c-8c672390b21b\" target=\"_top\" title=\"psysml:9b11e8a7-9b09-43e8-bb9c-8c672390b21b\" xlink:actuate=\"onRequest\" xlink:href=\"psysml:9b11e8a7-9b09-43e8-bb9c-8c672390b21b\" xlink:show=\"new\" xlink:title=\"psysml:9b11e8a7-9b09-43e8-bb9c-8c672390b21b\" xlink:type=\"simple\"><path d=\"M1179.92,416.08 C1164.61,423.83 1149.06,433.74 1137,446 C1109.85,473.59 1093.27,516.4 1085.14,542.3 \" fill=\"none\" id=\"E15-E27\" style=\"stroke: #383838; stroke-width: 3.0;\"/></a><!--MD5=[07f685f96cca8004cbcb1e642ff9e708]\n",
       "link E18 to E27--><a href=\"psysml:68f3571c-2da2-4588-9436-7e34d5abe0aa\" target=\"_top\" title=\"psysml:68f3571c-2da2-4588-9436-7e34d5abe0aa\" xlink:actuate=\"onRequest\" xlink:href=\"psysml:68f3571c-2da2-4588-9436-7e34d5abe0aa\" xlink:show=\"new\" xlink:title=\"psysml:68f3571c-2da2-4588-9436-7e34d5abe0aa\" xlink:type=\"simple\"><path d=\"M1365.78,411.07 C1280.9,431.62 1149.28,464.23 1140,471 C1115.11,489.17 1097.6,520.83 1087.91,542.23 \" fill=\"none\" id=\"E18-E27\" style=\"stroke: #383838; stroke-width: 3.0;\"/></a><!--MD5=[9e6b19ae0c35241c57e65897f6f46727]\n",
       "link E22 to E29--><a href=\"psysml:80cac7d2-1678-4b91-9830-8e798c1f4fbc\" target=\"_top\" title=\"psysml:80cac7d2-1678-4b91-9830-8e798c1f4fbc\" xlink:actuate=\"onRequest\" xlink:href=\"psysml:80cac7d2-1678-4b91-9830-8e798c1f4fbc\" xlink:show=\"new\" xlink:title=\"psysml:80cac7d2-1678-4b91-9830-8e798c1f4fbc\" xlink:type=\"simple\"><path d=\"M843.01,588.61 C822.81,600.68 797.72,616.15 776,631 C755.93,644.72 734.21,661.13 717.03,674.5 \" fill=\"none\" id=\"E22-&gt;E29\" style=\"stroke: #383838; stroke-width: 1.0;\"/><polygon fill=\"#383838\" points=\"712.76,677.83,722.3181,675.4548,716.7045,674.7573,717.4019,669.1436,712.76,677.83\" style=\"stroke: #383838; stroke-width: 1.0;\"/><text fill=\"#000000\" font-family=\"sans-serif\" font-size=\"13\" lengthAdjust=\"spacingAndGlyphs\" textLength=\"72\" x=\"777\" y=\"644.0669\">: t_voertuig</text><text fill=\"#000000\" font-family=\"sans-serif\" font-size=\"13\" lengthAdjust=\"spacingAndGlyphs\" textLength=\"7\" x=\"711.9766\" y=\"667.0627\">*</text></a><!--MD5=[3add178831171431a60f3bc3ac55b999]\n",
       "link E30 to E23--><a href=\"psysml:dc153978-5d8a-4c15-aa76-58426f6b7b32\" target=\"_top\" title=\"psysml:dc153978-5d8a-4c15-aa76-58426f6b7b32\" xlink:actuate=\"onRequest\" xlink:href=\"psysml:dc153978-5d8a-4c15-aa76-58426f6b7b32\" xlink:show=\"new\" xlink:title=\"psysml:dc153978-5d8a-4c15-aa76-58426f6b7b32\" xlink:type=\"simple\"><path d=\"M889.62,724.3 C896.52,741.95 906.58,767.18 916,789 C919.52,797.16 923.51,805.97 927.22,813.97 \" fill=\"none\" id=\"E30-&gt;E23\" style=\"stroke: #383838; stroke-width: 1.0;\"/><polygon fill=\"#383838\" points=\"929.48,818.84,929.3344,808.9922,927.382,814.3015,922.0728,812.349,929.48,818.84\" style=\"stroke: #383838; stroke-width: 1.0;\"/><text fill=\"#000000\" font-family=\"sans-serif\" font-size=\"13\" lengthAdjust=\"spacingAndGlyphs\" textLength=\"72\" x=\"917\" y=\"785.0669\">: t_voertuig</text><text fill=\"#000000\" font-family=\"sans-serif\" font-size=\"13\" lengthAdjust=\"spacingAndGlyphs\" textLength=\"7\" x=\"918.8874\" y=\"808.0753\">*</text></a><!--MD5=[f99efdf0b851c7e9a0d20b43259f6e62]\n",
       "link E25 to E29--><a href=\"psysml:cba76fe8-1950-4904-9824-21d412bdcd23\" target=\"_top\" title=\"psysml:cba76fe8-1950-4904-9824-21d412bdcd23\" xlink:actuate=\"onRequest\" xlink:href=\"psysml:cba76fe8-1950-4904-9824-21d412bdcd23\" xlink:show=\"new\" xlink:title=\"psysml:cba76fe8-1950-4904-9824-21d412bdcd23\" xlink:type=\"simple\"><path d=\"M671.66,588.51 C664.64,604.84 657.71,627.7 662,648 C663.79,656.48 667.06,665.26 670.58,673.13 \" fill=\"none\" id=\"E25-&gt;E29\" style=\"stroke: #383838; stroke-width: 1.0;\"/><polygon fill=\"#383838\" points=\"672.79,677.91,672.6444,668.0622,670.692,673.3715,665.3828,671.419,672.79,677.91\" style=\"stroke: #383838; stroke-width: 1.0;\"/><text fill=\"#000000\" font-family=\"sans-serif\" font-size=\"13\" lengthAdjust=\"spacingAndGlyphs\" textLength=\"72\" x=\"663\" y=\"644.0669\">: t_voertuig</text><text fill=\"#000000\" font-family=\"sans-serif\" font-size=\"13\" lengthAdjust=\"spacingAndGlyphs\" textLength=\"7\" x=\"661.5679\" y=\"666.7821\">*</text></a><!--MD5=[2ef6815dc9b45a17f1410287b6f10b6a]\n",
       "link E30 to E26--><a href=\"psysml:56eda402-2ad0-45ff-8642-4b225f528a6d\" target=\"_top\" title=\"psysml:56eda402-2ad0-45ff-8642-4b225f528a6d\" xlink:actuate=\"onRequest\" xlink:href=\"psysml:56eda402-2ad0-45ff-8642-4b225f528a6d\" xlink:show=\"new\" xlink:title=\"psysml:56eda402-2ad0-45ff-8642-4b225f528a6d\" xlink:type=\"simple\"><path d=\"M851.67,724.08 C832.69,737.41 806.95,753.74 782,764 C697.39,798.8 594.26,819.24 523.31,830.22 \" fill=\"none\" id=\"E30-&gt;E26\" style=\"stroke: #383838; stroke-width: 1.0;\"/><polygon fill=\"#383838\" points=\"518.26,830.99,527.7619,833.5812,523.2024,830.2329,526.5506,825.6734,518.26,830.99\" style=\"stroke: #383838; stroke-width: 1.0;\"/><text fill=\"#000000\" font-family=\"sans-serif\" font-size=\"13\" lengthAdjust=\"spacingAndGlyphs\" textLength=\"72\" x=\"756\" y=\"785.0669\">: t_voertuig</text><text fill=\"#000000\" font-family=\"sans-serif\" font-size=\"13\" lengthAdjust=\"spacingAndGlyphs\" textLength=\"7\" x=\"525.8894\" y=\"826.3595\">*</text></a><!--MD5=[2b6d461e7b23976a1142e775fcd75997]\n",
       "link E16 to E31--><a href=\"psysml:31fdab3b-eb83-4426-bf3e-a35720661cf2\" target=\"_top\" title=\"psysml:31fdab3b-eb83-4426-bf3e-a35720661cf2\" xlink:actuate=\"onRequest\" xlink:href=\"psysml:31fdab3b-eb83-4426-bf3e-a35720661cf2\" xlink:show=\"new\" xlink:title=\"psysml:31fdab3b-eb83-4426-bf3e-a35720661cf2\" xlink:type=\"simple\"><path d=\"M1239,588.54 C1239,611.64 1239,647.94 1239,672.8 \" fill=\"none\" id=\"E16-&gt;E31\" style=\"stroke: #383838; stroke-width: 1.0;\"/><polygon fill=\"#383838\" points=\"1239,677.92,1243,668.92,1239,672.92,1235,668.92,1239,677.92\" style=\"stroke: #383838; stroke-width: 1.0;\"/><text fill=\"#000000\" font-family=\"sans-serif\" font-size=\"13\" lengthAdjust=\"spacingAndGlyphs\" textLength=\"72\" x=\"1240\" y=\"644.0669\">: t_vaartuig</text><text fill=\"#000000\" font-family=\"sans-serif\" font-size=\"13\" lengthAdjust=\"spacingAndGlyphs\" textLength=\"7\" x=\"1231.0594\" y=\"666.7948\">*</text></a><!--MD5=[4877b4ef30edea2804e797bf5e105549]\n",
       "link E17 to E28--><a href=\"psysml:ca40e8dd-a2a7-464b-a6f9-7d1011c858f0\" target=\"_top\" title=\"psysml:ca40e8dd-a2a7-464b-a6f9-7d1011c858f0\" xlink:actuate=\"onRequest\" xlink:href=\"psysml:ca40e8dd-a2a7-464b-a6f9-7d1011c858f0\" xlink:show=\"new\" xlink:title=\"psysml:ca40e8dd-a2a7-464b-a6f9-7d1011c858f0\" xlink:type=\"simple\"><path d=\"M1633,588.54 C1633,611.64 1633,647.94 1633,672.8 \" fill=\"none\" id=\"E17-&gt;E28\" style=\"stroke: #383838; stroke-width: 1.0;\"/><polygon fill=\"#383838\" points=\"1633,677.92,1637,668.92,1633,672.92,1629,668.92,1633,677.92\" style=\"stroke: #383838; stroke-width: 1.0;\"/><text fill=\"#000000\" font-family=\"sans-serif\" font-size=\"13\" lengthAdjust=\"spacingAndGlyphs\" textLength=\"72\" x=\"1634\" y=\"644.0669\">: t_vaartuig</text><text fill=\"#000000\" font-family=\"sans-serif\" font-size=\"13\" lengthAdjust=\"spacingAndGlyphs\" textLength=\"7\" x=\"1625.0594\" y=\"666.7948\">*</text></a><!--MD5=[80579f89274f7360b426a7754bf266cd]\n",
       "link E19 to E31--><a href=\"psysml:dd9672ae-81a8-4700-985d-7f276b24a9a2\" target=\"_top\" title=\"psysml:dd9672ae-81a8-4700-985d-7f276b24a9a2\" xlink:actuate=\"onRequest\" xlink:href=\"psysml:dd9672ae-81a8-4700-985d-7f276b24a9a2\" xlink:show=\"new\" xlink:title=\"psysml:dd9672ae-81a8-4700-985d-7f276b24a9a2\" xlink:type=\"simple\"><path d=\"M1426.9,588.74 C1417.6,606.97 1402.18,632.24 1382,648 C1364.75,661.47 1343.68,671.67 1323.08,679.3 \" fill=\"none\" id=\"E19-&gt;E31\" style=\"stroke: #383838; stroke-width: 1.0;\"/><polygon fill=\"#383838\" points=\"1318.14,681.09,1327.9632,681.7998,1322.8435,679.3939,1325.2495,674.2742,1318.14,681.09\" style=\"stroke: #383838; stroke-width: 1.0;\"/><text fill=\"#000000\" font-family=\"sans-serif\" font-size=\"13\" lengthAdjust=\"spacingAndGlyphs\" textLength=\"72\" x=\"1400\" y=\"644.0669\">: t_vaartuig</text><text fill=\"#000000\" font-family=\"sans-serif\" font-size=\"13\" lengthAdjust=\"spacingAndGlyphs\" textLength=\"7\" x=\"1326.0166\" y=\"675.5537\">*</text></a><!--MD5=[490a9853cfaa0f74f77eecef5d4dbf19]\n",
       "link E20 to E28--><a href=\"psysml:29d3f0b6-93b8-408b-97b2-1f3158cdf166\" target=\"_top\" title=\"psysml:29d3f0b6-93b8-408b-97b2-1f3158cdf166\" xlink:actuate=\"onRequest\" xlink:href=\"psysml:29d3f0b6-93b8-408b-97b2-1f3158cdf166\" xlink:show=\"new\" xlink:title=\"psysml:29d3f0b6-93b8-408b-97b2-1f3158cdf166\" xlink:type=\"simple\"><path d=\"M1796.71,588.85 C1774.56,605.55 1743.23,628.72 1715,648 C1701.62,657.14 1686.72,666.75 1673.34,675.18 \" fill=\"none\" id=\"E20-&gt;E28\" style=\"stroke: #383838; stroke-width: 1.0;\"/><polygon fill=\"#383838\" points=\"1668.86,678,1678.6052,676.5748,1673.0871,675.3295,1674.3324,669.8114,1668.86,678\" style=\"stroke: #383838; stroke-width: 1.0;\"/><text fill=\"#000000\" font-family=\"sans-serif\" font-size=\"13\" lengthAdjust=\"spacingAndGlyphs\" textLength=\"72\" x=\"1737\" y=\"644.0669\">: t_vaartuig</text><text fill=\"#000000\" font-family=\"sans-serif\" font-size=\"13\" lengthAdjust=\"spacingAndGlyphs\" textLength=\"7\" x=\"1670.5568\" y=\"666.8963\">*</text></a><!--MD5=[48f4ac212631a28c387a6631b2d49961]\n",
       "@startuml\r\n",
       "skinparam monochrome true\r\n",
       "skinparam classbackgroundcolor white\r\n",
       "skinparam shadowing false\r\n",
       "skinparam wrapWidth 300\r\n",
       "hide circle\r\n",
       "\r\n",
       "package \"OperationeleOmgeving\" as E1  [[psysml:d1f22bc6-e854-4878-a5bb-e6834e4b4e80 ]]  {\r\n",
       "package \"Mensgemaakte Systemen\" as E2  [[psysml:0cd5a8f7-50b3-40fd-989f-f53a4b138e55 ]]  {\r\n",
       "comp def \"t_Snelweg\" as E4  <<(T,blue) part  def>> [[psysml:f6c333cd-62fa-406d-806d-11f207476704 ]] {\r\n",
       "}\r\n",
       "comp usage \"voertuig_in: t_voertuig \" as E5  <<(T,blue) item>> [[psysml:0d5d3a4f-1580-4414-8a39-068067adac95 ]] {\r\n",
       "}\r\n",
       "comp usage \"voertuig_uit: t_voertuig \" as E6  <<(T,blue) item>> [[psysml:96d11f9b-2222-4591-abc9-aad10869e8d2 ]] {\r\n",
       "}\r\n",
       "note as E3\r\n",
       "[[psysml:f50d5377-4b1a-474f-b43f-f58032d3020e @]]Door mensen gemaakte systemen, die een\r\n",
       "relatie hebben met het SOI\r\n",
       "end note \r\n",
       "}\r\n",
       "package \"Natuurlijke Omgevingselementen\" as E7  [[psysml:3403aff9-ca81-48fa-8eff-462f8a9d0a8f ]]  {\r\n",
       "comp def \"t_Waterlichaam\" as E9  <<(T,blue) part  def>> [[psysml:d7cbde82-bd8d-436b-bdc8-c55009df993c ]] {\r\n",
       "}\r\n",
       "comp usage \"vaartuig_in: t_vaartuig \" as E10  <<(T,blue) item>> [[psysml:5b172f03-3f61-41a9-a1b9-6f64911f39c5 ]] {\r\n",
       "}\r\n",
       "comp usage \"vaartuig_uit: t_vaartuig \" as E11  <<(T,blue) item>> [[psysml:8ce9432d-8fe4-4488-bcd1-eef0f928f9ed ]] {\r\n",
       "}\r\n",
       "note as E8\r\n",
       "[[psysml:170e7edc-fb32-44df-b159-149e9aef3542 @]]Natuurlijke omgevingselementen - of factoren\r\n",
       "voor het systeem, die niet door de mens zijn gemaakt.\r\n",
       "end note \r\n",
       "}\r\n",
       "package \"Geinduceerde Omgevingselementen\" as E12  [[psysml:dca66e9c-b6da-4315-b0b6-04f94712bdaf ]]  {\r\n",
       "note as E13\r\n",
       "[[psysml:a4cab382-4574-48ae-a7e3-8c0558cf52b7 @]]Fenomenen die optreden als natuurlijke omgevingselementen interacteren\r\n",
       "met mensgemaakte systemen (bijv. bliksem, luchttemperatuur, lichtniveau)\r\n",
       "end note \r\n",
       "}\r\n",
       "comp usage \"Operationele Omgeving \" as E14  <<(T,blue) part>> [[psysml:cf97b22c-eb11-4eaa-8eb9-90a777a7f48c ]] {\r\n",
       "- - flows - -\r\n",
       "of : t_voertuig from  boven.voertuig_uit to  brug.voertuig_in\r\n",
       "of : t_voertuig from  brug.voertuig_uit to  boven.voertuig_in\r\n",
       "of : t_voertuig from  onder.voertuig_uit to  brug.voertuig_in\r\n",
       "of : t_voertuig from  brug.voertuig_uit to  onder.voertuig_in\r\n",
       "of : t_vaartuig from  rechts.vaartuig_uit to  brug.vaartuig_in\r\n",
       "of : t_vaartuig from  rechts.vaartuig_in to  brug.vaartuig_uit\r\n",
       "of : t_vaartuig from  links.vaartuig_uit to  brug.vaartuig_in\r\n",
       "of : t_vaartuig from  links.vaartuig_in to  brug.vaartuig_uit\r\n",
       "}\r\n",
       "comp usage \"rechts: t_Waterlichaam \" as E15  <<(T,blue) part>> [[psysml:06ef2f86-3453-4dc2-9d96-fdf8c138170f ]] {\r\n",
       "}\r\n",
       "comp usage \"^vaartuig_uit: t_vaartuig \" as E16  <<(T,blue) item>> [[psysml:8ce9432d-8fe4-4488-bcd1-eef0f928f9ed ]] {\r\n",
       "}\r\n",
       "comp usage \"^vaartuig_in: t_vaartuig \" as E17  <<(T,blue) item>> [[psysml:5b172f03-3f61-41a9-a1b9-6f64911f39c5 ]] {\r\n",
       "}\r\n",
       "comp usage \"links: t_Waterlichaam \" as E18  <<(T,blue) part>> [[psysml:6aab8133-c16c-4898-aaf0-e7713c36a059 ]] {\r\n",
       "}\r\n",
       "comp usage \"^vaartuig_uit: t_vaartuig \" as E19  <<(T,blue) item>> [[psysml:8ce9432d-8fe4-4488-bcd1-eef0f928f9ed ]] {\r\n",
       "}\r\n",
       "comp usage \"^vaartuig_in: t_vaartuig \" as E20  <<(T,blue) item>> [[psysml:5b172f03-3f61-41a9-a1b9-6f64911f39c5 ]] {\r\n",
       "}\r\n",
       "comp usage \"boven: t_Snelweg \" as E21  <<(T,blue) part>> [[psysml:89a411ed-8d3d-40d0-bbd7-9a494fcd3ec4 ]] {\r\n",
       "}\r\n",
       "comp usage \"^voertuig_uit: t_voertuig \" as E22  <<(T,blue) item>> [[psysml:96d11f9b-2222-4591-abc9-aad10869e8d2 ]] {\r\n",
       "}\r\n",
       "comp usage \"^voertuig_in: t_voertuig \" as E23  <<(T,blue) item>> [[psysml:0d5d3a4f-1580-4414-8a39-068067adac95 ]] {\r\n",
       "}\r\n",
       "comp usage \"onder: t_Snelweg \" as E24  <<(T,blue) part>> [[psysml:19732d9b-efa1-48ae-8645-9620a708d535 ]] {\r\n",
       "}\r\n",
       "comp usage \"^voertuig_uit: t_voertuig \" as E25  <<(T,blue) item>> [[psysml:96d11f9b-2222-4591-abc9-aad10869e8d2 ]] {\r\n",
       "}\r\n",
       "comp usage \"^voertuig_in: t_voertuig \" as E26  <<(T,blue) item>> [[psysml:0d5d3a4f-1580-4414-8a39-068067adac95 ]] {\r\n",
       "}\r\n",
       "comp usage \"brug: t_Brug \" as E27  <<(T,blue) part>> [[psysml:105a6c88-28d0-464b-bd09-d019f3dbac59 ]] {\r\n",
       "}\r\n",
       "comp usage \"^vaartuig_uit: t_vaartuig \" as E28  <<(T,blue) item>> [[psysml:34d855f6-67c2-4659-95ec-cbebe3c24297 ]] {\r\n",
       "}\r\n",
       "comp usage \"^voertuig_in: t_voertuig \" as E29  <<(T,blue) item>> [[psysml:93f39665-74e4-4828-9aae-b8d7c808b7c7 ]] {\r\n",
       "}\r\n",
       "comp usage \"^voertuig_uit: t_voertuig \" as E30  <<(T,blue) item>> [[psysml:2c85b82d-3caa-46e0-bb3d-3444ae3dcf3e ]] {\r\n",
       "}\r\n",
       "comp usage \"^vaartuig_in: t_vaartuig \" as E31  <<(T,blue) item>> [[psysml:f7c279b9-4942-4294-a31d-69785f8de534 ]] {\r\n",
       "}\r\n",
       "comp def \"t_wegaansluiting\" as E32  <<(T,blue) connection  def>> [[psysml:ded14a1e-160e-4aaf-9008-42c60e9c14fc ]] {\r\n",
       "}\r\n",
       "comp def \"t_vaarwegaansluiting\" as E33  <<(T,blue) connection  def>> [[psysml:110bef14-7b45-4bec-87b0-f29ba20a8141 ]] {\r\n",
       "}\r\n",
       "}\r\n",
       "E3 .. E2 [[psysml:f50d5377-4b1a-474f-b43f-f58032d3020e ]] \r\n",
       "E4 o- - \"1\"E5 [[psysml:a5073452-7b32-4a7b-b455-cb206ebe0a71 ]] \r\n",
       "E4 o- - \"1\"E6 [[psysml:ba0d88e8-6704-4a56-ad6e-7677601870d8 ]] \r\n",
       "E8 .. E7 [[psysml:170e7edc-fb32-44df-b159-149e9aef3542 ]] \r\n",
       "E9 o- - \"1\"E10 [[psysml:d27feda4-2e3e-490a-8143-9e59adcea1e9 ]] \r\n",
       "E9 o- - \"1\"E11 [[psysml:14c5db53-58df-4b83-bfa9-e0377bcfb4e3 ]] \r\n",
       "E13 .. E12 [[psysml:a4cab382-4574-48ae-a7e3-8c0558cf52b7 ]] \r\n",
       "E14 o- - \"1\"E15 [[psysml:c201b7b5-93ec-4633-ad71-a235853eae9e ]] \r\n",
       "E15 - -:|> E9 [[psysml:f61a9257-8f8a-4948-b9f2-00d85a3d3e35 ]] \r\n",
       "E15 o- - \"1\"E16 [[psysml:14c5db53-58df-4b83-bfa9-e0377bcfb4e3 ]] : ^\r\n",
       "E15 o- - \"1\"E17 [[psysml:d27feda4-2e3e-490a-8143-9e59adcea1e9 ]] : ^\r\n",
       "E14 o- - \"1\"E18 [[psysml:fdc0659c-a6cc-4de2-8bb2-e89faa7e2133 ]] \r\n",
       "E18 - -:|> E9 [[psysml:fb626076-cd3d-40af-9fbc-4d69e1e4290e ]] \r\n",
       "E18 o- - \"1\"E19 [[psysml:14c5db53-58df-4b83-bfa9-e0377bcfb4e3 ]] : ^\r\n",
       "E18 o- - \"1\"E20 [[psysml:d27feda4-2e3e-490a-8143-9e59adcea1e9 ]] : ^\r\n",
       "E14 o- - \"1\"E21 [[psysml:d8665ccd-cda4-4d00-ae00-4c6d5e29a81a ]] \r\n",
       "E21 - -:|> E4 [[psysml:57b55622-74b7-43f3-8669-9210b22e7440 ]] \r\n",
       "E21 o- - \"1\"E22 [[psysml:ba0d88e8-6704-4a56-ad6e-7677601870d8 ]] : ^\r\n",
       "E21 o- - \"1\"E23 [[psysml:a5073452-7b32-4a7b-b455-cb206ebe0a71 ]] : ^\r\n",
       "E14 o- - \"1\"E24 [[psysml:ff367697-7ba9-4629-9f1d-b232f31f6202 ]] \r\n",
       "E24 - -:|> E4 [[psysml:7b264815-c060-40e2-929d-aa77739cf151 ]] \r\n",
       "E24 o- - \"1\"E25 [[psysml:ba0d88e8-6704-4a56-ad6e-7677601870d8 ]] : ^\r\n",
       "E24 o- - \"1\"E26 [[psysml:a5073452-7b32-4a7b-b455-cb206ebe0a71 ]] : ^\r\n",
       "E14 o- - \"1\"E27 [[psysml:7cd2bac7-000f-4185-b631-c18c4bd5c625 ]] \r\n",
       "E27 o- - \"1\"E28 [[psysml:e422968c-4e91-43ca-8170-4286e6bc67cf ]] : ^\r\n",
       "E27 o- - \"1\"E29 [[psysml:1a7447fa-37f8-4ce6-a19d-f60f470fc6dc ]] : ^\r\n",
       "E27 o- - \"1\"E30 [[psysml:c7835e46-7308-4501-b2a8-2b9d3df33c4b ]] : ^\r\n",
       "E27 o- - \"1\"E31 [[psysml:56cf0b77-86dc-4e6e-a821-9fd159c7628e ]] : ^\r\n",
       "E14 +- - E32 [[psysml:af093393-497a-47f1-9271-ba20a4b51cec ]] \r\n",
       "E32 o- - E4 [[psysml:2bd3943f-8367-4e9b-9ebd-a089304c6132 ]] \r\n",
       "E14 +- - E33 [[psysml:8322a61a-6368-4e5f-b756-de8f7de04f77 ]] \r\n",
       "E33 o- - E9 [[psysml:794b6fb3-306c-4b6c-90b9-be2cd30dfdd6 ]] \r\n",
       "E24 -[thickness=3]- E27 [[psysml:d47c4023-ada3-4dd1-bb4b-d36cdc330c38 ]] \r\n",
       "E21 -[thickness=3]- E27 [[psysml:b4a2fb91-9c44-4407-b2d8-5d825e78cf55 ]] \r\n",
       "E15 -[thickness=3]- E27 [[psysml:9b11e8a7-9b09-43e8-bb9c-8c672390b21b ]] \r\n",
       "E18 -[thickness=3]- E27 [[psysml:68f3571c-2da2-4588-9436-7e34d5abe0aa ]] \r\n",
       "E22 - -> \"*\"E29 [[psysml:80cac7d2-1678-4b91-9830-8e798c1f4fbc ]] : : t_voertuig\r\n",
       "E30 - -> \"*\"E23 [[psysml:dc153978-5d8a-4c15-aa76-58426f6b7b32 ]] : : t_voertuig\r\n",
       "E25 - -> \"*\"E29 [[psysml:cba76fe8-1950-4904-9824-21d412bdcd23 ]] : : t_voertuig\r\n",
       "E30 - -> \"*\"E26 [[psysml:56eda402-2ad0-45ff-8642-4b225f528a6d ]] : : t_voertuig\r\n",
       "E16 - -> \"*\"E31 [[psysml:31fdab3b-eb83-4426-bf3e-a35720661cf2 ]] : : t_vaartuig\r\n",
       "E17 - -> \"*\"E28 [[psysml:ca40e8dd-a2a7-464b-a6f9-7d1011c858f0 ]] : : t_vaartuig\r\n",
       "E19 - -> \"*\"E31 [[psysml:dd9672ae-81a8-4700-985d-7f276b24a9a2 ]] : : t_vaartuig\r\n",
       "E20 - -> \"*\"E28 [[psysml:29d3f0b6-93b8-408b-97b2-1f3158cdf166 ]] : : t_vaartuig\r\n",
       "@enduml\r\n",
       "\n",
       "PlantUML version 1.2020.13(Sat Jun 13 05:26:38 PDT 2020)\n",
       "(EPL source distribution)\n",
       "Java Runtime: OpenJDK Runtime Environment\n",
       "JVM: OpenJDK 64-Bit Server VM\n",
       "Default Encoding: UTF-8\n",
       "Language: en\n",
       "Country: US\n",
       "--></g></svg>"
      ]
     },
     "execution_count": 188,
     "metadata": {},
     "output_type": "execute_result"
    }
   ],
   "source": [
    "%viz naam van de package"
   ]
  },
  {
   "cell_type": "markdown",
   "id": "fc1eb3c0",
   "metadata": {},
   "source": [
    "Het resultaat van de diagramgeneratie begint nu wel druk te worden. (Sommigen zouden zeggen: een zooitje...). Het is echter mogelijk om deze diagrammen netter te maken door `viewpoint`s en `view`s te definieren, waarmee diagrammen en tabellen kunnen worden gegenereerd. Dit laten we over aan de deelnemer om zelf te proberen. Dit gaat nog niet in Jupyter (dit pakket). Er is  ook een Eclipse IDE meegeleverd die deze `rendering` mogelijk wel kan uitvoeren. Dat is door de auteurs van de workshop nog niet uitgeprobeerd. Zelf proberen, garantie tot de deur.... Aanwijzingen hiervoor staan in de file `playground.ipynb`."
   ]
  },
  {
   "cell_type": "markdown",
   "id": "db36ad41",
   "metadata": {},
   "source": [
    "## Opdracht 2. Functies\n",
    "\n",
    "In het eerste diagram in dit document werd gesproken over `Kruisen verkeerstromen`. Beschouw dit als de topfunctie van het systeem. Het systeem is hier nu een `Beweegbare Brug: t_Brug`.  Welke onderliggende functies kunnen worden geidentificeerd?\n",
    "\n",
    "Functies worden beschreven door de `action` (een *usage*) of `action def` (een *definition*).\n",
    "\n",
    "```\n",
    "action naam_van_modelelement {  \n",
    "/* hier komt de inhoud van de action */  \n",
    "}\n",
    "```\n",
    "\n",
    "of:\n",
    "\n",
    "```\n",
    "action def naam_van_modelelement {  \n",
    "/* hier komt de inhoud van de action */  \n",
    "}\n",
    "```\n",
    "\n",
    "Bedenk dat als een definitie wordt gemaakt, er ook nog een *usage* moet worden gemaakt: de functie moet nog worden geinstantieerd.\n",
    "Functies staan in een functieboom, en voor de functieboom maken we een package aan. (bijv. `Functieboom`)"
   ]
  },
  {
   "cell_type": "code",
   "execution_count": 189,
   "id": "a26c1dac",
   "metadata": {},
   "outputs": [
    {
     "data": {
      "text/plain": [
       "Package Functieboom (020787f5-ff11-4fb3-bce2-487ec22bf525)\n"
      ]
     },
     "execution_count": 189,
     "metadata": {},
     "output_type": "execute_result"
    }
   ],
   "source": [
    "// plaats hier de SysML specificatie\n",
    "\n"
   ]
  },
  {
   "cell_type": "code",
   "execution_count": 190,
   "id": "0349fde7",
   "metadata": {},
   "outputs": [
    {
     "data": {
      "image/svg+xml": [
       "<?xml version=\"1.0\" encoding=\"UTF-8\" standalone=\"no\"?><svg xmlns=\"http://www.w3.org/2000/svg\" xmlns:xlink=\"http://www.w3.org/1999/xlink\" contentScriptType=\"application/ecmascript\" contentStyleType=\"text/css\" height=\"278px\" preserveAspectRatio=\"none\" style=\"width:985px;height:278px;\" version=\"1.1\" viewBox=\"0 0 985 278\" width=\"985px\" zoomAndPan=\"magnify\"><defs/><g><!--MD5=[fbc87193dbaf4d95561dea2c320d4a47]\n",
       "cluster E1--><a href=\"psysml:020787f5-ff11-4fb3-bce2-487ec22bf525\" target=\"_top\" title=\"psysml:020787f5-ff11-4fb3-bce2-487ec22bf525\" xlink:actuate=\"onRequest\" xlink:href=\"psysml:020787f5-ff11-4fb3-bce2-487ec22bf525\" xlink:show=\"new\" xlink:title=\"psysml:020787f5-ff11-4fb3-bce2-487ec22bf525\" xlink:type=\"simple\"><polygon fill=\"#FFFFFF\" points=\"16,6,124,6,131,28.2969,963,28.2969,963,266,16,266,16,6\" style=\"stroke: #000000; stroke-width: 1.5;\"/><line style=\"stroke: #000000; stroke-width: 1.5;\" x1=\"16\" x2=\"131\" y1=\"28.2969\" y2=\"28.2969\"/><text fill=\"#000000\" font-family=\"sans-serif\" font-size=\"14\" font-weight=\"bold\" lengthAdjust=\"spacingAndGlyphs\" textLength=\"102\" x=\"20\" y=\"20.9951\">Functieboom</text></a><!--MD5=[e4f7fae6ed58524ba242bb0b0d3be6b7]\n",
       "cluster E2--><a href=\"psysml:4e7ef3db-a376-4302-87ab-f70093563872\" target=\"_top\" title=\"psysml:4e7ef3db-a376-4302-87ab-f70093563872\" xlink:actuate=\"onRequest\" xlink:href=\"psysml:4e7ef3db-a376-4302-87ab-f70093563872\" xlink:show=\"new\" xlink:title=\"psysml:4e7ef3db-a376-4302-87ab-f70093563872\" xlink:type=\"simple\"><rect fill=\"#FFFFFF\" height=\"193\" id=\"E2\" rx=\"10\" ry=\"10\" style=\"stroke: #383838; stroke-width: 1.5;\" width=\"899\" x=\"40\" y=\"49\"/><rect fill=\"#F8F8F8\" height=\"37.9375\" rx=\"10\" ry=\"10\" style=\"stroke: #F8F8F8; stroke-width: 1.5;\" width=\"899\" x=\"40\" y=\"49\"/><rect fill=\"#F8F8F8\" height=\"10\" style=\"stroke: #F8F8F8; stroke-width: 1.5;\" width=\"899\" x=\"40\" y=\"76.9375\"/><rect fill=\"none\" height=\"193\" id=\"E2\" rx=\"10\" ry=\"10\" style=\"stroke: #383838; stroke-width: 1.5;\" width=\"899\" x=\"40\" y=\"49\"/><text fill=\"#000000\" font-family=\"sans-serif\" font-size=\"12\" font-style=\"italic\" lengthAdjust=\"spacingAndGlyphs\" textLength=\"53\" x=\"463\" y=\"65.1387\">«action»</text><text fill=\"#000000\" font-family=\"sans-serif\" font-size=\"12\" lengthAdjust=\"spacingAndGlyphs\" textLength=\"158\" x=\"410.5\" y=\"79.1074\">Kruisen Verkeersstromen</text><line style=\"stroke: #383838; stroke-width: 1.0;\" x1=\"40\" x2=\"939\" y1=\"86.9375\" y2=\"86.9375\"/></a><!--MD5=[d5e69f78d87373223dbae638b30a9c99]\n",
       "cluster E3--><a href=\"psysml:385b41d0-4b89-4fe6-8316-2fea8a639a19\" target=\"_top\" title=\"psysml:385b41d0-4b89-4fe6-8316-2fea8a639a19\" xlink:actuate=\"onRequest\" xlink:href=\"psysml:385b41d0-4b89-4fe6-8316-2fea8a639a19\" xlink:show=\"new\" xlink:title=\"psysml:385b41d0-4b89-4fe6-8316-2fea8a639a19\" xlink:type=\"simple\"><rect fill=\"#FFFFFF\" height=\"110\" id=\"E3\" rx=\"10\" ry=\"10\" style=\"stroke: #383838; stroke-width: 1.5;\" width=\"464\" x=\"451\" y=\"108\"/><rect fill=\"#F8F8F8\" height=\"37.9375\" rx=\"10\" ry=\"10\" style=\"stroke: #F8F8F8; stroke-width: 1.5;\" width=\"464\" x=\"451\" y=\"108\"/><rect fill=\"#F8F8F8\" height=\"10\" style=\"stroke: #F8F8F8; stroke-width: 1.5;\" width=\"464\" x=\"451\" y=\"135.9375\"/><rect fill=\"none\" height=\"110\" id=\"E3\" rx=\"10\" ry=\"10\" style=\"stroke: #383838; stroke-width: 1.5;\" width=\"464\" x=\"451\" y=\"108\"/><text fill=\"#000000\" font-family=\"sans-serif\" font-size=\"12\" font-style=\"italic\" lengthAdjust=\"spacingAndGlyphs\" textLength=\"53\" x=\"656.5\" y=\"124.1387\">«action»</text><text fill=\"#000000\" font-family=\"sans-serif\" font-size=\"12\" lengthAdjust=\"spacingAndGlyphs\" textLength=\"189\" x=\"588.5\" y=\"138.1074\">Passeren Scheepvaartverkeer</text><line style=\"stroke: #383838; stroke-width: 1.0;\" x1=\"451\" x2=\"915\" y1=\"145.9375\" y2=\"145.9375\"/></a><!--MD5=[14e3b0961a2654348d326746436168a1]\n",
       "cluster E6--><a href=\"psysml:4ae9a372-a0e2-4424-9790-555c8df00bb5\" target=\"_top\" title=\"psysml:4ae9a372-a0e2-4424-9790-555c8df00bb5\" xlink:actuate=\"onRequest\" xlink:href=\"psysml:4ae9a372-a0e2-4424-9790-555c8df00bb5\" xlink:show=\"new\" xlink:title=\"psysml:4ae9a372-a0e2-4424-9790-555c8df00bb5\" xlink:type=\"simple\"><rect fill=\"#FFFFFF\" height=\"110\" id=\"E6\" rx=\"10\" ry=\"10\" style=\"stroke: #383838; stroke-width: 1.5;\" width=\"363\" x=\"64\" y=\"108\"/><rect fill=\"#F8F8F8\" height=\"37.9375\" rx=\"10\" ry=\"10\" style=\"stroke: #F8F8F8; stroke-width: 1.5;\" width=\"363\" x=\"64\" y=\"108\"/><rect fill=\"#F8F8F8\" height=\"10\" style=\"stroke: #F8F8F8; stroke-width: 1.5;\" width=\"363\" x=\"64\" y=\"135.9375\"/><rect fill=\"none\" height=\"110\" id=\"E6\" rx=\"10\" ry=\"10\" style=\"stroke: #383838; stroke-width: 1.5;\" width=\"363\" x=\"64\" y=\"108\"/><text fill=\"#000000\" font-family=\"sans-serif\" font-size=\"12\" font-style=\"italic\" lengthAdjust=\"spacingAndGlyphs\" textLength=\"53\" x=\"219\" y=\"124.1387\">«action»</text><text fill=\"#000000\" font-family=\"sans-serif\" font-size=\"12\" lengthAdjust=\"spacingAndGlyphs\" textLength=\"137\" x=\"177\" y=\"138.1074\">Passeren Wegverkeer</text><line style=\"stroke: #383838; stroke-width: 1.0;\" x1=\"64\" x2=\"427\" y1=\"145.9375\" y2=\"145.9375\"/></a><g id=\"E1.E2.E3.E4\"><a href=\"psysml:b3d11166-9c35-483a-9c8a-c039d70815b6\" target=\"_top\" title=\"psysml:b3d11166-9c35-483a-9c8a-c039d70815b6\" xlink:actuate=\"onRequest\" xlink:href=\"psysml:b3d11166-9c35-483a-9c8a-c039d70815b6\" xlink:show=\"new\" xlink:title=\"psysml:b3d11166-9c35-483a-9c8a-c039d70815b6\" xlink:type=\"simple\"><rect fill=\"#FFFFFF\" height=\"42.9375\" id=\"E4\" rx=\"10\" ry=\"10\" style=\"stroke: #383838; stroke-width: 1.5;\" width=\"194\" x=\"705\" y=\"159\"/><rect fill=\"#F8F8F8\" height=\"37.9375\" rx=\"10\" ry=\"10\" style=\"stroke: #F8F8F8; stroke-width: 1.5;\" width=\"194\" x=\"705\" y=\"159\"/><rect fill=\"#F8F8F8\" height=\"10\" style=\"stroke: #F8F8F8; stroke-width: 1.5;\" width=\"194\" x=\"705\" y=\"186.9375\"/><rect fill=\"none\" height=\"42.9375\" id=\"E4\" rx=\"10\" ry=\"10\" style=\"stroke: #383838; stroke-width: 1.5;\" width=\"194\" x=\"705\" y=\"159\"/><text fill=\"#000000\" font-family=\"sans-serif\" font-size=\"12\" font-style=\"italic\" lengthAdjust=\"spacingAndGlyphs\" textLength=\"53\" x=\"775.5\" y=\"175.1387\">«action»</text><text fill=\"#000000\" font-family=\"sans-serif\" font-size=\"12\" lengthAdjust=\"spacingAndGlyphs\" textLength=\"183\" x=\"710.5\" y=\"189.1074\">Stoppen Scheepvaartverkeer</text></a></g><g id=\"E1.E2.E3.E5\"><a href=\"psysml:085f1865-7b7e-45b7-8b2f-5492356c711b\" target=\"_top\" title=\"psysml:085f1865-7b7e-45b7-8b2f-5492356c711b\" xlink:actuate=\"onRequest\" xlink:href=\"psysml:085f1865-7b7e-45b7-8b2f-5492356c711b\" xlink:show=\"new\" xlink:title=\"psysml:085f1865-7b7e-45b7-8b2f-5492356c711b\" xlink:type=\"simple\"><rect fill=\"#FFFFFF\" height=\"42.9375\" id=\"E5\" rx=\"10\" ry=\"10\" style=\"stroke: #383838; stroke-width: 1.5;\" width=\"203\" x=\"466.5\" y=\"159\"/><rect fill=\"#F8F8F8\" height=\"37.9375\" rx=\"10\" ry=\"10\" style=\"stroke: #F8F8F8; stroke-width: 1.5;\" width=\"203\" x=\"466.5\" y=\"159\"/><rect fill=\"#F8F8F8\" height=\"10\" style=\"stroke: #F8F8F8; stroke-width: 1.5;\" width=\"203\" x=\"466.5\" y=\"186.9375\"/><rect fill=\"none\" height=\"42.9375\" id=\"E5\" rx=\"10\" ry=\"10\" style=\"stroke: #383838; stroke-width: 1.5;\" width=\"203\" x=\"466.5\" y=\"159\"/><text fill=\"#000000\" font-family=\"sans-serif\" font-size=\"12\" font-style=\"italic\" lengthAdjust=\"spacingAndGlyphs\" textLength=\"53\" x=\"541.5\" y=\"175.1387\">«action»</text><text fill=\"#000000\" font-family=\"sans-serif\" font-size=\"12\" lengthAdjust=\"spacingAndGlyphs\" textLength=\"192\" x=\"472\" y=\"189.1074\">Doorlaten Scheepvaartverkeer</text></a></g><g id=\"E1.E2.E6.E7\"><a href=\"psysml:78b3abea-9f5a-4bfa-a872-e19e94296297\" target=\"_top\" title=\"psysml:78b3abea-9f5a-4bfa-a872-e19e94296297\" xlink:actuate=\"onRequest\" xlink:href=\"psysml:78b3abea-9f5a-4bfa-a872-e19e94296297\" xlink:show=\"new\" xlink:title=\"psysml:78b3abea-9f5a-4bfa-a872-e19e94296297\" xlink:type=\"simple\"><rect fill=\"#FFFFFF\" height=\"42.9375\" id=\"E7\" rx=\"10\" ry=\"10\" style=\"stroke: #383838; stroke-width: 1.5;\" width=\"142\" x=\"269\" y=\"159\"/><rect fill=\"#F8F8F8\" height=\"37.9375\" rx=\"10\" ry=\"10\" style=\"stroke: #F8F8F8; stroke-width: 1.5;\" width=\"142\" x=\"269\" y=\"159\"/><rect fill=\"#F8F8F8\" height=\"10\" style=\"stroke: #F8F8F8; stroke-width: 1.5;\" width=\"142\" x=\"269\" y=\"186.9375\"/><rect fill=\"none\" height=\"42.9375\" id=\"E7\" rx=\"10\" ry=\"10\" style=\"stroke: #383838; stroke-width: 1.5;\" width=\"142\" x=\"269\" y=\"159\"/><text fill=\"#000000\" font-family=\"sans-serif\" font-size=\"12\" font-style=\"italic\" lengthAdjust=\"spacingAndGlyphs\" textLength=\"53\" x=\"313.5\" y=\"175.1387\">«action»</text><text fill=\"#000000\" font-family=\"sans-serif\" font-size=\"12\" lengthAdjust=\"spacingAndGlyphs\" textLength=\"131\" x=\"274.5\" y=\"189.1074\">Stoppen landverkeer</text></a></g><g id=\"E1.E2.E6.E8\"><a href=\"psysml:eb3b6500-5174-4ccc-9a5b-091c8d79d43c\" target=\"_top\" title=\"psysml:eb3b6500-5174-4ccc-9a5b-091c8d79d43c\" xlink:actuate=\"onRequest\" xlink:href=\"psysml:eb3b6500-5174-4ccc-9a5b-091c8d79d43c\" xlink:show=\"new\" xlink:title=\"psysml:eb3b6500-5174-4ccc-9a5b-091c8d79d43c\" xlink:type=\"simple\"><rect fill=\"#FFFFFF\" height=\"42.9375\" id=\"E8\" rx=\"10\" ry=\"10\" style=\"stroke: #383838; stroke-width: 1.5;\" width=\"154\" x=\"80\" y=\"159\"/><rect fill=\"#F8F8F8\" height=\"37.9375\" rx=\"10\" ry=\"10\" style=\"stroke: #F8F8F8; stroke-width: 1.5;\" width=\"154\" x=\"80\" y=\"159\"/><rect fill=\"#F8F8F8\" height=\"10\" style=\"stroke: #F8F8F8; stroke-width: 1.5;\" width=\"154\" x=\"80\" y=\"186.9375\"/><rect fill=\"none\" height=\"42.9375\" id=\"E8\" rx=\"10\" ry=\"10\" style=\"stroke: #383838; stroke-width: 1.5;\" width=\"154\" x=\"80\" y=\"159\"/><text fill=\"#000000\" font-family=\"sans-serif\" font-size=\"12\" font-style=\"italic\" lengthAdjust=\"spacingAndGlyphs\" textLength=\"53\" x=\"130.5\" y=\"175.1387\">«action»</text><text fill=\"#000000\" font-family=\"sans-serif\" font-size=\"12\" lengthAdjust=\"spacingAndGlyphs\" textLength=\"143\" x=\"85.5\" y=\"189.1074\">Doorlaten Landverkeer</text></a></g><!--MD5=[4021889e8663d838a2ef3ebbc8d20876]\n",
       "@startuml\r\n",
       "skinparam monochrome true\r\n",
       "skinparam classbackgroundcolor white\r\n",
       "skinparam shadowing false\r\n",
       "skinparam wrapWidth 300\r\n",
       "hide circle\r\n",
       "\r\n",
       "package \"Functieboom\" as E1  [[psysml:020787f5-ff11-4fb3-bce2-487ec22bf525 ]]  {\r\n",
       "rec usage \"Kruisen Verkeersstromen\" as E2  <<(T,blue) action>> [[psysml:4e7ef3db-a376-4302-87ab-f70093563872 ]] {\r\n",
       "rec usage \"Passeren Scheepvaartverkeer\" as E3  <<(T,blue) action>> [[psysml:385b41d0-4b89-4fe6-8316-2fea8a639a19 ]] {\r\n",
       "rec usage \"Stoppen Scheepvaartverkeer\" as E4  <<(T,blue) action>> [[psysml:b3d11166-9c35-483a-9c8a-c039d70815b6 ]] {\r\n",
       "}\r\n",
       "\r\n",
       "rec usage \"Doorlaten Scheepvaartverkeer\" as E5  <<(T,blue) action>> [[psysml:085f1865-7b7e-45b7-8b2f-5492356c711b ]] {\r\n",
       "}\r\n",
       "\r\n",
       "}\r\n",
       "\r\n",
       "rec usage \"Passeren Wegverkeer\" as E6  <<(T,blue) action>> [[psysml:4ae9a372-a0e2-4424-9790-555c8df00bb5 ]] {\r\n",
       "rec usage \"Stoppen landverkeer\" as E7  <<(T,blue) action>> [[psysml:78b3abea-9f5a-4bfa-a872-e19e94296297 ]] {\r\n",
       "}\r\n",
       "\r\n",
       "rec usage \"Doorlaten Landverkeer\" as E8  <<(T,blue) action>> [[psysml:eb3b6500-5174-4ccc-9a5b-091c8d79d43c ]] {\r\n",
       "}\r\n",
       "\r\n",
       "}\r\n",
       "\r\n",
       "}\r\n",
       "\r\n",
       "}\r\n",
       "@enduml\r\n",
       "\n",
       "PlantUML version 1.2020.13(Sat Jun 13 05:26:38 PDT 2020)\n",
       "(EPL source distribution)\n",
       "Java Runtime: OpenJDK Runtime Environment\n",
       "JVM: OpenJDK 64-Bit Server VM\n",
       "Default Encoding: UTF-8\n",
       "Language: en\n",
       "Country: US\n",
       "--></g></svg>"
      ]
     },
     "execution_count": 190,
     "metadata": {},
     "output_type": "execute_result"
    }
   ],
   "source": [
    "%viz naam van de package"
   ]
  },
  {
   "cell_type": "markdown",
   "id": "63015497",
   "metadata": {},
   "source": [
    "## Opdracht 3. Eisen\n",
    "\n",
    "De behoefte bestaat om te kunnen communiceren met scheepvaartverkeer en de weggebruikers. Hiervoor kan in beginsel van alles worden gekozen. \n",
    "Zo kent ons spoorwegennet twee vormen van communicatie, 'analoog\" en \"digitaal'. De analoge variant zijn seinen(communicatie met licht), de digitale variant behelst een sein in de cabine  van de machinist (ERTMS).\n",
    "\n",
    "Voor de bruggen kiezen we voor een analoge variant (digitaal is nu nog niet mogelijk). Deze beslissing is een ontwerpbesluit / requirement.\n",
    "In SysML kenden we een speciale eis: de `<<designConstraint>>`. Die kent SysML v2 niet. (Die is overigens wel te maken, want SysML v2 kent mechanismen om de taal uit te breiden). We beschouwen de beslissingen nu even als systeemeisen. De SysML v2 specificatie staat hieronder."
   ]
  },
  {
   "cell_type": "code",
   "execution_count": 191,
   "id": "cf13ecbf",
   "metadata": {},
   "outputs": [
    {
     "data": {
      "text/plain": [
       "Package Systeemeisen (f94d274b-ddc1-43a4-a8ae-d553e83f6269)\n"
      ]
     },
     "execution_count": 191,
     "metadata": {},
     "output_type": "execute_result"
    }
   ],
   "source": [
    "package 'Systeemeisen' {\n",
    "    \n",
    "    requirement <'eis0001'> 'Communicatie met weggebruikers' {\n",
    "        /* Communicatie met weggebruikers dient plaats te vinden door het geven van \n",
    "        lichtsignalen door middel van verkeerslichten */\n",
    "    }\n",
    "    \n",
    "    requirement <'eis0002'> 'Communicatie met scheepvaartverkeer' {\n",
    "        /* Communicatie met weggebruikers dient plaats te vinden door het geven van \n",
    "        lichtsignalen door middel van scheepvaartseinen */\n",
    "    }\n",
    "}"
   ]
  },
  {
   "cell_type": "code",
   "execution_count": 192,
   "id": "2fc509e6",
   "metadata": {},
   "outputs": [
    {
     "data": {
      "image/svg+xml": [
       "<?xml version=\"1.0\" encoding=\"UTF-8\" standalone=\"no\"?><svg xmlns=\"http://www.w3.org/2000/svg\" xmlns:xlink=\"http://www.w3.org/1999/xlink\" contentScriptType=\"application/ecmascript\" contentStyleType=\"text/css\" height=\"246px\" preserveAspectRatio=\"none\" style=\"width:745px;height:246px;\" version=\"1.1\" viewBox=\"0 0 745 246\" width=\"745px\" zoomAndPan=\"magnify\"><defs/><g><!--MD5=[fbc87193dbaf4d95561dea2c320d4a47]\n",
       "cluster E1--><a href=\"psysml:f94d274b-ddc1-43a4-a8ae-d553e83f6269\" target=\"_top\" title=\"psysml:f94d274b-ddc1-43a4-a8ae-d553e83f6269\" xlink:actuate=\"onRequest\" xlink:href=\"psysml:f94d274b-ddc1-43a4-a8ae-d553e83f6269\" xlink:show=\"new\" xlink:title=\"psysml:f94d274b-ddc1-43a4-a8ae-d553e83f6269\" xlink:type=\"simple\"><polygon fill=\"#FFFFFF\" points=\"16,6,133,6,140,28.2969,723,28.2969,723,234,16,234,16,6\" style=\"stroke: #000000; stroke-width: 1.5;\"/><line style=\"stroke: #000000; stroke-width: 1.5;\" x1=\"16\" x2=\"140\" y1=\"28.2969\" y2=\"28.2969\"/><text fill=\"#000000\" font-family=\"sans-serif\" font-size=\"14\" font-weight=\"bold\" lengthAdjust=\"spacingAndGlyphs\" textLength=\"111\" x=\"20\" y=\"20.9951\">Systeemeisen</text></a><!--MD5=[b4997ac47864f28c2f74865a473b2911]\n",
       "class E2--><a href=\"psysml:25b94e53-e905-4f8e-a72a-08225bebf772\" target=\"_top\" title=\"psysml:25b94e53-e905-4f8e-a72a-08225bebf772\" xlink:actuate=\"onRequest\" xlink:href=\"psysml:25b94e53-e905-4f8e-a72a-08225bebf772\" xlink:show=\"new\" xlink:title=\"psysml:25b94e53-e905-4f8e-a72a-08225bebf772\" xlink:type=\"simple\"><rect fill=\"#FFFFFF\" height=\"45.9375\" id=\"E2\" rx=\"10\" ry=\"10\" style=\"stroke: #383838; stroke-width: 1.5;\" width=\"303\" x=\"403.5\" y=\"172\"/><text fill=\"#000000\" font-family=\"sans-serif\" font-size=\"12\" font-style=\"italic\" lengthAdjust=\"spacingAndGlyphs\" textLength=\"91\" x=\"509.5\" y=\"188.1387\">«requirement»</text><text fill=\"#000000\" font-family=\"sans-serif\" font-size=\"12\" lengthAdjust=\"spacingAndGlyphs\" textLength=\"0\" x=\"410.5\" y=\"202.1074\"/><text fill=\"#000000\" font-family=\"sans-serif\" font-size=\"12\" font-weight=\"bold\" lengthAdjust=\"spacingAndGlyphs\" textLength=\"73\" x=\"410.5\" y=\"202.1074\">&lt;eis0001&gt;</text><text fill=\"#000000\" font-family=\"sans-serif\" font-size=\"12\" lengthAdjust=\"spacingAndGlyphs\" textLength=\"212\" x=\"487.5\" y=\"202.1074\">Communicatie met weggebruikers</text><line style=\"stroke: #383838; stroke-width: 1.5;\" x1=\"404.5\" x2=\"705.5\" y1=\"209.9375\" y2=\"209.9375\"/></a><!--MD5=[ebbe1d658d1005bcc118a6aa81145e00]\n",
       "class E4--><a href=\"psysml:fc5eada5-fc46-4344-8d88-42201a15f468\" target=\"_top\" title=\"psysml:fc5eada5-fc46-4344-8d88-42201a15f468\" xlink:actuate=\"onRequest\" xlink:href=\"psysml:fc5eada5-fc46-4344-8d88-42201a15f468\" xlink:show=\"new\" xlink:title=\"psysml:fc5eada5-fc46-4344-8d88-42201a15f468\" xlink:type=\"simple\"><rect fill=\"#FFFFFF\" height=\"45.9375\" id=\"E4\" rx=\"10\" ry=\"10\" style=\"stroke: #383838; stroke-width: 1.5;\" width=\"336\" x=\"32\" y=\"172\"/><text fill=\"#000000\" font-family=\"sans-serif\" font-size=\"12\" font-style=\"italic\" lengthAdjust=\"spacingAndGlyphs\" textLength=\"91\" x=\"154.5\" y=\"188.1387\">«requirement»</text><text fill=\"#000000\" font-family=\"sans-serif\" font-size=\"12\" lengthAdjust=\"spacingAndGlyphs\" textLength=\"0\" x=\"39\" y=\"202.1074\"/><text fill=\"#000000\" font-family=\"sans-serif\" font-size=\"12\" font-weight=\"bold\" lengthAdjust=\"spacingAndGlyphs\" textLength=\"73\" x=\"39\" y=\"202.1074\">&lt;eis0002&gt;</text><text fill=\"#000000\" font-family=\"sans-serif\" font-size=\"12\" lengthAdjust=\"spacingAndGlyphs\" textLength=\"245\" x=\"116\" y=\"202.1074\">Communicatie met scheepvaartverkeer</text><line style=\"stroke: #383838; stroke-width: 1.5;\" x1=\"33\" x2=\"367\" y1=\"209.9375\" y2=\"209.9375\"/></a><path d=\"M399,49 L399,104.3984 A0,0 0 0 0 399,104.3984 L549.46,104.3984 L554.62,171.7 L557.46,104.3984 L707,104.3984 A0,0 0 0 0 707,104.3984 L707,59 L697,49 L399,49 A0,0 0 0 0 399,49 \" fill=\"#ECECEC\" style=\"stroke: #383838; stroke-width: 1.0;\"/><path d=\"M697,49 L697,59 L707,59 L697,49 \" fill=\"#ECECEC\" style=\"stroke: #383838; stroke-width: 1.0;\"/><a href=\"psysml:01f8ac36-41c7-4643-93ac-bfa584f30b15\" target=\"_top\" title=\"psysml:01f8ac36-41c7-4643-93ac-bfa584f30b15\" xlink:actuate=\"onRequest\" xlink:href=\"psysml:01f8ac36-41c7-4643-93ac-bfa584f30b15\" xlink:show=\"new\" xlink:title=\"psysml:01f8ac36-41c7-4643-93ac-bfa584f30b15\" xlink:type=\"simple\"><text fill=\"#1C1C1C\" font-family=\"sans-serif\" font-size=\"13\" lengthAdjust=\"spacingAndGlyphs\" text-decoration=\"underline\" textLength=\"13\" x=\"405\" y=\"66.0669\">@</text></a><text fill=\"#000000\" font-family=\"sans-serif\" font-size=\"13\" lengthAdjust=\"spacingAndGlyphs\" textLength=\"255\" x=\"418\" y=\"66.0669\">Communicatie met weggebruikers dient</text><text fill=\"#000000\" font-family=\"sans-serif\" font-size=\"13\" lengthAdjust=\"spacingAndGlyphs\" textLength=\"230\" x=\"405\" y=\"81.1997\">plaats te vinden door het geven van</text><text fill=\"#000000\" font-family=\"sans-serif\" font-size=\"13\" lengthAdjust=\"spacingAndGlyphs\" textLength=\"287\" x=\"405\" y=\"96.3325\">lichtsignalen door middel van verkeerslichten</text><path d=\"M53.5,41 L53.5,111.5313 A0,0 0 0 0 53.5,111.5313 L196,111.5313 L200,171.8 L204,111.5313 L346.5,111.5313 A0,0 0 0 0 346.5,111.5313 L346.5,51 L336.5,41 L53.5,41 A0,0 0 0 0 53.5,41 \" fill=\"#ECECEC\" style=\"stroke: #383838; stroke-width: 1.0;\"/><path d=\"M336.5,41 L336.5,51 L346.5,51 L336.5,41 \" fill=\"#ECECEC\" style=\"stroke: #383838; stroke-width: 1.0;\"/><a href=\"psysml:7c8e19fa-4778-44c3-a750-bbe291b6719b\" target=\"_top\" title=\"psysml:7c8e19fa-4778-44c3-a750-bbe291b6719b\" xlink:actuate=\"onRequest\" xlink:href=\"psysml:7c8e19fa-4778-44c3-a750-bbe291b6719b\" xlink:show=\"new\" xlink:title=\"psysml:7c8e19fa-4778-44c3-a750-bbe291b6719b\" xlink:type=\"simple\"><text fill=\"#1C1C1C\" font-family=\"sans-serif\" font-size=\"13\" lengthAdjust=\"spacingAndGlyphs\" text-decoration=\"underline\" textLength=\"13\" x=\"59.5\" y=\"58.0669\">@</text></a><text fill=\"#000000\" font-family=\"sans-serif\" font-size=\"13\" lengthAdjust=\"spacingAndGlyphs\" textLength=\"255\" x=\"72.5\" y=\"58.0669\">Communicatie met weggebruikers dient</text><text fill=\"#000000\" font-family=\"sans-serif\" font-size=\"13\" lengthAdjust=\"spacingAndGlyphs\" textLength=\"230\" x=\"59.5\" y=\"73.1997\">plaats te vinden door het geven van</text><text fill=\"#000000\" font-family=\"sans-serif\" font-size=\"13\" lengthAdjust=\"spacingAndGlyphs\" textLength=\"186\" x=\"59.5\" y=\"88.3325\">lichtsignalen door middel van</text><text fill=\"#000000\" font-family=\"sans-serif\" font-size=\"13\" lengthAdjust=\"spacingAndGlyphs\" textLength=\"121\" x=\"59.5\" y=\"103.4653\">scheepvaartseinen</text><!--MD5=[82d8cfcdf2f95ef45503533227b1e1da]\n",
       "@startuml\r\n",
       "skinparam monochrome true\r\n",
       "skinparam classbackgroundcolor white\r\n",
       "skinparam shadowing false\r\n",
       "skinparam wrapWidth 300\r\n",
       "hide circle\r\n",
       "\r\n",
       "package \"Systeemeisen\" as E1  [[psysml:f94d274b-ddc1-43a4-a8ae-d553e83f6269 ]]  {\r\n",
       "comp usage \" <b>~<eis0001></b> Communicatie met weggebruikers \" as E2  <<(T,blue) requirement>> [[psysml:25b94e53-e905-4f8e-a72a-08225bebf772 ]] {\r\n",
       "}\r\n",
       "comp usage \" <b>~<eis0002></b> Communicatie met scheepvaartverkeer \" as E4  <<(T,blue) requirement>> [[psysml:fc5eada5-fc46-4344-8d88-42201a15f468 ]] {\r\n",
       "}\r\n",
       "note as E3\r\n",
       "[[psysml:01f8ac36-41c7-4643-93ac-bfa584f30b15 @]]Communicatie met weggebruikers dient plaats te vinden door het geven van\r\n",
       "lichtsignalen door middel van verkeerslichten\r\n",
       "end note \r\n",
       "note as E5\r\n",
       "[[psysml:7c8e19fa-4778-44c3-a750-bbe291b6719b @]]Communicatie met weggebruikers dient plaats te vinden door het geven van\r\n",
       "lichtsignalen door middel van scheepvaartseinen\r\n",
       "end note \r\n",
       "}\r\n",
       "E3 .. E2 [[psysml:01f8ac36-41c7-4643-93ac-bfa584f30b15 ]] \r\n",
       "E5 .. E4 [[psysml:7c8e19fa-4778-44c3-a750-bbe291b6719b ]] \r\n",
       "@enduml\r\n",
       "\n",
       "PlantUML version 1.2020.13(Sat Jun 13 05:26:38 PDT 2020)\n",
       "(EPL source distribution)\n",
       "Java Runtime: OpenJDK Runtime Environment\n",
       "JVM: OpenJDK 64-Bit Server VM\n",
       "Default Encoding: UTF-8\n",
       "Language: en\n",
       "Country: US\n",
       "--></g></svg>"
      ]
     },
     "execution_count": 192,
     "metadata": {},
     "output_type": "execute_result"
    }
   ],
   "source": [
    "%viz Systeemeisen"
   ]
  },
  {
   "cell_type": "markdown",
   "id": "a3da2ab0",
   "metadata": {},
   "source": [
    "Conform de aanpak van Functioneel specificeren moeten nu per functie eisen worden opgesteld. Dat impliceert dat functionele eisen **afhankelijk zijn** van de functies. We besluiten dat we die afhankelijkheid modelleren met een `dependency`. \n",
    "\n",
    "Een voorbeeld van het definieren van een dependency:"
   ]
  },
  {
   "cell_type": "code",
   "execution_count": 193,
   "id": "31b50150",
   "metadata": {},
   "outputs": [
    {
     "data": {
      "text/plain": [
       "Package voorbeeld (85f0333e-d410-4555-98c0-500f3783575a)\n"
      ]
     },
     "execution_count": 193,
     "metadata": {},
     "output_type": "execute_result"
    }
   ],
   "source": [
    "package voorbeeld {\n",
    "    part a;\n",
    "    part b;\n",
    "    \n",
    "    // a is afhankelijk van b\n",
    "    dependency from a to b;\n",
    "}"
   ]
  },
  {
   "cell_type": "code",
   "execution_count": 194,
   "id": "23f6eafc",
   "metadata": {},
   "outputs": [
    {
     "data": {
      "image/svg+xml": [
       "<?xml version=\"1.0\" encoding=\"UTF-8\" standalone=\"no\"?><svg xmlns=\"http://www.w3.org/2000/svg\" xmlns:xlink=\"http://www.w3.org/1999/xlink\" contentScriptType=\"application/ecmascript\" contentStyleType=\"text/css\" height=\"238px\" preserveAspectRatio=\"none\" style=\"width:171px;height:238px;\" version=\"1.1\" viewBox=\"0 0 171 238\" width=\"171px\" zoomAndPan=\"magnify\"><defs/><g><!--MD5=[fbc87193dbaf4d95561dea2c320d4a47]\n",
       "cluster E1--><a href=\"psysml:85f0333e-d410-4555-98c0-500f3783575a\" target=\"_top\" title=\"psysml:85f0333e-d410-4555-98c0-500f3783575a\" xlink:actuate=\"onRequest\" xlink:href=\"psysml:85f0333e-d410-4555-98c0-500f3783575a\" xlink:show=\"new\" xlink:title=\"psysml:85f0333e-d410-4555-98c0-500f3783575a\" xlink:type=\"simple\"><polygon fill=\"#FFFFFF\" points=\"16,6,102,6,109,28.2969,149,28.2969,149,226,16,226,16,6\" style=\"stroke: #000000; stroke-width: 1.5;\"/><line style=\"stroke: #000000; stroke-width: 1.5;\" x1=\"16\" x2=\"109\" y1=\"28.2969\" y2=\"28.2969\"/><text fill=\"#000000\" font-family=\"sans-serif\" font-size=\"14\" font-weight=\"bold\" lengthAdjust=\"spacingAndGlyphs\" textLength=\"80\" x=\"20\" y=\"20.9951\">voorbeeld</text></a><!--MD5=[b4997ac47864f28c2f74865a473b2911]\n",
       "class E2--><a href=\"psysml:3b6ef930-2a63-40bc-8af9-102a8bffcfaa\" target=\"_top\" title=\"psysml:3b6ef930-2a63-40bc-8af9-102a8bffcfaa\" xlink:actuate=\"onRequest\" xlink:href=\"psysml:3b6ef930-2a63-40bc-8af9-102a8bffcfaa\" xlink:show=\"new\" xlink:title=\"psysml:3b6ef930-2a63-40bc-8af9-102a8bffcfaa\" xlink:type=\"simple\"><rect fill=\"#FFFFFF\" height=\"45.9375\" id=\"E2\" rx=\"10\" ry=\"10\" style=\"stroke: #383838; stroke-width: 1.5;\" width=\"42\" x=\"46\" y=\"41\"/><text fill=\"#000000\" font-family=\"sans-serif\" font-size=\"12\" font-style=\"italic\" lengthAdjust=\"spacingAndGlyphs\" textLength=\"40\" x=\"47\" y=\"57.1387\">«part»</text><text fill=\"#000000\" font-family=\"sans-serif\" font-size=\"12\" lengthAdjust=\"spacingAndGlyphs\" textLength=\"8\" x=\"61\" y=\"71.1074\">a</text><line style=\"stroke: #383838; stroke-width: 1.5;\" x1=\"47\" x2=\"87\" y1=\"78.9375\" y2=\"78.9375\"/></a><!--MD5=[09b614a08d8cba4a07c9adeb5e0fee81]\n",
       "class E3--><a href=\"psysml:4db51d4e-5ecf-4485-a701-9ddb0e9606d7\" target=\"_top\" title=\"psysml:4db51d4e-5ecf-4485-a701-9ddb0e9606d7\" xlink:actuate=\"onRequest\" xlink:href=\"psysml:4db51d4e-5ecf-4485-a701-9ddb0e9606d7\" xlink:show=\"new\" xlink:title=\"psysml:4db51d4e-5ecf-4485-a701-9ddb0e9606d7\" xlink:type=\"simple\"><rect fill=\"#FFFFFF\" height=\"45.9375\" id=\"E3\" rx=\"10\" ry=\"10\" style=\"stroke: #383838; stroke-width: 1.5;\" width=\"42\" x=\"46\" y=\"164\"/><text fill=\"#000000\" font-family=\"sans-serif\" font-size=\"12\" font-style=\"italic\" lengthAdjust=\"spacingAndGlyphs\" textLength=\"40\" x=\"47\" y=\"180.1387\">«part»</text><text fill=\"#000000\" font-family=\"sans-serif\" font-size=\"12\" lengthAdjust=\"spacingAndGlyphs\" textLength=\"8\" x=\"61\" y=\"194.1074\">b</text><line style=\"stroke: #383838; stroke-width: 1.5;\" x1=\"47\" x2=\"87\" y1=\"201.9375\" y2=\"201.9375\"/></a><!--MD5=[2720a5a1f2c3fca2055b230370638851]\n",
       "link E2 to E3--><a href=\"psysml:81a22b81-908a-401b-9e45-317599ea6030\" target=\"_top\" title=\"psysml:81a22b81-908a-401b-9e45-317599ea6030\" xlink:actuate=\"onRequest\" xlink:href=\"psysml:81a22b81-908a-401b-9e45-317599ea6030\" xlink:show=\"new\" xlink:title=\"psysml:81a22b81-908a-401b-9e45-317599ea6030\" xlink:type=\"simple\"><path d=\"M67,87.19 C67,106.47 67,134.55 67,155.86 \" fill=\"none\" id=\"E2-&gt;E3\" style=\"stroke: #383838; stroke-width: 1.0; stroke-dasharray: 7.0,7.0;\"/><polygon fill=\"#383838\" points=\"67,163.95,70,155.95,64,155.95,67,163.95\" style=\"stroke: #383838; stroke-width: 1.0;\"/><text fill=\"#000000\" font-family=\"sans-serif\" font-size=\"13\" lengthAdjust=\"spacingAndGlyphs\" textLength=\"64\" x=\"68\" y=\"130.0669\">«depend»</text></a><!--MD5=[7c0a79adb07ea4a833b7653233a2f8ad]\n",
       "@startuml\r\n",
       "skinparam monochrome true\r\n",
       "skinparam classbackgroundcolor white\r\n",
       "skinparam shadowing false\r\n",
       "skinparam wrapWidth 300\r\n",
       "hide circle\r\n",
       "\r\n",
       "package \"voorbeeld\" as E1  [[psysml:85f0333e-d410-4555-98c0-500f3783575a ]]  {\r\n",
       "comp usage \"a \" as E2  <<(T,blue) part>> [[psysml:3b6ef930-2a63-40bc-8af9-102a8bffcfaa ]] {\r\n",
       "}\r\n",
       "comp usage \"b \" as E3  <<(T,blue) part>> [[psysml:4db51d4e-5ecf-4485-a701-9ddb0e9606d7 ]] {\r\n",
       "}\r\n",
       "}\r\n",
       "E2 ..>> E3 [[psysml:81a22b81-908a-401b-9e45-317599ea6030 ]] : <<depend>>\r\n",
       "@enduml\r\n",
       "\n",
       "PlantUML version 1.2020.13(Sat Jun 13 05:26:38 PDT 2020)\n",
       "(EPL source distribution)\n",
       "Java Runtime: OpenJDK Runtime Environment\n",
       "JVM: OpenJDK 64-Bit Server VM\n",
       "Default Encoding: UTF-8\n",
       "Language: en\n",
       "Country: US\n",
       "--></g></svg>"
      ]
     },
     "execution_count": 194,
     "metadata": {},
     "output_type": "execute_result"
    }
   ],
   "source": [
    "%viz voorbeeld"
   ]
  },
  {
   "cell_type": "markdown",
   "id": "ceab27f5",
   "metadata": {},
   "source": [
    "Stel nu zelf een eis op, en koppel deze aan een functie naar keuze met een dependency. "
   ]
  },
  {
   "cell_type": "code",
   "execution_count": 195,
   "id": "7a7d2c7f",
   "metadata": {},
   "outputs": [
    {
     "data": {
      "text/plain": [
       "Package Functionele Eisen (d052aa71-defe-41e9-94fd-49e3d47eceba)\n"
      ]
     },
     "execution_count": 195,
     "metadata": {},
     "output_type": "execute_result"
    }
   ],
   "source": [
    "// plaats hier de SysML specificatie\n",
    "\n"
   ]
  },
  {
   "cell_type": "code",
   "execution_count": 196,
   "id": "5ea70877",
   "metadata": {},
   "outputs": [
    {
     "data": {
      "image/svg+xml": [
       "<?xml version=\"1.0\" encoding=\"UTF-8\" standalone=\"no\"?><svg xmlns=\"http://www.w3.org/2000/svg\" xmlns:xlink=\"http://www.w3.org/1999/xlink\" contentScriptType=\"application/ecmascript\" contentStyleType=\"text/css\" height=\"261px\" preserveAspectRatio=\"none\" style=\"width:382px;height:261px;\" version=\"1.1\" viewBox=\"0 0 382 261\" width=\"382px\" zoomAndPan=\"magnify\"><defs/><g><!--MD5=[fbc87193dbaf4d95561dea2c320d4a47]\n",
       "cluster E1--><a href=\"psysml:d052aa71-defe-41e9-94fd-49e3d47eceba\" target=\"_top\" title=\"psysml:d052aa71-defe-41e9-94fd-49e3d47eceba\" xlink:actuate=\"onRequest\" xlink:href=\"psysml:d052aa71-defe-41e9-94fd-49e3d47eceba\" xlink:show=\"new\" xlink:title=\"psysml:d052aa71-defe-41e9-94fd-49e3d47eceba\" xlink:type=\"simple\"><polygon fill=\"#FFFFFF\" points=\"16,6,161,6,168,28.2969,360,28.2969,360,249,16,249,16,6\" style=\"stroke: #000000; stroke-width: 1.5;\"/><line style=\"stroke: #000000; stroke-width: 1.5;\" x1=\"16\" x2=\"168\" y1=\"28.2969\" y2=\"28.2969\"/><text fill=\"#000000\" font-family=\"sans-serif\" font-size=\"14\" font-weight=\"bold\" lengthAdjust=\"spacingAndGlyphs\" textLength=\"139\" x=\"20\" y=\"20.9951\">Functionele Eisen</text></a><!--MD5=[b4997ac47864f28c2f74865a473b2911]\n",
       "class E2--><a href=\"psysml:15c84e25-db34-43c4-b919-df832ccf8377\" target=\"_top\" title=\"psysml:15c84e25-db34-43c4-b919-df832ccf8377\" xlink:actuate=\"onRequest\" xlink:href=\"psysml:15c84e25-db34-43c4-b919-df832ccf8377\" xlink:show=\"new\" xlink:title=\"psysml:15c84e25-db34-43c4-b919-df832ccf8377\" xlink:type=\"simple\"><rect fill=\"#FFFFFF\" height=\"45.9375\" id=\"E2\" rx=\"10\" ry=\"10\" style=\"stroke: #383838; stroke-width: 1.5;\" width=\"279\" x=\"48.5\" y=\"187\"/><text fill=\"#000000\" font-family=\"sans-serif\" font-size=\"12\" font-style=\"italic\" lengthAdjust=\"spacingAndGlyphs\" textLength=\"91\" x=\"142.5\" y=\"203.1387\">«requirement»</text><text fill=\"#000000\" font-family=\"sans-serif\" font-size=\"12\" lengthAdjust=\"spacingAndGlyphs\" textLength=\"0\" x=\"55.5\" y=\"217.1074\"/><text fill=\"#000000\" font-family=\"sans-serif\" font-size=\"12\" font-weight=\"bold\" lengthAdjust=\"spacingAndGlyphs\" textLength=\"73\" x=\"55.5\" y=\"217.1074\">&lt;eis0003&gt;</text><text fill=\"#000000\" font-family=\"sans-serif\" font-size=\"12\" lengthAdjust=\"spacingAndGlyphs\" textLength=\"188\" x=\"132.5\" y=\"217.1074\">Tonen groen scheepvaartsein</text><line style=\"stroke: #383838; stroke-width: 1.5;\" x1=\"49.5\" x2=\"326.5\" y1=\"224.9375\" y2=\"224.9375\"/></a><path d=\"M32,41 L32,126.6641 A0,0 0 0 0 32,126.6641 L184,126.6641 L188,186.69 L192,126.6641 L344,126.6641 A0,0 0 0 0 344,126.6641 L344,51 L334,41 L32,41 A0,0 0 0 0 32,41 \" fill=\"#ECECEC\" style=\"stroke: #383838; stroke-width: 1.0;\"/><path d=\"M334,41 L334,51 L344,51 L334,41 \" fill=\"#ECECEC\" style=\"stroke: #383838; stroke-width: 1.0;\"/><a href=\"psysml:28fc43cf-a54e-4049-af1f-6d192dfd00b9\" target=\"_top\" title=\"psysml:28fc43cf-a54e-4049-af1f-6d192dfd00b9\" xlink:actuate=\"onRequest\" xlink:href=\"psysml:28fc43cf-a54e-4049-af1f-6d192dfd00b9\" xlink:show=\"new\" xlink:title=\"psysml:28fc43cf-a54e-4049-af1f-6d192dfd00b9\" xlink:type=\"simple\"><text fill=\"#1C1C1C\" font-family=\"sans-serif\" font-size=\"13\" lengthAdjust=\"spacingAndGlyphs\" text-decoration=\"underline\" textLength=\"13\" x=\"38\" y=\"58.0669\">@</text></a><text fill=\"#000000\" font-family=\"sans-serif\" font-size=\"13\" lengthAdjust=\"spacingAndGlyphs\" textLength=\"214\" x=\"51\" y=\"58.0669\">Alleen en slechst alleen als de val</text><text fill=\"#000000\" font-family=\"sans-serif\" font-size=\"13\" lengthAdjust=\"spacingAndGlyphs\" textLength=\"208\" x=\"38\" y=\"73.1997\">vergrendelt is in de open positie,</text><text fill=\"#000000\" font-family=\"sans-serif\" font-size=\"13\" lengthAdjust=\"spacingAndGlyphs\" textLength=\"287\" x=\"38\" y=\"88.3325\">mogen de scheepvaartseinen een 'doorvaart</text><text fill=\"#000000\" font-family=\"sans-serif\" font-size=\"13\" lengthAdjust=\"spacingAndGlyphs\" textLength=\"172\" x=\"38\" y=\"103.4653\">toegestaan' signaal geven.</text><text fill=\"#000000\" font-family=\"sans-serif\" font-size=\"13\" lengthAdjust=\"spacingAndGlyphs\" textLength=\"0\" x=\"42\" y=\"118.5981\"/><!--MD5=[440513428b9ed503a511ff657bf7fb52]\n",
       "@startuml\r\n",
       "skinparam monochrome true\r\n",
       "skinparam classbackgroundcolor white\r\n",
       "skinparam shadowing false\r\n",
       "skinparam wrapWidth 300\r\n",
       "hide circle\r\n",
       "\r\n",
       "package \"Functionele Eisen\" as E1  [[psysml:d052aa71-defe-41e9-94fd-49e3d47eceba ]]  {\r\n",
       "comp usage \" <b>~<eis0003></b> Tonen groen scheepvaartsein \" as E2  <<(T,blue) requirement>> [[psysml:15c84e25-db34-43c4-b919-df832ccf8377 ]] {\r\n",
       "}\r\n",
       "note as E3\r\n",
       "[[psysml:28fc43cf-a54e-4049-af1f-6d192dfd00b9 @]]Alleen en slechst alleen als de val vergrendelt is in de open positie,\r\n",
       "mogen de scheepvaartseinen een 'doorvaart toegestaan' signaal geven.\r\n",
       "\r\n",
       "end note \r\n",
       "}\r\n",
       "E3 .. E2 [[psysml:28fc43cf-a54e-4049-af1f-6d192dfd00b9 ]] \r\n",
       "@enduml\r\n",
       "\n",
       "PlantUML version 1.2020.13(Sat Jun 13 05:26:38 PDT 2020)\n",
       "(EPL source distribution)\n",
       "Java Runtime: OpenJDK Runtime Environment\n",
       "JVM: OpenJDK 64-Bit Server VM\n",
       "Default Encoding: UTF-8\n",
       "Language: en\n",
       "Country: US\n",
       "--></g></svg>"
      ]
     },
     "execution_count": 196,
     "metadata": {},
     "output_type": "execute_result"
    }
   ],
   "source": [
    "%viz naam van de package"
   ]
  },
  {
   "cell_type": "markdown",
   "id": "d227baa3",
   "metadata": {},
   "source": [
    "## Opdracht 4. Systeemontwerp\n",
    "\n",
    "Decomponeer het brugsysteem in zijn onderdelen conform de decompositie in het SysML 1.x model\n",
    "\n",
    "Een brug bestaat uit:\n",
    "- een (beweegbare) val\n",
    "- een vaarweg (onder de val, tussen de scheepvaartseinen)\n",
    "- Bruglichten, (nodig om te kunnen communiceren met de weggebruiker)\n",
    "- Scheepvaartseinen (nodig om te kunnen communiceren met scheepvaartverkeer(\n",
    "- Een besturingssysteem (typisch een PLC, elke platform dat beslissingen kan nemen is ok)\n",
    "\n",
    "Plaats deze 'dingen' in een package voor de missiesystemen (de systemen die we nodig hebben om het probleem van de stakeholders/klant op te lossen)\n"
   ]
  },
  {
   "cell_type": "code",
   "execution_count": 197,
   "id": "d928f1fd",
   "metadata": {},
   "outputs": [
    {
     "data": {
      "text/plain": [
       "Package Missiesystemen (bd0fb87f-7992-455a-a673-cc08f7252c9a)\n"
      ]
     },
     "execution_count": 197,
     "metadata": {},
     "output_type": "execute_result"
    }
   ],
   "source": [
    "// plaats hier de SysML specificatie\n",
    "\n",
    "\n"
   ]
  },
  {
   "cell_type": "code",
   "execution_count": 198,
   "id": "3190984a",
   "metadata": {},
   "outputs": [
    {
     "data": {
      "image/svg+xml": [
       "<?xml version=\"1.0\" encoding=\"UTF-8\" standalone=\"no\"?><svg xmlns=\"http://www.w3.org/2000/svg\" xmlns:xlink=\"http://www.w3.org/1999/xlink\" contentScriptType=\"application/ecmascript\" contentStyleType=\"text/css\" height=\"327px\" preserveAspectRatio=\"none\" style=\"width:1419px;height:327px;\" version=\"1.1\" viewBox=\"0 0 1419 327\" width=\"1419px\" zoomAndPan=\"magnify\"><defs/><g><!--MD5=[fbc87193dbaf4d95561dea2c320d4a47]\n",
       "cluster E1--><a href=\"psysml:bd0fb87f-7992-455a-a673-cc08f7252c9a\" target=\"_top\" title=\"psysml:bd0fb87f-7992-455a-a673-cc08f7252c9a\" xlink:actuate=\"onRequest\" xlink:href=\"psysml:bd0fb87f-7992-455a-a673-cc08f7252c9a\" xlink:show=\"new\" xlink:title=\"psysml:bd0fb87f-7992-455a-a673-cc08f7252c9a\" xlink:type=\"simple\"><polygon fill=\"#FFFFFF\" points=\"16,6,148,6,155,28.2969,1397,28.2969,1397,315,16,315,16,6\" style=\"stroke: #000000; stroke-width: 1.5;\"/><line style=\"stroke: #000000; stroke-width: 1.5;\" x1=\"16\" x2=\"155\" y1=\"28.2969\" y2=\"28.2969\"/><text fill=\"#000000\" font-family=\"sans-serif\" font-size=\"14\" font-weight=\"bold\" lengthAdjust=\"spacingAndGlyphs\" textLength=\"126\" x=\"20\" y=\"20.9951\">Missiesystemen</text></a><!--MD5=[b4997ac47864f28c2f74865a473b2911]\n",
       "class E2--><a href=\"psysml:a38a77e9-7195-4dfe-9738-a1066b21c049\" target=\"_top\" title=\"psysml:a38a77e9-7195-4dfe-9738-a1066b21c049\" xlink:actuate=\"onRequest\" xlink:href=\"psysml:a38a77e9-7195-4dfe-9738-a1066b21c049\" xlink:show=\"new\" xlink:title=\"psysml:a38a77e9-7195-4dfe-9738-a1066b21c049\" xlink:type=\"simple\"><rect fill=\"#FFFFFF\" height=\"45.9375\" id=\"E2\" style=\"stroke: #383838; stroke-width: 1.5;\" width=\"70\" x=\"660\" y=\"41\"/><text fill=\"#000000\" font-family=\"sans-serif\" font-size=\"12\" font-style=\"italic\" lengthAdjust=\"spacingAndGlyphs\" textLength=\"68\" x=\"661\" y=\"57.1387\">«part  def»</text><text fill=\"#000000\" font-family=\"sans-serif\" font-size=\"12\" lengthAdjust=\"spacingAndGlyphs\" textLength=\"40\" x=\"675\" y=\"71.1074\">t_brug</text><line style=\"stroke: #383838; stroke-width: 1.5;\" x1=\"661\" x2=\"729\" y1=\"78.9375\" y2=\"78.9375\"/></a><!--MD5=[09b614a08d8cba4a07c9adeb5e0fee81]\n",
       "class E3--><a href=\"psysml:b5ad0f4a-728d-461f-866d-9349b42f8214\" target=\"_top\" title=\"psysml:b5ad0f4a-728d-461f-866d-9349b42f8214\" xlink:actuate=\"onRequest\" xlink:href=\"psysml:b5ad0f4a-728d-461f-866d-9349b42f8214\" xlink:show=\"new\" xlink:title=\"psysml:b5ad0f4a-728d-461f-866d-9349b42f8214\" xlink:type=\"simple\"><rect fill=\"#FFFFFF\" height=\"45.9375\" id=\"E3\" rx=\"10\" ry=\"10\" style=\"stroke: #383838; stroke-width: 1.5;\" width=\"87\" x=\"32.5\" y=\"147\"/><text fill=\"#000000\" font-family=\"sans-serif\" font-size=\"12\" font-style=\"italic\" lengthAdjust=\"spacingAndGlyphs\" textLength=\"40\" x=\"56\" y=\"163.1387\">«part»</text><text fill=\"#000000\" font-family=\"sans-serif\" font-size=\"12\" lengthAdjust=\"spacingAndGlyphs\" textLength=\"77\" x=\"35.5\" y=\"177.1074\">de_val: t_Val</text><line style=\"stroke: #383838; stroke-width: 1.5;\" x1=\"33.5\" x2=\"118.5\" y1=\"184.9375\" y2=\"184.9375\"/></a><!--MD5=[ebbe1d658d1005bcc118a6aa81145e00]\n",
       "class E4--><a href=\"psysml:7fe4e98e-59dd-4cdf-9fc4-692167ffccff\" target=\"_top\" title=\"psysml:7fe4e98e-59dd-4cdf-9fc4-692167ffccff\" xlink:actuate=\"onRequest\" xlink:href=\"psysml:7fe4e98e-59dd-4cdf-9fc4-692167ffccff\" xlink:show=\"new\" xlink:title=\"psysml:7fe4e98e-59dd-4cdf-9fc4-692167ffccff\" xlink:type=\"simple\"><rect fill=\"#FFFFFF\" height=\"45.9375\" id=\"E4\" rx=\"10\" ry=\"10\" style=\"stroke: #383838; stroke-width: 1.5;\" width=\"157\" x=\"154.5\" y=\"147\"/><text fill=\"#000000\" font-family=\"sans-serif\" font-size=\"12\" font-style=\"italic\" lengthAdjust=\"spacingAndGlyphs\" textLength=\"40\" x=\"213\" y=\"163.1387\">«part»</text><text fill=\"#000000\" font-family=\"sans-serif\" font-size=\"12\" lengthAdjust=\"spacingAndGlyphs\" textLength=\"147\" x=\"157.5\" y=\"177.1074\">de_vaarweg: t_Vaarweg</text><line style=\"stroke: #383838; stroke-width: 1.5;\" x1=\"155.5\" x2=\"310.5\" y1=\"184.9375\" y2=\"184.9375\"/></a><!--MD5=[270fce915f116d4de14055a7c1d9a0f3]\n",
       "class E5--><a href=\"psysml:0b3b9062-3b56-4862-ba1e-e77b9db69fe7\" target=\"_top\" title=\"psysml:0b3b9062-3b56-4862-ba1e-e77b9db69fe7\" xlink:actuate=\"onRequest\" xlink:href=\"psysml:0b3b9062-3b56-4862-ba1e-e77b9db69fe7\" xlink:show=\"new\" xlink:title=\"psysml:0b3b9062-3b56-4862-ba1e-e77b9db69fe7\" xlink:type=\"simple\"><rect fill=\"#FFFFFF\" height=\"45.9375\" id=\"E5\" rx=\"10\" ry=\"10\" style=\"stroke: #383838; stroke-width: 1.5;\" width=\"205\" x=\"346.5\" y=\"147\"/><text fill=\"#000000\" font-family=\"sans-serif\" font-size=\"12\" font-style=\"italic\" lengthAdjust=\"spacingAndGlyphs\" textLength=\"40\" x=\"429\" y=\"163.1387\">«part»</text><text fill=\"#000000\" font-family=\"sans-serif\" font-size=\"12\" lengthAdjust=\"spacingAndGlyphs\" textLength=\"195\" x=\"349.5\" y=\"177.1074\">t_sein_links: t_Scheepvaartsein</text><line style=\"stroke: #383838; stroke-width: 1.5;\" x1=\"347.5\" x2=\"550.5\" y1=\"184.9375\" y2=\"184.9375\"/></a><!--MD5=[60a26617385b1d2d0262a64233df1f8d]\n",
       "class E6--><a href=\"psysml:7d49bb04-f322-4555-8d1f-ea7c0181f31b\" target=\"_top\" title=\"psysml:7d49bb04-f322-4555-8d1f-ea7c0181f31b\" xlink:actuate=\"onRequest\" xlink:href=\"psysml:7d49bb04-f322-4555-8d1f-ea7c0181f31b\" xlink:show=\"new\" xlink:title=\"psysml:7d49bb04-f322-4555-8d1f-ea7c0181f31b\" xlink:type=\"simple\"><rect fill=\"#FFFFFF\" height=\"45.9375\" id=\"E6\" rx=\"10\" ry=\"10\" style=\"stroke: #383838; stroke-width: 1.5;\" width=\"217\" x=\"586.5\" y=\"147\"/><text fill=\"#000000\" font-family=\"sans-serif\" font-size=\"12\" font-style=\"italic\" lengthAdjust=\"spacingAndGlyphs\" textLength=\"40\" x=\"675\" y=\"163.1387\">«part»</text><text fill=\"#000000\" font-family=\"sans-serif\" font-size=\"12\" lengthAdjust=\"spacingAndGlyphs\" textLength=\"207\" x=\"589.5\" y=\"177.1074\">t_sein_rechts: t_Scheepvaartsein</text><line style=\"stroke: #383838; stroke-width: 1.5;\" x1=\"587.5\" x2=\"802.5\" y1=\"184.9375\" y2=\"184.9375\"/></a><!--MD5=[2156ba9850f5573cc1fc38a6a4b2f02b]\n",
       "class E7--><a href=\"psysml:9ec3f31e-5cb8-4c83-af3c-92df63a19f03\" target=\"_top\" title=\"psysml:9ec3f31e-5cb8-4c83-af3c-92df63a19f03\" xlink:actuate=\"onRequest\" xlink:href=\"psysml:9ec3f31e-5cb8-4c83-af3c-92df63a19f03\" xlink:show=\"new\" xlink:title=\"psysml:9ec3f31e-5cb8-4c83-af3c-92df63a19f03\" xlink:type=\"simple\"><rect fill=\"#FFFFFF\" height=\"45.9375\" id=\"E7\" rx=\"10\" ry=\"10\" style=\"stroke: #383838; stroke-width: 1.5;\" width=\"182\" x=\"839\" y=\"147\"/><text fill=\"#000000\" font-family=\"sans-serif\" font-size=\"12\" font-style=\"italic\" lengthAdjust=\"spacingAndGlyphs\" textLength=\"40\" x=\"910\" y=\"163.1387\">«part»</text><text fill=\"#000000\" font-family=\"sans-serif\" font-size=\"12\" lengthAdjust=\"spacingAndGlyphs\" textLength=\"172\" x=\"842\" y=\"177.1074\">bruglicht_onder: t_Bruglicht</text><line style=\"stroke: #383838; stroke-width: 1.5;\" x1=\"840\" x2=\"1020\" y1=\"184.9375\" y2=\"184.9375\"/></a><!--MD5=[b9389687b975829384b498ac4b7476b2]\n",
       "class E8--><a href=\"psysml:5cdc9b24-f26c-42b8-b62c-0692a23964ea\" target=\"_top\" title=\"psysml:5cdc9b24-f26c-42b8-b62c-0692a23964ea\" xlink:actuate=\"onRequest\" xlink:href=\"psysml:5cdc9b24-f26c-42b8-b62c-0692a23964ea\" xlink:show=\"new\" xlink:title=\"psysml:5cdc9b24-f26c-42b8-b62c-0692a23964ea\" xlink:type=\"simple\"><rect fill=\"#FFFFFF\" height=\"45.9375\" id=\"E8\" rx=\"10\" ry=\"10\" style=\"stroke: #383838; stroke-width: 1.5;\" width=\"183\" x=\"1056.5\" y=\"147\"/><text fill=\"#000000\" font-family=\"sans-serif\" font-size=\"12\" font-style=\"italic\" lengthAdjust=\"spacingAndGlyphs\" textLength=\"40\" x=\"1128\" y=\"163.1387\">«part»</text><text fill=\"#000000\" font-family=\"sans-serif\" font-size=\"12\" lengthAdjust=\"spacingAndGlyphs\" textLength=\"173\" x=\"1059.5\" y=\"177.1074\">bruglicht_boven: t_Bruglicht</text><line style=\"stroke: #383838; stroke-width: 1.5;\" x1=\"1057.5\" x2=\"1238.5\" y1=\"184.9375\" y2=\"184.9375\"/></a><!--MD5=[fd4143e9d270a159db93a4ea2a975926]\n",
       "class E9--><a href=\"psysml:215e5164-abfb-4558-976b-d9f653a659db\" target=\"_top\" title=\"psysml:215e5164-abfb-4558-976b-d9f653a659db\" xlink:actuate=\"onRequest\" xlink:href=\"psysml:215e5164-abfb-4558-976b-d9f653a659db\" xlink:show=\"new\" xlink:title=\"psysml:215e5164-abfb-4558-976b-d9f653a659db\" xlink:type=\"simple\"><rect fill=\"#FFFFFF\" height=\"45.9375\" id=\"E9\" rx=\"10\" ry=\"10\" style=\"stroke: #383838; stroke-width: 1.5;\" width=\"107\" x=\"1274.5\" y=\"147\"/><text fill=\"#000000\" font-family=\"sans-serif\" font-size=\"12\" font-style=\"italic\" lengthAdjust=\"spacingAndGlyphs\" textLength=\"40\" x=\"1308\" y=\"163.1387\">«part»</text><text fill=\"#000000\" font-family=\"sans-serif\" font-size=\"12\" lengthAdjust=\"spacingAndGlyphs\" textLength=\"97\" x=\"1277.5\" y=\"177.1074\">plc: t_Besturing</text><line style=\"stroke: #383838; stroke-width: 1.5;\" x1=\"1275.5\" x2=\"1380.5\" y1=\"184.9375\" y2=\"184.9375\"/></a><!--MD5=[96f4274e9e20536e775497830990834d]\n",
       "class E10--><a href=\"psysml:88c7fd94-2044-475d-98fe-3bf743451385\" target=\"_top\" title=\"psysml:88c7fd94-2044-475d-98fe-3bf743451385\" xlink:actuate=\"onRequest\" xlink:href=\"psysml:88c7fd94-2044-475d-98fe-3bf743451385\" xlink:show=\"new\" xlink:title=\"psysml:88c7fd94-2044-475d-98fe-3bf743451385\" xlink:type=\"simple\"><rect fill=\"#FFFFFF\" height=\"45.9375\" id=\"E10\" style=\"stroke: #383838; stroke-width: 1.5;\" width=\"70\" x=\"41\" y=\"253\"/><text fill=\"#000000\" font-family=\"sans-serif\" font-size=\"12\" font-style=\"italic\" lengthAdjust=\"spacingAndGlyphs\" textLength=\"68\" x=\"42\" y=\"269.1387\">«part  def»</text><text fill=\"#000000\" font-family=\"sans-serif\" font-size=\"12\" lengthAdjust=\"spacingAndGlyphs\" textLength=\"30\" x=\"61\" y=\"283.1074\">t_Val</text><line style=\"stroke: #383838; stroke-width: 1.5;\" x1=\"42\" x2=\"110\" y1=\"290.9375\" y2=\"290.9375\"/></a><!--MD5=[1dd1bfd58a279cf63c5f349dbc8fc6a1]\n",
       "class E11--><a href=\"psysml:30ce5d8d-d442-4141-b7f9-c23457081fa7\" target=\"_top\" title=\"psysml:30ce5d8d-d442-4141-b7f9-c23457081fa7\" xlink:actuate=\"onRequest\" xlink:href=\"psysml:30ce5d8d-d442-4141-b7f9-c23457081fa7\" xlink:show=\"new\" xlink:title=\"psysml:30ce5d8d-d442-4141-b7f9-c23457081fa7\" xlink:type=\"simple\"><rect fill=\"#FFFFFF\" height=\"45.9375\" id=\"E11\" style=\"stroke: #383838; stroke-width: 1.5;\" width=\"71\" x=\"197.5\" y=\"253\"/><text fill=\"#000000\" font-family=\"sans-serif\" font-size=\"12\" font-style=\"italic\" lengthAdjust=\"spacingAndGlyphs\" textLength=\"68\" x=\"199\" y=\"269.1387\">«part  def»</text><text fill=\"#000000\" font-family=\"sans-serif\" font-size=\"12\" lengthAdjust=\"spacingAndGlyphs\" textLength=\"65\" x=\"200.5\" y=\"283.1074\">t_Vaarweg</text><line style=\"stroke: #383838; stroke-width: 1.5;\" x1=\"198.5\" x2=\"267.5\" y1=\"290.9375\" y2=\"290.9375\"/></a><!--MD5=[49a0ec8f00dab7302a31f22d0f0fe584]\n",
       "class E12--><a href=\"psysml:2de5f36f-ae70-47cf-9c1d-feddb26629ac\" target=\"_top\" title=\"psysml:2de5f36f-ae70-47cf-9c1d-feddb26629ac\" xlink:actuate=\"onRequest\" xlink:href=\"psysml:2de5f36f-ae70-47cf-9c1d-feddb26629ac\" xlink:show=\"new\" xlink:title=\"psysml:2de5f36f-ae70-47cf-9c1d-feddb26629ac\" xlink:type=\"simple\"><rect fill=\"#FFFFFF\" height=\"45.9375\" id=\"E12\" style=\"stroke: #383838; stroke-width: 1.5;\" width=\"72\" x=\"1003\" y=\"253\"/><text fill=\"#000000\" font-family=\"sans-serif\" font-size=\"12\" font-style=\"italic\" lengthAdjust=\"spacingAndGlyphs\" textLength=\"68\" x=\"1005\" y=\"269.1387\">«part  def»</text><text fill=\"#000000\" font-family=\"sans-serif\" font-size=\"12\" lengthAdjust=\"spacingAndGlyphs\" textLength=\"66\" x=\"1006\" y=\"283.1074\">t_Bruglicht</text><line style=\"stroke: #383838; stroke-width: 1.5;\" x1=\"1004\" x2=\"1074\" y1=\"290.9375\" y2=\"290.9375\"/></a><!--MD5=[ee3c913d1a06f366521f9ef512b67efe]\n",
       "class E13--><a href=\"psysml:eb012b9c-012a-44c8-8918-28f65ab0a8dd\" target=\"_top\" title=\"psysml:eb012b9c-012a-44c8-8918-28f65ab0a8dd\" xlink:actuate=\"onRequest\" xlink:href=\"psysml:eb012b9c-012a-44c8-8918-28f65ab0a8dd\" xlink:show=\"new\" xlink:title=\"psysml:eb012b9c-012a-44c8-8918-28f65ab0a8dd\" xlink:type=\"simple\"><rect fill=\"#FFFFFF\" height=\"45.9375\" id=\"E13\" style=\"stroke: #383838; stroke-width: 1.5;\" width=\"122\" x=\"511\" y=\"253\"/><text fill=\"#000000\" font-family=\"sans-serif\" font-size=\"12\" font-style=\"italic\" lengthAdjust=\"spacingAndGlyphs\" textLength=\"68\" x=\"538\" y=\"269.1387\">«part  def»</text><text fill=\"#000000\" font-family=\"sans-serif\" font-size=\"12\" lengthAdjust=\"spacingAndGlyphs\" textLength=\"116\" x=\"514\" y=\"283.1074\">t_Scheepvaartsein</text><line style=\"stroke: #383838; stroke-width: 1.5;\" x1=\"512\" x2=\"632\" y1=\"290.9375\" y2=\"290.9375\"/></a><!--MD5=[bee11217b2f71d958a27249dc326068c]\n",
       "class E14--><a href=\"psysml:f30314a8-a804-486c-897e-0caf4f97297f\" target=\"_top\" title=\"psysml:f30314a8-a804-486c-897e-0caf4f97297f\" xlink:actuate=\"onRequest\" xlink:href=\"psysml:f30314a8-a804-486c-897e-0caf4f97297f\" xlink:show=\"new\" xlink:title=\"psysml:f30314a8-a804-486c-897e-0caf4f97297f\" xlink:type=\"simple\"><rect fill=\"#FFFFFF\" height=\"45.9375\" id=\"E14\" style=\"stroke: #383838; stroke-width: 1.5;\" width=\"77\" x=\"1289.5\" y=\"253\"/><text fill=\"#000000\" font-family=\"sans-serif\" font-size=\"12\" font-style=\"italic\" lengthAdjust=\"spacingAndGlyphs\" textLength=\"68\" x=\"1294\" y=\"269.1387\">«part  def»</text><text fill=\"#000000\" font-family=\"sans-serif\" font-size=\"12\" lengthAdjust=\"spacingAndGlyphs\" textLength=\"71\" x=\"1292.5\" y=\"283.1074\">t_Besturing</text><line style=\"stroke: #383838; stroke-width: 1.5;\" x1=\"1290.5\" x2=\"1365.5\" y1=\"290.9375\" y2=\"290.9375\"/></a><!--MD5=[209b3feb70ccb6233bfe1053d122c12c]\n",
       "reverse link E2 to E3--><a href=\"psysml:ca0c3ec6-f331-4374-8a8e-f8df60fc3fe2\" target=\"_top\" title=\"psysml:ca0c3ec6-f331-4374-8a8e-f8df60fc3fe2\" xlink:actuate=\"onRequest\" xlink:href=\"psysml:ca0c3ec6-f331-4374-8a8e-f8df60fc3fe2\" xlink:show=\"new\" xlink:title=\"psysml:ca0c3ec6-f331-4374-8a8e-f8df60fc3fe2\" xlink:type=\"simple\"><path d=\"M646.77,68.81 C549.28,77.23 322.29,100.47 137,147 C131.32,148.43 125.43,150.18 119.66,152.07 \" fill=\"none\" id=\"E2&lt;-E3\" style=\"stroke: #383838; stroke-width: 1.0;\"/><polygon fill=\"#FFFFFF\" points=\"659.92,67.7,653.6031,64.2219,647.963,68.7151,654.2799,72.1932,659.92,67.7\" style=\"stroke: #383838; stroke-width: 1.0;\"/><text fill=\"#000000\" font-family=\"sans-serif\" font-size=\"13\" lengthAdjust=\"spacingAndGlyphs\" textLength=\"8\" x=\"127.5537\" y=\"144.9412\">1</text></a><!--MD5=[9618e71518536f8baf3342ff6fdab317]\n",
       "reverse link E2 to E4--><a href=\"psysml:ccb16787-a424-4bee-b686-5dbe5e557986\" target=\"_top\" title=\"psysml:ccb16787-a424-4bee-b686-5dbe5e557986\" xlink:actuate=\"onRequest\" xlink:href=\"psysml:ccb16787-a424-4bee-b686-5dbe5e557986\" xlink:show=\"new\" xlink:title=\"psysml:ccb16787-a424-4bee-b686-5dbe5e557986\" xlink:type=\"simple\"><path d=\"M647.22,75.63 C577.33,91.19 443.1,121.14 329,147 C323.33,148.28 317.47,149.62 311.58,150.96 \" fill=\"none\" id=\"E2&lt;-E4\" style=\"stroke: #383838; stroke-width: 1.0;\"/><polygon fill=\"#FFFFFF\" points=\"659.91,72.8,653.1833,70.2016,648.1976,75.4115,654.9243,78.0099,659.91,72.8\" style=\"stroke: #383838; stroke-width: 1.0;\"/><text fill=\"#000000\" font-family=\"sans-serif\" font-size=\"13\" lengthAdjust=\"spacingAndGlyphs\" textLength=\"8\" x=\"319.4509\" y=\"145.5066\">1</text></a><!--MD5=[4e1a83fab71cdb913c109063314ae896]\n",
       "reverse link E2 to E5--><a href=\"psysml:e495b159-21e0-46b1-be76-08c63dc56dbc\" target=\"_top\" title=\"psysml:e495b159-21e0-46b1-be76-08c63dc56dbc\" xlink:actuate=\"onRequest\" xlink:href=\"psysml:e495b159-21e0-46b1-be76-08c63dc56dbc\" xlink:show=\"new\" xlink:title=\"psysml:e495b159-21e0-46b1-be76-08c63dc56dbc\" xlink:type=\"simple\"><path d=\"M647.68,85.01 C605.78,102.72 544.73,128.53 501.38,146.86 \" fill=\"none\" id=\"E2&lt;-E5\" style=\"stroke: #383838; stroke-width: 1.0;\"/><polygon fill=\"#FFFFFF\" points=\"659.75,79.9,652.6664,78.5501,648.6958,84.5697,655.7795,85.9195,659.75,79.9\" style=\"stroke: #383838; stroke-width: 1.0;\"/><text fill=\"#000000\" font-family=\"sans-serif\" font-size=\"13\" lengthAdjust=\"spacingAndGlyphs\" textLength=\"8\" x=\"505.7774\" y=\"136.1004\">1</text></a><!--MD5=[ce036f65110ae2351ccce5a81dc2e928]\n",
       "reverse link E2 to E6--><a href=\"psysml:99c0bb87-ea58-4b67-9fcd-2acd7c200613\" target=\"_top\" title=\"psysml:99c0bb87-ea58-4b67-9fcd-2acd7c200613\" xlink:actuate=\"onRequest\" xlink:href=\"psysml:99c0bb87-ea58-4b67-9fcd-2acd7c200613\" xlink:show=\"new\" xlink:title=\"psysml:99c0bb87-ea58-4b67-9fcd-2acd7c200613\" xlink:type=\"simple\"><path d=\"M695,100.44 C695,115.87 695,133.47 695,146.98 \" fill=\"none\" id=\"E2&lt;-E6\" style=\"stroke: #383838; stroke-width: 1.0;\"/><polygon fill=\"#FFFFFF\" points=\"695,87.06,691,93.06,695,99.06,699,93.06,695,87.06\" style=\"stroke: #383838; stroke-width: 1.0;\"/><text fill=\"#000000\" font-family=\"sans-serif\" font-size=\"13\" lengthAdjust=\"spacingAndGlyphs\" textLength=\"8\" x=\"685.925\" y=\"135.8709\">1</text></a><!--MD5=[1c72b32696d764168c30777981ec3f66]\n",
       "reverse link E2 to E7--><a href=\"psysml:19699291-610c-4ae1-b014-dc666e944108\" target=\"_top\" title=\"psysml:19699291-610c-4ae1-b014-dc666e944108\" xlink:actuate=\"onRequest\" xlink:href=\"psysml:19699291-610c-4ae1-b014-dc666e944108\" xlink:show=\"new\" xlink:title=\"psysml:19699291-610c-4ae1-b014-dc666e944108\" xlink:type=\"simple\"><path d=\"M742.27,85.92 C782.29,103.63 839.48,128.94 880.2,146.96 \" fill=\"none\" id=\"E2&lt;-E7\" style=\"stroke: #383838; stroke-width: 1.0;\"/><polygon fill=\"#FFFFFF\" points=\"730.18,80.57,734.0492,86.6552,741.1544,85.4241,737.2852,79.3389,730.18,80.57\" style=\"stroke: #383838; stroke-width: 1.0;\"/><text fill=\"#000000\" font-family=\"sans-serif\" font-size=\"13\" lengthAdjust=\"spacingAndGlyphs\" textLength=\"8\" x=\"857.7413\" y=\"135.8455\">1</text></a><!--MD5=[65f962d72b3a6bed1ede4f3c867e43a4]\n",
       "reverse link E2 to E8--><a href=\"psysml:12852eec-c5e6-4501-a9bf-2e9b4999ee4a\" target=\"_top\" title=\"psysml:12852eec-c5e6-4501-a9bf-2e9b4999ee4a\" xlink:actuate=\"onRequest\" xlink:href=\"psysml:12852eec-c5e6-4501-a9bf-2e9b4999ee4a\" xlink:show=\"new\" xlink:title=\"psysml:12852eec-c5e6-4501-a9bf-2e9b4999ee4a\" xlink:type=\"simple\"><path d=\"M743.22,76.07 C817.62,93.15 961.68,126.22 1056.33,147.96 \" fill=\"none\" id=\"E2&lt;-E8\" style=\"stroke: #383838; stroke-width: 1.0;\"/><polygon fill=\"#FFFFFF\" points=\"730.17,73.07,735.1208,78.3131,741.8647,75.7596,736.9139,70.5166,730.17,73.07\" style=\"stroke: #383838; stroke-width: 1.0;\"/><text fill=\"#000000\" font-family=\"sans-serif\" font-size=\"13\" lengthAdjust=\"spacingAndGlyphs\" textLength=\"8\" x=\"1040.4073\" y=\"142.5887\">1</text></a><!--MD5=[4a91eb351f2fb42055d99b719d3dd418]\n",
       "reverse link E2 to E9--><a href=\"psysml:61d2d2ef-ad04-4d82-9091-f2d64987b2e2\" target=\"_top\" title=\"psysml:61d2d2ef-ad04-4d82-9091-f2d64987b2e2\" xlink:actuate=\"onRequest\" xlink:href=\"psysml:61d2d2ef-ad04-4d82-9091-f2d64987b2e2\" xlink:show=\"new\" xlink:title=\"psysml:61d2d2ef-ad04-4d82-9091-f2d64987b2e2\" xlink:type=\"simple\"><path d=\"M743.41,69.5 C841.28,79.16 1069.36,104.51 1257,147 C1262.66,148.28 1268.53,149.79 1274.35,151.41 \" fill=\"none\" id=\"E2&lt;-E9\" style=\"stroke: #383838; stroke-width: 1.0;\"/><polygon fill=\"#FFFFFF\" points=\"730.2,68.21,735.7852,72.7713,742.1438,69.3701,736.5586,64.8088,730.2,68.21\" style=\"stroke: #383838; stroke-width: 1.0;\"/><text fill=\"#000000\" font-family=\"sans-serif\" font-size=\"13\" lengthAdjust=\"spacingAndGlyphs\" textLength=\"8\" x=\"1258.6033\" y=\"144.9842\">1</text></a><!--MD5=[b87cb8dd556d6bb6c85fb866cd2de30f]\n",
       "link E3 to E10--><a href=\"psysml:e5430651-7167-4ad8-bd9b-335575524971\" target=\"_top\" title=\"psysml:e5430651-7167-4ad8-bd9b-335575524971\" xlink:actuate=\"onRequest\" xlink:href=\"psysml:e5430651-7167-4ad8-bd9b-335575524971\" xlink:show=\"new\" xlink:title=\"psysml:e5430651-7167-4ad8-bd9b-335575524971\" xlink:type=\"simple\"><path d=\"M76,193.06 C76,204.64 76,219.23 76,232.87 \" fill=\"none\" id=\"E3-&gt;E10\" style=\"stroke: #383838; stroke-width: 1.0;\"/><polygon fill=\"#FFFFFF\" points=\"76,252.98,69,233.98,83,233.98,76,252.98\" style=\"stroke: #383838; stroke-width: 1.0;\"/><ellipse cx=\"71\" cy=\"228.28\" fill=\"#383838\" rx=\"2\" ry=\"2\" style=\"stroke: #383838; stroke-width: 1.0;\"/><ellipse cx=\"81\" cy=\"228.28\" fill=\"#383838\" rx=\"2\" ry=\"2\" style=\"stroke: #383838; stroke-width: 1.0;\"/></a><!--MD5=[798a9a606aea02eb479f69458bcab9ef]\n",
       "link E4 to E11--><a href=\"psysml:760da7f9-3c5a-486d-80c9-4a1266524131\" target=\"_top\" title=\"psysml:760da7f9-3c5a-486d-80c9-4a1266524131\" xlink:actuate=\"onRequest\" xlink:href=\"psysml:760da7f9-3c5a-486d-80c9-4a1266524131\" xlink:show=\"new\" xlink:title=\"psysml:760da7f9-3c5a-486d-80c9-4a1266524131\" xlink:type=\"simple\"><path d=\"M233,193.06 C233,204.64 233,219.23 233,232.87 \" fill=\"none\" id=\"E4-&gt;E11\" style=\"stroke: #383838; stroke-width: 1.0;\"/><polygon fill=\"#FFFFFF\" points=\"233,252.98,226,233.98,240,233.98,233,252.98\" style=\"stroke: #383838; stroke-width: 1.0;\"/><ellipse cx=\"228\" cy=\"228.28\" fill=\"#383838\" rx=\"2\" ry=\"2\" style=\"stroke: #383838; stroke-width: 1.0;\"/><ellipse cx=\"238\" cy=\"228.28\" fill=\"#383838\" rx=\"2\" ry=\"2\" style=\"stroke: #383838; stroke-width: 1.0;\"/></a><!--MD5=[5e8699dd255f7bc1216657a2fdc55236]\n",
       "link E5 to E13--><a href=\"psysml:0ae82856-0519-444c-9414-0d7ffd3562e5\" target=\"_top\" title=\"psysml:0ae82856-0519-444c-9414-0d7ffd3562e5\" xlink:actuate=\"onRequest\" xlink:href=\"psysml:0ae82856-0519-444c-9414-0d7ffd3562e5\" xlink:show=\"new\" xlink:title=\"psysml:0ae82856-0519-444c-9414-0d7ffd3562e5\" xlink:type=\"simple\"><path d=\"M475.09,193.06 C491.15,206.64 512.1,224.35 530.41,239.84 \" fill=\"none\" id=\"E5-&gt;E13\" style=\"stroke: #383838; stroke-width: 1.0;\"/><polygon fill=\"#FFFFFF\" points=\"545.95,252.98,526.922,246.0564,535.9621,235.3663,545.95,252.98\" style=\"stroke: #383838; stroke-width: 1.0;\"/><ellipse cx=\"523.8611\" cy=\"240.8486\" fill=\"#383838\" rx=\"2\" ry=\"2\" style=\"stroke: #383838; stroke-width: 1.0;\"/><ellipse cx=\"530.3183\" cy=\"233.2129\" fill=\"#383838\" rx=\"2\" ry=\"2\" style=\"stroke: #383838; stroke-width: 1.0;\"/></a><!--MD5=[969d053797815cb9cccc7dd806c6a536]\n",
       "link E6 to E13--><a href=\"psysml:0f374058-628c-4042-8e13-79ac21317212\" target=\"_top\" title=\"psysml:0f374058-628c-4042-8e13-79ac21317212\" xlink:actuate=\"onRequest\" xlink:href=\"psysml:0f374058-628c-4042-8e13-79ac21317212\" xlink:show=\"new\" xlink:title=\"psysml:0f374058-628c-4042-8e13-79ac21317212\" xlink:type=\"simple\"><path d=\"M668.91,193.06 C652.85,206.64 631.9,224.35 613.59,239.84 \" fill=\"none\" id=\"E6-&gt;E13\" style=\"stroke: #383838; stroke-width: 1.0;\"/><polygon fill=\"#FFFFFF\" points=\"598.05,252.98,608.0379,235.3663,617.078,246.0564,598.05,252.98\" style=\"stroke: #383838; stroke-width: 1.0;\"/><ellipse cx=\"613.6817\" cy=\"233.2129\" fill=\"#383838\" rx=\"2\" ry=\"2\" style=\"stroke: #383838; stroke-width: 1.0;\"/><ellipse cx=\"620.1389\" cy=\"240.8486\" fill=\"#383838\" rx=\"2\" ry=\"2\" style=\"stroke: #383838; stroke-width: 1.0;\"/></a><!--MD5=[3ba7f84426a351b0878cd67bc7985a78]\n",
       "link E7 to E12--><a href=\"psysml:5a47d479-1f53-4ff9-838f-edd6fe8aa8db\" target=\"_top\" title=\"psysml:5a47d479-1f53-4ff9-838f-edd6fe8aa8db\" xlink:actuate=\"onRequest\" xlink:href=\"psysml:5a47d479-1f53-4ff9-838f-edd6fe8aa8db\" xlink:show=\"new\" xlink:title=\"psysml:5a47d479-1f53-4ff9-838f-edd6fe8aa8db\" xlink:type=\"simple\"><path d=\"M953.12,193.06 C967.13,206.43 985.35,223.81 1001.4,239.13 \" fill=\"none\" id=\"E7-&gt;E12\" style=\"stroke: #383838; stroke-width: 1.0;\"/><polygon fill=\"#FFFFFF\" points=\"1015.92,252.98,997.3471,244.9149,1007.019,234.7929,1015.92,252.98\" style=\"stroke: #383838; stroke-width: 1.0;\"/><ellipse cx=\"994.6077\" cy=\"239.531\" fill=\"#383838\" rx=\"2\" ry=\"2\" style=\"stroke: #383838; stroke-width: 1.0;\"/><ellipse cx=\"1001.5162\" cy=\"232.301\" fill=\"#383838\" rx=\"2\" ry=\"2\" style=\"stroke: #383838; stroke-width: 1.0;\"/></a><!--MD5=[79c20e47ca7a9634b8a878f2f41c203f]\n",
       "link E8 to E12--><a href=\"psysml:95152bd9-4cca-4ef6-aaa3-9c9b7a50ce19\" target=\"_top\" title=\"psysml:95152bd9-4cca-4ef6-aaa3-9c9b7a50ce19\" xlink:actuate=\"onRequest\" xlink:href=\"psysml:95152bd9-4cca-4ef6-aaa3-9c9b7a50ce19\" xlink:show=\"new\" xlink:title=\"psysml:95152bd9-4cca-4ef6-aaa3-9c9b7a50ce19\" xlink:type=\"simple\"><path d=\"M1124.88,193.06 C1110.87,206.43 1092.65,223.81 1076.6,239.13 \" fill=\"none\" id=\"E8-&gt;E12\" style=\"stroke: #383838; stroke-width: 1.0;\"/><polygon fill=\"#FFFFFF\" points=\"1062.08,252.98,1070.981,234.7929,1080.6529,244.9149,1062.08,252.98\" style=\"stroke: #383838; stroke-width: 1.0;\"/><ellipse cx=\"1076.4838\" cy=\"232.301\" fill=\"#383838\" rx=\"2\" ry=\"2\" style=\"stroke: #383838; stroke-width: 1.0;\"/><ellipse cx=\"1083.3923\" cy=\"239.531\" fill=\"#383838\" rx=\"2\" ry=\"2\" style=\"stroke: #383838; stroke-width: 1.0;\"/></a><!--MD5=[a1b670ebc151d08c00312062bddfc35e]\n",
       "link E9 to E14--><a href=\"psysml:6a8791ca-9344-49b6-8380-d4b83ac793d5\" target=\"_top\" title=\"psysml:6a8791ca-9344-49b6-8380-d4b83ac793d5\" xlink:actuate=\"onRequest\" xlink:href=\"psysml:6a8791ca-9344-49b6-8380-d4b83ac793d5\" xlink:show=\"new\" xlink:title=\"psysml:6a8791ca-9344-49b6-8380-d4b83ac793d5\" xlink:type=\"simple\"><path d=\"M1328,193.06 C1328,204.64 1328,219.23 1328,232.87 \" fill=\"none\" id=\"E9-&gt;E14\" style=\"stroke: #383838; stroke-width: 1.0;\"/><polygon fill=\"#FFFFFF\" points=\"1328,252.98,1321,233.98,1335,233.98,1328,252.98\" style=\"stroke: #383838; stroke-width: 1.0;\"/><ellipse cx=\"1323\" cy=\"228.28\" fill=\"#383838\" rx=\"2\" ry=\"2\" style=\"stroke: #383838; stroke-width: 1.0;\"/><ellipse cx=\"1333\" cy=\"228.28\" fill=\"#383838\" rx=\"2\" ry=\"2\" style=\"stroke: #383838; stroke-width: 1.0;\"/></a><!--MD5=[db3b54d6a87f59364485ea69465b5868]\n",
       "@startuml\r\n",
       "skinparam monochrome true\r\n",
       "skinparam classbackgroundcolor white\r\n",
       "skinparam shadowing false\r\n",
       "skinparam wrapWidth 300\r\n",
       "hide circle\r\n",
       "\r\n",
       "package \"Missiesystemen\" as E1  [[psysml:bd0fb87f-7992-455a-a673-cc08f7252c9a ]]  {\r\n",
       "comp def \"t_brug\" as E2  <<(T,blue) part  def>> [[psysml:a38a77e9-7195-4dfe-9738-a1066b21c049 ]] {\r\n",
       "}\r\n",
       "comp usage \"de_val: t_Val \" as E3  <<(T,blue) part>> [[psysml:b5ad0f4a-728d-461f-866d-9349b42f8214 ]] {\r\n",
       "}\r\n",
       "comp usage \"de_vaarweg: t_Vaarweg \" as E4  <<(T,blue) part>> [[psysml:7fe4e98e-59dd-4cdf-9fc4-692167ffccff ]] {\r\n",
       "}\r\n",
       "comp usage \"t_sein_links: t_Scheepvaartsein \" as E5  <<(T,blue) part>> [[psysml:0b3b9062-3b56-4862-ba1e-e77b9db69fe7 ]] {\r\n",
       "}\r\n",
       "comp usage \"t_sein_rechts: t_Scheepvaartsein \" as E6  <<(T,blue) part>> [[psysml:7d49bb04-f322-4555-8d1f-ea7c0181f31b ]] {\r\n",
       "}\r\n",
       "comp usage \"bruglicht_onder: t_Bruglicht \" as E7  <<(T,blue) part>> [[psysml:9ec3f31e-5cb8-4c83-af3c-92df63a19f03 ]] {\r\n",
       "}\r\n",
       "comp usage \"bruglicht_boven: t_Bruglicht \" as E8  <<(T,blue) part>> [[psysml:5cdc9b24-f26c-42b8-b62c-0692a23964ea ]] {\r\n",
       "}\r\n",
       "comp usage \"plc: t_Besturing \" as E9  <<(T,blue) part>> [[psysml:215e5164-abfb-4558-976b-d9f653a659db ]] {\r\n",
       "}\r\n",
       "comp def \"t_Val\" as E10  <<(T,blue) part  def>> [[psysml:88c7fd94-2044-475d-98fe-3bf743451385 ]] {\r\n",
       "}\r\n",
       "comp def \"t_Vaarweg\" as E11  <<(T,blue) part  def>> [[psysml:30ce5d8d-d442-4141-b7f9-c23457081fa7 ]] {\r\n",
       "}\r\n",
       "comp def \"t_Bruglicht\" as E12  <<(T,blue) part  def>> [[psysml:2de5f36f-ae70-47cf-9c1d-feddb26629ac ]] {\r\n",
       "}\r\n",
       "comp def \"t_Scheepvaartsein\" as E13  <<(T,blue) part  def>> [[psysml:eb012b9c-012a-44c8-8918-28f65ab0a8dd ]] {\r\n",
       "}\r\n",
       "comp def \"t_Besturing\" as E14  <<(T,blue) part  def>> [[psysml:f30314a8-a804-486c-897e-0caf4f97297f ]] {\r\n",
       "}\r\n",
       "}\r\n",
       "E2 o- - \"1\"E3 [[psysml:ca0c3ec6-f331-4374-8a8e-f8df60fc3fe2 ]] \r\n",
       "E2 o- - \"1\"E4 [[psysml:ccb16787-a424-4bee-b686-5dbe5e557986 ]] \r\n",
       "E2 o- - \"1\"E5 [[psysml:e495b159-21e0-46b1-be76-08c63dc56dbc ]] \r\n",
       "E2 o- - \"1\"E6 [[psysml:99c0bb87-ea58-4b67-9fcd-2acd7c200613 ]] \r\n",
       "E2 o- - \"1\"E7 [[psysml:19699291-610c-4ae1-b014-dc666e944108 ]] \r\n",
       "E2 o- - \"1\"E8 [[psysml:12852eec-c5e6-4501-a9bf-2e9b4999ee4a ]] \r\n",
       "E2 o- - \"1\"E9 [[psysml:61d2d2ef-ad04-4d82-9091-f2d64987b2e2 ]] \r\n",
       "E3 - -:|> E10 [[psysml:e5430651-7167-4ad8-bd9b-335575524971 ]] \r\n",
       "E4 - -:|> E11 [[psysml:760da7f9-3c5a-486d-80c9-4a1266524131 ]] \r\n",
       "E5 - -:|> E13 [[psysml:0ae82856-0519-444c-9414-0d7ffd3562e5 ]] \r\n",
       "E6 - -:|> E13 [[psysml:0f374058-628c-4042-8e13-79ac21317212 ]] \r\n",
       "E7 - -:|> E12 [[psysml:5a47d479-1f53-4ff9-838f-edd6fe8aa8db ]] \r\n",
       "E8 - -:|> E12 [[psysml:95152bd9-4cca-4ef6-aaa3-9c9b7a50ce19 ]] \r\n",
       "E9 - -:|> E14 [[psysml:6a8791ca-9344-49b6-8380-d4b83ac793d5 ]] \r\n",
       "@enduml\r\n",
       "\n",
       "PlantUML version 1.2020.13(Sat Jun 13 05:26:38 PDT 2020)\n",
       "(EPL source distribution)\n",
       "Java Runtime: OpenJDK Runtime Environment\n",
       "JVM: OpenJDK 64-Bit Server VM\n",
       "Default Encoding: UTF-8\n",
       "Language: en\n",
       "Country: US\n",
       "--></g></svg>"
      ]
     },
     "execution_count": 198,
     "metadata": {},
     "output_type": "execute_result"
    }
   ],
   "source": [
    "%viz naam van de package"
   ]
  },
  {
   "cell_type": "markdown",
   "id": "0bad927a",
   "metadata": {},
   "source": [
    "## 5. Bonus\n",
    "\n",
    "Als laatste moeten functies aan systemen worden gekoppeld, Als bonus geven we hier de SysML spec. Probeer zelf te bepalen wat hier nu precies gebeurt."
   ]
  },
  {
   "cell_type": "code",
   "execution_count": 201,
   "id": "16cf322e",
   "metadata": {},
   "outputs": [
    {
     "data": {
      "text/plain": [
       "Package Allocaties (e9a1fef8-c57c-4cf8-9e38-7d6e3650284e)\n"
      ]
     },
     "execution_count": 201,
     "metadata": {},
     "output_type": "execute_result"
    }
   ],
   "source": [
    "package Allocaties {\n",
    "    import Missiesystemen::*;\n",
    "    import Functieboom::*;\n",
    "    import OperationeleOmgeving::*;\n",
    "    \n",
    "    allocate 'Kruisen Verkeersstromen' to 'Operationele Omgeving';\n",
    "}"
   ]
  },
  {
   "cell_type": "markdown",
   "id": "b6503668",
   "metadata": {},
   "source": [
    "Vanaf dit punt herhalen de stappen van Functioneel Specificeren: \n",
    "\n",
    "- definieer functies voor ieder van de subsystemen,\n",
    "- stel eisen op per functie,\n",
    "- ontwerp een architectuur die de functies/eisen kan vervullen\n",
    "- alloceer de functies aan de subsystemen\n",
    "\n",
    "etc, etc."
   ]
  },
  {
   "cell_type": "code",
   "execution_count": null,
   "id": "6e609642",
   "metadata": {},
   "outputs": [],
   "source": []
  }
 ],
 "metadata": {
  "kernelspec": {
   "display_name": "SysML",
   "language": "sysml",
   "name": "sysml"
  },
  "language_info": {
   "codemirror_mode": "sysml",
   "file_extension": ".sysml",
   "mimetype": "text/x-sysml",
   "name": "SysML",
   "pygments_lexer": "java",
   "version": "1.0.0"
  }
 },
 "nbformat": 4,
 "nbformat_minor": 5
}
