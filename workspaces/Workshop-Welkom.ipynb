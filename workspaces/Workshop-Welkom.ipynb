{
 "cells": [
  {
   "cell_type": "markdown",
   "id": "1430eb4d",
   "metadata": {},
   "source": [
    "# Welkom\n",
    "\n",
    "Dit is het hoofd notebook van de sysml workshop. Eerst behandelen we de jupyter omgeving kort.\n",
    "\n",
    "Als je al bekend bent met sysml-jupyter, jump dan direct naar het model [wasson case](file:./Case/OperationeleOmgeving/wasson\\ OEA.ipynb)\n"
   ]
  },
  {
   "cell_type": "markdown",
   "id": "5887eb77",
   "metadata": {},
   "source": [
    "# jupyter basics\n",
    "\n",
    "Jupyter is een notebook met extra's in de balk ![balk](jupyter_menubar.png). Het 'play' icoontje doet een 'cell' uitvoeren. Al lezend door het notebook is het altijd goed om per cell 'play' uit te voeren en zien wat er gebeurt.\n",
    "\n",
    "Een tweede ding zijn de z.g. magic commando's, deze betreffen\n",
    "\n",
    "* ```%viz <modulenaam>```: visualiseer een module\n",
    "* ```%show <modulenaam>```: geef inzicht in de structuur van de module (tekstueel) \n",
    "* ```%export```\n",
    "* ```%list```\n",
    "* ```%publish```\n",
    "* ```%view```"
   ]
  },
  {
   "cell_type": "markdown",
   "id": "9731938e",
   "metadata": {},
   "source": [
    "# my first sysml\n",
    "We gaan in sneltreinvaart de volgende concepten door:\n",
    "\n",
    "* ```package```: de naam zegt het al, typisch dat wat je in 1 plaatje wilt hebben\n",
    "* ```part```: onderdeel met decompositie\n",
    "* ```action```: eenheid van gedrag\n",
    "* ```requirement```: om een eis uit te drukken\n",
    "\n",
    "* we stippen ook het principe van ```def``` aan, hiermee kun je types definieren\n"
   ]
  },
  {
   "cell_type": "code",
   "execution_count": 2,
   "id": "cb48dfc1",
   "metadata": {},
   "outputs": [
    {
     "data": {
      "text/plain": [
       "Package pakket (efdadbe0-c91e-4b72-8297-a73b5fa13c78)\n"
      ]
     },
     "execution_count": 2,
     "metadata": {},
     "output_type": "execute_result"
    }
   ],
   "source": [
    "package pakket {\n",
    "   part verbinding {\n",
    "       part bout;\n",
    "       part moer;\n",
    "   }\n",
    "}"
   ]
  },
  {
   "cell_type": "code",
   "execution_count": 3,
   "id": "eba9e211",
   "metadata": {},
   "outputs": [
    {
     "data": {
      "image/svg+xml": [
       "<?xml version=\"1.0\" encoding=\"UTF-8\" standalone=\"no\"?><svg xmlns=\"http://www.w3.org/2000/svg\" xmlns:xlink=\"http://www.w3.org/1999/xlink\" contentScriptType=\"application/ecmascript\" contentStyleType=\"text/css\" height=\"221px\" preserveAspectRatio=\"none\" style=\"width:189px;height:221px;\" version=\"1.1\" viewBox=\"0 0 189 221\" width=\"189px\" zoomAndPan=\"magnify\"><defs/><g><!--MD5=[fbc87193dbaf4d95561dea2c320d4a47]\n",
       "cluster E1--><a href=\"psysml:efdadbe0-c91e-4b72-8297-a73b5fa13c78\" target=\"_top\" title=\"psysml:efdadbe0-c91e-4b72-8297-a73b5fa13c78\" xlink:actuate=\"onRequest\" xlink:href=\"psysml:efdadbe0-c91e-4b72-8297-a73b5fa13c78\" xlink:show=\"new\" xlink:title=\"psysml:efdadbe0-c91e-4b72-8297-a73b5fa13c78\" xlink:type=\"simple\"><polygon fill=\"#FFFFFF\" points=\"16,6,75,6,82,28.2969,167,28.2969,167,209,16,209,16,6\" style=\"stroke: #000000; stroke-width: 1.5;\"/><line style=\"stroke: #000000; stroke-width: 1.5;\" x1=\"16\" x2=\"82\" y1=\"28.2969\" y2=\"28.2969\"/><text fill=\"#000000\" font-family=\"sans-serif\" font-size=\"14\" font-weight=\"bold\" lengthAdjust=\"spacingAndGlyphs\" textLength=\"53\" x=\"20\" y=\"20.9951\">pakket</text></a><!--MD5=[b4997ac47864f28c2f74865a473b2911]\n",
       "class E2--><a href=\"psysml:95651d3d-4e3d-49dd-9150-417750358beb\" target=\"_top\" title=\"psysml:95651d3d-4e3d-49dd-9150-417750358beb\" xlink:actuate=\"onRequest\" xlink:href=\"psysml:95651d3d-4e3d-49dd-9150-417750358beb\" xlink:show=\"new\" xlink:title=\"psysml:95651d3d-4e3d-49dd-9150-417750358beb\" xlink:type=\"simple\"><rect fill=\"#FFFFFF\" height=\"45.9375\" id=\"E2\" rx=\"10\" ry=\"10\" style=\"stroke: #383838; stroke-width: 1.5;\" width=\"75\" x=\"53.5\" y=\"41\"/><text fill=\"#000000\" font-family=\"sans-serif\" font-size=\"12\" font-style=\"italic\" lengthAdjust=\"spacingAndGlyphs\" textLength=\"40\" x=\"71\" y=\"57.1387\">«part»</text><text fill=\"#000000\" font-family=\"sans-serif\" font-size=\"12\" lengthAdjust=\"spacingAndGlyphs\" textLength=\"65\" x=\"56.5\" y=\"71.1074\">verbinding</text><line style=\"stroke: #383838; stroke-width: 1.5;\" x1=\"54.5\" x2=\"127.5\" y1=\"78.9375\" y2=\"78.9375\"/></a><!--MD5=[09b614a08d8cba4a07c9adeb5e0fee81]\n",
       "class E3--><a href=\"psysml:bdb37781-7c1e-4b26-bd3d-4c3ad203f2e1\" target=\"_top\" title=\"psysml:bdb37781-7c1e-4b26-bd3d-4c3ad203f2e1\" xlink:actuate=\"onRequest\" xlink:href=\"psysml:bdb37781-7c1e-4b26-bd3d-4c3ad203f2e1\" xlink:show=\"new\" xlink:title=\"psysml:bdb37781-7c1e-4b26-bd3d-4c3ad203f2e1\" xlink:type=\"simple\"><rect fill=\"#FFFFFF\" height=\"45.9375\" id=\"E3\" rx=\"10\" ry=\"10\" style=\"stroke: #383838; stroke-width: 1.5;\" width=\"42\" x=\"32\" y=\"147\"/><text fill=\"#000000\" font-family=\"sans-serif\" font-size=\"12\" font-style=\"italic\" lengthAdjust=\"spacingAndGlyphs\" textLength=\"40\" x=\"33\" y=\"163.1387\">«part»</text><text fill=\"#000000\" font-family=\"sans-serif\" font-size=\"12\" lengthAdjust=\"spacingAndGlyphs\" textLength=\"29\" x=\"36.5\" y=\"177.1074\">bout</text><line style=\"stroke: #383838; stroke-width: 1.5;\" x1=\"33\" x2=\"73\" y1=\"184.9375\" y2=\"184.9375\"/></a><!--MD5=[ebbe1d658d1005bcc118a6aa81145e00]\n",
       "class E4--><a href=\"psysml:3b1fa41d-f758-4380-b702-b9e4452aab83\" target=\"_top\" title=\"psysml:3b1fa41d-f758-4380-b702-b9e4452aab83\" xlink:actuate=\"onRequest\" xlink:href=\"psysml:3b1fa41d-f758-4380-b702-b9e4452aab83\" xlink:show=\"new\" xlink:title=\"psysml:3b1fa41d-f758-4380-b702-b9e4452aab83\" xlink:type=\"simple\"><rect fill=\"#FFFFFF\" height=\"45.9375\" id=\"E4\" rx=\"10\" ry=\"10\" style=\"stroke: #383838; stroke-width: 1.5;\" width=\"42\" x=\"109\" y=\"147\"/><text fill=\"#000000\" font-family=\"sans-serif\" font-size=\"12\" font-style=\"italic\" lengthAdjust=\"spacingAndGlyphs\" textLength=\"40\" x=\"110\" y=\"163.1387\">«part»</text><text fill=\"#000000\" font-family=\"sans-serif\" font-size=\"12\" lengthAdjust=\"spacingAndGlyphs\" textLength=\"32\" x=\"112\" y=\"177.1074\">moer</text><line style=\"stroke: #383838; stroke-width: 1.5;\" x1=\"110\" x2=\"150\" y1=\"184.9375\" y2=\"184.9375\"/></a><!--MD5=[209b3feb70ccb6233bfe1053d122c12c]\n",
       "reverse link E2 to E3--><a href=\"psysml:218bf2a6-99f3-4317-b466-deac6b8cce1b\" target=\"_top\" title=\"psysml:218bf2a6-99f3-4317-b466-deac6b8cce1b\" xlink:actuate=\"onRequest\" xlink:href=\"psysml:218bf2a6-99f3-4317-b466-deac6b8cce1b\" xlink:show=\"new\" xlink:title=\"psysml:218bf2a6-99f3-4317-b466-deac6b8cce1b\" xlink:type=\"simple\"><path d=\"M78.4,99.49 C72.68,115.15 66.08,133.19 61.05,146.98 \" fill=\"none\" id=\"E2&lt;-E3\" style=\"stroke: #383838; stroke-width: 1.0;\"/><polygon fill=\"#383838\" points=\"82.94,87.06,77.1196,91.317,78.8105,98.3271,84.6309,94.07,82.94,87.06\" style=\"stroke: #383838; stroke-width: 1.0;\"/><text fill=\"#000000\" font-family=\"sans-serif\" font-size=\"13\" lengthAdjust=\"spacingAndGlyphs\" textLength=\"8\" x=\"54.1384\" y=\"135.8709\">1</text></a><!--MD5=[9618e71518536f8baf3342ff6fdab317]\n",
       "reverse link E2 to E4--><a href=\"psysml:7ed0f7fe-3393-408d-96d2-1a8cb1b9fe05\" target=\"_top\" title=\"psysml:7ed0f7fe-3393-408d-96d2-1a8cb1b9fe05\" xlink:actuate=\"onRequest\" xlink:href=\"psysml:7ed0f7fe-3393-408d-96d2-1a8cb1b9fe05\" xlink:show=\"new\" xlink:title=\"psysml:7ed0f7fe-3393-408d-96d2-1a8cb1b9fe05\" xlink:type=\"simple\"><path d=\"M103.94,99.49 C109.8,115.15 116.57,133.19 121.74,146.98 \" fill=\"none\" id=\"E2&lt;-E4\" style=\"stroke: #383838; stroke-width: 1.0;\"/><polygon fill=\"#383838\" points=\"99.27,87.06,97.635,94.0833,103.4893,98.2938,105.1242,91.2705,99.27,87.06\" style=\"stroke: #383838; stroke-width: 1.0;\"/><text fill=\"#000000\" font-family=\"sans-serif\" font-size=\"13\" lengthAdjust=\"spacingAndGlyphs\" textLength=\"8\" x=\"110.4451\" y=\"135.8709\">1</text></a><!--MD5=[ebe5e9587728cf0f151e6cceb0e1ed53]\n",
       "@startuml\r\n",
       "skinparam monochrome true\r\n",
       "skinparam classbackgroundcolor white\r\n",
       "skinparam shadowing false\r\n",
       "skinparam wrapWidth 300\r\n",
       "hide circle\r\n",
       "\r\n",
       "package \"pakket\" as E1  [[psysml:efdadbe0-c91e-4b72-8297-a73b5fa13c78 ]]  {\r\n",
       "comp usage \"verbinding \" as E2  <<(T,blue) part>> [[psysml:95651d3d-4e3d-49dd-9150-417750358beb ]] {\r\n",
       "}\r\n",
       "comp usage \"bout \" as E3  <<(T,blue) part>> [[psysml:bdb37781-7c1e-4b26-bd3d-4c3ad203f2e1 ]] {\r\n",
       "}\r\n",
       "comp usage \"moer \" as E4  <<(T,blue) part>> [[psysml:3b1fa41d-f758-4380-b702-b9e4452aab83 ]] {\r\n",
       "}\r\n",
       "}\r\n",
       "E2 *- - \"1\"E3 [[psysml:218bf2a6-99f3-4317-b466-deac6b8cce1b ]] \r\n",
       "E2 *- - \"1\"E4 [[psysml:7ed0f7fe-3393-408d-96d2-1a8cb1b9fe05 ]] \r\n",
       "@enduml\r\n",
       "\n",
       "PlantUML version 1.2020.13(Sat Jun 13 14:26:38 CEST 2020)\n",
       "(EPL source distribution)\n",
       "Java Runtime: OpenJDK Runtime Environment\n",
       "JVM: OpenJDK 64-Bit Server VM\n",
       "Default Encoding: UTF-8\n",
       "Language: en\n",
       "Country: US\n",
       "--></g></svg>"
      ]
     },
     "execution_count": 3,
     "metadata": {},
     "output_type": "execute_result"
    }
   ],
   "source": [
    "%viz pakket "
   ]
  },
  {
   "cell_type": "code",
   "execution_count": 8,
   "id": "d7a5671e",
   "metadata": {},
   "outputs": [
    {
     "data": {
      "text/plain": [
       "Package reqPackage (02ec17fc-972a-484d-931a-37d3514cdfb8)\n"
      ]
     },
     "execution_count": 8,
     "metadata": {},
     "output_type": "execute_result"
    }
   ],
   "source": [
    "package reqPackage {\n",
    "    requirement <'Req.1'> {\n",
    "        doc /* deze requirement  */\n",
    "        \n",
    "        require reqOneOne;\n",
    "        require reqOneTwo;\n",
    "    }\n",
    "    requirement reqOneOne {\n",
    "    \n",
    "    }\n",
    "    \n",
    "    requirement reqOneTwo {}\n",
    "}"
   ]
  },
  {
   "cell_type": "code",
   "execution_count": 10,
   "id": "39b49d18",
   "metadata": {},
   "outputs": [
    {
     "data": {
      "image/svg+xml": [
       "<?xml version=\"1.0\" encoding=\"UTF-8\" standalone=\"no\"?><svg xmlns=\"http://www.w3.org/2000/svg\" xmlns:xlink=\"http://www.w3.org/1999/xlink\" contentScriptType=\"application/ecmascript\" contentStyleType=\"text/css\" height=\"284px\" preserveAspectRatio=\"none\" style=\"width:474px;height:284px;\" version=\"1.1\" viewBox=\"0 0 474 284\" width=\"474px\" zoomAndPan=\"magnify\"><defs/><g><!--MD5=[fbc87193dbaf4d95561dea2c320d4a47]\n",
       "cluster E1--><a href=\"psysml:02ec17fc-972a-484d-931a-37d3514cdfb8\" target=\"_top\" title=\"psysml:02ec17fc-972a-484d-931a-37d3514cdfb8\" xlink:actuate=\"onRequest\" xlink:href=\"psysml:02ec17fc-972a-484d-931a-37d3514cdfb8\" xlink:show=\"new\" xlink:title=\"psysml:02ec17fc-972a-484d-931a-37d3514cdfb8\" xlink:type=\"simple\"><polygon fill=\"#FFFFFF\" points=\"16,6,115,6,122,28.2969,452,28.2969,452,272,16,272,16,6\" style=\"stroke: #000000; stroke-width: 1.5;\"/><line style=\"stroke: #000000; stroke-width: 1.5;\" x1=\"16\" x2=\"122\" y1=\"28.2969\" y2=\"28.2969\"/><text fill=\"#000000\" font-family=\"sans-serif\" font-size=\"14\" font-weight=\"bold\" lengthAdjust=\"spacingAndGlyphs\" textLength=\"93\" x=\"20\" y=\"20.9951\">reqPackage</text></a><!--MD5=[b4997ac47864f28c2f74865a473b2911]\n",
       "class E2--><a href=\"psysml:67895d34-6e54-4ccf-b87a-f8f16f4b105e\" target=\"_top\" title=\"psysml:67895d34-6e54-4ccf-b87a-f8f16f4b105e\" xlink:actuate=\"onRequest\" xlink:href=\"psysml:67895d34-6e54-4ccf-b87a-f8f16f4b105e\" xlink:show=\"new\" xlink:title=\"psysml:67895d34-6e54-4ccf-b87a-f8f16f4b105e\" xlink:type=\"simple\"><rect fill=\"#FFFFFF\" height=\"109.1563\" id=\"E2\" rx=\"10\" ry=\"10\" style=\"stroke: #383838; stroke-width: 1.5;\" width=\"127\" x=\"42.5\" y=\"147\"/><text fill=\"#000000\" font-family=\"sans-serif\" font-size=\"12\" font-style=\"italic\" lengthAdjust=\"spacingAndGlyphs\" textLength=\"91\" x=\"60.5\" y=\"163.1387\">«requirement»</text><text fill=\"#000000\" font-family=\"sans-serif\" font-size=\"12\" lengthAdjust=\"spacingAndGlyphs\" text-decoration=\"line-through\" textLength=\"51\" x=\"78.5\" y=\"177.1074\">noname</text><text fill=\"#000000\" font-family=\"sans-serif\" font-size=\"12\" lengthAdjust=\"spacingAndGlyphs\" textLength=\"0\" x=\"133.5\" y=\"177.1074\"/><line style=\"stroke: #383838; stroke-width: 1.5;\" x1=\"43.5\" x2=\"168.5\" y1=\"184.9375\" y2=\"184.9375\"/><text fill=\"#000000\" font-family=\"sans-serif\" font-size=\"11\" lengthAdjust=\"spacingAndGlyphs\" textLength=\"100\" x=\"48.5\" y=\"199.1479\">deze requirement</text><line style=\"stroke: #383838; stroke-width: 1.0;\" x1=\"43.5\" x2=\"168.5\" y1=\"205.7422\" y2=\"205.7422\"/><text fill=\"#000000\" font-family=\"sans-serif\" font-size=\"11\" font-weight=\"bold\" lengthAdjust=\"spacingAndGlyphs\" textLength=\"46\" x=\"48.5\" y=\"236.7573\">require</text><text fill=\"#000000\" font-family=\"sans-serif\" font-size=\"11\" lengthAdjust=\"spacingAndGlyphs\" textLength=\"65\" x=\"98.5\" y=\"236.7573\">reqOneOne</text><text fill=\"#000000\" font-family=\"sans-serif\" font-size=\"11\" font-weight=\"bold\" lengthAdjust=\"spacingAndGlyphs\" textLength=\"46\" x=\"48.5\" y=\"249.562\">require</text><text fill=\"#000000\" font-family=\"sans-serif\" font-size=\"11\" lengthAdjust=\"spacingAndGlyphs\" textLength=\"65\" x=\"98.5\" y=\"249.562\">reqOneTwo</text><line style=\"stroke: #383838; stroke-width: 1.0;\" x1=\"43.5\" x2=\"74\" y1=\"220.1445\" y2=\"220.1445\"/><text fill=\"#000000\" font-family=\"sans-serif\" font-size=\"11\" lengthAdjust=\"spacingAndGlyphs\" textLength=\"64\" x=\"74\" y=\"223.4526\">constraints</text><line style=\"stroke: #383838; stroke-width: 1.0;\" x1=\"138\" x2=\"168.5\" y1=\"220.1445\" y2=\"220.1445\"/></a><!--MD5=[ebbe1d658d1005bcc118a6aa81145e00]\n",
       "class E4--><a href=\"psysml:b4559c0b-892a-446e-b51f-124741b0c4d8\" target=\"_top\" title=\"psysml:b4559c0b-892a-446e-b51f-124741b0c4d8\" xlink:actuate=\"onRequest\" xlink:href=\"psysml:b4559c0b-892a-446e-b51f-124741b0c4d8\" xlink:show=\"new\" xlink:title=\"psysml:b4559c0b-892a-446e-b51f-124741b0c4d8\" xlink:type=\"simple\"><rect fill=\"#FFFFFF\" height=\"45.9375\" id=\"E4\" rx=\"10\" ry=\"10\" style=\"stroke: #383838; stroke-width: 1.5;\" width=\"93\" x=\"343.5\" y=\"41\"/><text fill=\"#000000\" font-family=\"sans-serif\" font-size=\"12\" font-style=\"italic\" lengthAdjust=\"spacingAndGlyphs\" textLength=\"91\" x=\"344.5\" y=\"57.1387\">«requirement»</text><text fill=\"#000000\" font-family=\"sans-serif\" font-size=\"12\" lengthAdjust=\"spacingAndGlyphs\" textLength=\"71\" x=\"352.5\" y=\"71.1074\">reqOneOne</text><line style=\"stroke: #383838; stroke-width: 1.5;\" x1=\"344.5\" x2=\"435.5\" y1=\"78.9375\" y2=\"78.9375\"/></a><!--MD5=[270fce915f116d4de14055a7c1d9a0f3]\n",
       "class E5--><a href=\"psysml:a44bd66b-6fc4-4ee1-a448-f26c61b1836a\" target=\"_top\" title=\"psysml:a44bd66b-6fc4-4ee1-a448-f26c61b1836a\" xlink:actuate=\"onRequest\" xlink:href=\"psysml:a44bd66b-6fc4-4ee1-a448-f26c61b1836a\" xlink:show=\"new\" xlink:title=\"psysml:a44bd66b-6fc4-4ee1-a448-f26c61b1836a\" xlink:type=\"simple\"><rect fill=\"#FFFFFF\" height=\"45.9375\" id=\"E5\" rx=\"10\" ry=\"10\" style=\"stroke: #383838; stroke-width: 1.5;\" width=\"93\" x=\"215.5\" y=\"41\"/><text fill=\"#000000\" font-family=\"sans-serif\" font-size=\"12\" font-style=\"italic\" lengthAdjust=\"spacingAndGlyphs\" textLength=\"91\" x=\"216.5\" y=\"57.1387\">«requirement»</text><text fill=\"#000000\" font-family=\"sans-serif\" font-size=\"12\" lengthAdjust=\"spacingAndGlyphs\" textLength=\"70\" x=\"225\" y=\"71.1074\">reqOneTwo</text><line style=\"stroke: #383838; stroke-width: 1.5;\" x1=\"216.5\" x2=\"307.5\" y1=\"78.9375\" y2=\"78.9375\"/></a><path d=\"M32,51.5 L32,76.6328 A0,0 0 0 0 32,76.6328 L102,76.6328 L106,146.69 L110,76.6328 L180,76.6328 A0,0 0 0 0 180,76.6328 L180,61.5 L170,51.5 L32,51.5 A0,0 0 0 0 32,51.5 \" fill=\"#ECECEC\" style=\"stroke: #383838; stroke-width: 1.0;\"/><path d=\"M170,51.5 L170,61.5 L180,61.5 L170,51.5 \" fill=\"#ECECEC\" style=\"stroke: #383838; stroke-width: 1.0;\"/><a href=\"psysml:b175bd37-1b8e-478a-a098-4e02bfde3dd4\" target=\"_top\" title=\"psysml:b175bd37-1b8e-478a-a098-4e02bfde3dd4\" xlink:actuate=\"onRequest\" xlink:href=\"psysml:b175bd37-1b8e-478a-a098-4e02bfde3dd4\" xlink:show=\"new\" xlink:title=\"psysml:b175bd37-1b8e-478a-a098-4e02bfde3dd4\" xlink:type=\"simple\"><text fill=\"#1C1C1C\" font-family=\"sans-serif\" font-size=\"13\" lengthAdjust=\"spacingAndGlyphs\" text-decoration=\"underline\" textLength=\"13\" x=\"38\" y=\"68.5669\">@</text></a><text fill=\"#000000\" font-family=\"sans-serif\" font-size=\"13\" lengthAdjust=\"spacingAndGlyphs\" textLength=\"114\" x=\"51\" y=\"68.5669\">deze requirement</text><!--MD5=[bcb47600ae43e1c670e604ffc8d7e7d8]\n",
       "@startuml\r\n",
       "skinparam monochrome true\r\n",
       "skinparam classbackgroundcolor white\r\n",
       "skinparam shadowing false\r\n",
       "skinparam wrapWidth 300\r\n",
       "hide circle\r\n",
       "\r\n",
       "package \"reqPackage\" as E1  [[psysml:02ec17fc-972a-484d-931a-37d3514cdfb8 ]]  {\r\n",
       "comp usage \"<s>noname</s> \" as E2  <<(T,blue) requirement>> [[psysml:67895d34-6e54-4ccf-b87a-f8f16f4b105e ]] {\r\n",
       "deze requirement\r\n",
       "- -\r\n",
       "- - constraints - -\r\n",
       "<b>require</b> reqOneOne\r\n",
       "<b>require</b> reqOneTwo\r\n",
       "}\r\n",
       "comp usage \"reqOneOne \" as E4  <<(T,blue) requirement>> [[psysml:b4559c0b-892a-446e-b51f-124741b0c4d8 ]] {\r\n",
       "}\r\n",
       "comp usage \"reqOneTwo \" as E5  <<(T,blue) requirement>> [[psysml:a44bd66b-6fc4-4ee1-a448-f26c61b1836a ]] {\r\n",
       "}\r\n",
       "note as E3\r\n",
       "[[psysml:b175bd37-1b8e-478a-a098-4e02bfde3dd4 @]]deze requirement\r\n",
       "end note \r\n",
       "}\r\n",
       "E3 .. E2 [[psysml:b175bd37-1b8e-478a-a098-4e02bfde3dd4 ]] \r\n",
       "@enduml\r\n",
       "\n",
       "PlantUML version 1.2020.13(Sat Jun 13 14:26:38 CEST 2020)\n",
       "(EPL source distribution)\n",
       "Java Runtime: OpenJDK Runtime Environment\n",
       "JVM: OpenJDK 64-Bit Server VM\n",
       "Default Encoding: UTF-8\n",
       "Language: en\n",
       "Country: US\n",
       "--></g></svg>"
      ]
     },
     "execution_count": 10,
     "metadata": {},
     "output_type": "execute_result"
    }
   ],
   "source": [
    "%viz reqPackage"
   ]
  },
  {
   "cell_type": "code",
   "execution_count": null,
   "id": "c7795c41",
   "metadata": {},
   "outputs": [],
   "source": []
  }
 ],
 "metadata": {
  "kernelspec": {
   "display_name": "SysML",
   "language": "sysml",
   "name": "sysml"
  },
  "language_info": {
   "codemirror_mode": "sysml",
   "file_extension": ".sysml",
   "mimetype": "text/x-sysml",
   "name": "SysML",
   "pygments_lexer": "java",
   "version": "1.0.0"
  }
 },
 "nbformat": 4,
 "nbformat_minor": 5
}
