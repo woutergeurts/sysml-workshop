{
 "cells": [
  {
   "cell_type": "markdown",
   "id": "2f5f8b88",
   "metadata": {},
   "source": [
    "# Beweegbare brug casus\n",
    "## Proces 'Functioneel Specificeren'\n",
    "Functioneel specificeren is een eenvoudig proces om eisen op te stellen voor een te bouwen systeem. Hiertoe worden een objectenboom, een functieboom en eisen opgesteld. Dit proces moet niet worden verward met functionele analyse zoals bedoeld in het proces voor Functionele Analyse. De twee aanpakken zijn fundamenteel verschillend. Bij Functioneel Specificeren zijn functies bedoeld als \"hoog-over\" systeemmogelijkheden, terwijl bij Functionele Analyse functies gedragsbeschrijvingen (transformaties van Energie, Materiaal of Informatie) zijn.\n",
    "\n",
    "`Functieboom` is een hierarchie van functies, waarbij de *onderliggende* functies samen de *bovenliggende* functie vormen.  \n",
    "`Objectenboom` is een hierarchie van systeemelementen, die de dienst doen als functievervullers.  \n",
    "`Eisen`, oftwel de functionele eisen, zijn eisen die behoren bij een functie. De criteria waaraan die eisen moeten voldoen (volledigheid, precisie) hangt sterk af van de organisatie die de eisen opstelt.\n",
    "\n",
    "## Stappenplan\n",
    "In de casus zullen we het volgende stappenplan volgen:\n",
    "\n",
    "1. Identifieer het systeem\n",
    "2. Bepaal wat het systeem moet doen (opgeschreven als `werkwoord` + `lijdend voorwerp`).\n",
    "3. Stel de eisen op voor idere functie die zojuist zijn geidentificeeerd\n",
    "4. Werk het systeem uit in subsystemen (decompositie), zodanig dat deze voldoet aan de eisen.\n",
    "\n",
    "**aandachtspunten**\n",
    "1. Een systeem heeft *gegeven* `externe raakvlakken` / interfaces. Denk daarbij aan de inpassing in de omgeving, contextsystemen, etc. Alle relaties met entiteiten die zelf niet binnen de systeemgrenzen vallen.  Externe raakvlakken **kunnen** eisen opleggen aan het systeem.\n",
    "2. Als een systeem wordt opgeknipt in subsystemen, dan dienen die subsystemen samen weer het systeem te vormen, qua structuur *maar ook qua gedrag*. Dat houdt in dat elke decompositie van een systeem leidt tot een verzameling subsystemen die onderling een interactie moeten aangaan. Die interactie verloopt via `interne raakvlakken`. Eisen voor die interne raakvlakken dienen ook opgesteld te worden.\n",
    "\n",
    "In de casus zullen we min of meer het proces van functioneel specificeren volgen. De opdrachten leiden langs de stappen van functioneel specificeren.\n",
    "\n",
    "\n",
    "## Het probleem\n",
    "Er zijn twee verkeesrstromen (scheepvaart en wegverkeer) die elkaar moeten kruisen.\n",
    "\n",
    "![probleem](Problem-to-be-solved.png)\n",
    "\n",
    "Mogelijke oplossingen:\n",
    "1. Een tunnel onder de rivier\n",
    "2. Een (hoge) vaste brug over de rivier\n",
    "3. Een beweegbare brug over de rivier\n",
    "4. Omrijden, Luchtbrug, 'Star Trek' transporter etc....\n",
    "\n",
    "Er is een besluit genomen om een beweegbare brug te gebruiken om de twee modaliteiten te laten kruisen. Deze beslissing kan overigens al worden gezien al een ontwerpbeperking of eis.\n",
    "\n",
    "![casus](Bridge-as-principal-solution.png)\n"
   ]
  },
  {
   "cell_type": "markdown",
   "id": "dbe5751d",
   "metadata": {},
   "source": [
    "## Klassikale opdracht\n",
    "De eerste stap!\n",
    "\n",
    "We vragen ons in de eerste instantie af:\n",
    "\n",
    "1. Wat is het systeem, *precies*?\n",
    " - Wat zijn de mensgemaakte dingen?\n",
    " - Wat zijn de natuurlijke dingen in de omgeving?\n",
    "2. Wat gaat er in / of uit het systeem (materiaal, energie en/of informatie)?\n",
    "3. Waardoor wordt de totstandkoming en/of werking van het systeem beinvloedt?\n",
    "\n",
    "Alle elementen die we hierboven hebben geidentificeerd moeten in een package komen. Een package is een soort container, of vergelijkbaar met een folder in een directory-structuur. Die structuur hiervoor is volledig naar eigen smaak in te richten, maar voor nu definieren we een simpele package om de verkeersstromen te modelleren.\n",
    "\n",
    "Om een package te definieren, gebruiken we het keyword `package`, gevolgd door de naam van de package. Dus: \n",
    "```\n",
    "package Verkeer {  \n",
    "}\n",
    "```\n",
    "Tussen de accolades die na het keyword + naam komt plaatsen we de items. Een item wordt gespecificeerd met het keyword `item`, gevolgd door de naam. De `statement` sluiten we altijd af met een `;`.\n",
    "\n",
    "```\n",
    "item naam_van_de_item;\n",
    "```\n",
    "\n",
    "We defineren nu eerst `voertuig` en `vaartuig`. (Aan andere verkeersstromen zoals voetgangers, treinverkeer, etc.  wordt nu even niet gedacht...)"
   ]
  },
  {
   "cell_type": "code",
   "execution_count": 7,
   "id": "6ae256ec",
   "metadata": {},
   "outputs": [
    {
     "data": {
      "text/plain": [
       "Package Verkeer (3dc2f547-3fc1-4ceb-a874-25180d0085a7)\n"
      ]
     },
     "execution_count": 7,
     "metadata": {},
     "output_type": "execute_result"
    }
   ],
   "source": [
    "package Verkeer {\n",
    "    item voertuig;\n",
    "    item vaartuig;\n",
    "}"
   ]
  },
  {
   "cell_type": "code",
   "execution_count": 9,
   "id": "aa724e12",
   "metadata": {},
   "outputs": [],
   "source": [
    "%viz Verkeer"
   ]
  },
  {
   "cell_type": "markdown",
   "id": "38d48939",
   "metadata": {},
   "source": [
    "Nu hebben we een idee hoe de SysML v2 code wordt geinterpreteerd en gevisualiseerd.\n",
    "\n",
    "\n",
    "# Usage en Definition\n",
    "\n",
    "Een van de meest belangrijke concepten binnen SysML v2 is:\n",
    "\n",
    "- de *definition*, een definitie van *iets*\n",
    "- een *usage*, waarin de een gedefinieerd *iets* wordt gebruikt in een context\n",
    "\n"
   ]
  },
  {
   "cell_type": "markdown",
   "id": "b1bd0d59",
   "metadata": {},
   "source": [
    "Deze items (continue stromen van...) worden uitgewisseld tussen het systeem en zijn omgeving.\n",
    "\n",
    "## Opdracht 1. Topfuncties\n",
    "\n",
    "In het eerste diagram in dit document werd gesproken over `Kruisen verkeerstromen`. Beschouw dit als de topfunctie van het systeem. Het systeem is hier nu een `Beweegbare Brug`.  Welke onderliggende functies kunnen worden geidentificeerd?\n",
    "\n",
    "\n",
    "\n",
    "Functies worden beschreven door de `action` (een *usage*) of `action def` (een *definition*).\n",
    "\n",
    "```\n",
    "action naam_van_modelelement {  \n",
    "/* hier komt de inhoud van de action */  \n",
    "}\n",
    "```\n",
    "\n",
    "of:\n",
    "\n",
    "```\n",
    "action def naam_van_modelelement {  \n",
    "/* hier komt de inhoud van de action */  \n",
    "}\n",
    "```\n",
    "\n",
    "Bedenk dat als een definitie wordt gemaakt, er ook nog een *usage* moet worden gemaakt: de functie moet nog worden geinstantieerd.\n",
    "Functies staan in een functieboom, en voor de functieboom maken we een package aan. (bijv. `Functieboom`)"
   ]
  },
  {
   "cell_type": "markdown",
   "id": "7beab119",
   "metadata": {},
   "source": []
  },
  {
   "cell_type": "markdown",
   "id": "86b644a3",
   "metadata": {},
   "source": [
    "## Opdracht 1a\n",
    "\n",
    "Maak een packagestructuur die als volgt is georganiseerd:\n",
    "\n",
    "```\n",
    "Operationele Omgeving\n",
    "  Mensgemaakte Systemen\n",
    "  Natuurlijke ongevingselementen\n",
    "  Geinduceerde Omgevingselementen\n",
    "```\n",
    "\n",
    "Plaats `t_Waterbody` (representatie voor de rivier) en `t_Motorway` (Representatie voor de weg) in de juiste package\n",
    "\n",
    "Let op: een 'ding' wordt met een een `part\n",
    "\n",
    "## Opdracht 1b\n",
    "Speel eens met part en part def  \n",
    "Haal de \"def\" van de \"part def\" van t_Operating environment af. \n",
    "\n",
    "Wat gebeurt nu?"
   ]
  },
  {
   "cell_type": "code",
   "execution_count": 1,
   "id": "5eb5298e",
   "metadata": {},
   "outputs": [
    {
     "data": {
      "text/plain": [
       "Package OperationeleOmgeving (4e1786d4-4049-459e-a590-73cf68b11191)\n"
      ]
     },
     "execution_count": 1,
     "metadata": {},
     "output_type": "execute_result"
    }
   ],
   "source": [
    "package 'OperationeleOmgeving' {\n",
    "    \n",
    "    package 'Mensgemaakte Systemen'{\n",
    "        doc /* Door mensen gemaakte systemen, die een \n",
    "        relatie hebben met het SOI */\n",
    "        part def t_Snelweg {\n",
    "        \n",
    "        }    \n",
    "    }   \n",
    "    \n",
    "    package 'Natuurlijke Omgevingselementen'{\n",
    "        doc /* Natuurlijke omgevingselementen - of factoren\n",
    "        voor het systeem, die niet door de mens zijn gemaakt. */\n",
    "        \n",
    "        part def t_Waterlichaam {\n",
    "        \n",
    "        }\n",
    "    }\n",
    "    \n",
    "    package 'Geinduceerde Omgevingselementen'{\n",
    "        doc /* Fenomenen die optreden als natuurlijke omgevingselementen interacteren\n",
    "        met mensgemaakte systemen (bijv. bliksem, luchttemperatuur, lichtniveau) */\n",
    "            \n",
    "    }\n",
    "    \n",
    "    part def 'Operationele Omgeving' {\n",
    "        part rechts: 'Natuurlijke Omgevingselementen'::t_Waterlichaam;\n",
    "        part link:   'Natuurlijke Omgevingselementen'::t_Waterlichaam;\n",
    "        part boven:  'Mensgemaakte Systemen'::t_Snelweg;\n",
    "        part onder:  'Mensgemaakte Systemen'::t_Snelweg;\n",
    "    }\n",
    "    \n",
    "\n",
    "}"
   ]
  },
  {
   "cell_type": "code",
   "execution_count": 2,
   "id": "091b201b",
   "metadata": {},
   "outputs": [
    {
     "data": {
      "image/svg+xml": [
       "<?xml version=\"1.0\" encoding=\"UTF-8\" standalone=\"no\"?><svg xmlns=\"http://www.w3.org/2000/svg\" xmlns:xlink=\"http://www.w3.org/1999/xlink\" contentScriptType=\"application/ecmascript\" contentStyleType=\"text/css\" height=\"529px\" preserveAspectRatio=\"none\" style=\"width:1104px;height:529px;\" version=\"1.1\" viewBox=\"0 0 1104 529\" width=\"1104px\" zoomAndPan=\"magnify\"><defs/><g><!--MD5=[fbc87193dbaf4d95561dea2c320d4a47]\n",
       "cluster E1--><a href=\"psysml:4e1786d4-4049-459e-a590-73cf68b11191\" target=\"_top\" title=\"psysml:4e1786d4-4049-459e-a590-73cf68b11191\" xlink:actuate=\"onRequest\" xlink:href=\"psysml:4e1786d4-4049-459e-a590-73cf68b11191\" xlink:show=\"new\" xlink:title=\"psysml:4e1786d4-4049-459e-a590-73cf68b11191\" xlink:type=\"simple\"><polygon fill=\"#FFFFFF\" points=\"16,6,203,6,210,28.2969,1082,28.2969,1082,517.08,16,517.08,16,6\" style=\"stroke: #000000; stroke-width: 1.5;\"/><line style=\"stroke: #000000; stroke-width: 1.5;\" x1=\"16\" x2=\"210\" y1=\"28.2969\" y2=\"28.2969\"/><text fill=\"#000000\" font-family=\"sans-serif\" font-size=\"14\" font-weight=\"bold\" lengthAdjust=\"spacingAndGlyphs\" textLength=\"181\" x=\"20\" y=\"20.9951\">OperationeleOmgeving</text></a><!--MD5=[e4f7fae6ed58524ba242bb0b0d3be6b7]\n",
       "cluster E2--><a href=\"psysml:3b4b73f3-1566-4e24-8937-0638e8f6ae4d\" target=\"_top\" title=\"psysml:3b4b73f3-1566-4e24-8937-0638e8f6ae4d\" xlink:actuate=\"onRequest\" xlink:href=\"psysml:3b4b73f3-1566-4e24-8937-0638e8f6ae4d\" xlink:show=\"new\" xlink:title=\"psysml:3b4b73f3-1566-4e24-8937-0638e8f6ae4d\" xlink:type=\"simple\"><polygon fill=\"#FFFFFF\" points=\"583,314.86,791,314.86,798,337.1569,1048,337.1569,1048,485.08,583,485.08,583,314.86\" style=\"stroke: #000000; stroke-width: 1.5;\"/><line style=\"stroke: #000000; stroke-width: 1.5;\" x1=\"583\" x2=\"798\" y1=\"337.1569\" y2=\"337.1569\"/><text fill=\"#000000\" font-family=\"sans-serif\" font-size=\"14\" font-weight=\"bold\" lengthAdjust=\"spacingAndGlyphs\" textLength=\"202\" x=\"587\" y=\"329.8551\">Mensgemaakte Systemen</text></a><!--MD5=[de5ec2e2e8f62f467e546659f5068c88]\n",
       "cluster E5--><a href=\"psysml:bc967a76-903a-45ea-8dc1-fa53f6cbb2b1\" target=\"_top\" title=\"psysml:bc967a76-903a-45ea-8dc1-fa53f6cbb2b1\" xlink:actuate=\"onRequest\" xlink:href=\"psysml:bc967a76-903a-45ea-8dc1-fa53f6cbb2b1\" xlink:show=\"new\" xlink:title=\"psysml:bc967a76-903a-45ea-8dc1-fa53f6cbb2b1\" xlink:type=\"simple\"><polygon fill=\"#FFFFFF\" points=\"48,302.36,315,302.36,322,324.6569,543,324.6569,543,485.08,48,485.08,48,302.36\" style=\"stroke: #000000; stroke-width: 1.5;\"/><line style=\"stroke: #000000; stroke-width: 1.5;\" x1=\"48\" x2=\"322\" y1=\"324.6569\" y2=\"324.6569\"/><text fill=\"#000000\" font-family=\"sans-serif\" font-size=\"14\" font-weight=\"bold\" lengthAdjust=\"spacingAndGlyphs\" textLength=\"261\" x=\"52\" y=\"317.3551\">Natuurlijke Omgevingselementen</text></a><!--MD5=[55dfccfc6c49c2d10cd1bd2211a6c90c]\n",
       "cluster E8--><a href=\"psysml:da1d3b1b-d9ca-4189-97ec-3d47cfb670f6\" target=\"_top\" title=\"psysml:da1d3b1b-d9ca-4189-97ec-3d47cfb670f6\" xlink:actuate=\"onRequest\" xlink:href=\"psysml:da1d3b1b-d9ca-4189-97ec-3d47cfb670f6\" xlink:show=\"new\" xlink:title=\"psysml:da1d3b1b-d9ca-4189-97ec-3d47cfb670f6\" xlink:type=\"simple\"><polygon fill=\"#FFFFFF\" points=\"688,57,983,57,990,79.2969,1050,79.2969,1050,262.36,688,262.36,688,57\" style=\"stroke: #000000; stroke-width: 1.5;\"/><line style=\"stroke: #000000; stroke-width: 1.5;\" x1=\"688\" x2=\"990\" y1=\"79.2969\" y2=\"79.2969\"/><text fill=\"#000000\" font-family=\"sans-serif\" font-size=\"14\" font-weight=\"bold\" lengthAdjust=\"spacingAndGlyphs\" textLength=\"289\" x=\"692\" y=\"71.9951\">Geinduceerde Omgevingselementen</text></a><!--MD5=[96f4274e9e20536e775497830990834d]\n",
       "class E10--><a href=\"psysml:99958dc1-6ec2-4718-808b-1957ef9a01fa\" target=\"_top\" title=\"psysml:99958dc1-6ec2-4718-808b-1957ef9a01fa\" xlink:actuate=\"onRequest\" xlink:href=\"psysml:99958dc1-6ec2-4718-808b-1957ef9a01fa\" xlink:show=\"new\" xlink:title=\"psysml:99958dc1-6ec2-4718-808b-1957ef9a01fa\" xlink:type=\"simple\"><rect fill=\"#FFFFFF\" height=\"45.9375\" id=\"E10\" style=\"stroke: #383838; stroke-width: 1.5;\" width=\"152\" x=\"294\" y=\"112.5\"/><text fill=\"#000000\" font-family=\"sans-serif\" font-size=\"12\" font-style=\"italic\" lengthAdjust=\"spacingAndGlyphs\" textLength=\"68\" x=\"336\" y=\"128.6387\">«part  def»</text><text fill=\"#000000\" font-family=\"sans-serif\" font-size=\"12\" lengthAdjust=\"spacingAndGlyphs\" textLength=\"146\" x=\"297\" y=\"142.6074\">Operationele Omgeving</text><line style=\"stroke: #383838; stroke-width: 1.5;\" x1=\"295\" x2=\"445\" y1=\"150.4375\" y2=\"150.4375\"/></a><!--MD5=[1dd1bfd58a279cf63c5f349dbc8fc6a1]\n",
       "class E11--><a href=\"psysml:a12fb4c1-b3d9-4484-b1da-8f245bb89340\" target=\"_top\" title=\"psysml:a12fb4c1-b3d9-4484-b1da-8f245bb89340\" xlink:actuate=\"onRequest\" xlink:href=\"psysml:a12fb4c1-b3d9-4484-b1da-8f245bb89340\" xlink:show=\"new\" xlink:title=\"psysml:a12fb4c1-b3d9-4484-b1da-8f245bb89340\" xlink:type=\"simple\"><rect fill=\"#FFFFFF\" height=\"45.9375\" id=\"E11\" rx=\"10\" ry=\"10\" style=\"stroke: #383838; stroke-width: 1.5;\" width=\"154\" x=\"32\" y=\"231\"/><text fill=\"#000000\" font-family=\"sans-serif\" font-size=\"12\" font-style=\"italic\" lengthAdjust=\"spacingAndGlyphs\" textLength=\"40\" x=\"89\" y=\"247.1387\">«part»</text><text fill=\"#000000\" font-family=\"sans-serif\" font-size=\"12\" lengthAdjust=\"spacingAndGlyphs\" textLength=\"144\" x=\"35\" y=\"261.1074\">rechts: t_Waterlichaam</text><line style=\"stroke: #383838; stroke-width: 1.5;\" x1=\"33\" x2=\"185\" y1=\"268.9375\" y2=\"268.9375\"/></a><!--MD5=[49a0ec8f00dab7302a31f22d0f0fe584]\n",
       "class E12--><a href=\"psysml:a4e72f32-9dd9-47bb-b0d3-4abdf267bd58\" target=\"_top\" title=\"psysml:a4e72f32-9dd9-47bb-b0d3-4abdf267bd58\" xlink:actuate=\"onRequest\" xlink:href=\"psysml:a4e72f32-9dd9-47bb-b0d3-4abdf267bd58\" xlink:show=\"new\" xlink:title=\"psysml:a4e72f32-9dd9-47bb-b0d3-4abdf267bd58\" xlink:type=\"simple\"><rect fill=\"#FFFFFF\" height=\"45.9375\" id=\"E12\" rx=\"10\" ry=\"10\" style=\"stroke: #383838; stroke-width: 1.5;\" width=\"135\" x=\"221.5\" y=\"231\"/><text fill=\"#000000\" font-family=\"sans-serif\" font-size=\"12\" font-style=\"italic\" lengthAdjust=\"spacingAndGlyphs\" textLength=\"40\" x=\"269\" y=\"247.1387\">«part»</text><text fill=\"#000000\" font-family=\"sans-serif\" font-size=\"12\" lengthAdjust=\"spacingAndGlyphs\" textLength=\"125\" x=\"224.5\" y=\"261.1074\">link: t_Waterlichaam</text><line style=\"stroke: #383838; stroke-width: 1.5;\" x1=\"222.5\" x2=\"355.5\" y1=\"268.9375\" y2=\"268.9375\"/></a><!--MD5=[ee3c913d1a06f366521f9ef512b67efe]\n",
       "class E13--><a href=\"psysml:d1aebaa6-cac8-4c7f-b325-9762f1040ebd\" target=\"_top\" title=\"psysml:d1aebaa6-cac8-4c7f-b325-9762f1040ebd\" xlink:actuate=\"onRequest\" xlink:href=\"psysml:d1aebaa6-cac8-4c7f-b325-9762f1040ebd\" xlink:show=\"new\" xlink:title=\"psysml:d1aebaa6-cac8-4c7f-b325-9762f1040ebd\" xlink:type=\"simple\"><rect fill=\"#FFFFFF\" height=\"45.9375\" id=\"E13\" rx=\"10\" ry=\"10\" style=\"stroke: #383838; stroke-width: 1.5;\" width=\"119\" x=\"391.5\" y=\"231\"/><text fill=\"#000000\" font-family=\"sans-serif\" font-size=\"12\" font-style=\"italic\" lengthAdjust=\"spacingAndGlyphs\" textLength=\"40\" x=\"431\" y=\"247.1387\">«part»</text><text fill=\"#000000\" font-family=\"sans-serif\" font-size=\"12\" lengthAdjust=\"spacingAndGlyphs\" textLength=\"109\" x=\"394.5\" y=\"261.1074\">boven: t_Snelweg</text><line style=\"stroke: #383838; stroke-width: 1.5;\" x1=\"392.5\" x2=\"509.5\" y1=\"268.9375\" y2=\"268.9375\"/></a><!--MD5=[bee11217b2f71d958a27249dc326068c]\n",
       "class E14--><a href=\"psysml:87cecfa1-6e89-4149-a19c-76f58e57dd41\" target=\"_top\" title=\"psysml:87cecfa1-6e89-4149-a19c-76f58e57dd41\" xlink:actuate=\"onRequest\" xlink:href=\"psysml:87cecfa1-6e89-4149-a19c-76f58e57dd41\" xlink:show=\"new\" xlink:title=\"psysml:87cecfa1-6e89-4149-a19c-76f58e57dd41\" xlink:type=\"simple\"><rect fill=\"#FFFFFF\" height=\"45.9375\" id=\"E14\" rx=\"10\" ry=\"10\" style=\"stroke: #383838; stroke-width: 1.5;\" width=\"118\" x=\"546\" y=\"231\"/><text fill=\"#000000\" font-family=\"sans-serif\" font-size=\"12\" font-style=\"italic\" lengthAdjust=\"spacingAndGlyphs\" textLength=\"40\" x=\"585\" y=\"247.1387\">«part»</text><text fill=\"#000000\" font-family=\"sans-serif\" font-size=\"12\" lengthAdjust=\"spacingAndGlyphs\" textLength=\"108\" x=\"549\" y=\"261.1074\">onder: t_Snelweg</text><line style=\"stroke: #383838; stroke-width: 1.5;\" x1=\"547\" x2=\"663\" y1=\"268.9375\" y2=\"268.9375\"/></a><!--MD5=[ebbe1d658d1005bcc118a6aa81145e00]\n",
       "class E4--><a href=\"psysml:91090a26-89c5-42b4-82f0-4d60713fc7e4\" target=\"_top\" title=\"psysml:91090a26-89c5-42b4-82f0-4d60713fc7e4\" xlink:actuate=\"onRequest\" xlink:href=\"psysml:91090a26-89c5-42b4-82f0-4d60713fc7e4\" xlink:show=\"new\" xlink:title=\"psysml:91090a26-89c5-42b4-82f0-4d60713fc7e4\" xlink:type=\"simple\"><rect fill=\"#FFFFFF\" height=\"45.9375\" id=\"E4\" style=\"stroke: #383838; stroke-width: 1.5;\" width=\"70\" x=\"954\" y=\"357.86\"/><text fill=\"#000000\" font-family=\"sans-serif\" font-size=\"12\" font-style=\"italic\" lengthAdjust=\"spacingAndGlyphs\" textLength=\"68\" x=\"955\" y=\"373.9987\">«part  def»</text><text fill=\"#000000\" font-family=\"sans-serif\" font-size=\"12\" lengthAdjust=\"spacingAndGlyphs\" textLength=\"63\" x=\"957.5\" y=\"387.9674\">t_Snelweg</text><line style=\"stroke: #383838; stroke-width: 1.5;\" x1=\"955\" x2=\"1023\" y1=\"395.7975\" y2=\"395.7975\"/></a><path d=\"M607,360.86 L607,401.1256 L919,401.1256 L919,370.86 L909,360.86 L607,360.86 \" fill=\"#ECECEC\" style=\"stroke: #383838; stroke-width: 1.0;\"/><path d=\"M909,360.86 L909,370.86 L919,370.86 L909,360.86 \" fill=\"#ECECEC\" style=\"stroke: #383838; stroke-width: 1.0;\"/><a href=\"psysml:688ebab7-c06a-4fe0-b7ed-4c54a133e373\" target=\"_top\" title=\"psysml:688ebab7-c06a-4fe0-b7ed-4c54a133e373\" xlink:actuate=\"onRequest\" xlink:href=\"psysml:688ebab7-c06a-4fe0-b7ed-4c54a133e373\" xlink:show=\"new\" xlink:title=\"psysml:688ebab7-c06a-4fe0-b7ed-4c54a133e373\" xlink:type=\"simple\"><text fill=\"#1C1C1C\" font-family=\"sans-serif\" font-size=\"13\" lengthAdjust=\"spacingAndGlyphs\" text-decoration=\"underline\" textLength=\"13\" x=\"613\" y=\"377.9269\">@</text></a><text fill=\"#000000\" font-family=\"sans-serif\" font-size=\"13\" lengthAdjust=\"spacingAndGlyphs\" textLength=\"278\" x=\"626\" y=\"377.9269\">Door mensen gemaakte systemen, die een</text><text fill=\"#000000\" font-family=\"sans-serif\" font-size=\"13\" lengthAdjust=\"spacingAndGlyphs\" textLength=\"173\" x=\"613\" y=\"393.0597\">relatie hebben met het SOI</text><!--MD5=[2156ba9850f5573cc1fc38a6a4b2f02b]\n",
       "class E7--><a href=\"psysml:72e98810-4e96-40df-bb60-3e3f27109830\" target=\"_top\" title=\"psysml:72e98810-4e96-40df-bb60-3e3f27109830\" xlink:actuate=\"onRequest\" xlink:href=\"psysml:72e98810-4e96-40df-bb60-3e3f27109830\" xlink:show=\"new\" xlink:title=\"psysml:72e98810-4e96-40df-bb60-3e3f27109830\" xlink:type=\"simple\"><rect fill=\"#FFFFFF\" height=\"45.9375\" id=\"E7\" style=\"stroke: #383838; stroke-width: 1.5;\" width=\"102\" x=\"417\" y=\"357.86\"/><text fill=\"#000000\" font-family=\"sans-serif\" font-size=\"12\" font-style=\"italic\" lengthAdjust=\"spacingAndGlyphs\" textLength=\"68\" x=\"434\" y=\"373.9987\">«part  def»</text><text fill=\"#000000\" font-family=\"sans-serif\" font-size=\"12\" lengthAdjust=\"spacingAndGlyphs\" textLength=\"96\" x=\"420\" y=\"387.9674\">t_Waterlichaam</text><line style=\"stroke: #383838; stroke-width: 1.5;\" x1=\"418\" x2=\"518\" y1=\"395.7975\" y2=\"395.7975\"/></a><path d=\"M72,345.36 L72,415.8913 L382,415.8913 L382,355.36 L372,345.36 L72,345.36 \" fill=\"#ECECEC\" style=\"stroke: #383838; stroke-width: 1.0;\"/><path d=\"M372,345.36 L372,355.36 L382,355.36 L372,345.36 \" fill=\"#ECECEC\" style=\"stroke: #383838; stroke-width: 1.0;\"/><a href=\"psysml:2a887e6a-086b-4166-963e-f50d4ae630e7\" target=\"_top\" title=\"psysml:2a887e6a-086b-4166-963e-f50d4ae630e7\" xlink:actuate=\"onRequest\" xlink:href=\"psysml:2a887e6a-086b-4166-963e-f50d4ae630e7\" xlink:show=\"new\" xlink:title=\"psysml:2a887e6a-086b-4166-963e-f50d4ae630e7\" xlink:type=\"simple\"><text fill=\"#1C1C1C\" font-family=\"sans-serif\" font-size=\"13\" lengthAdjust=\"spacingAndGlyphs\" text-decoration=\"underline\" textLength=\"13\" x=\"78\" y=\"362.4269\">@</text></a><text fill=\"#000000\" font-family=\"sans-serif\" font-size=\"13\" lengthAdjust=\"spacingAndGlyphs\" textLength=\"236\" x=\"91\" y=\"362.4269\">Natuurlijke omgevingselementen - of</text><text fill=\"#000000\" font-family=\"sans-serif\" font-size=\"13\" lengthAdjust=\"spacingAndGlyphs\" textLength=\"53\" x=\"78\" y=\"377.5597\">factoren</text><text fill=\"#000000\" font-family=\"sans-serif\" font-size=\"13\" lengthAdjust=\"spacingAndGlyphs\" textLength=\"285\" x=\"78\" y=\"392.6925\">voor het systeem, die niet door de mens zijn</text><text fill=\"#000000\" font-family=\"sans-serif\" font-size=\"13\" lengthAdjust=\"spacingAndGlyphs\" textLength=\"61\" x=\"78\" y=\"407.8253\">gemaakt.</text><path d=\"M712,100 L712,170.5313 L1026,170.5313 L1026,110 L1016,100 L712,100 \" fill=\"#ECECEC\" style=\"stroke: #383838; stroke-width: 1.0;\"/><path d=\"M1016,100 L1016,110 L1026,110 L1016,100 \" fill=\"#ECECEC\" style=\"stroke: #383838; stroke-width: 1.0;\"/><a href=\"psysml:7e7877f4-7747-4ceb-a209-2a6f8560cde6\" target=\"_top\" title=\"psysml:7e7877f4-7747-4ceb-a209-2a6f8560cde6\" xlink:actuate=\"onRequest\" xlink:href=\"psysml:7e7877f4-7747-4ceb-a209-2a6f8560cde6\" xlink:show=\"new\" xlink:title=\"psysml:7e7877f4-7747-4ceb-a209-2a6f8560cde6\" xlink:type=\"simple\"><text fill=\"#1C1C1C\" font-family=\"sans-serif\" font-size=\"13\" lengthAdjust=\"spacingAndGlyphs\" text-decoration=\"underline\" textLength=\"13\" x=\"718\" y=\"117.0669\">@</text></a><text fill=\"#000000\" font-family=\"sans-serif\" font-size=\"13\" lengthAdjust=\"spacingAndGlyphs\" textLength=\"253\" x=\"731\" y=\"117.0669\">Fenomenen die optreden als natuurlijke</text><text fill=\"#000000\" font-family=\"sans-serif\" font-size=\"13\" lengthAdjust=\"spacingAndGlyphs\" textLength=\"221\" x=\"718\" y=\"132.1997\">omgevingselementen interacteren</text><text fill=\"#000000\" font-family=\"sans-serif\" font-size=\"13\" lengthAdjust=\"spacingAndGlyphs\" textLength=\"289\" x=\"718\" y=\"147.3325\">met mensgemaakte systemen (bijv. bliksem,</text><text fill=\"#000000\" font-family=\"sans-serif\" font-size=\"13\" lengthAdjust=\"spacingAndGlyphs\" textLength=\"193\" x=\"718\" y=\"162.4653\">luchttemperatuur, lichtniveau)</text><!--MD5=[05d275557350bfb9b23a4ef7222b4c39]\n",
       "link E3 to E2--><a href=\"psysml:688ebab7-c06a-4fe0-b7ed-4c54a133e373\" target=\"_top\" title=\"psysml:688ebab7-c06a-4fe0-b7ed-4c54a133e373\" xlink:actuate=\"onRequest\" xlink:href=\"psysml:688ebab7-c06a-4fe0-b7ed-4c54a133e373\" xlink:show=\"new\" xlink:title=\"psysml:688ebab7-c06a-4fe0-b7ed-4c54a133e373\" xlink:type=\"simple\"><path d=\"M763,400.98 C763,427.73 763,473.39 763,476.22 \" fill=\"none\" id=\"E3-E2\" style=\"stroke: #383838; stroke-width: 1.0; stroke-dasharray: 7.0,7.0;\"/></a><!--MD5=[25b190c987b1e74e5126d372c5a73af1]\n",
       "link E6 to E5--><a href=\"psysml:2a887e6a-086b-4166-963e-f50d4ae630e7\" target=\"_top\" title=\"psysml:2a887e6a-086b-4166-963e-f50d4ae630e7\" xlink:actuate=\"onRequest\" xlink:href=\"psysml:2a887e6a-086b-4166-963e-f50d4ae630e7\" xlink:show=\"new\" xlink:title=\"psysml:2a887e6a-086b-4166-963e-f50d4ae630e7\" xlink:type=\"simple\"><path d=\"M227,416.51 C227,442.64 227,474.31 227,476.26 \" fill=\"none\" id=\"E6-E5\" style=\"stroke: #383838; stroke-width: 1.0; stroke-dasharray: 7.0,7.0;\"/></a><!--MD5=[e94e79a2424a39fa3a0e8c12a90817b9]\n",
       "link E9 to E8--><a href=\"psysml:7e7877f4-7747-4ceb-a209-2a6f8560cde6\" target=\"_top\" title=\"psysml:7e7877f4-7747-4ceb-a209-2a6f8560cde6\" xlink:actuate=\"onRequest\" xlink:href=\"psysml:7e7877f4-7747-4ceb-a209-2a6f8560cde6\" xlink:show=\"new\" xlink:title=\"psysml:7e7877f4-7747-4ceb-a209-2a6f8560cde6\" xlink:type=\"simple\"><path d=\"M869,171.14 C869,204.41 869,250.04 869,252.86 \" fill=\"none\" id=\"E9-E8\" style=\"stroke: #383838; stroke-width: 1.0; stroke-dasharray: 7.0,7.0;\"/></a><!--MD5=[de308be4a2431766a05a907a031c07fc]\n",
       "reverse link E10 to E11--><a href=\"psysml:9c417596-debe-47e1-a89b-2f5096015d6a\" target=\"_top\" title=\"psysml:9c417596-debe-47e1-a89b-2f5096015d6a\" xlink:actuate=\"onRequest\" xlink:href=\"psysml:9c417596-debe-47e1-a89b-2f5096015d6a\" xlink:show=\"new\" xlink:title=\"psysml:9c417596-debe-47e1-a89b-2f5096015d6a\" xlink:type=\"simple\"><path d=\"M308.46,163.97 C262.75,184.37 201.22,211.84 158.64,230.84 \" fill=\"none\" id=\"E10&lt;-E11\" style=\"stroke: #383838; stroke-width: 1.0;\"/><polygon fill=\"#FFFFFF\" points=\"320.6,158.55,313.4918,157.3363,309.6375,163.431,316.7458,164.6447,320.6,158.55\" style=\"stroke: #383838; stroke-width: 1.0;\"/><text fill=\"#000000\" font-family=\"sans-serif\" font-size=\"13\" lengthAdjust=\"spacingAndGlyphs\" textLength=\"8\" x=\"162.3352\" y=\"220.0753\">1</text></a><!--MD5=[41ed9f8af792e4462e62a86c9f6b57b4]\n",
       "link E11 to E7--><a href=\"psysml:f95c3e19-c9c1-4484-97ba-6e8d35659b21\" target=\"_top\" title=\"psysml:f95c3e19-c9c1-4484-97ba-6e8d35659b21\" xlink:actuate=\"onRequest\" xlink:href=\"psysml:f95c3e19-c9c1-4484-97ba-6e8d35659b21\" xlink:show=\"new\" xlink:title=\"psysml:f95c3e19-c9c1-4484-97ba-6e8d35659b21\" xlink:type=\"simple\"><path d=\"M186.26,275.35 C192.24,276.51 198.2,277.54 204,278.36 C225.58,281.42 380.78,276.08 400,286.36 C421.73,297.99 438.25,319.96 449.57,339.69 \" fill=\"none\" id=\"E11-&gt;E7\" style=\"stroke: #383838; stroke-width: 1.0;\"/><polygon fill=\"#FFFFFF\" points=\"458.82,357.5,443.851,343.8644,456.2755,337.4121,458.82,357.5\" style=\"stroke: #383838; stroke-width: 1.0;\"/><ellipse cx=\"442.9989\" cy=\"337.8841\" fill=\"#383838\" rx=\"2\" ry=\"2\" style=\"stroke: #383838; stroke-width: 1.0;\"/><ellipse cx=\"451.8736\" cy=\"333.2753\" fill=\"#383838\" rx=\"2\" ry=\"2\" style=\"stroke: #383838; stroke-width: 1.0;\"/></a><!--MD5=[1d54f998c6d5961a1a9184be73a7eb6c]\n",
       "reverse link E10 to E12--><a href=\"psysml:8bb635ba-2ff4-4ff9-8394-1ba8bd0269ef\" target=\"_top\" title=\"psysml:8bb635ba-2ff4-4ff9-8394-1ba8bd0269ef\" xlink:actuate=\"onRequest\" xlink:href=\"psysml:8bb635ba-2ff4-4ff9-8394-1ba8bd0269ef\" xlink:show=\"new\" xlink:title=\"psysml:8bb635ba-2ff4-4ff9-8394-1ba8bd0269ef\" xlink:type=\"simple\"><path d=\"M346.98,169.61 C333.33,189.24 316.4,213.59 304.37,230.9 \" fill=\"none\" id=\"E10&lt;-E12\" style=\"stroke: #383838; stroke-width: 1.0;\"/><polygon fill=\"#FFFFFF\" points=\"354.57,158.69,347.8592,161.3291,347.7141,168.5387,354.425,165.8996,354.57,158.69\" style=\"stroke: #383838; stroke-width: 1.0;\"/><text fill=\"#000000\" font-family=\"sans-serif\" font-size=\"13\" lengthAdjust=\"spacingAndGlyphs\" textLength=\"8\" x=\"299.4257\" y=\"219.7694\">1</text></a><!--MD5=[ae660f5ecd7ddb04a8913625960940af]\n",
       "link E12 to E7--><a href=\"psysml:8010aeb3-22b3-4de5-8765-1135bd7d4fd4\" target=\"_top\" title=\"psysml:8010aeb3-22b3-4de5-8765-1135bd7d4fd4\" xlink:actuate=\"onRequest\" xlink:href=\"psysml:8010aeb3-22b3-4de5-8765-1135bd7d4fd4\" xlink:show=\"new\" xlink:title=\"psysml:8010aeb3-22b3-4de5-8765-1135bd7d4fd4\" xlink:type=\"simple\"><path d=\"M356.6,273.64 C379.15,279.94 398.9,285.59 400,286.36 C419.64,300.05 435.73,321.27 447.33,340.04 \" fill=\"none\" id=\"E12-&gt;E7\" style=\"stroke: #383838; stroke-width: 1.0;\"/><polygon fill=\"#FFFFFF\" points=\"457.39,357.62,441.8718,344.6128,454.0198,337.654,457.39,357.62\" style=\"stroke: #383838; stroke-width: 1.0;\"/><ellipse cx=\"440.774\" cy=\"338.6727\" fill=\"#383838\" rx=\"2\" ry=\"2\" style=\"stroke: #383838; stroke-width: 1.0;\"/><ellipse cx=\"449.4512\" cy=\"333.7021\" fill=\"#383838\" rx=\"2\" ry=\"2\" style=\"stroke: #383838; stroke-width: 1.0;\"/></a><!--MD5=[45c2047ce13b04a4df90e095f38df898]\n",
       "reverse link E10 to E13--><a href=\"psysml:5ab24c95-dea1-4cba-aa6d-4f9d8f0d98af\" target=\"_top\" title=\"psysml:5ab24c95-dea1-4cba-aa6d-4f9d8f0d98af\" xlink:actuate=\"onRequest\" xlink:href=\"psysml:5ab24c95-dea1-4cba-aa6d-4f9d8f0d98af\" xlink:show=\"new\" xlink:title=\"psysml:5ab24c95-dea1-4cba-aa6d-4f9d8f0d98af\" xlink:type=\"simple\"><path d=\"M393.02,169.61 C406.67,189.24 423.6,213.59 435.63,230.9 \" fill=\"none\" id=\"E10&lt;-E13\" style=\"stroke: #383838; stroke-width: 1.0;\"/><polygon fill=\"#FFFFFF\" points=\"385.43,158.69,385.575,165.8996,392.2859,168.5387,392.1408,161.3291,385.43,158.69\" style=\"stroke: #383838; stroke-width: 1.0;\"/><text fill=\"#000000\" font-family=\"sans-serif\" font-size=\"13\" lengthAdjust=\"spacingAndGlyphs\" textLength=\"8\" x=\"422.4243\" y=\"219.7694\">1</text></a><!--MD5=[017847e01ff9a8bd19f247411074f987]\n",
       "link E13 to E4--><a href=\"psysml:1affac14-ad81-4304-9019-87205d083093\" target=\"_top\" title=\"psysml:1affac14-ad81-4304-9019-87205d083093\" xlink:actuate=\"onRequest\" xlink:href=\"psysml:1affac14-ad81-4304-9019-87205d083093\" xlink:show=\"new\" xlink:title=\"psysml:1affac14-ad81-4304-9019-87205d083093\" xlink:type=\"simple\"><path d=\"M510.67,274.65 C516.81,276.14 522.99,277.42 529,278.36 C551.4,281.87 917.57,274.68 937,286.36 C956.14,297.87 968.77,319.19 976.79,338.57 \" fill=\"none\" id=\"E13-&gt;E4\" style=\"stroke: #383838; stroke-width: 1.0;\"/><polygon fill=\"#FFFFFF\" points=\"983.55,357.57,970.5786,342.0219,983.7664,337.3227,983.55,357.57\" style=\"stroke: #383838; stroke-width: 1.0;\"/><ellipse cx=\"970.5493\" cy=\"335.9813\" fill=\"#383838\" rx=\"2\" ry=\"2\" style=\"stroke: #383838; stroke-width: 1.0;\"/><ellipse cx=\"979.9692\" cy=\"332.6247\" fill=\"#383838\" rx=\"2\" ry=\"2\" style=\"stroke: #383838; stroke-width: 1.0;\"/></a><!--MD5=[9f938b8309c945c9f0b6f9c6c1c1f6b2]\n",
       "reverse link E10 to E14--><a href=\"psysml:0aac4989-b42f-4c33-a7a5-90ecd8977c66\" target=\"_top\" title=\"psysml:0aac4989-b42f-4c33-a7a5-90ecd8977c66\" xlink:actuate=\"onRequest\" xlink:href=\"psysml:0aac4989-b42f-4c33-a7a5-90ecd8977c66\" xlink:show=\"new\" xlink:title=\"psysml:0aac4989-b42f-4c33-a7a5-90ecd8977c66\" xlink:type=\"simple\"><path d=\"M426.2,164.36 C467.27,184.72 522.21,211.96 560.3,230.84 \" fill=\"none\" id=\"E10&lt;-E14\" style=\"stroke: #383838; stroke-width: 1.0;\"/><polygon fill=\"#FFFFFF\" points=\"414.48,158.55,418.0731,164.8022,425.2263,163.8902,421.6332,157.638,414.48,158.55\" style=\"stroke: #383838; stroke-width: 1.0;\"/><text fill=\"#000000\" font-family=\"sans-serif\" font-size=\"13\" lengthAdjust=\"spacingAndGlyphs\" textLength=\"8\" x=\"539.8206\" y=\"220.0753\">1</text></a><!--MD5=[a72f02d52212bdf799af18f08c718660]\n",
       "link E14 to E4--><a href=\"psysml:be44d983-fcdc-4d5a-9974-4c18daeb17d6\" target=\"_top\" title=\"psysml:be44d983-fcdc-4d5a-9974-4c18daeb17d6\" xlink:actuate=\"onRequest\" xlink:href=\"psysml:be44d983-fcdc-4d5a-9974-4c18daeb17d6\" xlink:show=\"new\" xlink:title=\"psysml:be44d983-fcdc-4d5a-9974-4c18daeb17d6\" xlink:type=\"simple\"><path d=\"M664,275 C669.37,276.32 674.75,277.48 680,278.36 C708.17,283.1 912.6,271.5 937,286.36 C956.07,297.98 968.7,319.31 976.73,338.66 \" fill=\"none\" id=\"E14-&gt;E4\" style=\"stroke: #383838; stroke-width: 1.0;\"/><polygon fill=\"#FFFFFF\" points=\"983.51,357.63,970.5244,342.0938,983.7079,337.3825,983.51,357.63\" style=\"stroke: #383838; stroke-width: 1.0;\"/><ellipse cx=\"970.4896\" cy=\"336.0532\" fill=\"#383838\" rx=\"2\" ry=\"2\" style=\"stroke: #383838; stroke-width: 1.0;\"/><ellipse cx=\"979.9064\" cy=\"332.688\" fill=\"#383838\" rx=\"2\" ry=\"2\" style=\"stroke: #383838; stroke-width: 1.0;\"/></a><!--MD5=[f2426ca3855b9b7e6dc6cf28094d3ec6]\n",
       "@startuml\r\n",
       "skinparam monochrome true\r\n",
       "skinparam classbackgroundcolor white\r\n",
       "skinparam shadowing false\r\n",
       "skinparam wrapWidth 300\r\n",
       "hide circle\r\n",
       "\r\n",
       "package \"OperationeleOmgeving\" as E1  [[psysml:4e1786d4-4049-459e-a590-73cf68b11191 ]]  {\r\n",
       "package \"Mensgemaakte Systemen\" as E2  [[psysml:3b4b73f3-1566-4e24-8937-0638e8f6ae4d ]]  {\r\n",
       "comp def \"t_Snelweg\" as E4  <<(T,blue) part  def>> [[psysml:91090a26-89c5-42b4-82f0-4d60713fc7e4 ]] {\r\n",
       "}\r\n",
       "note as E3\r\n",
       "[[psysml:688ebab7-c06a-4fe0-b7ed-4c54a133e373 @]]Door mensen gemaakte systemen, die een\r\n",
       "relatie hebben met het SOI\r\n",
       "end note \r\n",
       "}\r\n",
       "package \"Natuurlijke Omgevingselementen\" as E5  [[psysml:bc967a76-903a-45ea-8dc1-fa53f6cbb2b1 ]]  {\r\n",
       "comp def \"t_Waterlichaam\" as E7  <<(T,blue) part  def>> [[psysml:72e98810-4e96-40df-bb60-3e3f27109830 ]] {\r\n",
       "}\r\n",
       "note as E6\r\n",
       "[[psysml:2a887e6a-086b-4166-963e-f50d4ae630e7 @]]Natuurlijke omgevingselementen - of factoren\r\n",
       "voor het systeem, die niet door de mens zijn gemaakt.\r\n",
       "end note \r\n",
       "}\r\n",
       "package \"Geinduceerde Omgevingselementen\" as E8  [[psysml:da1d3b1b-d9ca-4189-97ec-3d47cfb670f6 ]]  {\r\n",
       "note as E9\r\n",
       "[[psysml:7e7877f4-7747-4ceb-a209-2a6f8560cde6 @]]Fenomenen die optreden als natuurlijke omgevingselementen interacteren\r\n",
       "met mensgemaakte systemen (bijv. bliksem, luchttemperatuur, lichtniveau)\r\n",
       "end note \r\n",
       "}\r\n",
       "comp def \"Operationele Omgeving\" as E10  <<(T,blue) part  def>> [[psysml:99958dc1-6ec2-4718-808b-1957ef9a01fa ]] {\r\n",
       "}\r\n",
       "comp usage \"rechts: t_Waterlichaam \" as E11  <<(T,blue) part>> [[psysml:a12fb4c1-b3d9-4484-b1da-8f245bb89340 ]] {\r\n",
       "}\r\n",
       "comp usage \"link: t_Waterlichaam \" as E12  <<(T,blue) part>> [[psysml:a4e72f32-9dd9-47bb-b0d3-4abdf267bd58 ]] {\r\n",
       "}\r\n",
       "comp usage \"boven: t_Snelweg \" as E13  <<(T,blue) part>> [[psysml:d1aebaa6-cac8-4c7f-b325-9762f1040ebd ]] {\r\n",
       "}\r\n",
       "comp usage \"onder: t_Snelweg \" as E14  <<(T,blue) part>> [[psysml:87cecfa1-6e89-4149-a19c-76f58e57dd41 ]] {\r\n",
       "}\r\n",
       "}\r\n",
       "E3 .. E2 [[psysml:688ebab7-c06a-4fe0-b7ed-4c54a133e373 ]] \r\n",
       "E6 .. E5 [[psysml:2a887e6a-086b-4166-963e-f50d4ae630e7 ]] \r\n",
       "E9 .. E8 [[psysml:7e7877f4-7747-4ceb-a209-2a6f8560cde6 ]] \r\n",
       "E10 o- - \"1\"E11 [[psysml:9c417596-debe-47e1-a89b-2f5096015d6a ]] \r\n",
       "E11 - -:|> E7 [[psysml:f95c3e19-c9c1-4484-97ba-6e8d35659b21 ]] \r\n",
       "E10 o- - \"1\"E12 [[psysml:8bb635ba-2ff4-4ff9-8394-1ba8bd0269ef ]] \r\n",
       "E12 - -:|> E7 [[psysml:8010aeb3-22b3-4de5-8765-1135bd7d4fd4 ]] \r\n",
       "E10 o- - \"1\"E13 [[psysml:5ab24c95-dea1-4cba-aa6d-4f9d8f0d98af ]] \r\n",
       "E13 - -:|> E4 [[psysml:1affac14-ad81-4304-9019-87205d083093 ]] \r\n",
       "E10 o- - \"1\"E14 [[psysml:0aac4989-b42f-4c33-a7a5-90ecd8977c66 ]] \r\n",
       "E14 - -:|> E4 [[psysml:be44d983-fcdc-4d5a-9974-4c18daeb17d6 ]] \r\n",
       "@enduml\r\n",
       "\n",
       "PlantUML version 1.2020.13(Sat Jun 13 05:26:38 PDT 2020)\n",
       "(EPL source distribution)\n",
       "Java Runtime: OpenJDK Runtime Environment\n",
       "JVM: OpenJDK 64-Bit Server VM\n",
       "Default Encoding: UTF-8\n",
       "Language: en\n",
       "Country: US\n",
       "--></g></svg>"
      ]
     },
     "execution_count": 2,
     "metadata": {},
     "output_type": "execute_result"
    }
   ],
   "source": [
    "%viz OperationeleOmgeving"
   ]
  },
  {
   "cell_type": "markdown",
   "id": "5939cb50",
   "metadata": {},
   "source": [
    "## Opdracht 2a\n",
    "\n",
    "De behoefte bestaat om te kunnen communicereen met scheepvaartverkeer en de weggebruikers. Hiervoor kan in beginsel van alles worden gekozen. \n",
    "Zo kent ons spoorwegennet twee vormen van communicatie, 'analoog\" en \"digitaal'. De analoge variant zijn seinen(communicatie met licht), digitale variant behelst een sein in de cabine  van de machinist (ERTMS).\n",
    "\n",
    "Voor de bruggen kiezen we voor een analoge variant (digitaal is nu nog niet mogelijk). Deze beslissing is een ontwerpbesluit / requirement.\n",
    "Modelleer dit besluit."
   ]
  },
  {
   "cell_type": "code",
   "execution_count": 5,
   "id": "b6c102d4",
   "metadata": {},
   "outputs": [
    {
     "data": {
      "text/plain": [
       "Package Systeemeisen (01793477-dbb2-4cbc-a8de-0d77bd82072b)\n"
      ]
     },
     "execution_count": 5,
     "metadata": {},
     "output_type": "execute_result"
    }
   ],
   "source": [
    "package Systeemeisen {\n",
    "    \n",
    "    requirement <'eis0001'> 'Communicatie met weggebruikers' {\n",
    "        /* Communicatie met weggebruikers dient plaats te vinden door het geven van \n",
    "        lichtsignalen door middel van verkeerslichten */\n",
    "    }\n",
    "    \n",
    "    requirement <'eis0002'> 'Communicatie met scheepvaartverkeer' {\n",
    "        /* Communicatie met weggebruikers dient plaats te vinden door het geven van \n",
    "        lichtsignalen door middel van scheepvaartseinen */\n",
    "    }\n",
    "}"
   ]
  },
  {
   "cell_type": "code",
   "execution_count": 6,
   "id": "d6ac45f6",
   "metadata": {},
   "outputs": [
    {
     "data": {
      "image/svg+xml": [
       "<?xml version=\"1.0\" encoding=\"UTF-8\" standalone=\"no\"?><svg xmlns=\"http://www.w3.org/2000/svg\" xmlns:xlink=\"http://www.w3.org/1999/xlink\" contentScriptType=\"application/ecmascript\" contentStyleType=\"text/css\" height=\"246px\" preserveAspectRatio=\"none\" style=\"width:745px;height:246px;\" version=\"1.1\" viewBox=\"0 0 745 246\" width=\"745px\" zoomAndPan=\"magnify\"><defs/><g><!--MD5=[fbc87193dbaf4d95561dea2c320d4a47]\n",
       "cluster E1--><a href=\"psysml:01793477-dbb2-4cbc-a8de-0d77bd82072b\" target=\"_top\" title=\"psysml:01793477-dbb2-4cbc-a8de-0d77bd82072b\" xlink:actuate=\"onRequest\" xlink:href=\"psysml:01793477-dbb2-4cbc-a8de-0d77bd82072b\" xlink:show=\"new\" xlink:title=\"psysml:01793477-dbb2-4cbc-a8de-0d77bd82072b\" xlink:type=\"simple\"><polygon fill=\"#FFFFFF\" points=\"16,6,133,6,140,28.2969,723,28.2969,723,234,16,234,16,6\" style=\"stroke: #000000; stroke-width: 1.5;\"/><line style=\"stroke: #000000; stroke-width: 1.5;\" x1=\"16\" x2=\"140\" y1=\"28.2969\" y2=\"28.2969\"/><text fill=\"#000000\" font-family=\"sans-serif\" font-size=\"14\" font-weight=\"bold\" lengthAdjust=\"spacingAndGlyphs\" textLength=\"111\" x=\"20\" y=\"20.9951\">Systeemeisen</text></a><!--MD5=[b4997ac47864f28c2f74865a473b2911]\n",
       "class E2--><a href=\"psysml:23673146-5e75-4c1e-b3d0-eb3b7735da23\" target=\"_top\" title=\"psysml:23673146-5e75-4c1e-b3d0-eb3b7735da23\" xlink:actuate=\"onRequest\" xlink:href=\"psysml:23673146-5e75-4c1e-b3d0-eb3b7735da23\" xlink:show=\"new\" xlink:title=\"psysml:23673146-5e75-4c1e-b3d0-eb3b7735da23\" xlink:type=\"simple\"><rect fill=\"#FFFFFF\" height=\"45.9375\" id=\"E2\" rx=\"10\" ry=\"10\" style=\"stroke: #383838; stroke-width: 1.5;\" width=\"303\" x=\"403.5\" y=\"172\"/><text fill=\"#000000\" font-family=\"sans-serif\" font-size=\"12\" font-style=\"italic\" lengthAdjust=\"spacingAndGlyphs\" textLength=\"91\" x=\"509.5\" y=\"188.1387\">«requirement»</text><text fill=\"#000000\" font-family=\"sans-serif\" font-size=\"12\" lengthAdjust=\"spacingAndGlyphs\" textLength=\"0\" x=\"410.5\" y=\"202.1074\"/><text fill=\"#000000\" font-family=\"sans-serif\" font-size=\"12\" font-weight=\"bold\" lengthAdjust=\"spacingAndGlyphs\" textLength=\"73\" x=\"410.5\" y=\"202.1074\">&lt;eis0001&gt;</text><text fill=\"#000000\" font-family=\"sans-serif\" font-size=\"12\" lengthAdjust=\"spacingAndGlyphs\" textLength=\"212\" x=\"487.5\" y=\"202.1074\">Communicatie met weggebruikers</text><line style=\"stroke: #383838; stroke-width: 1.5;\" x1=\"404.5\" x2=\"705.5\" y1=\"209.9375\" y2=\"209.9375\"/></a><!--MD5=[ebbe1d658d1005bcc118a6aa81145e00]\n",
       "class E4--><a href=\"psysml:68536e57-7c88-455c-8ec8-1a68cb74f66b\" target=\"_top\" title=\"psysml:68536e57-7c88-455c-8ec8-1a68cb74f66b\" xlink:actuate=\"onRequest\" xlink:href=\"psysml:68536e57-7c88-455c-8ec8-1a68cb74f66b\" xlink:show=\"new\" xlink:title=\"psysml:68536e57-7c88-455c-8ec8-1a68cb74f66b\" xlink:type=\"simple\"><rect fill=\"#FFFFFF\" height=\"45.9375\" id=\"E4\" rx=\"10\" ry=\"10\" style=\"stroke: #383838; stroke-width: 1.5;\" width=\"336\" x=\"32\" y=\"172\"/><text fill=\"#000000\" font-family=\"sans-serif\" font-size=\"12\" font-style=\"italic\" lengthAdjust=\"spacingAndGlyphs\" textLength=\"91\" x=\"154.5\" y=\"188.1387\">«requirement»</text><text fill=\"#000000\" font-family=\"sans-serif\" font-size=\"12\" lengthAdjust=\"spacingAndGlyphs\" textLength=\"0\" x=\"39\" y=\"202.1074\"/><text fill=\"#000000\" font-family=\"sans-serif\" font-size=\"12\" font-weight=\"bold\" lengthAdjust=\"spacingAndGlyphs\" textLength=\"73\" x=\"39\" y=\"202.1074\">&lt;eis0002&gt;</text><text fill=\"#000000\" font-family=\"sans-serif\" font-size=\"12\" lengthAdjust=\"spacingAndGlyphs\" textLength=\"245\" x=\"116\" y=\"202.1074\">Communicatie met scheepvaartverkeer</text><line style=\"stroke: #383838; stroke-width: 1.5;\" x1=\"33\" x2=\"367\" y1=\"209.9375\" y2=\"209.9375\"/></a><path d=\"M399,49 L399,104.3984 A0,0 0 0 0 399,104.3984 L549.46,104.3984 L554.62,171.7 L557.46,104.3984 L707,104.3984 A0,0 0 0 0 707,104.3984 L707,59 L697,49 L399,49 A0,0 0 0 0 399,49 \" fill=\"#ECECEC\" style=\"stroke: #383838; stroke-width: 1.0;\"/><path d=\"M697,49 L697,59 L707,59 L697,49 \" fill=\"#ECECEC\" style=\"stroke: #383838; stroke-width: 1.0;\"/><a href=\"psysml:4dbbdf70-fff9-47fb-8c9e-76b7c31104f4\" target=\"_top\" title=\"psysml:4dbbdf70-fff9-47fb-8c9e-76b7c31104f4\" xlink:actuate=\"onRequest\" xlink:href=\"psysml:4dbbdf70-fff9-47fb-8c9e-76b7c31104f4\" xlink:show=\"new\" xlink:title=\"psysml:4dbbdf70-fff9-47fb-8c9e-76b7c31104f4\" xlink:type=\"simple\"><text fill=\"#1C1C1C\" font-family=\"sans-serif\" font-size=\"13\" lengthAdjust=\"spacingAndGlyphs\" text-decoration=\"underline\" textLength=\"13\" x=\"405\" y=\"66.0669\">@</text></a><text fill=\"#000000\" font-family=\"sans-serif\" font-size=\"13\" lengthAdjust=\"spacingAndGlyphs\" textLength=\"255\" x=\"418\" y=\"66.0669\">Communicatie met weggebruikers dient</text><text fill=\"#000000\" font-family=\"sans-serif\" font-size=\"13\" lengthAdjust=\"spacingAndGlyphs\" textLength=\"230\" x=\"405\" y=\"81.1997\">plaats te vinden door het geven van</text><text fill=\"#000000\" font-family=\"sans-serif\" font-size=\"13\" lengthAdjust=\"spacingAndGlyphs\" textLength=\"287\" x=\"405\" y=\"96.3325\">lichtsignalen door middel van verkeerslichten</text><path d=\"M53.5,41 L53.5,111.5313 A0,0 0 0 0 53.5,111.5313 L196,111.5313 L200,171.8 L204,111.5313 L346.5,111.5313 A0,0 0 0 0 346.5,111.5313 L346.5,51 L336.5,41 L53.5,41 A0,0 0 0 0 53.5,41 \" fill=\"#ECECEC\" style=\"stroke: #383838; stroke-width: 1.0;\"/><path d=\"M336.5,41 L336.5,51 L346.5,51 L336.5,41 \" fill=\"#ECECEC\" style=\"stroke: #383838; stroke-width: 1.0;\"/><a href=\"psysml:a8859d21-d824-4ed0-ae81-32779f208b7f\" target=\"_top\" title=\"psysml:a8859d21-d824-4ed0-ae81-32779f208b7f\" xlink:actuate=\"onRequest\" xlink:href=\"psysml:a8859d21-d824-4ed0-ae81-32779f208b7f\" xlink:show=\"new\" xlink:title=\"psysml:a8859d21-d824-4ed0-ae81-32779f208b7f\" xlink:type=\"simple\"><text fill=\"#1C1C1C\" font-family=\"sans-serif\" font-size=\"13\" lengthAdjust=\"spacingAndGlyphs\" text-decoration=\"underline\" textLength=\"13\" x=\"59.5\" y=\"58.0669\">@</text></a><text fill=\"#000000\" font-family=\"sans-serif\" font-size=\"13\" lengthAdjust=\"spacingAndGlyphs\" textLength=\"255\" x=\"72.5\" y=\"58.0669\">Communicatie met weggebruikers dient</text><text fill=\"#000000\" font-family=\"sans-serif\" font-size=\"13\" lengthAdjust=\"spacingAndGlyphs\" textLength=\"230\" x=\"59.5\" y=\"73.1997\">plaats te vinden door het geven van</text><text fill=\"#000000\" font-family=\"sans-serif\" font-size=\"13\" lengthAdjust=\"spacingAndGlyphs\" textLength=\"186\" x=\"59.5\" y=\"88.3325\">lichtsignalen door middel van</text><text fill=\"#000000\" font-family=\"sans-serif\" font-size=\"13\" lengthAdjust=\"spacingAndGlyphs\" textLength=\"121\" x=\"59.5\" y=\"103.4653\">scheepvaartseinen</text><!--MD5=[7b13f2f27ac0e790d448c51c3bf64ecd]\n",
       "@startuml\r\n",
       "skinparam monochrome true\r\n",
       "skinparam classbackgroundcolor white\r\n",
       "skinparam shadowing false\r\n",
       "skinparam wrapWidth 300\r\n",
       "hide circle\r\n",
       "\r\n",
       "package \"Systeemeisen\" as E1  [[psysml:01793477-dbb2-4cbc-a8de-0d77bd82072b ]]  {\r\n",
       "comp usage \" <b>~<eis0001></b> Communicatie met weggebruikers \" as E2  <<(T,blue) requirement>> [[psysml:23673146-5e75-4c1e-b3d0-eb3b7735da23 ]] {\r\n",
       "}\r\n",
       "comp usage \" <b>~<eis0002></b> Communicatie met scheepvaartverkeer \" as E4  <<(T,blue) requirement>> [[psysml:68536e57-7c88-455c-8ec8-1a68cb74f66b ]] {\r\n",
       "}\r\n",
       "note as E3\r\n",
       "[[psysml:4dbbdf70-fff9-47fb-8c9e-76b7c31104f4 @]]Communicatie met weggebruikers dient plaats te vinden door het geven van\r\n",
       "lichtsignalen door middel van verkeerslichten\r\n",
       "end note \r\n",
       "note as E5\r\n",
       "[[psysml:a8859d21-d824-4ed0-ae81-32779f208b7f @]]Communicatie met weggebruikers dient plaats te vinden door het geven van\r\n",
       "lichtsignalen door middel van scheepvaartseinen\r\n",
       "end note \r\n",
       "}\r\n",
       "E3 .. E2 [[psysml:4dbbdf70-fff9-47fb-8c9e-76b7c31104f4 ]] \r\n",
       "E5 .. E4 [[psysml:a8859d21-d824-4ed0-ae81-32779f208b7f ]] \r\n",
       "@enduml\r\n",
       "\n",
       "PlantUML version 1.2020.13(Sat Jun 13 05:26:38 PDT 2020)\n",
       "(EPL source distribution)\n",
       "Java Runtime: OpenJDK Runtime Environment\n",
       "JVM: OpenJDK 64-Bit Server VM\n",
       "Default Encoding: UTF-8\n",
       "Language: en\n",
       "Country: US\n",
       "--></g></svg>"
      ]
     },
     "execution_count": 6,
     "metadata": {},
     "output_type": "execute_result"
    }
   ],
   "source": [
    "%viz Systeemeisen"
   ]
  },
  {
   "cell_type": "markdown",
   "id": "d94c89d0",
   "metadata": {},
   "source": [
    "## Opdracht 2b\n",
    "\n",
    "Decomponeer het brugsysteem in zijn onderdelen conform de decompositie in het SysML 1.x model\n",
    "\n",
    "Een brug bestaat uit:\n",
    "- een (beweegbare) val\n",
    "- een vaarweg (onder de val, tussen de scheepvaartseinen)\n",
    "- Bruglichten, (nodig om te kunnen communiceren met de weggebruiker)\n",
    "- Scheepvaartseinen (nodig om te kunnen communiceren met scheepvaartverkeer(\n",
    "- Een besturingssysteem (typisch een PLC, elke platform dat beslissingen kan nemen is ok)\n",
    "\n",
    "Plaats deze 'dingen' in een package voor de missiesystemen (de systemen die we nodig hebben om het probleem van de stakeholders/klant op te lossen)\n"
   ]
  },
  {
   "cell_type": "code",
   "execution_count": 9,
   "id": "d1c97b46",
   "metadata": {},
   "outputs": [
    {
     "data": {
      "text/plain": [
       "Package Missiesystemen (4cb3a096-7a0d-469b-8efe-dcd89acbf864)\n"
      ]
     },
     "execution_count": 9,
     "metadata": {},
     "output_type": "execute_result"
    }
   ],
   "source": [
    "package 'Missiesystemen'{\n",
    "    \n",
    "    part def t_brug {\n",
    "        part de_val: t_Val;\n",
    "        part de_vaarweg: t_Vaarweg;\n",
    "        part t_sein_links: t_Scheepvaartsein;\n",
    "        part t_sein_rechts: t_Scheepvaartsein;\n",
    "        part bruglicht_onder: t_Bruglicht;\n",
    "        part bruglicht_boven: t_Bruglicht;\n",
    "        part plc: t_Besturing;\n",
    "    }\n",
    "    \n",
    "    part def t_Val {\n",
    "    }\n",
    "    \n",
    "    part def t_Vaarweg {\n",
    "    }\n",
    "    \n",
    "    part def t_Bruglicht {\n",
    "    }\n",
    "    \n",
    "    part def t_Scheepvaartsein {\n",
    "    }\n",
    "    \n",
    "    part def t_Besturing {\n",
    "    }\n",
    "}\n",
    "\n"
   ]
  },
  {
   "cell_type": "code",
   "execution_count": 8,
   "id": "4bae48d6",
   "metadata": {},
   "outputs": [
    {
     "data": {
      "image/svg+xml": [
       "<?xml version=\"1.0\" encoding=\"UTF-8\" standalone=\"no\"?><svg xmlns=\"http://www.w3.org/2000/svg\" xmlns:xlink=\"http://www.w3.org/1999/xlink\" contentScriptType=\"application/ecmascript\" contentStyleType=\"text/css\" height=\"327px\" preserveAspectRatio=\"none\" style=\"width:1419px;height:327px;\" version=\"1.1\" viewBox=\"0 0 1419 327\" width=\"1419px\" zoomAndPan=\"magnify\"><defs/><g><!--MD5=[fbc87193dbaf4d95561dea2c320d4a47]\n",
       "cluster E1--><a href=\"psysml:75eccc86-60dc-4108-9938-88ad33869614\" target=\"_top\" title=\"psysml:75eccc86-60dc-4108-9938-88ad33869614\" xlink:actuate=\"onRequest\" xlink:href=\"psysml:75eccc86-60dc-4108-9938-88ad33869614\" xlink:show=\"new\" xlink:title=\"psysml:75eccc86-60dc-4108-9938-88ad33869614\" xlink:type=\"simple\"><polygon fill=\"#FFFFFF\" points=\"16,6,148,6,155,28.2969,1397,28.2969,1397,315,16,315,16,6\" style=\"stroke: #000000; stroke-width: 1.5;\"/><line style=\"stroke: #000000; stroke-width: 1.5;\" x1=\"16\" x2=\"155\" y1=\"28.2969\" y2=\"28.2969\"/><text fill=\"#000000\" font-family=\"sans-serif\" font-size=\"14\" font-weight=\"bold\" lengthAdjust=\"spacingAndGlyphs\" textLength=\"126\" x=\"20\" y=\"20.9951\">Missiesystemen</text></a><!--MD5=[b4997ac47864f28c2f74865a473b2911]\n",
       "class E2--><a href=\"psysml:8b3cb8e4-e621-4505-80e6-fa5e242e7e30\" target=\"_top\" title=\"psysml:8b3cb8e4-e621-4505-80e6-fa5e242e7e30\" xlink:actuate=\"onRequest\" xlink:href=\"psysml:8b3cb8e4-e621-4505-80e6-fa5e242e7e30\" xlink:show=\"new\" xlink:title=\"psysml:8b3cb8e4-e621-4505-80e6-fa5e242e7e30\" xlink:type=\"simple\"><rect fill=\"#FFFFFF\" height=\"45.9375\" id=\"E2\" style=\"stroke: #383838; stroke-width: 1.5;\" width=\"70\" x=\"660\" y=\"41\"/><text fill=\"#000000\" font-family=\"sans-serif\" font-size=\"12\" font-style=\"italic\" lengthAdjust=\"spacingAndGlyphs\" textLength=\"68\" x=\"661\" y=\"57.1387\">«part  def»</text><text fill=\"#000000\" font-family=\"sans-serif\" font-size=\"12\" lengthAdjust=\"spacingAndGlyphs\" textLength=\"40\" x=\"675\" y=\"71.1074\">t_brug</text><line style=\"stroke: #383838; stroke-width: 1.5;\" x1=\"661\" x2=\"729\" y1=\"78.9375\" y2=\"78.9375\"/></a><!--MD5=[09b614a08d8cba4a07c9adeb5e0fee81]\n",
       "class E3--><a href=\"psysml:66c13a60-6a70-4167-a4b5-45b0c5bc803a\" target=\"_top\" title=\"psysml:66c13a60-6a70-4167-a4b5-45b0c5bc803a\" xlink:actuate=\"onRequest\" xlink:href=\"psysml:66c13a60-6a70-4167-a4b5-45b0c5bc803a\" xlink:show=\"new\" xlink:title=\"psysml:66c13a60-6a70-4167-a4b5-45b0c5bc803a\" xlink:type=\"simple\"><rect fill=\"#FFFFFF\" height=\"45.9375\" id=\"E3\" rx=\"10\" ry=\"10\" style=\"stroke: #383838; stroke-width: 1.5;\" width=\"87\" x=\"32.5\" y=\"147\"/><text fill=\"#000000\" font-family=\"sans-serif\" font-size=\"12\" font-style=\"italic\" lengthAdjust=\"spacingAndGlyphs\" textLength=\"40\" x=\"56\" y=\"163.1387\">«part»</text><text fill=\"#000000\" font-family=\"sans-serif\" font-size=\"12\" lengthAdjust=\"spacingAndGlyphs\" textLength=\"77\" x=\"35.5\" y=\"177.1074\">de_val: t_Val</text><line style=\"stroke: #383838; stroke-width: 1.5;\" x1=\"33.5\" x2=\"118.5\" y1=\"184.9375\" y2=\"184.9375\"/></a><!--MD5=[ebbe1d658d1005bcc118a6aa81145e00]\n",
       "class E4--><a href=\"psysml:1bd50de7-83a1-411f-a8ba-66d8f9a23d80\" target=\"_top\" title=\"psysml:1bd50de7-83a1-411f-a8ba-66d8f9a23d80\" xlink:actuate=\"onRequest\" xlink:href=\"psysml:1bd50de7-83a1-411f-a8ba-66d8f9a23d80\" xlink:show=\"new\" xlink:title=\"psysml:1bd50de7-83a1-411f-a8ba-66d8f9a23d80\" xlink:type=\"simple\"><rect fill=\"#FFFFFF\" height=\"45.9375\" id=\"E4\" rx=\"10\" ry=\"10\" style=\"stroke: #383838; stroke-width: 1.5;\" width=\"157\" x=\"154.5\" y=\"147\"/><text fill=\"#000000\" font-family=\"sans-serif\" font-size=\"12\" font-style=\"italic\" lengthAdjust=\"spacingAndGlyphs\" textLength=\"40\" x=\"213\" y=\"163.1387\">«part»</text><text fill=\"#000000\" font-family=\"sans-serif\" font-size=\"12\" lengthAdjust=\"spacingAndGlyphs\" textLength=\"147\" x=\"157.5\" y=\"177.1074\">de_vaarweg: t_Vaarweg</text><line style=\"stroke: #383838; stroke-width: 1.5;\" x1=\"155.5\" x2=\"310.5\" y1=\"184.9375\" y2=\"184.9375\"/></a><!--MD5=[270fce915f116d4de14055a7c1d9a0f3]\n",
       "class E5--><a href=\"psysml:0871d3ec-9ac1-40f7-8dd7-f47e5730b00f\" target=\"_top\" title=\"psysml:0871d3ec-9ac1-40f7-8dd7-f47e5730b00f\" xlink:actuate=\"onRequest\" xlink:href=\"psysml:0871d3ec-9ac1-40f7-8dd7-f47e5730b00f\" xlink:show=\"new\" xlink:title=\"psysml:0871d3ec-9ac1-40f7-8dd7-f47e5730b00f\" xlink:type=\"simple\"><rect fill=\"#FFFFFF\" height=\"45.9375\" id=\"E5\" rx=\"10\" ry=\"10\" style=\"stroke: #383838; stroke-width: 1.5;\" width=\"205\" x=\"346.5\" y=\"147\"/><text fill=\"#000000\" font-family=\"sans-serif\" font-size=\"12\" font-style=\"italic\" lengthAdjust=\"spacingAndGlyphs\" textLength=\"40\" x=\"429\" y=\"163.1387\">«part»</text><text fill=\"#000000\" font-family=\"sans-serif\" font-size=\"12\" lengthAdjust=\"spacingAndGlyphs\" textLength=\"195\" x=\"349.5\" y=\"177.1074\">t_sein_links: t_Scheepvaartsein</text><line style=\"stroke: #383838; stroke-width: 1.5;\" x1=\"347.5\" x2=\"550.5\" y1=\"184.9375\" y2=\"184.9375\"/></a><!--MD5=[60a26617385b1d2d0262a64233df1f8d]\n",
       "class E6--><a href=\"psysml:9b2d367f-68ea-48b4-b496-c285815caef1\" target=\"_top\" title=\"psysml:9b2d367f-68ea-48b4-b496-c285815caef1\" xlink:actuate=\"onRequest\" xlink:href=\"psysml:9b2d367f-68ea-48b4-b496-c285815caef1\" xlink:show=\"new\" xlink:title=\"psysml:9b2d367f-68ea-48b4-b496-c285815caef1\" xlink:type=\"simple\"><rect fill=\"#FFFFFF\" height=\"45.9375\" id=\"E6\" rx=\"10\" ry=\"10\" style=\"stroke: #383838; stroke-width: 1.5;\" width=\"217\" x=\"586.5\" y=\"147\"/><text fill=\"#000000\" font-family=\"sans-serif\" font-size=\"12\" font-style=\"italic\" lengthAdjust=\"spacingAndGlyphs\" textLength=\"40\" x=\"675\" y=\"163.1387\">«part»</text><text fill=\"#000000\" font-family=\"sans-serif\" font-size=\"12\" lengthAdjust=\"spacingAndGlyphs\" textLength=\"207\" x=\"589.5\" y=\"177.1074\">t_sein_rechts: t_Scheepvaartsein</text><line style=\"stroke: #383838; stroke-width: 1.5;\" x1=\"587.5\" x2=\"802.5\" y1=\"184.9375\" y2=\"184.9375\"/></a><!--MD5=[2156ba9850f5573cc1fc38a6a4b2f02b]\n",
       "class E7--><a href=\"psysml:9373f109-6871-40eb-a3a6-5fec2f3111db\" target=\"_top\" title=\"psysml:9373f109-6871-40eb-a3a6-5fec2f3111db\" xlink:actuate=\"onRequest\" xlink:href=\"psysml:9373f109-6871-40eb-a3a6-5fec2f3111db\" xlink:show=\"new\" xlink:title=\"psysml:9373f109-6871-40eb-a3a6-5fec2f3111db\" xlink:type=\"simple\"><rect fill=\"#FFFFFF\" height=\"45.9375\" id=\"E7\" rx=\"10\" ry=\"10\" style=\"stroke: #383838; stroke-width: 1.5;\" width=\"182\" x=\"839\" y=\"147\"/><text fill=\"#000000\" font-family=\"sans-serif\" font-size=\"12\" font-style=\"italic\" lengthAdjust=\"spacingAndGlyphs\" textLength=\"40\" x=\"910\" y=\"163.1387\">«part»</text><text fill=\"#000000\" font-family=\"sans-serif\" font-size=\"12\" lengthAdjust=\"spacingAndGlyphs\" textLength=\"172\" x=\"842\" y=\"177.1074\">bruglicht_onder: t_Bruglicht</text><line style=\"stroke: #383838; stroke-width: 1.5;\" x1=\"840\" x2=\"1020\" y1=\"184.9375\" y2=\"184.9375\"/></a><!--MD5=[b9389687b975829384b498ac4b7476b2]\n",
       "class E8--><a href=\"psysml:7d827f94-f4bb-4766-ab9f-f69562d5cc0d\" target=\"_top\" title=\"psysml:7d827f94-f4bb-4766-ab9f-f69562d5cc0d\" xlink:actuate=\"onRequest\" xlink:href=\"psysml:7d827f94-f4bb-4766-ab9f-f69562d5cc0d\" xlink:show=\"new\" xlink:title=\"psysml:7d827f94-f4bb-4766-ab9f-f69562d5cc0d\" xlink:type=\"simple\"><rect fill=\"#FFFFFF\" height=\"45.9375\" id=\"E8\" rx=\"10\" ry=\"10\" style=\"stroke: #383838; stroke-width: 1.5;\" width=\"183\" x=\"1056.5\" y=\"147\"/><text fill=\"#000000\" font-family=\"sans-serif\" font-size=\"12\" font-style=\"italic\" lengthAdjust=\"spacingAndGlyphs\" textLength=\"40\" x=\"1128\" y=\"163.1387\">«part»</text><text fill=\"#000000\" font-family=\"sans-serif\" font-size=\"12\" lengthAdjust=\"spacingAndGlyphs\" textLength=\"173\" x=\"1059.5\" y=\"177.1074\">bruglicht_boven: t_Bruglicht</text><line style=\"stroke: #383838; stroke-width: 1.5;\" x1=\"1057.5\" x2=\"1238.5\" y1=\"184.9375\" y2=\"184.9375\"/></a><!--MD5=[fd4143e9d270a159db93a4ea2a975926]\n",
       "class E9--><a href=\"psysml:b1c5b940-491b-4ac2-8423-bdfbf3648aac\" target=\"_top\" title=\"psysml:b1c5b940-491b-4ac2-8423-bdfbf3648aac\" xlink:actuate=\"onRequest\" xlink:href=\"psysml:b1c5b940-491b-4ac2-8423-bdfbf3648aac\" xlink:show=\"new\" xlink:title=\"psysml:b1c5b940-491b-4ac2-8423-bdfbf3648aac\" xlink:type=\"simple\"><rect fill=\"#FFFFFF\" height=\"45.9375\" id=\"E9\" rx=\"10\" ry=\"10\" style=\"stroke: #383838; stroke-width: 1.5;\" width=\"107\" x=\"1274.5\" y=\"147\"/><text fill=\"#000000\" font-family=\"sans-serif\" font-size=\"12\" font-style=\"italic\" lengthAdjust=\"spacingAndGlyphs\" textLength=\"40\" x=\"1308\" y=\"163.1387\">«part»</text><text fill=\"#000000\" font-family=\"sans-serif\" font-size=\"12\" lengthAdjust=\"spacingAndGlyphs\" textLength=\"97\" x=\"1277.5\" y=\"177.1074\">plc: t_Besturing</text><line style=\"stroke: #383838; stroke-width: 1.5;\" x1=\"1275.5\" x2=\"1380.5\" y1=\"184.9375\" y2=\"184.9375\"/></a><!--MD5=[96f4274e9e20536e775497830990834d]\n",
       "class E10--><a href=\"psysml:cc7e83a0-2075-4344-ab8e-ad9ae569b91d\" target=\"_top\" title=\"psysml:cc7e83a0-2075-4344-ab8e-ad9ae569b91d\" xlink:actuate=\"onRequest\" xlink:href=\"psysml:cc7e83a0-2075-4344-ab8e-ad9ae569b91d\" xlink:show=\"new\" xlink:title=\"psysml:cc7e83a0-2075-4344-ab8e-ad9ae569b91d\" xlink:type=\"simple\"><rect fill=\"#FFFFFF\" height=\"45.9375\" id=\"E10\" style=\"stroke: #383838; stroke-width: 1.5;\" width=\"70\" x=\"41\" y=\"253\"/><text fill=\"#000000\" font-family=\"sans-serif\" font-size=\"12\" font-style=\"italic\" lengthAdjust=\"spacingAndGlyphs\" textLength=\"68\" x=\"42\" y=\"269.1387\">«part  def»</text><text fill=\"#000000\" font-family=\"sans-serif\" font-size=\"12\" lengthAdjust=\"spacingAndGlyphs\" textLength=\"30\" x=\"61\" y=\"283.1074\">t_Val</text><line style=\"stroke: #383838; stroke-width: 1.5;\" x1=\"42\" x2=\"110\" y1=\"290.9375\" y2=\"290.9375\"/></a><!--MD5=[1dd1bfd58a279cf63c5f349dbc8fc6a1]\n",
       "class E11--><a href=\"psysml:c6785c9f-dfc3-4b30-b3dc-cf5f99a98be3\" target=\"_top\" title=\"psysml:c6785c9f-dfc3-4b30-b3dc-cf5f99a98be3\" xlink:actuate=\"onRequest\" xlink:href=\"psysml:c6785c9f-dfc3-4b30-b3dc-cf5f99a98be3\" xlink:show=\"new\" xlink:title=\"psysml:c6785c9f-dfc3-4b30-b3dc-cf5f99a98be3\" xlink:type=\"simple\"><rect fill=\"#FFFFFF\" height=\"45.9375\" id=\"E11\" style=\"stroke: #383838; stroke-width: 1.5;\" width=\"71\" x=\"197.5\" y=\"253\"/><text fill=\"#000000\" font-family=\"sans-serif\" font-size=\"12\" font-style=\"italic\" lengthAdjust=\"spacingAndGlyphs\" textLength=\"68\" x=\"199\" y=\"269.1387\">«part  def»</text><text fill=\"#000000\" font-family=\"sans-serif\" font-size=\"12\" lengthAdjust=\"spacingAndGlyphs\" textLength=\"65\" x=\"200.5\" y=\"283.1074\">t_Vaarweg</text><line style=\"stroke: #383838; stroke-width: 1.5;\" x1=\"198.5\" x2=\"267.5\" y1=\"290.9375\" y2=\"290.9375\"/></a><!--MD5=[49a0ec8f00dab7302a31f22d0f0fe584]\n",
       "class E12--><a href=\"psysml:60f0f7a9-6647-43e3-8eb8-e679f50f5b63\" target=\"_top\" title=\"psysml:60f0f7a9-6647-43e3-8eb8-e679f50f5b63\" xlink:actuate=\"onRequest\" xlink:href=\"psysml:60f0f7a9-6647-43e3-8eb8-e679f50f5b63\" xlink:show=\"new\" xlink:title=\"psysml:60f0f7a9-6647-43e3-8eb8-e679f50f5b63\" xlink:type=\"simple\"><rect fill=\"#FFFFFF\" height=\"45.9375\" id=\"E12\" style=\"stroke: #383838; stroke-width: 1.5;\" width=\"72\" x=\"1003\" y=\"253\"/><text fill=\"#000000\" font-family=\"sans-serif\" font-size=\"12\" font-style=\"italic\" lengthAdjust=\"spacingAndGlyphs\" textLength=\"68\" x=\"1005\" y=\"269.1387\">«part  def»</text><text fill=\"#000000\" font-family=\"sans-serif\" font-size=\"12\" lengthAdjust=\"spacingAndGlyphs\" textLength=\"66\" x=\"1006\" y=\"283.1074\">t_Bruglicht</text><line style=\"stroke: #383838; stroke-width: 1.5;\" x1=\"1004\" x2=\"1074\" y1=\"290.9375\" y2=\"290.9375\"/></a><!--MD5=[ee3c913d1a06f366521f9ef512b67efe]\n",
       "class E13--><a href=\"psysml:417210b9-df36-4bdd-9b91-cbbf16a60b3f\" target=\"_top\" title=\"psysml:417210b9-df36-4bdd-9b91-cbbf16a60b3f\" xlink:actuate=\"onRequest\" xlink:href=\"psysml:417210b9-df36-4bdd-9b91-cbbf16a60b3f\" xlink:show=\"new\" xlink:title=\"psysml:417210b9-df36-4bdd-9b91-cbbf16a60b3f\" xlink:type=\"simple\"><rect fill=\"#FFFFFF\" height=\"45.9375\" id=\"E13\" style=\"stroke: #383838; stroke-width: 1.5;\" width=\"122\" x=\"511\" y=\"253\"/><text fill=\"#000000\" font-family=\"sans-serif\" font-size=\"12\" font-style=\"italic\" lengthAdjust=\"spacingAndGlyphs\" textLength=\"68\" x=\"538\" y=\"269.1387\">«part  def»</text><text fill=\"#000000\" font-family=\"sans-serif\" font-size=\"12\" lengthAdjust=\"spacingAndGlyphs\" textLength=\"116\" x=\"514\" y=\"283.1074\">t_Scheepvaartsein</text><line style=\"stroke: #383838; stroke-width: 1.5;\" x1=\"512\" x2=\"632\" y1=\"290.9375\" y2=\"290.9375\"/></a><!--MD5=[bee11217b2f71d958a27249dc326068c]\n",
       "class E14--><a href=\"psysml:577cd30c-895c-4167-babd-ba53add05b60\" target=\"_top\" title=\"psysml:577cd30c-895c-4167-babd-ba53add05b60\" xlink:actuate=\"onRequest\" xlink:href=\"psysml:577cd30c-895c-4167-babd-ba53add05b60\" xlink:show=\"new\" xlink:title=\"psysml:577cd30c-895c-4167-babd-ba53add05b60\" xlink:type=\"simple\"><rect fill=\"#FFFFFF\" height=\"45.9375\" id=\"E14\" style=\"stroke: #383838; stroke-width: 1.5;\" width=\"77\" x=\"1289.5\" y=\"253\"/><text fill=\"#000000\" font-family=\"sans-serif\" font-size=\"12\" font-style=\"italic\" lengthAdjust=\"spacingAndGlyphs\" textLength=\"68\" x=\"1294\" y=\"269.1387\">«part  def»</text><text fill=\"#000000\" font-family=\"sans-serif\" font-size=\"12\" lengthAdjust=\"spacingAndGlyphs\" textLength=\"71\" x=\"1292.5\" y=\"283.1074\">t_Besturing</text><line style=\"stroke: #383838; stroke-width: 1.5;\" x1=\"1290.5\" x2=\"1365.5\" y1=\"290.9375\" y2=\"290.9375\"/></a><!--MD5=[209b3feb70ccb6233bfe1053d122c12c]\n",
       "reverse link E2 to E3--><a href=\"psysml:24f3cc23-317e-4862-bbd8-ef1bc960845f\" target=\"_top\" title=\"psysml:24f3cc23-317e-4862-bbd8-ef1bc960845f\" xlink:actuate=\"onRequest\" xlink:href=\"psysml:24f3cc23-317e-4862-bbd8-ef1bc960845f\" xlink:show=\"new\" xlink:title=\"psysml:24f3cc23-317e-4862-bbd8-ef1bc960845f\" xlink:type=\"simple\"><path d=\"M646.77,68.81 C549.28,77.23 322.29,100.47 137,147 C131.32,148.43 125.43,150.18 119.66,152.07 \" fill=\"none\" id=\"E2&lt;-E3\" style=\"stroke: #383838; stroke-width: 1.0;\"/><polygon fill=\"#FFFFFF\" points=\"659.92,67.7,653.6031,64.2219,647.963,68.7151,654.2799,72.1932,659.92,67.7\" style=\"stroke: #383838; stroke-width: 1.0;\"/><text fill=\"#000000\" font-family=\"sans-serif\" font-size=\"13\" lengthAdjust=\"spacingAndGlyphs\" textLength=\"8\" x=\"127.5537\" y=\"144.9412\">1</text></a><!--MD5=[9618e71518536f8baf3342ff6fdab317]\n",
       "reverse link E2 to E4--><a href=\"psysml:a4f84ce5-16cc-4b52-b179-56536b9d8242\" target=\"_top\" title=\"psysml:a4f84ce5-16cc-4b52-b179-56536b9d8242\" xlink:actuate=\"onRequest\" xlink:href=\"psysml:a4f84ce5-16cc-4b52-b179-56536b9d8242\" xlink:show=\"new\" xlink:title=\"psysml:a4f84ce5-16cc-4b52-b179-56536b9d8242\" xlink:type=\"simple\"><path d=\"M647.22,75.63 C577.33,91.19 443.1,121.14 329,147 C323.33,148.28 317.47,149.62 311.58,150.96 \" fill=\"none\" id=\"E2&lt;-E4\" style=\"stroke: #383838; stroke-width: 1.0;\"/><polygon fill=\"#FFFFFF\" points=\"659.91,72.8,653.1833,70.2016,648.1976,75.4115,654.9243,78.0099,659.91,72.8\" style=\"stroke: #383838; stroke-width: 1.0;\"/><text fill=\"#000000\" font-family=\"sans-serif\" font-size=\"13\" lengthAdjust=\"spacingAndGlyphs\" textLength=\"8\" x=\"319.4509\" y=\"145.5066\">1</text></a><!--MD5=[4e1a83fab71cdb913c109063314ae896]\n",
       "reverse link E2 to E5--><a href=\"psysml:bd808291-3992-40c5-b37d-67c7cd3d2232\" target=\"_top\" title=\"psysml:bd808291-3992-40c5-b37d-67c7cd3d2232\" xlink:actuate=\"onRequest\" xlink:href=\"psysml:bd808291-3992-40c5-b37d-67c7cd3d2232\" xlink:show=\"new\" xlink:title=\"psysml:bd808291-3992-40c5-b37d-67c7cd3d2232\" xlink:type=\"simple\"><path d=\"M647.68,85.01 C605.78,102.72 544.73,128.53 501.38,146.86 \" fill=\"none\" id=\"E2&lt;-E5\" style=\"stroke: #383838; stroke-width: 1.0;\"/><polygon fill=\"#FFFFFF\" points=\"659.75,79.9,652.6664,78.5501,648.6958,84.5697,655.7795,85.9195,659.75,79.9\" style=\"stroke: #383838; stroke-width: 1.0;\"/><text fill=\"#000000\" font-family=\"sans-serif\" font-size=\"13\" lengthAdjust=\"spacingAndGlyphs\" textLength=\"8\" x=\"505.7774\" y=\"136.1004\">1</text></a><!--MD5=[ce036f65110ae2351ccce5a81dc2e928]\n",
       "reverse link E2 to E6--><a href=\"psysml:b4658312-c43b-4cf5-8c0e-3c3a6592c636\" target=\"_top\" title=\"psysml:b4658312-c43b-4cf5-8c0e-3c3a6592c636\" xlink:actuate=\"onRequest\" xlink:href=\"psysml:b4658312-c43b-4cf5-8c0e-3c3a6592c636\" xlink:show=\"new\" xlink:title=\"psysml:b4658312-c43b-4cf5-8c0e-3c3a6592c636\" xlink:type=\"simple\"><path d=\"M695,100.44 C695,115.87 695,133.47 695,146.98 \" fill=\"none\" id=\"E2&lt;-E6\" style=\"stroke: #383838; stroke-width: 1.0;\"/><polygon fill=\"#FFFFFF\" points=\"695,87.06,691,93.06,695,99.06,699,93.06,695,87.06\" style=\"stroke: #383838; stroke-width: 1.0;\"/><text fill=\"#000000\" font-family=\"sans-serif\" font-size=\"13\" lengthAdjust=\"spacingAndGlyphs\" textLength=\"8\" x=\"685.925\" y=\"135.8709\">1</text></a><!--MD5=[1c72b32696d764168c30777981ec3f66]\n",
       "reverse link E2 to E7--><a href=\"psysml:c15dc297-c4aa-4790-9247-e5c0a717e055\" target=\"_top\" title=\"psysml:c15dc297-c4aa-4790-9247-e5c0a717e055\" xlink:actuate=\"onRequest\" xlink:href=\"psysml:c15dc297-c4aa-4790-9247-e5c0a717e055\" xlink:show=\"new\" xlink:title=\"psysml:c15dc297-c4aa-4790-9247-e5c0a717e055\" xlink:type=\"simple\"><path d=\"M742.27,85.92 C782.29,103.63 839.48,128.94 880.2,146.96 \" fill=\"none\" id=\"E2&lt;-E7\" style=\"stroke: #383838; stroke-width: 1.0;\"/><polygon fill=\"#FFFFFF\" points=\"730.18,80.57,734.0492,86.6552,741.1544,85.4241,737.2852,79.3389,730.18,80.57\" style=\"stroke: #383838; stroke-width: 1.0;\"/><text fill=\"#000000\" font-family=\"sans-serif\" font-size=\"13\" lengthAdjust=\"spacingAndGlyphs\" textLength=\"8\" x=\"857.7413\" y=\"135.8455\">1</text></a><!--MD5=[65f962d72b3a6bed1ede4f3c867e43a4]\n",
       "reverse link E2 to E8--><a href=\"psysml:722cde5e-a656-4769-b52b-e949ac9a00f9\" target=\"_top\" title=\"psysml:722cde5e-a656-4769-b52b-e949ac9a00f9\" xlink:actuate=\"onRequest\" xlink:href=\"psysml:722cde5e-a656-4769-b52b-e949ac9a00f9\" xlink:show=\"new\" xlink:title=\"psysml:722cde5e-a656-4769-b52b-e949ac9a00f9\" xlink:type=\"simple\"><path d=\"M743.22,76.07 C817.62,93.15 961.68,126.22 1056.33,147.96 \" fill=\"none\" id=\"E2&lt;-E8\" style=\"stroke: #383838; stroke-width: 1.0;\"/><polygon fill=\"#FFFFFF\" points=\"730.17,73.07,735.1208,78.3131,741.8647,75.7596,736.9139,70.5166,730.17,73.07\" style=\"stroke: #383838; stroke-width: 1.0;\"/><text fill=\"#000000\" font-family=\"sans-serif\" font-size=\"13\" lengthAdjust=\"spacingAndGlyphs\" textLength=\"8\" x=\"1040.4073\" y=\"142.5887\">1</text></a><!--MD5=[4a91eb351f2fb42055d99b719d3dd418]\n",
       "reverse link E2 to E9--><a href=\"psysml:91357c19-77ed-4c63-97e7-bc155c196475\" target=\"_top\" title=\"psysml:91357c19-77ed-4c63-97e7-bc155c196475\" xlink:actuate=\"onRequest\" xlink:href=\"psysml:91357c19-77ed-4c63-97e7-bc155c196475\" xlink:show=\"new\" xlink:title=\"psysml:91357c19-77ed-4c63-97e7-bc155c196475\" xlink:type=\"simple\"><path d=\"M743.41,69.5 C841.28,79.16 1069.36,104.51 1257,147 C1262.66,148.28 1268.53,149.79 1274.35,151.41 \" fill=\"none\" id=\"E2&lt;-E9\" style=\"stroke: #383838; stroke-width: 1.0;\"/><polygon fill=\"#FFFFFF\" points=\"730.2,68.21,735.7852,72.7713,742.1438,69.3701,736.5586,64.8088,730.2,68.21\" style=\"stroke: #383838; stroke-width: 1.0;\"/><text fill=\"#000000\" font-family=\"sans-serif\" font-size=\"13\" lengthAdjust=\"spacingAndGlyphs\" textLength=\"8\" x=\"1258.6033\" y=\"144.9842\">1</text></a><!--MD5=[b87cb8dd556d6bb6c85fb866cd2de30f]\n",
       "link E3 to E10--><a href=\"psysml:21f76030-7a04-485e-89f1-0ac382170d8e\" target=\"_top\" title=\"psysml:21f76030-7a04-485e-89f1-0ac382170d8e\" xlink:actuate=\"onRequest\" xlink:href=\"psysml:21f76030-7a04-485e-89f1-0ac382170d8e\" xlink:show=\"new\" xlink:title=\"psysml:21f76030-7a04-485e-89f1-0ac382170d8e\" xlink:type=\"simple\"><path d=\"M76,193.06 C76,204.64 76,219.23 76,232.87 \" fill=\"none\" id=\"E3-&gt;E10\" style=\"stroke: #383838; stroke-width: 1.0;\"/><polygon fill=\"#FFFFFF\" points=\"76,252.98,69,233.98,83,233.98,76,252.98\" style=\"stroke: #383838; stroke-width: 1.0;\"/><ellipse cx=\"71\" cy=\"228.28\" fill=\"#383838\" rx=\"2\" ry=\"2\" style=\"stroke: #383838; stroke-width: 1.0;\"/><ellipse cx=\"81\" cy=\"228.28\" fill=\"#383838\" rx=\"2\" ry=\"2\" style=\"stroke: #383838; stroke-width: 1.0;\"/></a><!--MD5=[798a9a606aea02eb479f69458bcab9ef]\n",
       "link E4 to E11--><a href=\"psysml:73507273-4bc2-483a-8ad4-8ae4d533c9ee\" target=\"_top\" title=\"psysml:73507273-4bc2-483a-8ad4-8ae4d533c9ee\" xlink:actuate=\"onRequest\" xlink:href=\"psysml:73507273-4bc2-483a-8ad4-8ae4d533c9ee\" xlink:show=\"new\" xlink:title=\"psysml:73507273-4bc2-483a-8ad4-8ae4d533c9ee\" xlink:type=\"simple\"><path d=\"M233,193.06 C233,204.64 233,219.23 233,232.87 \" fill=\"none\" id=\"E4-&gt;E11\" style=\"stroke: #383838; stroke-width: 1.0;\"/><polygon fill=\"#FFFFFF\" points=\"233,252.98,226,233.98,240,233.98,233,252.98\" style=\"stroke: #383838; stroke-width: 1.0;\"/><ellipse cx=\"228\" cy=\"228.28\" fill=\"#383838\" rx=\"2\" ry=\"2\" style=\"stroke: #383838; stroke-width: 1.0;\"/><ellipse cx=\"238\" cy=\"228.28\" fill=\"#383838\" rx=\"2\" ry=\"2\" style=\"stroke: #383838; stroke-width: 1.0;\"/></a><!--MD5=[5e8699dd255f7bc1216657a2fdc55236]\n",
       "link E5 to E13--><a href=\"psysml:e153a640-08e1-44cb-b9e7-78886984813e\" target=\"_top\" title=\"psysml:e153a640-08e1-44cb-b9e7-78886984813e\" xlink:actuate=\"onRequest\" xlink:href=\"psysml:e153a640-08e1-44cb-b9e7-78886984813e\" xlink:show=\"new\" xlink:title=\"psysml:e153a640-08e1-44cb-b9e7-78886984813e\" xlink:type=\"simple\"><path d=\"M475.09,193.06 C491.15,206.64 512.1,224.35 530.41,239.84 \" fill=\"none\" id=\"E5-&gt;E13\" style=\"stroke: #383838; stroke-width: 1.0;\"/><polygon fill=\"#FFFFFF\" points=\"545.95,252.98,526.922,246.0564,535.9621,235.3663,545.95,252.98\" style=\"stroke: #383838; stroke-width: 1.0;\"/><ellipse cx=\"523.8611\" cy=\"240.8486\" fill=\"#383838\" rx=\"2\" ry=\"2\" style=\"stroke: #383838; stroke-width: 1.0;\"/><ellipse cx=\"530.3183\" cy=\"233.2129\" fill=\"#383838\" rx=\"2\" ry=\"2\" style=\"stroke: #383838; stroke-width: 1.0;\"/></a><!--MD5=[969d053797815cb9cccc7dd806c6a536]\n",
       "link E6 to E13--><a href=\"psysml:80690def-0f6d-4b21-bb50-429ddceb93a9\" target=\"_top\" title=\"psysml:80690def-0f6d-4b21-bb50-429ddceb93a9\" xlink:actuate=\"onRequest\" xlink:href=\"psysml:80690def-0f6d-4b21-bb50-429ddceb93a9\" xlink:show=\"new\" xlink:title=\"psysml:80690def-0f6d-4b21-bb50-429ddceb93a9\" xlink:type=\"simple\"><path d=\"M668.91,193.06 C652.85,206.64 631.9,224.35 613.59,239.84 \" fill=\"none\" id=\"E6-&gt;E13\" style=\"stroke: #383838; stroke-width: 1.0;\"/><polygon fill=\"#FFFFFF\" points=\"598.05,252.98,608.0379,235.3663,617.078,246.0564,598.05,252.98\" style=\"stroke: #383838; stroke-width: 1.0;\"/><ellipse cx=\"613.6817\" cy=\"233.2129\" fill=\"#383838\" rx=\"2\" ry=\"2\" style=\"stroke: #383838; stroke-width: 1.0;\"/><ellipse cx=\"620.1389\" cy=\"240.8486\" fill=\"#383838\" rx=\"2\" ry=\"2\" style=\"stroke: #383838; stroke-width: 1.0;\"/></a><!--MD5=[3ba7f84426a351b0878cd67bc7985a78]\n",
       "link E7 to E12--><a href=\"psysml:4ca97a61-0ca5-4f7e-882c-816ad4a89645\" target=\"_top\" title=\"psysml:4ca97a61-0ca5-4f7e-882c-816ad4a89645\" xlink:actuate=\"onRequest\" xlink:href=\"psysml:4ca97a61-0ca5-4f7e-882c-816ad4a89645\" xlink:show=\"new\" xlink:title=\"psysml:4ca97a61-0ca5-4f7e-882c-816ad4a89645\" xlink:type=\"simple\"><path d=\"M953.12,193.06 C967.13,206.43 985.35,223.81 1001.4,239.13 \" fill=\"none\" id=\"E7-&gt;E12\" style=\"stroke: #383838; stroke-width: 1.0;\"/><polygon fill=\"#FFFFFF\" points=\"1015.92,252.98,997.3471,244.9149,1007.019,234.7929,1015.92,252.98\" style=\"stroke: #383838; stroke-width: 1.0;\"/><ellipse cx=\"994.6077\" cy=\"239.531\" fill=\"#383838\" rx=\"2\" ry=\"2\" style=\"stroke: #383838; stroke-width: 1.0;\"/><ellipse cx=\"1001.5162\" cy=\"232.301\" fill=\"#383838\" rx=\"2\" ry=\"2\" style=\"stroke: #383838; stroke-width: 1.0;\"/></a><!--MD5=[79c20e47ca7a9634b8a878f2f41c203f]\n",
       "link E8 to E12--><a href=\"psysml:7c660498-a0fd-44db-8ac6-fdeaa91c5b2d\" target=\"_top\" title=\"psysml:7c660498-a0fd-44db-8ac6-fdeaa91c5b2d\" xlink:actuate=\"onRequest\" xlink:href=\"psysml:7c660498-a0fd-44db-8ac6-fdeaa91c5b2d\" xlink:show=\"new\" xlink:title=\"psysml:7c660498-a0fd-44db-8ac6-fdeaa91c5b2d\" xlink:type=\"simple\"><path d=\"M1124.88,193.06 C1110.87,206.43 1092.65,223.81 1076.6,239.13 \" fill=\"none\" id=\"E8-&gt;E12\" style=\"stroke: #383838; stroke-width: 1.0;\"/><polygon fill=\"#FFFFFF\" points=\"1062.08,252.98,1070.981,234.7929,1080.6529,244.9149,1062.08,252.98\" style=\"stroke: #383838; stroke-width: 1.0;\"/><ellipse cx=\"1076.4838\" cy=\"232.301\" fill=\"#383838\" rx=\"2\" ry=\"2\" style=\"stroke: #383838; stroke-width: 1.0;\"/><ellipse cx=\"1083.3923\" cy=\"239.531\" fill=\"#383838\" rx=\"2\" ry=\"2\" style=\"stroke: #383838; stroke-width: 1.0;\"/></a><!--MD5=[a1b670ebc151d08c00312062bddfc35e]\n",
       "link E9 to E14--><a href=\"psysml:1b76d035-0578-4f92-afdf-bd2567522434\" target=\"_top\" title=\"psysml:1b76d035-0578-4f92-afdf-bd2567522434\" xlink:actuate=\"onRequest\" xlink:href=\"psysml:1b76d035-0578-4f92-afdf-bd2567522434\" xlink:show=\"new\" xlink:title=\"psysml:1b76d035-0578-4f92-afdf-bd2567522434\" xlink:type=\"simple\"><path d=\"M1328,193.06 C1328,204.64 1328,219.23 1328,232.87 \" fill=\"none\" id=\"E9-&gt;E14\" style=\"stroke: #383838; stroke-width: 1.0;\"/><polygon fill=\"#FFFFFF\" points=\"1328,252.98,1321,233.98,1335,233.98,1328,252.98\" style=\"stroke: #383838; stroke-width: 1.0;\"/><ellipse cx=\"1323\" cy=\"228.28\" fill=\"#383838\" rx=\"2\" ry=\"2\" style=\"stroke: #383838; stroke-width: 1.0;\"/><ellipse cx=\"1333\" cy=\"228.28\" fill=\"#383838\" rx=\"2\" ry=\"2\" style=\"stroke: #383838; stroke-width: 1.0;\"/></a><!--MD5=[fe9cd7b304754259e7a643c2e1873390]\n",
       "@startuml\r\n",
       "skinparam monochrome true\r\n",
       "skinparam classbackgroundcolor white\r\n",
       "skinparam shadowing false\r\n",
       "skinparam wrapWidth 300\r\n",
       "hide circle\r\n",
       "\r\n",
       "package \"Missiesystemen\" as E1  [[psysml:75eccc86-60dc-4108-9938-88ad33869614 ]]  {\r\n",
       "comp def \"t_brug\" as E2  <<(T,blue) part  def>> [[psysml:8b3cb8e4-e621-4505-80e6-fa5e242e7e30 ]] {\r\n",
       "}\r\n",
       "comp usage \"de_val: t_Val \" as E3  <<(T,blue) part>> [[psysml:66c13a60-6a70-4167-a4b5-45b0c5bc803a ]] {\r\n",
       "}\r\n",
       "comp usage \"de_vaarweg: t_Vaarweg \" as E4  <<(T,blue) part>> [[psysml:1bd50de7-83a1-411f-a8ba-66d8f9a23d80 ]] {\r\n",
       "}\r\n",
       "comp usage \"t_sein_links: t_Scheepvaartsein \" as E5  <<(T,blue) part>> [[psysml:0871d3ec-9ac1-40f7-8dd7-f47e5730b00f ]] {\r\n",
       "}\r\n",
       "comp usage \"t_sein_rechts: t_Scheepvaartsein \" as E6  <<(T,blue) part>> [[psysml:9b2d367f-68ea-48b4-b496-c285815caef1 ]] {\r\n",
       "}\r\n",
       "comp usage \"bruglicht_onder: t_Bruglicht \" as E7  <<(T,blue) part>> [[psysml:9373f109-6871-40eb-a3a6-5fec2f3111db ]] {\r\n",
       "}\r\n",
       "comp usage \"bruglicht_boven: t_Bruglicht \" as E8  <<(T,blue) part>> [[psysml:7d827f94-f4bb-4766-ab9f-f69562d5cc0d ]] {\r\n",
       "}\r\n",
       "comp usage \"plc: t_Besturing \" as E9  <<(T,blue) part>> [[psysml:b1c5b940-491b-4ac2-8423-bdfbf3648aac ]] {\r\n",
       "}\r\n",
       "comp def \"t_Val\" as E10  <<(T,blue) part  def>> [[psysml:cc7e83a0-2075-4344-ab8e-ad9ae569b91d ]] {\r\n",
       "}\r\n",
       "comp def \"t_Vaarweg\" as E11  <<(T,blue) part  def>> [[psysml:c6785c9f-dfc3-4b30-b3dc-cf5f99a98be3 ]] {\r\n",
       "}\r\n",
       "comp def \"t_Bruglicht\" as E12  <<(T,blue) part  def>> [[psysml:60f0f7a9-6647-43e3-8eb8-e679f50f5b63 ]] {\r\n",
       "}\r\n",
       "comp def \"t_Scheepvaartsein\" as E13  <<(T,blue) part  def>> [[psysml:417210b9-df36-4bdd-9b91-cbbf16a60b3f ]] {\r\n",
       "}\r\n",
       "comp def \"t_Besturing\" as E14  <<(T,blue) part  def>> [[psysml:577cd30c-895c-4167-babd-ba53add05b60 ]] {\r\n",
       "}\r\n",
       "}\r\n",
       "E2 o- - \"1\"E3 [[psysml:24f3cc23-317e-4862-bbd8-ef1bc960845f ]] \r\n",
       "E2 o- - \"1\"E4 [[psysml:a4f84ce5-16cc-4b52-b179-56536b9d8242 ]] \r\n",
       "E2 o- - \"1\"E5 [[psysml:bd808291-3992-40c5-b37d-67c7cd3d2232 ]] \r\n",
       "E2 o- - \"1\"E6 [[psysml:b4658312-c43b-4cf5-8c0e-3c3a6592c636 ]] \r\n",
       "E2 o- - \"1\"E7 [[psysml:c15dc297-c4aa-4790-9247-e5c0a717e055 ]] \r\n",
       "E2 o- - \"1\"E8 [[psysml:722cde5e-a656-4769-b52b-e949ac9a00f9 ]] \r\n",
       "E2 o- - \"1\"E9 [[psysml:91357c19-77ed-4c63-97e7-bc155c196475 ]] \r\n",
       "E3 - -:|> E10 [[psysml:21f76030-7a04-485e-89f1-0ac382170d8e ]] \r\n",
       "E4 - -:|> E11 [[psysml:73507273-4bc2-483a-8ad4-8ae4d533c9ee ]] \r\n",
       "E5 - -:|> E13 [[psysml:e153a640-08e1-44cb-b9e7-78886984813e ]] \r\n",
       "E6 - -:|> E13 [[psysml:80690def-0f6d-4b21-bb50-429ddceb93a9 ]] \r\n",
       "E7 - -:|> E12 [[psysml:4ca97a61-0ca5-4f7e-882c-816ad4a89645 ]] \r\n",
       "E8 - -:|> E12 [[psysml:7c660498-a0fd-44db-8ac6-fdeaa91c5b2d ]] \r\n",
       "E9 - -:|> E14 [[psysml:1b76d035-0578-4f92-afdf-bd2567522434 ]] \r\n",
       "@enduml\r\n",
       "\n",
       "PlantUML version 1.2020.13(Sat Jun 13 05:26:38 PDT 2020)\n",
       "(EPL source distribution)\n",
       "Java Runtime: OpenJDK Runtime Environment\n",
       "JVM: OpenJDK 64-Bit Server VM\n",
       "Default Encoding: UTF-8\n",
       "Language: en\n",
       "Country: US\n",
       "--></g></svg>"
      ]
     },
     "execution_count": 8,
     "metadata": {},
     "output_type": "execute_result"
    }
   ],
   "source": [
    "%viz Missiesystemen"
   ]
  },
  {
   "cell_type": "code",
   "execution_count": null,
   "id": "990b0d04",
   "metadata": {},
   "outputs": [],
   "source": []
  }
 ],
 "metadata": {
  "kernelspec": {
   "display_name": "SysML",
   "language": "sysml",
   "name": "sysml"
  },
  "language_info": {
   "codemirror_mode": "sysml",
   "file_extension": ".sysml",
   "mimetype": "text/x-sysml",
   "name": "SysML",
   "pygments_lexer": "java",
   "version": "1.0.0"
  }
 },
 "nbformat": 4,
 "nbformat_minor": 5
}
