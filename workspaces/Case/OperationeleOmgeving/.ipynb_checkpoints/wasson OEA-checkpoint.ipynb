{
 "cells": [
  {
   "cell_type": "markdown",
   "id": "5c46fa60",
   "metadata": {},
   "source": [
    "# Wasson's Operating Environment Architecture\n",
    "\n",
    "Eric Burgers (Semapro), Rene Krouwel (CGI), Wouter Geurts (CGI)\n",
    "0.0.1-rc1\n",
    "\n",
    "## Starten met systeemdefinitie\n",
    "In het algemeen zal, voordat een systeem wordt uitgewerkt, de **omgeving** van een systeem in kaart worden gebracht. Een correcte identificatie van de omgeving heeft de volgende voordelen:\n",
    "\n",
    "- De systeemgrenzen zijn correct vastgesteld, en daardoor is ook bekend wat **wel** en **niet** tot het systeem behoort;\n",
    "- De **externe** raakvlakken zin identificeerbaar doordat de systeemgrenzen bekend zijn;\n",
    "- Door expliciet te werken met de systeemgrenzen kan ook precies bepaald worden **welk** probleem een systeem moet oplossen.\n",
    "\n",
    "Vaak worden de systeemgrenzen geidentificeerd in een z.g. contextdiagram. Een context diagram kan *formeel* of *informeel* worden opgeschreven. Een voorbeeld van een informeel contextdiagram komt uit de Landelijke Tunnelstandaard:\n",
    "\n",
    "![infomele context](rws-tunnel-context.png)\n",
    "\n",
    "Alhoewel een informeel contextdiagram helpt bij de afbakening van een systeem, blijven veel vragen over:\n",
    "\n",
    "- Wat zijn de externe raakvlakken, *precies*, van het systeem dat ontwikkeld moet worden?\n",
    "- Maken we 1 systeem of een *system of systems*?\n",
    "- Hoe gaan we om met tijdelijke- of hulpsystemen?\n",
    "- Hoe gaan we om met belanghebbenden (*stakeholders*) en hun voorwaarden voor de toepassing van het systeem?\n",
    "- Wat is de relatie tussen het systeem en bijvoorbeeld de bedrijfsprocessen (operationele procedures, onderhoud, etc.)\n",
    "- Hoe gaan we om met standaarden waaraan het systeem moet voldoen\n",
    "- Zijn er behalve contextsystemen (denk aan nutsvoorzieningen, weginfrastructuur, etc.) ook nog andere factoren waar rekening mee gehouden moet worden (bijvoorbeeld omgevingscondities)?\n",
    "\n",
    "\n",
    "\n"
   ]
  },
  {
   "cell_type": "code",
   "execution_count": 1,
   "id": "112ebf00",
   "metadata": {},
   "outputs": [
    {
     "data": {
      "text/plain": [
       "Package SystemOfInterest (097f9845-2bf4-439a-8809-5c24ffee5fa5)\n"
      ]
     },
     "execution_count": 1,
     "metadata": {},
     "output_type": "execute_result"
    }
   ],
   "source": [
    "package 'SystemOfInterest' {\n",
    "\tdoc /* This package owns \n",
    "\t     * the definition of\n",
    "\t     * the system of interest\n",
    "\t     */\n",
    "\t\n",
    "\tpart def Tunnelsysteem {\n",
    "\t\tdoc WSDoc1 /* goal: accellerate your development */\n",
    "\n",
    "\t}\n",
    "\t\n",
    "\tpart HetSysteem : Tunnelsysteem {\n",
    "\t\tdoc  /* This workshop will be launched in October */\n",
    "\t\t\n",
    "\t}\n",
    "}"
   ]
  },
  {
   "cell_type": "code",
   "execution_count": 2,
   "id": "187b5aa9",
   "metadata": {},
   "outputs": [
    {
     "data": {
      "image/svg+xml": [
       "<?xml version=\"1.0\" encoding=\"UTF-8\" standalone=\"no\"?><svg xmlns=\"http://www.w3.org/2000/svg\" xmlns:xlink=\"http://www.w3.org/1999/xlink\" contentScriptType=\"application/ecmascript\" contentStyleType=\"text/css\" height=\"368px\" preserveAspectRatio=\"none\" style=\"width:589px;height:368px;\" version=\"1.1\" viewBox=\"0 0 589 368\" width=\"589px\" zoomAndPan=\"magnify\"><defs/><g><!--MD5=[fbc87193dbaf4d95561dea2c320d4a47]\n",
       "cluster E1--><a href=\"psysml:097f9845-2bf4-439a-8809-5c24ffee5fa5\" target=\"_top\" title=\"psysml:097f9845-2bf4-439a-8809-5c24ffee5fa5\" xlink:actuate=\"onRequest\" xlink:href=\"psysml:097f9845-2bf4-439a-8809-5c24ffee5fa5\" xlink:show=\"new\" xlink:title=\"psysml:097f9845-2bf4-439a-8809-5c24ffee5fa5\" xlink:type=\"simple\"><polygon fill=\"#FFFFFF\" points=\"16,6,160,6,167,28.2969,567,28.2969,567,356,16,356,16,6\" style=\"stroke: #000000; stroke-width: 1.5;\"/><line style=\"stroke: #000000; stroke-width: 1.5;\" x1=\"16\" x2=\"167\" y1=\"28.2969\" y2=\"28.2969\"/><text fill=\"#000000\" font-family=\"sans-serif\" font-size=\"14\" font-weight=\"bold\" lengthAdjust=\"spacingAndGlyphs\" textLength=\"138\" x=\"20\" y=\"20.9951\">SystemOfInterest</text></a><!--MD5=[09b614a08d8cba4a07c9adeb5e0fee81]\n",
       "class E3--><a href=\"psysml:49714752-d95c-4d99-985c-b40a4fd00290\" target=\"_top\" title=\"psysml:49714752-d95c-4d99-985c-b40a4fd00290\" xlink:actuate=\"onRequest\" xlink:href=\"psysml:49714752-d95c-4d99-985c-b40a4fd00290\" xlink:show=\"new\" xlink:title=\"psysml:49714752-d95c-4d99-985c-b40a4fd00290\" xlink:type=\"simple\"><rect fill=\"#FFFFFF\" height=\"45.9375\" id=\"E3\" style=\"stroke: #383838; stroke-width: 1.5;\" width=\"100\" x=\"215\" y=\"286\"/><text fill=\"#000000\" font-family=\"sans-serif\" font-size=\"12\" font-style=\"italic\" lengthAdjust=\"spacingAndGlyphs\" textLength=\"68\" x=\"231\" y=\"302.1387\">«part  def»</text><text fill=\"#000000\" font-family=\"sans-serif\" font-size=\"12\" lengthAdjust=\"spacingAndGlyphs\" textLength=\"94\" x=\"218\" y=\"316.1074\">Tunnelsysteem</text><line style=\"stroke: #383838; stroke-width: 1.5;\" x1=\"216\" x2=\"314\" y1=\"323.9375\" y2=\"323.9375\"/></a><!--MD5=[270fce915f116d4de14055a7c1d9a0f3]\n",
       "class E5--><a href=\"psysml:9d574dd5-9e05-4d8c-9fe8-037393774b50\" target=\"_top\" title=\"psysml:9d574dd5-9e05-4d8c-9fe8-037393774b50\" xlink:actuate=\"onRequest\" xlink:href=\"psysml:9d574dd5-9e05-4d8c-9fe8-037393774b50\" xlink:show=\"new\" xlink:title=\"psysml:9d574dd5-9e05-4d8c-9fe8-037393774b50\" xlink:type=\"simple\"><rect fill=\"#FFFFFF\" height=\"45.9375\" id=\"E5\" rx=\"10\" ry=\"10\" style=\"stroke: #383838; stroke-width: 1.5;\" width=\"187\" x=\"42.5\" y=\"180\"/><text fill=\"#000000\" font-family=\"sans-serif\" font-size=\"12\" font-style=\"italic\" lengthAdjust=\"spacingAndGlyphs\" textLength=\"40\" x=\"116\" y=\"196.1387\">«part»</text><text fill=\"#000000\" font-family=\"sans-serif\" font-size=\"12\" lengthAdjust=\"spacingAndGlyphs\" textLength=\"177\" x=\"45.5\" y=\"210.1074\">HetSysteem: Tunnelsysteem</text><line style=\"stroke: #383838; stroke-width: 1.5;\" x1=\"43.5\" x2=\"228.5\" y1=\"217.9375\" y2=\"217.9375\"/></a><path d=\"M373,49 L373,119.5313 L535,119.5313 L535,59 L525,49 L373,49 \" fill=\"#ECECEC\" style=\"stroke: #383838; stroke-width: 1.0;\"/><path d=\"M525,49 L525,59 L535,59 L525,49 \" fill=\"#ECECEC\" style=\"stroke: #383838; stroke-width: 1.0;\"/><a href=\"psysml:18d9a20b-75cb-432b-aa99-7e49882f011a\" target=\"_top\" title=\"psysml:18d9a20b-75cb-432b-aa99-7e49882f011a\" xlink:actuate=\"onRequest\" xlink:href=\"psysml:18d9a20b-75cb-432b-aa99-7e49882f011a\" xlink:show=\"new\" xlink:title=\"psysml:18d9a20b-75cb-432b-aa99-7e49882f011a\" xlink:type=\"simple\"><text fill=\"#1C1C1C\" font-family=\"sans-serif\" font-size=\"13\" lengthAdjust=\"spacingAndGlyphs\" text-decoration=\"underline\" textLength=\"13\" x=\"379\" y=\"66.0669\">@</text></a><text fill=\"#000000\" font-family=\"sans-serif\" font-size=\"13\" lengthAdjust=\"spacingAndGlyphs\" textLength=\"119\" x=\"392\" y=\"66.0669\">This package owns</text><text fill=\"#000000\" font-family=\"sans-serif\" font-size=\"13\" lengthAdjust=\"spacingAndGlyphs\" textLength=\"99\" x=\"379\" y=\"81.1997\">the definition of</text><text fill=\"#000000\" font-family=\"sans-serif\" font-size=\"13\" lengthAdjust=\"spacingAndGlyphs\" textLength=\"141\" x=\"379\" y=\"96.3325\">the system of interest</text><text fill=\"#000000\" font-family=\"sans-serif\" font-size=\"13\" lengthAdjust=\"spacingAndGlyphs\" textLength=\"0\" x=\"383\" y=\"111.4653\"/><path d=\"M264.5,190.5 L264.5,215.6328 A0,0 0 0 0 264.5,215.6328 L375.7,215.6328 L292.44,285.88 L383.7,215.6328 L523.5,215.6328 A0,0 0 0 0 523.5,215.6328 L523.5,200.5 L513.5,190.5 L264.5,190.5 A0,0 0 0 0 264.5,190.5 \" fill=\"#ECECEC\" style=\"stroke: #383838; stroke-width: 1.0;\"/><path d=\"M513.5,190.5 L513.5,200.5 L523.5,200.5 L513.5,190.5 \" fill=\"#ECECEC\" style=\"stroke: #383838; stroke-width: 1.0;\"/><a href=\"psysml:5d65315e-768a-4fd7-9a2f-c859b4868a77\" target=\"_top\" title=\"psysml:5d65315e-768a-4fd7-9a2f-c859b4868a77\" xlink:actuate=\"onRequest\" xlink:href=\"psysml:5d65315e-768a-4fd7-9a2f-c859b4868a77\" xlink:show=\"new\" xlink:title=\"psysml:5d65315e-768a-4fd7-9a2f-c859b4868a77\" xlink:type=\"simple\"><text fill=\"#1C1C1C\" font-family=\"sans-serif\" font-size=\"13\" lengthAdjust=\"spacingAndGlyphs\" text-decoration=\"underline\" textLength=\"13\" x=\"270.5\" y=\"207.5669\">@</text></a><text fill=\"#000000\" font-family=\"sans-serif\" font-size=\"13\" lengthAdjust=\"spacingAndGlyphs\" textLength=\"225\" x=\"283.5\" y=\"207.5669\">goal: accellerate your development</text><path d=\"M40.5,72 L40.5,97.1328 A0,0 0 0 0 40.5,97.1328 L179.72,97.1328 L146.12,179.75 L187.72,97.1328 L337.5,97.1328 A0,0 0 0 0 337.5,97.1328 L337.5,82 L327.5,72 L40.5,72 A0,0 0 0 0 40.5,72 \" fill=\"#ECECEC\" style=\"stroke: #383838; stroke-width: 1.0;\"/><path d=\"M327.5,72 L327.5,82 L337.5,82 L327.5,72 \" fill=\"#ECECEC\" style=\"stroke: #383838; stroke-width: 1.0;\"/><a href=\"psysml:16a814a9-3757-451d-81e4-42958976ad38\" target=\"_top\" title=\"psysml:16a814a9-3757-451d-81e4-42958976ad38\" xlink:actuate=\"onRequest\" xlink:href=\"psysml:16a814a9-3757-451d-81e4-42958976ad38\" xlink:show=\"new\" xlink:title=\"psysml:16a814a9-3757-451d-81e4-42958976ad38\" xlink:type=\"simple\"><text fill=\"#1C1C1C\" font-family=\"sans-serif\" font-size=\"13\" lengthAdjust=\"spacingAndGlyphs\" text-decoration=\"underline\" textLength=\"13\" x=\"46.5\" y=\"89.0669\">@</text></a><text fill=\"#000000\" font-family=\"sans-serif\" font-size=\"13\" lengthAdjust=\"spacingAndGlyphs\" textLength=\"263\" x=\"59.5\" y=\"89.0669\">This workshop will be launched in October</text><!--MD5=[f23a504beb17692cf1ec401fb4a5a911]\n",
       "link E2 to E1--><a href=\"psysml:18d9a20b-75cb-432b-aa99-7e49882f011a\" target=\"_top\" title=\"psysml:18d9a20b-75cb-432b-aa99-7e49882f011a\" xlink:actuate=\"onRequest\" xlink:href=\"psysml:18d9a20b-75cb-432b-aa99-7e49882f011a\" xlink:show=\"new\" xlink:title=\"psysml:18d9a20b-75cb-432b-aa99-7e49882f011a\" xlink:type=\"simple\"><path d=\"M497.49,120.13 C515.99,136.66 536.58,157.68 551,180 C556.29,188.19 558.69,200.36 558.97,201.85 \" fill=\"none\" id=\"E2-E1\" style=\"stroke: #383838; stroke-width: 1.0; stroke-dasharray: 7.0,7.0;\"/></a><!--MD5=[e9be52314489bd878ff4c7144b63c9e1]\n",
       "link E5 to E3--><a href=\"psysml:77ce7bdb-e0bf-40c8-9a35-16d0b7216964\" target=\"_top\" title=\"psysml:77ce7bdb-e0bf-40c8-9a35-16d0b7216964\" xlink:actuate=\"onRequest\" xlink:href=\"psysml:77ce7bdb-e0bf-40c8-9a35-16d0b7216964\" xlink:show=\"new\" xlink:title=\"psysml:77ce7bdb-e0bf-40c8-9a35-16d0b7216964\" xlink:type=\"simple\"><path d=\"M163.36,226.06 C180.37,239.78 202.62,257.71 221.97,273.31 \" fill=\"none\" id=\"E5-&gt;E3\" style=\"stroke: #383838; stroke-width: 1.0;\"/><polygon fill=\"#FFFFFF\" points=\"237.68,285.98,218.4958,279.5019,227.2841,268.604,237.68,285.98\" style=\"stroke: #383838; stroke-width: 1.0;\"/><ellipse cx=\"215.3142\" cy=\"274.367\" fill=\"#383838\" rx=\"2\" ry=\"2\" style=\"stroke: #383838; stroke-width: 1.0;\"/><ellipse cx=\"221.5916\" cy=\"266.5827\" fill=\"#383838\" rx=\"2\" ry=\"2\" style=\"stroke: #383838; stroke-width: 1.0;\"/></a><!--MD5=[73b08bf7dfb5f259a0c4dd9defb3ba3f]\n",
       "@startuml\r\n",
       "skinparam monochrome true\r\n",
       "skinparam classbackgroundcolor white\r\n",
       "skinparam shadowing false\r\n",
       "skinparam wrapWidth 300\r\n",
       "hide circle\r\n",
       "\r\n",
       "package \"SystemOfInterest\" as E1  [[psysml:097f9845-2bf4-439a-8809-5c24ffee5fa5 ]]  {\r\n",
       "comp def \"Tunnelsysteem\" as E3  <<(T,blue) part  def>> [[psysml:49714752-d95c-4d99-985c-b40a4fd00290 ]] {\r\n",
       "}\r\n",
       "comp usage \"HetSysteem: Tunnelsysteem \" as E5  <<(T,blue) part>> [[psysml:9d574dd5-9e05-4d8c-9fe8-037393774b50 ]] {\r\n",
       "}\r\n",
       "note as E2\r\n",
       "[[psysml:18d9a20b-75cb-432b-aa99-7e49882f011a @]]This package owns\r\n",
       "the definition of\r\n",
       "the system of interest\r\n",
       "\r\n",
       "end note \r\n",
       "note as E4\r\n",
       "[[psysml:5d65315e-768a-4fd7-9a2f-c859b4868a77 @]]goal: accellerate your development\r\n",
       "end note \r\n",
       "note as E6\r\n",
       "[[psysml:16a814a9-3757-451d-81e4-42958976ad38 @]]This workshop will be launched in October\r\n",
       "end note \r\n",
       "}\r\n",
       "E2 .. E1 [[psysml:18d9a20b-75cb-432b-aa99-7e49882f011a ]] \r\n",
       "E4 .. E3 [[psysml:5d65315e-768a-4fd7-9a2f-c859b4868a77 ]] \r\n",
       "E5 - -:|> E3 [[psysml:77ce7bdb-e0bf-40c8-9a35-16d0b7216964 ]] \r\n",
       "E6 .. E5 [[psysml:16a814a9-3757-451d-81e4-42958976ad38 ]] \r\n",
       "@enduml\r\n",
       "\n",
       "PlantUML version 1.2020.13(Sat Jun 13 05:26:38 PDT 2020)\n",
       "(EPL source distribution)\n",
       "Java Runtime: OpenJDK Runtime Environment\n",
       "JVM: OpenJDK 64-Bit Server VM\n",
       "Default Encoding: UTF-8\n",
       "Language: en\n",
       "Country: US\n",
       "--></g></svg>"
      ]
     },
     "execution_count": 2,
     "metadata": {},
     "output_type": "execute_result"
    }
   ],
   "source": [
    "%viz SystemOfInterest"
   ]
  },
  {
   "cell_type": "markdown",
   "id": "7fb25289",
   "metadata": {},
   "source": [
    "** WORK IN PROGRESS **"
   ]
  },
  {
   "cell_type": "code",
   "execution_count": null,
   "id": "6482882f",
   "metadata": {},
   "outputs": [],
   "source": []
  }
 ],
 "metadata": {
  "kernelspec": {
   "display_name": "SysML",
   "language": "sysml",
   "name": "sysml"
  },
  "language_info": {
   "codemirror_mode": "sysml",
   "file_extension": ".sysml",
   "mimetype": "text/x-sysml",
   "name": "SysML",
   "pygments_lexer": "java",
   "version": "1.0.0"
  }
 },
 "nbformat": 4,
 "nbformat_minor": 5
}
