{
 "cells": [
  {
   "cell_type": "markdown",
   "id": "1df3fe8a",
   "metadata": {},
   "source": [
    "# Welkom\n",
    "\n",
    "Dit is het hoofd notebook van de sysml workshop. Eerst behandelen we de jupyter omgeving kort.\n",
    "\n",
    "Als je al bekend bent met sysml-jupyter, jump dan direct naar het model [wasson case](file:./Case/OperationeleOmgeving/wasson\\ OEA.ipynb)\n"
   ]
  },
  {
   "cell_type": "markdown",
   "id": "ec5daff7",
   "metadata": {},
   "source": [
    "# jupyter basics\n",
    "\n",
    "Jupyter is een notebook met extra's in de balk ![balk](jupyter_menubar.png). Het 'play' icoontje doet een 'cell' uitvoeren. Al lezend door het notebook is het altijd goed om per cell 'play' uit te voeren en zien wat er gebeurt.\n",
    "\n",
    "Een tweede ding zijn de z.g. magic commando's, deze betreffen\n",
    "\n",
    "* ```%viz <modulenaam>```: visualiseer een module\n",
    "* ```%show <modulenaam>```: geef inzicht in de structuur van de module (tekstueel) \n",
    "* ```%export```\n",
    "* ```%list```\n",
    "* ```%publish```\n",
    "* ```%view```"
   ]
  },
  {
   "cell_type": "markdown",
   "id": "a19e19fb",
   "metadata": {},
   "source": [
    "# my first sysml\n",
    "We gaan in sneltreinvaart de volgende concepten door:\n",
    "\n",
    "* ```package```: de naam zegt het al, typisch dat wat je in 1 plaatje wilt hebben\n",
    "* ```part```: onderdeel met decompositie\n",
    "* ```action```: eenheid van gedrag\n",
    "* ```requirement```: om een eis uit te drukken\n",
    "\n",
    "* we stippen ook het principe van ```def``` aan, hiermee kun je types definieren\n"
   ]
  },
  {
   "cell_type": "code",
   "execution_count": 1,
   "id": "3d774750",
   "metadata": {},
   "outputs": [
    {
     "data": {
      "text/plain": [
       "Package pakket (e2b0db3e-75ce-4a0e-980b-e32d8e197e68)\n"
      ]
     },
     "execution_count": 1,
     "metadata": {},
     "output_type": "execute_result"
    }
   ],
   "source": [
    "package pakket {\n",
    "   part verbinding {\n",
    "       part bout;\n",
    "       part moer;\n",
    "   }\n",
    "}"
   ]
  },
  {
   "cell_type": "code",
   "execution_count": 2,
   "id": "70f1a0aa",
   "metadata": {},
   "outputs": [
    {
     "data": {
      "image/svg+xml": [
       "<?xml version=\"1.0\" encoding=\"UTF-8\" standalone=\"no\"?><svg xmlns=\"http://www.w3.org/2000/svg\" xmlns:xlink=\"http://www.w3.org/1999/xlink\" contentScriptType=\"application/ecmascript\" contentStyleType=\"text/css\" height=\"221px\" preserveAspectRatio=\"none\" style=\"width:189px;height:221px;\" version=\"1.1\" viewBox=\"0 0 189 221\" width=\"189px\" zoomAndPan=\"magnify\"><defs/><g><!--MD5=[fbc87193dbaf4d95561dea2c320d4a47]\n",
       "cluster E1--><a href=\"psysml:e2b0db3e-75ce-4a0e-980b-e32d8e197e68\" target=\"_top\" title=\"psysml:e2b0db3e-75ce-4a0e-980b-e32d8e197e68\" xlink:actuate=\"onRequest\" xlink:href=\"psysml:e2b0db3e-75ce-4a0e-980b-e32d8e197e68\" xlink:show=\"new\" xlink:title=\"psysml:e2b0db3e-75ce-4a0e-980b-e32d8e197e68\" xlink:type=\"simple\"><polygon fill=\"#FFFFFF\" points=\"16,6,75,6,82,28.2969,167,28.2969,167,209,16,209,16,6\" style=\"stroke: #000000; stroke-width: 1.5;\"/><line style=\"stroke: #000000; stroke-width: 1.5;\" x1=\"16\" x2=\"82\" y1=\"28.2969\" y2=\"28.2969\"/><text fill=\"#000000\" font-family=\"sans-serif\" font-size=\"14\" font-weight=\"bold\" lengthAdjust=\"spacingAndGlyphs\" textLength=\"53\" x=\"20\" y=\"20.9951\">pakket</text></a><!--MD5=[b4997ac47864f28c2f74865a473b2911]\n",
       "class E2--><a href=\"psysml:0289c99b-321b-441a-8faf-8e80c4276b83\" target=\"_top\" title=\"psysml:0289c99b-321b-441a-8faf-8e80c4276b83\" xlink:actuate=\"onRequest\" xlink:href=\"psysml:0289c99b-321b-441a-8faf-8e80c4276b83\" xlink:show=\"new\" xlink:title=\"psysml:0289c99b-321b-441a-8faf-8e80c4276b83\" xlink:type=\"simple\"><rect fill=\"#FFFFFF\" height=\"45.9375\" id=\"E2\" rx=\"10\" ry=\"10\" style=\"stroke: #383838; stroke-width: 1.5;\" width=\"75\" x=\"53.5\" y=\"41\"/><text fill=\"#000000\" font-family=\"sans-serif\" font-size=\"12\" font-style=\"italic\" lengthAdjust=\"spacingAndGlyphs\" textLength=\"40\" x=\"71\" y=\"57.1387\">«part»</text><text fill=\"#000000\" font-family=\"sans-serif\" font-size=\"12\" lengthAdjust=\"spacingAndGlyphs\" textLength=\"65\" x=\"56.5\" y=\"71.1074\">verbinding</text><line style=\"stroke: #383838; stroke-width: 1.5;\" x1=\"54.5\" x2=\"127.5\" y1=\"78.9375\" y2=\"78.9375\"/></a><!--MD5=[09b614a08d8cba4a07c9adeb5e0fee81]\n",
       "class E3--><a href=\"psysml:9bdfecf0-8aaa-48d0-8b96-4b9379895e70\" target=\"_top\" title=\"psysml:9bdfecf0-8aaa-48d0-8b96-4b9379895e70\" xlink:actuate=\"onRequest\" xlink:href=\"psysml:9bdfecf0-8aaa-48d0-8b96-4b9379895e70\" xlink:show=\"new\" xlink:title=\"psysml:9bdfecf0-8aaa-48d0-8b96-4b9379895e70\" xlink:type=\"simple\"><rect fill=\"#FFFFFF\" height=\"45.9375\" id=\"E3\" rx=\"10\" ry=\"10\" style=\"stroke: #383838; stroke-width: 1.5;\" width=\"42\" x=\"32\" y=\"147\"/><text fill=\"#000000\" font-family=\"sans-serif\" font-size=\"12\" font-style=\"italic\" lengthAdjust=\"spacingAndGlyphs\" textLength=\"40\" x=\"33\" y=\"163.1387\">«part»</text><text fill=\"#000000\" font-family=\"sans-serif\" font-size=\"12\" lengthAdjust=\"spacingAndGlyphs\" textLength=\"29\" x=\"36.5\" y=\"177.1074\">bout</text><line style=\"stroke: #383838; stroke-width: 1.5;\" x1=\"33\" x2=\"73\" y1=\"184.9375\" y2=\"184.9375\"/></a><!--MD5=[ebbe1d658d1005bcc118a6aa81145e00]\n",
       "class E4--><a href=\"psysml:0c88e711-54a2-4a0e-85df-d97a2d235500\" target=\"_top\" title=\"psysml:0c88e711-54a2-4a0e-85df-d97a2d235500\" xlink:actuate=\"onRequest\" xlink:href=\"psysml:0c88e711-54a2-4a0e-85df-d97a2d235500\" xlink:show=\"new\" xlink:title=\"psysml:0c88e711-54a2-4a0e-85df-d97a2d235500\" xlink:type=\"simple\"><rect fill=\"#FFFFFF\" height=\"45.9375\" id=\"E4\" rx=\"10\" ry=\"10\" style=\"stroke: #383838; stroke-width: 1.5;\" width=\"42\" x=\"109\" y=\"147\"/><text fill=\"#000000\" font-family=\"sans-serif\" font-size=\"12\" font-style=\"italic\" lengthAdjust=\"spacingAndGlyphs\" textLength=\"40\" x=\"110\" y=\"163.1387\">«part»</text><text fill=\"#000000\" font-family=\"sans-serif\" font-size=\"12\" lengthAdjust=\"spacingAndGlyphs\" textLength=\"32\" x=\"112\" y=\"177.1074\">moer</text><line style=\"stroke: #383838; stroke-width: 1.5;\" x1=\"110\" x2=\"150\" y1=\"184.9375\" y2=\"184.9375\"/></a><!--MD5=[209b3feb70ccb6233bfe1053d122c12c]\n",
       "reverse link E2 to E3--><a href=\"psysml:31d1bb07-4a1e-4405-b088-ba838e69dbee\" target=\"_top\" title=\"psysml:31d1bb07-4a1e-4405-b088-ba838e69dbee\" xlink:actuate=\"onRequest\" xlink:href=\"psysml:31d1bb07-4a1e-4405-b088-ba838e69dbee\" xlink:show=\"new\" xlink:title=\"psysml:31d1bb07-4a1e-4405-b088-ba838e69dbee\" xlink:type=\"simple\"><path d=\"M78.4,99.49 C72.68,115.15 66.08,133.19 61.05,146.98 \" fill=\"none\" id=\"E2&lt;-E3\" style=\"stroke: #383838; stroke-width: 1.0;\"/><polygon fill=\"#FFFFFF\" points=\"82.94,87.06,77.1196,91.317,78.8105,98.3271,84.6309,94.07,82.94,87.06\" style=\"stroke: #383838; stroke-width: 1.0;\"/><text fill=\"#000000\" font-family=\"sans-serif\" font-size=\"13\" lengthAdjust=\"spacingAndGlyphs\" textLength=\"8\" x=\"54.1384\" y=\"135.8709\">1</text></a><!--MD5=[9618e71518536f8baf3342ff6fdab317]\n",
       "reverse link E2 to E4--><a href=\"psysml:7bbe1e43-e814-4bc3-8b0e-bd87df739861\" target=\"_top\" title=\"psysml:7bbe1e43-e814-4bc3-8b0e-bd87df739861\" xlink:actuate=\"onRequest\" xlink:href=\"psysml:7bbe1e43-e814-4bc3-8b0e-bd87df739861\" xlink:show=\"new\" xlink:title=\"psysml:7bbe1e43-e814-4bc3-8b0e-bd87df739861\" xlink:type=\"simple\"><path d=\"M103.94,99.49 C109.8,115.15 116.57,133.19 121.74,146.98 \" fill=\"none\" id=\"E2&lt;-E4\" style=\"stroke: #383838; stroke-width: 1.0;\"/><polygon fill=\"#FFFFFF\" points=\"99.27,87.06,97.635,94.0833,103.4893,98.2938,105.1242,91.2705,99.27,87.06\" style=\"stroke: #383838; stroke-width: 1.0;\"/><text fill=\"#000000\" font-family=\"sans-serif\" font-size=\"13\" lengthAdjust=\"spacingAndGlyphs\" textLength=\"8\" x=\"110.4451\" y=\"135.8709\">1</text></a><!--MD5=[8c28929fd6d377f4d2bf128624f50443]\n",
       "@startuml\r\n",
       "skinparam monochrome true\r\n",
       "skinparam classbackgroundcolor white\r\n",
       "skinparam shadowing false\r\n",
       "skinparam wrapWidth 300\r\n",
       "hide circle\r\n",
       "\r\n",
       "package \"pakket\" as E1  [[psysml:e2b0db3e-75ce-4a0e-980b-e32d8e197e68 ]]  {\r\n",
       "comp usage \"verbinding \" as E2  <<(T,blue) part>> [[psysml:0289c99b-321b-441a-8faf-8e80c4276b83 ]] {\r\n",
       "}\r\n",
       "comp usage \"bout \" as E3  <<(T,blue) part>> [[psysml:9bdfecf0-8aaa-48d0-8b96-4b9379895e70 ]] {\r\n",
       "}\r\n",
       "comp usage \"moer \" as E4  <<(T,blue) part>> [[psysml:0c88e711-54a2-4a0e-85df-d97a2d235500 ]] {\r\n",
       "}\r\n",
       "}\r\n",
       "E2 o- - \"1\"E3 [[psysml:31d1bb07-4a1e-4405-b088-ba838e69dbee ]] \r\n",
       "E2 o- - \"1\"E4 [[psysml:7bbe1e43-e814-4bc3-8b0e-bd87df739861 ]] \r\n",
       "@enduml\r\n",
       "\n",
       "PlantUML version 1.2020.13(Sat Jun 13 05:26:38 PDT 2020)\n",
       "(EPL source distribution)\n",
       "Java Runtime: OpenJDK Runtime Environment\n",
       "JVM: OpenJDK 64-Bit Server VM\n",
       "Default Encoding: UTF-8\n",
       "Language: en\n",
       "Country: US\n",
       "--></g></svg>"
      ]
     },
     "execution_count": 2,
     "metadata": {},
     "output_type": "execute_result"
    }
   ],
   "source": [
    "%viz pakket "
   ]
  },
  {
   "cell_type": "code",
   "execution_count": 3,
   "id": "fa977439",
   "metadata": {},
   "outputs": [
    {
     "data": {
      "text/plain": [
       "Package reqPackage (3b600261-491e-4b4a-b637-8ae1bfdc82cb)\n"
      ]
     },
     "execution_count": 3,
     "metadata": {},
     "output_type": "execute_result"
    }
   ],
   "source": [
    "package reqPackage {\n",
    "    requirement <'Req.1'> {\n",
    "        doc /* deze requirement  */\n",
    "        \n",
    "        require reqOneOne;\n",
    "        require reqOneTwo;\n",
    "    }\n",
    "    requirement reqOneOne {\n",
    "    \n",
    "    }\n",
    "    \n",
    "    requirement reqOneTwo {}\n",
    "}"
   ]
  },
  {
   "cell_type": "code",
   "execution_count": 4,
   "id": "89fc11ce",
   "metadata": {},
   "outputs": [
    {
     "data": {
      "image/svg+xml": [
       "<?xml version=\"1.0\" encoding=\"UTF-8\" standalone=\"no\"?><svg xmlns=\"http://www.w3.org/2000/svg\" xmlns:xlink=\"http://www.w3.org/1999/xlink\" contentScriptType=\"application/ecmascript\" contentStyleType=\"text/css\" height=\"284px\" preserveAspectRatio=\"none\" style=\"width:474px;height:284px;\" version=\"1.1\" viewBox=\"0 0 474 284\" width=\"474px\" zoomAndPan=\"magnify\"><defs/><g><!--MD5=[fbc87193dbaf4d95561dea2c320d4a47]\n",
       "cluster E1--><a href=\"psysml:3b600261-491e-4b4a-b637-8ae1bfdc82cb\" target=\"_top\" title=\"psysml:3b600261-491e-4b4a-b637-8ae1bfdc82cb\" xlink:actuate=\"onRequest\" xlink:href=\"psysml:3b600261-491e-4b4a-b637-8ae1bfdc82cb\" xlink:show=\"new\" xlink:title=\"psysml:3b600261-491e-4b4a-b637-8ae1bfdc82cb\" xlink:type=\"simple\"><polygon fill=\"#FFFFFF\" points=\"16,6,115,6,122,28.2969,452,28.2969,452,272,16,272,16,6\" style=\"stroke: #000000; stroke-width: 1.5;\"/><line style=\"stroke: #000000; stroke-width: 1.5;\" x1=\"16\" x2=\"122\" y1=\"28.2969\" y2=\"28.2969\"/><text fill=\"#000000\" font-family=\"sans-serif\" font-size=\"14\" font-weight=\"bold\" lengthAdjust=\"spacingAndGlyphs\" textLength=\"93\" x=\"20\" y=\"20.9951\">reqPackage</text></a><!--MD5=[b4997ac47864f28c2f74865a473b2911]\n",
       "class E2--><a href=\"psysml:361162d6-77db-41c4-bc5b-079bf1aa51d8\" target=\"_top\" title=\"psysml:361162d6-77db-41c4-bc5b-079bf1aa51d8\" xlink:actuate=\"onRequest\" xlink:href=\"psysml:361162d6-77db-41c4-bc5b-079bf1aa51d8\" xlink:show=\"new\" xlink:title=\"psysml:361162d6-77db-41c4-bc5b-079bf1aa51d8\" xlink:type=\"simple\"><rect fill=\"#FFFFFF\" height=\"109.1563\" id=\"E2\" rx=\"10\" ry=\"10\" style=\"stroke: #383838; stroke-width: 1.5;\" width=\"129\" x=\"41.5\" y=\"147\"/><text fill=\"#000000\" font-family=\"sans-serif\" font-size=\"12\" font-style=\"italic\" lengthAdjust=\"spacingAndGlyphs\" textLength=\"91\" x=\"60.5\" y=\"163.1387\">«requirement»</text><text fill=\"#000000\" font-family=\"sans-serif\" font-size=\"12\" lengthAdjust=\"spacingAndGlyphs\" textLength=\"0\" x=\"48.5\" y=\"177.1074\"/><text fill=\"#000000\" font-family=\"sans-serif\" font-size=\"12\" font-weight=\"bold\" lengthAdjust=\"spacingAndGlyphs\" textLength=\"60\" x=\"48.5\" y=\"177.1074\">&lt;Req.1&gt;</text><text fill=\"#000000\" font-family=\"sans-serif\" font-size=\"12\" lengthAdjust=\"spacingAndGlyphs\" textLength=\"0\" x=\"112.5\" y=\"177.1074\"/><text fill=\"#000000\" font-family=\"sans-serif\" font-size=\"12\" lengthAdjust=\"spacingAndGlyphs\" text-decoration=\"line-through\" textLength=\"51\" x=\"112.5\" y=\"177.1074\">noname</text><text fill=\"#000000\" font-family=\"sans-serif\" font-size=\"12\" lengthAdjust=\"spacingAndGlyphs\" textLength=\"0\" x=\"167.5\" y=\"177.1074\"/><line style=\"stroke: #383838; stroke-width: 1.5;\" x1=\"42.5\" x2=\"169.5\" y1=\"184.9375\" y2=\"184.9375\"/><text fill=\"#000000\" font-family=\"sans-serif\" font-size=\"11\" lengthAdjust=\"spacingAndGlyphs\" textLength=\"100\" x=\"47.5\" y=\"199.1479\">deze requirement</text><line style=\"stroke: #383838; stroke-width: 1.0;\" x1=\"42.5\" x2=\"169.5\" y1=\"205.7422\" y2=\"205.7422\"/><text fill=\"#000000\" font-family=\"sans-serif\" font-size=\"11\" font-weight=\"bold\" lengthAdjust=\"spacingAndGlyphs\" textLength=\"46\" x=\"47.5\" y=\"236.7573\">require</text><text fill=\"#000000\" font-family=\"sans-serif\" font-size=\"11\" lengthAdjust=\"spacingAndGlyphs\" textLength=\"65\" x=\"97.5\" y=\"236.7573\">reqOneOne</text><text fill=\"#000000\" font-family=\"sans-serif\" font-size=\"11\" font-weight=\"bold\" lengthAdjust=\"spacingAndGlyphs\" textLength=\"46\" x=\"47.5\" y=\"249.562\">require</text><text fill=\"#000000\" font-family=\"sans-serif\" font-size=\"11\" lengthAdjust=\"spacingAndGlyphs\" textLength=\"65\" x=\"97.5\" y=\"249.562\">reqOneTwo</text><line style=\"stroke: #383838; stroke-width: 1.0;\" x1=\"42.5\" x2=\"74\" y1=\"220.1445\" y2=\"220.1445\"/><text fill=\"#000000\" font-family=\"sans-serif\" font-size=\"11\" lengthAdjust=\"spacingAndGlyphs\" textLength=\"64\" x=\"74\" y=\"223.4526\">constraints</text><line style=\"stroke: #383838; stroke-width: 1.0;\" x1=\"138\" x2=\"169.5\" y1=\"220.1445\" y2=\"220.1445\"/></a><!--MD5=[ebbe1d658d1005bcc118a6aa81145e00]\n",
       "class E4--><a href=\"psysml:4e5163bf-ae4e-4254-9ee5-b79a6d522a65\" target=\"_top\" title=\"psysml:4e5163bf-ae4e-4254-9ee5-b79a6d522a65\" xlink:actuate=\"onRequest\" xlink:href=\"psysml:4e5163bf-ae4e-4254-9ee5-b79a6d522a65\" xlink:show=\"new\" xlink:title=\"psysml:4e5163bf-ae4e-4254-9ee5-b79a6d522a65\" xlink:type=\"simple\"><rect fill=\"#FFFFFF\" height=\"45.9375\" id=\"E4\" rx=\"10\" ry=\"10\" style=\"stroke: #383838; stroke-width: 1.5;\" width=\"93\" x=\"343.5\" y=\"41\"/><text fill=\"#000000\" font-family=\"sans-serif\" font-size=\"12\" font-style=\"italic\" lengthAdjust=\"spacingAndGlyphs\" textLength=\"91\" x=\"344.5\" y=\"57.1387\">«requirement»</text><text fill=\"#000000\" font-family=\"sans-serif\" font-size=\"12\" lengthAdjust=\"spacingAndGlyphs\" textLength=\"71\" x=\"352.5\" y=\"71.1074\">reqOneOne</text><line style=\"stroke: #383838; stroke-width: 1.5;\" x1=\"344.5\" x2=\"435.5\" y1=\"78.9375\" y2=\"78.9375\"/></a><!--MD5=[270fce915f116d4de14055a7c1d9a0f3]\n",
       "class E5--><a href=\"psysml:40fdc929-50f9-4e13-bdb4-9311c97c3b6f\" target=\"_top\" title=\"psysml:40fdc929-50f9-4e13-bdb4-9311c97c3b6f\" xlink:actuate=\"onRequest\" xlink:href=\"psysml:40fdc929-50f9-4e13-bdb4-9311c97c3b6f\" xlink:show=\"new\" xlink:title=\"psysml:40fdc929-50f9-4e13-bdb4-9311c97c3b6f\" xlink:type=\"simple\"><rect fill=\"#FFFFFF\" height=\"45.9375\" id=\"E5\" rx=\"10\" ry=\"10\" style=\"stroke: #383838; stroke-width: 1.5;\" width=\"93\" x=\"215.5\" y=\"41\"/><text fill=\"#000000\" font-family=\"sans-serif\" font-size=\"12\" font-style=\"italic\" lengthAdjust=\"spacingAndGlyphs\" textLength=\"91\" x=\"216.5\" y=\"57.1387\">«requirement»</text><text fill=\"#000000\" font-family=\"sans-serif\" font-size=\"12\" lengthAdjust=\"spacingAndGlyphs\" textLength=\"70\" x=\"225\" y=\"71.1074\">reqOneTwo</text><line style=\"stroke: #383838; stroke-width: 1.5;\" x1=\"216.5\" x2=\"307.5\" y1=\"78.9375\" y2=\"78.9375\"/></a><path d=\"M32,51.5 L32,76.6328 A0,0 0 0 0 32,76.6328 L102,76.6328 L106,146.69 L110,76.6328 L180,76.6328 A0,0 0 0 0 180,76.6328 L180,61.5 L170,51.5 L32,51.5 A0,0 0 0 0 32,51.5 \" fill=\"#ECECEC\" style=\"stroke: #383838; stroke-width: 1.0;\"/><path d=\"M170,51.5 L170,61.5 L180,61.5 L170,51.5 \" fill=\"#ECECEC\" style=\"stroke: #383838; stroke-width: 1.0;\"/><a href=\"psysml:be74715c-25da-42c8-9ed9-eef8c32ce095\" target=\"_top\" title=\"psysml:be74715c-25da-42c8-9ed9-eef8c32ce095\" xlink:actuate=\"onRequest\" xlink:href=\"psysml:be74715c-25da-42c8-9ed9-eef8c32ce095\" xlink:show=\"new\" xlink:title=\"psysml:be74715c-25da-42c8-9ed9-eef8c32ce095\" xlink:type=\"simple\"><text fill=\"#1C1C1C\" font-family=\"sans-serif\" font-size=\"13\" lengthAdjust=\"spacingAndGlyphs\" text-decoration=\"underline\" textLength=\"13\" x=\"38\" y=\"68.5669\">@</text></a><text fill=\"#000000\" font-family=\"sans-serif\" font-size=\"13\" lengthAdjust=\"spacingAndGlyphs\" textLength=\"114\" x=\"51\" y=\"68.5669\">deze requirement</text><!--MD5=[ade4b3af9611ee8749123e8a0b5eba3a]\n",
       "@startuml\r\n",
       "skinparam monochrome true\r\n",
       "skinparam classbackgroundcolor white\r\n",
       "skinparam shadowing false\r\n",
       "skinparam wrapWidth 300\r\n",
       "hide circle\r\n",
       "\r\n",
       "package \"reqPackage\" as E1  [[psysml:3b600261-491e-4b4a-b637-8ae1bfdc82cb ]]  {\r\n",
       "comp usage \" <b>~<Req.1></b> <s>noname</s> \" as E2  <<(T,blue) requirement>> [[psysml:361162d6-77db-41c4-bc5b-079bf1aa51d8 ]] {\r\n",
       "deze requirement\r\n",
       "- -\r\n",
       "- - constraints - -\r\n",
       "<b>require</b> reqOneOne\r\n",
       "<b>require</b> reqOneTwo\r\n",
       "}\r\n",
       "comp usage \"reqOneOne \" as E4  <<(T,blue) requirement>> [[psysml:4e5163bf-ae4e-4254-9ee5-b79a6d522a65 ]] {\r\n",
       "}\r\n",
       "comp usage \"reqOneTwo \" as E5  <<(T,blue) requirement>> [[psysml:40fdc929-50f9-4e13-bdb4-9311c97c3b6f ]] {\r\n",
       "}\r\n",
       "note as E3\r\n",
       "[[psysml:be74715c-25da-42c8-9ed9-eef8c32ce095 @]]deze requirement\r\n",
       "end note \r\n",
       "}\r\n",
       "E3 .. E2 [[psysml:be74715c-25da-42c8-9ed9-eef8c32ce095 ]] \r\n",
       "@enduml\r\n",
       "\n",
       "PlantUML version 1.2020.13(Sat Jun 13 05:26:38 PDT 2020)\n",
       "(EPL source distribution)\n",
       "Java Runtime: OpenJDK Runtime Environment\n",
       "JVM: OpenJDK 64-Bit Server VM\n",
       "Default Encoding: UTF-8\n",
       "Language: en\n",
       "Country: US\n",
       "--></g></svg>"
      ]
     },
     "execution_count": 4,
     "metadata": {},
     "output_type": "execute_result"
    }
   ],
   "source": [
    "%viz reqPackage"
   ]
  },
  {
   "cell_type": "code",
   "execution_count": 5,
   "id": "19290278",
   "metadata": {},
   "outputs": [
    {
     "data": {
      "text/plain": [
       "Package actionPackage (0fadd60f-7a08-4438-a3ec-e9cfc31cedde)\n"
      ]
     },
     "execution_count": 5,
     "metadata": {},
     "output_type": "execute_result"
    }
   ],
   "source": [
    "package actionPackage {\n",
    "    item def Command;\n",
    "\titem def StatusInfo;\n",
    "\n",
    "\taction def Process { in item command : Command; out item response : Command; }\n",
    "\n",
    "\taction mainProcess {\n",
    "\t\tin item trigger : Command;\n",
    "\t\tout item result : Command;\n",
    "\t\t\n",
    "        bind step1.step1_in = trigger;\n",
    "\t\t\n",
    "\t\taction step1: Process { in step1_in; out step1_out; }\n",
    "\t\t\n",
    "\t\tflow from step1.step1_out to step2.step2_in;\n",
    "\t\t\n",
    "\t\tfirst step1 then step2;\n",
    "\t\t\n",
    "\t\taction step2: Process { in step2_in; out result; }\n",
    "\t\t\n",
    "\t\tbind step2.result = result;\n",
    "\t}\n",
    "    \n",
    "}"
   ]
  },
  {
   "cell_type": "code",
   "execution_count": 6,
   "id": "1a1c3507",
   "metadata": {},
   "outputs": [
    {
     "data": {
      "image/svg+xml": [
       "<?xml version=\"1.0\" encoding=\"UTF-8\" standalone=\"no\"?><svg xmlns=\"http://www.w3.org/2000/svg\" xmlns:xlink=\"http://www.w3.org/1999/xlink\" contentScriptType=\"application/ecmascript\" contentStyleType=\"text/css\" height=\"974px\" preserveAspectRatio=\"none\" style=\"width:708px;height:974px;\" version=\"1.1\" viewBox=\"0 0 708 974\" width=\"708px\" zoomAndPan=\"magnify\"><defs/><g><!--MD5=[fbc87193dbaf4d95561dea2c320d4a47]\n",
       "cluster E1--><a href=\"psysml:0fadd60f-7a08-4438-a3ec-e9cfc31cedde\" target=\"_top\" title=\"psysml:0fadd60f-7a08-4438-a3ec-e9cfc31cedde\" xlink:actuate=\"onRequest\" xlink:href=\"psysml:0fadd60f-7a08-4438-a3ec-e9cfc31cedde\" xlink:show=\"new\" xlink:title=\"psysml:0fadd60f-7a08-4438-a3ec-e9cfc31cedde\" xlink:type=\"simple\"><polygon fill=\"#FFFFFF\" points=\"16,6,136,6,143,28.2969,686,28.2969,686,962,16,962,16,6\" style=\"stroke: #000000; stroke-width: 1.5;\"/><line style=\"stroke: #000000; stroke-width: 1.5;\" x1=\"16\" x2=\"143\" y1=\"28.2969\" y2=\"28.2969\"/><text fill=\"#000000\" font-family=\"sans-serif\" font-size=\"14\" font-weight=\"bold\" lengthAdjust=\"spacingAndGlyphs\" textLength=\"114\" x=\"20\" y=\"20.9951\">actionPackage</text></a><!--MD5=[f6df4d0ebaf0b5dfb2ced0ae5af7c670]\n",
       "cluster E4--><a href=\"psysml:5209f4e5-97c9-4a13-82af-ffa8e3caba46\" target=\"_top\" title=\"psysml:5209f4e5-97c9-4a13-82af-ffa8e3caba46\" xlink:actuate=\"onRequest\" xlink:href=\"psysml:5209f4e5-97c9-4a13-82af-ffa8e3caba46\" xlink:show=\"new\" xlink:title=\"psysml:5209f4e5-97c9-4a13-82af-ffa8e3caba46\" xlink:type=\"simple\"><rect fill=\"#FFFFFF\" height=\"245\" id=\"E4\" style=\"stroke: #383838; stroke-width: 1.5;\" width=\"138\" x=\"532\" y=\"64\"/><rect fill=\"#F8F8F8\" height=\"37.9375\" style=\"stroke: #383838; stroke-width: 1.5;\" width=\"138\" x=\"532\" y=\"64\"/><text fill=\"#000000\" font-family=\"sans-serif\" font-size=\"12\" font-style=\"italic\" lengthAdjust=\"spacingAndGlyphs\" textLength=\"81\" x=\"560.5\" y=\"80.1387\">«action  def»</text><text fill=\"#000000\" font-family=\"sans-serif\" font-size=\"12\" lengthAdjust=\"spacingAndGlyphs\" textLength=\"50\" x=\"576\" y=\"94.1074\">Process</text></a><!--MD5=[168fadf3d0c3fd93dd5d6da1b1d7ab76]\n",
       "cluster E7--><a href=\"psysml:edcd797d-92ef-4c63-b582-a6002b524b5d\" target=\"_top\" title=\"psysml:edcd797d-92ef-4c63-b582-a6002b524b5d\" xlink:actuate=\"onRequest\" xlink:href=\"psysml:edcd797d-92ef-4c63-b582-a6002b524b5d\" xlink:show=\"new\" xlink:title=\"psysml:edcd797d-92ef-4c63-b582-a6002b524b5d\" xlink:type=\"simple\"><rect fill=\"#FFFFFF\" height=\"868\" id=\"E7\" rx=\"10\" ry=\"10\" style=\"stroke: #383838; stroke-width: 1.5;\" width=\"187\" x=\"319\" y=\"64\"/><rect fill=\"#F8F8F8\" height=\"37.9375\" rx=\"10\" ry=\"10\" style=\"stroke: #F8F8F8; stroke-width: 1.5;\" width=\"187\" x=\"319\" y=\"64\"/><rect fill=\"#F8F8F8\" height=\"10\" style=\"stroke: #F8F8F8; stroke-width: 1.5;\" width=\"187\" x=\"319\" y=\"91.9375\"/><rect fill=\"none\" height=\"868\" id=\"E7\" rx=\"10\" ry=\"10\" style=\"stroke: #383838; stroke-width: 1.5;\" width=\"187\" x=\"319\" y=\"64\"/><text fill=\"#000000\" font-family=\"sans-serif\" font-size=\"12\" font-style=\"italic\" lengthAdjust=\"spacingAndGlyphs\" textLength=\"53\" x=\"386\" y=\"80.1387\">«action»</text><text fill=\"#000000\" font-family=\"sans-serif\" font-size=\"12\" lengthAdjust=\"spacingAndGlyphs\" textLength=\"80\" x=\"372.5\" y=\"94.1074\">mainProcess</text><line style=\"stroke: #383838; stroke-width: 1.0;\" x1=\"319\" x2=\"506\" y1=\"101.9375\" y2=\"101.9375\"/></a><!--MD5=[a84b4591f868c1fa4a211716a82f2f0d]\n",
       "cluster E10--><a href=\"psysml:8697f378-5283-4e4f-b89d-361e41daddcf\" target=\"_top\" title=\"psysml:8697f378-5283-4e4f-b89d-361e41daddcf\" xlink:actuate=\"onRequest\" xlink:href=\"psysml:8697f378-5283-4e4f-b89d-361e41daddcf\" xlink:show=\"new\" xlink:title=\"psysml:8697f378-5283-4e4f-b89d-361e41daddcf\" xlink:type=\"simple\"><rect fill=\"#FFFFFF\" height=\"228\" id=\"E10\" rx=\"10\" ry=\"10\" style=\"stroke: #383838; stroke-width: 1.5;\" width=\"104\" x=\"364\" y=\"309\"/><rect fill=\"#F8F8F8\" height=\"37.9375\" rx=\"10\" ry=\"10\" style=\"stroke: #F8F8F8; stroke-width: 1.5;\" width=\"104\" x=\"364\" y=\"309\"/><rect fill=\"#F8F8F8\" height=\"10\" style=\"stroke: #F8F8F8; stroke-width: 1.5;\" width=\"104\" x=\"364\" y=\"336.9375\"/><rect fill=\"none\" height=\"228\" id=\"E10\" rx=\"10\" ry=\"10\" style=\"stroke: #383838; stroke-width: 1.5;\" width=\"104\" x=\"364\" y=\"309\"/><text fill=\"#000000\" font-family=\"sans-serif\" font-size=\"12\" font-style=\"italic\" lengthAdjust=\"spacingAndGlyphs\" textLength=\"53\" x=\"389.5\" y=\"325.1387\">«action»</text><text fill=\"#000000\" font-family=\"sans-serif\" font-size=\"12\" lengthAdjust=\"spacingAndGlyphs\" textLength=\"36\" x=\"398\" y=\"339.1074\">step1</text><line style=\"stroke: #383838; stroke-width: 1.0;\" x1=\"364\" x2=\"468\" y1=\"346.9375\" y2=\"346.9375\"/></a><!--MD5=[03104f77b71e2d8d3500c651e6e31181]\n",
       "cluster E13--><a href=\"psysml:296dff04-1f2f-47b2-a661-509aea559b82\" target=\"_top\" title=\"psysml:296dff04-1f2f-47b2-a661-509aea559b82\" xlink:actuate=\"onRequest\" xlink:href=\"psysml:296dff04-1f2f-47b2-a661-509aea559b82\" xlink:show=\"new\" xlink:title=\"psysml:296dff04-1f2f-47b2-a661-509aea559b82\" xlink:type=\"simple\"><rect fill=\"#FFFFFF\" height=\"239.5\" id=\"E13\" rx=\"10\" ry=\"10\" style=\"stroke: #383838; stroke-width: 1.5;\" width=\"110\" x=\"375\" y=\"620.5\"/><rect fill=\"#F8F8F8\" height=\"37.9375\" rx=\"10\" ry=\"10\" style=\"stroke: #F8F8F8; stroke-width: 1.5;\" width=\"110\" x=\"375\" y=\"620.5\"/><rect fill=\"#F8F8F8\" height=\"10\" style=\"stroke: #F8F8F8; stroke-width: 1.5;\" width=\"110\" x=\"375\" y=\"648.4375\"/><rect fill=\"none\" height=\"239.5\" id=\"E13\" rx=\"10\" ry=\"10\" style=\"stroke: #383838; stroke-width: 1.5;\" width=\"110\" x=\"375\" y=\"620.5\"/><text fill=\"#000000\" font-family=\"sans-serif\" font-size=\"12\" font-style=\"italic\" lengthAdjust=\"spacingAndGlyphs\" textLength=\"53\" x=\"403.5\" y=\"636.6387\">«action»</text><text fill=\"#000000\" font-family=\"sans-serif\" font-size=\"12\" lengthAdjust=\"spacingAndGlyphs\" textLength=\"36\" x=\"412\" y=\"650.6074\">step2</text><line style=\"stroke: #383838; stroke-width: 1.0;\" x1=\"375\" x2=\"485\" y1=\"658.4375\" y2=\"658.4375\"/></a><!--MD5=[b4997ac47864f28c2f74865a473b2911]\n",
       "class E2--><a href=\"psysml:0797b780-2a44-43b1-950b-55e4c28cec36\" target=\"_top\" title=\"psysml:0797b780-2a44-43b1-950b-55e4c28cec36\" xlink:actuate=\"onRequest\" xlink:href=\"psysml:0797b780-2a44-43b1-950b-55e4c28cec36\" xlink:show=\"new\" xlink:title=\"psysml:0797b780-2a44-43b1-950b-55e4c28cec36\" xlink:type=\"simple\"><rect fill=\"#FFFFFF\" height=\"45.9375\" id=\"E2\" style=\"stroke: #383838; stroke-width: 1.5;\" width=\"71\" x=\"138.5\" y=\"41\"/><text fill=\"#000000\" font-family=\"sans-serif\" font-size=\"12\" font-style=\"italic\" lengthAdjust=\"spacingAndGlyphs\" textLength=\"69\" x=\"139.5\" y=\"57.1387\">«item  def»</text><text fill=\"#000000\" font-family=\"sans-serif\" font-size=\"12\" lengthAdjust=\"spacingAndGlyphs\" textLength=\"62\" x=\"143\" y=\"71.1074\">Command</text><line style=\"stroke: #383838; stroke-width: 1.5;\" x1=\"139.5\" x2=\"208.5\" y1=\"78.9375\" y2=\"78.9375\"/></a><!--MD5=[09b614a08d8cba4a07c9adeb5e0fee81]\n",
       "class E3--><a href=\"psysml:1aee165d-8f3d-4ada-b73b-4041547114fe\" target=\"_top\" title=\"psysml:1aee165d-8f3d-4ada-b73b-4041547114fe\" xlink:actuate=\"onRequest\" xlink:href=\"psysml:1aee165d-8f3d-4ada-b73b-4041547114fe\" xlink:show=\"new\" xlink:title=\"psysml:1aee165d-8f3d-4ada-b73b-4041547114fe\" xlink:type=\"simple\"><rect fill=\"#FFFFFF\" height=\"45.9375\" id=\"E3\" style=\"stroke: #383838; stroke-width: 1.5;\" width=\"71\" x=\"32.5\" y=\"41\"/><text fill=\"#000000\" font-family=\"sans-serif\" font-size=\"12\" font-style=\"italic\" lengthAdjust=\"spacingAndGlyphs\" textLength=\"69\" x=\"33.5\" y=\"57.1387\">«item  def»</text><text fill=\"#000000\" font-family=\"sans-serif\" font-size=\"12\" lengthAdjust=\"spacingAndGlyphs\" textLength=\"64\" x=\"36\" y=\"71.1074\">StatusInfo</text><line style=\"stroke: #383838; stroke-width: 1.5;\" x1=\"33.5\" x2=\"102.5\" y1=\"78.9375\" y2=\"78.9375\"/></a><text fill=\"#000000\" font-family=\"sans-serif\" font-size=\"14\" lengthAdjust=\"spacingAndGlyphs\" textLength=\"69\" x=\"566.5\" y=\"42.6982\">command</text><rect fill=\"#383838\" height=\"12\" style=\"stroke: #F8F8F8; stroke-width: 1.5;\" width=\"12\" x=\"595\" y=\"58\"/><text fill=\"#000000\" font-family=\"sans-serif\" font-size=\"14\" lengthAdjust=\"spacingAndGlyphs\" textLength=\"66\" x=\"568\" y=\"327.9951\">response</text><rect fill=\"#383838\" height=\"12\" style=\"stroke: #F8F8F8; stroke-width: 1.5;\" width=\"12\" x=\"595\" y=\"303\"/><text fill=\"#000000\" font-family=\"sans-serif\" font-size=\"14\" lengthAdjust=\"spacingAndGlyphs\" textLength=\"45\" x=\"314.5\" y=\"42.6982\">trigger</text><rect fill=\"#383838\" height=\"12\" style=\"stroke: #F8F8F8; stroke-width: 1.5;\" width=\"12\" x=\"331\" y=\"58\"/><text fill=\"#000000\" font-family=\"sans-serif\" font-size=\"14\" lengthAdjust=\"spacingAndGlyphs\" textLength=\"39\" x=\"468.5\" y=\"950.9951\">result</text><rect fill=\"#383838\" height=\"12\" style=\"stroke: #F8F8F8; stroke-width: 1.5;\" width=\"12\" x=\"482\" y=\"926\"/><text fill=\"#000000\" font-family=\"sans-serif\" font-size=\"14\" lengthAdjust=\"spacingAndGlyphs\" textLength=\"59\" x=\"352.5\" y=\"287.6982\">step1_in</text><rect fill=\"#383838\" height=\"12\" style=\"stroke: #F8F8F8; stroke-width: 1.5;\" width=\"12\" x=\"376\" y=\"303\"/><text fill=\"#000000\" font-family=\"sans-serif\" font-size=\"14\" lengthAdjust=\"spacingAndGlyphs\" textLength=\"70\" x=\"358\" y=\"555.9951\">step1_out</text><rect fill=\"#383838\" height=\"12\" style=\"stroke: #F8F8F8; stroke-width: 1.5;\" width=\"12\" x=\"387\" y=\"531\"/><text fill=\"#000000\" font-family=\"sans-serif\" font-size=\"14\" lengthAdjust=\"spacingAndGlyphs\" textLength=\"59\" x=\"363.5\" y=\"599.1982\">step2_in</text><rect fill=\"#383838\" height=\"12\" style=\"stroke: #F8F8F8; stroke-width: 1.5;\" width=\"12\" x=\"387\" y=\"614.5\"/><text fill=\"#000000\" font-family=\"sans-serif\" font-size=\"14\" lengthAdjust=\"spacingAndGlyphs\" textLength=\"39\" x=\"447.5\" y=\"878.9951\">result</text><rect fill=\"#383838\" height=\"12\" style=\"stroke: #F8F8F8; stroke-width: 1.5;\" width=\"12\" x=\"461\" y=\"854\"/><!--MD5=[3aca6b7b240bdf4fa74e86e8d4be9f1e]\n",
       "link E11 to E8--><a href=\"psysml:e5f2040e-f122-4ef9-8896-9e09cc9d6d5d\" target=\"_top\" title=\"psysml:e5f2040e-f122-4ef9-8896-9e09cc9d6d5d\" xlink:actuate=\"onRequest\" xlink:href=\"psysml:e5f2040e-f122-4ef9-8896-9e09cc9d6d5d\" xlink:show=\"new\" xlink:title=\"psysml:e5f2040e-f122-4ef9-8896-9e09cc9d6d5d\" xlink:type=\"simple\"><path d=\"M381.07,302.95 C375.22,271.41 343.8,101.7 337.94,70.08 \" fill=\"none\" id=\"E11-E8\" style=\"stroke: #383838; stroke-width: 5.0;\"/><text fill=\"#000000\" font-family=\"sans-serif\" font-size=\"13\" lengthAdjust=\"spacingAndGlyphs\" textLength=\"7\" x=\"329.436\" y=\"90.1642\">*</text></a><!--MD5=[d53cb08dffc8689d16e38c8e194e9adc]\n",
       "link E12 to E14--><a href=\"psysml:7a03b4dc-5a4c-47ca-8ad3-b88387791afd\" target=\"_top\" title=\"psysml:7a03b4dc-5a4c-47ca-8ad3-b88387791afd\" xlink:actuate=\"onRequest\" xlink:href=\"psysml:7a03b4dc-5a4c-47ca-8ad3-b88387791afd\" xlink:show=\"new\" xlink:title=\"psysml:7a03b4dc-5a4c-47ca-8ad3-b88387791afd\" xlink:type=\"simple\"><path d=\"M393,543.35 C393,556.71 393,591.74 393,609.24 \" fill=\"none\" id=\"E12-&gt;E14\" style=\"stroke: #383838; stroke-width: 1.0;\"/><polygon fill=\"#383838\" points=\"393,614.45,397,605.45,393,609.45,389,605.45,393,614.45\" style=\"stroke: #383838; stroke-width: 1.0;\"/><text fill=\"#000000\" font-family=\"sans-serif\" font-size=\"13\" lengthAdjust=\"spacingAndGlyphs\" textLength=\"7\" x=\"383.9438\" y=\"603.5953\">*</text></a><!--MD5=[74b78f105e346754c1f4f010190a9055]\n",
       "link E10 to E13--><a href=\"psysml:f0bc05b7-02bd-4936-89ae-a9a6ed9a7286\" target=\"_top\" title=\"psysml:f0bc05b7-02bd-4936-89ae-a9a6ed9a7286\" xlink:actuate=\"onRequest\" xlink:href=\"psysml:f0bc05b7-02bd-4936-89ae-a9a6ed9a7286\" xlink:show=\"new\" xlink:title=\"psysml:f0bc05b7-02bd-4936-89ae-a9a6ed9a7286\" xlink:type=\"simple\"><path d=\"M431.4667,551.46 C431.524,552.4481 431.5796,553.4377 431.6335,554.4286 C432.0646,562.3557 432.3883,570.3662 432.6222,578.3567 C432.8561,586.3473 433.0002,594.3179 433.0723,602.1656 C433.1083,606.0894 433.1264,609.9824 433.1286,613.8319 C433.1297,615.7566 433.1268,617.6704 433.1203,619.5716 C433.1195,619.8093 433.1186,620.0467 433.1177,620.284 C433.1175,620.3433 433.1172,620.4026 433.117,620.4619 \" fill=\"none\" id=\"E10-&gt;E13\" style=\"stroke: #383838; stroke-width: 1.0;\"/><polygon fill=\"#383838\" points=\"433.117,620.4619,437.1533,611.4781,433.1372,615.462,429.1534,611.4458,433.117,620.4619\" style=\"stroke: #383838; stroke-width: 1.0;\"/><text fill=\"#000000\" font-family=\"sans-serif\" font-size=\"13\" lengthAdjust=\"spacingAndGlyphs\" textLength=\"7\" x=\"423.96\" y=\"694.8269\">*</text></a><!--MD5=[75494c4f8279f554a72c35eb8678fa77]\n",
       "link E15 to E9--><a href=\"psysml:02e66cd8-f13b-4a43-bfab-7f16ee0d4ce9\" target=\"_top\" title=\"psysml:02e66cd8-f13b-4a43-bfab-7f16ee0d4ce9\" xlink:actuate=\"onRequest\" xlink:href=\"psysml:02e66cd8-f13b-4a43-bfab-7f16ee0d4ce9\" xlink:show=\"new\" xlink:title=\"psysml:02e66cd8-f13b-4a43-bfab-7f16ee0d4ce9\" xlink:type=\"simple\"><path d=\"M468.51,866.03 C472.35,878.82 482.45,912.48 486.39,925.63 \" fill=\"none\" id=\"E15-E9\" style=\"stroke: #383838; stroke-width: 5.0;\"/><text fill=\"#000000\" font-family=\"sans-serif\" font-size=\"13\" lengthAdjust=\"spacingAndGlyphs\" textLength=\"7\" x=\"476.5156\" y=\"914.9324\">*</text></a><!--MD5=[8ce5da5cb89cdda6aff2074861662ff7]\n",
       "@startuml\r\n",
       "skinparam monochrome true\r\n",
       "skinparam classbackgroundcolor white\r\n",
       "skinparam shadowing false\r\n",
       "skinparam wrapWidth 300\r\n",
       "hide circle\r\n",
       "\r\n",
       "package \"actionPackage\" as E1  [[psysml:0fadd60f-7a08-4438-a3ec-e9cfc31cedde ]]  {\r\n",
       "comp def \"Command\" as E2  <<(T,blue) item  def>> [[psysml:0797b780-2a44-43b1-950b-55e4c28cec36 ]] {\r\n",
       "}\r\n",
       "comp def \"StatusInfo\" as E3  <<(T,blue) item  def>> [[psysml:1aee165d-8f3d-4ada-b73b-4041547114fe ]] {\r\n",
       "}\r\n",
       "rec def \"Process\" as E4  <<(T,blue) action  def>> [[psysml:5209f4e5-97c9-4a13-82af-ffa8e3caba46 ]] {\r\n",
       "portin \"command\" as E5  [[psysml:676f9849-1d7f-4994-9175-2e67819a26ae ]] \r\n",
       "portout \"response\" as E6  [[psysml:e39f0f7f-e19c-4e10-965e-563b4ffbf69f ]] \r\n",
       "}\r\n",
       "\r\n",
       "rec usage \"mainProcess\" as E7  <<(T,blue) action>> [[psysml:edcd797d-92ef-4c63-b582-a6002b524b5d ]] {\r\n",
       "portin \"trigger\" as E8  [[psysml:d3d44f62-4b1b-4bda-8097-5bf6a245b477 ]] \r\n",
       "portout \"result\" as E9  [[psysml:dff45c69-b05c-4980-ab17-32f6f0099758 ]] \r\n",
       "rec usage \"step1\" as E10  <<(T,blue) action>> [[psysml:8697f378-5283-4e4f-b89d-361e41daddcf ]] {\r\n",
       "portin \"step1_in\" as E11  [[psysml:5db87c5e-9f2a-43c2-8d28-8759f57f84f9 ]] \r\n",
       "portout \"step1_out\" as E12  [[psysml:b8df82ea-55e6-43ad-9778-23b1ad819f69 ]] \r\n",
       "}\r\n",
       "\r\n",
       "rec usage \"step2\" as E13  <<(T,blue) action>> [[psysml:296dff04-1f2f-47b2-a661-509aea559b82 ]] {\r\n",
       "portin \"step2_in\" as E14  [[psysml:9b811cb3-8c2e-4612-a78b-a4ab862c18bf ]] \r\n",
       "portout \"result\" as E15  [[psysml:835ff9e4-5f2a-4996-afe4-3d209557566c ]] \r\n",
       "}\r\n",
       "\r\n",
       "}\r\n",
       "\r\n",
       "}\r\n",
       "E11 -[thickness=5]- \"*\"E8 [[psysml:e5f2040e-f122-4ef9-8896-9e09cc9d6d5d ]] \r\n",
       "E12 - -> \"*\"E14 [[psysml:7a03b4dc-5a4c-47ca-8ad3-b88387791afd ]] \r\n",
       "E10 - -> \"*\"E13 [[psysml:f0bc05b7-02bd-4936-89ae-a9a6ed9a7286 ]] \r\n",
       "E15 -[thickness=5]- \"*\"E9 [[psysml:02e66cd8-f13b-4a43-bfab-7f16ee0d4ce9 ]] \r\n",
       "@enduml\r\n",
       "\n",
       "PlantUML version 1.2020.13(Sat Jun 13 05:26:38 PDT 2020)\n",
       "(EPL source distribution)\n",
       "Java Runtime: OpenJDK Runtime Environment\n",
       "JVM: OpenJDK 64-Bit Server VM\n",
       "Default Encoding: UTF-8\n",
       "Language: en\n",
       "Country: US\n",
       "--></g></svg>"
      ]
     },
     "execution_count": 6,
     "metadata": {},
     "output_type": "execute_result"
    }
   ],
   "source": [
    "%viz actionPackage"
   ]
  },
  {
   "cell_type": "code",
   "execution_count": null,
   "id": "b8de554c",
   "metadata": {},
   "outputs": [],
   "source": []
  }
 ],
 "metadata": {
  "kernelspec": {
   "display_name": "SysML",
   "language": "sysml",
   "name": "sysml"
  },
  "language_info": {
   "codemirror_mode": "sysml",
   "file_extension": ".sysml",
   "mimetype": "text/x-sysml",
   "name": "SysML",
   "pygments_lexer": "java",
   "version": "1.0.0"
  }
 },
 "nbformat": 4,
 "nbformat_minor": 5
}
