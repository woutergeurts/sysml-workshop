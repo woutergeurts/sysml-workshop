{
 "cells": [
  {
   "cell_type": "markdown",
   "id": "f82fde7f",
   "metadata": {},
   "source": [
    "# Welkom\n",
    "\n",
    "Dit is het hoofd notebook van de sysml workshop. Eerst behandelen we de jupyter omgeving kort.\n",
    "\n",
    "Als je al bekend bent met sysml-jupyter, jump dan direct naar het model [wasson case](file:./Case/OperationeleOmgeving/wasson\\ OEA.ipynb)\n"
   ]
  },
  {
   "cell_type": "markdown",
   "id": "ca921245",
   "metadata": {},
   "source": [
    "# jupyter basics\n",
    "\n",
    "Jupyter is een notebook met extra's in de balk ![balk](jupyter_menubar.png). Het 'play' icoontje doet een 'cell' uitvoeren. Al lezend door het notebook is het altijd goed om per cell 'play' uit te voeren en zien wat er gebeurt.\n",
    "\n",
    "Een tweede ding zijn de z.g. magic commando's, deze betreffen\n",
    "\n",
    "* ```%viz <modulenaam>```: visualiseer een module\n",
    "* ```%show <modulenaam>```: geef inzicht in de structuur van de module (tekstueel) \n",
    "* ```%export```\n",
    "* ```%list```\n",
    "* ```%publish```\n",
    "* ```%view```"
   ]
  },
  {
   "cell_type": "markdown",
   "id": "d259a177",
   "metadata": {},
   "source": [
    "# my first sysml\n",
    "We gaan in sneltreinvaart de volgende concepten door:\n",
    "\n",
    "* ```package```: de naam zegt het al, typisch dat wat je in 1 plaatje wilt hebben\n",
    "* ```part```: onderdeel met decompositie\n",
    "* ```action```: eenheid van gedrag\n",
    "* ```requirement```: om een eis uit te drukken\n",
    "\n",
    "* we stippen ook het principe van ```def``` aan, hiermee kun je types definieren\n"
   ]
  },
  {
   "cell_type": "code",
   "execution_count": 2,
   "id": "23add591",
   "metadata": {},
   "outputs": [
    {
     "data": {
      "text/plain": [
       "Package pakket (efdadbe0-c91e-4b72-8297-a73b5fa13c78)\n"
      ]
     },
     "execution_count": 2,
     "metadata": {},
     "output_type": "execute_result"
    }
   ],
   "source": [
    "package pakket {\n",
    "   part verbinding {\n",
    "       part bout;\n",
    "       part moer;\n",
    "   }\n",
    "}"
   ]
  },
  {
   "cell_type": "code",
   "execution_count": 3,
   "id": "858f407a",
   "metadata": {},
   "outputs": [
    {
     "data": {
      "image/svg+xml": [
       "<?xml version=\"1.0\" encoding=\"UTF-8\" standalone=\"no\"?><svg xmlns=\"http://www.w3.org/2000/svg\" xmlns:xlink=\"http://www.w3.org/1999/xlink\" contentScriptType=\"application/ecmascript\" contentStyleType=\"text/css\" height=\"221px\" preserveAspectRatio=\"none\" style=\"width:189px;height:221px;\" version=\"1.1\" viewBox=\"0 0 189 221\" width=\"189px\" zoomAndPan=\"magnify\"><defs/><g><!--MD5=[fbc87193dbaf4d95561dea2c320d4a47]\n",
       "cluster E1--><a href=\"psysml:efdadbe0-c91e-4b72-8297-a73b5fa13c78\" target=\"_top\" title=\"psysml:efdadbe0-c91e-4b72-8297-a73b5fa13c78\" xlink:actuate=\"onRequest\" xlink:href=\"psysml:efdadbe0-c91e-4b72-8297-a73b5fa13c78\" xlink:show=\"new\" xlink:title=\"psysml:efdadbe0-c91e-4b72-8297-a73b5fa13c78\" xlink:type=\"simple\"><polygon fill=\"#FFFFFF\" points=\"16,6,75,6,82,28.2969,167,28.2969,167,209,16,209,16,6\" style=\"stroke: #000000; stroke-width: 1.5;\"/><line style=\"stroke: #000000; stroke-width: 1.5;\" x1=\"16\" x2=\"82\" y1=\"28.2969\" y2=\"28.2969\"/><text fill=\"#000000\" font-family=\"sans-serif\" font-size=\"14\" font-weight=\"bold\" lengthAdjust=\"spacingAndGlyphs\" textLength=\"53\" x=\"20\" y=\"20.9951\">pakket</text></a><!--MD5=[b4997ac47864f28c2f74865a473b2911]\n",
       "class E2--><a href=\"psysml:95651d3d-4e3d-49dd-9150-417750358beb\" target=\"_top\" title=\"psysml:95651d3d-4e3d-49dd-9150-417750358beb\" xlink:actuate=\"onRequest\" xlink:href=\"psysml:95651d3d-4e3d-49dd-9150-417750358beb\" xlink:show=\"new\" xlink:title=\"psysml:95651d3d-4e3d-49dd-9150-417750358beb\" xlink:type=\"simple\"><rect fill=\"#FFFFFF\" height=\"45.9375\" id=\"E2\" rx=\"10\" ry=\"10\" style=\"stroke: #383838; stroke-width: 1.5;\" width=\"75\" x=\"53.5\" y=\"41\"/><text fill=\"#000000\" font-family=\"sans-serif\" font-size=\"12\" font-style=\"italic\" lengthAdjust=\"spacingAndGlyphs\" textLength=\"40\" x=\"71\" y=\"57.1387\">«part»</text><text fill=\"#000000\" font-family=\"sans-serif\" font-size=\"12\" lengthAdjust=\"spacingAndGlyphs\" textLength=\"65\" x=\"56.5\" y=\"71.1074\">verbinding</text><line style=\"stroke: #383838; stroke-width: 1.5;\" x1=\"54.5\" x2=\"127.5\" y1=\"78.9375\" y2=\"78.9375\"/></a><!--MD5=[09b614a08d8cba4a07c9adeb5e0fee81]\n",
       "class E3--><a href=\"psysml:bdb37781-7c1e-4b26-bd3d-4c3ad203f2e1\" target=\"_top\" title=\"psysml:bdb37781-7c1e-4b26-bd3d-4c3ad203f2e1\" xlink:actuate=\"onRequest\" xlink:href=\"psysml:bdb37781-7c1e-4b26-bd3d-4c3ad203f2e1\" xlink:show=\"new\" xlink:title=\"psysml:bdb37781-7c1e-4b26-bd3d-4c3ad203f2e1\" xlink:type=\"simple\"><rect fill=\"#FFFFFF\" height=\"45.9375\" id=\"E3\" rx=\"10\" ry=\"10\" style=\"stroke: #383838; stroke-width: 1.5;\" width=\"42\" x=\"32\" y=\"147\"/><text fill=\"#000000\" font-family=\"sans-serif\" font-size=\"12\" font-style=\"italic\" lengthAdjust=\"spacingAndGlyphs\" textLength=\"40\" x=\"33\" y=\"163.1387\">«part»</text><text fill=\"#000000\" font-family=\"sans-serif\" font-size=\"12\" lengthAdjust=\"spacingAndGlyphs\" textLength=\"29\" x=\"36.5\" y=\"177.1074\">bout</text><line style=\"stroke: #383838; stroke-width: 1.5;\" x1=\"33\" x2=\"73\" y1=\"184.9375\" y2=\"184.9375\"/></a><!--MD5=[ebbe1d658d1005bcc118a6aa81145e00]\n",
       "class E4--><a href=\"psysml:3b1fa41d-f758-4380-b702-b9e4452aab83\" target=\"_top\" title=\"psysml:3b1fa41d-f758-4380-b702-b9e4452aab83\" xlink:actuate=\"onRequest\" xlink:href=\"psysml:3b1fa41d-f758-4380-b702-b9e4452aab83\" xlink:show=\"new\" xlink:title=\"psysml:3b1fa41d-f758-4380-b702-b9e4452aab83\" xlink:type=\"simple\"><rect fill=\"#FFFFFF\" height=\"45.9375\" id=\"E4\" rx=\"10\" ry=\"10\" style=\"stroke: #383838; stroke-width: 1.5;\" width=\"42\" x=\"109\" y=\"147\"/><text fill=\"#000000\" font-family=\"sans-serif\" font-size=\"12\" font-style=\"italic\" lengthAdjust=\"spacingAndGlyphs\" textLength=\"40\" x=\"110\" y=\"163.1387\">«part»</text><text fill=\"#000000\" font-family=\"sans-serif\" font-size=\"12\" lengthAdjust=\"spacingAndGlyphs\" textLength=\"32\" x=\"112\" y=\"177.1074\">moer</text><line style=\"stroke: #383838; stroke-width: 1.5;\" x1=\"110\" x2=\"150\" y1=\"184.9375\" y2=\"184.9375\"/></a><!--MD5=[209b3feb70ccb6233bfe1053d122c12c]\n",
       "reverse link E2 to E3--><a href=\"psysml:218bf2a6-99f3-4317-b466-deac6b8cce1b\" target=\"_top\" title=\"psysml:218bf2a6-99f3-4317-b466-deac6b8cce1b\" xlink:actuate=\"onRequest\" xlink:href=\"psysml:218bf2a6-99f3-4317-b466-deac6b8cce1b\" xlink:show=\"new\" xlink:title=\"psysml:218bf2a6-99f3-4317-b466-deac6b8cce1b\" xlink:type=\"simple\"><path d=\"M78.4,99.49 C72.68,115.15 66.08,133.19 61.05,146.98 \" fill=\"none\" id=\"E2&lt;-E3\" style=\"stroke: #383838; stroke-width: 1.0;\"/><polygon fill=\"#383838\" points=\"82.94,87.06,77.1196,91.317,78.8105,98.3271,84.6309,94.07,82.94,87.06\" style=\"stroke: #383838; stroke-width: 1.0;\"/><text fill=\"#000000\" font-family=\"sans-serif\" font-size=\"13\" lengthAdjust=\"spacingAndGlyphs\" textLength=\"8\" x=\"54.1384\" y=\"135.8709\">1</text></a><!--MD5=[9618e71518536f8baf3342ff6fdab317]\n",
       "reverse link E2 to E4--><a href=\"psysml:7ed0f7fe-3393-408d-96d2-1a8cb1b9fe05\" target=\"_top\" title=\"psysml:7ed0f7fe-3393-408d-96d2-1a8cb1b9fe05\" xlink:actuate=\"onRequest\" xlink:href=\"psysml:7ed0f7fe-3393-408d-96d2-1a8cb1b9fe05\" xlink:show=\"new\" xlink:title=\"psysml:7ed0f7fe-3393-408d-96d2-1a8cb1b9fe05\" xlink:type=\"simple\"><path d=\"M103.94,99.49 C109.8,115.15 116.57,133.19 121.74,146.98 \" fill=\"none\" id=\"E2&lt;-E4\" style=\"stroke: #383838; stroke-width: 1.0;\"/><polygon fill=\"#383838\" points=\"99.27,87.06,97.635,94.0833,103.4893,98.2938,105.1242,91.2705,99.27,87.06\" style=\"stroke: #383838; stroke-width: 1.0;\"/><text fill=\"#000000\" font-family=\"sans-serif\" font-size=\"13\" lengthAdjust=\"spacingAndGlyphs\" textLength=\"8\" x=\"110.4451\" y=\"135.8709\">1</text></a><!--MD5=[ebe5e9587728cf0f151e6cceb0e1ed53]\n",
       "@startuml\r\n",
       "skinparam monochrome true\r\n",
       "skinparam classbackgroundcolor white\r\n",
       "skinparam shadowing false\r\n",
       "skinparam wrapWidth 300\r\n",
       "hide circle\r\n",
       "\r\n",
       "package \"pakket\" as E1  [[psysml:efdadbe0-c91e-4b72-8297-a73b5fa13c78 ]]  {\r\n",
       "comp usage \"verbinding \" as E2  <<(T,blue) part>> [[psysml:95651d3d-4e3d-49dd-9150-417750358beb ]] {\r\n",
       "}\r\n",
       "comp usage \"bout \" as E3  <<(T,blue) part>> [[psysml:bdb37781-7c1e-4b26-bd3d-4c3ad203f2e1 ]] {\r\n",
       "}\r\n",
       "comp usage \"moer \" as E4  <<(T,blue) part>> [[psysml:3b1fa41d-f758-4380-b702-b9e4452aab83 ]] {\r\n",
       "}\r\n",
       "}\r\n",
       "E2 *- - \"1\"E3 [[psysml:218bf2a6-99f3-4317-b466-deac6b8cce1b ]] \r\n",
       "E2 *- - \"1\"E4 [[psysml:7ed0f7fe-3393-408d-96d2-1a8cb1b9fe05 ]] \r\n",
       "@enduml\r\n",
       "\n",
       "PlantUML version 1.2020.13(Sat Jun 13 14:26:38 CEST 2020)\n",
       "(EPL source distribution)\n",
       "Java Runtime: OpenJDK Runtime Environment\n",
       "JVM: OpenJDK 64-Bit Server VM\n",
       "Default Encoding: UTF-8\n",
       "Language: en\n",
       "Country: US\n",
       "--></g></svg>"
      ]
     },
     "execution_count": 3,
     "metadata": {},
     "output_type": "execute_result"
    }
   ],
   "source": [
    "%viz pakket "
   ]
  },
  {
   "cell_type": "code",
   "execution_count": 8,
   "id": "4e4d085c",
   "metadata": {},
   "outputs": [
    {
     "data": {
      "text/plain": [
       "Package reqPackage (02ec17fc-972a-484d-931a-37d3514cdfb8)\n"
      ]
     },
     "execution_count": 8,
     "metadata": {},
     "output_type": "execute_result"
    }
   ],
   "source": [
    "package reqPackage {\n",
    "    requirement <'Req.1'> {\n",
    "        doc /* deze requirement  */\n",
    "        \n",
    "        require reqOneOne;\n",
    "        require reqOneTwo;\n",
    "    }\n",
    "    requirement reqOneOne {\n",
    "    \n",
    "    }\n",
    "    \n",
    "    requirement reqOneTwo {}\n",
    "}"
   ]
  },
  {
   "cell_type": "code",
   "execution_count": 10,
   "id": "8101fd70",
   "metadata": {},
   "outputs": [
    {
     "data": {
      "image/svg+xml": [
       "<?xml version=\"1.0\" encoding=\"UTF-8\" standalone=\"no\"?><svg xmlns=\"http://www.w3.org/2000/svg\" xmlns:xlink=\"http://www.w3.org/1999/xlink\" contentScriptType=\"application/ecmascript\" contentStyleType=\"text/css\" height=\"284px\" preserveAspectRatio=\"none\" style=\"width:474px;height:284px;\" version=\"1.1\" viewBox=\"0 0 474 284\" width=\"474px\" zoomAndPan=\"magnify\"><defs/><g><!--MD5=[fbc87193dbaf4d95561dea2c320d4a47]\n",
       "cluster E1--><a href=\"psysml:02ec17fc-972a-484d-931a-37d3514cdfb8\" target=\"_top\" title=\"psysml:02ec17fc-972a-484d-931a-37d3514cdfb8\" xlink:actuate=\"onRequest\" xlink:href=\"psysml:02ec17fc-972a-484d-931a-37d3514cdfb8\" xlink:show=\"new\" xlink:title=\"psysml:02ec17fc-972a-484d-931a-37d3514cdfb8\" xlink:type=\"simple\"><polygon fill=\"#FFFFFF\" points=\"16,6,115,6,122,28.2969,452,28.2969,452,272,16,272,16,6\" style=\"stroke: #000000; stroke-width: 1.5;\"/><line style=\"stroke: #000000; stroke-width: 1.5;\" x1=\"16\" x2=\"122\" y1=\"28.2969\" y2=\"28.2969\"/><text fill=\"#000000\" font-family=\"sans-serif\" font-size=\"14\" font-weight=\"bold\" lengthAdjust=\"spacingAndGlyphs\" textLength=\"93\" x=\"20\" y=\"20.9951\">reqPackage</text></a><!--MD5=[b4997ac47864f28c2f74865a473b2911]\n",
       "class E2--><a href=\"psysml:67895d34-6e54-4ccf-b87a-f8f16f4b105e\" target=\"_top\" title=\"psysml:67895d34-6e54-4ccf-b87a-f8f16f4b105e\" xlink:actuate=\"onRequest\" xlink:href=\"psysml:67895d34-6e54-4ccf-b87a-f8f16f4b105e\" xlink:show=\"new\" xlink:title=\"psysml:67895d34-6e54-4ccf-b87a-f8f16f4b105e\" xlink:type=\"simple\"><rect fill=\"#FFFFFF\" height=\"109.1563\" id=\"E2\" rx=\"10\" ry=\"10\" style=\"stroke: #383838; stroke-width: 1.5;\" width=\"127\" x=\"42.5\" y=\"147\"/><text fill=\"#000000\" font-family=\"sans-serif\" font-size=\"12\" font-style=\"italic\" lengthAdjust=\"spacingAndGlyphs\" textLength=\"91\" x=\"60.5\" y=\"163.1387\">«requirement»</text><text fill=\"#000000\" font-family=\"sans-serif\" font-size=\"12\" lengthAdjust=\"spacingAndGlyphs\" text-decoration=\"line-through\" textLength=\"51\" x=\"78.5\" y=\"177.1074\">noname</text><text fill=\"#000000\" font-family=\"sans-serif\" font-size=\"12\" lengthAdjust=\"spacingAndGlyphs\" textLength=\"0\" x=\"133.5\" y=\"177.1074\"/><line style=\"stroke: #383838; stroke-width: 1.5;\" x1=\"43.5\" x2=\"168.5\" y1=\"184.9375\" y2=\"184.9375\"/><text fill=\"#000000\" font-family=\"sans-serif\" font-size=\"11\" lengthAdjust=\"spacingAndGlyphs\" textLength=\"100\" x=\"48.5\" y=\"199.1479\">deze requirement</text><line style=\"stroke: #383838; stroke-width: 1.0;\" x1=\"43.5\" x2=\"168.5\" y1=\"205.7422\" y2=\"205.7422\"/><text fill=\"#000000\" font-family=\"sans-serif\" font-size=\"11\" font-weight=\"bold\" lengthAdjust=\"spacingAndGlyphs\" textLength=\"46\" x=\"48.5\" y=\"236.7573\">require</text><text fill=\"#000000\" font-family=\"sans-serif\" font-size=\"11\" lengthAdjust=\"spacingAndGlyphs\" textLength=\"65\" x=\"98.5\" y=\"236.7573\">reqOneOne</text><text fill=\"#000000\" font-family=\"sans-serif\" font-size=\"11\" font-weight=\"bold\" lengthAdjust=\"spacingAndGlyphs\" textLength=\"46\" x=\"48.5\" y=\"249.562\">require</text><text fill=\"#000000\" font-family=\"sans-serif\" font-size=\"11\" lengthAdjust=\"spacingAndGlyphs\" textLength=\"65\" x=\"98.5\" y=\"249.562\">reqOneTwo</text><line style=\"stroke: #383838; stroke-width: 1.0;\" x1=\"43.5\" x2=\"74\" y1=\"220.1445\" y2=\"220.1445\"/><text fill=\"#000000\" font-family=\"sans-serif\" font-size=\"11\" lengthAdjust=\"spacingAndGlyphs\" textLength=\"64\" x=\"74\" y=\"223.4526\">constraints</text><line style=\"stroke: #383838; stroke-width: 1.0;\" x1=\"138\" x2=\"168.5\" y1=\"220.1445\" y2=\"220.1445\"/></a><!--MD5=[ebbe1d658d1005bcc118a6aa81145e00]\n",
       "class E4--><a href=\"psysml:b4559c0b-892a-446e-b51f-124741b0c4d8\" target=\"_top\" title=\"psysml:b4559c0b-892a-446e-b51f-124741b0c4d8\" xlink:actuate=\"onRequest\" xlink:href=\"psysml:b4559c0b-892a-446e-b51f-124741b0c4d8\" xlink:show=\"new\" xlink:title=\"psysml:b4559c0b-892a-446e-b51f-124741b0c4d8\" xlink:type=\"simple\"><rect fill=\"#FFFFFF\" height=\"45.9375\" id=\"E4\" rx=\"10\" ry=\"10\" style=\"stroke: #383838; stroke-width: 1.5;\" width=\"93\" x=\"343.5\" y=\"41\"/><text fill=\"#000000\" font-family=\"sans-serif\" font-size=\"12\" font-style=\"italic\" lengthAdjust=\"spacingAndGlyphs\" textLength=\"91\" x=\"344.5\" y=\"57.1387\">«requirement»</text><text fill=\"#000000\" font-family=\"sans-serif\" font-size=\"12\" lengthAdjust=\"spacingAndGlyphs\" textLength=\"71\" x=\"352.5\" y=\"71.1074\">reqOneOne</text><line style=\"stroke: #383838; stroke-width: 1.5;\" x1=\"344.5\" x2=\"435.5\" y1=\"78.9375\" y2=\"78.9375\"/></a><!--MD5=[270fce915f116d4de14055a7c1d9a0f3]\n",
       "class E5--><a href=\"psysml:a44bd66b-6fc4-4ee1-a448-f26c61b1836a\" target=\"_top\" title=\"psysml:a44bd66b-6fc4-4ee1-a448-f26c61b1836a\" xlink:actuate=\"onRequest\" xlink:href=\"psysml:a44bd66b-6fc4-4ee1-a448-f26c61b1836a\" xlink:show=\"new\" xlink:title=\"psysml:a44bd66b-6fc4-4ee1-a448-f26c61b1836a\" xlink:type=\"simple\"><rect fill=\"#FFFFFF\" height=\"45.9375\" id=\"E5\" rx=\"10\" ry=\"10\" style=\"stroke: #383838; stroke-width: 1.5;\" width=\"93\" x=\"215.5\" y=\"41\"/><text fill=\"#000000\" font-family=\"sans-serif\" font-size=\"12\" font-style=\"italic\" lengthAdjust=\"spacingAndGlyphs\" textLength=\"91\" x=\"216.5\" y=\"57.1387\">«requirement»</text><text fill=\"#000000\" font-family=\"sans-serif\" font-size=\"12\" lengthAdjust=\"spacingAndGlyphs\" textLength=\"70\" x=\"225\" y=\"71.1074\">reqOneTwo</text><line style=\"stroke: #383838; stroke-width: 1.5;\" x1=\"216.5\" x2=\"307.5\" y1=\"78.9375\" y2=\"78.9375\"/></a><path d=\"M32,51.5 L32,76.6328 A0,0 0 0 0 32,76.6328 L102,76.6328 L106,146.69 L110,76.6328 L180,76.6328 A0,0 0 0 0 180,76.6328 L180,61.5 L170,51.5 L32,51.5 A0,0 0 0 0 32,51.5 \" fill=\"#ECECEC\" style=\"stroke: #383838; stroke-width: 1.0;\"/><path d=\"M170,51.5 L170,61.5 L180,61.5 L170,51.5 \" fill=\"#ECECEC\" style=\"stroke: #383838; stroke-width: 1.0;\"/><a href=\"psysml:b175bd37-1b8e-478a-a098-4e02bfde3dd4\" target=\"_top\" title=\"psysml:b175bd37-1b8e-478a-a098-4e02bfde3dd4\" xlink:actuate=\"onRequest\" xlink:href=\"psysml:b175bd37-1b8e-478a-a098-4e02bfde3dd4\" xlink:show=\"new\" xlink:title=\"psysml:b175bd37-1b8e-478a-a098-4e02bfde3dd4\" xlink:type=\"simple\"><text fill=\"#1C1C1C\" font-family=\"sans-serif\" font-size=\"13\" lengthAdjust=\"spacingAndGlyphs\" text-decoration=\"underline\" textLength=\"13\" x=\"38\" y=\"68.5669\">@</text></a><text fill=\"#000000\" font-family=\"sans-serif\" font-size=\"13\" lengthAdjust=\"spacingAndGlyphs\" textLength=\"114\" x=\"51\" y=\"68.5669\">deze requirement</text><!--MD5=[bcb47600ae43e1c670e604ffc8d7e7d8]\n",
       "@startuml\r\n",
       "skinparam monochrome true\r\n",
       "skinparam classbackgroundcolor white\r\n",
       "skinparam shadowing false\r\n",
       "skinparam wrapWidth 300\r\n",
       "hide circle\r\n",
       "\r\n",
       "package \"reqPackage\" as E1  [[psysml:02ec17fc-972a-484d-931a-37d3514cdfb8 ]]  {\r\n",
       "comp usage \"<s>noname</s> \" as E2  <<(T,blue) requirement>> [[psysml:67895d34-6e54-4ccf-b87a-f8f16f4b105e ]] {\r\n",
       "deze requirement\r\n",
       "- -\r\n",
       "- - constraints - -\r\n",
       "<b>require</b> reqOneOne\r\n",
       "<b>require</b> reqOneTwo\r\n",
       "}\r\n",
       "comp usage \"reqOneOne \" as E4  <<(T,blue) requirement>> [[psysml:b4559c0b-892a-446e-b51f-124741b0c4d8 ]] {\r\n",
       "}\r\n",
       "comp usage \"reqOneTwo \" as E5  <<(T,blue) requirement>> [[psysml:a44bd66b-6fc4-4ee1-a448-f26c61b1836a ]] {\r\n",
       "}\r\n",
       "note as E3\r\n",
       "[[psysml:b175bd37-1b8e-478a-a098-4e02bfde3dd4 @]]deze requirement\r\n",
       "end note \r\n",
       "}\r\n",
       "E3 .. E2 [[psysml:b175bd37-1b8e-478a-a098-4e02bfde3dd4 ]] \r\n",
       "@enduml\r\n",
       "\n",
       "PlantUML version 1.2020.13(Sat Jun 13 14:26:38 CEST 2020)\n",
       "(EPL source distribution)\n",
       "Java Runtime: OpenJDK Runtime Environment\n",
       "JVM: OpenJDK 64-Bit Server VM\n",
       "Default Encoding: UTF-8\n",
       "Language: en\n",
       "Country: US\n",
       "--></g></svg>"
      ]
     },
     "execution_count": 10,
     "metadata": {},
     "output_type": "execute_result"
    }
   ],
   "source": [
    "%viz reqPackage"
   ]
  },
  {
   "cell_type": "code",
   "execution_count": 6,
   "id": "e7b81d1f",
   "metadata": {},
   "outputs": [
    {
     "data": {
      "text/plain": [
       "Package actionPackage (53670fc3-291e-4bc2-b489-0727c46c3390)\n"
      ]
     },
     "execution_count": 6,
     "metadata": {},
     "output_type": "execute_result"
    }
   ],
   "source": [
    "package actionPackage {\n",
    "    item def Command;\n",
    "\titem def StatusInfo;\n",
    "\n",
    "\taction def Process { in item command : Command; out item response : Command; }\n",
    "\n",
    "\taction mainProcess {\n",
    "\t\tin item trigger : Command;\n",
    "\t\tout item result : Command;\n",
    "\t\t\n",
    "        bind step1.step1_in = trigger;\n",
    "\t\t\n",
    "\t\taction step1: Process { in step1_in; out step1_out; }\n",
    "\t\t\n",
    "\t\tflow from step1.step1_out to step2.step2_in;\n",
    "\t\t\n",
    "\t\tfirst step1 then step2;\n",
    "\t\t\n",
    "\t\taction step2: Process { in step2_in; out result; }\n",
    "\t\t\n",
    "\t\tbind step2.result = result;\n",
    "\t}\n",
    "    \n",
    "}"
   ]
  },
  {
   "cell_type": "code",
   "execution_count": 7,
   "id": "48da4162",
   "metadata": {},
   "outputs": [
    {
     "data": {
      "image/svg+xml": [
       "<?xml version=\"1.0\" encoding=\"UTF-8\" standalone=\"no\"?><svg xmlns=\"http://www.w3.org/2000/svg\" xmlns:xlink=\"http://www.w3.org/1999/xlink\" contentScriptType=\"application/ecmascript\" contentStyleType=\"text/css\" height=\"584px\" preserveAspectRatio=\"none\" style=\"width:878px;height:584px;\" version=\"1.1\" viewBox=\"0 0 878 584\" width=\"878px\" zoomAndPan=\"magnify\"><defs/><g><!--MD5=[fbc87193dbaf4d95561dea2c320d4a47]\n",
       "cluster E1--><a href=\"psysml:53670fc3-291e-4bc2-b489-0727c46c3390\" target=\"_top\" title=\"psysml:53670fc3-291e-4bc2-b489-0727c46c3390\" xlink:actuate=\"onRequest\" xlink:href=\"psysml:53670fc3-291e-4bc2-b489-0727c46c3390\" xlink:show=\"new\" xlink:title=\"psysml:53670fc3-291e-4bc2-b489-0727c46c3390\" xlink:type=\"simple\"><polygon fill=\"#FFFFFF\" points=\"16,6,136,6,143,28.2969,856,28.2969,856,572,16,572,16,6\" style=\"stroke: #000000; stroke-width: 1.5;\"/><line style=\"stroke: #000000; stroke-width: 1.5;\" x1=\"16\" x2=\"143\" y1=\"28.2969\" y2=\"28.2969\"/><text fill=\"#000000\" font-family=\"sans-serif\" font-size=\"14\" font-weight=\"bold\" lengthAdjust=\"spacingAndGlyphs\" textLength=\"114\" x=\"20\" y=\"20.9951\">actionPackage</text></a><!--MD5=[f6df4d0ebaf0b5dfb2ced0ae5af7c670]\n",
       "cluster E4--><a href=\"psysml:ea18074d-c322-45c0-9ad1-f7f12eb17bdc\" target=\"_top\" title=\"psysml:ea18074d-c322-45c0-9ad1-f7f12eb17bdc\" xlink:actuate=\"onRequest\" xlink:href=\"psysml:ea18074d-c322-45c0-9ad1-f7f12eb17bdc\" xlink:show=\"new\" xlink:title=\"psysml:ea18074d-c322-45c0-9ad1-f7f12eb17bdc\" xlink:type=\"simple\"><rect fill=\"#FFFFFF\" height=\"298.5\" id=\"E4\" style=\"stroke: #383838; stroke-width: 1.5;\" width=\"138\" x=\"702\" y=\"64\"/><rect fill=\"#F8F8F8\" height=\"37.9375\" style=\"stroke: #383838; stroke-width: 1.5;\" width=\"138\" x=\"702\" y=\"64\"/><text fill=\"#000000\" font-family=\"sans-serif\" font-size=\"12\" font-style=\"italic\" lengthAdjust=\"spacingAndGlyphs\" textLength=\"81\" x=\"730.5\" y=\"80.1387\">«action  def»</text><text fill=\"#000000\" font-family=\"sans-serif\" font-size=\"12\" lengthAdjust=\"spacingAndGlyphs\" textLength=\"50\" x=\"746\" y=\"94.1074\">Process</text></a><!--MD5=[168fadf3d0c3fd93dd5d6da1b1d7ab76]\n",
       "cluster E7--><a href=\"psysml:b1eeab79-87b3-44e9-95df-90ad4e3b9585\" target=\"_top\" title=\"psysml:b1eeab79-87b3-44e9-95df-90ad4e3b9585\" xlink:actuate=\"onRequest\" xlink:href=\"psysml:b1eeab79-87b3-44e9-95df-90ad4e3b9585\" xlink:show=\"new\" xlink:title=\"psysml:b1eeab79-87b3-44e9-95df-90ad4e3b9585\" xlink:type=\"simple\"><rect fill=\"#FFFFFF\" height=\"492\" id=\"E7\" rx=\"10\" ry=\"10\" style=\"stroke: #383838; stroke-width: 1.5;\" width=\"462\" x=\"218\" y=\"64\"/><rect fill=\"#F8F8F8\" height=\"37.9375\" rx=\"10\" ry=\"10\" style=\"stroke: #F8F8F8; stroke-width: 1.5;\" width=\"462\" x=\"218\" y=\"64\"/><rect fill=\"#F8F8F8\" height=\"10\" style=\"stroke: #F8F8F8; stroke-width: 1.5;\" width=\"462\" x=\"218\" y=\"91.9375\"/><rect fill=\"none\" height=\"492\" id=\"E7\" rx=\"10\" ry=\"10\" style=\"stroke: #383838; stroke-width: 1.5;\" width=\"462\" x=\"218\" y=\"64\"/><text fill=\"#000000\" font-family=\"sans-serif\" font-size=\"12\" font-style=\"italic\" lengthAdjust=\"spacingAndGlyphs\" textLength=\"53\" x=\"422.5\" y=\"80.1387\">«action»</text><text fill=\"#000000\" font-family=\"sans-serif\" font-size=\"12\" lengthAdjust=\"spacingAndGlyphs\" textLength=\"80\" x=\"409\" y=\"94.1074\">mainProcess</text><line style=\"stroke: #383838; stroke-width: 1.0;\" x1=\"218\" x2=\"680\" y1=\"101.9375\" y2=\"101.9375\"/></a><!--MD5=[a84b4591f868c1fa4a211716a82f2f0d]\n",
       "cluster E10--><a href=\"psysml:e3be9e6f-de43-43ac-953c-197107a8da39\" target=\"_top\" title=\"psysml:e3be9e6f-de43-43ac-953c-197107a8da39\" xlink:actuate=\"onRequest\" xlink:href=\"psysml:e3be9e6f-de43-43ac-953c-197107a8da39\" xlink:show=\"new\" xlink:title=\"psysml:e3be9e6f-de43-43ac-953c-197107a8da39\" xlink:type=\"simple\"><rect fill=\"#FFFFFF\" height=\"281.5\" id=\"E10\" rx=\"10\" ry=\"10\" style=\"stroke: #383838; stroke-width: 1.5;\" width=\"124\" x=\"518\" y=\"164.5\"/><rect fill=\"#F8F8F8\" height=\"37.9375\" rx=\"10\" ry=\"10\" style=\"stroke: #F8F8F8; stroke-width: 1.5;\" width=\"124\" x=\"518\" y=\"164.5\"/><rect fill=\"#F8F8F8\" height=\"10\" style=\"stroke: #F8F8F8; stroke-width: 1.5;\" width=\"124\" x=\"518\" y=\"192.4375\"/><rect fill=\"none\" height=\"281.5\" id=\"E10\" rx=\"10\" ry=\"10\" style=\"stroke: #383838; stroke-width: 1.5;\" width=\"124\" x=\"518\" y=\"164.5\"/><text fill=\"#000000\" font-family=\"sans-serif\" font-size=\"12\" font-style=\"italic\" lengthAdjust=\"spacingAndGlyphs\" textLength=\"53\" x=\"553.5\" y=\"180.6387\">«action»</text><text fill=\"#000000\" font-family=\"sans-serif\" font-size=\"12\" lengthAdjust=\"spacingAndGlyphs\" textLength=\"36\" x=\"562\" y=\"194.6074\">step1</text><line style=\"stroke: #383838; stroke-width: 1.0;\" x1=\"518\" x2=\"642\" y1=\"202.4375\" y2=\"202.4375\"/></a><!--MD5=[bcf29f0808fc96f19b1afbee8cfc1f11]\n",
       "cluster E14--><a href=\"psysml:630fa752-d56e-4bf7-afa1-9bfd55535f00\" target=\"_top\" title=\"psysml:630fa752-d56e-4bf7-afa1-9bfd55535f00\" xlink:actuate=\"onRequest\" xlink:href=\"psysml:630fa752-d56e-4bf7-afa1-9bfd55535f00\" xlink:show=\"new\" xlink:title=\"psysml:630fa752-d56e-4bf7-afa1-9bfd55535f00\" xlink:type=\"simple\"><rect fill=\"#FFFFFF\" height=\"254.5\" id=\"E14\" rx=\"10\" ry=\"10\" style=\"stroke: #383838; stroke-width: 1.5;\" width=\"124\" x=\"370\" y=\"263.5\"/><rect fill=\"#F8F8F8\" height=\"37.9375\" rx=\"10\" ry=\"10\" style=\"stroke: #F8F8F8; stroke-width: 1.5;\" width=\"124\" x=\"370\" y=\"263.5\"/><rect fill=\"#F8F8F8\" height=\"10\" style=\"stroke: #F8F8F8; stroke-width: 1.5;\" width=\"124\" x=\"370\" y=\"291.4375\"/><rect fill=\"none\" height=\"254.5\" id=\"E14\" rx=\"10\" ry=\"10\" style=\"stroke: #383838; stroke-width: 1.5;\" width=\"124\" x=\"370\" y=\"263.5\"/><text fill=\"#000000\" font-family=\"sans-serif\" font-size=\"12\" font-style=\"italic\" lengthAdjust=\"spacingAndGlyphs\" textLength=\"53\" x=\"405.5\" y=\"279.6387\">«action»</text><text fill=\"#000000\" font-family=\"sans-serif\" font-size=\"12\" lengthAdjust=\"spacingAndGlyphs\" textLength=\"36\" x=\"414\" y=\"293.6074\">step2</text><line style=\"stroke: #383838; stroke-width: 1.0;\" x1=\"370\" x2=\"494\" y1=\"301.4375\" y2=\"301.4375\"/></a><!--MD5=[b4997ac47864f28c2f74865a473b2911]\n",
       "class E2--><a href=\"psysml:58e640e0-a065-49b7-9786-9ab4dd3aa856\" target=\"_top\" title=\"psysml:58e640e0-a065-49b7-9786-9ab4dd3aa856\" xlink:actuate=\"onRequest\" xlink:href=\"psysml:58e640e0-a065-49b7-9786-9ab4dd3aa856\" xlink:show=\"new\" xlink:title=\"psysml:58e640e0-a065-49b7-9786-9ab4dd3aa856\" xlink:type=\"simple\"><rect fill=\"#FFFFFF\" height=\"45.9375\" id=\"E2\" style=\"stroke: #383838; stroke-width: 1.5;\" width=\"71\" x=\"138.5\" y=\"41\"/><text fill=\"#000000\" font-family=\"sans-serif\" font-size=\"12\" font-style=\"italic\" lengthAdjust=\"spacingAndGlyphs\" textLength=\"69\" x=\"139.5\" y=\"57.1387\">«item  def»</text><text fill=\"#000000\" font-family=\"sans-serif\" font-size=\"12\" lengthAdjust=\"spacingAndGlyphs\" textLength=\"62\" x=\"143\" y=\"71.1074\">Command</text><line style=\"stroke: #383838; stroke-width: 1.5;\" x1=\"139.5\" x2=\"208.5\" y1=\"78.9375\" y2=\"78.9375\"/></a><!--MD5=[09b614a08d8cba4a07c9adeb5e0fee81]\n",
       "class E3--><a href=\"psysml:13b1d768-492e-4aee-a861-e596a062ca87\" target=\"_top\" title=\"psysml:13b1d768-492e-4aee-a861-e596a062ca87\" xlink:actuate=\"onRequest\" xlink:href=\"psysml:13b1d768-492e-4aee-a861-e596a062ca87\" xlink:show=\"new\" xlink:title=\"psysml:13b1d768-492e-4aee-a861-e596a062ca87\" xlink:type=\"simple\"><rect fill=\"#FFFFFF\" height=\"45.9375\" id=\"E3\" style=\"stroke: #383838; stroke-width: 1.5;\" width=\"71\" x=\"32.5\" y=\"41\"/><text fill=\"#000000\" font-family=\"sans-serif\" font-size=\"12\" font-style=\"italic\" lengthAdjust=\"spacingAndGlyphs\" textLength=\"69\" x=\"33.5\" y=\"57.1387\">«item  def»</text><text fill=\"#000000\" font-family=\"sans-serif\" font-size=\"12\" lengthAdjust=\"spacingAndGlyphs\" textLength=\"64\" x=\"36\" y=\"71.1074\">StatusInfo</text><line style=\"stroke: #383838; stroke-width: 1.5;\" x1=\"33.5\" x2=\"102.5\" y1=\"78.9375\" y2=\"78.9375\"/></a><text fill=\"#000000\" font-family=\"sans-serif\" font-size=\"14\" lengthAdjust=\"spacingAndGlyphs\" textLength=\"69\" x=\"736.5\" y=\"42.6982\">command</text><rect fill=\"#383838\" height=\"12\" style=\"stroke: #F8F8F8; stroke-width: 1.5;\" width=\"12\" x=\"765\" y=\"58\"/><text fill=\"#000000\" font-family=\"sans-serif\" font-size=\"14\" lengthAdjust=\"spacingAndGlyphs\" textLength=\"66\" x=\"738\" y=\"381.4951\">response</text><rect fill=\"#383838\" height=\"12\" style=\"stroke: #F8F8F8; stroke-width: 1.5;\" width=\"12\" x=\"765\" y=\"356.5\"/><text fill=\"#000000\" font-family=\"sans-serif\" font-size=\"14\" lengthAdjust=\"spacingAndGlyphs\" textLength=\"45\" x=\"271.5\" y=\"42.6982\">trigger</text><rect fill=\"#383838\" height=\"12\" style=\"stroke: #F8F8F8; stroke-width: 1.5;\" width=\"12\" x=\"288\" y=\"58\"/><text fill=\"#000000\" font-family=\"sans-serif\" font-size=\"14\" lengthAdjust=\"spacingAndGlyphs\" textLength=\"39\" x=\"660.5\" y=\"464.9951\">result</text><rect fill=\"#383838\" height=\"12\" style=\"stroke: #F8F8F8; stroke-width: 1.5;\" width=\"12\" x=\"674\" y=\"440\"/><text fill=\"#000000\" font-family=\"sans-serif\" font-size=\"14\" lengthAdjust=\"spacingAndGlyphs\" textLength=\"59\" x=\"550.5\" y=\"143.1982\">step1_in</text><rect fill=\"#383838\" height=\"12\" style=\"stroke: #F8F8F8; stroke-width: 1.5;\" width=\"12\" x=\"574\" y=\"158.5\"/><text fill=\"#000000\" font-family=\"sans-serif\" font-size=\"14\" lengthAdjust=\"spacingAndGlyphs\" textLength=\"70\" x=\"545\" y=\"464.9951\">step1_out</text><rect fill=\"#383838\" height=\"12\" style=\"stroke: #F8F8F8; stroke-width: 1.5;\" width=\"12\" x=\"574\" y=\"440\"/><g id=\"E1.E7.E13\"><a href=\"psysml:d32ae1d2-ec6b-46b0-9ef0-ebc423aabec0\" target=\"_top\" title=\"psysml:d32ae1d2-ec6b-46b0-9ef0-ebc423aabec0\" xlink:actuate=\"onRequest\" xlink:href=\"psysml:d32ae1d2-ec6b-46b0-9ef0-ebc423aabec0\" xlink:show=\"new\" xlink:title=\"psysml:d32ae1d2-ec6b-46b0-9ef0-ebc423aabec0\" xlink:type=\"simple\"><rect fill=\"#FFFFFF\" height=\"42.9375\" id=\"E13\" rx=\"10\" ry=\"10\" style=\"stroke: #383838; stroke-width: 1.5;\" width=\"120\" x=\"234\" y=\"242\"/><rect fill=\"#F8F8F8\" height=\"37.9375\" rx=\"10\" ry=\"10\" style=\"stroke: #F8F8F8; stroke-width: 1.5;\" width=\"120\" x=\"234\" y=\"242\"/><rect fill=\"#F8F8F8\" height=\"10\" style=\"stroke: #F8F8F8; stroke-width: 1.5;\" width=\"120\" x=\"234\" y=\"269.9375\"/><rect fill=\"none\" height=\"42.9375\" id=\"E13\" rx=\"10\" ry=\"10\" style=\"stroke: #383838; stroke-width: 1.5;\" width=\"120\" x=\"234\" y=\"242\"/><text fill=\"#000000\" font-family=\"sans-serif\" font-size=\"12\" font-style=\"italic\" lengthAdjust=\"spacingAndGlyphs\" textLength=\"113\" x=\"237.5\" y=\"258.1387\">«flow connection»</text><text fill=\"#000000\" font-family=\"sans-serif\" font-size=\"12\" lengthAdjust=\"spacingAndGlyphs\" text-decoration=\"line-through\" textLength=\"51\" x=\"268.5\" y=\"272.1074\">noname</text></a></g><text fill=\"#000000\" font-family=\"sans-serif\" font-size=\"14\" lengthAdjust=\"spacingAndGlyphs\" textLength=\"59\" x=\"402.5\" y=\"242.1982\">step2_in</text><rect fill=\"#383838\" height=\"12\" style=\"stroke: #F8F8F8; stroke-width: 1.5;\" width=\"12\" x=\"426\" y=\"257.5\"/><text fill=\"#000000\" font-family=\"sans-serif\" font-size=\"14\" lengthAdjust=\"spacingAndGlyphs\" textLength=\"39\" x=\"412.5\" y=\"536.9951\">result</text><rect fill=\"#383838\" height=\"12\" style=\"stroke: #F8F8F8; stroke-width: 1.5;\" width=\"12\" x=\"426\" y=\"512\"/><!--MD5=[9d3fa4c4687c829319c5535c42cb4e79]\n",
       "link E10 to E14--><a href=\"psysml:57229678-3b69-487a-917c-790e98b1f03c\" target=\"_top\" title=\"psysml:57229678-3b69-487a-917c-790e98b1f03c\" xlink:actuate=\"onRequest\" xlink:href=\"psysml:57229678-3b69-487a-917c-790e98b1f03c\" xlink:show=\"new\" xlink:title=\"psysml:57229678-3b69-487a-917c-790e98b1f03c\" xlink:type=\"simple\"><path d=\"M517.9234,305.1847 C517.7887,305.2731 517.6539,305.3615 517.519,305.4499 C516.9795,305.8035 516.4392,306.1577 515.8981,306.5123 C514.8161,307.2216 513.7311,307.9328 512.6443,308.6452 C510.4705,310.0701 508.2891,311.5 506.1075,312.93 C503.9259,314.36 501.7443,315.7901 499.57,317.2153 C498.4829,317.9279 497.3977,318.6392 496.3153,319.3488 C495.7741,319.7035 495.2335,320.0578 494.6939,320.4116 C494.5589,320.5 494.4241,320.5884 494.2893,320.6768 C494.2218,320.721 494.1544,320.7652 494.0871,320.8093 \" fill=\"none\" id=\"E10-&gt;E14\" style=\"stroke: #383838; stroke-width: 1.0;\"/><polygon fill=\"#383838\" points=\"494.0871,320.8093,503.807,319.2207,498.2688,318.0683,499.4212,312.53,494.0871,320.8093\" style=\"stroke: #383838; stroke-width: 1.0;\"/><text fill=\"#000000\" font-family=\"sans-serif\" font-size=\"13\" lengthAdjust=\"spacingAndGlyphs\" textLength=\"7\" x=\"450.61\" y=\"341.7869\">*</text></a><!--MD5=[61cee65f2c4455451cb2b53c302f90ae]\n",
       "@startuml\r\n",
       "skinparam monochrome true\r\n",
       "skinparam classbackgroundcolor white\r\n",
       "skinparam shadowing false\r\n",
       "skinparam wrapWidth 300\r\n",
       "hide circle\r\n",
       "\r\n",
       "package \"actionPackage\" as E1  [[psysml:53670fc3-291e-4bc2-b489-0727c46c3390 ]]  {\r\n",
       "comp def \"Command\" as E2  <<(T,blue) item  def>> [[psysml:58e640e0-a065-49b7-9786-9ab4dd3aa856 ]] {\r\n",
       "}\r\n",
       "comp def \"StatusInfo\" as E3  <<(T,blue) item  def>> [[psysml:13b1d768-492e-4aee-a861-e596a062ca87 ]] {\r\n",
       "}\r\n",
       "rec def \"Process\" as E4  <<(T,blue) action  def>> [[psysml:ea18074d-c322-45c0-9ad1-f7f12eb17bdc ]] {\r\n",
       "portin \"command\" as E5  [[psysml:792b7a63-8776-4391-81b1-09d4c560c9b8 ]] \r\n",
       "portout \"response\" as E6  [[psysml:7effd802-db46-4c78-b4fb-7181eb809a99 ]] \r\n",
       "}\r\n",
       "\r\n",
       "rec usage \"mainProcess\" as E7  <<(T,blue) action>> [[psysml:b1eeab79-87b3-44e9-95df-90ad4e3b9585 ]] {\r\n",
       "portin \"trigger\" as E8  [[psysml:13b00cfb-9f2a-4ffb-a2d4-4a9acbea06dd ]] \r\n",
       "portout \"result\" as E9  [[psysml:a68c3b48-2d44-4622-a3c9-77d4cf0a4c13 ]] \r\n",
       "rec usage \"step1\" as E10  <<(T,blue) action>> [[psysml:e3be9e6f-de43-43ac-953c-197107a8da39 ]] {\r\n",
       "portin \"step1_in\" as E11  [[psysml:304da719-df5d-48ce-913f-bb59da7d5bc5 ]] \r\n",
       "portout \"step1_out\" as E12  [[psysml:96b1df3a-91d1-4486-98c4-13af2d781268 ]] \r\n",
       "}\r\n",
       "\r\n",
       "rec usage \"<s>noname</s>\" as E13  <<(T,blue) flow connection>> [[psysml:d32ae1d2-ec6b-46b0-9ef0-ebc423aabec0 ]] {\r\n",
       "}\r\n",
       "\r\n",
       "rec usage \"step2\" as E14  <<(T,blue) action>> [[psysml:630fa752-d56e-4bf7-afa1-9bfd55535f00 ]] {\r\n",
       "portin \"step2_in\" as E15  [[psysml:8dd078cd-2b44-476a-8934-19e8657742de ]] \r\n",
       "portout \"result\" as E16  [[psysml:07419ddb-e1ba-4381-9946-391d1bbe0dcc ]] \r\n",
       "}\r\n",
       "\r\n",
       "}\r\n",
       "\r\n",
       "}\r\n",
       "E10 - -> \"*\"E14 [[psysml:57229678-3b69-487a-917c-790e98b1f03c ]] \r\n",
       "@enduml\r\n",
       "\n",
       "PlantUML version 1.2020.13(Sat Jun 13 14:26:38 CEST 2020)\n",
       "(EPL source distribution)\n",
       "Java Runtime: OpenJDK Runtime Environment\n",
       "JVM: OpenJDK 64-Bit Server VM\n",
       "Default Encoding: UTF-8\n",
       "Language: en\n",
       "Country: US\n",
       "--></g></svg>"
      ]
     },
     "execution_count": 7,
     "metadata": {},
     "output_type": "execute_result"
    }
   ],
   "source": [
    "%viz actionPackage"
   ]
  },
  {
   "cell_type": "code",
   "execution_count": null,
   "id": "83ea9ec0",
   "metadata": {},
   "outputs": [],
   "source": []
  }
 ],
 "metadata": {
  "kernelspec": {
   "display_name": "SysML",
   "language": "sysml",
   "name": "sysml"
  },
  "language_info": {
   "codemirror_mode": "sysml",
   "file_extension": ".sysml",
   "mimetype": "text/x-sysml",
   "name": "SysML",
   "pygments_lexer": "java",
   "version": "1.0.0"
  }
 },
 "nbformat": 4,
 "nbformat_minor": 5
}
