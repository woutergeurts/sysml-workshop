{
 "cells": [
  {
   "cell_type": "markdown",
   "id": "bc63bde7",
   "metadata": {},
   "source": [
    "## Packages, Blocks en Part Properties: part def  & part\n",
    "Ieder modelelement dient in een package te zitten. Een 'vrij' modelelement kan niet. De package is de container voor een verzameling modelelementen.\n",
    "\n",
    "Gegeven het volgende SysML 1.x block definition diagram:\n",
    "\n",
    "![bdd](blockdefinitiondgm.png \"SysML 1.x\")\n",
    "\n",
    "kan vertaald worden naar SysML v2:\n"
   ]
  },
  {
   "cell_type": "code",
   "execution_count": 1,
   "id": "d067f363",
   "metadata": {},
   "outputs": [
    {
     "data": {
      "text/plain": [
       "Package Verzameling Modelelementen (bc192075-96d7-4fdf-850e-871a66112232)\n"
      ]
     },
     "execution_count": 1,
     "metadata": {},
     "output_type": "execute_result"
    }
   ],
   "source": [
    "package 'Verzameling Modelelementen'{\n",
    "    /* in de 'talige' SysML hebben definities en declaraties geen stricte volgorde */\n",
    "    \n",
    "    part def ElementType1 {\n",
    "        \n",
    "    }\n",
    "\n",
    "    part def ElementType0 {\n",
    "        part instance1: ElementType1;\n",
    "        part instance2: ElementType2;  \n",
    "    }\n",
    "    \n",
    "    part def ElementType2 {\n",
    "        \n",
    "    }\n",
    "\n",
    "}"
   ]
  },
  {
   "cell_type": "code",
   "execution_count": 3,
   "id": "eda054b6",
   "metadata": {},
   "outputs": [
    {
     "data": {
      "image/svg+xml": [
       "<?xml version=\"1.0\" encoding=\"UTF-8\" standalone=\"no\"?><svg xmlns=\"http://www.w3.org/2000/svg\" xmlns:xlink=\"http://www.w3.org/1999/xlink\" contentScriptType=\"application/ecmascript\" contentStyleType=\"text/css\" height=\"343px\" preserveAspectRatio=\"none\" style=\"width:515px;height:343px;\" version=\"1.1\" viewBox=\"0 0 515 343\" width=\"515px\" zoomAndPan=\"magnify\"><defs/><g><!--MD5=[fbc87193dbaf4d95561dea2c320d4a47]\n",
       "cluster E1--><a href=\"psysml:bc192075-96d7-4fdf-850e-871a66112232\" target=\"_top\" title=\"psysml:bc192075-96d7-4fdf-850e-871a66112232\" xlink:actuate=\"onRequest\" xlink:href=\"psysml:bc192075-96d7-4fdf-850e-871a66112232\" xlink:show=\"new\" xlink:title=\"psysml:bc192075-96d7-4fdf-850e-871a66112232\" xlink:type=\"simple\"><polygon fill=\"#FFFFFF\" points=\"16,6,256,6,263,28.2969,493,28.2969,493,331,16,331,16,6\" style=\"stroke: #000000; stroke-width: 1.5;\"/><line style=\"stroke: #000000; stroke-width: 1.5;\" x1=\"16\" x2=\"263\" y1=\"28.2969\" y2=\"28.2969\"/><text fill=\"#000000\" font-family=\"sans-serif\" font-size=\"14\" font-weight=\"bold\" lengthAdjust=\"spacingAndGlyphs\" textLength=\"234\" x=\"20\" y=\"20.9951\">Verzameling Modelelementen</text></a><!--MD5=[09b614a08d8cba4a07c9adeb5e0fee81]\n",
       "class E3--><a href=\"psysml:2f6975af-860c-4b65-b2e1-7417d1ff1561\" target=\"_top\" title=\"psysml:2f6975af-860c-4b65-b2e1-7417d1ff1561\" xlink:actuate=\"onRequest\" xlink:href=\"psysml:2f6975af-860c-4b65-b2e1-7417d1ff1561\" xlink:show=\"new\" xlink:title=\"psysml:2f6975af-860c-4b65-b2e1-7417d1ff1561\" xlink:type=\"simple\"><rect fill=\"#FFFFFF\" height=\"45.9375\" id=\"E3\" style=\"stroke: #383838; stroke-width: 1.5;\" width=\"94\" x=\"77\" y=\"261\"/><text fill=\"#000000\" font-family=\"sans-serif\" font-size=\"12\" font-style=\"italic\" lengthAdjust=\"spacingAndGlyphs\" textLength=\"68\" x=\"90\" y=\"277.1387\">«part  def»</text><text fill=\"#000000\" font-family=\"sans-serif\" font-size=\"12\" lengthAdjust=\"spacingAndGlyphs\" textLength=\"88\" x=\"80\" y=\"291.1074\">ElementType1</text><line style=\"stroke: #383838; stroke-width: 1.5;\" x1=\"78\" x2=\"170\" y1=\"298.9375\" y2=\"298.9375\"/></a><!--MD5=[ebbe1d658d1005bcc118a6aa81145e00]\n",
       "class E4--><a href=\"psysml:c385405b-6f8d-47d0-9e62-b4294c61aa67\" target=\"_top\" title=\"psysml:c385405b-6f8d-47d0-9e62-b4294c61aa67\" xlink:actuate=\"onRequest\" xlink:href=\"psysml:c385405b-6f8d-47d0-9e62-b4294c61aa67\" xlink:show=\"new\" xlink:title=\"psysml:c385405b-6f8d-47d0-9e62-b4294c61aa67\" xlink:type=\"simple\"><rect fill=\"#FFFFFF\" height=\"45.9375\" id=\"E4\" style=\"stroke: #383838; stroke-width: 1.5;\" width=\"94\" x=\"40\" y=\"49\"/><text fill=\"#000000\" font-family=\"sans-serif\" font-size=\"12\" font-style=\"italic\" lengthAdjust=\"spacingAndGlyphs\" textLength=\"68\" x=\"53\" y=\"65.1387\">«part  def»</text><text fill=\"#000000\" font-family=\"sans-serif\" font-size=\"12\" lengthAdjust=\"spacingAndGlyphs\" textLength=\"88\" x=\"43\" y=\"79.1074\">ElementType0</text><line style=\"stroke: #383838; stroke-width: 1.5;\" x1=\"41\" x2=\"133\" y1=\"86.9375\" y2=\"86.9375\"/></a><!--MD5=[270fce915f116d4de14055a7c1d9a0f3]\n",
       "class E5--><a href=\"psysml:5cc70bde-f951-4cfa-afde-77ca81097cca\" target=\"_top\" title=\"psysml:5cc70bde-f951-4cfa-afde-77ca81097cca\" xlink:actuate=\"onRequest\" xlink:href=\"psysml:5cc70bde-f951-4cfa-afde-77ca81097cca\" xlink:show=\"new\" xlink:title=\"psysml:5cc70bde-f951-4cfa-afde-77ca81097cca\" xlink:type=\"simple\"><rect fill=\"#FFFFFF\" height=\"45.9375\" id=\"E5\" rx=\"10\" ry=\"10\" style=\"stroke: #383838; stroke-width: 1.5;\" width=\"168\" x=\"40\" y=\"155\"/><text fill=\"#000000\" font-family=\"sans-serif\" font-size=\"12\" font-style=\"italic\" lengthAdjust=\"spacingAndGlyphs\" textLength=\"40\" x=\"104\" y=\"171.1387\">«part»</text><text fill=\"#000000\" font-family=\"sans-serif\" font-size=\"12\" lengthAdjust=\"spacingAndGlyphs\" textLength=\"158\" x=\"43\" y=\"185.1074\">instance1: ElementType1</text><line style=\"stroke: #383838; stroke-width: 1.5;\" x1=\"41\" x2=\"207\" y1=\"192.9375\" y2=\"192.9375\"/></a><!--MD5=[60a26617385b1d2d0262a64233df1f8d]\n",
       "class E6--><a href=\"psysml:dda3937c-fd71-4047-ac05-a9d392abf012\" target=\"_top\" title=\"psysml:dda3937c-fd71-4047-ac05-a9d392abf012\" xlink:actuate=\"onRequest\" xlink:href=\"psysml:dda3937c-fd71-4047-ac05-a9d392abf012\" xlink:show=\"new\" xlink:title=\"psysml:dda3937c-fd71-4047-ac05-a9d392abf012\" xlink:type=\"simple\"><rect fill=\"#FFFFFF\" height=\"45.9375\" id=\"E6\" rx=\"10\" ry=\"10\" style=\"stroke: #383838; stroke-width: 1.5;\" width=\"168\" x=\"243\" y=\"155\"/><text fill=\"#000000\" font-family=\"sans-serif\" font-size=\"12\" font-style=\"italic\" lengthAdjust=\"spacingAndGlyphs\" textLength=\"40\" x=\"307\" y=\"171.1387\">«part»</text><text fill=\"#000000\" font-family=\"sans-serif\" font-size=\"12\" lengthAdjust=\"spacingAndGlyphs\" textLength=\"158\" x=\"246\" y=\"185.1074\">instance2: ElementType2</text><line style=\"stroke: #383838; stroke-width: 1.5;\" x1=\"244\" x2=\"410\" y1=\"192.9375\" y2=\"192.9375\"/></a><!--MD5=[2156ba9850f5573cc1fc38a6a4b2f02b]\n",
       "class E7--><a href=\"psysml:619c6819-764f-4e6f-8ac5-0665fc87b0e8\" target=\"_top\" title=\"psysml:619c6819-764f-4e6f-8ac5-0665fc87b0e8\" xlink:actuate=\"onRequest\" xlink:href=\"psysml:619c6819-764f-4e6f-8ac5-0665fc87b0e8\" xlink:show=\"new\" xlink:title=\"psysml:619c6819-764f-4e6f-8ac5-0665fc87b0e8\" xlink:type=\"simple\"><rect fill=\"#FFFFFF\" height=\"45.9375\" id=\"E7\" style=\"stroke: #383838; stroke-width: 1.5;\" width=\"94\" x=\"280\" y=\"261\"/><text fill=\"#000000\" font-family=\"sans-serif\" font-size=\"12\" font-style=\"italic\" lengthAdjust=\"spacingAndGlyphs\" textLength=\"68\" x=\"293\" y=\"277.1387\">«part  def»</text><text fill=\"#000000\" font-family=\"sans-serif\" font-size=\"12\" lengthAdjust=\"spacingAndGlyphs\" textLength=\"88\" x=\"283\" y=\"291.1074\">ElementType2</text><line style=\"stroke: #383838; stroke-width: 1.5;\" x1=\"281\" x2=\"373\" y1=\"298.9375\" y2=\"298.9375\"/></a><path d=\"M169,52 L169,92.2656 L461,92.2656 L461,62 L451,52 L169,52 \" fill=\"#ECECEC\" style=\"stroke: #383838; stroke-width: 1.0;\"/><path d=\"M451,52 L451,62 L461,62 L451,52 \" fill=\"#ECECEC\" style=\"stroke: #383838; stroke-width: 1.0;\"/><a href=\"psysml:97aff948-fc5e-418d-830f-017477cac08e\" target=\"_top\" title=\"psysml:97aff948-fc5e-418d-830f-017477cac08e\" xlink:actuate=\"onRequest\" xlink:href=\"psysml:97aff948-fc5e-418d-830f-017477cac08e\" xlink:show=\"new\" xlink:title=\"psysml:97aff948-fc5e-418d-830f-017477cac08e\" xlink:type=\"simple\"><text fill=\"#1C1C1C\" font-family=\"sans-serif\" font-size=\"13\" lengthAdjust=\"spacingAndGlyphs\" text-decoration=\"underline\" textLength=\"13\" x=\"175\" y=\"69.0669\">@</text></a><text fill=\"#000000\" font-family=\"sans-serif\" font-size=\"13\" lengthAdjust=\"spacingAndGlyphs\" textLength=\"254\" x=\"188\" y=\"69.0669\">in de 'talige' SysML hebben definities en</text><text fill=\"#000000\" font-family=\"sans-serif\" font-size=\"13\" lengthAdjust=\"spacingAndGlyphs\" textLength=\"209\" x=\"175\" y=\"84.1997\">declaraties geen stricte volgorde</text><!--MD5=[f23a504beb17692cf1ec401fb4a5a911]\n",
       "link E2 to E1--><a href=\"psysml:97aff948-fc5e-418d-830f-017477cac08e\" target=\"_top\" title=\"psysml:97aff948-fc5e-418d-830f-017477cac08e\" xlink:actuate=\"onRequest\" xlink:href=\"psysml:97aff948-fc5e-418d-830f-017477cac08e\" xlink:show=\"new\" xlink:title=\"psysml:97aff948-fc5e-418d-830f-017477cac08e\" xlink:type=\"simple\"><path d=\"M377.91,92.13 C411.3,105.12 450.75,125.4 477,155 C483.47,162.3 484.84,175.25 484.99,176.84 \" fill=\"none\" id=\"E2-E1\" style=\"stroke: #383838; stroke-width: 1.0; stroke-dasharray: 7.0,7.0;\"/></a><!--MD5=[62aa6af11e70f752912c1cb0466f24f7]\n",
       "reverse link E4 to E5--><a href=\"psysml:c43e0dd7-5ed6-48be-8e0c-51ab3a136360\" target=\"_top\" title=\"psysml:c43e0dd7-5ed6-48be-8e0c-51ab3a136360\" xlink:actuate=\"onRequest\" xlink:href=\"psysml:c43e0dd7-5ed6-48be-8e0c-51ab3a136360\" xlink:show=\"new\" xlink:title=\"psysml:c43e0dd7-5ed6-48be-8e0c-51ab3a136360\" xlink:type=\"simple\"><path d=\"M99.27,107.49 C104.84,123.15 111.26,141.19 116.16,154.98 \" fill=\"none\" id=\"E4&lt;-E5\" style=\"stroke: #383838; stroke-width: 1.0;\"/><polygon fill=\"#FFFFFF\" points=\"94.85,95.06,93.0933,102.0539,98.8735,106.3654,100.6302,99.3715,94.85,95.06\" style=\"stroke: #383838; stroke-width: 1.0;\"/><text fill=\"#000000\" font-family=\"sans-serif\" font-size=\"13\" lengthAdjust=\"spacingAndGlyphs\" textLength=\"8\" x=\"104.978\" y=\"143.8709\">1</text></a><!--MD5=[e9be52314489bd878ff4c7144b63c9e1]\n",
       "link E5 to E3--><a href=\"psysml:2aa52739-0df7-4ce8-98b6-590d7e75bfb1\" target=\"_top\" title=\"psysml:2aa52739-0df7-4ce8-98b6-590d7e75bfb1\" xlink:actuate=\"onRequest\" xlink:href=\"psysml:2aa52739-0df7-4ce8-98b6-590d7e75bfb1\" xlink:show=\"new\" xlink:title=\"psysml:2aa52739-0df7-4ce8-98b6-590d7e75bfb1\" xlink:type=\"simple\"><path d=\"M124,201.06 C124,212.64 124,227.23 124,240.87 \" fill=\"none\" id=\"E5-&gt;E3\" style=\"stroke: #383838; stroke-width: 1.0;\"/><polygon fill=\"#FFFFFF\" points=\"124,260.98,117,241.98,131,241.98,124,260.98\" style=\"stroke: #383838; stroke-width: 1.0;\"/><ellipse cx=\"119\" cy=\"236.28\" fill=\"#383838\" rx=\"2\" ry=\"2\" style=\"stroke: #383838; stroke-width: 1.0;\"/><ellipse cx=\"129\" cy=\"236.28\" fill=\"#383838\" rx=\"2\" ry=\"2\" style=\"stroke: #383838; stroke-width: 1.0;\"/></a><!--MD5=[6db378b65e1aef66a01cb3103812b399]\n",
       "reverse link E4 to E6--><a href=\"psysml:1e41dd73-9e54-4e7f-b4ef-80ac751c4104\" target=\"_top\" title=\"psysml:1e41dd73-9e54-4e7f-b4ef-80ac751c4104\" xlink:actuate=\"onRequest\" xlink:href=\"psysml:1e41dd73-9e54-4e7f-b4ef-80ac751c4104\" xlink:show=\"new\" xlink:title=\"psysml:1e41dd73-9e54-4e7f-b4ef-80ac751c4104\" xlink:type=\"simple\"><path d=\"M146.06,98.59 C185.85,115.83 237.8,138.35 275.83,154.82 \" fill=\"none\" id=\"E4&lt;-E6\" style=\"stroke: #383838; stroke-width: 1.0;\"/><polygon fill=\"#FFFFFF\" points=\"134.13,93.42,138.0439,99.4765,145.1399,98.1931,141.226,92.1366,134.13,93.42\" style=\"stroke: #383838; stroke-width: 1.0;\"/><text fill=\"#000000\" font-family=\"sans-serif\" font-size=\"13\" lengthAdjust=\"spacingAndGlyphs\" textLength=\"8\" x=\"253.6927\" y=\"144.0502\">1</text></a><!--MD5=[02c70b7c851c11e3980e4e90450dc5dd]\n",
       "link E6 to E7--><a href=\"psysml:d103a2ba-cc45-4e4d-a329-2cde55eb9a62\" target=\"_top\" title=\"psysml:d103a2ba-cc45-4e4d-a329-2cde55eb9a62\" xlink:actuate=\"onRequest\" xlink:href=\"psysml:d103a2ba-cc45-4e4d-a329-2cde55eb9a62\" xlink:show=\"new\" xlink:title=\"psysml:d103a2ba-cc45-4e4d-a329-2cde55eb9a62\" xlink:type=\"simple\"><path d=\"M327,201.06 C327,212.64 327,227.23 327,240.87 \" fill=\"none\" id=\"E6-&gt;E7\" style=\"stroke: #383838; stroke-width: 1.0;\"/><polygon fill=\"#FFFFFF\" points=\"327,260.98,320,241.98,334,241.98,327,260.98\" style=\"stroke: #383838; stroke-width: 1.0;\"/><ellipse cx=\"322\" cy=\"236.28\" fill=\"#383838\" rx=\"2\" ry=\"2\" style=\"stroke: #383838; stroke-width: 1.0;\"/><ellipse cx=\"332\" cy=\"236.28\" fill=\"#383838\" rx=\"2\" ry=\"2\" style=\"stroke: #383838; stroke-width: 1.0;\"/></a><!--MD5=[286aec35b40aa92f4297f3b0511cabf5]\n",
       "@startuml\r\n",
       "skinparam monochrome true\r\n",
       "skinparam classbackgroundcolor white\r\n",
       "skinparam shadowing false\r\n",
       "skinparam wrapWidth 300\r\n",
       "hide circle\r\n",
       "\r\n",
       "package \"Verzameling Modelelementen\" as E1  [[psysml:bc192075-96d7-4fdf-850e-871a66112232 ]]  {\r\n",
       "comp def \"ElementType1\" as E3  <<(T,blue) part  def>> [[psysml:2f6975af-860c-4b65-b2e1-7417d1ff1561 ]] {\r\n",
       "}\r\n",
       "comp def \"ElementType0\" as E4  <<(T,blue) part  def>> [[psysml:c385405b-6f8d-47d0-9e62-b4294c61aa67 ]] {\r\n",
       "}\r\n",
       "comp usage \"instance1: ElementType1 \" as E5  <<(T,blue) part>> [[psysml:5cc70bde-f951-4cfa-afde-77ca81097cca ]] {\r\n",
       "}\r\n",
       "comp usage \"instance2: ElementType2 \" as E6  <<(T,blue) part>> [[psysml:dda3937c-fd71-4047-ac05-a9d392abf012 ]] {\r\n",
       "}\r\n",
       "comp def \"ElementType2\" as E7  <<(T,blue) part  def>> [[psysml:619c6819-764f-4e6f-8ac5-0665fc87b0e8 ]] {\r\n",
       "}\r\n",
       "note as E2\r\n",
       "[[psysml:97aff948-fc5e-418d-830f-017477cac08e @]]in de 'talige' SysML hebben definities en declaraties geen stricte volgorde\r\n",
       "end note \r\n",
       "}\r\n",
       "E2 .. E1 [[psysml:97aff948-fc5e-418d-830f-017477cac08e ]] \r\n",
       "E4 o- - \"1\"E5 [[psysml:c43e0dd7-5ed6-48be-8e0c-51ab3a136360 ]] \r\n",
       "E5 - -:|> E3 [[psysml:2aa52739-0df7-4ce8-98b6-590d7e75bfb1 ]] \r\n",
       "E4 o- - \"1\"E6 [[psysml:1e41dd73-9e54-4e7f-b4ef-80ac751c4104 ]] \r\n",
       "E6 - -:|> E7 [[psysml:d103a2ba-cc45-4e4d-a329-2cde55eb9a62 ]] \r\n",
       "@enduml\r\n",
       "\n",
       "PlantUML version 1.2020.13(Sat Jun 13 05:26:38 PDT 2020)\n",
       "(EPL source distribution)\n",
       "Java Runtime: OpenJDK Runtime Environment\n",
       "JVM: OpenJDK 64-Bit Server VM\n",
       "Default Encoding: UTF-8\n",
       "Language: en\n",
       "Country: US\n",
       "--></g></svg>"
      ]
     },
     "execution_count": 3,
     "metadata": {},
     "output_type": "execute_result"
    }
   ],
   "source": [
    "%viz \"Verzameling Modelelementen\""
   ]
  },
  {
   "cell_type": "code",
   "execution_count": null,
   "id": "f5fc8224",
   "metadata": {},
   "outputs": [],
   "source": []
  }
 ],
 "metadata": {
  "kernelspec": {
   "display_name": "SysML",
   "language": "sysml",
   "name": "sysml"
  },
  "language_info": {
   "codemirror_mode": "sysml",
   "file_extension": ".sysml",
   "mimetype": "text/x-sysml",
   "name": "SysML",
   "pygments_lexer": "java",
   "version": "1.0.0"
  }
 },
 "nbformat": 4,
 "nbformat_minor": 5
}
