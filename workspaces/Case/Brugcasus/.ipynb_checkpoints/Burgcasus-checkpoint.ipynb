{
 "cells": [
  {
   "cell_type": "markdown",
   "id": "28b6774d",
   "metadata": {},
   "source": [
    "# Beweegbare brug casus\n",
    "\n",
    "\n",
    "## Opdracht 1:\n",
    "Neem de packagestructuur van het SysML 1.x model over voor het Operating Domain.\n",
    "\n",
    "*Alleen* t_Waterbody, t_Motorway, (ook de object flows?)\n",
    "\n",
    "Speel eens met part en part def\"\n",
    "\n",
    "Haat de \"def\" van de \"part def\" van  t_Operating environment af. Wat gebeurt nu?"
   ]
  },
  {
   "cell_type": "code",
   "execution_count": 18,
   "id": "f36f2000",
   "metadata": {},
   "outputs": [
    {
     "data": {
      "text/plain": [
       "Package OperationeleOmgeving (7b1dbee7-6160-4f9d-bdc7-176865987c75)\n"
      ]
     },
     "execution_count": 18,
     "metadata": {},
     "output_type": "execute_result"
    }
   ],
   "source": [
    "package 'OperationeleOmgeving' {\n",
    "\tdoc /* Wasson's full operational environment */\n",
    "    \n",
    "    part def OperationeleOmgeving {\n",
    "        part rechts: t_Waterlichaam;\n",
    "        part link: t_Waterlichaam;\n",
    "        part boven: t_Snelweg;\n",
    "        part onder: t_Snelweg;\n",
    "    }\n",
    "    \n",
    "    part def t_Waterlichaam {\n",
    "        \n",
    "    }\n",
    "    \n",
    "    part def t_Snelweg {\n",
    "        \n",
    "    }\n",
    "}"
   ]
  },
  {
   "cell_type": "code",
   "execution_count": 19,
   "id": "7ce2a38c",
   "metadata": {},
   "outputs": [
    {
     "data": {
      "image/svg+xml": [
       "<?xml version=\"1.0\" encoding=\"UTF-8\" standalone=\"no\"?><svg xmlns=\"http://www.w3.org/2000/svg\" xmlns:xlink=\"http://www.w3.org/1999/xlink\" contentScriptType=\"application/ecmascript\" contentStyleType=\"text/css\" height=\"343px\" preserveAspectRatio=\"none\" style=\"width:737px;height:343px;\" version=\"1.1\" viewBox=\"0 0 737 343\" width=\"737px\" zoomAndPan=\"magnify\"><defs/><g><!--MD5=[fbc87193dbaf4d95561dea2c320d4a47]\n",
       "cluster E1--><a href=\"psysml:7b1dbee7-6160-4f9d-bdc7-176865987c75\" target=\"_top\" title=\"psysml:7b1dbee7-6160-4f9d-bdc7-176865987c75\" xlink:actuate=\"onRequest\" xlink:href=\"psysml:7b1dbee7-6160-4f9d-bdc7-176865987c75\" xlink:show=\"new\" xlink:title=\"psysml:7b1dbee7-6160-4f9d-bdc7-176865987c75\" xlink:type=\"simple\"><polygon fill=\"#FFFFFF\" points=\"16,6,203,6,210,28.2969,715,28.2969,715,331,16,331,16,6\" style=\"stroke: #000000; stroke-width: 1.5;\"/><line style=\"stroke: #000000; stroke-width: 1.5;\" x1=\"16\" x2=\"210\" y1=\"28.2969\" y2=\"28.2969\"/><text fill=\"#000000\" font-family=\"sans-serif\" font-size=\"14\" font-weight=\"bold\" lengthAdjust=\"spacingAndGlyphs\" textLength=\"181\" x=\"20\" y=\"20.9951\">OperationeleOmgeving</text></a><!--MD5=[09b614a08d8cba4a07c9adeb5e0fee81]\n",
       "class E3--><a href=\"psysml:985c8297-025e-4061-9288-ea3baa98ee9b\" target=\"_top\" title=\"psysml:985c8297-025e-4061-9288-ea3baa98ee9b\" xlink:actuate=\"onRequest\" xlink:href=\"psysml:985c8297-025e-4061-9288-ea3baa98ee9b\" xlink:show=\"new\" xlink:title=\"psysml:985c8297-025e-4061-9288-ea3baa98ee9b\" xlink:type=\"simple\"><rect fill=\"#FFFFFF\" height=\"45.9375\" id=\"E3\" style=\"stroke: #383838; stroke-width: 1.5;\" width=\"148\" x=\"213\" y=\"49\"/><text fill=\"#000000\" font-family=\"sans-serif\" font-size=\"12\" font-style=\"italic\" lengthAdjust=\"spacingAndGlyphs\" textLength=\"68\" x=\"253\" y=\"65.1387\">«part  def»</text><text fill=\"#000000\" font-family=\"sans-serif\" font-size=\"12\" lengthAdjust=\"spacingAndGlyphs\" textLength=\"142\" x=\"216\" y=\"79.1074\">OperationeleOmgeving</text><line style=\"stroke: #383838; stroke-width: 1.5;\" x1=\"214\" x2=\"360\" y1=\"86.9375\" y2=\"86.9375\"/></a><!--MD5=[ebbe1d658d1005bcc118a6aa81145e00]\n",
       "class E4--><a href=\"psysml:c0d3e193-9232-4150-a030-d3c5bbaf1773\" target=\"_top\" title=\"psysml:c0d3e193-9232-4150-a030-d3c5bbaf1773\" xlink:actuate=\"onRequest\" xlink:href=\"psysml:c0d3e193-9232-4150-a030-d3c5bbaf1773\" xlink:show=\"new\" xlink:title=\"psysml:c0d3e193-9232-4150-a030-d3c5bbaf1773\" xlink:type=\"simple\"><rect fill=\"#FFFFFF\" height=\"45.9375\" id=\"E4\" rx=\"10\" ry=\"10\" style=\"stroke: #383838; stroke-width: 1.5;\" width=\"154\" x=\"40\" y=\"155\"/><text fill=\"#000000\" font-family=\"sans-serif\" font-size=\"12\" font-style=\"italic\" lengthAdjust=\"spacingAndGlyphs\" textLength=\"40\" x=\"97\" y=\"171.1387\">«part»</text><text fill=\"#000000\" font-family=\"sans-serif\" font-size=\"12\" lengthAdjust=\"spacingAndGlyphs\" textLength=\"144\" x=\"43\" y=\"185.1074\">rechts: t_Waterlichaam</text><line style=\"stroke: #383838; stroke-width: 1.5;\" x1=\"41\" x2=\"193\" y1=\"192.9375\" y2=\"192.9375\"/></a><!--MD5=[270fce915f116d4de14055a7c1d9a0f3]\n",
       "class E5--><a href=\"psysml:047445d1-ba97-4e13-abac-02dbfeefda8e\" target=\"_top\" title=\"psysml:047445d1-ba97-4e13-abac-02dbfeefda8e\" xlink:actuate=\"onRequest\" xlink:href=\"psysml:047445d1-ba97-4e13-abac-02dbfeefda8e\" xlink:show=\"new\" xlink:title=\"psysml:047445d1-ba97-4e13-abac-02dbfeefda8e\" xlink:type=\"simple\"><rect fill=\"#FFFFFF\" height=\"45.9375\" id=\"E5\" rx=\"10\" ry=\"10\" style=\"stroke: #383838; stroke-width: 1.5;\" width=\"135\" x=\"229.5\" y=\"155\"/><text fill=\"#000000\" font-family=\"sans-serif\" font-size=\"12\" font-style=\"italic\" lengthAdjust=\"spacingAndGlyphs\" textLength=\"40\" x=\"277\" y=\"171.1387\">«part»</text><text fill=\"#000000\" font-family=\"sans-serif\" font-size=\"12\" lengthAdjust=\"spacingAndGlyphs\" textLength=\"125\" x=\"232.5\" y=\"185.1074\">link: t_Waterlichaam</text><line style=\"stroke: #383838; stroke-width: 1.5;\" x1=\"230.5\" x2=\"363.5\" y1=\"192.9375\" y2=\"192.9375\"/></a><!--MD5=[60a26617385b1d2d0262a64233df1f8d]\n",
       "class E6--><a href=\"psysml:e615f1fe-01e2-495c-bae9-a66091ab4fae\" target=\"_top\" title=\"psysml:e615f1fe-01e2-495c-bae9-a66091ab4fae\" xlink:actuate=\"onRequest\" xlink:href=\"psysml:e615f1fe-01e2-495c-bae9-a66091ab4fae\" xlink:show=\"new\" xlink:title=\"psysml:e615f1fe-01e2-495c-bae9-a66091ab4fae\" xlink:type=\"simple\"><rect fill=\"#FFFFFF\" height=\"45.9375\" id=\"E6\" rx=\"10\" ry=\"10\" style=\"stroke: #383838; stroke-width: 1.5;\" width=\"119\" x=\"399.5\" y=\"155\"/><text fill=\"#000000\" font-family=\"sans-serif\" font-size=\"12\" font-style=\"italic\" lengthAdjust=\"spacingAndGlyphs\" textLength=\"40\" x=\"439\" y=\"171.1387\">«part»</text><text fill=\"#000000\" font-family=\"sans-serif\" font-size=\"12\" lengthAdjust=\"spacingAndGlyphs\" textLength=\"109\" x=\"402.5\" y=\"185.1074\">boven: t_Snelweg</text><line style=\"stroke: #383838; stroke-width: 1.5;\" x1=\"400.5\" x2=\"517.5\" y1=\"192.9375\" y2=\"192.9375\"/></a><!--MD5=[2156ba9850f5573cc1fc38a6a4b2f02b]\n",
       "class E7--><a href=\"psysml:d7b2ee23-c765-4538-8fe1-b3407e5b7f2e\" target=\"_top\" title=\"psysml:d7b2ee23-c765-4538-8fe1-b3407e5b7f2e\" xlink:actuate=\"onRequest\" xlink:href=\"psysml:d7b2ee23-c765-4538-8fe1-b3407e5b7f2e\" xlink:show=\"new\" xlink:title=\"psysml:d7b2ee23-c765-4538-8fe1-b3407e5b7f2e\" xlink:type=\"simple\"><rect fill=\"#FFFFFF\" height=\"45.9375\" id=\"E7\" rx=\"10\" ry=\"10\" style=\"stroke: #383838; stroke-width: 1.5;\" width=\"118\" x=\"554\" y=\"155\"/><text fill=\"#000000\" font-family=\"sans-serif\" font-size=\"12\" font-style=\"italic\" lengthAdjust=\"spacingAndGlyphs\" textLength=\"40\" x=\"593\" y=\"171.1387\">«part»</text><text fill=\"#000000\" font-family=\"sans-serif\" font-size=\"12\" lengthAdjust=\"spacingAndGlyphs\" textLength=\"108\" x=\"557\" y=\"185.1074\">onder: t_Snelweg</text><line style=\"stroke: #383838; stroke-width: 1.5;\" x1=\"555\" x2=\"671\" y1=\"192.9375\" y2=\"192.9375\"/></a><!--MD5=[b9389687b975829384b498ac4b7476b2]\n",
       "class E8--><a href=\"psysml:6a71472e-b684-43ca-b019-8f9932159476\" target=\"_top\" title=\"psysml:6a71472e-b684-43ca-b019-8f9932159476\" xlink:actuate=\"onRequest\" xlink:href=\"psysml:6a71472e-b684-43ca-b019-8f9932159476\" xlink:show=\"new\" xlink:title=\"psysml:6a71472e-b684-43ca-b019-8f9932159476\" xlink:type=\"simple\"><rect fill=\"#FFFFFF\" height=\"45.9375\" id=\"E8\" style=\"stroke: #383838; stroke-width: 1.5;\" width=\"102\" x=\"156\" y=\"261\"/><text fill=\"#000000\" font-family=\"sans-serif\" font-size=\"12\" font-style=\"italic\" lengthAdjust=\"spacingAndGlyphs\" textLength=\"68\" x=\"173\" y=\"277.1387\">«part  def»</text><text fill=\"#000000\" font-family=\"sans-serif\" font-size=\"12\" lengthAdjust=\"spacingAndGlyphs\" textLength=\"96\" x=\"159\" y=\"291.1074\">t_Waterlichaam</text><line style=\"stroke: #383838; stroke-width: 1.5;\" x1=\"157\" x2=\"257\" y1=\"298.9375\" y2=\"298.9375\"/></a><!--MD5=[fd4143e9d270a159db93a4ea2a975926]\n",
       "class E9--><a href=\"psysml:cfa17e94-e399-43a9-9fcd-0dfa58c4f434\" target=\"_top\" title=\"psysml:cfa17e94-e399-43a9-9fcd-0dfa58c4f434\" xlink:actuate=\"onRequest\" xlink:href=\"psysml:cfa17e94-e399-43a9-9fcd-0dfa58c4f434\" xlink:show=\"new\" xlink:title=\"psysml:cfa17e94-e399-43a9-9fcd-0dfa58c4f434\" xlink:type=\"simple\"><rect fill=\"#FFFFFF\" height=\"45.9375\" id=\"E9\" style=\"stroke: #383838; stroke-width: 1.5;\" width=\"70\" x=\"501\" y=\"261\"/><text fill=\"#000000\" font-family=\"sans-serif\" font-size=\"12\" font-style=\"italic\" lengthAdjust=\"spacingAndGlyphs\" textLength=\"68\" x=\"502\" y=\"277.1387\">«part  def»</text><text fill=\"#000000\" font-family=\"sans-serif\" font-size=\"12\" lengthAdjust=\"spacingAndGlyphs\" textLength=\"63\" x=\"504.5\" y=\"291.1074\">t_Snelweg</text><line style=\"stroke: #383838; stroke-width: 1.5;\" x1=\"502\" x2=\"570\" y1=\"298.9375\" y2=\"298.9375\"/></a><path d=\"M396,59.5 L396,84.6328 L672,84.6328 L672,69.5 L662,59.5 L396,59.5 \" fill=\"#ECECEC\" style=\"stroke: #383838; stroke-width: 1.0;\"/><path d=\"M662,59.5 L662,69.5 L672,69.5 L662,59.5 \" fill=\"#ECECEC\" style=\"stroke: #383838; stroke-width: 1.0;\"/><a href=\"psysml:4afde2aa-42c9-445b-9ab2-4e435e49b215\" target=\"_top\" title=\"psysml:4afde2aa-42c9-445b-9ab2-4e435e49b215\" xlink:actuate=\"onRequest\" xlink:href=\"psysml:4afde2aa-42c9-445b-9ab2-4e435e49b215\" xlink:show=\"new\" xlink:title=\"psysml:4afde2aa-42c9-445b-9ab2-4e435e49b215\" xlink:type=\"simple\"><text fill=\"#1C1C1C\" font-family=\"sans-serif\" font-size=\"13\" lengthAdjust=\"spacingAndGlyphs\" text-decoration=\"underline\" textLength=\"13\" x=\"402\" y=\"76.5669\">@</text></a><text fill=\"#000000\" font-family=\"sans-serif\" font-size=\"13\" lengthAdjust=\"spacingAndGlyphs\" textLength=\"242\" x=\"415\" y=\"76.5669\">Wasson's full operational environment</text><!--MD5=[f23a504beb17692cf1ec401fb4a5a911]\n",
       "link E2 to E1--><a href=\"psysml:4afde2aa-42c9-445b-9ab2-4e435e49b215\" target=\"_top\" title=\"psysml:4afde2aa-42c9-445b-9ab2-4e435e49b215\" xlink:actuate=\"onRequest\" xlink:href=\"psysml:4afde2aa-42c9-445b-9ab2-4e435e49b215\" xlink:show=\"new\" xlink:title=\"psysml:4afde2aa-42c9-445b-9ab2-4e435e49b215\" xlink:type=\"simple\"><path d=\"M562.86,84.52 C595.3,98.31 648.59,123.53 688,155 C697.46,162.56 705.88,175.28 706.9,176.84 \" fill=\"none\" id=\"E2-E1\" style=\"stroke: #383838; stroke-width: 1.0; stroke-dasharray: 7.0,7.0;\"/></a><!--MD5=[4672eba38e49728da53d11aeb285b987]\n",
       "reverse link E3 to E4--><a href=\"psysml:00eff6c2-2851-424a-8248-405c4375ff5d\" target=\"_top\" title=\"psysml:00eff6c2-2851-424a-8248-405c4375ff5d\" xlink:actuate=\"onRequest\" xlink:href=\"psysml:00eff6c2-2851-424a-8248-405c4375ff5d\" xlink:show=\"new\" xlink:title=\"psysml:00eff6c2-2851-424a-8248-405c4375ff5d\" xlink:type=\"simple\"><path d=\"M239.64,101.97 C212.21,118.75 178.23,139.54 153,154.98 \" fill=\"none\" id=\"E3&lt;-E4\" style=\"stroke: #383838; stroke-width: 1.0;\"/><polygon fill=\"#FFFFFF\" points=\"250.95,95.06,243.7443,94.7808,240.7152,101.3249,247.9209,101.604,250.95,95.06\" style=\"stroke: #383838; stroke-width: 1.0;\"/><text fill=\"#000000\" font-family=\"sans-serif\" font-size=\"13\" lengthAdjust=\"spacingAndGlyphs\" textLength=\"8\" x=\"153.6\" y=\"143.8709\">1</text></a><!--MD5=[191cde3d490a3f6d7bb551fe3ddca469]\n",
       "reverse link E3 to E5--><a href=\"psysml:eab77d1d-78a4-4c0b-81a6-2723c68812cb\" target=\"_top\" title=\"psysml:eab77d1d-78a4-4c0b-81a6-2723c68812cb\" xlink:actuate=\"onRequest\" xlink:href=\"psysml:eab77d1d-78a4-4c0b-81a6-2723c68812cb\" xlink:show=\"new\" xlink:title=\"psysml:eab77d1d-78a4-4c0b-81a6-2723c68812cb\" xlink:type=\"simple\"><path d=\"M290.41,108.44 C291.89,123.87 293.58,141.47 294.88,154.98 \" fill=\"none\" id=\"E3&lt;-E5\" style=\"stroke: #383838; stroke-width: 1.0;\"/><polygon fill=\"#FFFFFF\" points=\"289.12,95.06,285.7125,101.4152,290.2683,107.0049,293.6758,100.6497,289.12,95.06\" style=\"stroke: #383838; stroke-width: 1.0;\"/><text fill=\"#000000\" font-family=\"sans-serif\" font-size=\"13\" lengthAdjust=\"spacingAndGlyphs\" textLength=\"8\" x=\"285.2353\" y=\"143.8709\">1</text></a><!--MD5=[1026b4b93417a13aa8999a858998add2]\n",
       "reverse link E3 to E6--><a href=\"psysml:08b3c34a-a4f8-4abb-b44c-b6420c9c9cc2\" target=\"_top\" title=\"psysml:08b3c34a-a4f8-4abb-b44c-b6420c9c9cc2\" xlink:actuate=\"onRequest\" xlink:href=\"psysml:08b3c34a-a4f8-4abb-b44c-b6420c9c9cc2\" xlink:show=\"new\" xlink:title=\"psysml:08b3c34a-a4f8-4abb-b44c-b6420c9c9cc2\" xlink:type=\"simple\"><path d=\"M334.92,101.97 C362.67,118.75 397.05,139.54 422.58,154.98 \" fill=\"none\" id=\"E3&lt;-E6\" style=\"stroke: #383838; stroke-width: 1.0;\"/><polygon fill=\"#FFFFFF\" points=\"323.48,95.06,326.5449,101.5874,333.7489,101.2688,330.6841,94.7414,323.48,95.06\" style=\"stroke: #383838; stroke-width: 1.0;\"/><text fill=\"#000000\" font-family=\"sans-serif\" font-size=\"13\" lengthAdjust=\"spacingAndGlyphs\" textLength=\"8\" x=\"403.7171\" y=\"143.8709\">1</text></a><!--MD5=[85760999379eecfd2565a9fecdca67e4]\n",
       "reverse link E3 to E7--><a href=\"psysml:b91da79c-0c53-4b6c-bd26-c8afbe19d85d\" target=\"_top\" title=\"psysml:b91da79c-0c53-4b6c-bd26-c8afbe19d85d\" xlink:actuate=\"onRequest\" xlink:href=\"psysml:b91da79c-0c53-4b6c-bd26-c8afbe19d85d\" xlink:show=\"new\" xlink:title=\"psysml:b91da79c-0c53-4b6c-bd26-c8afbe19d85d\" xlink:type=\"simple\"><path d=\"M368.86,99.12 C426.4,117.47 502.05,141.61 553.8,158.11 \" fill=\"none\" id=\"E3&lt;-E7\" style=\"stroke: #383838; stroke-width: 1.0;\"/><polygon fill=\"#FFFFFF\" points=\"356.14,95.06,360.6439,100.6916,367.5746,98.7001,363.0707,93.0685,356.14,95.06\" style=\"stroke: #383838; stroke-width: 1.0;\"/><text fill=\"#000000\" font-family=\"sans-serif\" font-size=\"13\" lengthAdjust=\"spacingAndGlyphs\" textLength=\"8\" x=\"538.0975\" y=\"151.8506\">1</text></a><!--MD5=[353cdda3e1e05fc02373f055b6f604ae]\n",
       "link E4 to E8--><a href=\"psysml:5a0e84ea-5dac-45f6-9389-29dc6c7cd4c7\" target=\"_top\" title=\"psysml:5a0e84ea-5dac-45f6-9389-29dc6c7cd4c7\" xlink:actuate=\"onRequest\" xlink:href=\"psysml:5a0e84ea-5dac-45f6-9389-29dc6c7cd4c7\" xlink:show=\"new\" xlink:title=\"psysml:5a0e84ea-5dac-45f6-9389-29dc6c7cd4c7\" xlink:type=\"simple\"><path d=\"M136.09,201.06 C147.3,214.02 161.78,230.74 174.72,245.7 \" fill=\"none\" id=\"E4-&gt;E8\" style=\"stroke: #383838; stroke-width: 1.0;\"/><polygon fill=\"#FFFFFF\" points=\"187.94,260.98,170.216,251.1892,180.8045,242.0305,187.94,260.98\" style=\"stroke: #383838; stroke-width: 1.0;\"/><ellipse cx=\"167.9997\" cy=\"245.5698\" fill=\"#383838\" rx=\"2\" ry=\"2\" style=\"stroke: #383838; stroke-width: 1.0;\"/><ellipse cx=\"175.563\" cy=\"239.0278\" fill=\"#383838\" rx=\"2\" ry=\"2\" style=\"stroke: #383838; stroke-width: 1.0;\"/></a><!--MD5=[dfaffb906826c3e5aca635516100ff21]\n",
       "link E5 to E8--><a href=\"psysml:54eca6bf-2eb9-47f7-8616-843fd226ef28\" target=\"_top\" title=\"psysml:54eca6bf-2eb9-47f7-8616-843fd226ef28\" xlink:actuate=\"onRequest\" xlink:href=\"psysml:54eca6bf-2eb9-47f7-8616-843fd226ef28\" xlink:show=\"new\" xlink:title=\"psysml:54eca6bf-2eb9-47f7-8616-843fd226ef28\" xlink:type=\"simple\"><path d=\"M277.91,201.06 C266.7,214.02 252.22,230.74 239.28,245.7 \" fill=\"none\" id=\"E5-&gt;E8\" style=\"stroke: #383838; stroke-width: 1.0;\"/><polygon fill=\"#FFFFFF\" points=\"226.06,260.98,233.1955,242.0305,243.784,251.1892,226.06,260.98\" style=\"stroke: #383838; stroke-width: 1.0;\"/><ellipse cx=\"238.437\" cy=\"239.0278\" fill=\"#383838\" rx=\"2\" ry=\"2\" style=\"stroke: #383838; stroke-width: 1.0;\"/><ellipse cx=\"246.0003\" cy=\"245.5698\" fill=\"#383838\" rx=\"2\" ry=\"2\" style=\"stroke: #383838; stroke-width: 1.0;\"/></a><!--MD5=[8ae21a5272e5f5a2f0d855d545cbd16c]\n",
       "link E6 to E9--><a href=\"psysml:ccaa8408-c0e0-479f-9c16-4f4c2bd2c93b\" target=\"_top\" title=\"psysml:ccaa8408-c0e0-479f-9c16-4f4c2bd2c93b\" xlink:actuate=\"onRequest\" xlink:href=\"psysml:ccaa8408-c0e0-479f-9c16-4f4c2bd2c93b\" xlink:show=\"new\" xlink:title=\"psysml:ccaa8408-c0e0-479f-9c16-4f4c2bd2c93b\" xlink:type=\"simple\"><path d=\"M475.33,201.06 C484.72,213.74 496.78,230.03 507.68,244.74 \" fill=\"none\" id=\"E6-&gt;E9\" style=\"stroke: #383838; stroke-width: 1.0;\"/><polygon fill=\"#FFFFFF\" points=\"519.69,260.98,502.7579,249.8758,514.0093,241.5447,519.69,260.98\" style=\"stroke: #383838; stroke-width: 1.0;\"/><ellipse cx=\"500.9733\" cy=\"244.1047\" fill=\"#383838\" rx=\"2\" ry=\"2\" style=\"stroke: #383838; stroke-width: 1.0;\"/><ellipse cx=\"509.01\" cy=\"238.154\" fill=\"#383838\" rx=\"2\" ry=\"2\" style=\"stroke: #383838; stroke-width: 1.0;\"/></a><!--MD5=[1c0b9414cc86e0744215edee6abd8926]\n",
       "link E7 to E9--><a href=\"psysml:f4843fd4-2f90-4b64-a241-b8034a197155\" target=\"_top\" title=\"psysml:f4843fd4-2f90-4b64-a241-b8034a197155\" xlink:actuate=\"onRequest\" xlink:href=\"psysml:f4843fd4-2f90-4b64-a241-b8034a197155\" xlink:show=\"new\" xlink:title=\"psysml:f4843fd4-2f90-4b64-a241-b8034a197155\" xlink:type=\"simple\"><path d=\"M596.67,201.06 C587.28,213.74 575.22,230.03 564.32,244.74 \" fill=\"none\" id=\"E7-&gt;E9\" style=\"stroke: #383838; stroke-width: 1.0;\"/><polygon fill=\"#FFFFFF\" points=\"552.31,260.98,557.9907,241.5447,569.2421,249.8758,552.31,260.98\" style=\"stroke: #383838; stroke-width: 1.0;\"/><ellipse cx=\"562.99\" cy=\"238.154\" fill=\"#383838\" rx=\"2\" ry=\"2\" style=\"stroke: #383838; stroke-width: 1.0;\"/><ellipse cx=\"571.0267\" cy=\"244.1047\" fill=\"#383838\" rx=\"2\" ry=\"2\" style=\"stroke: #383838; stroke-width: 1.0;\"/></a><!--MD5=[7aba7fdee4e5ad676bbd7fb821cc4b03]\n",
       "@startuml\r\n",
       "skinparam monochrome true\r\n",
       "skinparam classbackgroundcolor white\r\n",
       "skinparam shadowing false\r\n",
       "skinparam wrapWidth 300\r\n",
       "hide circle\r\n",
       "\r\n",
       "package \"OperationeleOmgeving\" as E1  [[psysml:7b1dbee7-6160-4f9d-bdc7-176865987c75 ]]  {\r\n",
       "comp def \"OperationeleOmgeving\" as E3  <<(T,blue) part  def>> [[psysml:985c8297-025e-4061-9288-ea3baa98ee9b ]] {\r\n",
       "}\r\n",
       "comp usage \"rechts: t_Waterlichaam \" as E4  <<(T,blue) part>> [[psysml:c0d3e193-9232-4150-a030-d3c5bbaf1773 ]] {\r\n",
       "}\r\n",
       "comp usage \"link: t_Waterlichaam \" as E5  <<(T,blue) part>> [[psysml:047445d1-ba97-4e13-abac-02dbfeefda8e ]] {\r\n",
       "}\r\n",
       "comp usage \"boven: t_Snelweg \" as E6  <<(T,blue) part>> [[psysml:e615f1fe-01e2-495c-bae9-a66091ab4fae ]] {\r\n",
       "}\r\n",
       "comp usage \"onder: t_Snelweg \" as E7  <<(T,blue) part>> [[psysml:d7b2ee23-c765-4538-8fe1-b3407e5b7f2e ]] {\r\n",
       "}\r\n",
       "comp def \"t_Waterlichaam\" as E8  <<(T,blue) part  def>> [[psysml:6a71472e-b684-43ca-b019-8f9932159476 ]] {\r\n",
       "}\r\n",
       "comp def \"t_Snelweg\" as E9  <<(T,blue) part  def>> [[psysml:cfa17e94-e399-43a9-9fcd-0dfa58c4f434 ]] {\r\n",
       "}\r\n",
       "note as E2\r\n",
       "[[psysml:4afde2aa-42c9-445b-9ab2-4e435e49b215 @]]Wasson's full operational environment\r\n",
       "end note \r\n",
       "}\r\n",
       "E2 .. E1 [[psysml:4afde2aa-42c9-445b-9ab2-4e435e49b215 ]] \r\n",
       "E3 o- - \"1\"E4 [[psysml:00eff6c2-2851-424a-8248-405c4375ff5d ]] \r\n",
       "E3 o- - \"1\"E5 [[psysml:eab77d1d-78a4-4c0b-81a6-2723c68812cb ]] \r\n",
       "E3 o- - \"1\"E6 [[psysml:08b3c34a-a4f8-4abb-b44c-b6420c9c9cc2 ]] \r\n",
       "E3 o- - \"1\"E7 [[psysml:b91da79c-0c53-4b6c-bd26-c8afbe19d85d ]] \r\n",
       "E4 - -:|> E8 [[psysml:5a0e84ea-5dac-45f6-9389-29dc6c7cd4c7 ]] \r\n",
       "E5 - -:|> E8 [[psysml:54eca6bf-2eb9-47f7-8616-843fd226ef28 ]] \r\n",
       "E6 - -:|> E9 [[psysml:ccaa8408-c0e0-479f-9c16-4f4c2bd2c93b ]] \r\n",
       "E7 - -:|> E9 [[psysml:f4843fd4-2f90-4b64-a241-b8034a197155 ]] \r\n",
       "@enduml\r\n",
       "\n",
       "PlantUML version 1.2020.13(Sat Jun 13 05:26:38 PDT 2020)\n",
       "(EPL source distribution)\n",
       "Java Runtime: OpenJDK Runtime Environment\n",
       "JVM: OpenJDK 64-Bit Server VM\n",
       "Default Encoding: UTF-8\n",
       "Language: en\n",
       "Country: US\n",
       "--></g></svg>"
      ]
     },
     "execution_count": 19,
     "metadata": {},
     "output_type": "execute_result"
    }
   ],
   "source": [
    "%viz OperationeleOmgeving"
   ]
  },
  {
   "cell_type": "markdown",
   "id": "a09e46d3",
   "metadata": {},
   "source": [
    "## Opdracht 2\n",
    "\n",
    "Decomponeer het brugsysteem in zijn onderdelen conform de decompositie in het SysML 1.x model\n"
   ]
  },
  {
   "cell_type": "code",
   "execution_count": 21,
   "id": "30d75dd5",
   "metadata": {},
   "outputs": [
    {
     "data": {
      "text/plain": [
       "Package Missiesystemen (c6d002c6-f034-47d3-b8f5-563dc18e6c0e)\n"
      ]
     },
     "execution_count": 21,
     "metadata": {},
     "output_type": "execute_result"
    }
   ],
   "source": [
    "package 'Missiesystemen'{\n",
    "    \n",
    "    part def t_brug {\n",
    "        part de_val: t_Val;\n",
    "        part de_vaarweg: t_Vaarweg;\n",
    "        part t_sein_links: t_Scheepvaartsein;\n",
    "        part t_sein_rechts: t_Scheepvaartsein;\n",
    "        part bruglicht_onder: t_Bruglicht;\n",
    "        part bruglicht_boven: t_Bruglicht;\n",
    "        part plc: t_Besturing;\n",
    "    }\n",
    "    \n",
    "    part def t_Val {\n",
    "    }\n",
    "    \n",
    "    part def t_Vaarweg {\n",
    "    }\n",
    "    \n",
    "    part def t_Bruglicht {\n",
    "    }\n",
    "    \n",
    "    part def t_Scheepvaartsein {\n",
    "    }\n",
    "    \n",
    "    part def t_Besturing {\n",
    "    }\n",
    "}\n",
    "\n"
   ]
  },
  {
   "cell_type": "code",
   "execution_count": 22,
   "id": "20203c10",
   "metadata": {},
   "outputs": [
    {
     "data": {
      "image/svg+xml": [
       "<?xml version=\"1.0\" encoding=\"UTF-8\" standalone=\"no\"?><svg xmlns=\"http://www.w3.org/2000/svg\" xmlns:xlink=\"http://www.w3.org/1999/xlink\" contentScriptType=\"application/ecmascript\" contentStyleType=\"text/css\" height=\"327px\" preserveAspectRatio=\"none\" style=\"width:1419px;height:327px;\" version=\"1.1\" viewBox=\"0 0 1419 327\" width=\"1419px\" zoomAndPan=\"magnify\"><defs/><g><!--MD5=[fbc87193dbaf4d95561dea2c320d4a47]\n",
       "cluster E1--><a href=\"psysml:c6d002c6-f034-47d3-b8f5-563dc18e6c0e\" target=\"_top\" title=\"psysml:c6d002c6-f034-47d3-b8f5-563dc18e6c0e\" xlink:actuate=\"onRequest\" xlink:href=\"psysml:c6d002c6-f034-47d3-b8f5-563dc18e6c0e\" xlink:show=\"new\" xlink:title=\"psysml:c6d002c6-f034-47d3-b8f5-563dc18e6c0e\" xlink:type=\"simple\"><polygon fill=\"#FFFFFF\" points=\"16,6,148,6,155,28.2969,1397,28.2969,1397,315,16,315,16,6\" style=\"stroke: #000000; stroke-width: 1.5;\"/><line style=\"stroke: #000000; stroke-width: 1.5;\" x1=\"16\" x2=\"155\" y1=\"28.2969\" y2=\"28.2969\"/><text fill=\"#000000\" font-family=\"sans-serif\" font-size=\"14\" font-weight=\"bold\" lengthAdjust=\"spacingAndGlyphs\" textLength=\"126\" x=\"20\" y=\"20.9951\">Missiesystemen</text></a><!--MD5=[b4997ac47864f28c2f74865a473b2911]\n",
       "class E2--><a href=\"psysml:3a4d09e5-301e-40e8-8127-e33a266bbbdc\" target=\"_top\" title=\"psysml:3a4d09e5-301e-40e8-8127-e33a266bbbdc\" xlink:actuate=\"onRequest\" xlink:href=\"psysml:3a4d09e5-301e-40e8-8127-e33a266bbbdc\" xlink:show=\"new\" xlink:title=\"psysml:3a4d09e5-301e-40e8-8127-e33a266bbbdc\" xlink:type=\"simple\"><rect fill=\"#FFFFFF\" height=\"45.9375\" id=\"E2\" style=\"stroke: #383838; stroke-width: 1.5;\" width=\"70\" x=\"660\" y=\"41\"/><text fill=\"#000000\" font-family=\"sans-serif\" font-size=\"12\" font-style=\"italic\" lengthAdjust=\"spacingAndGlyphs\" textLength=\"68\" x=\"661\" y=\"57.1387\">«part  def»</text><text fill=\"#000000\" font-family=\"sans-serif\" font-size=\"12\" lengthAdjust=\"spacingAndGlyphs\" textLength=\"40\" x=\"675\" y=\"71.1074\">t_brug</text><line style=\"stroke: #383838; stroke-width: 1.5;\" x1=\"661\" x2=\"729\" y1=\"78.9375\" y2=\"78.9375\"/></a><!--MD5=[09b614a08d8cba4a07c9adeb5e0fee81]\n",
       "class E3--><a href=\"psysml:5e68e5ed-3839-42c5-9d14-ad1e85760ab2\" target=\"_top\" title=\"psysml:5e68e5ed-3839-42c5-9d14-ad1e85760ab2\" xlink:actuate=\"onRequest\" xlink:href=\"psysml:5e68e5ed-3839-42c5-9d14-ad1e85760ab2\" xlink:show=\"new\" xlink:title=\"psysml:5e68e5ed-3839-42c5-9d14-ad1e85760ab2\" xlink:type=\"simple\"><rect fill=\"#FFFFFF\" height=\"45.9375\" id=\"E3\" rx=\"10\" ry=\"10\" style=\"stroke: #383838; stroke-width: 1.5;\" width=\"87\" x=\"32.5\" y=\"147\"/><text fill=\"#000000\" font-family=\"sans-serif\" font-size=\"12\" font-style=\"italic\" lengthAdjust=\"spacingAndGlyphs\" textLength=\"40\" x=\"56\" y=\"163.1387\">«part»</text><text fill=\"#000000\" font-family=\"sans-serif\" font-size=\"12\" lengthAdjust=\"spacingAndGlyphs\" textLength=\"77\" x=\"35.5\" y=\"177.1074\">de_val: t_Val</text><line style=\"stroke: #383838; stroke-width: 1.5;\" x1=\"33.5\" x2=\"118.5\" y1=\"184.9375\" y2=\"184.9375\"/></a><!--MD5=[ebbe1d658d1005bcc118a6aa81145e00]\n",
       "class E4--><a href=\"psysml:99610459-4371-4317-bb88-ab388aea9d58\" target=\"_top\" title=\"psysml:99610459-4371-4317-bb88-ab388aea9d58\" xlink:actuate=\"onRequest\" xlink:href=\"psysml:99610459-4371-4317-bb88-ab388aea9d58\" xlink:show=\"new\" xlink:title=\"psysml:99610459-4371-4317-bb88-ab388aea9d58\" xlink:type=\"simple\"><rect fill=\"#FFFFFF\" height=\"45.9375\" id=\"E4\" rx=\"10\" ry=\"10\" style=\"stroke: #383838; stroke-width: 1.5;\" width=\"157\" x=\"154.5\" y=\"147\"/><text fill=\"#000000\" font-family=\"sans-serif\" font-size=\"12\" font-style=\"italic\" lengthAdjust=\"spacingAndGlyphs\" textLength=\"40\" x=\"213\" y=\"163.1387\">«part»</text><text fill=\"#000000\" font-family=\"sans-serif\" font-size=\"12\" lengthAdjust=\"spacingAndGlyphs\" textLength=\"147\" x=\"157.5\" y=\"177.1074\">de_vaarweg: t_Vaarweg</text><line style=\"stroke: #383838; stroke-width: 1.5;\" x1=\"155.5\" x2=\"310.5\" y1=\"184.9375\" y2=\"184.9375\"/></a><!--MD5=[270fce915f116d4de14055a7c1d9a0f3]\n",
       "class E5--><a href=\"psysml:87b06ffc-1ddb-4d0d-91e4-8df74068b734\" target=\"_top\" title=\"psysml:87b06ffc-1ddb-4d0d-91e4-8df74068b734\" xlink:actuate=\"onRequest\" xlink:href=\"psysml:87b06ffc-1ddb-4d0d-91e4-8df74068b734\" xlink:show=\"new\" xlink:title=\"psysml:87b06ffc-1ddb-4d0d-91e4-8df74068b734\" xlink:type=\"simple\"><rect fill=\"#FFFFFF\" height=\"45.9375\" id=\"E5\" rx=\"10\" ry=\"10\" style=\"stroke: #383838; stroke-width: 1.5;\" width=\"205\" x=\"346.5\" y=\"147\"/><text fill=\"#000000\" font-family=\"sans-serif\" font-size=\"12\" font-style=\"italic\" lengthAdjust=\"spacingAndGlyphs\" textLength=\"40\" x=\"429\" y=\"163.1387\">«part»</text><text fill=\"#000000\" font-family=\"sans-serif\" font-size=\"12\" lengthAdjust=\"spacingAndGlyphs\" textLength=\"195\" x=\"349.5\" y=\"177.1074\">t_sein_links: t_Scheepvaartsein</text><line style=\"stroke: #383838; stroke-width: 1.5;\" x1=\"347.5\" x2=\"550.5\" y1=\"184.9375\" y2=\"184.9375\"/></a><!--MD5=[60a26617385b1d2d0262a64233df1f8d]\n",
       "class E6--><a href=\"psysml:81b43188-fa5e-4f0b-aca5-f4c85b22e301\" target=\"_top\" title=\"psysml:81b43188-fa5e-4f0b-aca5-f4c85b22e301\" xlink:actuate=\"onRequest\" xlink:href=\"psysml:81b43188-fa5e-4f0b-aca5-f4c85b22e301\" xlink:show=\"new\" xlink:title=\"psysml:81b43188-fa5e-4f0b-aca5-f4c85b22e301\" xlink:type=\"simple\"><rect fill=\"#FFFFFF\" height=\"45.9375\" id=\"E6\" rx=\"10\" ry=\"10\" style=\"stroke: #383838; stroke-width: 1.5;\" width=\"217\" x=\"586.5\" y=\"147\"/><text fill=\"#000000\" font-family=\"sans-serif\" font-size=\"12\" font-style=\"italic\" lengthAdjust=\"spacingAndGlyphs\" textLength=\"40\" x=\"675\" y=\"163.1387\">«part»</text><text fill=\"#000000\" font-family=\"sans-serif\" font-size=\"12\" lengthAdjust=\"spacingAndGlyphs\" textLength=\"207\" x=\"589.5\" y=\"177.1074\">t_sein_rechts: t_Scheepvaartsein</text><line style=\"stroke: #383838; stroke-width: 1.5;\" x1=\"587.5\" x2=\"802.5\" y1=\"184.9375\" y2=\"184.9375\"/></a><!--MD5=[2156ba9850f5573cc1fc38a6a4b2f02b]\n",
       "class E7--><a href=\"psysml:b39abe46-5d2d-4cfa-9dad-b81cc0e9e161\" target=\"_top\" title=\"psysml:b39abe46-5d2d-4cfa-9dad-b81cc0e9e161\" xlink:actuate=\"onRequest\" xlink:href=\"psysml:b39abe46-5d2d-4cfa-9dad-b81cc0e9e161\" xlink:show=\"new\" xlink:title=\"psysml:b39abe46-5d2d-4cfa-9dad-b81cc0e9e161\" xlink:type=\"simple\"><rect fill=\"#FFFFFF\" height=\"45.9375\" id=\"E7\" rx=\"10\" ry=\"10\" style=\"stroke: #383838; stroke-width: 1.5;\" width=\"182\" x=\"839\" y=\"147\"/><text fill=\"#000000\" font-family=\"sans-serif\" font-size=\"12\" font-style=\"italic\" lengthAdjust=\"spacingAndGlyphs\" textLength=\"40\" x=\"910\" y=\"163.1387\">«part»</text><text fill=\"#000000\" font-family=\"sans-serif\" font-size=\"12\" lengthAdjust=\"spacingAndGlyphs\" textLength=\"172\" x=\"842\" y=\"177.1074\">bruglicht_onder: t_Bruglicht</text><line style=\"stroke: #383838; stroke-width: 1.5;\" x1=\"840\" x2=\"1020\" y1=\"184.9375\" y2=\"184.9375\"/></a><!--MD5=[b9389687b975829384b498ac4b7476b2]\n",
       "class E8--><a href=\"psysml:cd74e062-531c-4b2a-85ed-5baea3615fe0\" target=\"_top\" title=\"psysml:cd74e062-531c-4b2a-85ed-5baea3615fe0\" xlink:actuate=\"onRequest\" xlink:href=\"psysml:cd74e062-531c-4b2a-85ed-5baea3615fe0\" xlink:show=\"new\" xlink:title=\"psysml:cd74e062-531c-4b2a-85ed-5baea3615fe0\" xlink:type=\"simple\"><rect fill=\"#FFFFFF\" height=\"45.9375\" id=\"E8\" rx=\"10\" ry=\"10\" style=\"stroke: #383838; stroke-width: 1.5;\" width=\"183\" x=\"1056.5\" y=\"147\"/><text fill=\"#000000\" font-family=\"sans-serif\" font-size=\"12\" font-style=\"italic\" lengthAdjust=\"spacingAndGlyphs\" textLength=\"40\" x=\"1128\" y=\"163.1387\">«part»</text><text fill=\"#000000\" font-family=\"sans-serif\" font-size=\"12\" lengthAdjust=\"spacingAndGlyphs\" textLength=\"173\" x=\"1059.5\" y=\"177.1074\">bruglicht_boven: t_Bruglicht</text><line style=\"stroke: #383838; stroke-width: 1.5;\" x1=\"1057.5\" x2=\"1238.5\" y1=\"184.9375\" y2=\"184.9375\"/></a><!--MD5=[fd4143e9d270a159db93a4ea2a975926]\n",
       "class E9--><a href=\"psysml:feb7bf0c-cc00-4972-a150-d00430fe4852\" target=\"_top\" title=\"psysml:feb7bf0c-cc00-4972-a150-d00430fe4852\" xlink:actuate=\"onRequest\" xlink:href=\"psysml:feb7bf0c-cc00-4972-a150-d00430fe4852\" xlink:show=\"new\" xlink:title=\"psysml:feb7bf0c-cc00-4972-a150-d00430fe4852\" xlink:type=\"simple\"><rect fill=\"#FFFFFF\" height=\"45.9375\" id=\"E9\" rx=\"10\" ry=\"10\" style=\"stroke: #383838; stroke-width: 1.5;\" width=\"107\" x=\"1274.5\" y=\"147\"/><text fill=\"#000000\" font-family=\"sans-serif\" font-size=\"12\" font-style=\"italic\" lengthAdjust=\"spacingAndGlyphs\" textLength=\"40\" x=\"1308\" y=\"163.1387\">«part»</text><text fill=\"#000000\" font-family=\"sans-serif\" font-size=\"12\" lengthAdjust=\"spacingAndGlyphs\" textLength=\"97\" x=\"1277.5\" y=\"177.1074\">plc: t_Besturing</text><line style=\"stroke: #383838; stroke-width: 1.5;\" x1=\"1275.5\" x2=\"1380.5\" y1=\"184.9375\" y2=\"184.9375\"/></a><!--MD5=[96f4274e9e20536e775497830990834d]\n",
       "class E10--><a href=\"psysml:4e352003-7a4a-42f9-8310-9f44ad6c369b\" target=\"_top\" title=\"psysml:4e352003-7a4a-42f9-8310-9f44ad6c369b\" xlink:actuate=\"onRequest\" xlink:href=\"psysml:4e352003-7a4a-42f9-8310-9f44ad6c369b\" xlink:show=\"new\" xlink:title=\"psysml:4e352003-7a4a-42f9-8310-9f44ad6c369b\" xlink:type=\"simple\"><rect fill=\"#FFFFFF\" height=\"45.9375\" id=\"E10\" style=\"stroke: #383838; stroke-width: 1.5;\" width=\"70\" x=\"41\" y=\"253\"/><text fill=\"#000000\" font-family=\"sans-serif\" font-size=\"12\" font-style=\"italic\" lengthAdjust=\"spacingAndGlyphs\" textLength=\"68\" x=\"42\" y=\"269.1387\">«part  def»</text><text fill=\"#000000\" font-family=\"sans-serif\" font-size=\"12\" lengthAdjust=\"spacingAndGlyphs\" textLength=\"30\" x=\"61\" y=\"283.1074\">t_Val</text><line style=\"stroke: #383838; stroke-width: 1.5;\" x1=\"42\" x2=\"110\" y1=\"290.9375\" y2=\"290.9375\"/></a><!--MD5=[1dd1bfd58a279cf63c5f349dbc8fc6a1]\n",
       "class E11--><a href=\"psysml:e3349e64-b4f8-4441-93a9-cc2c9c00e28a\" target=\"_top\" title=\"psysml:e3349e64-b4f8-4441-93a9-cc2c9c00e28a\" xlink:actuate=\"onRequest\" xlink:href=\"psysml:e3349e64-b4f8-4441-93a9-cc2c9c00e28a\" xlink:show=\"new\" xlink:title=\"psysml:e3349e64-b4f8-4441-93a9-cc2c9c00e28a\" xlink:type=\"simple\"><rect fill=\"#FFFFFF\" height=\"45.9375\" id=\"E11\" style=\"stroke: #383838; stroke-width: 1.5;\" width=\"71\" x=\"197.5\" y=\"253\"/><text fill=\"#000000\" font-family=\"sans-serif\" font-size=\"12\" font-style=\"italic\" lengthAdjust=\"spacingAndGlyphs\" textLength=\"68\" x=\"199\" y=\"269.1387\">«part  def»</text><text fill=\"#000000\" font-family=\"sans-serif\" font-size=\"12\" lengthAdjust=\"spacingAndGlyphs\" textLength=\"65\" x=\"200.5\" y=\"283.1074\">t_Vaarweg</text><line style=\"stroke: #383838; stroke-width: 1.5;\" x1=\"198.5\" x2=\"267.5\" y1=\"290.9375\" y2=\"290.9375\"/></a><!--MD5=[49a0ec8f00dab7302a31f22d0f0fe584]\n",
       "class E12--><a href=\"psysml:6b03449b-8c8f-400e-868c-97abb84ad8da\" target=\"_top\" title=\"psysml:6b03449b-8c8f-400e-868c-97abb84ad8da\" xlink:actuate=\"onRequest\" xlink:href=\"psysml:6b03449b-8c8f-400e-868c-97abb84ad8da\" xlink:show=\"new\" xlink:title=\"psysml:6b03449b-8c8f-400e-868c-97abb84ad8da\" xlink:type=\"simple\"><rect fill=\"#FFFFFF\" height=\"45.9375\" id=\"E12\" style=\"stroke: #383838; stroke-width: 1.5;\" width=\"72\" x=\"1003\" y=\"253\"/><text fill=\"#000000\" font-family=\"sans-serif\" font-size=\"12\" font-style=\"italic\" lengthAdjust=\"spacingAndGlyphs\" textLength=\"68\" x=\"1005\" y=\"269.1387\">«part  def»</text><text fill=\"#000000\" font-family=\"sans-serif\" font-size=\"12\" lengthAdjust=\"spacingAndGlyphs\" textLength=\"66\" x=\"1006\" y=\"283.1074\">t_Bruglicht</text><line style=\"stroke: #383838; stroke-width: 1.5;\" x1=\"1004\" x2=\"1074\" y1=\"290.9375\" y2=\"290.9375\"/></a><!--MD5=[ee3c913d1a06f366521f9ef512b67efe]\n",
       "class E13--><a href=\"psysml:43afbb40-1a5f-49e7-baf6-7714875336f8\" target=\"_top\" title=\"psysml:43afbb40-1a5f-49e7-baf6-7714875336f8\" xlink:actuate=\"onRequest\" xlink:href=\"psysml:43afbb40-1a5f-49e7-baf6-7714875336f8\" xlink:show=\"new\" xlink:title=\"psysml:43afbb40-1a5f-49e7-baf6-7714875336f8\" xlink:type=\"simple\"><rect fill=\"#FFFFFF\" height=\"45.9375\" id=\"E13\" style=\"stroke: #383838; stroke-width: 1.5;\" width=\"122\" x=\"511\" y=\"253\"/><text fill=\"#000000\" font-family=\"sans-serif\" font-size=\"12\" font-style=\"italic\" lengthAdjust=\"spacingAndGlyphs\" textLength=\"68\" x=\"538\" y=\"269.1387\">«part  def»</text><text fill=\"#000000\" font-family=\"sans-serif\" font-size=\"12\" lengthAdjust=\"spacingAndGlyphs\" textLength=\"116\" x=\"514\" y=\"283.1074\">t_Scheepvaartsein</text><line style=\"stroke: #383838; stroke-width: 1.5;\" x1=\"512\" x2=\"632\" y1=\"290.9375\" y2=\"290.9375\"/></a><!--MD5=[bee11217b2f71d958a27249dc326068c]\n",
       "class E14--><a href=\"psysml:5a523c6f-3991-4711-a497-23167603d068\" target=\"_top\" title=\"psysml:5a523c6f-3991-4711-a497-23167603d068\" xlink:actuate=\"onRequest\" xlink:href=\"psysml:5a523c6f-3991-4711-a497-23167603d068\" xlink:show=\"new\" xlink:title=\"psysml:5a523c6f-3991-4711-a497-23167603d068\" xlink:type=\"simple\"><rect fill=\"#FFFFFF\" height=\"45.9375\" id=\"E14\" style=\"stroke: #383838; stroke-width: 1.5;\" width=\"77\" x=\"1289.5\" y=\"253\"/><text fill=\"#000000\" font-family=\"sans-serif\" font-size=\"12\" font-style=\"italic\" lengthAdjust=\"spacingAndGlyphs\" textLength=\"68\" x=\"1294\" y=\"269.1387\">«part  def»</text><text fill=\"#000000\" font-family=\"sans-serif\" font-size=\"12\" lengthAdjust=\"spacingAndGlyphs\" textLength=\"71\" x=\"1292.5\" y=\"283.1074\">t_Besturing</text><line style=\"stroke: #383838; stroke-width: 1.5;\" x1=\"1290.5\" x2=\"1365.5\" y1=\"290.9375\" y2=\"290.9375\"/></a><!--MD5=[209b3feb70ccb6233bfe1053d122c12c]\n",
       "reverse link E2 to E3--><a href=\"psysml:c8eafec6-1a4e-43e4-a5f2-a108943d8e29\" target=\"_top\" title=\"psysml:c8eafec6-1a4e-43e4-a5f2-a108943d8e29\" xlink:actuate=\"onRequest\" xlink:href=\"psysml:c8eafec6-1a4e-43e4-a5f2-a108943d8e29\" xlink:show=\"new\" xlink:title=\"psysml:c8eafec6-1a4e-43e4-a5f2-a108943d8e29\" xlink:type=\"simple\"><path d=\"M646.77,68.81 C549.28,77.23 322.29,100.47 137,147 C131.32,148.43 125.43,150.18 119.66,152.07 \" fill=\"none\" id=\"E2&lt;-E3\" style=\"stroke: #383838; stroke-width: 1.0;\"/><polygon fill=\"#FFFFFF\" points=\"659.92,67.7,653.6031,64.2219,647.963,68.7151,654.2799,72.1932,659.92,67.7\" style=\"stroke: #383838; stroke-width: 1.0;\"/><text fill=\"#000000\" font-family=\"sans-serif\" font-size=\"13\" lengthAdjust=\"spacingAndGlyphs\" textLength=\"8\" x=\"127.5537\" y=\"144.9412\">1</text></a><!--MD5=[9618e71518536f8baf3342ff6fdab317]\n",
       "reverse link E2 to E4--><a href=\"psysml:dcd2ede4-e3ad-4ab0-a66c-059f671bfb74\" target=\"_top\" title=\"psysml:dcd2ede4-e3ad-4ab0-a66c-059f671bfb74\" xlink:actuate=\"onRequest\" xlink:href=\"psysml:dcd2ede4-e3ad-4ab0-a66c-059f671bfb74\" xlink:show=\"new\" xlink:title=\"psysml:dcd2ede4-e3ad-4ab0-a66c-059f671bfb74\" xlink:type=\"simple\"><path d=\"M647.22,75.63 C577.33,91.19 443.1,121.14 329,147 C323.33,148.28 317.47,149.62 311.58,150.96 \" fill=\"none\" id=\"E2&lt;-E4\" style=\"stroke: #383838; stroke-width: 1.0;\"/><polygon fill=\"#FFFFFF\" points=\"659.91,72.8,653.1833,70.2016,648.1976,75.4115,654.9243,78.0099,659.91,72.8\" style=\"stroke: #383838; stroke-width: 1.0;\"/><text fill=\"#000000\" font-family=\"sans-serif\" font-size=\"13\" lengthAdjust=\"spacingAndGlyphs\" textLength=\"8\" x=\"319.4509\" y=\"145.5066\">1</text></a><!--MD5=[4e1a83fab71cdb913c109063314ae896]\n",
       "reverse link E2 to E5--><a href=\"psysml:ccbf56ed-5a56-4306-9701-3c17b774e10c\" target=\"_top\" title=\"psysml:ccbf56ed-5a56-4306-9701-3c17b774e10c\" xlink:actuate=\"onRequest\" xlink:href=\"psysml:ccbf56ed-5a56-4306-9701-3c17b774e10c\" xlink:show=\"new\" xlink:title=\"psysml:ccbf56ed-5a56-4306-9701-3c17b774e10c\" xlink:type=\"simple\"><path d=\"M647.68,85.01 C605.78,102.72 544.73,128.53 501.38,146.86 \" fill=\"none\" id=\"E2&lt;-E5\" style=\"stroke: #383838; stroke-width: 1.0;\"/><polygon fill=\"#FFFFFF\" points=\"659.75,79.9,652.6664,78.5501,648.6958,84.5697,655.7795,85.9195,659.75,79.9\" style=\"stroke: #383838; stroke-width: 1.0;\"/><text fill=\"#000000\" font-family=\"sans-serif\" font-size=\"13\" lengthAdjust=\"spacingAndGlyphs\" textLength=\"8\" x=\"505.7774\" y=\"136.1004\">1</text></a><!--MD5=[ce036f65110ae2351ccce5a81dc2e928]\n",
       "reverse link E2 to E6--><a href=\"psysml:cca27638-e637-438d-bf64-e95a426744d8\" target=\"_top\" title=\"psysml:cca27638-e637-438d-bf64-e95a426744d8\" xlink:actuate=\"onRequest\" xlink:href=\"psysml:cca27638-e637-438d-bf64-e95a426744d8\" xlink:show=\"new\" xlink:title=\"psysml:cca27638-e637-438d-bf64-e95a426744d8\" xlink:type=\"simple\"><path d=\"M695,100.44 C695,115.87 695,133.47 695,146.98 \" fill=\"none\" id=\"E2&lt;-E6\" style=\"stroke: #383838; stroke-width: 1.0;\"/><polygon fill=\"#FFFFFF\" points=\"695,87.06,691,93.06,695,99.06,699,93.06,695,87.06\" style=\"stroke: #383838; stroke-width: 1.0;\"/><text fill=\"#000000\" font-family=\"sans-serif\" font-size=\"13\" lengthAdjust=\"spacingAndGlyphs\" textLength=\"8\" x=\"685.925\" y=\"135.8709\">1</text></a><!--MD5=[1c72b32696d764168c30777981ec3f66]\n",
       "reverse link E2 to E7--><a href=\"psysml:807585cd-de63-47f1-b3ce-b85f105e3235\" target=\"_top\" title=\"psysml:807585cd-de63-47f1-b3ce-b85f105e3235\" xlink:actuate=\"onRequest\" xlink:href=\"psysml:807585cd-de63-47f1-b3ce-b85f105e3235\" xlink:show=\"new\" xlink:title=\"psysml:807585cd-de63-47f1-b3ce-b85f105e3235\" xlink:type=\"simple\"><path d=\"M742.27,85.92 C782.29,103.63 839.48,128.94 880.2,146.96 \" fill=\"none\" id=\"E2&lt;-E7\" style=\"stroke: #383838; stroke-width: 1.0;\"/><polygon fill=\"#FFFFFF\" points=\"730.18,80.57,734.0492,86.6552,741.1544,85.4241,737.2852,79.3389,730.18,80.57\" style=\"stroke: #383838; stroke-width: 1.0;\"/><text fill=\"#000000\" font-family=\"sans-serif\" font-size=\"13\" lengthAdjust=\"spacingAndGlyphs\" textLength=\"8\" x=\"857.7413\" y=\"135.8455\">1</text></a><!--MD5=[65f962d72b3a6bed1ede4f3c867e43a4]\n",
       "reverse link E2 to E8--><a href=\"psysml:26188243-551b-4e85-bf59-9971598acced\" target=\"_top\" title=\"psysml:26188243-551b-4e85-bf59-9971598acced\" xlink:actuate=\"onRequest\" xlink:href=\"psysml:26188243-551b-4e85-bf59-9971598acced\" xlink:show=\"new\" xlink:title=\"psysml:26188243-551b-4e85-bf59-9971598acced\" xlink:type=\"simple\"><path d=\"M743.22,76.07 C817.62,93.15 961.68,126.22 1056.33,147.96 \" fill=\"none\" id=\"E2&lt;-E8\" style=\"stroke: #383838; stroke-width: 1.0;\"/><polygon fill=\"#FFFFFF\" points=\"730.17,73.07,735.1208,78.3131,741.8647,75.7596,736.9139,70.5166,730.17,73.07\" style=\"stroke: #383838; stroke-width: 1.0;\"/><text fill=\"#000000\" font-family=\"sans-serif\" font-size=\"13\" lengthAdjust=\"spacingAndGlyphs\" textLength=\"8\" x=\"1040.4073\" y=\"142.5887\">1</text></a><!--MD5=[4a91eb351f2fb42055d99b719d3dd418]\n",
       "reverse link E2 to E9--><a href=\"psysml:4252ba9c-bbc9-40b4-9fca-5d6b30d592b0\" target=\"_top\" title=\"psysml:4252ba9c-bbc9-40b4-9fca-5d6b30d592b0\" xlink:actuate=\"onRequest\" xlink:href=\"psysml:4252ba9c-bbc9-40b4-9fca-5d6b30d592b0\" xlink:show=\"new\" xlink:title=\"psysml:4252ba9c-bbc9-40b4-9fca-5d6b30d592b0\" xlink:type=\"simple\"><path d=\"M743.41,69.5 C841.28,79.16 1069.36,104.51 1257,147 C1262.66,148.28 1268.53,149.79 1274.35,151.41 \" fill=\"none\" id=\"E2&lt;-E9\" style=\"stroke: #383838; stroke-width: 1.0;\"/><polygon fill=\"#FFFFFF\" points=\"730.2,68.21,735.7852,72.7713,742.1438,69.3701,736.5586,64.8088,730.2,68.21\" style=\"stroke: #383838; stroke-width: 1.0;\"/><text fill=\"#000000\" font-family=\"sans-serif\" font-size=\"13\" lengthAdjust=\"spacingAndGlyphs\" textLength=\"8\" x=\"1258.6033\" y=\"144.9842\">1</text></a><!--MD5=[b87cb8dd556d6bb6c85fb866cd2de30f]\n",
       "link E3 to E10--><a href=\"psysml:0c4fa121-3186-4bd3-a034-536403a3331a\" target=\"_top\" title=\"psysml:0c4fa121-3186-4bd3-a034-536403a3331a\" xlink:actuate=\"onRequest\" xlink:href=\"psysml:0c4fa121-3186-4bd3-a034-536403a3331a\" xlink:show=\"new\" xlink:title=\"psysml:0c4fa121-3186-4bd3-a034-536403a3331a\" xlink:type=\"simple\"><path d=\"M76,193.06 C76,204.64 76,219.23 76,232.87 \" fill=\"none\" id=\"E3-&gt;E10\" style=\"stroke: #383838; stroke-width: 1.0;\"/><polygon fill=\"#FFFFFF\" points=\"76,252.98,69,233.98,83,233.98,76,252.98\" style=\"stroke: #383838; stroke-width: 1.0;\"/><ellipse cx=\"71\" cy=\"228.28\" fill=\"#383838\" rx=\"2\" ry=\"2\" style=\"stroke: #383838; stroke-width: 1.0;\"/><ellipse cx=\"81\" cy=\"228.28\" fill=\"#383838\" rx=\"2\" ry=\"2\" style=\"stroke: #383838; stroke-width: 1.0;\"/></a><!--MD5=[798a9a606aea02eb479f69458bcab9ef]\n",
       "link E4 to E11--><a href=\"psysml:0e6fac1d-36ca-439d-a4ad-7cfaaeadaaab\" target=\"_top\" title=\"psysml:0e6fac1d-36ca-439d-a4ad-7cfaaeadaaab\" xlink:actuate=\"onRequest\" xlink:href=\"psysml:0e6fac1d-36ca-439d-a4ad-7cfaaeadaaab\" xlink:show=\"new\" xlink:title=\"psysml:0e6fac1d-36ca-439d-a4ad-7cfaaeadaaab\" xlink:type=\"simple\"><path d=\"M233,193.06 C233,204.64 233,219.23 233,232.87 \" fill=\"none\" id=\"E4-&gt;E11\" style=\"stroke: #383838; stroke-width: 1.0;\"/><polygon fill=\"#FFFFFF\" points=\"233,252.98,226,233.98,240,233.98,233,252.98\" style=\"stroke: #383838; stroke-width: 1.0;\"/><ellipse cx=\"228\" cy=\"228.28\" fill=\"#383838\" rx=\"2\" ry=\"2\" style=\"stroke: #383838; stroke-width: 1.0;\"/><ellipse cx=\"238\" cy=\"228.28\" fill=\"#383838\" rx=\"2\" ry=\"2\" style=\"stroke: #383838; stroke-width: 1.0;\"/></a><!--MD5=[5e8699dd255f7bc1216657a2fdc55236]\n",
       "link E5 to E13--><a href=\"psysml:a3aff1ad-f81c-4ab4-82e0-0df67c6421a0\" target=\"_top\" title=\"psysml:a3aff1ad-f81c-4ab4-82e0-0df67c6421a0\" xlink:actuate=\"onRequest\" xlink:href=\"psysml:a3aff1ad-f81c-4ab4-82e0-0df67c6421a0\" xlink:show=\"new\" xlink:title=\"psysml:a3aff1ad-f81c-4ab4-82e0-0df67c6421a0\" xlink:type=\"simple\"><path d=\"M475.09,193.06 C491.15,206.64 512.1,224.35 530.41,239.84 \" fill=\"none\" id=\"E5-&gt;E13\" style=\"stroke: #383838; stroke-width: 1.0;\"/><polygon fill=\"#FFFFFF\" points=\"545.95,252.98,526.922,246.0564,535.9621,235.3663,545.95,252.98\" style=\"stroke: #383838; stroke-width: 1.0;\"/><ellipse cx=\"523.8611\" cy=\"240.8486\" fill=\"#383838\" rx=\"2\" ry=\"2\" style=\"stroke: #383838; stroke-width: 1.0;\"/><ellipse cx=\"530.3183\" cy=\"233.2129\" fill=\"#383838\" rx=\"2\" ry=\"2\" style=\"stroke: #383838; stroke-width: 1.0;\"/></a><!--MD5=[969d053797815cb9cccc7dd806c6a536]\n",
       "link E6 to E13--><a href=\"psysml:eabe0439-1782-40b4-8764-ca1134a4bc28\" target=\"_top\" title=\"psysml:eabe0439-1782-40b4-8764-ca1134a4bc28\" xlink:actuate=\"onRequest\" xlink:href=\"psysml:eabe0439-1782-40b4-8764-ca1134a4bc28\" xlink:show=\"new\" xlink:title=\"psysml:eabe0439-1782-40b4-8764-ca1134a4bc28\" xlink:type=\"simple\"><path d=\"M668.91,193.06 C652.85,206.64 631.9,224.35 613.59,239.84 \" fill=\"none\" id=\"E6-&gt;E13\" style=\"stroke: #383838; stroke-width: 1.0;\"/><polygon fill=\"#FFFFFF\" points=\"598.05,252.98,608.0379,235.3663,617.078,246.0564,598.05,252.98\" style=\"stroke: #383838; stroke-width: 1.0;\"/><ellipse cx=\"613.6817\" cy=\"233.2129\" fill=\"#383838\" rx=\"2\" ry=\"2\" style=\"stroke: #383838; stroke-width: 1.0;\"/><ellipse cx=\"620.1389\" cy=\"240.8486\" fill=\"#383838\" rx=\"2\" ry=\"2\" style=\"stroke: #383838; stroke-width: 1.0;\"/></a><!--MD5=[3ba7f84426a351b0878cd67bc7985a78]\n",
       "link E7 to E12--><a href=\"psysml:deb05ad7-818f-4ec9-bdbe-26541dca86c5\" target=\"_top\" title=\"psysml:deb05ad7-818f-4ec9-bdbe-26541dca86c5\" xlink:actuate=\"onRequest\" xlink:href=\"psysml:deb05ad7-818f-4ec9-bdbe-26541dca86c5\" xlink:show=\"new\" xlink:title=\"psysml:deb05ad7-818f-4ec9-bdbe-26541dca86c5\" xlink:type=\"simple\"><path d=\"M953.12,193.06 C967.13,206.43 985.35,223.81 1001.4,239.13 \" fill=\"none\" id=\"E7-&gt;E12\" style=\"stroke: #383838; stroke-width: 1.0;\"/><polygon fill=\"#FFFFFF\" points=\"1015.92,252.98,997.3471,244.9149,1007.019,234.7929,1015.92,252.98\" style=\"stroke: #383838; stroke-width: 1.0;\"/><ellipse cx=\"994.6077\" cy=\"239.531\" fill=\"#383838\" rx=\"2\" ry=\"2\" style=\"stroke: #383838; stroke-width: 1.0;\"/><ellipse cx=\"1001.5162\" cy=\"232.301\" fill=\"#383838\" rx=\"2\" ry=\"2\" style=\"stroke: #383838; stroke-width: 1.0;\"/></a><!--MD5=[79c20e47ca7a9634b8a878f2f41c203f]\n",
       "link E8 to E12--><a href=\"psysml:02e79ba0-e240-4e58-b328-b5ed3b5a36ad\" target=\"_top\" title=\"psysml:02e79ba0-e240-4e58-b328-b5ed3b5a36ad\" xlink:actuate=\"onRequest\" xlink:href=\"psysml:02e79ba0-e240-4e58-b328-b5ed3b5a36ad\" xlink:show=\"new\" xlink:title=\"psysml:02e79ba0-e240-4e58-b328-b5ed3b5a36ad\" xlink:type=\"simple\"><path d=\"M1124.88,193.06 C1110.87,206.43 1092.65,223.81 1076.6,239.13 \" fill=\"none\" id=\"E8-&gt;E12\" style=\"stroke: #383838; stroke-width: 1.0;\"/><polygon fill=\"#FFFFFF\" points=\"1062.08,252.98,1070.981,234.7929,1080.6529,244.9149,1062.08,252.98\" style=\"stroke: #383838; stroke-width: 1.0;\"/><ellipse cx=\"1076.4838\" cy=\"232.301\" fill=\"#383838\" rx=\"2\" ry=\"2\" style=\"stroke: #383838; stroke-width: 1.0;\"/><ellipse cx=\"1083.3923\" cy=\"239.531\" fill=\"#383838\" rx=\"2\" ry=\"2\" style=\"stroke: #383838; stroke-width: 1.0;\"/></a><!--MD5=[a1b670ebc151d08c00312062bddfc35e]\n",
       "link E9 to E14--><a href=\"psysml:0f92bb5a-87ad-4e68-a2d9-67b8eb4ef25e\" target=\"_top\" title=\"psysml:0f92bb5a-87ad-4e68-a2d9-67b8eb4ef25e\" xlink:actuate=\"onRequest\" xlink:href=\"psysml:0f92bb5a-87ad-4e68-a2d9-67b8eb4ef25e\" xlink:show=\"new\" xlink:title=\"psysml:0f92bb5a-87ad-4e68-a2d9-67b8eb4ef25e\" xlink:type=\"simple\"><path d=\"M1328,193.06 C1328,204.64 1328,219.23 1328,232.87 \" fill=\"none\" id=\"E9-&gt;E14\" style=\"stroke: #383838; stroke-width: 1.0;\"/><polygon fill=\"#FFFFFF\" points=\"1328,252.98,1321,233.98,1335,233.98,1328,252.98\" style=\"stroke: #383838; stroke-width: 1.0;\"/><ellipse cx=\"1323\" cy=\"228.28\" fill=\"#383838\" rx=\"2\" ry=\"2\" style=\"stroke: #383838; stroke-width: 1.0;\"/><ellipse cx=\"1333\" cy=\"228.28\" fill=\"#383838\" rx=\"2\" ry=\"2\" style=\"stroke: #383838; stroke-width: 1.0;\"/></a><!--MD5=[0c5a5979424ffcdaa7adbcf30053cb64]\n",
       "@startuml\r\n",
       "skinparam monochrome true\r\n",
       "skinparam classbackgroundcolor white\r\n",
       "skinparam shadowing false\r\n",
       "skinparam wrapWidth 300\r\n",
       "hide circle\r\n",
       "\r\n",
       "package \"Missiesystemen\" as E1  [[psysml:c6d002c6-f034-47d3-b8f5-563dc18e6c0e ]]  {\r\n",
       "comp def \"t_brug\" as E2  <<(T,blue) part  def>> [[psysml:3a4d09e5-301e-40e8-8127-e33a266bbbdc ]] {\r\n",
       "}\r\n",
       "comp usage \"de_val: t_Val \" as E3  <<(T,blue) part>> [[psysml:5e68e5ed-3839-42c5-9d14-ad1e85760ab2 ]] {\r\n",
       "}\r\n",
       "comp usage \"de_vaarweg: t_Vaarweg \" as E4  <<(T,blue) part>> [[psysml:99610459-4371-4317-bb88-ab388aea9d58 ]] {\r\n",
       "}\r\n",
       "comp usage \"t_sein_links: t_Scheepvaartsein \" as E5  <<(T,blue) part>> [[psysml:87b06ffc-1ddb-4d0d-91e4-8df74068b734 ]] {\r\n",
       "}\r\n",
       "comp usage \"t_sein_rechts: t_Scheepvaartsein \" as E6  <<(T,blue) part>> [[psysml:81b43188-fa5e-4f0b-aca5-f4c85b22e301 ]] {\r\n",
       "}\r\n",
       "comp usage \"bruglicht_onder: t_Bruglicht \" as E7  <<(T,blue) part>> [[psysml:b39abe46-5d2d-4cfa-9dad-b81cc0e9e161 ]] {\r\n",
       "}\r\n",
       "comp usage \"bruglicht_boven: t_Bruglicht \" as E8  <<(T,blue) part>> [[psysml:cd74e062-531c-4b2a-85ed-5baea3615fe0 ]] {\r\n",
       "}\r\n",
       "comp usage \"plc: t_Besturing \" as E9  <<(T,blue) part>> [[psysml:feb7bf0c-cc00-4972-a150-d00430fe4852 ]] {\r\n",
       "}\r\n",
       "comp def \"t_Val\" as E10  <<(T,blue) part  def>> [[psysml:4e352003-7a4a-42f9-8310-9f44ad6c369b ]] {\r\n",
       "}\r\n",
       "comp def \"t_Vaarweg\" as E11  <<(T,blue) part  def>> [[psysml:e3349e64-b4f8-4441-93a9-cc2c9c00e28a ]] {\r\n",
       "}\r\n",
       "comp def \"t_Bruglicht\" as E12  <<(T,blue) part  def>> [[psysml:6b03449b-8c8f-400e-868c-97abb84ad8da ]] {\r\n",
       "}\r\n",
       "comp def \"t_Scheepvaartsein\" as E13  <<(T,blue) part  def>> [[psysml:43afbb40-1a5f-49e7-baf6-7714875336f8 ]] {\r\n",
       "}\r\n",
       "comp def \"t_Besturing\" as E14  <<(T,blue) part  def>> [[psysml:5a523c6f-3991-4711-a497-23167603d068 ]] {\r\n",
       "}\r\n",
       "}\r\n",
       "E2 o- - \"1\"E3 [[psysml:c8eafec6-1a4e-43e4-a5f2-a108943d8e29 ]] \r\n",
       "E2 o- - \"1\"E4 [[psysml:dcd2ede4-e3ad-4ab0-a66c-059f671bfb74 ]] \r\n",
       "E2 o- - \"1\"E5 [[psysml:ccbf56ed-5a56-4306-9701-3c17b774e10c ]] \r\n",
       "E2 o- - \"1\"E6 [[psysml:cca27638-e637-438d-bf64-e95a426744d8 ]] \r\n",
       "E2 o- - \"1\"E7 [[psysml:807585cd-de63-47f1-b3ce-b85f105e3235 ]] \r\n",
       "E2 o- - \"1\"E8 [[psysml:26188243-551b-4e85-bf59-9971598acced ]] \r\n",
       "E2 o- - \"1\"E9 [[psysml:4252ba9c-bbc9-40b4-9fca-5d6b30d592b0 ]] \r\n",
       "E3 - -:|> E10 [[psysml:0c4fa121-3186-4bd3-a034-536403a3331a ]] \r\n",
       "E4 - -:|> E11 [[psysml:0e6fac1d-36ca-439d-a4ad-7cfaaeadaaab ]] \r\n",
       "E5 - -:|> E13 [[psysml:a3aff1ad-f81c-4ab4-82e0-0df67c6421a0 ]] \r\n",
       "E6 - -:|> E13 [[psysml:eabe0439-1782-40b4-8764-ca1134a4bc28 ]] \r\n",
       "E7 - -:|> E12 [[psysml:deb05ad7-818f-4ec9-bdbe-26541dca86c5 ]] \r\n",
       "E8 - -:|> E12 [[psysml:02e79ba0-e240-4e58-b328-b5ed3b5a36ad ]] \r\n",
       "E9 - -:|> E14 [[psysml:0f92bb5a-87ad-4e68-a2d9-67b8eb4ef25e ]] \r\n",
       "@enduml\r\n",
       "\n",
       "PlantUML version 1.2020.13(Sat Jun 13 05:26:38 PDT 2020)\n",
       "(EPL source distribution)\n",
       "Java Runtime: OpenJDK Runtime Environment\n",
       "JVM: OpenJDK 64-Bit Server VM\n",
       "Default Encoding: UTF-8\n",
       "Language: en\n",
       "Country: US\n",
       "--></g></svg>"
      ]
     },
     "execution_count": 22,
     "metadata": {},
     "output_type": "execute_result"
    }
   ],
   "source": [
    "%viz Missiesystemen"
   ]
  },
  {
   "cell_type": "code",
   "execution_count": null,
   "id": "8192c9b7",
   "metadata": {},
   "outputs": [],
   "source": []
  }
 ],
 "metadata": {
  "kernelspec": {
   "display_name": "SysML",
   "language": "sysml",
   "name": "sysml"
  },
  "language_info": {
   "codemirror_mode": "sysml",
   "file_extension": ".sysml",
   "mimetype": "text/x-sysml",
   "name": "SysML",
   "pygments_lexer": "java",
   "version": "1.0.0"
  }
 },
 "nbformat": 4,
 "nbformat_minor": 5
}
