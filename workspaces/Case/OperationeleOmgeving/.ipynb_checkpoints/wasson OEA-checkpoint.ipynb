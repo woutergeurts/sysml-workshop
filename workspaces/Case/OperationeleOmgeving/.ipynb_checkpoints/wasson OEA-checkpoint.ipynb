{
 "cells": [
  {
   "cell_type": "markdown",
   "id": "3a7aef83",
   "metadata": {},
   "source": [
    "# Wasson's Operating Environment Architecture\n",
    "\n",
    "Eric Burgers (Semapro), Rene Krouwel (CGI), Wouter Geurts (CGI)\n",
    "0.0.1-rc1\n",
    "\n",
    "## Starten met systeemdefinitie\n",
    "In het algemeen zal, voordat een systeem wordt uitgewerkt, de **omgeving** van een systeem in kaart worden gebracht. Een correcte identificatie van de omgeving heeft de volgende voordelen:\n",
    "\n",
    "- De systeemgrenzen zijn correct vastgesteld, en daardoor is ook bekend wat **wel** en **niet** tot het systeem behoort;\n",
    "- De **externe** raakvlakken zin identificeerbaar doordat de systeemgrenzen bekend zijn;\n",
    "- Door expliciet te werken met de systeemgrenzen kan ook precies bepaald worden **welk** probleem een systeem moet oplossen.\n",
    "\n",
    "Vaak worden de systeemgrenzen geidentificeerd in een z.g. contextdiagram. Een context diagram kan *formeel* of *informeel* worden opgeschreven. Een voorbeeld van een informeel contextdiagram komt uit de Landelijke Tunnelstandaard:\n",
    "\n",
    "![infomele context](rws-tunnel-context.png)\n",
    "\n",
    "Alhoewel een informeel contextdiagram helpt bij de afbakening van een systeem, blijven veel vragen over:\n",
    "\n",
    "- Wat zijn de externe raakvlakken, *precies*, van het systeem dat ontwikkeld moet worden?\n",
    "- Maken we 1 systeem of een *system of systems*?\n",
    "- Hoe gaan we om met tijdelijke- of hulpsystemen?\n",
    "- Hoe gaan we om met belanghebbenden (*stakeholders*) en hun voorwaarden voor de toepassing van het systeem?\n",
    "- Wat is de relatie tussen het systeem en bijvoorbeeld de bedrijfsprocessen (operationele procedures, onderhoud, etc.)\n",
    "- Hoe gaan we om met standaarden waaraan het systeem moet voldoen\n",
    "- Zijn er behalve contextsystemen (denk aan nutsvoorzieningen, weginfrastructuur, etc.) ook nog andere factoren waar rekening mee gehouden moet worden (bijvoorbeeld omgevingscondities)?\n",
    "\n",
    "\n",
    "\n"
   ]
  }
 ],
 "metadata": {
  "kernelspec": {
   "display_name": "SysML",
   "language": "sysml",
   "name": "sysml"
  },
  "language_info": {
   "codemirror_mode": "sysml",
   "file_extension": ".sysml",
   "mimetype": "text/x-sysml",
   "name": "SysML",
   "pygments_lexer": "java",
   "version": "1.0.0"
  }
 },
 "nbformat": 4,
 "nbformat_minor": 5
}
