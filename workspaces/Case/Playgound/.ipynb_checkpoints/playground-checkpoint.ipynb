{
 "cells": [
  {
   "cell_type": "markdown",
   "id": "86a6b450",
   "metadata": {},
   "source": [
    "## Packages, Blocks en Part Properties: part def  & part\n",
    "Ieder modelelement dient in een package te zitten. Een 'vrij' modelelement kan niet. De package is de container voor een verzameling modelelementen.\n",
    "\n",
    "Gegeven het volgende SysML 1.x block definition diagram. Dit block definition diagram is eigendom ('owned by') de package *Verzameling Modelelementen*. Dit geldt ook voor de modelelementen getoond op de diagram. \n",
    "\n",
    "![bdd](blockdefinitiondgm.png \"SysML 1.x\")\n",
    "\n",
    "Vertaald naar SysML v2:\n"
   ]
  },
  {
   "cell_type": "code",
   "execution_count": 7,
   "id": "5181f73d",
   "metadata": {},
   "outputs": [
    {
     "data": {
      "text/plain": [
       "Package Verzameling_Modelelementen (f02d576e-2ced-443d-b569-ffd845d8ba5a)\n"
      ]
     },
     "execution_count": 7,
     "metadata": {},
     "output_type": "execute_result"
    }
   ],
   "source": [
    "package Verzameling_Modelelementen {\n",
    "    \n",
    "    // in de 'talige' SysML hebben definities en declaraties geen stricte volgorde\n",
    "    \n",
    "    part def ElementType1 { \n",
    "    }\n",
    "\n",
    "    part def ElementType2 {\n",
    "    }\n",
    "    \n",
    "    // hier wordt de associatie uit SysML 1.x gedefinieerd\n",
    "    // connection definition\n",
    "    connection def raakvlak {\n",
    "        end: ElementType1[0..1];\n",
    "        end: ElementType2[1..*];\n",
    "        \n",
    "        item conn_type;\n",
    "    }\n",
    "    \n",
    "    \n",
    "    part def ElementType0 { \n",
    "        // dit is de assembly van instance1 + instance2\n",
    "        part instance1: ElementType1;\n",
    "        part instance2: ElementType2;\n",
    "        \n",
    "        // Dit is de instantiatie van de de associatie: de connection\n",
    "        // Deze relatie kun je alleen in een ibd gebruiken om part properties aan elkaar\n",
    "        // te knopen. Nu tonen we het in hetzelfde diagram.\n",
    "        connection: raakvlak connect instance1 to instance2;\n",
    "    }\n",
    "}"
   ]
  },
  {
   "cell_type": "code",
   "execution_count": 8,
   "id": "8052e1b5",
   "metadata": {},
   "outputs": [
    {
     "data": {
      "image/svg+xml": [
       "<?xml version=\"1.0\" encoding=\"UTF-8\" standalone=\"no\"?><svg xmlns=\"http://www.w3.org/2000/svg\" xmlns:xlink=\"http://www.w3.org/1999/xlink\" contentScriptType=\"application/ecmascript\" contentStyleType=\"text/css\" height=\"433px\" preserveAspectRatio=\"none\" style=\"width:513px;height:433px;\" version=\"1.1\" viewBox=\"0 0 513 433\" width=\"513px\" zoomAndPan=\"magnify\"><defs/><g><!--MD5=[fbc87193dbaf4d95561dea2c320d4a47]\n",
       "cluster E1--><a href=\"psysml:f02d576e-2ced-443d-b569-ffd845d8ba5a\" target=\"_top\" title=\"psysml:f02d576e-2ced-443d-b569-ffd845d8ba5a\" xlink:actuate=\"onRequest\" xlink:href=\"psysml:f02d576e-2ced-443d-b569-ffd845d8ba5a\" xlink:show=\"new\" xlink:title=\"psysml:f02d576e-2ced-443d-b569-ffd845d8ba5a\" xlink:type=\"simple\"><polygon fill=\"#FFFFFF\" points=\"16,6,258,6,265,28.2969,491,28.2969,491,421,16,421,16,6\" style=\"stroke: #000000; stroke-width: 1.5;\"/><line style=\"stroke: #000000; stroke-width: 1.5;\" x1=\"16\" x2=\"265\" y1=\"28.2969\" y2=\"28.2969\"/><text fill=\"#000000\" font-family=\"sans-serif\" font-size=\"14\" font-weight=\"bold\" lengthAdjust=\"spacingAndGlyphs\" textLength=\"236\" x=\"20\" y=\"20.9951\">Verzameling_Modelelementen</text></a><!--MD5=[b4997ac47864f28c2f74865a473b2911]\n",
       "class E2--><a href=\"psysml:4a994121-5adf-461d-8d91-8a3d5efc6ba8\" target=\"_top\" title=\"psysml:4a994121-5adf-461d-8d91-8a3d5efc6ba8\" xlink:actuate=\"onRequest\" xlink:href=\"psysml:4a994121-5adf-461d-8d91-8a3d5efc6ba8\" xlink:show=\"new\" xlink:title=\"psysml:4a994121-5adf-461d-8d91-8a3d5efc6ba8\" xlink:type=\"simple\"><rect fill=\"#FFFFFF\" height=\"45.9375\" id=\"E2\" style=\"stroke: #383838; stroke-width: 1.5;\" width=\"94\" x=\"235\" y=\"253\"/><text fill=\"#000000\" font-family=\"sans-serif\" font-size=\"12\" font-style=\"italic\" lengthAdjust=\"spacingAndGlyphs\" textLength=\"68\" x=\"248\" y=\"269.1387\">«part  def»</text><text fill=\"#000000\" font-family=\"sans-serif\" font-size=\"12\" lengthAdjust=\"spacingAndGlyphs\" textLength=\"88\" x=\"238\" y=\"283.1074\">ElementType1</text><line style=\"stroke: #383838; stroke-width: 1.5;\" x1=\"236\" x2=\"328\" y1=\"290.9375\" y2=\"290.9375\"/></a><!--MD5=[09b614a08d8cba4a07c9adeb5e0fee81]\n",
       "class E3--><a href=\"psysml:392ef103-c594-4ae7-8a81-85d916e47dd8\" target=\"_top\" title=\"psysml:392ef103-c594-4ae7-8a81-85d916e47dd8\" xlink:actuate=\"onRequest\" xlink:href=\"psysml:392ef103-c594-4ae7-8a81-85d916e47dd8\" xlink:show=\"new\" xlink:title=\"psysml:392ef103-c594-4ae7-8a81-85d916e47dd8\" xlink:type=\"simple\"><rect fill=\"#FFFFFF\" height=\"45.9375\" id=\"E3\" style=\"stroke: #383838; stroke-width: 1.5;\" width=\"94\" x=\"193\" y=\"359\"/><text fill=\"#000000\" font-family=\"sans-serif\" font-size=\"12\" font-style=\"italic\" lengthAdjust=\"spacingAndGlyphs\" textLength=\"68\" x=\"206\" y=\"375.1387\">«part  def»</text><text fill=\"#000000\" font-family=\"sans-serif\" font-size=\"12\" lengthAdjust=\"spacingAndGlyphs\" textLength=\"88\" x=\"196\" y=\"389.1074\">ElementType2</text><line style=\"stroke: #383838; stroke-width: 1.5;\" x1=\"194\" x2=\"286\" y1=\"396.9375\" y2=\"396.9375\"/></a><!--MD5=[ebbe1d658d1005bcc118a6aa81145e00]\n",
       "class E4--><a href=\"psysml:198b02d2-c2fa-4ce9-8d70-4f36535d972d\" target=\"_top\" title=\"psysml:198b02d2-c2fa-4ce9-8d70-4f36535d972d\" xlink:actuate=\"onRequest\" xlink:href=\"psysml:198b02d2-c2fa-4ce9-8d70-4f36535d972d\" xlink:show=\"new\" xlink:title=\"psysml:198b02d2-c2fa-4ce9-8d70-4f36535d972d\" xlink:type=\"simple\"><rect fill=\"#FFFFFF\" height=\"45.9375\" id=\"E4\" style=\"stroke: #383838; stroke-width: 1.5;\" width=\"114\" x=\"331\" y=\"147\"/><text fill=\"#000000\" font-family=\"sans-serif\" font-size=\"12\" font-style=\"italic\" lengthAdjust=\"spacingAndGlyphs\" textLength=\"112\" x=\"332\" y=\"163.1387\">«connection  def»</text><text fill=\"#000000\" font-family=\"sans-serif\" font-size=\"12\" lengthAdjust=\"spacingAndGlyphs\" textLength=\"52\" x=\"362\" y=\"177.1074\">raakvlak</text><line style=\"stroke: #383838; stroke-width: 1.5;\" x1=\"332\" x2=\"444\" y1=\"184.9375\" y2=\"184.9375\"/></a><!--MD5=[270fce915f116d4de14055a7c1d9a0f3]\n",
       "class E5--><a href=\"psysml:9a8664bb-2f3e-47e7-8412-43bd30e67e6a\" target=\"_top\" title=\"psysml:9a8664bb-2f3e-47e7-8412-43bd30e67e6a\" xlink:actuate=\"onRequest\" xlink:href=\"psysml:9a8664bb-2f3e-47e7-8412-43bd30e67e6a\" xlink:show=\"new\" xlink:title=\"psysml:9a8664bb-2f3e-47e7-8412-43bd30e67e6a\" xlink:type=\"simple\"><rect fill=\"#FFFFFF\" height=\"45.9375\" id=\"E5\" rx=\"10\" ry=\"10\" style=\"stroke: #383838; stroke-width: 1.5;\" width=\"74\" x=\"401\" y=\"253\"/><text fill=\"#000000\" font-family=\"sans-serif\" font-size=\"12\" font-style=\"italic\" lengthAdjust=\"spacingAndGlyphs\" textLength=\"41\" x=\"417.5\" y=\"269.1387\">«item»</text><text fill=\"#000000\" font-family=\"sans-serif\" font-size=\"12\" lengthAdjust=\"spacingAndGlyphs\" textLength=\"64\" x=\"404\" y=\"283.1074\">conn_type</text><line style=\"stroke: #383838; stroke-width: 1.5;\" x1=\"402\" x2=\"474\" y1=\"290.9375\" y2=\"290.9375\"/></a><!--MD5=[60a26617385b1d2d0262a64233df1f8d]\n",
       "class E6--><a href=\"psysml:20a05d9b-3504-4510-bc04-db0f0fd61727\" target=\"_top\" title=\"psysml:20a05d9b-3504-4510-bc04-db0f0fd61727\" xlink:actuate=\"onRequest\" xlink:href=\"psysml:20a05d9b-3504-4510-bc04-db0f0fd61727\" xlink:show=\"new\" xlink:title=\"psysml:20a05d9b-3504-4510-bc04-db0f0fd61727\" xlink:type=\"simple\"><rect fill=\"#FFFFFF\" height=\"45.9375\" id=\"E6\" style=\"stroke: #383838; stroke-width: 1.5;\" width=\"94\" x=\"87\" y=\"41\"/><text fill=\"#000000\" font-family=\"sans-serif\" font-size=\"12\" font-style=\"italic\" lengthAdjust=\"spacingAndGlyphs\" textLength=\"68\" x=\"100\" y=\"57.1387\">«part  def»</text><text fill=\"#000000\" font-family=\"sans-serif\" font-size=\"12\" lengthAdjust=\"spacingAndGlyphs\" textLength=\"88\" x=\"90\" y=\"71.1074\">ElementType0</text><line style=\"stroke: #383838; stroke-width: 1.5;\" x1=\"88\" x2=\"180\" y1=\"78.9375\" y2=\"78.9375\"/></a><!--MD5=[2156ba9850f5573cc1fc38a6a4b2f02b]\n",
       "class E7--><a href=\"psysml:55b838c9-9a28-4ef4-99c9-16467ea6dd44\" target=\"_top\" title=\"psysml:55b838c9-9a28-4ef4-99c9-16467ea6dd44\" xlink:actuate=\"onRequest\" xlink:href=\"psysml:55b838c9-9a28-4ef4-99c9-16467ea6dd44\" xlink:show=\"new\" xlink:title=\"psysml:55b838c9-9a28-4ef4-99c9-16467ea6dd44\" xlink:type=\"simple\"><rect fill=\"#FFFFFF\" height=\"45.9375\" id=\"E7\" rx=\"10\" ry=\"10\" style=\"stroke: #383838; stroke-width: 1.5;\" width=\"168\" x=\"128\" y=\"147\"/><text fill=\"#000000\" font-family=\"sans-serif\" font-size=\"12\" font-style=\"italic\" lengthAdjust=\"spacingAndGlyphs\" textLength=\"40\" x=\"192\" y=\"163.1387\">«part»</text><text fill=\"#000000\" font-family=\"sans-serif\" font-size=\"12\" lengthAdjust=\"spacingAndGlyphs\" textLength=\"158\" x=\"131\" y=\"177.1074\">instance1: ElementType1</text><line style=\"stroke: #383838; stroke-width: 1.5;\" x1=\"129\" x2=\"295\" y1=\"184.9375\" y2=\"184.9375\"/></a><!--MD5=[b9389687b975829384b498ac4b7476b2]\n",
       "class E8--><a href=\"psysml:18c9e8a5-a10a-4f89-b143-2fa19de50a40\" target=\"_top\" title=\"psysml:18c9e8a5-a10a-4f89-b143-2fa19de50a40\" xlink:actuate=\"onRequest\" xlink:href=\"psysml:18c9e8a5-a10a-4f89-b143-2fa19de50a40\" xlink:show=\"new\" xlink:title=\"psysml:18c9e8a5-a10a-4f89-b143-2fa19de50a40\" xlink:type=\"simple\"><rect fill=\"#FFFFFF\" height=\"45.9375\" id=\"E8\" rx=\"10\" ry=\"10\" style=\"stroke: #383838; stroke-width: 1.5;\" width=\"168\" x=\"32\" y=\"253\"/><text fill=\"#000000\" font-family=\"sans-serif\" font-size=\"12\" font-style=\"italic\" lengthAdjust=\"spacingAndGlyphs\" textLength=\"40\" x=\"96\" y=\"269.1387\">«part»</text><text fill=\"#000000\" font-family=\"sans-serif\" font-size=\"12\" lengthAdjust=\"spacingAndGlyphs\" textLength=\"158\" x=\"35\" y=\"283.1074\">instance2: ElementType2</text><line style=\"stroke: #383838; stroke-width: 1.5;\" x1=\"33\" x2=\"199\" y1=\"290.9375\" y2=\"290.9375\"/></a><!--MD5=[ddeed8deb2209213b62e6cfabaa108b2]\n",
       "reverse link E4 to E2--><a href=\"psysml:e9652821-1540-47cc-a70c-4d9dd8a7149b\" target=\"_top\" title=\"psysml:e9652821-1540-47cc-a70c-4d9dd8a7149b\" xlink:actuate=\"onRequest\" xlink:href=\"psysml:e9652821-1540-47cc-a70c-4d9dd8a7149b\" xlink:show=\"new\" xlink:title=\"psysml:e9652821-1540-47cc-a70c-4d9dd8a7149b\" xlink:type=\"simple\"><path d=\"M356.15,202.24 C339.49,218.6 319.48,238.23 304.45,252.98 \" fill=\"none\" id=\"E4&lt;-E2\" style=\"stroke: #383838; stroke-width: 1.0;\"/><polygon fill=\"#FFFFFF\" points=\"365.52,193.06,358.4361,194.4083,356.956,201.4659,364.04,200.1176,365.52,193.06\" style=\"stroke: #383838; stroke-width: 1.0;\"/><text fill=\"#000000\" font-family=\"sans-serif\" font-size=\"13\" lengthAdjust=\"spacingAndGlyphs\" textLength=\"24\" x=\"283.2584\" y=\"241.8709\">0..1</text></a><!--MD5=[4735aefadfa2e5978451eb08fa1f3993]\n",
       "reverse link E4 to E3--><a href=\"psysml:afebad35-f860-4c11-8aca-0bd3082a1f12\" target=\"_top\" title=\"psysml:afebad35-f860-4c11-8aca-0bd3082a1f12\" xlink:actuate=\"onRequest\" xlink:href=\"psysml:afebad35-f860-4c11-8aca-0bd3082a1f12\" xlink:show=\"new\" xlink:title=\"psysml:afebad35-f860-4c11-8aca-0bd3082a1f12\" xlink:type=\"simple\"><path d=\"M382.69,206 C377.23,233.28 366.65,271.09 347,299 C329.55,323.78 302.38,344.47 279.78,358.87 \" fill=\"none\" id=\"E4&lt;-E3\" style=\"stroke: #383838; stroke-width: 1.0;\"/><polygon fill=\"#FFFFFF\" points=\"385.04,193.17,380.0241,198.3508,382.8771,204.9735,387.8931,199.7927,385.04,193.17\" style=\"stroke: #383838; stroke-width: 1.0;\"/><text fill=\"#000000\" font-family=\"sans-serif\" font-size=\"13\" lengthAdjust=\"spacingAndGlyphs\" textLength=\"23\" x=\"264.0268\" y=\"348.113\">1..*</text></a><!--MD5=[62aa6af11e70f752912c1cb0466f24f7]\n",
       "reverse link E4 to E5--><a href=\"psysml:d9ecad1e-f080-4267-b5a0-c0561b946497\" target=\"_top\" title=\"psysml:d9ecad1e-f080-4267-b5a0-c0561b946497\" xlink:actuate=\"onRequest\" xlink:href=\"psysml:d9ecad1e-f080-4267-b5a0-c0561b946497\" xlink:show=\"new\" xlink:title=\"psysml:d9ecad1e-f080-4267-b5a0-c0561b946497\" xlink:type=\"simple\"><path d=\"M404.36,205.03 C411.94,220.78 420.72,239.06 427.41,252.98 \" fill=\"none\" id=\"E4&lt;-E5\" style=\"stroke: #383838; stroke-width: 1.0;\"/><polygon fill=\"#FFFFFF\" points=\"398.6,193.06,397.5931,200.2005,403.7971,203.8762,404.8039,196.7358,398.6,193.06\" style=\"stroke: #383838; stroke-width: 1.0;\"/><text fill=\"#000000\" font-family=\"sans-serif\" font-size=\"13\" lengthAdjust=\"spacingAndGlyphs\" textLength=\"8\" x=\"415.4889\" y=\"241.8709\">1</text></a><!--MD5=[3f50a3473f1dfb74d3f76443e03635af]\n",
       "reverse link E6 to E7--><a href=\"psysml:243ba452-3f31-432e-94f1-3e8f04e3bffa\" target=\"_top\" title=\"psysml:243ba452-3f31-432e-94f1-3e8f04e3bffa\" xlink:actuate=\"onRequest\" xlink:href=\"psysml:243ba452-3f31-432e-94f1-3e8f04e3bffa\" xlink:show=\"new\" xlink:title=\"psysml:243ba452-3f31-432e-94f1-3e8f04e3bffa\" xlink:type=\"simple\"><path d=\"M158.47,97.63 C170.52,113.7 184.73,132.64 195.48,146.98 \" fill=\"none\" id=\"E6&lt;-E7\" style=\"stroke: #383838; stroke-width: 1.0;\"/><polygon fill=\"#FFFFFF\" points=\"150.54,87.06,150.94,94.26,157.74,96.66,157.34,89.46,150.54,87.06\" style=\"stroke: #383838; stroke-width: 1.0;\"/><text fill=\"#000000\" font-family=\"sans-serif\" font-size=\"13\" lengthAdjust=\"spacingAndGlyphs\" textLength=\"8\" x=\"181.9653\" y=\"135.8709\">1</text></a><!--MD5=[583832df87f4419a098336a29a52fa00]\n",
       "link E7 to E2--><a href=\"psysml:b2f5aca9-58b7-4171-99ad-c870ed5b258d\" target=\"_top\" title=\"psysml:b2f5aca9-58b7-4171-99ad-c870ed5b258d\" xlink:actuate=\"onRequest\" xlink:href=\"psysml:b2f5aca9-58b7-4171-99ad-c870ed5b258d\" xlink:show=\"new\" xlink:title=\"psysml:b2f5aca9-58b7-4171-99ad-c870ed5b258d\" xlink:type=\"simple\"><path d=\"M226.85,193.06 C235.29,205.6 246.11,221.68 255.93,236.26 \" fill=\"none\" id=\"E7-&gt;E2\" style=\"stroke: #383838; stroke-width: 1.0;\"/><polygon fill=\"#FFFFFF\" points=\"267.18,252.98,250.7716,241.1156,262.391,233.306,267.18,252.98\" style=\"stroke: #383838; stroke-width: 1.0;\"/><ellipse cx=\"249.2519\" cy=\"235.2692\" fill=\"#383838\" rx=\"2\" ry=\"2\" style=\"stroke: #383838; stroke-width: 1.0;\"/><ellipse cx=\"257.5514\" cy=\"229.6909\" fill=\"#383838\" rx=\"2\" ry=\"2\" style=\"stroke: #383838; stroke-width: 1.0;\"/></a><!--MD5=[f4cf0736d43fd73c4ef68817c49d37d5]\n",
       "reverse link E6 to E8--><a href=\"psysml:fe1d85b3-9ee1-4bac-b285-3afa79011941\" target=\"_top\" title=\"psysml:fe1d85b3-9ee1-4bac-b285-3afa79011941\" xlink:actuate=\"onRequest\" xlink:href=\"psysml:fe1d85b3-9ee1-4bac-b285-3afa79011941\" xlink:show=\"new\" xlink:title=\"psysml:fe1d85b3-9ee1-4bac-b285-3afa79011941\" xlink:type=\"simple\"><path d=\"M122,99.69 C117.61,114.13 113.18,131.19 111,147 C105.94,183.79 109.61,227.05 112.77,252.69 \" fill=\"none\" id=\"E6&lt;-E8\" style=\"stroke: #383838; stroke-width: 1.0;\"/><polygon fill=\"#FFFFFF\" points=\"125.97,87.27,120.3337,91.768,122.318,98.7008,127.9542,94.2027,125.97,87.27\" style=\"stroke: #383838; stroke-width: 1.0;\"/><text fill=\"#000000\" font-family=\"sans-serif\" font-size=\"13\" lengthAdjust=\"spacingAndGlyphs\" textLength=\"8\" x=\"102.9173\" y=\"241.8869\">1</text></a><!--MD5=[95fa686b5a16158bcdbcaeead89f639b]\n",
       "link E8 to E3--><a href=\"psysml:868cb9fc-cae8-4edc-8535-912e932f79a3\" target=\"_top\" title=\"psysml:868cb9fc-cae8-4edc-8535-912e932f79a3\" xlink:actuate=\"onRequest\" xlink:href=\"psysml:868cb9fc-cae8-4edc-8535-912e932f79a3\" xlink:show=\"new\" xlink:title=\"psysml:868cb9fc-cae8-4edc-8535-912e932f79a3\" xlink:type=\"simple\"><path d=\"M142.3,299.06 C158.57,312.71 179.83,330.53 198.36,346.07 \" fill=\"none\" id=\"E8-&gt;E3\" style=\"stroke: #383838; stroke-width: 1.0;\"/><polygon fill=\"#FFFFFF\" points=\"213.74,358.98,194.6843,352.133,203.6813,341.4067,213.74,358.98\" style=\"stroke: #383838; stroke-width: 1.0;\"/><ellipse cx=\"191.6024\" cy=\"346.9377\" fill=\"#383838\" rx=\"2\" ry=\"2\" style=\"stroke: #383838; stroke-width: 1.0;\"/><ellipse cx=\"198.0288\" cy=\"339.276\" fill=\"#383838\" rx=\"2\" ry=\"2\" style=\"stroke: #383838; stroke-width: 1.0;\"/></a><!--MD5=[79bc8f324ef4d02c541433f2e6e513c3]\n",
       "link E7 to E8--><a href=\"psysml:df4a1c37-eca1-4dcf-9226-48a3cb28b2f3\" target=\"_top\" title=\"psysml:df4a1c37-eca1-4dcf-9226-48a3cb28b2f3\" xlink:actuate=\"onRequest\" xlink:href=\"psysml:df4a1c37-eca1-4dcf-9226-48a3cb28b2f3\" xlink:show=\"new\" xlink:title=\"psysml:df4a1c37-eca1-4dcf-9226-48a3cb28b2f3\" xlink:type=\"simple\"><path d=\"M191.64,193.06 C175.35,210.7 152.61,235.34 136.33,252.98 \" fill=\"none\" id=\"E7-E8\" style=\"stroke: #383838; stroke-width: 3.0;\"/></a><!--MD5=[54b12ab1fddaf6f28de1b0f2a367e8c1]\n",
       "@startuml\r\n",
       "skinparam monochrome true\r\n",
       "skinparam classbackgroundcolor white\r\n",
       "skinparam shadowing false\r\n",
       "skinparam wrapWidth 300\r\n",
       "hide circle\r\n",
       "\r\n",
       "package \"Verzameling_Modelelementen\" as E1  [[psysml:f02d576e-2ced-443d-b569-ffd845d8ba5a ]]  {\r\n",
       "comp def \"ElementType1\" as E2  <<(T,blue) part  def>> [[psysml:4a994121-5adf-461d-8d91-8a3d5efc6ba8 ]] {\r\n",
       "}\r\n",
       "comp def \"ElementType2\" as E3  <<(T,blue) part  def>> [[psysml:392ef103-c594-4ae7-8a81-85d916e47dd8 ]] {\r\n",
       "}\r\n",
       "comp def \"raakvlak\" as E4  <<(T,blue) connection  def>> [[psysml:198b02d2-c2fa-4ce9-8d70-4f36535d972d ]] {\r\n",
       "}\r\n",
       "comp usage \"conn_type \" as E5  <<(T,blue) item>> [[psysml:9a8664bb-2f3e-47e7-8412-43bd30e67e6a ]] {\r\n",
       "}\r\n",
       "comp def \"ElementType0\" as E6  <<(T,blue) part  def>> [[psysml:20a05d9b-3504-4510-bc04-db0f0fd61727 ]] {\r\n",
       "}\r\n",
       "comp usage \"instance1: ElementType1 \" as E7  <<(T,blue) part>> [[psysml:55b838c9-9a28-4ef4-99c9-16467ea6dd44 ]] {\r\n",
       "}\r\n",
       "comp usage \"instance2: ElementType2 \" as E8  <<(T,blue) part>> [[psysml:18c9e8a5-a10a-4f89-b143-2fa19de50a40 ]] {\r\n",
       "}\r\n",
       "}\r\n",
       "E4 o- - \"0..1\"E2 [[psysml:e9652821-1540-47cc-a70c-4d9dd8a7149b ]] \r\n",
       "E4 o- - \"1..*\"E3 [[psysml:afebad35-f860-4c11-8aca-0bd3082a1f12 ]] \r\n",
       "E4 o- - \"1\"E5 [[psysml:d9ecad1e-f080-4267-b5a0-c0561b946497 ]] \r\n",
       "E6 o- - \"1\"E7 [[psysml:243ba452-3f31-432e-94f1-3e8f04e3bffa ]] \r\n",
       "E7 - -:|> E2 [[psysml:b2f5aca9-58b7-4171-99ad-c870ed5b258d ]] \r\n",
       "E6 o- - \"1\"E8 [[psysml:fe1d85b3-9ee1-4bac-b285-3afa79011941 ]] \r\n",
       "E8 - -:|> E3 [[psysml:868cb9fc-cae8-4edc-8535-912e932f79a3 ]] \r\n",
       "E7 -[thickness=3]- E8 [[psysml:df4a1c37-eca1-4dcf-9226-48a3cb28b2f3 ]] \r\n",
       "@enduml\r\n",
       "\n",
       "PlantUML version 1.2020.13(Sat Jun 13 05:26:38 PDT 2020)\n",
       "(EPL source distribution)\n",
       "Java Runtime: OpenJDK Runtime Environment\n",
       "JVM: OpenJDK 64-Bit Server VM\n",
       "Default Encoding: UTF-8\n",
       "Language: en\n",
       "Country: US\n",
       "--></g></svg>"
      ]
     },
     "execution_count": 8,
     "metadata": {},
     "output_type": "execute_result"
    }
   ],
   "source": [
    "%viz \"Verzameling_Modelelementen\""
   ]
  },
  {
   "cell_type": "markdown",
   "id": "5ae5265b",
   "metadata": {},
   "source": [
    "## Items en Enumerations\n",
    "\n",
    "Items zijn dingen die bestaan in ruimte en tijd, maar geen onderdeel (letterlijk)  zijn van het systeem. Een systeem wordt er niet mee gemaakt, maar het systeem kan er wel CRUD acties op uitveoren.\n",
    "\n",
    "Bij een auto is de brandstof bijv. een item. De brandstof is geen structureel onderdeel van de auto. Zonder brandstof is een auto nog steeds een auto. Brandstof is daarom een *item*."
   ]
  },
  {
   "cell_type": "code",
   "execution_count": 15,
   "id": "49b88468",
   "metadata": {},
   "outputs": [
    {
     "data": {
      "text/plain": [
       "Package Dingen (4bb37bdf-f3ee-4983-b674-a0a5196a9bd3)\n"
      ]
     },
     "execution_count": 15,
     "metadata": {},
     "output_type": "execute_result"
    }
   ],
   "source": [
    "package Dingen {\n",
    "    item def thing1;\n",
    "    item def thing2;\n",
    "    \n",
    "    item thing3;\n",
    "    item thing4: thing1;\n",
    "\n",
    "    enum def driekleur {\n",
    "        enum rood;\n",
    "        enum wit;\n",
    "        enum blauw;\n",
    "    }\n",
    "\n",
    "    enum def <'ENUM000'> verkeerlicht {\n",
    "        rood;\n",
    "        oranje;\n",
    "        groen;\n",
    "    }\n",
    "}"
   ]
  },
  {
   "cell_type": "code",
   "execution_count": 16,
   "id": "4c372ddf",
   "metadata": {},
   "outputs": [
    {
     "data": {
      "image/svg+xml": [
       "<?xml version=\"1.0\" encoding=\"UTF-8\" standalone=\"no\"?><svg xmlns=\"http://www.w3.org/2000/svg\" xmlns:xlink=\"http://www.w3.org/1999/xlink\" contentScriptType=\"application/ecmascript\" contentStyleType=\"text/css\" height=\"276px\" preserveAspectRatio=\"none\" style=\"width:588px;height:276px;\" version=\"1.1\" viewBox=\"0 0 588 276\" width=\"588px\" zoomAndPan=\"magnify\"><defs/><g><!--MD5=[fbc87193dbaf4d95561dea2c320d4a47]\n",
       "cluster E1--><a href=\"psysml:4bb37bdf-f3ee-4983-b674-a0a5196a9bd3\" target=\"_top\" title=\"psysml:4bb37bdf-f3ee-4983-b674-a0a5196a9bd3\" xlink:actuate=\"onRequest\" xlink:href=\"psysml:4bb37bdf-f3ee-4983-b674-a0a5196a9bd3\" xlink:show=\"new\" xlink:title=\"psysml:4bb37bdf-f3ee-4983-b674-a0a5196a9bd3\" xlink:type=\"simple\"><polygon fill=\"#FFFFFF\" points=\"16,6,77,6,84,28.2969,566,28.2969,566,264,16,264,16,6\" style=\"stroke: #000000; stroke-width: 1.5;\"/><line style=\"stroke: #000000; stroke-width: 1.5;\" x1=\"16\" x2=\"84\" y1=\"28.2969\" y2=\"28.2969\"/><text fill=\"#000000\" font-family=\"sans-serif\" font-size=\"14\" font-weight=\"bold\" lengthAdjust=\"spacingAndGlyphs\" textLength=\"55\" x=\"20\" y=\"20.9951\">Dingen</text></a><!--MD5=[b4997ac47864f28c2f74865a473b2911]\n",
       "class E2--><a href=\"psysml:e59f088a-572d-4f5c-b907-ba5d5336edd8\" target=\"_top\" title=\"psysml:e59f088a-572d-4f5c-b907-ba5d5336edd8\" xlink:actuate=\"onRequest\" xlink:href=\"psysml:e59f088a-572d-4f5c-b907-ba5d5336edd8\" xlink:show=\"new\" xlink:title=\"psysml:e59f088a-572d-4f5c-b907-ba5d5336edd8\" xlink:type=\"simple\"><rect fill=\"#FFFFFF\" height=\"45.9375\" id=\"E2\" style=\"stroke: #383838; stroke-width: 1.5;\" width=\"71\" x=\"273.5\" y=\"202\"/><text fill=\"#000000\" font-family=\"sans-serif\" font-size=\"12\" font-style=\"italic\" lengthAdjust=\"spacingAndGlyphs\" textLength=\"69\" x=\"274.5\" y=\"218.1387\">«item  def»</text><text fill=\"#000000\" font-family=\"sans-serif\" font-size=\"12\" lengthAdjust=\"spacingAndGlyphs\" textLength=\"40\" x=\"289\" y=\"232.1074\">thing1</text><line style=\"stroke: #383838; stroke-width: 1.5;\" x1=\"274.5\" x2=\"343.5\" y1=\"239.9375\" y2=\"239.9375\"/></a><!--MD5=[09b614a08d8cba4a07c9adeb5e0fee81]\n",
       "class E3--><a href=\"psysml:b2f27584-7a22-4def-b2de-5e934359f9f1\" target=\"_top\" title=\"psysml:b2f27584-7a22-4def-b2de-5e934359f9f1\" xlink:actuate=\"onRequest\" xlink:href=\"psysml:b2f27584-7a22-4def-b2de-5e934359f9f1\" xlink:show=\"new\" xlink:title=\"psysml:b2f27584-7a22-4def-b2de-5e934359f9f1\" xlink:type=\"simple\"><rect fill=\"#FFFFFF\" height=\"45.9375\" id=\"E3\" style=\"stroke: #383838; stroke-width: 1.5;\" width=\"71\" x=\"478.5\" y=\"68.5\"/><text fill=\"#000000\" font-family=\"sans-serif\" font-size=\"12\" font-style=\"italic\" lengthAdjust=\"spacingAndGlyphs\" textLength=\"69\" x=\"479.5\" y=\"84.6387\">«item  def»</text><text fill=\"#000000\" font-family=\"sans-serif\" font-size=\"12\" lengthAdjust=\"spacingAndGlyphs\" textLength=\"40\" x=\"494\" y=\"98.6074\">thing2</text><line style=\"stroke: #383838; stroke-width: 1.5;\" x1=\"479.5\" x2=\"548.5\" y1=\"106.4375\" y2=\"106.4375\"/></a><!--MD5=[ebbe1d658d1005bcc118a6aa81145e00]\n",
       "class E4--><a href=\"psysml:c38e0dc6-a2a0-43da-9d7c-ab4f36cb3f32\" target=\"_top\" title=\"psysml:c38e0dc6-a2a0-43da-9d7c-ab4f36cb3f32\" xlink:actuate=\"onRequest\" xlink:href=\"psysml:c38e0dc6-a2a0-43da-9d7c-ab4f36cb3f32\" xlink:show=\"new\" xlink:title=\"psysml:c38e0dc6-a2a0-43da-9d7c-ab4f36cb3f32\" xlink:type=\"simple\"><rect fill=\"#FFFFFF\" height=\"45.9375\" id=\"E4\" rx=\"10\" ry=\"10\" style=\"stroke: #383838; stroke-width: 1.5;\" width=\"50\" x=\"393\" y=\"68.5\"/><text fill=\"#000000\" font-family=\"sans-serif\" font-size=\"12\" font-style=\"italic\" lengthAdjust=\"spacingAndGlyphs\" textLength=\"41\" x=\"397.5\" y=\"84.6387\">«item»</text><text fill=\"#000000\" font-family=\"sans-serif\" font-size=\"12\" lengthAdjust=\"spacingAndGlyphs\" textLength=\"40\" x=\"396\" y=\"98.6074\">thing3</text><line style=\"stroke: #383838; stroke-width: 1.5;\" x1=\"394\" x2=\"442\" y1=\"106.4375\" y2=\"106.4375\"/></a><!--MD5=[270fce915f116d4de14055a7c1d9a0f3]\n",
       "class E5--><a href=\"psysml:6f6c25c5-3757-4354-bf42-559088259273\" target=\"_top\" title=\"psysml:6f6c25c5-3757-4354-bf42-559088259273\" xlink:actuate=\"onRequest\" xlink:href=\"psysml:6f6c25c5-3757-4354-bf42-559088259273\" xlink:show=\"new\" xlink:title=\"psysml:6f6c25c5-3757-4354-bf42-559088259273\" xlink:type=\"simple\"><rect fill=\"#FFFFFF\" height=\"45.9375\" id=\"E5\" rx=\"10\" ry=\"10\" style=\"stroke: #383838; stroke-width: 1.5;\" width=\"98\" x=\"260\" y=\"68.5\"/><text fill=\"#000000\" font-family=\"sans-serif\" font-size=\"12\" font-style=\"italic\" lengthAdjust=\"spacingAndGlyphs\" textLength=\"41\" x=\"288.5\" y=\"84.6387\">«item»</text><text fill=\"#000000\" font-family=\"sans-serif\" font-size=\"12\" lengthAdjust=\"spacingAndGlyphs\" textLength=\"88\" x=\"263\" y=\"98.6074\">thing4: thing1</text><line style=\"stroke: #383838; stroke-width: 1.5;\" x1=\"261\" x2=\"357\" y1=\"106.4375\" y2=\"106.4375\"/></a><!--MD5=[60a26617385b1d2d0262a64233df1f8d]\n",
       "class E6--><a href=\"psysml:9314de39-91fe-4ae6-b47f-d1a760e16b27\" target=\"_top\" title=\"psysml:9314de39-91fe-4ae6-b47f-d1a760e16b27\" xlink:actuate=\"onRequest\" xlink:href=\"psysml:9314de39-91fe-4ae6-b47f-d1a760e16b27\" xlink:show=\"new\" xlink:title=\"psysml:9314de39-91fe-4ae6-b47f-d1a760e16b27\" xlink:type=\"simple\"><rect fill=\"#FFFFFF\" height=\"101.1563\" id=\"E6\" style=\"stroke: #383838; stroke-width: 1.5;\" width=\"79\" x=\"145.5\" y=\"41\"/><text fill=\"#000000\" font-family=\"sans-serif\" font-size=\"12\" font-style=\"italic\" lengthAdjust=\"spacingAndGlyphs\" textLength=\"77\" x=\"146.5\" y=\"57.1387\">«enum  def»</text><text fill=\"#000000\" font-family=\"sans-serif\" font-size=\"12\" font-style=\"italic\" lengthAdjust=\"spacingAndGlyphs\" textLength=\"55\" x=\"157.5\" y=\"71.1074\">driekleur</text><line style=\"stroke: #383838; stroke-width: 1.5;\" x1=\"146.5\" x2=\"223.5\" y1=\"78.9375\" y2=\"78.9375\"/><text fill=\"#000000\" font-family=\"sans-serif\" font-size=\"11\" lengthAdjust=\"spacingAndGlyphs\" textLength=\"26\" x=\"151.5\" y=\"109.9526\">rood</text><text fill=\"#000000\" font-family=\"sans-serif\" font-size=\"11\" lengthAdjust=\"spacingAndGlyphs\" textLength=\"16\" x=\"151.5\" y=\"122.7573\">wit</text><text fill=\"#000000\" font-family=\"sans-serif\" font-size=\"11\" lengthAdjust=\"spacingAndGlyphs\" textLength=\"33\" x=\"151.5\" y=\"135.562\">blauw</text><line style=\"stroke: #383838; stroke-width: 1.0;\" x1=\"146.5\" x2=\"165.5\" y1=\"93.3398\" y2=\"93.3398\"/><text fill=\"#000000\" font-family=\"sans-serif\" font-size=\"11\" lengthAdjust=\"spacingAndGlyphs\" textLength=\"39\" x=\"165.5\" y=\"96.6479\">enums</text><line style=\"stroke: #383838; stroke-width: 1.0;\" x1=\"204.5\" x2=\"223.5\" y1=\"93.3398\" y2=\"93.3398\"/></a><!--MD5=[2156ba9850f5573cc1fc38a6a4b2f02b]\n",
       "class E7--><a href=\"psysml:e82d4470-8dab-46a1-b2c8-99fa469adb8a\" target=\"_top\" title=\"psysml:e82d4470-8dab-46a1-b2c8-99fa469adb8a\" xlink:actuate=\"onRequest\" xlink:href=\"psysml:e82d4470-8dab-46a1-b2c8-99fa469adb8a\" xlink:show=\"new\" xlink:title=\"psysml:e82d4470-8dab-46a1-b2c8-99fa469adb8a\" xlink:type=\"simple\"><rect fill=\"#FFFFFF\" height=\"101.1563\" id=\"E7\" style=\"stroke: #383838; stroke-width: 1.5;\" width=\"79\" x=\"31.5\" y=\"41\"/><text fill=\"#000000\" font-family=\"sans-serif\" font-size=\"12\" font-style=\"italic\" lengthAdjust=\"spacingAndGlyphs\" textLength=\"77\" x=\"32.5\" y=\"57.1387\">«enum  def»</text><text fill=\"#000000\" font-family=\"sans-serif\" font-size=\"12\" font-style=\"italic\" lengthAdjust=\"spacingAndGlyphs\" textLength=\"73\" x=\"34.5\" y=\"71.1074\">verkeerlicht</text><line style=\"stroke: #383838; stroke-width: 1.5;\" x1=\"32.5\" x2=\"109.5\" y1=\"78.9375\" y2=\"78.9375\"/><text fill=\"#000000\" font-family=\"sans-serif\" font-size=\"11\" lengthAdjust=\"spacingAndGlyphs\" textLength=\"26\" x=\"37.5\" y=\"109.9526\">rood</text><text fill=\"#000000\" font-family=\"sans-serif\" font-size=\"11\" lengthAdjust=\"spacingAndGlyphs\" textLength=\"36\" x=\"37.5\" y=\"122.7573\">oranje</text><text fill=\"#000000\" font-family=\"sans-serif\" font-size=\"11\" lengthAdjust=\"spacingAndGlyphs\" textLength=\"33\" x=\"37.5\" y=\"135.562\">groen</text><line style=\"stroke: #383838; stroke-width: 1.0;\" x1=\"32.5\" x2=\"51.5\" y1=\"93.3398\" y2=\"93.3398\"/><text fill=\"#000000\" font-family=\"sans-serif\" font-size=\"11\" lengthAdjust=\"spacingAndGlyphs\" textLength=\"39\" x=\"51.5\" y=\"96.6479\">enums</text><line style=\"stroke: #383838; stroke-width: 1.0;\" x1=\"90.5\" x2=\"109.5\" y1=\"93.3398\" y2=\"93.3398\"/></a><!--MD5=[15ebcb19ae302d9b601edb458606d402]\n",
       "link E5 to E2--><a href=\"psysml:f20a3ea4-d84b-4445-b835-372d97f9c657\" target=\"_top\" title=\"psysml:f20a3ea4-d84b-4445-b835-372d97f9c657\" xlink:actuate=\"onRequest\" xlink:href=\"psysml:f20a3ea4-d84b-4445-b835-372d97f9c657\" xlink:show=\"new\" xlink:title=\"psysml:f20a3ea4-d84b-4445-b835-372d97f9c657\" xlink:type=\"simple\"><path d=\"M309,114.51 C309,132.81 309,159.38 309,181.77 \" fill=\"none\" id=\"E5-&gt;E2\" style=\"stroke: #383838; stroke-width: 1.0;\"/><polygon fill=\"#FFFFFF\" points=\"309,201.92,302,182.92,316,182.92,309,201.92\" style=\"stroke: #383838; stroke-width: 1.0;\"/><ellipse cx=\"304\" cy=\"177.22\" fill=\"#383838\" rx=\"2\" ry=\"2\" style=\"stroke: #383838; stroke-width: 1.0;\"/><ellipse cx=\"314\" cy=\"177.22\" fill=\"#383838\" rx=\"2\" ry=\"2\" style=\"stroke: #383838; stroke-width: 1.0;\"/></a><!--MD5=[c0aea9b5e934972373cdf18ce0089878]\n",
       "@startuml\r\n",
       "skinparam monochrome true\r\n",
       "skinparam classbackgroundcolor white\r\n",
       "skinparam shadowing false\r\n",
       "skinparam wrapWidth 300\r\n",
       "hide circle\r\n",
       "\r\n",
       "package \"Dingen\" as E1  [[psysml:4bb37bdf-f3ee-4983-b674-a0a5196a9bd3 ]]  {\r\n",
       "comp def \"thing1\" as E2  <<(T,blue) item  def>> [[psysml:e59f088a-572d-4f5c-b907-ba5d5336edd8 ]] {\r\n",
       "}\r\n",
       "comp def \"thing2\" as E3  <<(T,blue) item  def>> [[psysml:b2f27584-7a22-4def-b2de-5e934359f9f1 ]] {\r\n",
       "}\r\n",
       "comp usage \"thing3 \" as E4  <<(T,blue) item>> [[psysml:c38e0dc6-a2a0-43da-9d7c-ab4f36cb3f32 ]] {\r\n",
       "}\r\n",
       "comp usage \"thing4: thing1 \" as E5  <<(T,blue) item>> [[psysml:6f6c25c5-3757-4354-bf42-559088259273 ]] {\r\n",
       "}\r\n",
       "comp def \"<i>driekleur</i>\" as E6  <<(T,blue) enum  def>> [[psysml:9314de39-91fe-4ae6-b47f-d1a760e16b27 ]] {\r\n",
       "- - enums - -\r\n",
       "rood\r\n",
       "wit\r\n",
       "blauw\r\n",
       "}\r\n",
       "comp def \"<i>verkeerlicht</i>\" as E7  <<(T,blue) enum  def>> [[psysml:e82d4470-8dab-46a1-b2c8-99fa469adb8a ]] {\r\n",
       "- - enums - -\r\n",
       "rood\r\n",
       "oranje\r\n",
       "groen\r\n",
       "}\r\n",
       "}\r\n",
       "E5 - -:|> E2 [[psysml:f20a3ea4-d84b-4445-b835-372d97f9c657 ]] \r\n",
       "@enduml\r\n",
       "\n",
       "PlantUML version 1.2020.13(Sat Jun 13 05:26:38 PDT 2020)\n",
       "(EPL source distribution)\n",
       "Java Runtime: OpenJDK Runtime Environment\n",
       "JVM: OpenJDK 64-Bit Server VM\n",
       "Default Encoding: UTF-8\n",
       "Language: en\n",
       "Country: US\n",
       "--></g></svg>"
      ]
     },
     "execution_count": 16,
     "metadata": {},
     "output_type": "execute_result"
    }
   ],
   "source": [
    "%viz Dingen"
   ]
  },
  {
   "cell_type": "markdown",
   "id": "a774410e",
   "metadata": {},
   "source": [
    "## Eisen\n",
    "\n",
    "Eisen zijn uitspraken waaraan een systeem moet voldoen, verwoordt als een effect dat moet worden bereikt, of een eigenschap die een systeem of proces moet bezitten.\n",
    "\n",
    "Een handig mechanisme om parametriseerbare eisen te maken kan met `:>>`,  wat staat voor `redefines`"
   ]
  },
  {
   "cell_type": "code",
   "execution_count": 20,
   "id": "f1ece078",
   "metadata": {},
   "outputs": [
    {
     "data": {
      "text/plain": [
       "Package Eisen (4978c04f-df3b-4555-b387-528927def66b)\n"
      ]
     },
     "execution_count": 20,
     "metadata": {},
     "output_type": "execute_result"
    }
   ],
   "source": [
    "package Eisen {\n",
    "    requirement <'EIS_0001'> 'Een eerste requirement' {\n",
    "        /* Het systeem dient blah te doen */\n",
    "    }\n",
    "    \n",
    "    requirement def 'Parameteriseerbare eis' {\n",
    "        /* Het systeem dient iets X keer te doen */\n",
    "        \n",
    "        import ScalarValues::Number;\n",
    "        attribute X:Number;\n",
    "        \n",
    "        require constraint { X >  0 }\n",
    "        require constraint { X <= 5 }\n",
    "    }\n",
    "    \n",
    "    requirement <'EIS_0002'> 'Een tweede requirement' : 'Parameteriseerbare eis' {\n",
    "        attribute :>> X = 5;\n",
    "    }\n",
    " }"
   ]
  },
  {
   "cell_type": "code",
   "execution_count": 21,
   "id": "b5b240ef",
   "metadata": {},
   "outputs": [
    {
     "data": {
      "image/svg+xml": [
       "<?xml version=\"1.0\" encoding=\"UTF-8\" standalone=\"no\"?><svg xmlns=\"http://www.w3.org/2000/svg\" xmlns:xlink=\"http://www.w3.org/1999/xlink\" contentScriptType=\"application/ecmascript\" contentStyleType=\"text/css\" height=\"335px\" preserveAspectRatio=\"none\" style=\"width:1060px;height:335px;\" version=\"1.1\" viewBox=\"0 0 1060 335\" width=\"1060px\" zoomAndPan=\"magnify\"><defs/><g><!--MD5=[fbc87193dbaf4d95561dea2c320d4a47]\n",
       "cluster E1--><a href=\"psysml:4978c04f-df3b-4555-b387-528927def66b\" target=\"_top\" title=\"psysml:4978c04f-df3b-4555-b387-528927def66b\" xlink:actuate=\"onRequest\" xlink:href=\"psysml:4978c04f-df3b-4555-b387-528927def66b\" xlink:show=\"new\" xlink:title=\"psysml:4978c04f-df3b-4555-b387-528927def66b\" xlink:type=\"simple\"><polygon fill=\"#FFFFFF\" points=\"16,6,64,6,71,28.2969,1038,28.2969,1038,323,16,323,16,6\" style=\"stroke: #000000; stroke-width: 1.5;\"/><line style=\"stroke: #000000; stroke-width: 1.5;\" x1=\"16\" x2=\"71\" y1=\"28.2969\" y2=\"28.2969\"/><text fill=\"#000000\" font-family=\"sans-serif\" font-size=\"14\" font-weight=\"bold\" lengthAdjust=\"spacingAndGlyphs\" textLength=\"42\" x=\"20\" y=\"20.9951\">Eisen</text></a><!--MD5=[b4997ac47864f28c2f74865a473b2911]\n",
       "class E2--><a href=\"psysml:b7f8e9c8-1360-4d7b-b444-148b41f1ebde\" target=\"_top\" title=\"psysml:b7f8e9c8-1360-4d7b-b444-148b41f1ebde\" xlink:actuate=\"onRequest\" xlink:href=\"psysml:b7f8e9c8-1360-4d7b-b444-148b41f1ebde\" xlink:show=\"new\" xlink:title=\"psysml:b7f8e9c8-1360-4d7b-b444-148b41f1ebde\" xlink:type=\"simple\"><rect fill=\"#FFFFFF\" height=\"45.9375\" id=\"E2\" rx=\"10\" ry=\"10\" style=\"stroke: #383838; stroke-width: 1.5;\" width=\"247\" x=\"774.5\" y=\"225\"/><text fill=\"#000000\" font-family=\"sans-serif\" font-size=\"12\" font-style=\"italic\" lengthAdjust=\"spacingAndGlyphs\" textLength=\"91\" x=\"852.5\" y=\"241.1387\">«requirement»</text><text fill=\"#000000\" font-family=\"sans-serif\" font-size=\"12\" lengthAdjust=\"spacingAndGlyphs\" textLength=\"0\" x=\"781.5\" y=\"255.1074\"/><text fill=\"#000000\" font-family=\"sans-serif\" font-size=\"12\" font-weight=\"bold\" lengthAdjust=\"spacingAndGlyphs\" textLength=\"79\" x=\"781.5\" y=\"255.1074\">&lt;EIS_0001&gt;</text><text fill=\"#000000\" font-family=\"sans-serif\" font-size=\"12\" lengthAdjust=\"spacingAndGlyphs\" textLength=\"150\" x=\"864.5\" y=\"255.1074\">Een eerste requirement</text><line style=\"stroke: #383838; stroke-width: 1.5;\" x1=\"775.5\" x2=\"1020.5\" y1=\"262.9375\" y2=\"262.9375\"/></a><!--MD5=[ebbe1d658d1005bcc118a6aa81145e00]\n",
       "class E4--><a href=\"psysml:d85a0f88-4f70-4738-851a-cb3508ef8eed\" target=\"_top\" title=\"psysml:d85a0f88-4f70-4738-851a-cb3508ef8eed\" xlink:actuate=\"onRequest\" xlink:href=\"psysml:d85a0f88-4f70-4738-851a-cb3508ef8eed\" xlink:show=\"new\" xlink:title=\"psysml:d85a0f88-4f70-4738-851a-cb3508ef8eed\" xlink:type=\"simple\"><rect fill=\"#FFFFFF\" height=\"117.9609\" id=\"E4\" style=\"stroke: #383838; stroke-width: 1.5;\" width=\"154\" x=\"281\" y=\"189\"/><text fill=\"#000000\" font-family=\"sans-serif\" font-size=\"12\" font-style=\"italic\" lengthAdjust=\"spacingAndGlyphs\" textLength=\"119\" x=\"298.5\" y=\"205.1387\">«requirement  def»</text><text fill=\"#000000\" font-family=\"sans-serif\" font-size=\"12\" lengthAdjust=\"spacingAndGlyphs\" textLength=\"148\" x=\"284\" y=\"219.1074\">Parameteriseerbare eis</text><line style=\"stroke: #383838; stroke-width: 1.5;\" x1=\"282\" x2=\"434\" y1=\"226.9375\" y2=\"226.9375\"/><text fill=\"#000000\" font-family=\"sans-serif\" font-size=\"11\" lengthAdjust=\"spacingAndGlyphs\" textLength=\"60\" x=\"287\" y=\"257.9526\">X: Number</text><line style=\"stroke: #383838; stroke-width: 1.0;\" x1=\"282\" x2=\"330.5\" y1=\"241.3398\" y2=\"241.3398\"/><text fill=\"#000000\" font-family=\"sans-serif\" font-size=\"11\" lengthAdjust=\"spacingAndGlyphs\" textLength=\"55\" x=\"330.5\" y=\"244.6479\">attributes</text><line style=\"stroke: #383838; stroke-width: 1.0;\" x1=\"385.5\" x2=\"434\" y1=\"241.3398\" y2=\"241.3398\"/><text fill=\"#000000\" font-family=\"sans-serif\" font-size=\"11\" font-weight=\"bold\" lengthAdjust=\"spacingAndGlyphs\" textLength=\"46\" x=\"287\" y=\"287.562\">require</text><text fill=\"#000000\" font-family=\"sans-serif\" font-size=\"11\" lengthAdjust=\"spacingAndGlyphs\" textLength=\"57\" x=\"337\" y=\"287.562\">{ X &gt;  0 }</text><text fill=\"#000000\" font-family=\"sans-serif\" font-size=\"11\" font-weight=\"bold\" lengthAdjust=\"spacingAndGlyphs\" textLength=\"46\" x=\"287\" y=\"300.3667\">require</text><text fill=\"#000000\" font-family=\"sans-serif\" font-size=\"11\" lengthAdjust=\"spacingAndGlyphs\" textLength=\"62\" x=\"337\" y=\"300.3667\">{ X &lt;= 5 }</text><line style=\"stroke: #383838; stroke-width: 1.0;\" x1=\"282\" x2=\"326\" y1=\"270.9492\" y2=\"270.9492\"/><text fill=\"#000000\" font-family=\"sans-serif\" font-size=\"11\" lengthAdjust=\"spacingAndGlyphs\" textLength=\"64\" x=\"326\" y=\"274.2573\">constraints</text><line style=\"stroke: #383838; stroke-width: 1.0;\" x1=\"390\" x2=\"434\" y1=\"270.9492\" y2=\"270.9492\"/></a><!--MD5=[60a26617385b1d2d0262a64233df1f8d]\n",
       "class E6--><a href=\"psysml:80668d8f-3258-40cc-b18d-71170a2d83a5\" target=\"_top\" title=\"psysml:80668d8f-3258-40cc-b18d-71170a2d83a5\" xlink:actuate=\"onRequest\" xlink:href=\"psysml:80668d8f-3258-40cc-b18d-71170a2d83a5\" xlink:show=\"new\" xlink:title=\"psysml:80668d8f-3258-40cc-b18d-71170a2d83a5\" xlink:type=\"simple\"><rect fill=\"#FFFFFF\" height=\"88.3516\" id=\"E6\" rx=\"10\" ry=\"10\" style=\"stroke: #383838; stroke-width: 1.5;\" width=\"408\" x=\"343\" y=\"41\"/><text fill=\"#000000\" font-family=\"sans-serif\" font-size=\"12\" font-style=\"italic\" lengthAdjust=\"spacingAndGlyphs\" textLength=\"91\" x=\"501.5\" y=\"57.1387\">«requirement»</text><text fill=\"#000000\" font-family=\"sans-serif\" font-size=\"12\" lengthAdjust=\"spacingAndGlyphs\" textLength=\"0\" x=\"350\" y=\"71.1074\"/><text fill=\"#000000\" font-family=\"sans-serif\" font-size=\"12\" font-weight=\"bold\" lengthAdjust=\"spacingAndGlyphs\" textLength=\"79\" x=\"350\" y=\"71.1074\">&lt;EIS_0002&gt;</text><text fill=\"#000000\" font-family=\"sans-serif\" font-size=\"12\" lengthAdjust=\"spacingAndGlyphs\" textLength=\"311\" x=\"433\" y=\"71.1074\">Een tweede requirement: Parameteriseerbare eis</text><line style=\"stroke: #383838; stroke-width: 1.5;\" x1=\"344\" x2=\"750\" y1=\"78.9375\" y2=\"78.9375\"/><text fill=\"#000000\" font-family=\"sans-serif\" font-size=\"11\" lengthAdjust=\"spacingAndGlyphs\" textLength=\"31\" x=\"349\" y=\"109.9526\">X= 5;</text><text fill=\"#000000\" font-family=\"sans-serif\" font-size=\"11\" font-style=\"italic\" lengthAdjust=\"spacingAndGlyphs\" textLength=\"173\" x=\"349\" y=\"122.7573\">:&gt;&gt;Parameteriseerbare eis::X</text><line style=\"stroke: #383838; stroke-width: 1.0;\" x1=\"344\" x2=\"519.5\" y1=\"93.3398\" y2=\"93.3398\"/><text fill=\"#000000\" font-family=\"sans-serif\" font-size=\"11\" lengthAdjust=\"spacingAndGlyphs\" textLength=\"55\" x=\"519.5\" y=\"96.6479\">attributes</text><line style=\"stroke: #383838; stroke-width: 1.0;\" x1=\"574.5\" x2=\"750\" y1=\"93.3398\" y2=\"93.3398\"/></a><path d=\"M786,72.5 L786,97.6328 A0,0 0 0 0 786,97.6328 L899.57,97.6328 L898.83,224.77 L907.57,97.6328 L1022,97.6328 A0,0 0 0 0 1022,97.6328 L1022,82.5 L1012,72.5 L786,72.5 A0,0 0 0 0 786,72.5 \" fill=\"#ECECEC\" style=\"stroke: #383838; stroke-width: 1.0;\"/><path d=\"M1012,72.5 L1012,82.5 L1022,82.5 L1012,72.5 \" fill=\"#ECECEC\" style=\"stroke: #383838; stroke-width: 1.0;\"/><a href=\"psysml:6d971d25-6551-45fe-813b-36cf22d4a62e\" target=\"_top\" title=\"psysml:6d971d25-6551-45fe-813b-36cf22d4a62e\" xlink:actuate=\"onRequest\" xlink:href=\"psysml:6d971d25-6551-45fe-813b-36cf22d4a62e\" xlink:show=\"new\" xlink:title=\"psysml:6d971d25-6551-45fe-813b-36cf22d4a62e\" xlink:type=\"simple\"><text fill=\"#1C1C1C\" font-family=\"sans-serif\" font-size=\"13\" lengthAdjust=\"spacingAndGlyphs\" text-decoration=\"underline\" textLength=\"13\" x=\"792\" y=\"89.5669\">@</text></a><text fill=\"#000000\" font-family=\"sans-serif\" font-size=\"13\" lengthAdjust=\"spacingAndGlyphs\" textLength=\"202\" x=\"805\" y=\"89.5669\">Het systeem dient blah te doen</text><path d=\"M32,72.5 L32,97.6328 A0,0 0 0 0 32,97.6328 L179.52,97.6328 L290.05,188.81 L187.52,97.6328 L308,97.6328 A0,0 0 0 0 308,97.6328 L308,82.5 L298,72.5 L32,72.5 A0,0 0 0 0 32,72.5 \" fill=\"#ECECEC\" style=\"stroke: #383838; stroke-width: 1.0;\"/><path d=\"M298,72.5 L298,82.5 L308,82.5 L298,72.5 \" fill=\"#ECECEC\" style=\"stroke: #383838; stroke-width: 1.0;\"/><a href=\"psysml:bb002cce-f194-4d08-8cfb-12d246b3aa7b\" target=\"_top\" title=\"psysml:bb002cce-f194-4d08-8cfb-12d246b3aa7b\" xlink:actuate=\"onRequest\" xlink:href=\"psysml:bb002cce-f194-4d08-8cfb-12d246b3aa7b\" xlink:show=\"new\" xlink:title=\"psysml:bb002cce-f194-4d08-8cfb-12d246b3aa7b\" xlink:type=\"simple\"><text fill=\"#1C1C1C\" font-family=\"sans-serif\" font-size=\"13\" lengthAdjust=\"spacingAndGlyphs\" text-decoration=\"underline\" textLength=\"13\" x=\"38\" y=\"89.5669\">@</text></a><text fill=\"#000000\" font-family=\"sans-serif\" font-size=\"13\" lengthAdjust=\"spacingAndGlyphs\" textLength=\"242\" x=\"51\" y=\"89.5669\">Het systeem dient iets X keer te doen</text><!--MD5=[f667431f98296947986a1a7595a31603]\n",
       "link E6 to E4--><a href=\"psysml:f7f0f21a-1a3b-4512-b565-8effdbe6cafb\" target=\"_top\" title=\"psysml:f7f0f21a-1a3b-4512-b565-8effdbe6cafb\" xlink:actuate=\"onRequest\" xlink:href=\"psysml:f7f0f21a-1a3b-4512-b565-8effdbe6cafb\" xlink:show=\"new\" xlink:title=\"psysml:f7f0f21a-1a3b-4512-b565-8effdbe6cafb\" xlink:type=\"simple\"><path d=\"M496.35,129.15 C479.52,143.48 460.31,159.85 441.67,175.73 \" fill=\"none\" id=\"E6-&gt;E4\" style=\"stroke: #383838; stroke-width: 1.0;\"/><polygon fill=\"#FFFFFF\" points=\"426.21,188.9,436.1351,171.2508,445.2132,181.9086,426.21,188.9\" style=\"stroke: #383838; stroke-width: 1.0;\"/><ellipse cx=\"441.7712\" cy=\"169.0773\" fill=\"#383838\" rx=\"2\" ry=\"2\" style=\"stroke: #383838; stroke-width: 1.0;\"/><ellipse cx=\"448.2555\" cy=\"176.69\" fill=\"#383838\" rx=\"2\" ry=\"2\" style=\"stroke: #383838; stroke-width: 1.0;\"/></a><!--MD5=[a4f0f8f964e7e52d62043da886fbb368]\n",
       "@startuml\r\n",
       "skinparam monochrome true\r\n",
       "skinparam classbackgroundcolor white\r\n",
       "skinparam shadowing false\r\n",
       "skinparam wrapWidth 300\r\n",
       "hide circle\r\n",
       "\r\n",
       "package \"Eisen\" as E1  [[psysml:4978c04f-df3b-4555-b387-528927def66b ]]  {\r\n",
       "comp usage \" <b>~<EIS_0001></b> Een eerste requirement \" as E2  <<(T,blue) requirement>> [[psysml:b7f8e9c8-1360-4d7b-b444-148b41f1ebde ]] {\r\n",
       "}\r\n",
       "comp def \"Parameteriseerbare eis\" as E4  <<(T,blue) requirement  def>> [[psysml:d85a0f88-4f70-4738-851a-cb3508ef8eed ]] {\r\n",
       "- - attributes - -\r\n",
       "X: Number\r\n",
       "- - constraints - -\r\n",
       "<b>require</b> { X >  0 }\r\n",
       "<b>require</b> { X <= 5 }\r\n",
       "}\r\n",
       "comp usage \" <b>~<EIS_0002></b> Een tweede requirement: Parameteriseerbare eis \" as E6  <<(T,blue) requirement>> [[psysml:80668d8f-3258-40cc-b18d-71170a2d83a5 ]] {\r\n",
       "- - attributes - -\r\n",
       "X= 5; \\n//:>>Parameteriseerbare eis::X// \r\n",
       "}\r\n",
       "note as E3\r\n",
       "[[psysml:6d971d25-6551-45fe-813b-36cf22d4a62e @]]Het systeem dient blah te doen\r\n",
       "end note \r\n",
       "note as E5\r\n",
       "[[psysml:bb002cce-f194-4d08-8cfb-12d246b3aa7b @]]Het systeem dient iets X keer te doen\r\n",
       "end note \r\n",
       "}\r\n",
       "E3 .. E2 [[psysml:6d971d25-6551-45fe-813b-36cf22d4a62e ]] \r\n",
       "E5 .. E4 [[psysml:bb002cce-f194-4d08-8cfb-12d246b3aa7b ]] \r\n",
       "E6 - -:|> E4 [[psysml:f7f0f21a-1a3b-4512-b565-8effdbe6cafb ]] \r\n",
       "@enduml\r\n",
       "\n",
       "PlantUML version 1.2020.13(Sat Jun 13 05:26:38 PDT 2020)\n",
       "(EPL source distribution)\n",
       "Java Runtime: OpenJDK Runtime Environment\n",
       "JVM: OpenJDK 64-Bit Server VM\n",
       "Default Encoding: UTF-8\n",
       "Language: en\n",
       "Country: US\n",
       "--></g></svg>"
      ]
     },
     "execution_count": 21,
     "metadata": {},
     "output_type": "execute_result"
    }
   ],
   "source": [
    "%viz Eisen"
   ]
  },
  {
   "cell_type": "markdown",
   "id": "75e3322b",
   "metadata": {},
   "source": [
    "## Eisenallocatie\n",
    "\n",
    "Als we willen uitdrukken dat eeneen systeemelement voldoet aan een eis:"
   ]
  },
  {
   "cell_type": "code",
   "execution_count": 22,
   "id": "c76d571d",
   "metadata": {},
   "outputs": [
    {
     "data": {
      "text/plain": [
       "Package Eisenallocatie (784aba41-9203-4051-a8cf-c5c462b524d0)\n"
      ]
     },
     "execution_count": 22,
     "metadata": {},
     "output_type": "execute_result"
    }
   ],
   "source": [
    "package Eisenallocatie {\n",
    "    \n",
    "    import Eisen::*;\n",
    "    \n",
    "    \n",
    "    part Eisvervuller {\n",
    "        import ScalarValues::Number;\n",
    "        \n",
    "        attribute aantal:Number;\n",
    "        \n",
    "        // aan de volgende eisen zal deze eisvervuller voldoen\n",
    "        satisfy 'Een eerste requirement' by Eisvervuller;\n",
    "        satisfy 'Een tweede requirement' by aantal;\n",
    "    }\n",
    "    \n",
    "}"
   ]
  },
  {
   "cell_type": "code",
   "execution_count": 23,
   "id": "859a1255",
   "metadata": {},
   "outputs": [
    {
     "data": {
      "image/svg+xml": [
       "<?xml version=\"1.0\" encoding=\"UTF-8\" standalone=\"no\"?><svg xmlns=\"http://www.w3.org/2000/svg\" xmlns:xlink=\"http://www.w3.org/1999/xlink\" contentScriptType=\"application/ecmascript\" contentStyleType=\"text/css\" height=\"145px\" preserveAspectRatio=\"none\" style=\"width:170px;height:145px;\" version=\"1.1\" viewBox=\"0 0 170 145\" width=\"170px\" zoomAndPan=\"magnify\"><defs/><g><!--MD5=[fbc87193dbaf4d95561dea2c320d4a47]\n",
       "cluster E1--><a href=\"psysml:784aba41-9203-4051-a8cf-c5c462b524d0\" target=\"_top\" title=\"psysml:784aba41-9203-4051-a8cf-c5c462b524d0\" xlink:actuate=\"onRequest\" xlink:href=\"psysml:784aba41-9203-4051-a8cf-c5c462b524d0\" xlink:show=\"new\" xlink:title=\"psysml:784aba41-9203-4051-a8cf-c5c462b524d0\" xlink:type=\"simple\"><polygon fill=\"#FFFFFF\" points=\"16,6,129,6,136,28.2969,148,28.2969,148,133,16,133,16,6\" style=\"stroke: #000000; stroke-width: 1.5;\"/><line style=\"stroke: #000000; stroke-width: 1.5;\" x1=\"16\" x2=\"136\" y1=\"28.2969\" y2=\"28.2969\"/><text fill=\"#000000\" font-family=\"sans-serif\" font-size=\"14\" font-weight=\"bold\" lengthAdjust=\"spacingAndGlyphs\" textLength=\"107\" x=\"20\" y=\"20.9951\">Eisenallocatie</text></a><!--MD5=[b4997ac47864f28c2f74865a473b2911]\n",
       "class E2--><a href=\"psysml:96399ad8-0de9-49e2-8876-cd81b9189836\" target=\"_top\" title=\"psysml:96399ad8-0de9-49e2-8876-cd81b9189836\" xlink:actuate=\"onRequest\" xlink:href=\"psysml:96399ad8-0de9-49e2-8876-cd81b9189836\" xlink:show=\"new\" xlink:title=\"psysml:96399ad8-0de9-49e2-8876-cd81b9189836\" xlink:type=\"simple\"><rect fill=\"#FFFFFF\" height=\"75.5469\" id=\"E2\" rx=\"10\" ry=\"10\" style=\"stroke: #383838; stroke-width: 1.5;\" width=\"100\" x=\"32\" y=\"41\"/><text fill=\"#000000\" font-family=\"sans-serif\" font-size=\"12\" font-style=\"italic\" lengthAdjust=\"spacingAndGlyphs\" textLength=\"40\" x=\"62\" y=\"57.1387\">«part»</text><text fill=\"#000000\" font-family=\"sans-serif\" font-size=\"12\" lengthAdjust=\"spacingAndGlyphs\" textLength=\"70\" x=\"45\" y=\"71.1074\">Eisvervuller</text><line style=\"stroke: #383838; stroke-width: 1.5;\" x1=\"33\" x2=\"131\" y1=\"78.9375\" y2=\"78.9375\"/><text fill=\"#000000\" font-family=\"sans-serif\" font-size=\"11\" lengthAdjust=\"spacingAndGlyphs\" textLength=\"88\" x=\"38\" y=\"109.9526\">aantal: Number</text><line style=\"stroke: #383838; stroke-width: 1.0;\" x1=\"33\" x2=\"54.5\" y1=\"93.3398\" y2=\"93.3398\"/><text fill=\"#000000\" font-family=\"sans-serif\" font-size=\"11\" lengthAdjust=\"spacingAndGlyphs\" textLength=\"55\" x=\"54.5\" y=\"96.6479\">attributes</text><line style=\"stroke: #383838; stroke-width: 1.0;\" x1=\"109.5\" x2=\"131\" y1=\"93.3398\" y2=\"93.3398\"/></a><!--MD5=[bca556a3935be2b0f4447a969aa18256]\n",
       "@startuml\r\n",
       "skinparam monochrome true\r\n",
       "skinparam classbackgroundcolor white\r\n",
       "skinparam shadowing false\r\n",
       "skinparam wrapWidth 300\r\n",
       "hide circle\r\n",
       "\r\n",
       "package \"Eisenallocatie\" as E1  [[psysml:784aba41-9203-4051-a8cf-c5c462b524d0 ]]  {\r\n",
       "comp usage \"Eisvervuller \" as E2  <<(T,blue) part>> [[psysml:96399ad8-0de9-49e2-8876-cd81b9189836 ]] {\r\n",
       "- - attributes - -\r\n",
       "aantal: Number\r\n",
       "}\r\n",
       "}\r\n",
       "@enduml\r\n",
       "\n",
       "PlantUML version 1.2020.13(Sat Jun 13 05:26:38 PDT 2020)\n",
       "(EPL source distribution)\n",
       "Java Runtime: OpenJDK Runtime Environment\n",
       "JVM: OpenJDK 64-Bit Server VM\n",
       "Default Encoding: UTF-8\n",
       "Language: en\n",
       "Country: US\n",
       "--></g></svg>"
      ]
     },
     "execution_count": 23,
     "metadata": {},
     "output_type": "execute_result"
    }
   ],
   "source": [
    "%viz Eisenallocatie"
   ]
  },
  {
   "cell_type": "markdown",
   "id": "92627cf4",
   "metadata": {},
   "source": [
    "## Functies en functiehierarchy \n",
    "\n",
    "Binnen de GWW sector wordt vaak de aanpak van 'functioneel specificeren' gebruikt. Hiertoe wordt een functiehierarchie of functieboom opgezet. Aan die functies kunnen dan eisen worden gekoppeld.  In SysML v2 kan deze op de volgende manier worden gespecificeerd."
   ]
  },
  {
   "cell_type": "code",
   "execution_count": 24,
   "id": "bcf2bfc4",
   "metadata": {},
   "outputs": [
    {
     "data": {
      "text/plain": [
       "Package Functieboom (6ad76da0-f5e7-4629-bdfd-35c7bd4a3c12)\n"
      ]
     },
     "execution_count": 24,
     "metadata": {},
     "output_type": "execute_result"
    }
   ],
   "source": [
    "package Functieboom {\n",
    "    \n",
    "    action topfunctie {\n",
    "        import Eisen::*;\n",
    "        \n",
    "        action deelfunctie1 {\n",
    "            satisfy 'Een eerste requirement';\n",
    "        }\n",
    "        \n",
    "        action deelfunctie2 {\n",
    "            satisfy 'Een tweede requirement';\n",
    "        }\n",
    "        \n",
    "        // De volgorde van uitvoering, inclusief beslissingen etc. zou verder \n",
    "        // uitgewerkt kunnen worden. Voor laten deelfunctie2 volgen op deelfunctie1\n",
    "        first deelfunctie1 then deelfunctie2;\n",
    "    }\n",
    "}"
   ]
  },
  {
   "cell_type": "code",
   "execution_count": 25,
   "id": "52af9bb1",
   "metadata": {},
   "outputs": [
    {
     "data": {
      "image/svg+xml": [
       "<?xml version=\"1.0\" encoding=\"UTF-8\" standalone=\"no\"?><svg xmlns=\"http://www.w3.org/2000/svg\" xmlns:xlink=\"http://www.w3.org/1999/xlink\" contentScriptType=\"application/ecmascript\" contentStyleType=\"text/css\" height=\"298px\" preserveAspectRatio=\"none\" style=\"width:206px;height:298px;\" version=\"1.1\" viewBox=\"0 0 206 298\" width=\"206px\" zoomAndPan=\"magnify\"><defs/><g><!--MD5=[fbc87193dbaf4d95561dea2c320d4a47]\n",
       "cluster E1--><a href=\"psysml:6ad76da0-f5e7-4629-bdfd-35c7bd4a3c12\" target=\"_top\" title=\"psysml:6ad76da0-f5e7-4629-bdfd-35c7bd4a3c12\" xlink:actuate=\"onRequest\" xlink:href=\"psysml:6ad76da0-f5e7-4629-bdfd-35c7bd4a3c12\" xlink:show=\"new\" xlink:title=\"psysml:6ad76da0-f5e7-4629-bdfd-35c7bd4a3c12\" xlink:type=\"simple\"><polygon fill=\"#FFFFFF\" points=\"16,6,124,6,131,28.2969,184,28.2969,184,286,16,286,16,6\" style=\"stroke: #000000; stroke-width: 1.5;\"/><line style=\"stroke: #000000; stroke-width: 1.5;\" x1=\"16\" x2=\"131\" y1=\"28.2969\" y2=\"28.2969\"/><text fill=\"#000000\" font-family=\"sans-serif\" font-size=\"14\" font-weight=\"bold\" lengthAdjust=\"spacingAndGlyphs\" textLength=\"102\" x=\"20\" y=\"20.9951\">Functieboom</text></a><!--MD5=[e4f7fae6ed58524ba242bb0b0d3be6b7]\n",
       "cluster E2--><a href=\"psysml:a63e61e9-64fa-4977-814c-73fe5998af4b\" target=\"_top\" title=\"psysml:a63e61e9-64fa-4977-814c-73fe5998af4b\" xlink:actuate=\"onRequest\" xlink:href=\"psysml:a63e61e9-64fa-4977-814c-73fe5998af4b\" xlink:show=\"new\" xlink:title=\"psysml:a63e61e9-64fa-4977-814c-73fe5998af4b\" xlink:type=\"simple\"><rect fill=\"#FFFFFF\" height=\"213\" id=\"E2\" rx=\"10\" ry=\"10\" style=\"stroke: #383838; stroke-width: 1.5;\" width=\"120\" x=\"40\" y=\"49\"/><rect fill=\"#F8F8F8\" height=\"37.9375\" rx=\"10\" ry=\"10\" style=\"stroke: #F8F8F8; stroke-width: 1.5;\" width=\"120\" x=\"40\" y=\"49\"/><rect fill=\"#F8F8F8\" height=\"10\" style=\"stroke: #F8F8F8; stroke-width: 1.5;\" width=\"120\" x=\"40\" y=\"76.9375\"/><rect fill=\"none\" height=\"213\" id=\"E2\" rx=\"10\" ry=\"10\" style=\"stroke: #383838; stroke-width: 1.5;\" width=\"120\" x=\"40\" y=\"49\"/><text fill=\"#000000\" font-family=\"sans-serif\" font-size=\"12\" font-style=\"italic\" lengthAdjust=\"spacingAndGlyphs\" textLength=\"53\" x=\"73.5\" y=\"65.1387\">«action»</text><text fill=\"#000000\" font-family=\"sans-serif\" font-size=\"12\" lengthAdjust=\"spacingAndGlyphs\" textLength=\"64\" x=\"68\" y=\"79.1074\">topfunctie</text><line style=\"stroke: #383838; stroke-width: 1.0;\" x1=\"40\" x2=\"160\" y1=\"86.9375\" y2=\"86.9375\"/></a><g id=\"E1.E2.E3\"><a href=\"psysml:0c7e3bea-28ca-42bd-bec8-4f142ff998ab\" target=\"_top\" title=\"psysml:0c7e3bea-28ca-42bd-bec8-4f142ff998ab\" xlink:actuate=\"onRequest\" xlink:href=\"psysml:0c7e3bea-28ca-42bd-bec8-4f142ff998ab\" xlink:show=\"new\" xlink:title=\"psysml:0c7e3bea-28ca-42bd-bec8-4f142ff998ab\" xlink:type=\"simple\"><rect fill=\"#FFFFFF\" height=\"42.9375\" id=\"E3\" rx=\"10\" ry=\"10\" style=\"stroke: #383838; stroke-width: 1.5;\" width=\"89\" x=\"55.5\" y=\"100\"/><rect fill=\"#F8F8F8\" height=\"37.9375\" rx=\"10\" ry=\"10\" style=\"stroke: #F8F8F8; stroke-width: 1.5;\" width=\"89\" x=\"55.5\" y=\"100\"/><rect fill=\"#F8F8F8\" height=\"10\" style=\"stroke: #F8F8F8; stroke-width: 1.5;\" width=\"89\" x=\"55.5\" y=\"127.9375\"/><rect fill=\"none\" height=\"42.9375\" id=\"E3\" rx=\"10\" ry=\"10\" style=\"stroke: #383838; stroke-width: 1.5;\" width=\"89\" x=\"55.5\" y=\"100\"/><text fill=\"#000000\" font-family=\"sans-serif\" font-size=\"12\" font-style=\"italic\" lengthAdjust=\"spacingAndGlyphs\" textLength=\"53\" x=\"73.5\" y=\"116.1387\">«action»</text><text fill=\"#000000\" font-family=\"sans-serif\" font-size=\"12\" lengthAdjust=\"spacingAndGlyphs\" textLength=\"78\" x=\"61\" y=\"130.1074\">deelfunctie1</text></a></g><g id=\"E1.E2.E4\"><a href=\"psysml:f055118f-25dc-4b9d-895a-8e71dff5cb83\" target=\"_top\" title=\"psysml:f055118f-25dc-4b9d-895a-8e71dff5cb83\" xlink:actuate=\"onRequest\" xlink:href=\"psysml:f055118f-25dc-4b9d-895a-8e71dff5cb83\" xlink:show=\"new\" xlink:title=\"psysml:f055118f-25dc-4b9d-895a-8e71dff5cb83\" xlink:type=\"simple\"><rect fill=\"#FFFFFF\" height=\"42.9375\" id=\"E4\" rx=\"10\" ry=\"10\" style=\"stroke: #383838; stroke-width: 1.5;\" width=\"89\" x=\"55.5\" y=\"203\"/><rect fill=\"#F8F8F8\" height=\"37.9375\" rx=\"10\" ry=\"10\" style=\"stroke: #F8F8F8; stroke-width: 1.5;\" width=\"89\" x=\"55.5\" y=\"203\"/><rect fill=\"#F8F8F8\" height=\"10\" style=\"stroke: #F8F8F8; stroke-width: 1.5;\" width=\"89\" x=\"55.5\" y=\"230.9375\"/><rect fill=\"none\" height=\"42.9375\" id=\"E4\" rx=\"10\" ry=\"10\" style=\"stroke: #383838; stroke-width: 1.5;\" width=\"89\" x=\"55.5\" y=\"203\"/><text fill=\"#000000\" font-family=\"sans-serif\" font-size=\"12\" font-style=\"italic\" lengthAdjust=\"spacingAndGlyphs\" textLength=\"53\" x=\"73.5\" y=\"219.1387\">«action»</text><text fill=\"#000000\" font-family=\"sans-serif\" font-size=\"12\" lengthAdjust=\"spacingAndGlyphs\" textLength=\"78\" x=\"61\" y=\"233.1074\">deelfunctie2</text></a></g><!--MD5=[af87c684e3b0d8be13c1a698a818ef1e]\n",
       "link E3 to E4--><a href=\"psysml:ec0ca995-5721-4239-ac59-19e141b16137\" target=\"_top\" title=\"psysml:ec0ca995-5721-4239-ac59-19e141b16137\" xlink:actuate=\"onRequest\" xlink:href=\"psysml:ec0ca995-5721-4239-ac59-19e141b16137\" xlink:show=\"new\" xlink:title=\"psysml:ec0ca995-5721-4239-ac59-19e141b16137\" xlink:type=\"simple\"><path d=\"M100,143.43 C100,159.24 100,181.03 100,197.88 \" fill=\"none\" id=\"E3-&gt;E4\" style=\"stroke: #383838; stroke-width: 1.0;\"/><polygon fill=\"#383838\" points=\"100,202.95,104,193.95,100,197.95,96,193.95,100,202.95\" style=\"stroke: #383838; stroke-width: 1.0;\"/><text fill=\"#000000\" font-family=\"sans-serif\" font-size=\"13\" lengthAdjust=\"spacingAndGlyphs\" textLength=\"7\" x=\"92.0156\" y=\"191.874\">*</text></a><!--MD5=[55986f46948e352ee3b7cc90a4d61d44]\n",
       "@startuml\r\n",
       "skinparam monochrome true\r\n",
       "skinparam classbackgroundcolor white\r\n",
       "skinparam shadowing false\r\n",
       "skinparam wrapWidth 300\r\n",
       "hide circle\r\n",
       "\r\n",
       "package \"Functieboom\" as E1  [[psysml:6ad76da0-f5e7-4629-bdfd-35c7bd4a3c12 ]]  {\r\n",
       "rec usage \"topfunctie\" as E2  <<(T,blue) action>> [[psysml:a63e61e9-64fa-4977-814c-73fe5998af4b ]] {\r\n",
       "rec usage \"deelfunctie1\" as E3  <<(T,blue) action>> [[psysml:0c7e3bea-28ca-42bd-bec8-4f142ff998ab ]] {\r\n",
       "}\r\n",
       "\r\n",
       "rec usage \"deelfunctie2\" as E4  <<(T,blue) action>> [[psysml:f055118f-25dc-4b9d-895a-8e71dff5cb83 ]] {\r\n",
       "}\r\n",
       "\r\n",
       "}\r\n",
       "\r\n",
       "}\r\n",
       "E3 - -> \"*\"E4 [[psysml:ec0ca995-5721-4239-ac59-19e141b16137 ]] \r\n",
       "@enduml\r\n",
       "\n",
       "PlantUML version 1.2020.13(Sat Jun 13 05:26:38 PDT 2020)\n",
       "(EPL source distribution)\n",
       "Java Runtime: OpenJDK Runtime Environment\n",
       "JVM: OpenJDK 64-Bit Server VM\n",
       "Default Encoding: UTF-8\n",
       "Language: en\n",
       "Country: US\n",
       "--></g></svg>"
      ]
     },
     "execution_count": 25,
     "metadata": {},
     "output_type": "execute_result"
    }
   ],
   "source": [
    "%viz Functieboom"
   ]
  },
  {
   "cell_type": "markdown",
   "id": "5f768f6c",
   "metadata": {},
   "source": [
    "`note: de multipliciteit in bovenstaand diagram is mogelijk het gevolg van prototype blues.`"
   ]
  },
  {
   "cell_type": "markdown",
   "id": "d6608a51",
   "metadata": {},
   "source": [
    "## Functieallocatie\n",
    "    \n",
    "Een functiehierarchie en *objectenhierarchie* worden meestal simultaan opgebouwd. Korte(re) namen hiervoor zijn functieboom en objectenboom."
   ]
  },
  {
   "cell_type": "code",
   "execution_count": 26,
   "id": "fb5f97a6",
   "metadata": {},
   "outputs": [
    {
     "data": {
      "text/plain": [
       "Package objectenboom (79a1c209-cc5c-4c0d-8681-72a67cd6b966)\n"
      ]
     },
     "execution_count": 26,
     "metadata": {},
     "output_type": "execute_result"
    }
   ],
   "source": [
    "package objectenboom {\n",
    "    import Functieboom::*;\n",
    "    \n",
    "    part systeem {\n",
    "        perform topfunctie;\n",
    "            \n",
    "        part subsysteem1{\n",
    "            perform topfunctie.deelfunctie1;\n",
    "        }\n",
    "        part subsysteem2 {\n",
    "            perform topfunctie.deelfunctie2;\n",
    "        }\n",
    "    }\n",
    "    \n",
    "}"
   ]
  },
  {
   "cell_type": "code",
   "execution_count": 27,
   "id": "2d5a81a3",
   "metadata": {},
   "outputs": [
    {
     "data": {
      "image/svg+xml": [
       "<?xml version=\"1.0\" encoding=\"UTF-8\" standalone=\"no\"?><svg xmlns=\"http://www.w3.org/2000/svg\" xmlns:xlink=\"http://www.w3.org/1999/xlink\" contentScriptType=\"application/ecmascript\" contentStyleType=\"text/css\" height=\"345px\" preserveAspectRatio=\"none\" style=\"width:635px;height:345px;\" version=\"1.1\" viewBox=\"0 0 635 345\" width=\"635px\" zoomAndPan=\"magnify\"><defs/><g><!--MD5=[fbc87193dbaf4d95561dea2c320d4a47]\n",
       "cluster E1--><a href=\"psysml:79a1c209-cc5c-4c0d-8681-72a67cd6b966\" target=\"_top\" title=\"psysml:79a1c209-cc5c-4c0d-8681-72a67cd6b966\" xlink:actuate=\"onRequest\" xlink:href=\"psysml:79a1c209-cc5c-4c0d-8681-72a67cd6b966\" xlink:show=\"new\" xlink:title=\"psysml:79a1c209-cc5c-4c0d-8681-72a67cd6b966\" xlink:type=\"simple\"><polygon fill=\"#FFFFFF\" points=\"16,6,135,6,142,28.2969,613,28.2969,613,333.5,16,333.5,16,6\" style=\"stroke: #000000; stroke-width: 1.5;\"/><line style=\"stroke: #000000; stroke-width: 1.5;\" x1=\"16\" x2=\"142\" y1=\"28.2969\" y2=\"28.2969\"/><text fill=\"#000000\" font-family=\"sans-serif\" font-size=\"14\" font-weight=\"bold\" lengthAdjust=\"spacingAndGlyphs\" textLength=\"113\" x=\"20\" y=\"20.9951\">objectenboom</text></a><!--MD5=[d5e69f78d87373223dbae638b30a9c99]\n",
       "cluster E3--><a href=\"psysml:94a3e414-8beb-48df-be76-cb5ecab8ccda\" target=\"_top\" title=\"psysml:94a3e414-8beb-48df-be76-cb5ecab8ccda\" xlink:actuate=\"onRequest\" xlink:href=\"psysml:94a3e414-8beb-48df-be76-cb5ecab8ccda\" xlink:show=\"new\" xlink:title=\"psysml:94a3e414-8beb-48df-be76-cb5ecab8ccda\" xlink:type=\"simple\"><rect fill=\"#FFFFFF\" height=\"126\" id=\"E3\" rx=\"10\" ry=\"10\" style=\"stroke: #383838; stroke-width: 1.5;\" width=\"301\" x=\"280\" y=\"111\"/><rect fill=\"#F8F8F8\" height=\"37.9375\" rx=\"10\" ry=\"10\" style=\"stroke: #F8F8F8; stroke-width: 1.5;\" width=\"301\" x=\"280\" y=\"111\"/><rect fill=\"#F8F8F8\" height=\"10\" style=\"stroke: #F8F8F8; stroke-width: 1.5;\" width=\"301\" x=\"280\" y=\"138.9375\"/><rect fill=\"none\" height=\"126\" id=\"E3\" rx=\"10\" ry=\"10\" style=\"stroke: #383838; stroke-width: 1.5;\" width=\"301\" x=\"280\" y=\"111\"/><text fill=\"#000000\" font-family=\"sans-serif\" font-size=\"12\" font-style=\"italic\" lengthAdjust=\"spacingAndGlyphs\" textLength=\"106\" x=\"377.5\" y=\"127.1387\">«perform action»</text><text fill=\"#000000\" font-family=\"sans-serif\" font-size=\"12\" lengthAdjust=\"spacingAndGlyphs\" textLength=\"64\" x=\"398.5\" y=\"141.1074\">topfunctie</text><line style=\"stroke: #383838; stroke-width: 1.0;\" x1=\"280\" x2=\"581\" y1=\"148.9375\" y2=\"148.9375\"/></a><!--MD5=[b4997ac47864f28c2f74865a473b2911]\n",
       "class E2--><a href=\"psysml:91ed8fe3-fed3-466f-a73d-e0fe170934f5\" target=\"_top\" title=\"psysml:91ed8fe3-fed3-466f-a73d-e0fe170934f5\" xlink:actuate=\"onRequest\" xlink:href=\"psysml:91ed8fe3-fed3-466f-a73d-e0fe170934f5\" xlink:show=\"new\" xlink:title=\"psysml:91ed8fe3-fed3-466f-a73d-e0fe170934f5\" xlink:type=\"simple\"><rect fill=\"#FFFFFF\" height=\"45.9375\" id=\"E2\" rx=\"10\" ry=\"10\" style=\"stroke: #383838; stroke-width: 1.5;\" width=\"62\" x=\"175\" y=\"41\"/><text fill=\"#000000\" font-family=\"sans-serif\" font-size=\"12\" font-style=\"italic\" lengthAdjust=\"spacingAndGlyphs\" textLength=\"40\" x=\"186\" y=\"57.1387\">«part»</text><text fill=\"#000000\" font-family=\"sans-serif\" font-size=\"12\" lengthAdjust=\"spacingAndGlyphs\" textLength=\"52\" x=\"178\" y=\"71.1074\">systeem</text><line style=\"stroke: #383838; stroke-width: 1.5;\" x1=\"176\" x2=\"236\" y1=\"78.9375\" y2=\"78.9375\"/></a><!--MD5=[60a26617385b1d2d0262a64233df1f8d]\n",
       "class E6--><a href=\"psysml:46b31b9a-9b07-48c2-99db-f3835b838d57\" target=\"_top\" title=\"psysml:46b31b9a-9b07-48c2-99db-f3835b838d57\" xlink:actuate=\"onRequest\" xlink:href=\"psysml:46b31b9a-9b07-48c2-99db-f3835b838d57\" xlink:show=\"new\" xlink:title=\"psysml:46b31b9a-9b07-48c2-99db-f3835b838d57\" xlink:type=\"simple\"><rect fill=\"#FFFFFF\" height=\"45.9375\" id=\"E6\" rx=\"10\" ry=\"10\" style=\"stroke: #383838; stroke-width: 1.5;\" width=\"93\" x=\"31.5\" y=\"168.5\"/><text fill=\"#000000\" font-family=\"sans-serif\" font-size=\"12\" font-style=\"italic\" lengthAdjust=\"spacingAndGlyphs\" textLength=\"40\" x=\"58\" y=\"184.6387\">«part»</text><text fill=\"#000000\" font-family=\"sans-serif\" font-size=\"12\" lengthAdjust=\"spacingAndGlyphs\" textLength=\"83\" x=\"34.5\" y=\"198.6074\">subsysteem1</text><line style=\"stroke: #383838; stroke-width: 1.5;\" x1=\"32.5\" x2=\"123.5\" y1=\"206.4375\" y2=\"206.4375\"/></a><!--MD5=[b9389687b975829384b498ac4b7476b2]\n",
       "class E8--><a href=\"psysml:21d8c215-dc1a-4493-9009-8715bd3e8990\" target=\"_top\" title=\"psysml:21d8c215-dc1a-4493-9009-8715bd3e8990\" xlink:actuate=\"onRequest\" xlink:href=\"psysml:21d8c215-dc1a-4493-9009-8715bd3e8990\" xlink:show=\"new\" xlink:title=\"psysml:21d8c215-dc1a-4493-9009-8715bd3e8990\" xlink:type=\"simple\"><rect fill=\"#FFFFFF\" height=\"45.9375\" id=\"E8\" rx=\"10\" ry=\"10\" style=\"stroke: #383838; stroke-width: 1.5;\" width=\"93\" x=\"159.5\" y=\"168.5\"/><text fill=\"#000000\" font-family=\"sans-serif\" font-size=\"12\" font-style=\"italic\" lengthAdjust=\"spacingAndGlyphs\" textLength=\"40\" x=\"186\" y=\"184.6387\">«part»</text><text fill=\"#000000\" font-family=\"sans-serif\" font-size=\"12\" lengthAdjust=\"spacingAndGlyphs\" textLength=\"83\" x=\"162.5\" y=\"198.6074\">subsysteem2</text><line style=\"stroke: #383838; stroke-width: 1.5;\" x1=\"160.5\" x2=\"251.5\" y1=\"206.4375\" y2=\"206.4375\"/></a><g id=\"E1.E3.E4\"><a href=\"psysml:f055118f-25dc-4b9d-895a-8e71dff5cb83\" target=\"_top\" title=\"psysml:f055118f-25dc-4b9d-895a-8e71dff5cb83\" xlink:actuate=\"onRequest\" xlink:href=\"psysml:f055118f-25dc-4b9d-895a-8e71dff5cb83\" xlink:show=\"new\" xlink:title=\"psysml:f055118f-25dc-4b9d-895a-8e71dff5cb83\" xlink:type=\"simple\"><rect fill=\"#FFFFFF\" height=\"42.9375\" id=\"E4\" rx=\"10\" ry=\"10\" style=\"stroke: #383838; stroke-width: 1.5;\" width=\"99\" x=\"457.5\" y=\"170\"/><rect fill=\"#F8F8F8\" height=\"37.9375\" rx=\"10\" ry=\"10\" style=\"stroke: #F8F8F8; stroke-width: 1.5;\" width=\"99\" x=\"457.5\" y=\"170\"/><rect fill=\"#F8F8F8\" height=\"10\" style=\"stroke: #F8F8F8; stroke-width: 1.5;\" width=\"99\" x=\"457.5\" y=\"197.9375\"/><rect fill=\"none\" height=\"42.9375\" id=\"E4\" rx=\"10\" ry=\"10\" style=\"stroke: #383838; stroke-width: 1.5;\" width=\"99\" x=\"457.5\" y=\"170\"/><text fill=\"#000000\" font-family=\"sans-serif\" font-size=\"12\" font-style=\"italic\" lengthAdjust=\"spacingAndGlyphs\" textLength=\"53\" x=\"480.5\" y=\"186.1387\">«action»</text><text fill=\"#000000\" font-family=\"sans-serif\" font-size=\"12\" lengthAdjust=\"spacingAndGlyphs\" textLength=\"88\" x=\"463\" y=\"200.1074\">^deelfunctie2</text></a></g><g id=\"E1.E3.E5\"><a href=\"psysml:0c7e3bea-28ca-42bd-bec8-4f142ff998ab\" target=\"_top\" title=\"psysml:0c7e3bea-28ca-42bd-bec8-4f142ff998ab\" xlink:actuate=\"onRequest\" xlink:href=\"psysml:0c7e3bea-28ca-42bd-bec8-4f142ff998ab\" xlink:show=\"new\" xlink:title=\"psysml:0c7e3bea-28ca-42bd-bec8-4f142ff998ab\" xlink:type=\"simple\"><rect fill=\"#FFFFFF\" height=\"42.9375\" id=\"E5\" rx=\"10\" ry=\"10\" style=\"stroke: #383838; stroke-width: 1.5;\" width=\"99\" x=\"323.5\" y=\"170\"/><rect fill=\"#F8F8F8\" height=\"37.9375\" rx=\"10\" ry=\"10\" style=\"stroke: #F8F8F8; stroke-width: 1.5;\" width=\"99\" x=\"323.5\" y=\"170\"/><rect fill=\"#F8F8F8\" height=\"10\" style=\"stroke: #F8F8F8; stroke-width: 1.5;\" width=\"99\" x=\"323.5\" y=\"197.9375\"/><rect fill=\"none\" height=\"42.9375\" id=\"E5\" rx=\"10\" ry=\"10\" style=\"stroke: #383838; stroke-width: 1.5;\" width=\"99\" x=\"323.5\" y=\"170\"/><text fill=\"#000000\" font-family=\"sans-serif\" font-size=\"12\" font-style=\"italic\" lengthAdjust=\"spacingAndGlyphs\" textLength=\"53\" x=\"346.5\" y=\"186.1387\">«action»</text><text fill=\"#000000\" font-family=\"sans-serif\" font-size=\"12\" lengthAdjust=\"spacingAndGlyphs\" textLength=\"88\" x=\"329\" y=\"200.1074\">^deelfunctie1</text></a></g><g id=\"E1.E7\"><a href=\"psysml:bf5164ad-43b1-4daa-8675-c1fa42099128\" target=\"_top\" title=\"psysml:bf5164ad-43b1-4daa-8675-c1fa42099128\" xlink:actuate=\"onRequest\" xlink:href=\"psysml:bf5164ad-43b1-4daa-8675-c1fa42099128\" xlink:show=\"new\" xlink:title=\"psysml:bf5164ad-43b1-4daa-8675-c1fa42099128\" xlink:type=\"simple\"><rect fill=\"#FFFFFF\" height=\"42.9375\" id=\"E7\" rx=\"10\" ry=\"10\" style=\"stroke: #383838; stroke-width: 1.5;\" width=\"113\" x=\"32.5\" y=\"274.5\"/><rect fill=\"#F8F8F8\" height=\"37.9375\" rx=\"10\" ry=\"10\" style=\"stroke: #F8F8F8; stroke-width: 1.5;\" width=\"113\" x=\"32.5\" y=\"274.5\"/><rect fill=\"#F8F8F8\" height=\"10\" style=\"stroke: #F8F8F8; stroke-width: 1.5;\" width=\"113\" x=\"32.5\" y=\"302.4375\"/><rect fill=\"none\" height=\"42.9375\" id=\"E7\" rx=\"10\" ry=\"10\" style=\"stroke: #383838; stroke-width: 1.5;\" width=\"113\" x=\"32.5\" y=\"274.5\"/><text fill=\"#000000\" font-family=\"sans-serif\" font-size=\"12\" font-style=\"italic\" lengthAdjust=\"spacingAndGlyphs\" textLength=\"106\" x=\"36\" y=\"290.6387\">«perform action»</text><text fill=\"#000000\" font-family=\"sans-serif\" font-size=\"12\" lengthAdjust=\"spacingAndGlyphs\" textLength=\"78\" x=\"50\" y=\"304.6074\">deelfunctie1</text></a></g><g id=\"E1.E9\"><a href=\"psysml:2a566f28-437b-492e-98cd-83b4f5784ad6\" target=\"_top\" title=\"psysml:2a566f28-437b-492e-98cd-83b4f5784ad6\" xlink:actuate=\"onRequest\" xlink:href=\"psysml:2a566f28-437b-492e-98cd-83b4f5784ad6\" xlink:show=\"new\" xlink:title=\"psysml:2a566f28-437b-492e-98cd-83b4f5784ad6\" xlink:type=\"simple\"><rect fill=\"#FFFFFF\" height=\"42.9375\" id=\"E9\" rx=\"10\" ry=\"10\" style=\"stroke: #383838; stroke-width: 1.5;\" width=\"113\" x=\"180.5\" y=\"274.5\"/><rect fill=\"#F8F8F8\" height=\"37.9375\" rx=\"10\" ry=\"10\" style=\"stroke: #F8F8F8; stroke-width: 1.5;\" width=\"113\" x=\"180.5\" y=\"274.5\"/><rect fill=\"#F8F8F8\" height=\"10\" style=\"stroke: #F8F8F8; stroke-width: 1.5;\" width=\"113\" x=\"180.5\" y=\"302.4375\"/><rect fill=\"none\" height=\"42.9375\" id=\"E9\" rx=\"10\" ry=\"10\" style=\"stroke: #383838; stroke-width: 1.5;\" width=\"113\" x=\"180.5\" y=\"274.5\"/><text fill=\"#000000\" font-family=\"sans-serif\" font-size=\"12\" font-style=\"italic\" lengthAdjust=\"spacingAndGlyphs\" textLength=\"106\" x=\"184\" y=\"290.6387\">«perform action»</text><text fill=\"#000000\" font-family=\"sans-serif\" font-size=\"12\" lengthAdjust=\"spacingAndGlyphs\" textLength=\"78\" x=\"198\" y=\"304.6074\">deelfunctie2</text></a></g><!--MD5=[209b3feb70ccb6233bfe1053d122c12c]\n",
       "reverse link E2 to E3--><a href=\"psysml:f1e2870a-2586-4a79-853b-d8b674828c2a\" target=\"_top\" title=\"psysml:f1e2870a-2586-4a79-853b-d8b674828c2a\" xlink:actuate=\"onRequest\" xlink:href=\"psysml:f1e2870a-2586-4a79-853b-d8b674828c2a\" xlink:show=\"new\" xlink:title=\"psysml:f1e2870a-2586-4a79-853b-d8b674828c2a\" xlink:type=\"simple\"><path d=\"M250.11,72.35 C263.08,76.75 275.94,83.77 284,95 C287.0488,99.2463 289.4078,103.8934 291.2007,108.7786 C291.4249,109.3893 291.6401,110.0036 291.8468,110.6214 \" fill=\"none\" id=\"E2&lt;-E3\" style=\"stroke: #383838; stroke-width: 1.0;\"/><polygon fill=\"#FFFFFF\" points=\"237.27,68.77,241.9783,74.2319,248.8309,71.9865,244.1226,66.5246,237.27,68.77\" style=\"stroke: #383838; stroke-width: 1.0;\"/><text fill=\"#000000\" font-family=\"sans-serif\" font-size=\"13\" lengthAdjust=\"spacingAndGlyphs\" textLength=\"7\" x=\"281.01\" y=\"187.5269\">*</text></a><!--MD5=[ce036f65110ae2351ccce5a81dc2e928]\n",
       "reverse link E2 to E6--><a href=\"psysml:75958fa8-9d21-4fe9-bab5-b1d145729623\" target=\"_top\" title=\"psysml:75958fa8-9d21-4fe9-bab5-b1d145729623\" xlink:actuate=\"onRequest\" xlink:href=\"psysml:75958fa8-9d21-4fe9-bab5-b1d145729623\" xlink:show=\"new\" xlink:title=\"psysml:75958fa8-9d21-4fe9-bab5-b1d145729623\" xlink:type=\"simple\"><path d=\"M162.77,81.3 C155.41,85.16 148.16,89.71 142,95 C118.07,115.54 99.3,147.1 88.44,168.26 \" fill=\"none\" id=\"E2&lt;-E6\" style=\"stroke: #383838; stroke-width: 1.0;\"/><polygon fill=\"#FFFFFF\" points=\"174.69,75.66,167.5556,74.611,163.8433,80.7931,170.9777,81.8421,174.69,75.66\" style=\"stroke: #383838; stroke-width: 1.0;\"/><text fill=\"#000000\" font-family=\"sans-serif\" font-size=\"13\" lengthAdjust=\"spacingAndGlyphs\" textLength=\"8\" x=\"82.0903\" y=\"157.4748\">1</text></a><!--MD5=[3f50a3473f1dfb74d3f76443e03635af]\n",
       "reverse link E6 to E7--><a href=\"psysml:74fb19be-f06c-48b6-bccc-a1fa9f7e2e59\" target=\"_top\" title=\"psysml:74fb19be-f06c-48b6-bccc-a1fa9f7e2e59\" xlink:actuate=\"onRequest\" xlink:href=\"psysml:74fb19be-f06c-48b6-bccc-a1fa9f7e2e59\" xlink:show=\"new\" xlink:title=\"psysml:74fb19be-f06c-48b6-bccc-a1fa9f7e2e59\" xlink:type=\"simple\"><path d=\"M81.82,228.11 C83.47,243.5 85.35,260.97 86.77,274.2 \" fill=\"none\" id=\"E6&lt;-E7\" style=\"stroke: #383838; stroke-width: 1.0;\"/><polygon fill=\"#FFFFFF\" points=\"80.39,214.74,77.0522,221.1321,81.6689,226.6717,85.0067,220.2795,80.39,214.74\" style=\"stroke: #383838; stroke-width: 1.0;\"/><text fill=\"#000000\" font-family=\"sans-serif\" font-size=\"13\" lengthAdjust=\"spacingAndGlyphs\" textLength=\"7\" x=\"78.2301\" y=\"263.4188\">*</text></a><!--MD5=[65f962d72b3a6bed1ede4f3c867e43a4]\n",
       "reverse link E2 to E8--><a href=\"psysml:4ae9ba4e-0447-4f51-bd0e-ed7d1a74232e\" target=\"_top\" title=\"psysml:4ae9ba4e-0447-4f51-bd0e-ed7d1a74232e\" xlink:actuate=\"onRequest\" xlink:href=\"psysml:4ae9ba4e-0447-4f51-bd0e-ed7d1a74232e\" xlink:show=\"new\" xlink:title=\"psysml:4ae9ba4e-0447-4f51-bd0e-ed7d1a74232e\" xlink:type=\"simple\"><path d=\"M206,100.2 C206,121.98 206,149.3 206,168.15 \" fill=\"none\" id=\"E2&lt;-E8\" style=\"stroke: #383838; stroke-width: 1.0;\"/><polygon fill=\"#FFFFFF\" points=\"206,87.15,202,93.15,206,99.15,210,93.15,206,87.15\" style=\"stroke: #383838; stroke-width: 1.0;\"/><text fill=\"#000000\" font-family=\"sans-serif\" font-size=\"13\" lengthAdjust=\"spacingAndGlyphs\" textLength=\"8\" x=\"196.975\" y=\"157.3366\">1</text></a><!--MD5=[22f5b4bae7e060dce8a1c8021efdb95b]\n",
       "reverse link E8 to E9--><a href=\"psysml:75bc8666-b2ce-4d20-95f9-f5f3133b79ce\" target=\"_top\" title=\"psysml:75bc8666-b2ce-4d20-95f9-f5f3133b79ce\" xlink:actuate=\"onRequest\" xlink:href=\"psysml:75bc8666-b2ce-4d20-95f9-f5f3133b79ce\" xlink:show=\"new\" xlink:title=\"psysml:75bc8666-b2ce-4d20-95f9-f5f3133b79ce\" xlink:type=\"simple\"><path d=\"M216.63,227.64 C221.32,243.14 226.67,260.84 230.71,274.2 \" fill=\"none\" id=\"E8&lt;-E9\" style=\"stroke: #383838; stroke-width: 1.0;\"/><polygon fill=\"#FFFFFF\" points=\"212.73,214.74,210.6329,221.6394,216.1951,226.2288,218.2922,219.3294,212.73,214.74\" style=\"stroke: #383838; stroke-width: 1.0;\"/><text fill=\"#000000\" font-family=\"sans-serif\" font-size=\"13\" lengthAdjust=\"spacingAndGlyphs\" textLength=\"7\" x=\"221.0789\" y=\"263.4188\">*</text></a><!--MD5=[96571b77f50471665cb2b5b4645d3b5a]\n",
       "@startuml\r\n",
       "skinparam monochrome true\r\n",
       "skinparam classbackgroundcolor white\r\n",
       "skinparam shadowing false\r\n",
       "skinparam wrapWidth 300\r\n",
       "hide circle\r\n",
       "\r\n",
       "package \"objectenboom\" as E1  [[psysml:79a1c209-cc5c-4c0d-8681-72a67cd6b966 ]]  {\r\n",
       "comp usage \"systeem \" as E2  <<(T,blue) part>> [[psysml:91ed8fe3-fed3-466f-a73d-e0fe170934f5 ]] {\r\n",
       "}\r\n",
       "rec usage \"topfunctie\" as E3 << perform action>> [[psysml:94a3e414-8beb-48df-be76-cb5ecab8ccda ]] {\r\n",
       "rec usage \"^deelfunctie2\" as E4  <<(T,blue) action>> [[psysml:f055118f-25dc-4b9d-895a-8e71dff5cb83 ]] {\r\n",
       "}\r\n",
       "\r\n",
       "rec usage \"^deelfunctie1\" as E5  <<(T,blue) action>> [[psysml:0c7e3bea-28ca-42bd-bec8-4f142ff998ab ]] {\r\n",
       "}\r\n",
       "\r\n",
       "}\r\n",
       "\r\n",
       "comp usage \"subsysteem1 \" as E6  <<(T,blue) part>> [[psysml:46b31b9a-9b07-48c2-99db-f3835b838d57 ]] {\r\n",
       "}\r\n",
       "rec usage \"deelfunctie1\" as E7 << perform action>> [[psysml:bf5164ad-43b1-4daa-8675-c1fa42099128 ]] {\r\n",
       "}\r\n",
       "\r\n",
       "comp usage \"subsysteem2 \" as E8  <<(T,blue) part>> [[psysml:21d8c215-dc1a-4493-9009-8715bd3e8990 ]] {\r\n",
       "}\r\n",
       "rec usage \"deelfunctie2\" as E9 << perform action>> [[psysml:2a566f28-437b-492e-98cd-83b4f5784ad6 ]] {\r\n",
       "}\r\n",
       "\r\n",
       "}\r\n",
       "E2 o- - \"*\"E3 [[psysml:f1e2870a-2586-4a79-853b-d8b674828c2a ]] \r\n",
       "E2 o- - \"1\"E6 [[psysml:75958fa8-9d21-4fe9-bab5-b1d145729623 ]] \r\n",
       "E6 o- - \"*\"E7 [[psysml:74fb19be-f06c-48b6-bccc-a1fa9f7e2e59 ]] \r\n",
       "E2 o- - \"1\"E8 [[psysml:4ae9ba4e-0447-4f51-bd0e-ed7d1a74232e ]] \r\n",
       "E8 o- - \"*\"E9 [[psysml:75bc8666-b2ce-4d20-95f9-f5f3133b79ce ]] \r\n",
       "@enduml\r\n",
       "\n",
       "PlantUML version 1.2020.13(Sat Jun 13 05:26:38 PDT 2020)\n",
       "(EPL source distribution)\n",
       "Java Runtime: OpenJDK Runtime Environment\n",
       "JVM: OpenJDK 64-Bit Server VM\n",
       "Default Encoding: UTF-8\n",
       "Language: en\n",
       "Country: US\n",
       "--></g></svg>"
      ]
     },
     "execution_count": 27,
     "metadata": {},
     "output_type": "execute_result"
    }
   ],
   "source": [
    "%viz objectenboom"
   ]
  },
  {
   "cell_type": "code",
   "execution_count": 28,
   "id": "8b6266ec",
   "metadata": {},
   "outputs": [
    {
     "data": {
      "text/plain": [
       "Package voorbeeld (aef1d517-47b2-4f0f-9deb-5c9b968e6389)\n"
      ]
     },
     "execution_count": 28,
     "metadata": {},
     "output_type": "execute_result"
    }
   ],
   "source": [
    "package voorbeeld { \n",
    "    package Objecten_voorbeeld {\n",
    "\n",
    "        part systeem {\n",
    "\n",
    "        }\n",
    "    }\n",
    "\n",
    "    package Eisen_voorbeeld  {\n",
    "        requirement <'EIS_000x'> 'Een_eis' {\n",
    "        /* Het systeem dient blah te doen */\n",
    "        }\n",
    "    }\n",
    "\n",
    "    package Functies_voorbeeld {\n",
    "        action functie {\n",
    "\n",
    "        }\n",
    "    }\n",
    "\n",
    "    dependency from Functies_voorbeeld, Objecten_voorbeeld  to Eisen_voorbeeld;\n",
    "    \n",
    "    package Allocatie {\n",
    "        import Objecten_voorbeeld::*;\n",
    "        import Eisen_voorbeeld::*;\n",
    "        import Functies_voorbeeld::*;\n",
    "\n",
    "        allocate functie to systeem;\n",
    "    }\n",
    "}"
   ]
  },
  {
   "cell_type": "code",
   "execution_count": 29,
   "id": "89d4dc0c",
   "metadata": {},
   "outputs": [
    {
     "data": {
      "image/svg+xml": [
       "<?xml version=\"1.0\" encoding=\"UTF-8\" standalone=\"no\"?><svg xmlns=\"http://www.w3.org/2000/svg\" xmlns:xlink=\"http://www.w3.org/1999/xlink\" contentScriptType=\"application/ecmascript\" contentStyleType=\"text/css\" height=\"761px\" preserveAspectRatio=\"none\" style=\"width:419px;height:761px;\" version=\"1.1\" viewBox=\"0 0 419 761\" width=\"419px\" zoomAndPan=\"magnify\"><defs/><g><!--MD5=[fbc87193dbaf4d95561dea2c320d4a47]\n",
       "cluster E1--><a href=\"psysml:aef1d517-47b2-4f0f-9deb-5c9b968e6389\" target=\"_top\" title=\"psysml:aef1d517-47b2-4f0f-9deb-5c9b968e6389\" xlink:actuate=\"onRequest\" xlink:href=\"psysml:aef1d517-47b2-4f0f-9deb-5c9b968e6389\" xlink:show=\"new\" xlink:title=\"psysml:aef1d517-47b2-4f0f-9deb-5c9b968e6389\" xlink:type=\"simple\"><polygon fill=\"#FFFFFF\" points=\"16,6,102,6,109,28.2969,397,28.2969,397,749,16,749,16,6\" style=\"stroke: #000000; stroke-width: 1.5;\"/><line style=\"stroke: #000000; stroke-width: 1.5;\" x1=\"16\" x2=\"109\" y1=\"28.2969\" y2=\"28.2969\"/><text fill=\"#000000\" font-family=\"sans-serif\" font-size=\"14\" font-weight=\"bold\" lengthAdjust=\"spacingAndGlyphs\" textLength=\"80\" x=\"20\" y=\"20.9951\">voorbeeld</text></a><!--MD5=[e4f7fae6ed58524ba242bb0b0d3be6b7]\n",
       "cluster E2--><a href=\"psysml:81c5f15e-8814-4d2b-8b10-18a59d3165c7\" target=\"_top\" title=\"psysml:81c5f15e-8814-4d2b-8b10-18a59d3165c7\" xlink:actuate=\"onRequest\" xlink:href=\"psysml:81c5f15e-8814-4d2b-8b10-18a59d3165c7\" xlink:show=\"new\" xlink:title=\"psysml:81c5f15e-8814-4d2b-8b10-18a59d3165c7\" xlink:type=\"simple\"><polygon fill=\"#FFFFFF\" points=\"82,340,246,340,253,362.2969,256,362.2969,256,453,82,453,82,340\" style=\"stroke: #000000; stroke-width: 1.5;\"/><line style=\"stroke: #000000; stroke-width: 1.5;\" x1=\"82\" x2=\"253\" y1=\"362.2969\" y2=\"362.2969\"/><text fill=\"#000000\" font-family=\"sans-serif\" font-size=\"14\" font-weight=\"bold\" lengthAdjust=\"spacingAndGlyphs\" textLength=\"158\" x=\"86\" y=\"354.9951\">Objecten_voorbeeld</text></a><!--MD5=[f6df4d0ebaf0b5dfb2ced0ae5af7c670]\n",
       "cluster E4--><a href=\"psysml:4070568d-524f-4b07-986a-a58556901937\" target=\"_top\" title=\"psysml:4070568d-524f-4b07-986a-a58556901937\" xlink:actuate=\"onRequest\" xlink:href=\"psysml:4070568d-524f-4b07-986a-a58556901937\" xlink:show=\"new\" xlink:title=\"psysml:4070568d-524f-4b07-986a-a58556901937\" xlink:type=\"simple\"><polygon fill=\"#FFFFFF\" points=\"62,518,197,518,204,540.2969,365,540.2969,365,717,62,717,62,518\" style=\"stroke: #000000; stroke-width: 1.5;\"/><line style=\"stroke: #000000; stroke-width: 1.5;\" x1=\"62\" x2=\"204\" y1=\"540.2969\" y2=\"540.2969\"/><text fill=\"#000000\" font-family=\"sans-serif\" font-size=\"14\" font-weight=\"bold\" lengthAdjust=\"spacingAndGlyphs\" textLength=\"129\" x=\"66\" y=\"532.9951\">Eisen_voorbeeld</text></a><!--MD5=[168fadf3d0c3fd93dd5d6da1b1d7ab76]\n",
       "cluster E7--><a href=\"psysml:9a53c695-9c9d-4027-94ad-129b9dd32ff3\" target=\"_top\" title=\"psysml:9a53c695-9c9d-4027-94ad-129b9dd32ff3\" xlink:actuate=\"onRequest\" xlink:href=\"psysml:9a53c695-9c9d-4027-94ad-129b9dd32ff3\" xlink:show=\"new\" xlink:title=\"psysml:9a53c695-9c9d-4027-94ad-129b9dd32ff3\" xlink:type=\"simple\"><polygon fill=\"#FFFFFF\" points=\"195,165,355,165,362,187.2969,365,187.2969,365,275,195,275,195,165\" style=\"stroke: #000000; stroke-width: 1.5;\"/><line style=\"stroke: #000000; stroke-width: 1.5;\" x1=\"195\" x2=\"362\" y1=\"187.2969\" y2=\"187.2969\"/><text fill=\"#000000\" font-family=\"sans-serif\" font-size=\"14\" font-weight=\"bold\" lengthAdjust=\"spacingAndGlyphs\" textLength=\"154\" x=\"199\" y=\"179.9951\">Functies_voorbeeld</text></a><!--MD5=[09b614a08d8cba4a07c9adeb5e0fee81]\n",
       "class E3--><a href=\"psysml:11f2d7d7-2a79-475f-a35f-36e74335757e\" target=\"_top\" title=\"psysml:11f2d7d7-2a79-475f-a35f-36e74335757e\" xlink:actuate=\"onRequest\" xlink:href=\"psysml:11f2d7d7-2a79-475f-a35f-36e74335757e\" xlink:show=\"new\" xlink:title=\"psysml:11f2d7d7-2a79-475f-a35f-36e74335757e\" xlink:type=\"simple\"><rect fill=\"#FFFFFF\" height=\"45.9375\" id=\"E3\" rx=\"10\" ry=\"10\" style=\"stroke: #383838; stroke-width: 1.5;\" width=\"62\" x=\"170\" y=\"383\"/><text fill=\"#000000\" font-family=\"sans-serif\" font-size=\"12\" font-style=\"italic\" lengthAdjust=\"spacingAndGlyphs\" textLength=\"40\" x=\"181\" y=\"399.1387\">«part»</text><text fill=\"#000000\" font-family=\"sans-serif\" font-size=\"12\" lengthAdjust=\"spacingAndGlyphs\" textLength=\"52\" x=\"173\" y=\"413.1074\">systeem</text><line style=\"stroke: #383838; stroke-width: 1.5;\" x1=\"171\" x2=\"231\" y1=\"420.9375\" y2=\"420.9375\"/></a><!--MD5=[270fce915f116d4de14055a7c1d9a0f3]\n",
       "class E5--><a href=\"psysml:ec4ac55e-7e99-40c4-bd51-c097e3332585\" target=\"_top\" title=\"psysml:ec4ac55e-7e99-40c4-bd51-c097e3332585\" xlink:actuate=\"onRequest\" xlink:href=\"psysml:ec4ac55e-7e99-40c4-bd51-c097e3332585\" xlink:show=\"new\" xlink:title=\"psysml:ec4ac55e-7e99-40c4-bd51-c097e3332585\" xlink:type=\"simple\"><rect fill=\"#FFFFFF\" height=\"45.9375\" id=\"E5\" rx=\"10\" ry=\"10\" style=\"stroke: #383838; stroke-width: 1.5;\" width=\"144\" x=\"151\" y=\"647\"/><text fill=\"#000000\" font-family=\"sans-serif\" font-size=\"12\" font-style=\"italic\" lengthAdjust=\"spacingAndGlyphs\" textLength=\"91\" x=\"177.5\" y=\"663.1387\">«requirement»</text><text fill=\"#000000\" font-family=\"sans-serif\" font-size=\"12\" lengthAdjust=\"spacingAndGlyphs\" textLength=\"0\" x=\"158\" y=\"677.1074\"/><text fill=\"#000000\" font-family=\"sans-serif\" font-size=\"12\" font-weight=\"bold\" lengthAdjust=\"spacingAndGlyphs\" textLength=\"78\" x=\"158\" y=\"677.1074\">&lt;EIS_000x&gt;</text><text fill=\"#000000\" font-family=\"sans-serif\" font-size=\"12\" lengthAdjust=\"spacingAndGlyphs\" textLength=\"48\" x=\"240\" y=\"677.1074\">Een_eis</text><line style=\"stroke: #383838; stroke-width: 1.5;\" x1=\"152\" x2=\"294\" y1=\"684.9375\" y2=\"684.9375\"/></a><path d=\"M105,561 L105,586.1328 A0,0 0 0 0 105,586.1328 L219,586.1328 L223,646.86 L227,586.1328 L341,586.1328 A0,0 0 0 0 341,586.1328 L341,571 L331,561 L105,561 A0,0 0 0 0 105,561 \" fill=\"#ECECEC\" style=\"stroke: #383838; stroke-width: 1.0;\"/><path d=\"M331,561 L331,571 L341,571 L331,561 \" fill=\"#ECECEC\" style=\"stroke: #383838; stroke-width: 1.0;\"/><a href=\"psysml:65c747f8-7099-495e-8e3d-25f1885e256a\" target=\"_top\" title=\"psysml:65c747f8-7099-495e-8e3d-25f1885e256a\" xlink:actuate=\"onRequest\" xlink:href=\"psysml:65c747f8-7099-495e-8e3d-25f1885e256a\" xlink:show=\"new\" xlink:title=\"psysml:65c747f8-7099-495e-8e3d-25f1885e256a\" xlink:type=\"simple\"><text fill=\"#1C1C1C\" font-family=\"sans-serif\" font-size=\"13\" lengthAdjust=\"spacingAndGlyphs\" text-decoration=\"underline\" textLength=\"13\" x=\"111\" y=\"578.0669\">@</text></a><text fill=\"#000000\" font-family=\"sans-serif\" font-size=\"13\" lengthAdjust=\"spacingAndGlyphs\" textLength=\"202\" x=\"124\" y=\"578.0669\">Het systeem dient blah te doen</text><g id=\"E1.E7.E8\"><a href=\"psysml:93a7ba29-9ca0-4d8a-9060-08366b9b6d09\" target=\"_top\" title=\"psysml:93a7ba29-9ca0-4d8a-9060-08366b9b6d09\" xlink:actuate=\"onRequest\" xlink:href=\"psysml:93a7ba29-9ca0-4d8a-9060-08366b9b6d09\" xlink:show=\"new\" xlink:title=\"psysml:93a7ba29-9ca0-4d8a-9060-08366b9b6d09\" xlink:type=\"simple\"><rect fill=\"#FFFFFF\" height=\"42.9375\" id=\"E8\" rx=\"10\" ry=\"10\" style=\"stroke: #383838; stroke-width: 1.5;\" width=\"60\" x=\"219\" y=\"208\"/><rect fill=\"#F8F8F8\" height=\"37.9375\" rx=\"10\" ry=\"10\" style=\"stroke: #F8F8F8; stroke-width: 1.5;\" width=\"60\" x=\"219\" y=\"208\"/><rect fill=\"#F8F8F8\" height=\"10\" style=\"stroke: #F8F8F8; stroke-width: 1.5;\" width=\"60\" x=\"219\" y=\"235.9375\"/><rect fill=\"none\" height=\"42.9375\" id=\"E8\" rx=\"10\" ry=\"10\" style=\"stroke: #383838; stroke-width: 1.5;\" width=\"60\" x=\"219\" y=\"208\"/><text fill=\"#000000\" font-family=\"sans-serif\" font-size=\"12\" font-style=\"italic\" lengthAdjust=\"spacingAndGlyphs\" textLength=\"53\" x=\"222.5\" y=\"224.1387\">«action»</text><text fill=\"#000000\" font-family=\"sans-serif\" font-size=\"12\" lengthAdjust=\"spacingAndGlyphs\" textLength=\"43\" x=\"227.5\" y=\"238.1074\">functie</text></a></g><a href=\"psysml:0b3d67ce-dbbf-4e47-a567-1e8f19559e34\" target=\"_top\" title=\"psysml:0b3d67ce-dbbf-4e47-a567-1e8f19559e34\" xlink:actuate=\"onRequest\" xlink:href=\"psysml:0b3d67ce-dbbf-4e47-a567-1e8f19559e34\" xlink:show=\"new\" xlink:title=\"psysml:0b3d67ce-dbbf-4e47-a567-1e8f19559e34\" xlink:type=\"simple\"><polygon fill=\"#FFFFFF\" points=\"60.5,41,133.5,41,140.5,63.2969,147.5,63.2969,147.5,93.5938,60.5,93.5938,60.5,41\" style=\"stroke: #000000; stroke-width: 1.5;\"/><line style=\"stroke: #000000; stroke-width: 1.5;\" x1=\"60.5\" x2=\"140.5\" y1=\"63.2969\" y2=\"63.2969\"/><text fill=\"#000000\" font-family=\"sans-serif\" font-size=\"14\" font-weight=\"bold\" lengthAdjust=\"spacingAndGlyphs\" textLength=\"67\" x=\"64.5\" y=\"55.9951\">Allocatie</text></a><!--MD5=[6bdd27f9905911a7e892a3dc65cf6b7c]\n",
       "link E7 to E4--><a href=\"psysml:508d596c-fd36-4d56-9f6a-6a77b5f45e76\" target=\"_top\" title=\"psysml:508d596c-fd36-4d56-9f6a-6a77b5f45e76\" xlink:actuate=\"onRequest\" xlink:href=\"psysml:508d596c-fd36-4d56-9f6a-6a77b5f45e76\" xlink:show=\"new\" xlink:title=\"psysml:508d596c-fd36-4d56-9f6a-6a77b5f45e76\" xlink:type=\"simple\"><path d=\"M314.0705,275.5462 C313.99,276.7731 313.904,278.0185 313.8123,279.2816 C313.629,281.8077 313.4227,284.4045 313.191,287.0651 C312.2642,297.7077 310.93,309.3722 309.0225,321.6238 C301.3925,370.63 284.59,429.03 248,469 C226.82,492.14 212.58,487.03 182,494 C161.78,498.61 104.91,488.69 89,502 C85.9863,504.5213 83.4238,507.4656 81.2474,510.6937 C80.1592,512.3077 79.1676,513.9927 78.2644,515.7311 C78.0385,516.1657 77.8183,516.6037 77.6034,517.0447 C77.4959,517.2652 77.3898,517.4865 77.2851,517.7085 \" fill=\"none\" id=\"E7-&gt;E4\" style=\"stroke: #383838; stroke-width: 1.0; stroke-dasharray: 7.0,7.0;\"/><polygon fill=\"#383838\" points=\"77.2851,517.7085,83.4121,511.7537,77.9859,509.1933,77.2851,517.7085\" style=\"stroke: #383838; stroke-width: 1.0;\"/><text fill=\"#000000\" font-family=\"sans-serif\" font-size=\"13\" lengthAdjust=\"spacingAndGlyphs\" textLength=\"64\" x=\"309\" y=\"410.5669\">«depend»</text></a><!--MD5=[4d03bb2d0377dc85ccfab60ff574652b]\n",
       "link E2 to E4--><a href=\"psysml:508d596c-fd36-4d56-9f6a-6a77b5f45e76\" target=\"_top\" title=\"psysml:508d596c-fd36-4d56-9f6a-6a77b5f45e76\" xlink:actuate=\"onRequest\" xlink:href=\"psysml:508d596c-fd36-4d56-9f6a-6a77b5f45e76\" xlink:show=\"new\" xlink:title=\"psysml:508d596c-fd36-4d56-9f6a-6a77b5f45e76\" xlink:type=\"simple\"><path d=\"M116.9274,453.1703 C116.9106,453.2768 116.8937,453.3832 116.8766,453.4897 C116.8424,453.7026 116.8076,453.9154 116.7722,454.1281 C116.4886,455.8298 116.1643,457.5253 115.7949,459.2043 C115.0559,462.5625 114.1363,465.855 113,469 C106.84,486.06 96.82,485.64 89,502 C87.305,505.545 85.7419,509.2653 84.3035,513.0665 C83.944,514.0168 83.5922,514.9721 83.2481,515.931 C83.076,516.4105 82.9059,516.8909 82.7377,517.3719 C82.6956,517.4922 82.6537,517.6125 82.6119,517.7329 \" fill=\"none\" id=\"E2-&gt;E4\" style=\"stroke: #383838; stroke-width: 1.0; stroke-dasharray: 7.0,7.0;\"/><polygon fill=\"#383838\" points=\"82.6119,517.7329,88.0713,511.1606,82.4037,509.1914,82.6119,517.7329\" style=\"stroke: #383838; stroke-width: 1.0;\"/><text fill=\"#000000\" font-family=\"sans-serif\" font-size=\"13\" lengthAdjust=\"spacingAndGlyphs\" textLength=\"64\" x=\"109\" y=\"490.0669\">«depend»</text></a><!--MD5=[5c3bb36fe832a92c7f0e1807dd65209d]\n",
       "link E9 to E2--><a href=\"psysml:c6959e43-bb13-493a-974d-3ef6ea343072\" target=\"_top\" title=\"psysml:c6959e43-bb13-493a-974d-3ef6ea343072\" xlink:actuate=\"onRequest\" xlink:href=\"psysml:c6959e43-bb13-493a-974d-3ef6ea343072\" xlink:show=\"new\" xlink:title=\"psysml:c6959e43-bb13-493a-974d-3ef6ea343072\" xlink:type=\"simple\"><path d=\"M108.71,94.29 C118.39,148.61 139.27,273.34 135,316 C134.5138,320.8625 133.8813,325.8525 133.1451,330.8678 C132.777,333.3755 132.3829,335.8895 131.9683,338.397 C131.9165,338.7104 131.8643,339.0238 131.8119,339.337 C131.7857,339.4936 131.7593,339.6502 131.733,339.8067 \" fill=\"none\" id=\"E9-&gt;E2\" style=\"stroke: #383838; stroke-width: 1.0; stroke-dasharray: 7.0,7.0;\"/><polygon fill=\"#383838\" points=\"131.733,339.8067,137.1732,331.5967,132.564,334.8763,129.2844,330.2671,131.733,339.8067\" style=\"stroke: #383838; stroke-width: 1.0;\"/><text fill=\"#000000\" font-family=\"sans-serif\" font-size=\"13\" lengthAdjust=\"spacingAndGlyphs\" textLength=\"65\" x=\"136\" y=\"234.0669\">«import»*</text></a><!--MD5=[c2be97adba6ddfe1c8f349fab141c927]\n",
       "link E9 to E4--><a href=\"psysml:fc91da55-2316-4661-b1ab-79e08c4ab0af\" target=\"_top\" title=\"psysml:fc91da55-2316-4661-b1ab-79e08c4ab0af\" xlink:actuate=\"onRequest\" xlink:href=\"psysml:fc91da55-2316-4661-b1ab-79e08c4ab0af\" xlink:show=\"new\" xlink:title=\"psysml:fc91da55-2316-4661-b1ab-79e08c4ab0af\" xlink:type=\"simple\"><path d=\"M97.45,94.2 C87.02,136.53 67.12,223.76 60,299 C54.36,358.6 56.695,425.7875 60.52,478.655 C61.4762,491.8719 62.5256,504.1938 63.5668,515.2783 C63.6319,515.9711 63.6969,516.6591 63.7619,517.3421 \" fill=\"none\" id=\"E9-&gt;E4\" style=\"stroke: #383838; stroke-width: 1.0; stroke-dasharray: 7.0,7.0;\"/><polygon fill=\"#383838\" points=\"63.7619,517.3421,66.8915,508.0037,63.2883,512.3646,58.9275,508.7614,63.7619,517.3421\" style=\"stroke: #383838; stroke-width: 1.0;\"/><text fill=\"#000000\" font-family=\"sans-serif\" font-size=\"13\" lengthAdjust=\"spacingAndGlyphs\" textLength=\"65\" x=\"61\" y=\"312.0669\">«import»*</text></a><!--MD5=[cf04703ca05eebef50f1cfe8b03e143b]\n",
       "link E9 to E7--><a href=\"psysml:4246c53b-36fa-4a73-85be-bf316bcf8ebe\" target=\"_top\" title=\"psysml:4246c53b-36fa-4a73-85be-bf316bcf8ebe\" xlink:actuate=\"onRequest\" xlink:href=\"psysml:4246c53b-36fa-4a73-85be-bf316bcf8ebe\" xlink:show=\"new\" xlink:title=\"psysml:4246c53b-36fa-4a73-85be-bf316bcf8ebe\" xlink:type=\"simple\"><path d=\"M147.8,75.37 C191.45,84.53 257.27,105.03 295,149 C297.8738,152.3488 300.3448,156.0522 302.4687,159.9753 C302.9996,160.9561 303.5089,161.9506 303.9973,162.9567 C304.2415,163.4598 304.4805,163.9658 304.7143,164.4744 C304.7728,164.6015 304.831,164.7289 304.8888,164.8563 \" fill=\"none\" id=\"E9-&gt;E7\" style=\"stroke: #383838; stroke-width: 1.0; stroke-dasharray: 7.0,7.0;\"/><polygon fill=\"#383838\" points=\"304.8888,164.8563,304.813,155.0078,302.823,160.3031,297.5277,158.3131,304.8888,164.8563\" style=\"stroke: #383838; stroke-width: 1.0;\"/><text fill=\"#000000\" font-family=\"sans-serif\" font-size=\"13\" lengthAdjust=\"spacingAndGlyphs\" textLength=\"65\" x=\"288\" y=\"137.0669\">«import»*</text></a><!--MD5=[95fa686b5a16158bcdbcaeead89f639b]\n",
       "link E8 to E3--><a href=\"psysml:0aee5ddd-e9b7-4927-8fb1-35d0ccb3a346\" target=\"_top\" title=\"psysml:0aee5ddd-e9b7-4927-8fb1-35d0ccb3a346\" xlink:actuate=\"onRequest\" xlink:href=\"psysml:0aee5ddd-e9b7-4927-8fb1-35d0ccb3a346\" xlink:show=\"new\" xlink:title=\"psysml:0aee5ddd-e9b7-4927-8fb1-35d0ccb3a346\" xlink:type=\"simple\"><path d=\"M243.31,251.2 C234.62,282.78 218.06,343 208.43,377.98 \" fill=\"none\" id=\"E8-&gt;E3\" style=\"stroke: #383838; stroke-width: 1.0; stroke-dasharray: 1.0,3.0;\"/><polygon fill=\"#383838\" points=\"207.06,382.95,213.3043,375.3336,208.3864,378.1292,205.5909,373.2113,207.06,382.95\" style=\"stroke: #383838; stroke-width: 1.0;\"/><text fill=\"#000000\" font-family=\"sans-serif\" font-size=\"13\" lengthAdjust=\"spacingAndGlyphs\" textLength=\"7\" x=\"200.748\" y=\"371.8328\">*</text></a><!--MD5=[cdd99a83bb87c0a37f54ec2ee8608cce]\n",
       "@startuml\r\n",
       "skinparam monochrome true\r\n",
       "skinparam classbackgroundcolor white\r\n",
       "skinparam shadowing false\r\n",
       "skinparam wrapWidth 300\r\n",
       "hide circle\r\n",
       "\r\n",
       "package \"voorbeeld\" as E1  [[psysml:aef1d517-47b2-4f0f-9deb-5c9b968e6389 ]]  {\r\n",
       "package \"Objecten_voorbeeld\" as E2  [[psysml:81c5f15e-8814-4d2b-8b10-18a59d3165c7 ]]  {\r\n",
       "comp usage \"systeem \" as E3  <<(T,blue) part>> [[psysml:11f2d7d7-2a79-475f-a35f-36e74335757e ]] {\r\n",
       "}\r\n",
       "}\r\n",
       "package \"Eisen_voorbeeld\" as E4  [[psysml:4070568d-524f-4b07-986a-a58556901937 ]]  {\r\n",
       "comp usage \" <b>~<EIS_000x></b> Een_eis \" as E5  <<(T,blue) requirement>> [[psysml:ec4ac55e-7e99-40c4-bd51-c097e3332585 ]] {\r\n",
       "}\r\n",
       "note as E6\r\n",
       "[[psysml:65c747f8-7099-495e-8e3d-25f1885e256a @]]Het systeem dient blah te doen\r\n",
       "end note \r\n",
       "}\r\n",
       "package \"Functies_voorbeeld\" as E7  [[psysml:9a53c695-9c9d-4027-94ad-129b9dd32ff3 ]]  {\r\n",
       "rec usage \"functie\" as E8  <<(T,blue) action>> [[psysml:93a7ba29-9ca0-4d8a-9060-08366b9b6d09 ]] {\r\n",
       "}\r\n",
       "\r\n",
       "}\r\n",
       "package \"Allocatie\" as E9  [[psysml:0b3d67ce-dbbf-4e47-a567-1e8f19559e34 ]]  {\r\n",
       "}\r\n",
       "}\r\n",
       "E6 .. E5 [[psysml:65c747f8-7099-495e-8e3d-25f1885e256a ]] \r\n",
       "E7 ..>> E4 [[psysml:508d596c-fd36-4d56-9f6a-6a77b5f45e76 ]] : <<depend>>\r\n",
       "E2 ..>> E4 [[psysml:508d596c-fd36-4d56-9f6a-6a77b5f45e76 ]] : <<depend>>\r\n",
       "E9 ..> E2 [[psysml:c6959e43-bb13-493a-974d-3ef6ea343072 ]] : <<import>>*\r\n",
       "E9 ..> E4 [[psysml:fc91da55-2316-4661-b1ab-79e08c4ab0af ]] : <<import>>*\r\n",
       "E9 ..> E7 [[psysml:4246c53b-36fa-4a73-85be-bf316bcf8ebe ]] : <<import>>*\r\n",
       "E8 -[thickness=5,dotted]-> \"*\"E3 [[psysml:0aee5ddd-e9b7-4927-8fb1-35d0ccb3a346 ]] \r\n",
       "@enduml\r\n",
       "\n",
       "PlantUML version 1.2020.13(Sat Jun 13 05:26:38 PDT 2020)\n",
       "(EPL source distribution)\n",
       "Java Runtime: OpenJDK Runtime Environment\n",
       "JVM: OpenJDK 64-Bit Server VM\n",
       "Default Encoding: UTF-8\n",
       "Language: en\n",
       "Country: US\n",
       "--></g></svg>"
      ]
     },
     "execution_count": 29,
     "metadata": {},
     "output_type": "execute_result"
    }
   ],
   "source": [
    "%viz voorbeeld"
   ]
  },
  {
   "cell_type": "code",
   "execution_count": null,
   "id": "6ed74c70",
   "metadata": {},
   "outputs": [],
   "source": []
  }
 ],
 "metadata": {
  "kernelspec": {
   "display_name": "SysML",
   "language": "sysml",
   "name": "sysml"
  },
  "language_info": {
   "codemirror_mode": "sysml",
   "file_extension": ".sysml",
   "mimetype": "text/x-sysml",
   "name": "SysML",
   "pygments_lexer": "java",
   "version": "1.0.0"
  }
 },
 "nbformat": 4,
 "nbformat_minor": 5
}
