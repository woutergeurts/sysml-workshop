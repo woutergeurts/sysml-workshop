{
 "cells": [
  {
   "cell_type": "markdown",
   "id": "d87ee19c",
   "metadata": {},
   "source": [
    "# Wasson's Operating Environment Architecture\n",
    "\n",
    "Eric Burgers (Semapro), Rene Krouwel (CGI), Wouter Geurts (CGI)\n",
    "0.0.1-rc1\n",
    "\n",
    "## Starten met systeemdefinitie\n",
    "In het algemeen zal, voordat een systeem wordt uitgewerkt, de **omgeving** van een systeem in kaart worden gebracht. Een correcte identificatie van de omgeving heeft de volgende voordelen:\n",
    "\n",
    "- De systeemgrenzen zijn correct vastgesteld, en daardoor is ook bekend wat **wel** en **niet** tot het systeem behoort;\n",
    "- De **externe** raakvlakken zin identificeerbaar doordat de systeemgrenzen bekend zijn;\n",
    "- Door expliciet te werken met de systeemgrenzen kan ook precies bepaald worden **welk** probleem een systeem moet oplossen.\n",
    "\n",
    "Vaak worden de systeemgrenzen geidentificeerd in een z.g. contextdiagram. Een context diagram kan *formeel* of *informeel* worden opgeschreven. Een voorbeeld van een informeel contextdiagram komt uit de Landelijke Tunnelstandaard:\n",
    "\n",
    "![infomele context](rws-tunnel-context.png)\n",
    "\n",
    "Alhoewel een informeel contextdiagram helpt bij de afbakening van een systeem, blijven veel vragen over:\n",
    "\n",
    "- Wat zijn de externe raakvlakken, *precies*, van het systeem dat ontwikkeld moet worden?\n",
    "- Maken we 1 systeem of een *system of systems*?\n",
    "- Hoe gaan we om met tijdelijke- of hulpsystemen?\n",
    "- Hoe gaan we om met belanghebbenden (*stakeholders*) en hun voorwaarden voor de toepassing van het systeem?\n",
    "- Wat is de relatie tussen het systeem en bijvoorbeeld de bedrijfsprocessen (operationele procedures, onderhoud, etc.)\n",
    "- Hoe gaan we om met standaarden waaraan het systeem moet voldoen\n",
    "- Zijn er behalve contextsystemen (denk aan nutsvoorzieningen, weginfrastructuur, etc.) ook nog andere factoren waar rekening mee gehouden moet worden (bijvoorbeeld omgevingscondities)?"
   ]
  },
  {
   "cell_type": "markdown",
   "id": "8bdba6de",
   "metadata": {},
   "source": [
    "## Een veelgebruik contextsysteem\n",
    "Een open, door de mens gemaakt systeem (de system of interest, of SOI) is altijd onderdeel van een groter geheel, de operationele omgeving. Die operationele omgeving wordt vaak getekend met een contextdiagram. In dat contextdiagram worden dan vaak allerlei contextsystemen en -objecten getekend die een relatie hebben met het SOI. \n",
    "\n",
    "Een voorbeeld is:  \n",
    "![sysmlcontext](context-sysml.png)\n"
   ]
  },
  {
   "cell_type": "markdown",
   "id": "64021413",
   "metadata": {},
   "source": [
    "De intentie van bovenstaande contextdiagram is goed. De soorten omgevingselementen die vaak voorkomen in de<e contextdiagrammen zijn:\n",
    "- Gebruikers (met een directe interactie);\n",
    "- Personen die gebruik maken van de diensten van het systeem zonder rechtstreekse interactie;\n",
    "- Contextsystemen (andere systemen waarmee het systeem een ineractie heeft);\n",
    "- Organisaties.  \n",
    "\n",
    "Deze contextdiagrammen ontstaan vaak door brainstorm-sessies, of worden *ad hoc* opgesteld. Elk omgevingselement op het resulterende contextdiagram suggereert dat het SOI een extern raakvlak/interface deelt met dat omgevingselement. In een aantal gevallen (bijv. organisatie) is er geen raakvlak/interface maar bepaalt een organisatie meer hoe een systeem gemaakt, gebruikt of beheerd  moet worden. . Maar: zijn alle relevante externe omgevingselementen geidentificeerd? Zijn er niet te veel of te weinig externe systeemelementen gedefinieerd?  \n",
    "\n",
    "Kijkende naar het concrete voorbeeld van een tunnel als SOI, waar is bijvoorbeeld de huidige lichtsterkte gedefinieerd die aanwezig is in de natuurlijke omgeving van die tunnel? Wat te denken van de luchttemperatuur, automobilisten, etc., etc.\n",
    "\n",
    "De vragen die hier gesteld kunnen worden zijn:\n",
    "\n",
    "> Wat zijn de *exacte* systeemgrenzen?  \n",
    "> Door wie of wat worden beperkingen opgelegd op de totstandkoming, gebruik of functioneren van het systeem?"
   ]
  },
  {
   "cell_type": "markdown",
   "id": "6150800e",
   "metadata": {},
   "source": [
    "## Operating Environment Architecture (OEA)\n",
    "Charles Wasson introduceert in zijn boek \"Systems Engineering, Analysis, Design, and Development, 2nd edition\" een raamwerk om de systeemgrenzen exact vast te leggen door middel van  de Operating Environment Architecture. Deze archtiectuur helpt om de factoren die van invloed zijn op het SOI te bepalen op een gestructureerde manier. De OEA is geen strakke template die ingevuld moet worden, maar moet worden gezien als een 'checklist' van aspecten die bekeken moeten worden.\n",
    "\n",
    "![wasson](WassonOEarchitectuur.png)\n",
    "\n"
   ]
  },
  {
   "cell_type": "markdown",
   "id": "a94b595b",
   "metadata": {},
   "source": [
    "### Het \"System Of Interest\n",
    "\n",
    "Het werk (bijv. een project) hoeft niet precies 1 systeem op te leveren. Dat mogen er ook meer zijn, waarvan een aantal systemen tijdelijk of ondersteunend zijn. Wasson noemt dit 'mission system(s)\". Dit systeem, of 'system of systems' interacteren met de buitenwereld maar kent ook interne representaties van dingen in de buitenwereld. Het 'gerealiseerde domein' bestaat alleen als de missiesystemen 'aan' staan en bevat tenminste zaken als bedrijfstoestanden en de representaties van (gemeten) grootheden uit het fysieke omgevingsdomein. \n",
    "\n",
    "### Fysieke omgevingsdomein\n",
    "Dit zijn **alle** 'dingen' die zich in de omgeving van het SOI bevinden en een directe interactie hebben met het SOI. Die 'dingen' zijn opgebouwd uit 3 categorieen:\n",
    "\n",
    "**Mensgemaakte omgevingselementen**\n",
    "Dit zijn de contextsystemen of contextobjecten in de omgeving waarmee energie, materiaal of informatie wordt uitgewisseld. Deze systemen/objecten worden vaak teruggezien in het contextdiagram zoals hierboven benoemd.\n",
    "\n",
    "**Natuurlijke omgevingselementen**\n",
    "Dit zijn alle *natuurlijke systemen en elementen* die van invloed zijn op, of interacteren met het systeem. Denk hierbij aan het atmosferische condities, biologische factoren, rivieren en terreinen.\n",
    "\n",
    "**Geinduceerde omgevingselementen**\n",
    "Dit zijn *fenomenen en/of gebeurtenissen* die optreden als de natuurlijke omgeving interacteert met het SOI. Denk hierbij aan blikseminslag, electromagnetische straling, etc. In plaats van het modelleren/analyseren van bijvoorbeeld het ontstaan van bliksem, kan ook de bliksem zelf worden benoemd. \n",
    "\n",
    "### Hogere orde systemen\n",
    "Elk mensgemaakt systeem bestaat omdat er een rol voor is bedacht in het omvattende systeem of supersysteem. Wasson gebruikt hiervoor de term hogere orde systeem. Deze bestaat in beginsel uit een 4 onderdelen:\n",
    "\n",
    "**Organisatorische elementen**\n",
    "Dit zijn alle rollen (belanghebbenden) binnen het hogere orde systeem, die belang hebben bij de totstandkoming en gebruik van het SOI, maar ook gebruikers, operators, onderhoudspersoneel voor zover die geen onderdeel zijn van het SOI. \n",
    "\n",
    "**Operationele rollen en missies**\n",
    "Dit is de plek waar de operationele scenario's, oftewel het beoogd gebruik zoals gewenst door belanghebbenden wordt gedefinieerd. Het beoogd gebruik is het startpunt voor functionele eisen en use cases.\n",
    "\n",
    "**Operationele beperkingen**\n",
    "Dit zijn de beperkingen die opgelegd zijn aan het te maken SOI, waaronder natuurwetten, wetgeving, procedures en standaarden.\n",
    "\n",
    "**Resources**\n",
    "Hier worden de grondstoffen, investeringen in tijd en geld, en expertise gedefinieerd die nodig zijn voor het ondersteunen van het SOI gedurende de life-cycle.\n",
    "\n"
   ]
  },
  {
   "cell_type": "code",
   "execution_count": null,
   "id": "0381ac9a",
   "metadata": {},
   "outputs": [],
   "source": []
  }
 ],
 "metadata": {
  "kernelspec": {
   "display_name": "SysML",
   "language": "sysml",
   "name": "sysml"
  },
  "language_info": {
   "codemirror_mode": "sysml",
   "file_extension": ".sysml",
   "mimetype": "text/x-sysml",
   "name": "SysML",
   "pygments_lexer": "java",
   "version": "1.0.0"
  }
 },
 "nbformat": 4,
 "nbformat_minor": 5
}
